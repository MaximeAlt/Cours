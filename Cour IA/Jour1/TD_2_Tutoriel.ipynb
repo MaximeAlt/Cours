{
 "cells": [
  {
   "cell_type": "markdown",
   "metadata": {
    "toc": true
   },
   "source": [
    "<h1>Sommaire<span class=\"tocSkip\"></span></h1>\n",
    "<div class=\"toc\"><ul class=\"toc-item\"><li><span><a href=\"#Petit-tutoriel-accompagné-autour-de-Scikit-Learn-et-les-données-de-Boston\" data-toc-modified-id=\"Petit-tutoriel-accompagné-autour-de-Scikit-Learn-et-les-données-de-Boston-1\"><span class=\"toc-item-num\">1&nbsp;&nbsp;</span>Petit tutoriel accompagné autour de Scikit-Learn et les données de Boston</a></span><ul class=\"toc-item\"><li><span><a href=\"#Un-rapide-passage-vers-les-correlations\" data-toc-modified-id=\"Un-rapide-passage-vers-les-correlations-1.1\"><span class=\"toc-item-num\">1.1&nbsp;&nbsp;</span>Un rapide passage vers les correlations</a></span></li></ul></li><li><span><a href=\"#Preprocessing-des-données-:-Normalisation\" data-toc-modified-id=\"Preprocessing-des-données-:-Normalisation-2\"><span class=\"toc-item-num\">2&nbsp;&nbsp;</span>Preprocessing des données : Normalisation</a></span></li><li><span><a href=\"#On-sépare-les-données-dans-2-ensembles\" data-toc-modified-id=\"On-sépare-les-données-dans-2-ensembles-3\"><span class=\"toc-item-num\">3&nbsp;&nbsp;</span>On sépare les données dans 2 ensembles</a></span><ul class=\"toc-item\"><li><span><a href=\"#Régression-Linéaire\" data-toc-modified-id=\"Régression-Linéaire-3.1\"><span class=\"toc-item-num\">3.1&nbsp;&nbsp;</span>Régression Linéaire</a></span></li></ul></li></ul></div>"
   ]
  },
  {
   "cell_type": "markdown",
   "metadata": {},
   "source": [
    "# Petit tutoriel accompagné autour de Scikit-Learn et les données de Boston"
   ]
  },
  {
   "cell_type": "markdown",
   "metadata": {},
   "source": [
    "Vous trouver le guide complet de Scikit-Learn ici\n",
    "https://scikit-learn.org/stable/_downloads/scikit-learn-docs.pdf"
   ]
  },
  {
   "cell_type": "code",
   "execution_count": 1,
   "metadata": {},
   "outputs": [],
   "source": [
    "import pandas as pd\n",
    "from sklearn.datasets import load_boston\n",
    "boston = load_boston()"
   ]
  },
  {
   "cell_type": "code",
   "execution_count": 2,
   "metadata": {},
   "outputs": [],
   "source": [
    "X = pd.DataFrame(boston.data, columns=boston.feature_names)\n",
    "Y = pd.DataFrame(boston.target)"
   ]
  },
  {
   "cell_type": "markdown",
   "metadata": {},
   "source": [
    "Je vérifie qu'il y a bien les données attendu dans le tableau X"
   ]
  },
  {
   "cell_type": "code",
   "execution_count": 24,
   "metadata": {},
   "outputs": [
    {
     "ename": "TypeError",
     "evalue": "'>' not supported between instances of 'list' and 'int'",
     "output_type": "error",
     "traceback": [
      "\u001b[0;31m---------------------------------------------------------------------------\u001b[0m",
      "\u001b[0;31mTypeError\u001b[0m                                 Traceback (most recent call last)",
      "\u001b[0;32m<ipython-input-24-839d11667f9b>\u001b[0m in \u001b[0;36m<module>\u001b[0;34m\u001b[0m\n\u001b[0;32m----> 1\u001b[0;31m \u001b[0mX\u001b[0m\u001b[0;34m[\u001b[0m\u001b[0;34m[\u001b[0m\u001b[0;34m\"CRIM\"\u001b[0m\u001b[0;34m]\u001b[0m \u001b[0;34m>\u001b[0m \u001b[0;36m5\u001b[0m\u001b[0;34m]\u001b[0m\u001b[0;34m.\u001b[0m\u001b[0mplot\u001b[0m\u001b[0;34m.\u001b[0m\u001b[0mbar\u001b[0m\u001b[0;34m(\u001b[0m\u001b[0;34m)\u001b[0m\u001b[0;34m\u001b[0m\u001b[0;34m\u001b[0m\u001b[0m\n\u001b[0m",
      "\u001b[0;31mTypeError\u001b[0m: '>' not supported between instances of 'list' and 'int'"
     ]
    }
   ],
   "source": [
    "X[[\"CRIM\"] > 5].plot.bar()"
   ]
  },
  {
   "cell_type": "markdown",
   "metadata": {},
   "source": [
    "Même chose pour Y"
   ]
  },
  {
   "cell_type": "code",
   "execution_count": 25,
   "metadata": {},
   "outputs": [
    {
     "data": {
      "text/html": [
       "<div>\n",
       "<style scoped>\n",
       "    .dataframe tbody tr th:only-of-type {\n",
       "        vertical-align: middle;\n",
       "    }\n",
       "\n",
       "    .dataframe tbody tr th {\n",
       "        vertical-align: top;\n",
       "    }\n",
       "\n",
       "    .dataframe thead th {\n",
       "        text-align: right;\n",
       "    }\n",
       "</style>\n",
       "<table border=\"1\" class=\"dataframe\">\n",
       "  <thead>\n",
       "    <tr style=\"text-align: right;\">\n",
       "      <th></th>\n",
       "      <th>0</th>\n",
       "    </tr>\n",
       "  </thead>\n",
       "  <tbody>\n",
       "    <tr>\n",
       "      <th>0</th>\n",
       "      <td>24.0</td>\n",
       "    </tr>\n",
       "    <tr>\n",
       "      <th>1</th>\n",
       "      <td>21.6</td>\n",
       "    </tr>\n",
       "    <tr>\n",
       "      <th>2</th>\n",
       "      <td>34.7</td>\n",
       "    </tr>\n",
       "    <tr>\n",
       "      <th>3</th>\n",
       "      <td>33.4</td>\n",
       "    </tr>\n",
       "    <tr>\n",
       "      <th>4</th>\n",
       "      <td>36.2</td>\n",
       "    </tr>\n",
       "    <tr>\n",
       "      <th>...</th>\n",
       "      <td>...</td>\n",
       "    </tr>\n",
       "    <tr>\n",
       "      <th>501</th>\n",
       "      <td>22.4</td>\n",
       "    </tr>\n",
       "    <tr>\n",
       "      <th>502</th>\n",
       "      <td>20.6</td>\n",
       "    </tr>\n",
       "    <tr>\n",
       "      <th>503</th>\n",
       "      <td>23.9</td>\n",
       "    </tr>\n",
       "    <tr>\n",
       "      <th>504</th>\n",
       "      <td>22.0</td>\n",
       "    </tr>\n",
       "    <tr>\n",
       "      <th>505</th>\n",
       "      <td>11.9</td>\n",
       "    </tr>\n",
       "  </tbody>\n",
       "</table>\n",
       "<p>506 rows × 1 columns</p>\n",
       "</div>"
      ],
      "text/plain": [
       "        0\n",
       "0    24.0\n",
       "1    21.6\n",
       "2    34.7\n",
       "3    33.4\n",
       "4    36.2\n",
       "..    ...\n",
       "501  22.4\n",
       "502  20.6\n",
       "503  23.9\n",
       "504  22.0\n",
       "505  11.9\n",
       "\n",
       "[506 rows x 1 columns]"
      ]
     },
     "execution_count": 25,
     "metadata": {},
     "output_type": "execute_result"
    }
   ],
   "source": [
    "Y"
   ]
  },
  {
   "cell_type": "markdown",
   "metadata": {},
   "source": [
    "Je donne un nom de colonne un peu plus parlant pour Y, que 0"
   ]
  },
  {
   "cell_type": "code",
   "execution_count": 26,
   "metadata": {},
   "outputs": [],
   "source": [
    "Y.columns = [\"Prix\"]"
   ]
  },
  {
   "cell_type": "code",
   "execution_count": 27,
   "metadata": {},
   "outputs": [
    {
     "data": {
      "text/html": [
       "<div>\n",
       "<style scoped>\n",
       "    .dataframe tbody tr th:only-of-type {\n",
       "        vertical-align: middle;\n",
       "    }\n",
       "\n",
       "    .dataframe tbody tr th {\n",
       "        vertical-align: top;\n",
       "    }\n",
       "\n",
       "    .dataframe thead th {\n",
       "        text-align: right;\n",
       "    }\n",
       "</style>\n",
       "<table border=\"1\" class=\"dataframe\">\n",
       "  <thead>\n",
       "    <tr style=\"text-align: right;\">\n",
       "      <th></th>\n",
       "      <th>Prix</th>\n",
       "    </tr>\n",
       "  </thead>\n",
       "  <tbody>\n",
       "    <tr>\n",
       "      <th>0</th>\n",
       "      <td>24.0</td>\n",
       "    </tr>\n",
       "    <tr>\n",
       "      <th>1</th>\n",
       "      <td>21.6</td>\n",
       "    </tr>\n",
       "    <tr>\n",
       "      <th>2</th>\n",
       "      <td>34.7</td>\n",
       "    </tr>\n",
       "    <tr>\n",
       "      <th>3</th>\n",
       "      <td>33.4</td>\n",
       "    </tr>\n",
       "    <tr>\n",
       "      <th>4</th>\n",
       "      <td>36.2</td>\n",
       "    </tr>\n",
       "  </tbody>\n",
       "</table>\n",
       "</div>"
      ],
      "text/plain": [
       "   Prix\n",
       "0  24.0\n",
       "1  21.6\n",
       "2  34.7\n",
       "3  33.4\n",
       "4  36.2"
      ]
     },
     "execution_count": 27,
     "metadata": {},
     "output_type": "execute_result"
    }
   ],
   "source": [
    "Y.head()"
   ]
  },
  {
   "cell_type": "markdown",
   "metadata": {},
   "source": [
    "Je copie le tableau X"
   ]
  },
  {
   "cell_type": "code",
   "execution_count": 28,
   "metadata": {},
   "outputs": [],
   "source": [
    "df = X.copy()"
   ]
  },
  {
   "cell_type": "markdown",
   "metadata": {},
   "source": [
    "Je rajoute une colonne dans df"
   ]
  },
  {
   "cell_type": "code",
   "execution_count": 29,
   "metadata": {},
   "outputs": [],
   "source": [
    "#df[\"prix\"] = Y"
   ]
  },
  {
   "cell_type": "markdown",
   "metadata": {},
   "source": [
    "## Un rapide passage vers les correlations"
   ]
  },
  {
   "cell_type": "code",
   "execution_count": 30,
   "metadata": {},
   "outputs": [
    {
     "data": {
      "text/html": [
       "<style  type=\"text/css\" >\n",
       "#T_ea56fd18_3b26_11eb_b11c_b183d620c32brow0_col0,#T_ea56fd18_3b26_11eb_b11c_b183d620c32brow1_col1,#T_ea56fd18_3b26_11eb_b11c_b183d620c32brow2_col2,#T_ea56fd18_3b26_11eb_b11c_b183d620c32brow3_col3,#T_ea56fd18_3b26_11eb_b11c_b183d620c32brow4_col4,#T_ea56fd18_3b26_11eb_b11c_b183d620c32brow5_col5,#T_ea56fd18_3b26_11eb_b11c_b183d620c32brow6_col6,#T_ea56fd18_3b26_11eb_b11c_b183d620c32brow7_col7,#T_ea56fd18_3b26_11eb_b11c_b183d620c32brow8_col8,#T_ea56fd18_3b26_11eb_b11c_b183d620c32brow9_col9,#T_ea56fd18_3b26_11eb_b11c_b183d620c32brow10_col10,#T_ea56fd18_3b26_11eb_b11c_b183d620c32brow11_col11,#T_ea56fd18_3b26_11eb_b11c_b183d620c32brow12_col12{\n",
       "            background-color:  #b40426;\n",
       "            color:  #f1f1f1;\n",
       "        }#T_ea56fd18_3b26_11eb_b11c_b183d620c32brow0_col1,#T_ea56fd18_3b26_11eb_b11c_b183d620c32brow3_col0{\n",
       "            background-color:  #88abfd;\n",
       "            color:  #000000;\n",
       "        }#T_ea56fd18_3b26_11eb_b11c_b183d620c32brow0_col2{\n",
       "            background-color:  #f7bca1;\n",
       "            color:  #000000;\n",
       "        }#T_ea56fd18_3b26_11eb_b11c_b183d620c32brow0_col3{\n",
       "            background-color:  #4b64d5;\n",
       "            color:  #f1f1f1;\n",
       "        }#T_ea56fd18_3b26_11eb_b11c_b183d620c32brow0_col4{\n",
       "            background-color:  #f7b599;\n",
       "            color:  #000000;\n",
       "        }#T_ea56fd18_3b26_11eb_b11c_b183d620c32brow0_col5{\n",
       "            background-color:  #8badfd;\n",
       "            color:  #000000;\n",
       "        }#T_ea56fd18_3b26_11eb_b11c_b183d620c32brow0_col6{\n",
       "            background-color:  #f5c2aa;\n",
       "            color:  #000000;\n",
       "        }#T_ea56fd18_3b26_11eb_b11c_b183d620c32brow0_col7,#T_ea56fd18_3b26_11eb_b11c_b183d620c32brow11_col4{\n",
       "            background-color:  #82a6fb;\n",
       "            color:  #000000;\n",
       "        }#T_ea56fd18_3b26_11eb_b11c_b183d620c32brow0_col8,#T_ea56fd18_3b26_11eb_b11c_b183d620c32brow4_col12{\n",
       "            background-color:  #f49a7b;\n",
       "            color:  #000000;\n",
       "        }#T_ea56fd18_3b26_11eb_b11c_b183d620c32brow0_col9,#T_ea56fd18_3b26_11eb_b11c_b183d620c32brow2_col8,#T_ea56fd18_3b26_11eb_b11c_b183d620c32brow8_col0{\n",
       "            background-color:  #f6a283;\n",
       "            color:  #000000;\n",
       "        }#T_ea56fd18_3b26_11eb_b11c_b183d620c32brow0_col10{\n",
       "            background-color:  #dadce0;\n",
       "            color:  #000000;\n",
       "        }#T_ea56fd18_3b26_11eb_b11c_b183d620c32brow0_col11{\n",
       "            background-color:  #465ecf;\n",
       "            color:  #f1f1f1;\n",
       "        }#T_ea56fd18_3b26_11eb_b11c_b183d620c32brow0_col12{\n",
       "            background-color:  #f7b99e;\n",
       "            color:  #000000;\n",
       "        }#T_ea56fd18_3b26_11eb_b11c_b183d620c32brow1_col0{\n",
       "            background-color:  #6485ec;\n",
       "            color:  #000000;\n",
       "        }#T_ea56fd18_3b26_11eb_b11c_b183d620c32brow1_col2,#T_ea56fd18_3b26_11eb_b11c_b183d620c32brow1_col6,#T_ea56fd18_3b26_11eb_b11c_b183d620c32brow8_col3{\n",
       "            background-color:  #5a78e4;\n",
       "            color:  #000000;\n",
       "        }#T_ea56fd18_3b26_11eb_b11c_b183d620c32brow1_col3{\n",
       "            background-color:  #4f69d9;\n",
       "            color:  #000000;\n",
       "        }#T_ea56fd18_3b26_11eb_b11c_b183d620c32brow1_col4,#T_ea56fd18_3b26_11eb_b11c_b183d620c32brow1_col9{\n",
       "            background-color:  #6788ee;\n",
       "            color:  #000000;\n",
       "        }#T_ea56fd18_3b26_11eb_b11c_b183d620c32brow1_col5,#T_ea56fd18_3b26_11eb_b11c_b183d620c32brow2_col0{\n",
       "            background-color:  #edd1c2;\n",
       "            color:  #000000;\n",
       "        }#T_ea56fd18_3b26_11eb_b11c_b183d620c32brow1_col7,#T_ea56fd18_3b26_11eb_b11c_b183d620c32brow9_col4{\n",
       "            background-color:  #ec7f63;\n",
       "            color:  #000000;\n",
       "        }#T_ea56fd18_3b26_11eb_b11c_b183d620c32brow1_col8,#T_ea56fd18_3b26_11eb_b11c_b183d620c32brow1_col12{\n",
       "            background-color:  #6180e9;\n",
       "            color:  #000000;\n",
       "        }#T_ea56fd18_3b26_11eb_b11c_b183d620c32brow1_col10,#T_ea56fd18_3b26_11eb_b11c_b183d620c32brow4_col7,#T_ea56fd18_3b26_11eb_b11c_b183d620c32brow5_col12,#T_ea56fd18_3b26_11eb_b11c_b183d620c32brow6_col1,#T_ea56fd18_3b26_11eb_b11c_b183d620c32brow7_col0,#T_ea56fd18_3b26_11eb_b11c_b183d620c32brow7_col2,#T_ea56fd18_3b26_11eb_b11c_b183d620c32brow7_col4,#T_ea56fd18_3b26_11eb_b11c_b183d620c32brow7_col6,#T_ea56fd18_3b26_11eb_b11c_b183d620c32brow7_col8,#T_ea56fd18_3b26_11eb_b11c_b183d620c32brow7_col9,#T_ea56fd18_3b26_11eb_b11c_b183d620c32brow8_col11,#T_ea56fd18_3b26_11eb_b11c_b183d620c32brow9_col11,#T_ea56fd18_3b26_11eb_b11c_b183d620c32brow10_col3,#T_ea56fd18_3b26_11eb_b11c_b183d620c32brow11_col0,#T_ea56fd18_3b26_11eb_b11c_b183d620c32brow12_col5{\n",
       "            background-color:  #3b4cc0;\n",
       "            color:  #f1f1f1;\n",
       "        }#T_ea56fd18_3b26_11eb_b11c_b183d620c32brow1_col11{\n",
       "            background-color:  #c9d7f0;\n",
       "            color:  #000000;\n",
       "        }#T_ea56fd18_3b26_11eb_b11c_b183d620c32brow2_col1,#T_ea56fd18_3b26_11eb_b11c_b183d620c32brow7_col3{\n",
       "            background-color:  #4055c8;\n",
       "            color:  #f1f1f1;\n",
       "        }#T_ea56fd18_3b26_11eb_b11c_b183d620c32brow2_col3,#T_ea56fd18_3b26_11eb_b11c_b183d620c32brow8_col1{\n",
       "            background-color:  #6f92f3;\n",
       "            color:  #000000;\n",
       "        }#T_ea56fd18_3b26_11eb_b11c_b183d620c32brow2_col4{\n",
       "            background-color:  #e0654f;\n",
       "            color:  #000000;\n",
       "        }#T_ea56fd18_3b26_11eb_b11c_b183d620c32brow2_col5{\n",
       "            background-color:  #6687ed;\n",
       "            color:  #000000;\n",
       "        }#T_ea56fd18_3b26_11eb_b11c_b183d620c32brow2_col6{\n",
       "            background-color:  #ee8669;\n",
       "            color:  #000000;\n",
       "        }#T_ea56fd18_3b26_11eb_b11c_b183d620c32brow2_col7,#T_ea56fd18_3b26_11eb_b11c_b183d620c32brow4_col1,#T_ea56fd18_3b26_11eb_b11c_b183d620c32brow11_col8{\n",
       "            background-color:  #445acc;\n",
       "            color:  #f1f1f1;\n",
       "        }#T_ea56fd18_3b26_11eb_b11c_b183d620c32brow2_col9{\n",
       "            background-color:  #ea7b60;\n",
       "            color:  #000000;\n",
       "        }#T_ea56fd18_3b26_11eb_b11c_b183d620c32brow2_col10{\n",
       "            background-color:  #ead4c8;\n",
       "            color:  #000000;\n",
       "        }#T_ea56fd18_3b26_11eb_b11c_b183d620c32brow2_col11,#T_ea56fd18_3b26_11eb_b11c_b183d620c32brow11_col9,#T_ea56fd18_3b26_11eb_b11c_b183d620c32brow12_col3{\n",
       "            background-color:  #4c66d6;\n",
       "            color:  #000000;\n",
       "        }#T_ea56fd18_3b26_11eb_b11c_b183d620c32brow2_col12{\n",
       "            background-color:  #f39778;\n",
       "            color:  #000000;\n",
       "        }#T_ea56fd18_3b26_11eb_b11c_b183d620c32brow3_col1{\n",
       "            background-color:  #aac7fd;\n",
       "            color:  #000000;\n",
       "        }#T_ea56fd18_3b26_11eb_b11c_b183d620c32brow3_col2{\n",
       "            background-color:  #cfdaea;\n",
       "            color:  #000000;\n",
       "        }#T_ea56fd18_3b26_11eb_b11c_b183d620c32brow3_col4,#T_ea56fd18_3b26_11eb_b11c_b183d620c32brow10_col0{\n",
       "            background-color:  #d9dce1;\n",
       "            color:  #000000;\n",
       "        }#T_ea56fd18_3b26_11eb_b11c_b183d620c32brow3_col5{\n",
       "            background-color:  #cbd8ee;\n",
       "            color:  #000000;\n",
       "        }#T_ea56fd18_3b26_11eb_b11c_b183d620c32brow3_col6{\n",
       "            background-color:  #d7dce3;\n",
       "            color:  #000000;\n",
       "        }#T_ea56fd18_3b26_11eb_b11c_b183d620c32brow3_col7{\n",
       "            background-color:  #b9d0f9;\n",
       "            color:  #000000;\n",
       "        }#T_ea56fd18_3b26_11eb_b11c_b183d620c32brow3_col8,#T_ea56fd18_3b26_11eb_b11c_b183d620c32brow3_col9{\n",
       "            background-color:  #a7c5fe;\n",
       "            color:  #000000;\n",
       "        }#T_ea56fd18_3b26_11eb_b11c_b183d620c32brow3_col10,#T_ea56fd18_3b26_11eb_b11c_b183d620c32brow4_col5{\n",
       "            background-color:  #799cf8;\n",
       "            color:  #000000;\n",
       "        }#T_ea56fd18_3b26_11eb_b11c_b183d620c32brow3_col11{\n",
       "            background-color:  #adc9fd;\n",
       "            color:  #000000;\n",
       "        }#T_ea56fd18_3b26_11eb_b11c_b183d620c32brow3_col12{\n",
       "            background-color:  #aec9fc;\n",
       "            color:  #000000;\n",
       "        }#T_ea56fd18_3b26_11eb_b11c_b183d620c32brow4_col0{\n",
       "            background-color:  #efcfbf;\n",
       "            color:  #000000;\n",
       "        }#T_ea56fd18_3b26_11eb_b11c_b183d620c32brow4_col2{\n",
       "            background-color:  #e16751;\n",
       "            color:  #000000;\n",
       "        }#T_ea56fd18_3b26_11eb_b11c_b183d620c32brow4_col3,#T_ea56fd18_3b26_11eb_b11c_b183d620c32brow5_col3,#T_ea56fd18_3b26_11eb_b11c_b183d620c32brow5_col8{\n",
       "            background-color:  #779af7;\n",
       "            color:  #000000;\n",
       "        }#T_ea56fd18_3b26_11eb_b11c_b183d620c32brow4_col6{\n",
       "            background-color:  #e46e56;\n",
       "            color:  #000000;\n",
       "        }#T_ea56fd18_3b26_11eb_b11c_b183d620c32brow4_col8{\n",
       "            background-color:  #f59d7e;\n",
       "            color:  #000000;\n",
       "        }#T_ea56fd18_3b26_11eb_b11c_b183d620c32brow4_col9{\n",
       "            background-color:  #f08b6e;\n",
       "            color:  #000000;\n",
       "        }#T_ea56fd18_3b26_11eb_b11c_b183d620c32brow4_col10{\n",
       "            background-color:  #c5d6f2;\n",
       "            color:  #000000;\n",
       "        }#T_ea56fd18_3b26_11eb_b11c_b183d620c32brow4_col11{\n",
       "            background-color:  #485fd1;\n",
       "            color:  #f1f1f1;\n",
       "        }#T_ea56fd18_3b26_11eb_b11c_b183d620c32brow5_col0,#T_ea56fd18_3b26_11eb_b11c_b183d620c32brow6_col11{\n",
       "            background-color:  #5f7fe8;\n",
       "            color:  #000000;\n",
       "        }#T_ea56fd18_3b26_11eb_b11c_b183d620c32brow5_col1{\n",
       "            background-color:  #ebd3c6;\n",
       "            color:  #000000;\n",
       "        }#T_ea56fd18_3b26_11eb_b11c_b183d620c32brow5_col2,#T_ea56fd18_3b26_11eb_b11c_b183d620c32brow6_col3,#T_ea56fd18_3b26_11eb_b11c_b183d620c32brow10_col11{\n",
       "            background-color:  #7699f6;\n",
       "            color:  #000000;\n",
       "        }#T_ea56fd18_3b26_11eb_b11c_b183d620c32brow5_col4{\n",
       "            background-color:  #92b4fe;\n",
       "            color:  #000000;\n",
       "        }#T_ea56fd18_3b26_11eb_b11c_b183d620c32brow5_col6{\n",
       "            background-color:  #9bbcff;\n",
       "            color:  #000000;\n",
       "        }#T_ea56fd18_3b26_11eb_b11c_b183d620c32brow5_col7{\n",
       "            background-color:  #ead5c9;\n",
       "            color:  #000000;\n",
       "        }#T_ea56fd18_3b26_11eb_b11c_b183d620c32brow5_col9,#T_ea56fd18_3b26_11eb_b11c_b183d620c32brow10_col5{\n",
       "            background-color:  #6c8ff1;\n",
       "            color:  #000000;\n",
       "        }#T_ea56fd18_3b26_11eb_b11c_b183d620c32brow5_col10{\n",
       "            background-color:  #4257c9;\n",
       "            color:  #f1f1f1;\n",
       "        }#T_ea56fd18_3b26_11eb_b11c_b183d620c32brow5_col11{\n",
       "            background-color:  #bfd3f6;\n",
       "            color:  #000000;\n",
       "        }#T_ea56fd18_3b26_11eb_b11c_b183d620c32brow6_col0{\n",
       "            background-color:  #e5d8d1;\n",
       "            color:  #000000;\n",
       "        }#T_ea56fd18_3b26_11eb_b11c_b183d620c32brow6_col2{\n",
       "            background-color:  #ef886b;\n",
       "            color:  #000000;\n",
       "        }#T_ea56fd18_3b26_11eb_b11c_b183d620c32brow6_col4{\n",
       "            background-color:  #e36c55;\n",
       "            color:  #000000;\n",
       "        }#T_ea56fd18_3b26_11eb_b11c_b183d620c32brow6_col5{\n",
       "            background-color:  #86a9fc;\n",
       "            color:  #000000;\n",
       "        }#T_ea56fd18_3b26_11eb_b11c_b183d620c32brow6_col7{\n",
       "            background-color:  #3e51c5;\n",
       "            color:  #f1f1f1;\n",
       "        }#T_ea56fd18_3b26_11eb_b11c_b183d620c32brow6_col8{\n",
       "            background-color:  #f5c1a9;\n",
       "            color:  #000000;\n",
       "        }#T_ea56fd18_3b26_11eb_b11c_b183d620c32brow6_col9{\n",
       "            background-color:  #f7b497;\n",
       "            color:  #000000;\n",
       "        }#T_ea56fd18_3b26_11eb_b11c_b183d620c32brow6_col10{\n",
       "            background-color:  #d5dbe5;\n",
       "            color:  #000000;\n",
       "        }#T_ea56fd18_3b26_11eb_b11c_b183d620c32brow6_col12{\n",
       "            background-color:  #f4987a;\n",
       "            color:  #000000;\n",
       "        }#T_ea56fd18_3b26_11eb_b11c_b183d620c32brow7_col1{\n",
       "            background-color:  #f08a6c;\n",
       "            color:  #000000;\n",
       "        }#T_ea56fd18_3b26_11eb_b11c_b183d620c32brow7_col5{\n",
       "            background-color:  #dedcdb;\n",
       "            color:  #000000;\n",
       "        }#T_ea56fd18_3b26_11eb_b11c_b183d620c32brow7_col10,#T_ea56fd18_3b26_11eb_b11c_b183d620c32brow10_col1{\n",
       "            background-color:  #5e7de7;\n",
       "            color:  #000000;\n",
       "        }#T_ea56fd18_3b26_11eb_b11c_b183d620c32brow7_col11{\n",
       "            background-color:  #dfdbd9;\n",
       "            color:  #000000;\n",
       "        }#T_ea56fd18_3b26_11eb_b11c_b183d620c32brow7_col12{\n",
       "            background-color:  #506bda;\n",
       "            color:  #000000;\n",
       "        }#T_ea56fd18_3b26_11eb_b11c_b183d620c32brow8_col2{\n",
       "            background-color:  #f39475;\n",
       "            color:  #000000;\n",
       "        }#T_ea56fd18_3b26_11eb_b11c_b183d620c32brow8_col4{\n",
       "            background-color:  #f18d6f;\n",
       "            color:  #000000;\n",
       "        }#T_ea56fd18_3b26_11eb_b11c_b183d620c32brow8_col5{\n",
       "            background-color:  #8db0fe;\n",
       "            color:  #000000;\n",
       "        }#T_ea56fd18_3b26_11eb_b11c_b183d620c32brow8_col6{\n",
       "            background-color:  #f7b093;\n",
       "            color:  #000000;\n",
       "        }#T_ea56fd18_3b26_11eb_b11c_b183d620c32brow8_col7,#T_ea56fd18_3b26_11eb_b11c_b183d620c32brow11_col10,#T_ea56fd18_3b26_11eb_b11c_b183d620c32brow11_col12,#T_ea56fd18_3b26_11eb_b11c_b183d620c32brow12_col7{\n",
       "            background-color:  #6b8df0;\n",
       "            color:  #000000;\n",
       "        }#T_ea56fd18_3b26_11eb_b11c_b183d620c32brow8_col9{\n",
       "            background-color:  #c83836;\n",
       "            color:  #f1f1f1;\n",
       "        }#T_ea56fd18_3b26_11eb_b11c_b183d620c32brow8_col10{\n",
       "            background-color:  #f3c7b1;\n",
       "            color:  #000000;\n",
       "        }#T_ea56fd18_3b26_11eb_b11c_b183d620c32brow8_col12{\n",
       "            background-color:  #f7b396;\n",
       "            color:  #000000;\n",
       "        }#T_ea56fd18_3b26_11eb_b11c_b183d620c32brow9_col0{\n",
       "            background-color:  #f7ad90;\n",
       "            color:  #000000;\n",
       "        }#T_ea56fd18_3b26_11eb_b11c_b183d620c32brow9_col1{\n",
       "            background-color:  #6e90f2;\n",
       "            color:  #000000;\n",
       "        }#T_ea56fd18_3b26_11eb_b11c_b183d620c32brow9_col2{\n",
       "            background-color:  #e67259;\n",
       "            color:  #000000;\n",
       "        }#T_ea56fd18_3b26_11eb_b11c_b183d620c32brow9_col3{\n",
       "            background-color:  #516ddb;\n",
       "            color:  #000000;\n",
       "        }#T_ea56fd18_3b26_11eb_b11c_b183d620c32brow9_col5{\n",
       "            background-color:  #7b9ff9;\n",
       "            color:  #000000;\n",
       "        }#T_ea56fd18_3b26_11eb_b11c_b183d620c32brow9_col6,#T_ea56fd18_3b26_11eb_b11c_b183d620c32brow9_col12{\n",
       "            background-color:  #f7a688;\n",
       "            color:  #000000;\n",
       "        }#T_ea56fd18_3b26_11eb_b11c_b183d620c32brow9_col7{\n",
       "            background-color:  #6384eb;\n",
       "            color:  #000000;\n",
       "        }#T_ea56fd18_3b26_11eb_b11c_b183d620c32brow9_col8{\n",
       "            background-color:  #ca3b37;\n",
       "            color:  #f1f1f1;\n",
       "        }#T_ea56fd18_3b26_11eb_b11c_b183d620c32brow9_col10,#T_ea56fd18_3b26_11eb_b11c_b183d620c32brow10_col12{\n",
       "            background-color:  #f3c8b2;\n",
       "            color:  #000000;\n",
       "        }#T_ea56fd18_3b26_11eb_b11c_b183d620c32brow10_col2{\n",
       "            background-color:  #f5c0a7;\n",
       "            color:  #000000;\n",
       "        }#T_ea56fd18_3b26_11eb_b11c_b183d620c32brow10_col4{\n",
       "            background-color:  #e7d7ce;\n",
       "            color:  #000000;\n",
       "        }#T_ea56fd18_3b26_11eb_b11c_b183d620c32brow10_col6{\n",
       "            background-color:  #eed0c0;\n",
       "            color:  #000000;\n",
       "        }#T_ea56fd18_3b26_11eb_b11c_b183d620c32brow10_col7{\n",
       "            background-color:  #9fbfff;\n",
       "            color:  #000000;\n",
       "        }#T_ea56fd18_3b26_11eb_b11c_b183d620c32brow10_col8{\n",
       "            background-color:  #f6bfa6;\n",
       "            color:  #000000;\n",
       "        }#T_ea56fd18_3b26_11eb_b11c_b183d620c32brow10_col9{\n",
       "            background-color:  #f6bda2;\n",
       "            color:  #000000;\n",
       "        }#T_ea56fd18_3b26_11eb_b11c_b183d620c32brow11_col1{\n",
       "            background-color:  #d6dce4;\n",
       "            color:  #000000;\n",
       "        }#T_ea56fd18_3b26_11eb_b11c_b183d620c32brow11_col2{\n",
       "            background-color:  #7da0f9;\n",
       "            color:  #000000;\n",
       "        }#T_ea56fd18_3b26_11eb_b11c_b183d620c32brow11_col3{\n",
       "            background-color:  #6a8bef;\n",
       "            color:  #000000;\n",
       "        }#T_ea56fd18_3b26_11eb_b11c_b183d620c32brow11_col5{\n",
       "            background-color:  #d2dbe8;\n",
       "            color:  #000000;\n",
       "        }#T_ea56fd18_3b26_11eb_b11c_b183d620c32brow11_col6{\n",
       "            background-color:  #94b6ff;\n",
       "            color:  #000000;\n",
       "        }#T_ea56fd18_3b26_11eb_b11c_b183d620c32brow11_col7{\n",
       "            background-color:  #f2cbb7;\n",
       "            color:  #000000;\n",
       "        }#T_ea56fd18_3b26_11eb_b11c_b183d620c32brow12_col0{\n",
       "            background-color:  #f2c9b4;\n",
       "            color:  #000000;\n",
       "        }#T_ea56fd18_3b26_11eb_b11c_b183d620c32brow12_col1{\n",
       "            background-color:  #5977e3;\n",
       "            color:  #000000;\n",
       "        }#T_ea56fd18_3b26_11eb_b11c_b183d620c32brow12_col2,#T_ea56fd18_3b26_11eb_b11c_b183d620c32brow12_col4{\n",
       "            background-color:  #f29274;\n",
       "            color:  #000000;\n",
       "        }#T_ea56fd18_3b26_11eb_b11c_b183d620c32brow12_col6{\n",
       "            background-color:  #f29072;\n",
       "            color:  #000000;\n",
       "        }#T_ea56fd18_3b26_11eb_b11c_b183d620c32brow12_col8{\n",
       "            background-color:  #f7ba9f;\n",
       "            color:  #000000;\n",
       "        }#T_ea56fd18_3b26_11eb_b11c_b183d620c32brow12_col9{\n",
       "            background-color:  #f7ac8e;\n",
       "            color:  #000000;\n",
       "        }#T_ea56fd18_3b26_11eb_b11c_b183d620c32brow12_col10{\n",
       "            background-color:  #e9d5cb;\n",
       "            color:  #000000;\n",
       "        }#T_ea56fd18_3b26_11eb_b11c_b183d620c32brow12_col11{\n",
       "            background-color:  #4a63d3;\n",
       "            color:  #f1f1f1;\n",
       "        }</style><table id=\"T_ea56fd18_3b26_11eb_b11c_b183d620c32b\" ><thead>    <tr>        <th class=\"blank level0\" ></th>        <th class=\"col_heading level0 col0\" >CRIM</th>        <th class=\"col_heading level0 col1\" >ZN</th>        <th class=\"col_heading level0 col2\" >INDUS</th>        <th class=\"col_heading level0 col3\" >CHAS</th>        <th class=\"col_heading level0 col4\" >NOX</th>        <th class=\"col_heading level0 col5\" >RM</th>        <th class=\"col_heading level0 col6\" >AGE</th>        <th class=\"col_heading level0 col7\" >DIS</th>        <th class=\"col_heading level0 col8\" >RAD</th>        <th class=\"col_heading level0 col9\" >TAX</th>        <th class=\"col_heading level0 col10\" >PTRATIO</th>        <th class=\"col_heading level0 col11\" >B</th>        <th class=\"col_heading level0 col12\" >LSTAT</th>    </tr></thead><tbody>\n",
       "                <tr>\n",
       "                        <th id=\"T_ea56fd18_3b26_11eb_b11c_b183d620c32blevel0_row0\" class=\"row_heading level0 row0\" >CRIM</th>\n",
       "                        <td id=\"T_ea56fd18_3b26_11eb_b11c_b183d620c32brow0_col0\" class=\"data row0 col0\" >1.00</td>\n",
       "                        <td id=\"T_ea56fd18_3b26_11eb_b11c_b183d620c32brow0_col1\" class=\"data row0 col1\" >-0.20</td>\n",
       "                        <td id=\"T_ea56fd18_3b26_11eb_b11c_b183d620c32brow0_col2\" class=\"data row0 col2\" >0.41</td>\n",
       "                        <td id=\"T_ea56fd18_3b26_11eb_b11c_b183d620c32brow0_col3\" class=\"data row0 col3\" >-0.06</td>\n",
       "                        <td id=\"T_ea56fd18_3b26_11eb_b11c_b183d620c32brow0_col4\" class=\"data row0 col4\" >0.42</td>\n",
       "                        <td id=\"T_ea56fd18_3b26_11eb_b11c_b183d620c32brow0_col5\" class=\"data row0 col5\" >-0.22</td>\n",
       "                        <td id=\"T_ea56fd18_3b26_11eb_b11c_b183d620c32brow0_col6\" class=\"data row0 col6\" >0.35</td>\n",
       "                        <td id=\"T_ea56fd18_3b26_11eb_b11c_b183d620c32brow0_col7\" class=\"data row0 col7\" >-0.38</td>\n",
       "                        <td id=\"T_ea56fd18_3b26_11eb_b11c_b183d620c32brow0_col8\" class=\"data row0 col8\" >0.63</td>\n",
       "                        <td id=\"T_ea56fd18_3b26_11eb_b11c_b183d620c32brow0_col9\" class=\"data row0 col9\" >0.58</td>\n",
       "                        <td id=\"T_ea56fd18_3b26_11eb_b11c_b183d620c32brow0_col10\" class=\"data row0 col10\" >0.29</td>\n",
       "                        <td id=\"T_ea56fd18_3b26_11eb_b11c_b183d620c32brow0_col11\" class=\"data row0 col11\" >-0.39</td>\n",
       "                        <td id=\"T_ea56fd18_3b26_11eb_b11c_b183d620c32brow0_col12\" class=\"data row0 col12\" >0.46</td>\n",
       "            </tr>\n",
       "            <tr>\n",
       "                        <th id=\"T_ea56fd18_3b26_11eb_b11c_b183d620c32blevel0_row1\" class=\"row_heading level0 row1\" >ZN</th>\n",
       "                        <td id=\"T_ea56fd18_3b26_11eb_b11c_b183d620c32brow1_col0\" class=\"data row1 col0\" >-0.20</td>\n",
       "                        <td id=\"T_ea56fd18_3b26_11eb_b11c_b183d620c32brow1_col1\" class=\"data row1 col1\" >1.00</td>\n",
       "                        <td id=\"T_ea56fd18_3b26_11eb_b11c_b183d620c32brow1_col2\" class=\"data row1 col2\" >-0.53</td>\n",
       "                        <td id=\"T_ea56fd18_3b26_11eb_b11c_b183d620c32brow1_col3\" class=\"data row1 col3\" >-0.04</td>\n",
       "                        <td id=\"T_ea56fd18_3b26_11eb_b11c_b183d620c32brow1_col4\" class=\"data row1 col4\" >-0.52</td>\n",
       "                        <td id=\"T_ea56fd18_3b26_11eb_b11c_b183d620c32brow1_col5\" class=\"data row1 col5\" >0.31</td>\n",
       "                        <td id=\"T_ea56fd18_3b26_11eb_b11c_b183d620c32brow1_col6\" class=\"data row1 col6\" >-0.57</td>\n",
       "                        <td id=\"T_ea56fd18_3b26_11eb_b11c_b183d620c32brow1_col7\" class=\"data row1 col7\" >0.66</td>\n",
       "                        <td id=\"T_ea56fd18_3b26_11eb_b11c_b183d620c32brow1_col8\" class=\"data row1 col8\" >-0.31</td>\n",
       "                        <td id=\"T_ea56fd18_3b26_11eb_b11c_b183d620c32brow1_col9\" class=\"data row1 col9\" >-0.31</td>\n",
       "                        <td id=\"T_ea56fd18_3b26_11eb_b11c_b183d620c32brow1_col10\" class=\"data row1 col10\" >-0.39</td>\n",
       "                        <td id=\"T_ea56fd18_3b26_11eb_b11c_b183d620c32brow1_col11\" class=\"data row1 col11\" >0.18</td>\n",
       "                        <td id=\"T_ea56fd18_3b26_11eb_b11c_b183d620c32brow1_col12\" class=\"data row1 col12\" >-0.41</td>\n",
       "            </tr>\n",
       "            <tr>\n",
       "                        <th id=\"T_ea56fd18_3b26_11eb_b11c_b183d620c32blevel0_row2\" class=\"row_heading level0 row2\" >INDUS</th>\n",
       "                        <td id=\"T_ea56fd18_3b26_11eb_b11c_b183d620c32brow2_col0\" class=\"data row2 col0\" >0.41</td>\n",
       "                        <td id=\"T_ea56fd18_3b26_11eb_b11c_b183d620c32brow2_col1\" class=\"data row2 col1\" >-0.53</td>\n",
       "                        <td id=\"T_ea56fd18_3b26_11eb_b11c_b183d620c32brow2_col2\" class=\"data row2 col2\" >1.00</td>\n",
       "                        <td id=\"T_ea56fd18_3b26_11eb_b11c_b183d620c32brow2_col3\" class=\"data row2 col3\" >0.06</td>\n",
       "                        <td id=\"T_ea56fd18_3b26_11eb_b11c_b183d620c32brow2_col4\" class=\"data row2 col4\" >0.76</td>\n",
       "                        <td id=\"T_ea56fd18_3b26_11eb_b11c_b183d620c32brow2_col5\" class=\"data row2 col5\" >-0.39</td>\n",
       "                        <td id=\"T_ea56fd18_3b26_11eb_b11c_b183d620c32brow2_col6\" class=\"data row2 col6\" >0.64</td>\n",
       "                        <td id=\"T_ea56fd18_3b26_11eb_b11c_b183d620c32brow2_col7\" class=\"data row2 col7\" >-0.71</td>\n",
       "                        <td id=\"T_ea56fd18_3b26_11eb_b11c_b183d620c32brow2_col8\" class=\"data row2 col8\" >0.60</td>\n",
       "                        <td id=\"T_ea56fd18_3b26_11eb_b11c_b183d620c32brow2_col9\" class=\"data row2 col9\" >0.72</td>\n",
       "                        <td id=\"T_ea56fd18_3b26_11eb_b11c_b183d620c32brow2_col10\" class=\"data row2 col10\" >0.38</td>\n",
       "                        <td id=\"T_ea56fd18_3b26_11eb_b11c_b183d620c32brow2_col11\" class=\"data row2 col11\" >-0.36</td>\n",
       "                        <td id=\"T_ea56fd18_3b26_11eb_b11c_b183d620c32brow2_col12\" class=\"data row2 col12\" >0.60</td>\n",
       "            </tr>\n",
       "            <tr>\n",
       "                        <th id=\"T_ea56fd18_3b26_11eb_b11c_b183d620c32blevel0_row3\" class=\"row_heading level0 row3\" >CHAS</th>\n",
       "                        <td id=\"T_ea56fd18_3b26_11eb_b11c_b183d620c32brow3_col0\" class=\"data row3 col0\" >-0.06</td>\n",
       "                        <td id=\"T_ea56fd18_3b26_11eb_b11c_b183d620c32brow3_col1\" class=\"data row3 col1\" >-0.04</td>\n",
       "                        <td id=\"T_ea56fd18_3b26_11eb_b11c_b183d620c32brow3_col2\" class=\"data row3 col2\" >0.06</td>\n",
       "                        <td id=\"T_ea56fd18_3b26_11eb_b11c_b183d620c32brow3_col3\" class=\"data row3 col3\" >1.00</td>\n",
       "                        <td id=\"T_ea56fd18_3b26_11eb_b11c_b183d620c32brow3_col4\" class=\"data row3 col4\" >0.09</td>\n",
       "                        <td id=\"T_ea56fd18_3b26_11eb_b11c_b183d620c32brow3_col5\" class=\"data row3 col5\" >0.09</td>\n",
       "                        <td id=\"T_ea56fd18_3b26_11eb_b11c_b183d620c32brow3_col6\" class=\"data row3 col6\" >0.09</td>\n",
       "                        <td id=\"T_ea56fd18_3b26_11eb_b11c_b183d620c32brow3_col7\" class=\"data row3 col7\" >-0.10</td>\n",
       "                        <td id=\"T_ea56fd18_3b26_11eb_b11c_b183d620c32brow3_col8\" class=\"data row3 col8\" >-0.01</td>\n",
       "                        <td id=\"T_ea56fd18_3b26_11eb_b11c_b183d620c32brow3_col9\" class=\"data row3 col9\" >-0.04</td>\n",
       "                        <td id=\"T_ea56fd18_3b26_11eb_b11c_b183d620c32brow3_col10\" class=\"data row3 col10\" >-0.12</td>\n",
       "                        <td id=\"T_ea56fd18_3b26_11eb_b11c_b183d620c32brow3_col11\" class=\"data row3 col11\" >0.05</td>\n",
       "                        <td id=\"T_ea56fd18_3b26_11eb_b11c_b183d620c32brow3_col12\" class=\"data row3 col12\" >-0.05</td>\n",
       "            </tr>\n",
       "            <tr>\n",
       "                        <th id=\"T_ea56fd18_3b26_11eb_b11c_b183d620c32blevel0_row4\" class=\"row_heading level0 row4\" >NOX</th>\n",
       "                        <td id=\"T_ea56fd18_3b26_11eb_b11c_b183d620c32brow4_col0\" class=\"data row4 col0\" >0.42</td>\n",
       "                        <td id=\"T_ea56fd18_3b26_11eb_b11c_b183d620c32brow4_col1\" class=\"data row4 col1\" >-0.52</td>\n",
       "                        <td id=\"T_ea56fd18_3b26_11eb_b11c_b183d620c32brow4_col2\" class=\"data row4 col2\" >0.76</td>\n",
       "                        <td id=\"T_ea56fd18_3b26_11eb_b11c_b183d620c32brow4_col3\" class=\"data row4 col3\" >0.09</td>\n",
       "                        <td id=\"T_ea56fd18_3b26_11eb_b11c_b183d620c32brow4_col4\" class=\"data row4 col4\" >1.00</td>\n",
       "                        <td id=\"T_ea56fd18_3b26_11eb_b11c_b183d620c32brow4_col5\" class=\"data row4 col5\" >-0.30</td>\n",
       "                        <td id=\"T_ea56fd18_3b26_11eb_b11c_b183d620c32brow4_col6\" class=\"data row4 col6\" >0.73</td>\n",
       "                        <td id=\"T_ea56fd18_3b26_11eb_b11c_b183d620c32brow4_col7\" class=\"data row4 col7\" >-0.77</td>\n",
       "                        <td id=\"T_ea56fd18_3b26_11eb_b11c_b183d620c32brow4_col8\" class=\"data row4 col8\" >0.61</td>\n",
       "                        <td id=\"T_ea56fd18_3b26_11eb_b11c_b183d620c32brow4_col9\" class=\"data row4 col9\" >0.67</td>\n",
       "                        <td id=\"T_ea56fd18_3b26_11eb_b11c_b183d620c32brow4_col10\" class=\"data row4 col10\" >0.19</td>\n",
       "                        <td id=\"T_ea56fd18_3b26_11eb_b11c_b183d620c32brow4_col11\" class=\"data row4 col11\" >-0.38</td>\n",
       "                        <td id=\"T_ea56fd18_3b26_11eb_b11c_b183d620c32brow4_col12\" class=\"data row4 col12\" >0.59</td>\n",
       "            </tr>\n",
       "            <tr>\n",
       "                        <th id=\"T_ea56fd18_3b26_11eb_b11c_b183d620c32blevel0_row5\" class=\"row_heading level0 row5\" >RM</th>\n",
       "                        <td id=\"T_ea56fd18_3b26_11eb_b11c_b183d620c32brow5_col0\" class=\"data row5 col0\" >-0.22</td>\n",
       "                        <td id=\"T_ea56fd18_3b26_11eb_b11c_b183d620c32brow5_col1\" class=\"data row5 col1\" >0.31</td>\n",
       "                        <td id=\"T_ea56fd18_3b26_11eb_b11c_b183d620c32brow5_col2\" class=\"data row5 col2\" >-0.39</td>\n",
       "                        <td id=\"T_ea56fd18_3b26_11eb_b11c_b183d620c32brow5_col3\" class=\"data row5 col3\" >0.09</td>\n",
       "                        <td id=\"T_ea56fd18_3b26_11eb_b11c_b183d620c32brow5_col4\" class=\"data row5 col4\" >-0.30</td>\n",
       "                        <td id=\"T_ea56fd18_3b26_11eb_b11c_b183d620c32brow5_col5\" class=\"data row5 col5\" >1.00</td>\n",
       "                        <td id=\"T_ea56fd18_3b26_11eb_b11c_b183d620c32brow5_col6\" class=\"data row5 col6\" >-0.24</td>\n",
       "                        <td id=\"T_ea56fd18_3b26_11eb_b11c_b183d620c32brow5_col7\" class=\"data row5 col7\" >0.21</td>\n",
       "                        <td id=\"T_ea56fd18_3b26_11eb_b11c_b183d620c32brow5_col8\" class=\"data row5 col8\" >-0.21</td>\n",
       "                        <td id=\"T_ea56fd18_3b26_11eb_b11c_b183d620c32brow5_col9\" class=\"data row5 col9\" >-0.29</td>\n",
       "                        <td id=\"T_ea56fd18_3b26_11eb_b11c_b183d620c32brow5_col10\" class=\"data row5 col10\" >-0.36</td>\n",
       "                        <td id=\"T_ea56fd18_3b26_11eb_b11c_b183d620c32brow5_col11\" class=\"data row5 col11\" >0.13</td>\n",
       "                        <td id=\"T_ea56fd18_3b26_11eb_b11c_b183d620c32brow5_col12\" class=\"data row5 col12\" >-0.61</td>\n",
       "            </tr>\n",
       "            <tr>\n",
       "                        <th id=\"T_ea56fd18_3b26_11eb_b11c_b183d620c32blevel0_row6\" class=\"row_heading level0 row6\" >AGE</th>\n",
       "                        <td id=\"T_ea56fd18_3b26_11eb_b11c_b183d620c32brow6_col0\" class=\"data row6 col0\" >0.35</td>\n",
       "                        <td id=\"T_ea56fd18_3b26_11eb_b11c_b183d620c32brow6_col1\" class=\"data row6 col1\" >-0.57</td>\n",
       "                        <td id=\"T_ea56fd18_3b26_11eb_b11c_b183d620c32brow6_col2\" class=\"data row6 col2\" >0.64</td>\n",
       "                        <td id=\"T_ea56fd18_3b26_11eb_b11c_b183d620c32brow6_col3\" class=\"data row6 col3\" >0.09</td>\n",
       "                        <td id=\"T_ea56fd18_3b26_11eb_b11c_b183d620c32brow6_col4\" class=\"data row6 col4\" >0.73</td>\n",
       "                        <td id=\"T_ea56fd18_3b26_11eb_b11c_b183d620c32brow6_col5\" class=\"data row6 col5\" >-0.24</td>\n",
       "                        <td id=\"T_ea56fd18_3b26_11eb_b11c_b183d620c32brow6_col6\" class=\"data row6 col6\" >1.00</td>\n",
       "                        <td id=\"T_ea56fd18_3b26_11eb_b11c_b183d620c32brow6_col7\" class=\"data row6 col7\" >-0.75</td>\n",
       "                        <td id=\"T_ea56fd18_3b26_11eb_b11c_b183d620c32brow6_col8\" class=\"data row6 col8\" >0.46</td>\n",
       "                        <td id=\"T_ea56fd18_3b26_11eb_b11c_b183d620c32brow6_col9\" class=\"data row6 col9\" >0.51</td>\n",
       "                        <td id=\"T_ea56fd18_3b26_11eb_b11c_b183d620c32brow6_col10\" class=\"data row6 col10\" >0.26</td>\n",
       "                        <td id=\"T_ea56fd18_3b26_11eb_b11c_b183d620c32brow6_col11\" class=\"data row6 col11\" >-0.27</td>\n",
       "                        <td id=\"T_ea56fd18_3b26_11eb_b11c_b183d620c32brow6_col12\" class=\"data row6 col12\" >0.60</td>\n",
       "            </tr>\n",
       "            <tr>\n",
       "                        <th id=\"T_ea56fd18_3b26_11eb_b11c_b183d620c32blevel0_row7\" class=\"row_heading level0 row7\" >DIS</th>\n",
       "                        <td id=\"T_ea56fd18_3b26_11eb_b11c_b183d620c32brow7_col0\" class=\"data row7 col0\" >-0.38</td>\n",
       "                        <td id=\"T_ea56fd18_3b26_11eb_b11c_b183d620c32brow7_col1\" class=\"data row7 col1\" >0.66</td>\n",
       "                        <td id=\"T_ea56fd18_3b26_11eb_b11c_b183d620c32brow7_col2\" class=\"data row7 col2\" >-0.71</td>\n",
       "                        <td id=\"T_ea56fd18_3b26_11eb_b11c_b183d620c32brow7_col3\" class=\"data row7 col3\" >-0.10</td>\n",
       "                        <td id=\"T_ea56fd18_3b26_11eb_b11c_b183d620c32brow7_col4\" class=\"data row7 col4\" >-0.77</td>\n",
       "                        <td id=\"T_ea56fd18_3b26_11eb_b11c_b183d620c32brow7_col5\" class=\"data row7 col5\" >0.21</td>\n",
       "                        <td id=\"T_ea56fd18_3b26_11eb_b11c_b183d620c32brow7_col6\" class=\"data row7 col6\" >-0.75</td>\n",
       "                        <td id=\"T_ea56fd18_3b26_11eb_b11c_b183d620c32brow7_col7\" class=\"data row7 col7\" >1.00</td>\n",
       "                        <td id=\"T_ea56fd18_3b26_11eb_b11c_b183d620c32brow7_col8\" class=\"data row7 col8\" >-0.49</td>\n",
       "                        <td id=\"T_ea56fd18_3b26_11eb_b11c_b183d620c32brow7_col9\" class=\"data row7 col9\" >-0.53</td>\n",
       "                        <td id=\"T_ea56fd18_3b26_11eb_b11c_b183d620c32brow7_col10\" class=\"data row7 col10\" >-0.23</td>\n",
       "                        <td id=\"T_ea56fd18_3b26_11eb_b11c_b183d620c32brow7_col11\" class=\"data row7 col11\" >0.29</td>\n",
       "                        <td id=\"T_ea56fd18_3b26_11eb_b11c_b183d620c32brow7_col12\" class=\"data row7 col12\" >-0.50</td>\n",
       "            </tr>\n",
       "            <tr>\n",
       "                        <th id=\"T_ea56fd18_3b26_11eb_b11c_b183d620c32blevel0_row8\" class=\"row_heading level0 row8\" >RAD</th>\n",
       "                        <td id=\"T_ea56fd18_3b26_11eb_b11c_b183d620c32brow8_col0\" class=\"data row8 col0\" >0.63</td>\n",
       "                        <td id=\"T_ea56fd18_3b26_11eb_b11c_b183d620c32brow8_col1\" class=\"data row8 col1\" >-0.31</td>\n",
       "                        <td id=\"T_ea56fd18_3b26_11eb_b11c_b183d620c32brow8_col2\" class=\"data row8 col2\" >0.60</td>\n",
       "                        <td id=\"T_ea56fd18_3b26_11eb_b11c_b183d620c32brow8_col3\" class=\"data row8 col3\" >-0.01</td>\n",
       "                        <td id=\"T_ea56fd18_3b26_11eb_b11c_b183d620c32brow8_col4\" class=\"data row8 col4\" >0.61</td>\n",
       "                        <td id=\"T_ea56fd18_3b26_11eb_b11c_b183d620c32brow8_col5\" class=\"data row8 col5\" >-0.21</td>\n",
       "                        <td id=\"T_ea56fd18_3b26_11eb_b11c_b183d620c32brow8_col6\" class=\"data row8 col6\" >0.46</td>\n",
       "                        <td id=\"T_ea56fd18_3b26_11eb_b11c_b183d620c32brow8_col7\" class=\"data row8 col7\" >-0.49</td>\n",
       "                        <td id=\"T_ea56fd18_3b26_11eb_b11c_b183d620c32brow8_col8\" class=\"data row8 col8\" >1.00</td>\n",
       "                        <td id=\"T_ea56fd18_3b26_11eb_b11c_b183d620c32brow8_col9\" class=\"data row8 col9\" >0.91</td>\n",
       "                        <td id=\"T_ea56fd18_3b26_11eb_b11c_b183d620c32brow8_col10\" class=\"data row8 col10\" >0.46</td>\n",
       "                        <td id=\"T_ea56fd18_3b26_11eb_b11c_b183d620c32brow8_col11\" class=\"data row8 col11\" >-0.44</td>\n",
       "                        <td id=\"T_ea56fd18_3b26_11eb_b11c_b183d620c32brow8_col12\" class=\"data row8 col12\" >0.49</td>\n",
       "            </tr>\n",
       "            <tr>\n",
       "                        <th id=\"T_ea56fd18_3b26_11eb_b11c_b183d620c32blevel0_row9\" class=\"row_heading level0 row9\" >TAX</th>\n",
       "                        <td id=\"T_ea56fd18_3b26_11eb_b11c_b183d620c32brow9_col0\" class=\"data row9 col0\" >0.58</td>\n",
       "                        <td id=\"T_ea56fd18_3b26_11eb_b11c_b183d620c32brow9_col1\" class=\"data row9 col1\" >-0.31</td>\n",
       "                        <td id=\"T_ea56fd18_3b26_11eb_b11c_b183d620c32brow9_col2\" class=\"data row9 col2\" >0.72</td>\n",
       "                        <td id=\"T_ea56fd18_3b26_11eb_b11c_b183d620c32brow9_col3\" class=\"data row9 col3\" >-0.04</td>\n",
       "                        <td id=\"T_ea56fd18_3b26_11eb_b11c_b183d620c32brow9_col4\" class=\"data row9 col4\" >0.67</td>\n",
       "                        <td id=\"T_ea56fd18_3b26_11eb_b11c_b183d620c32brow9_col5\" class=\"data row9 col5\" >-0.29</td>\n",
       "                        <td id=\"T_ea56fd18_3b26_11eb_b11c_b183d620c32brow9_col6\" class=\"data row9 col6\" >0.51</td>\n",
       "                        <td id=\"T_ea56fd18_3b26_11eb_b11c_b183d620c32brow9_col7\" class=\"data row9 col7\" >-0.53</td>\n",
       "                        <td id=\"T_ea56fd18_3b26_11eb_b11c_b183d620c32brow9_col8\" class=\"data row9 col8\" >0.91</td>\n",
       "                        <td id=\"T_ea56fd18_3b26_11eb_b11c_b183d620c32brow9_col9\" class=\"data row9 col9\" >1.00</td>\n",
       "                        <td id=\"T_ea56fd18_3b26_11eb_b11c_b183d620c32brow9_col10\" class=\"data row9 col10\" >0.46</td>\n",
       "                        <td id=\"T_ea56fd18_3b26_11eb_b11c_b183d620c32brow9_col11\" class=\"data row9 col11\" >-0.44</td>\n",
       "                        <td id=\"T_ea56fd18_3b26_11eb_b11c_b183d620c32brow9_col12\" class=\"data row9 col12\" >0.54</td>\n",
       "            </tr>\n",
       "            <tr>\n",
       "                        <th id=\"T_ea56fd18_3b26_11eb_b11c_b183d620c32blevel0_row10\" class=\"row_heading level0 row10\" >PTRATIO</th>\n",
       "                        <td id=\"T_ea56fd18_3b26_11eb_b11c_b183d620c32brow10_col0\" class=\"data row10 col0\" >0.29</td>\n",
       "                        <td id=\"T_ea56fd18_3b26_11eb_b11c_b183d620c32brow10_col1\" class=\"data row10 col1\" >-0.39</td>\n",
       "                        <td id=\"T_ea56fd18_3b26_11eb_b11c_b183d620c32brow10_col2\" class=\"data row10 col2\" >0.38</td>\n",
       "                        <td id=\"T_ea56fd18_3b26_11eb_b11c_b183d620c32brow10_col3\" class=\"data row10 col3\" >-0.12</td>\n",
       "                        <td id=\"T_ea56fd18_3b26_11eb_b11c_b183d620c32brow10_col4\" class=\"data row10 col4\" >0.19</td>\n",
       "                        <td id=\"T_ea56fd18_3b26_11eb_b11c_b183d620c32brow10_col5\" class=\"data row10 col5\" >-0.36</td>\n",
       "                        <td id=\"T_ea56fd18_3b26_11eb_b11c_b183d620c32brow10_col6\" class=\"data row10 col6\" >0.26</td>\n",
       "                        <td id=\"T_ea56fd18_3b26_11eb_b11c_b183d620c32brow10_col7\" class=\"data row10 col7\" >-0.23</td>\n",
       "                        <td id=\"T_ea56fd18_3b26_11eb_b11c_b183d620c32brow10_col8\" class=\"data row10 col8\" >0.46</td>\n",
       "                        <td id=\"T_ea56fd18_3b26_11eb_b11c_b183d620c32brow10_col9\" class=\"data row10 col9\" >0.46</td>\n",
       "                        <td id=\"T_ea56fd18_3b26_11eb_b11c_b183d620c32brow10_col10\" class=\"data row10 col10\" >1.00</td>\n",
       "                        <td id=\"T_ea56fd18_3b26_11eb_b11c_b183d620c32brow10_col11\" class=\"data row10 col11\" >-0.18</td>\n",
       "                        <td id=\"T_ea56fd18_3b26_11eb_b11c_b183d620c32brow10_col12\" class=\"data row10 col12\" >0.37</td>\n",
       "            </tr>\n",
       "            <tr>\n",
       "                        <th id=\"T_ea56fd18_3b26_11eb_b11c_b183d620c32blevel0_row11\" class=\"row_heading level0 row11\" >B</th>\n",
       "                        <td id=\"T_ea56fd18_3b26_11eb_b11c_b183d620c32brow11_col0\" class=\"data row11 col0\" >-0.39</td>\n",
       "                        <td id=\"T_ea56fd18_3b26_11eb_b11c_b183d620c32brow11_col1\" class=\"data row11 col1\" >0.18</td>\n",
       "                        <td id=\"T_ea56fd18_3b26_11eb_b11c_b183d620c32brow11_col2\" class=\"data row11 col2\" >-0.36</td>\n",
       "                        <td id=\"T_ea56fd18_3b26_11eb_b11c_b183d620c32brow11_col3\" class=\"data row11 col3\" >0.05</td>\n",
       "                        <td id=\"T_ea56fd18_3b26_11eb_b11c_b183d620c32brow11_col4\" class=\"data row11 col4\" >-0.38</td>\n",
       "                        <td id=\"T_ea56fd18_3b26_11eb_b11c_b183d620c32brow11_col5\" class=\"data row11 col5\" >0.13</td>\n",
       "                        <td id=\"T_ea56fd18_3b26_11eb_b11c_b183d620c32brow11_col6\" class=\"data row11 col6\" >-0.27</td>\n",
       "                        <td id=\"T_ea56fd18_3b26_11eb_b11c_b183d620c32brow11_col7\" class=\"data row11 col7\" >0.29</td>\n",
       "                        <td id=\"T_ea56fd18_3b26_11eb_b11c_b183d620c32brow11_col8\" class=\"data row11 col8\" >-0.44</td>\n",
       "                        <td id=\"T_ea56fd18_3b26_11eb_b11c_b183d620c32brow11_col9\" class=\"data row11 col9\" >-0.44</td>\n",
       "                        <td id=\"T_ea56fd18_3b26_11eb_b11c_b183d620c32brow11_col10\" class=\"data row11 col10\" >-0.18</td>\n",
       "                        <td id=\"T_ea56fd18_3b26_11eb_b11c_b183d620c32brow11_col11\" class=\"data row11 col11\" >1.00</td>\n",
       "                        <td id=\"T_ea56fd18_3b26_11eb_b11c_b183d620c32brow11_col12\" class=\"data row11 col12\" >-0.37</td>\n",
       "            </tr>\n",
       "            <tr>\n",
       "                        <th id=\"T_ea56fd18_3b26_11eb_b11c_b183d620c32blevel0_row12\" class=\"row_heading level0 row12\" >LSTAT</th>\n",
       "                        <td id=\"T_ea56fd18_3b26_11eb_b11c_b183d620c32brow12_col0\" class=\"data row12 col0\" >0.46</td>\n",
       "                        <td id=\"T_ea56fd18_3b26_11eb_b11c_b183d620c32brow12_col1\" class=\"data row12 col1\" >-0.41</td>\n",
       "                        <td id=\"T_ea56fd18_3b26_11eb_b11c_b183d620c32brow12_col2\" class=\"data row12 col2\" >0.60</td>\n",
       "                        <td id=\"T_ea56fd18_3b26_11eb_b11c_b183d620c32brow12_col3\" class=\"data row12 col3\" >-0.05</td>\n",
       "                        <td id=\"T_ea56fd18_3b26_11eb_b11c_b183d620c32brow12_col4\" class=\"data row12 col4\" >0.59</td>\n",
       "                        <td id=\"T_ea56fd18_3b26_11eb_b11c_b183d620c32brow12_col5\" class=\"data row12 col5\" >-0.61</td>\n",
       "                        <td id=\"T_ea56fd18_3b26_11eb_b11c_b183d620c32brow12_col6\" class=\"data row12 col6\" >0.60</td>\n",
       "                        <td id=\"T_ea56fd18_3b26_11eb_b11c_b183d620c32brow12_col7\" class=\"data row12 col7\" >-0.50</td>\n",
       "                        <td id=\"T_ea56fd18_3b26_11eb_b11c_b183d620c32brow12_col8\" class=\"data row12 col8\" >0.49</td>\n",
       "                        <td id=\"T_ea56fd18_3b26_11eb_b11c_b183d620c32brow12_col9\" class=\"data row12 col9\" >0.54</td>\n",
       "                        <td id=\"T_ea56fd18_3b26_11eb_b11c_b183d620c32brow12_col10\" class=\"data row12 col10\" >0.37</td>\n",
       "                        <td id=\"T_ea56fd18_3b26_11eb_b11c_b183d620c32brow12_col11\" class=\"data row12 col11\" >-0.37</td>\n",
       "                        <td id=\"T_ea56fd18_3b26_11eb_b11c_b183d620c32brow12_col12\" class=\"data row12 col12\" >1.00</td>\n",
       "            </tr>\n",
       "    </tbody></table>"
      ],
      "text/plain": [
       "<pandas.io.formats.style.Styler at 0x7f126123d610>"
      ]
     },
     "execution_count": 30,
     "metadata": {},
     "output_type": "execute_result"
    },
    {
     "data": {
      "text/plain": [
       "<Figure size 1080x1080 with 0 Axes>"
      ]
     },
     "metadata": {},
     "output_type": "display_data"
    }
   ],
   "source": [
    "import matplotlib.pyplot as plt\n",
    "corrdf2 = df.corr()\n",
    "plt.figure(figsize=(15,15))\n",
    "corrdf2.style.background_gradient(cmap='coolwarm').set_precision(2)"
   ]
  },
  {
   "cell_type": "markdown",
   "metadata": {},
   "source": [
    "Cela donne aussi, une idée de corelation entre les variables (dans le TD1 j'ai aussi regardé les courbes)."
   ]
  },
  {
   "cell_type": "markdown",
   "metadata": {},
   "source": [
    "Pour info, voici une autre maniere de représenter le même graphe. Cette fois ci j'utilise sns"
   ]
  },
  {
   "cell_type": "code",
   "execution_count": 31,
   "metadata": {},
   "outputs": [
    {
     "data": {
      "text/plain": [
       "<AxesSubplot:>"
      ]
     },
     "execution_count": 31,
     "metadata": {},
     "output_type": "execute_result"
    },
    {
     "data": {
      "image/png": "[encoded data removed]",
      "text/plain": [
       "<Figure size 720x720 with 2 Axes>"
      ]
     },
     "metadata": {
      "needs_background": "light"
     },
     "output_type": "display_data"
    }
   ],
   "source": [
    "import seaborn as sns\n",
    "corr=df.corr().round(2)\n",
    "plt.figure(figsize=(10,10))\n",
    "sns.heatmap(corr.round(2), linewidth=0.5, cmap=\"RdBu\", annot=True)"
   ]
  },
  {
   "cell_type": "markdown",
   "metadata": {},
   "source": [
    "Justifier les correlations que vous voyez ou ne voyez pas dans votre note note-book"
   ]
  },
  {
   "cell_type": "markdown",
   "metadata": {},
   "source": [
    "# Preprocessing des données : Normalisation\n",
    "\n",
    "Je normalise les données avec la fonction MinMaxScaler"
   ]
  },
  {
   "cell_type": "code",
   "execution_count": 32,
   "metadata": {},
   "outputs": [],
   "source": [
    "import sklearn.preprocessing as preprocessing\n",
    " \n",
    "minmax = preprocessing.MinMaxScaler()\n",
    "# X est une matrice avec des chiffre floatant\n",
    "minmax.fit(X)\n",
    "X_minmax = minmax.transform(X)"
   ]
  },
  {
   "cell_type": "code",
   "execution_count": 33,
   "metadata": {},
   "outputs": [],
   "source": [
    "import sklearn.preprocessing as preprocessing\n",
    " \n",
    "minmax = preprocessing.MinMaxScaler()\n",
    "# X est une matrice avec des chiffre floatant\n",
    "# minmax.fit(X)\n",
    "# X_minmax = minmax.transform(X)\n",
    "X_minmax = minmax.fit_transform(X)"
   ]
  },
  {
   "cell_type": "markdown",
   "metadata": {},
   "source": [
    "un exemple de l'effet de la normalisation plus parlant"
   ]
  },
  {
   "cell_type": "code",
   "execution_count": 34,
   "metadata": {},
   "outputs": [
    {
     "name": "stdout",
     "output_type": "stream",
     "text": [
      "Matrice Originale\n",
      "[[   8    3 6202 9559]\n",
      " [   3    3 7048 4352]\n",
      " [   5    9 6602 4489]\n",
      " [   4    3 9480 7882]]\n",
      "\n",
      "\n",
      "La matrice une fois transformée avec la fonction min-max scaler\n",
      "[[1.         0.         0.         1.        ]\n",
      " [0.         0.         0.2580842  0.        ]\n",
      " [0.4        1.         0.12202563 0.02631074]\n",
      " [0.2        0.         1.         0.67793355]]\n"
     ]
    }
   ],
   "source": [
    "import sklearn.preprocessing as preprocessing\n",
    "import numpy as np\n",
    "\n",
    "XX = np.random.randint(2, 10, size=(4, 2))\n",
    "XX2 = np.random.randint(100, 10000, size=(4, 2))\n",
    "XX = np.concatenate((XX, XX2), axis=1)\n",
    "print(\"Matrice Originale\")\n",
    "print(XX)\n",
    "\n",
    "#### min-max scaler\n",
    "\n",
    "minmax = preprocessing.MinMaxScaler()\n",
    "minmax.fit(XX)\n",
    "X_minmax = minmax.transform(XX)\n",
    "print(\"\\n\\nLa matrice une fois transformée avec la fonction min-max scaler\")\n",
    "print(X_minmax)"
   ]
  },
  {
   "cell_type": "code",
   "execution_count": 35,
   "metadata": {},
   "outputs": [],
   "source": [
    "import sklearn.preprocessing as preprocessing\n",
    "\n",
    "std = preprocessing.StandardScaler()\n",
    "std.fit(X)\n",
    "X_std = std.transform(X)"
   ]
  },
  {
   "cell_type": "markdown",
   "metadata": {},
   "source": [
    "un exemple de l'effet de la normalisation plus parlant"
   ]
  },
  {
   "cell_type": "code",
   "execution_count": 36,
   "metadata": {},
   "outputs": [
    {
     "name": "stdout",
     "output_type": "stream",
     "text": [
      "Matrice Originale\n",
      "[[   4    5 6868 7151]\n",
      " [   6    7  502 8424]\n",
      " [   4    2 1808 1302]\n",
      " [   4    8 4878 3546]]\n",
      "\n",
      "\n",
      "La matrice une fois transformée avec la fonction min-max scaler\n",
      "[[-0.57735027 -0.21821789  1.33912779  0.72203224]\n",
      " [ 1.73205081  0.65465367 -1.20257987  1.17143796]\n",
      " [-0.57735027 -1.52752523 -0.68114252 -1.34283347]\n",
      " [-0.57735027  1.09108945  0.5445946  -0.55063674]]\n"
     ]
    }
   ],
   "source": [
    "import sklearn.preprocessing as preprocessing\n",
    "import numpy as np\n",
    "\n",
    "XX = np.random.randint(2, 10, size=(4, 2))\n",
    "XX2 = np.random.randint(100, 10000, size=(4, 2))\n",
    "XX = np.concatenate((XX, XX2), axis=1)\n",
    "print(\"Matrice Originale\")\n",
    "print(XX)\n",
    "\n",
    "std = preprocessing.StandardScaler()\n",
    "std.fit(XX)\n",
    "X_std = std.transform(XX)\n",
    "print(\"\\n\\nLa matrice une fois transformée avec la fonction min-max scaler\")\n",
    "print(X_std)"
   ]
  },
  {
   "cell_type": "markdown",
   "metadata": {},
   "source": [
    "# On sépare les données dans 2 ensembles"
   ]
  },
  {
   "cell_type": "markdown",
   "metadata": {},
   "source": [
    "Maintenant je prépare les 2 jeux de données, il y donc 4 variables : X_train, X_test, Y_train, Y_test\n",
    "\n",
    "Ici, je n'ai pris que 20 % de données dans l'ensemble test"
   ]
  },
  {
   "cell_type": "code",
   "execution_count": 38,
   "metadata": {},
   "outputs": [
    {
     "name": "stdout",
     "output_type": "stream",
     "text": [
      "nombre de données dans le training set: 404\n",
      "nombre de données dans le testing set    : 102\n",
      "nombre de features/dimensions/features     : 9\n"
     ]
    }
   ],
   "source": [
    "from sklearn.model_selection import train_test_split\n",
    "\n",
    "X_train, X_test, Y_train, Y_test = train_test_split(df.drop(columns =[ 'ZN','CHAS','PTRATIO', 'B']),\n",
    "                                                    Y, test_size=0.2, random_state=42)\n",
    "\n",
    "print('nombre de données dans le training set:', X_train.shape[0])\n",
    "print('nombre de données dans le testing set    :', X_test.shape[0])\n",
    "print('nombre de features/dimensions/features     :', X_test.shape[1])"
   ]
  },
  {
   "cell_type": "markdown",
   "metadata": {},
   "source": [
    "## Régression Linéaire"
   ]
  },
  {
   "cell_type": "code",
   "execution_count": 39,
   "metadata": {},
   "outputs": [
    {
     "ename": "NameError",
     "evalue": "name 'model' is not defined",
     "output_type": "error",
     "traceback": [
      "\u001b[0;31m---------------------------------------------------------------------------\u001b[0m",
      "\u001b[0;31mNameError\u001b[0m                                 Traceback (most recent call last)",
      "\u001b[0;32m<ipython-input-39-c1e9e96e88b7>\u001b[0m in \u001b[0;36m<module>\u001b[0;34m\u001b[0m\n\u001b[0;32m----> 1\u001b[0;31m \u001b[0mmodel\u001b[0m\u001b[0;34m.\u001b[0m\u001b[0mscore\u001b[0m\u001b[0;34m(\u001b[0m\u001b[0mX_test\u001b[0m\u001b[0;34m,\u001b[0m \u001b[0mY_test\u001b[0m\u001b[0;34m)\u001b[0m\u001b[0;34m\u001b[0m\u001b[0;34m\u001b[0m\u001b[0m\n\u001b[0m",
      "\u001b[0;31mNameError\u001b[0m: name 'model' is not defined"
     ]
    }
   ],
   "source": [
    "model.score(X_test, Y_test)"
   ]
  },
  {
   "cell_type": "code",
   "execution_count": 40,
   "metadata": {},
   "outputs": [],
   "source": [
    "a = Y_test.astype(str)"
   ]
  },
  {
   "cell_type": "code",
   "execution_count": 41,
   "metadata": {},
   "outputs": [
    {
     "data": {
      "text/plain": [
       "Prix    object\n",
       "dtype: object"
      ]
     },
     "execution_count": 41,
     "metadata": {},
     "output_type": "execute_result"
    }
   ],
   "source": [
    "a.dtypes"
   ]
  },
  {
   "cell_type": "code",
   "execution_count": 42,
   "metadata": {},
   "outputs": [
    {
     "data": {
      "text/plain": [
       "Text(0.5, 1.0, 'Prices vs Predicted prices: $Y_i$ vs $\\\\hat{Y}_i$')"
      ]
     },
     "execution_count": 42,
     "metadata": {},
     "output_type": "execute_result"
    },
    {
     "data": {
      "image/png": "[encoded data removed]",
      "text/plain": [
       "<Figure size 432x288 with 1 Axes>"
      ]
     },
     "metadata": {
      "needs_background": "light"
     },
     "output_type": "display_data"
    }
   ],
   "source": [
    "from sklearn.linear_model import LinearRegression\n",
    "\n",
    "model = LinearRegression()\n",
    "model.fit(X_train, Y_train)\n",
    "\n",
    "Y_pred = model.predict(X_test)\n",
    "\n",
    "plt.scatter(Y_test, Y_pred)\n",
    "plt.xlabel(\"Prices: $Y_i$\")\n",
    "plt.ylabel(\"Predicted prices: $\\hat{Y}_i$\")\n",
    "plt.title(\"Prices vs Predicted prices: $Y_i$ vs $\\hat{Y}_i$\")"
   ]
  },
  {
   "cell_type": "code",
   "execution_count": 43,
   "metadata": {},
   "outputs": [
    {
     "name": "stdout",
     "output_type": "stream",
     "text": [
      "Les premieres 5 prediction [[28.00828631]\n",
      " [32.83197073]\n",
      " [15.47741945]\n",
      " [26.63205576]\n",
      " [18.55509275]]\n",
      "Les premieres 5 valeurs [[28.00828631]\n",
      " [32.83197073]\n",
      " [15.47741945]\n",
      " [26.63205576]\n",
      " [18.55509275]]\n",
      "Mean Squared Error 29.8496428621843\n"
     ]
    }
   ],
   "source": [
    "import sklearn.metrics as metrics\n",
    "print(\"Les premieres 5 prediction {}\".format(Y_pred[:5]))\n",
    "print(\"Les premieres 5 valeurs {}\".format(Y_pred[:5]))\n",
    "\n",
    "mse = metrics.mean_squared_error(Y_test, Y_pred)\n",
    "print(\"Mean Squared Error {}\".format(mse))"
   ]
  },
  {
   "cell_type": "code",
   "execution_count": null,
   "metadata": {},
   "outputs": [],
   "source": [
    "print(model.coef_)\n",
    "print(model.intercept_)"
   ]
  },
  {
   "cell_type": "code",
   "execution_count": null,
   "metadata": {},
   "outputs": [],
   "source": []
  }
 ],
 "metadata": {
  "hide_input": false,
  "kernelspec": {
   "display_name": "Python 3 (ipykernel)",
   "language": "python",
   "name": "python3"
  },
  "language_info": {
   "codemirror_mode": {
    "name": "ipython",
    "version": 3
   },
   "file_extension": ".py",
   "mimetype": "text/x-python",
   "name": "python",
   "nbconvert_exporter": "python",
   "pygments_lexer": "ipython3",
   "version": "3.7.7"
  },
  "toc": {
   "base_numbering": 1,
   "nav_menu": {},
   "number_sections": true,
   "sideBar": true,
   "skip_h1_title": false,
   "title_cell": "Sommaire",
   "title_sidebar": "Sommaire",
   "toc_cell": true,
   "toc_position": {},
   "toc_section_display": true,
   "toc_window_display": true
  },
  "varInspector": {
   "cols": {
    "lenName": 16,
    "lenType": 16,
    "lenVar": 40
   },
   "kernels_config": {
    "python": {
     "delete_cmd_postfix": "",
     "delete_cmd_prefix": "del ",
     "library": "var_list.py",
     "varRefreshCmd": "print(var_dic_list())"
    },
    "r": {
     "delete_cmd_postfix": ") ",
     "delete_cmd_prefix": "rm(",
     "library": "var_list.r",
     "varRefreshCmd": "cat(var_dic_list()) "
    }
   },
   "types_to_exclude": [
    "module",
    "function",
    "builtin_function_or_method",
    "instance",
    "_Feature"
   ],
   "window_display": false
  }
 },
 "nbformat": 4,
 "nbformat_minor": 4
}
