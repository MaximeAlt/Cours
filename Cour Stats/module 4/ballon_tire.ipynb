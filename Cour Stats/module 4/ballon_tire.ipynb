{
 "cells": [
  {
   "cell_type": "code",
   "execution_count": 20,
   "id": "d7a01fee-a2ef-4749-a0b0-7dc5177e7786",
   "metadata": {},
   "outputs": [
    {
     "name": "stdout",
     "output_type": "stream",
     "text": [
      "Requirement already satisfied: mca in c:\\programdata\\anaconda3\\lib\\site-packages (1.0.3)\n",
      "Requirement already satisfied: numpy in c:\\programdata\\anaconda3\\lib\\site-packages (from mca) (1.21.5)\n",
      "Requirement already satisfied: pandas in c:\\programdata\\anaconda3\\lib\\site-packages (from mca) (1.4.2)\n",
      "Requirement already satisfied: scipy in c:\\programdata\\anaconda3\\lib\\site-packages (from mca) (1.7.3)\n",
      "Requirement already satisfied: python-dateutil>=2.8.1 in c:\\programdata\\anaconda3\\lib\\site-packages (from pandas->mca) (2.8.2)\n",
      "Requirement already satisfied: pytz>=2020.1 in c:\\programdata\\anaconda3\\lib\\site-packages (from pandas->mca) (2021.3)\n",
      "Requirement already satisfied: six>=1.5 in c:\\programdata\\anaconda3\\lib\\site-packages (from python-dateutil>=2.8.1->pandas->mca) (1.16.0)\n",
      "Note: you may need to restart the kernel to use updated packages.\n"
     ]
    }
   ],
   "source": [
    "pip install mca"
   ]
  },
  {
   "cell_type": "code",
   "execution_count": 2,
   "id": "50b2f897-e597-46e8-b310-f67ab269f8ac",
   "metadata": {},
   "outputs": [
    {
     "name": "stdout",
     "output_type": "stream",
     "text": [
      "Collecting torchNote: you may need to restart the kernel to use updated packages.\n",
      "\n",
      "  Downloading torch-1.13.0-cp39-cp39-win_amd64.whl (167.2 MB)\n",
      "     -------------------------------------- 167.2/167.2 MB 2.3 MB/s eta 0:00:00\n",
      "Requirement already satisfied: typing-extensions in c:\\programdata\\anaconda3\\lib\\site-packages (from torch) (4.1.1)\n",
      "Installing collected packages: torch\n",
      "Successfully installed torch-1.13.0\n"
     ]
    }
   ],
   "source": [
    "pip install torch"
   ]
  },
  {
   "cell_type": "code",
   "execution_count": 26,
   "id": "0b013e91-35e6-4e77-80ac-40db12a1ce36",
   "metadata": {},
   "outputs": [],
   "source": [
    "import mca\n",
    "import pandas as pd\n",
    "import numpy as np\n",
    "from fanalysis.mca import MCA"
   ]
  },
  {
   "cell_type": "code",
   "execution_count": 48,
   "id": "e8147ffb-d1d1-4c1b-b01c-3217ff5a5323",
   "metadata": {},
   "outputs": [],
   "source": [
    "import pandas as pd\n",
    "import mca\n",
    "import pandas as pd\n",
    "import numpy as np\n",
    "from scipy.linalg import diagsvd\n",
    "%matplotlib inline\n",
    "import matplotlib.pyplot as plt\n",
    "\n",
    "\n",
    "import functools\n",
    "def Matrix_mult(*args):\n",
    "    \"\"\"An internal method to multiply matrices.\"\"\"\n",
    "    return functools.reduce(np.dot, args)\n",
    "\n",
    "np.set_printoptions(formatter={'float': '{: 0.4f}'.format})\n",
    "pd.set_option('display.precision', 5)\n",
    "pd.set_option('display.max_columns', 25)"
   ]
  },
  {
   "cell_type": "code",
   "execution_count": 6,
   "id": "43310651-5f46-49ef-9443-ba73656b80a3",
   "metadata": {},
   "outputs": [
    {
     "data": {
      "text/html": [
       "<div>\n",
       "<style scoped>\n",
       "    .dataframe tbody tr th:only-of-type {\n",
       "        vertical-align: middle;\n",
       "    }\n",
       "\n",
       "    .dataframe tbody tr th {\n",
       "        vertical-align: top;\n",
       "    }\n",
       "\n",
       "    .dataframe thead th {\n",
       "        text-align: right;\n",
       "    }\n",
       "</style>\n",
       "<table border=\"1\" class=\"dataframe\">\n",
       "  <thead>\n",
       "    <tr style=\"text-align: right;\">\n",
       "      <th></th>\n",
       "      <th>idBallon</th>\n",
       "      <th>Color</th>\n",
       "      <th>Size</th>\n",
       "      <th>Action</th>\n",
       "      <th>Age</th>\n",
       "      <th>Inflated</th>\n",
       "    </tr>\n",
       "  </thead>\n",
       "  <tbody>\n",
       "    <tr>\n",
       "      <th>0</th>\n",
       "      <td>0</td>\n",
       "      <td>YELLOW</td>\n",
       "      <td>SMALL</td>\n",
       "      <td>STRETCH</td>\n",
       "      <td>ADULT</td>\n",
       "      <td>T</td>\n",
       "    </tr>\n",
       "    <tr>\n",
       "      <th>1</th>\n",
       "      <td>1</td>\n",
       "      <td>YELLOW</td>\n",
       "      <td>SMALL</td>\n",
       "      <td>STRETCH</td>\n",
       "      <td>CHILD</td>\n",
       "      <td>F</td>\n",
       "    </tr>\n",
       "    <tr>\n",
       "      <th>2</th>\n",
       "      <td>2</td>\n",
       "      <td>YELLOW</td>\n",
       "      <td>SMALL</td>\n",
       "      <td>DIP</td>\n",
       "      <td>ADULT</td>\n",
       "      <td>F</td>\n",
       "    </tr>\n",
       "    <tr>\n",
       "      <th>3</th>\n",
       "      <td>3</td>\n",
       "      <td>YELLOW</td>\n",
       "      <td>SMALL</td>\n",
       "      <td>DIP</td>\n",
       "      <td>CHILD</td>\n",
       "      <td>F</td>\n",
       "    </tr>\n",
       "    <tr>\n",
       "      <th>4</th>\n",
       "      <td>4</td>\n",
       "      <td>YELLOW</td>\n",
       "      <td>LARGE</td>\n",
       "      <td>STRETCH</td>\n",
       "      <td>ADULT</td>\n",
       "      <td>T</td>\n",
       "    </tr>\n",
       "    <tr>\n",
       "      <th>5</th>\n",
       "      <td>5</td>\n",
       "      <td>YELLOW</td>\n",
       "      <td>LARGE</td>\n",
       "      <td>STRETCH</td>\n",
       "      <td>ADULT</td>\n",
       "      <td>T</td>\n",
       "    </tr>\n",
       "    <tr>\n",
       "      <th>6</th>\n",
       "      <td>6</td>\n",
       "      <td>YELLOW</td>\n",
       "      <td>LARGE</td>\n",
       "      <td>STRETCH</td>\n",
       "      <td>CHILD</td>\n",
       "      <td>F</td>\n",
       "    </tr>\n",
       "    <tr>\n",
       "      <th>7</th>\n",
       "      <td>7</td>\n",
       "      <td>YELLOW</td>\n",
       "      <td>LARGE</td>\n",
       "      <td>DIP</td>\n",
       "      <td>ADULT</td>\n",
       "      <td>F</td>\n",
       "    </tr>\n",
       "    <tr>\n",
       "      <th>8</th>\n",
       "      <td>8</td>\n",
       "      <td>YELLOW</td>\n",
       "      <td>LARGE</td>\n",
       "      <td>DIP</td>\n",
       "      <td>CHILD</td>\n",
       "      <td>F</td>\n",
       "    </tr>\n",
       "    <tr>\n",
       "      <th>9</th>\n",
       "      <td>9</td>\n",
       "      <td>PURPLE</td>\n",
       "      <td>SMALL</td>\n",
       "      <td>STRETCH</td>\n",
       "      <td>ADULT</td>\n",
       "      <td>T</td>\n",
       "    </tr>\n",
       "    <tr>\n",
       "      <th>10</th>\n",
       "      <td>10</td>\n",
       "      <td>PURPLE</td>\n",
       "      <td>SMALL</td>\n",
       "      <td>STRETCH</td>\n",
       "      <td>ADULT</td>\n",
       "      <td>T</td>\n",
       "    </tr>\n",
       "    <tr>\n",
       "      <th>11</th>\n",
       "      <td>11</td>\n",
       "      <td>PURPLE</td>\n",
       "      <td>SMALL</td>\n",
       "      <td>STRETCH</td>\n",
       "      <td>CHILD</td>\n",
       "      <td>F</td>\n",
       "    </tr>\n",
       "    <tr>\n",
       "      <th>12</th>\n",
       "      <td>12</td>\n",
       "      <td>PURPLE</td>\n",
       "      <td>SMALL</td>\n",
       "      <td>DIP</td>\n",
       "      <td>ADULT</td>\n",
       "      <td>F</td>\n",
       "    </tr>\n",
       "    <tr>\n",
       "      <th>13</th>\n",
       "      <td>13</td>\n",
       "      <td>PURPLE</td>\n",
       "      <td>SMALL</td>\n",
       "      <td>DIP</td>\n",
       "      <td>CHILD</td>\n",
       "      <td>F</td>\n",
       "    </tr>\n",
       "    <tr>\n",
       "      <th>14</th>\n",
       "      <td>14</td>\n",
       "      <td>PURPLE</td>\n",
       "      <td>LARGE</td>\n",
       "      <td>STRETCH</td>\n",
       "      <td>ADULT</td>\n",
       "      <td>T</td>\n",
       "    </tr>\n",
       "    <tr>\n",
       "      <th>15</th>\n",
       "      <td>15</td>\n",
       "      <td>PURPLE</td>\n",
       "      <td>LARGE</td>\n",
       "      <td>STRETCH</td>\n",
       "      <td>ADULT</td>\n",
       "      <td>T</td>\n",
       "    </tr>\n",
       "    <tr>\n",
       "      <th>16</th>\n",
       "      <td>16</td>\n",
       "      <td>PURPLE</td>\n",
       "      <td>LARGE</td>\n",
       "      <td>STRETCH</td>\n",
       "      <td>CHILD</td>\n",
       "      <td>F</td>\n",
       "    </tr>\n",
       "    <tr>\n",
       "      <th>17</th>\n",
       "      <td>17</td>\n",
       "      <td>PURPLE</td>\n",
       "      <td>LARGE</td>\n",
       "      <td>DIP</td>\n",
       "      <td>ADULT</td>\n",
       "      <td>F</td>\n",
       "    </tr>\n",
       "    <tr>\n",
       "      <th>18</th>\n",
       "      <td>18</td>\n",
       "      <td>PURPLE</td>\n",
       "      <td>LARGE</td>\n",
       "      <td>DIP</td>\n",
       "      <td>CHILD</td>\n",
       "      <td>F</td>\n",
       "    </tr>\n",
       "  </tbody>\n",
       "</table>\n",
       "</div>"
      ],
      "text/plain": [
       "    idBallon   Color   Size   Action    Age Inflated\n",
       "0          0  YELLOW  SMALL  STRETCH  ADULT        T\n",
       "1          1  YELLOW  SMALL  STRETCH  CHILD        F\n",
       "2          2  YELLOW  SMALL      DIP  ADULT        F\n",
       "3          3  YELLOW  SMALL      DIP  CHILD        F\n",
       "4          4  YELLOW  LARGE  STRETCH  ADULT        T\n",
       "5          5  YELLOW  LARGE  STRETCH  ADULT        T\n",
       "6          6  YELLOW  LARGE  STRETCH  CHILD        F\n",
       "7          7  YELLOW  LARGE      DIP  ADULT        F\n",
       "8          8  YELLOW  LARGE      DIP  CHILD        F\n",
       "9          9  PURPLE  SMALL  STRETCH  ADULT        T\n",
       "10        10  PURPLE  SMALL  STRETCH  ADULT        T\n",
       "11        11  PURPLE  SMALL  STRETCH  CHILD        F\n",
       "12        12  PURPLE  SMALL      DIP  ADULT        F\n",
       "13        13  PURPLE  SMALL      DIP  CHILD        F\n",
       "14        14  PURPLE  LARGE  STRETCH  ADULT        T\n",
       "15        15  PURPLE  LARGE  STRETCH  ADULT        T\n",
       "16        16  PURPLE  LARGE  STRETCH  CHILD        F\n",
       "17        17  PURPLE  LARGE      DIP  ADULT        F\n",
       "18        18  PURPLE  LARGE      DIP  CHILD        F"
      ]
     },
     "execution_count": 6,
     "metadata": {},
     "output_type": "execute_result"
    }
   ],
   "source": [
    "df = pd.read_csv(\"ballon_tire.csv\")\n",
    "df"
   ]
  },
  {
   "cell_type": "code",
   "execution_count": 13,
   "id": "bb6a27b1-0e45-4bfe-90ce-3724b4fda3ba",
   "metadata": {},
   "outputs": [
    {
     "data": {
      "text/html": [
       "<div>\n",
       "<style scoped>\n",
       "    .dataframe tbody tr th:only-of-type {\n",
       "        vertical-align: middle;\n",
       "    }\n",
       "\n",
       "    .dataframe tbody tr th {\n",
       "        vertical-align: top;\n",
       "    }\n",
       "\n",
       "    .dataframe thead th {\n",
       "        text-align: right;\n",
       "    }\n",
       "</style>\n",
       "<table border=\"1\" class=\"dataframe\">\n",
       "  <thead>\n",
       "    <tr style=\"text-align: right;\">\n",
       "      <th></th>\n",
       "      <th>Color_PURPLE</th>\n",
       "      <th>Color_YELLOW</th>\n",
       "      <th>Size_LARGE</th>\n",
       "      <th>Size_SMALL</th>\n",
       "      <th>Action_DIP</th>\n",
       "      <th>Action_STRETCH</th>\n",
       "      <th>Age_ADULT</th>\n",
       "      <th>Age_CHILD</th>\n",
       "      <th>Inflated_F</th>\n",
       "      <th>Inflated_T</th>\n",
       "    </tr>\n",
       "    <tr>\n",
       "      <th>idBallon</th>\n",
       "      <th></th>\n",
       "      <th></th>\n",
       "      <th></th>\n",
       "      <th></th>\n",
       "      <th></th>\n",
       "      <th></th>\n",
       "      <th></th>\n",
       "      <th></th>\n",
       "      <th></th>\n",
       "      <th></th>\n",
       "    </tr>\n",
       "  </thead>\n",
       "  <tbody>\n",
       "    <tr>\n",
       "      <th>0</th>\n",
       "      <td>0</td>\n",
       "      <td>1</td>\n",
       "      <td>0</td>\n",
       "      <td>1</td>\n",
       "      <td>0</td>\n",
       "      <td>1</td>\n",
       "      <td>1</td>\n",
       "      <td>0</td>\n",
       "      <td>0</td>\n",
       "      <td>1</td>\n",
       "    </tr>\n",
       "    <tr>\n",
       "      <th>1</th>\n",
       "      <td>0</td>\n",
       "      <td>1</td>\n",
       "      <td>0</td>\n",
       "      <td>1</td>\n",
       "      <td>0</td>\n",
       "      <td>1</td>\n",
       "      <td>0</td>\n",
       "      <td>1</td>\n",
       "      <td>1</td>\n",
       "      <td>0</td>\n",
       "    </tr>\n",
       "    <tr>\n",
       "      <th>2</th>\n",
       "      <td>0</td>\n",
       "      <td>1</td>\n",
       "      <td>0</td>\n",
       "      <td>1</td>\n",
       "      <td>1</td>\n",
       "      <td>0</td>\n",
       "      <td>1</td>\n",
       "      <td>0</td>\n",
       "      <td>1</td>\n",
       "      <td>0</td>\n",
       "    </tr>\n",
       "    <tr>\n",
       "      <th>3</th>\n",
       "      <td>0</td>\n",
       "      <td>1</td>\n",
       "      <td>0</td>\n",
       "      <td>1</td>\n",
       "      <td>1</td>\n",
       "      <td>0</td>\n",
       "      <td>0</td>\n",
       "      <td>1</td>\n",
       "      <td>1</td>\n",
       "      <td>0</td>\n",
       "    </tr>\n",
       "    <tr>\n",
       "      <th>4</th>\n",
       "      <td>0</td>\n",
       "      <td>1</td>\n",
       "      <td>1</td>\n",
       "      <td>0</td>\n",
       "      <td>0</td>\n",
       "      <td>1</td>\n",
       "      <td>1</td>\n",
       "      <td>0</td>\n",
       "      <td>0</td>\n",
       "      <td>1</td>\n",
       "    </tr>\n",
       "    <tr>\n",
       "      <th>5</th>\n",
       "      <td>0</td>\n",
       "      <td>1</td>\n",
       "      <td>1</td>\n",
       "      <td>0</td>\n",
       "      <td>0</td>\n",
       "      <td>1</td>\n",
       "      <td>1</td>\n",
       "      <td>0</td>\n",
       "      <td>0</td>\n",
       "      <td>1</td>\n",
       "    </tr>\n",
       "    <tr>\n",
       "      <th>6</th>\n",
       "      <td>0</td>\n",
       "      <td>1</td>\n",
       "      <td>1</td>\n",
       "      <td>0</td>\n",
       "      <td>0</td>\n",
       "      <td>1</td>\n",
       "      <td>0</td>\n",
       "      <td>1</td>\n",
       "      <td>1</td>\n",
       "      <td>0</td>\n",
       "    </tr>\n",
       "    <tr>\n",
       "      <th>7</th>\n",
       "      <td>0</td>\n",
       "      <td>1</td>\n",
       "      <td>1</td>\n",
       "      <td>0</td>\n",
       "      <td>1</td>\n",
       "      <td>0</td>\n",
       "      <td>1</td>\n",
       "      <td>0</td>\n",
       "      <td>1</td>\n",
       "      <td>0</td>\n",
       "    </tr>\n",
       "    <tr>\n",
       "      <th>8</th>\n",
       "      <td>0</td>\n",
       "      <td>1</td>\n",
       "      <td>1</td>\n",
       "      <td>0</td>\n",
       "      <td>1</td>\n",
       "      <td>0</td>\n",
       "      <td>0</td>\n",
       "      <td>1</td>\n",
       "      <td>1</td>\n",
       "      <td>0</td>\n",
       "    </tr>\n",
       "    <tr>\n",
       "      <th>9</th>\n",
       "      <td>1</td>\n",
       "      <td>0</td>\n",
       "      <td>0</td>\n",
       "      <td>1</td>\n",
       "      <td>0</td>\n",
       "      <td>1</td>\n",
       "      <td>1</td>\n",
       "      <td>0</td>\n",
       "      <td>0</td>\n",
       "      <td>1</td>\n",
       "    </tr>\n",
       "    <tr>\n",
       "      <th>10</th>\n",
       "      <td>1</td>\n",
       "      <td>0</td>\n",
       "      <td>0</td>\n",
       "      <td>1</td>\n",
       "      <td>0</td>\n",
       "      <td>1</td>\n",
       "      <td>1</td>\n",
       "      <td>0</td>\n",
       "      <td>0</td>\n",
       "      <td>1</td>\n",
       "    </tr>\n",
       "    <tr>\n",
       "      <th>11</th>\n",
       "      <td>1</td>\n",
       "      <td>0</td>\n",
       "      <td>0</td>\n",
       "      <td>1</td>\n",
       "      <td>0</td>\n",
       "      <td>1</td>\n",
       "      <td>0</td>\n",
       "      <td>1</td>\n",
       "      <td>1</td>\n",
       "      <td>0</td>\n",
       "    </tr>\n",
       "    <tr>\n",
       "      <th>12</th>\n",
       "      <td>1</td>\n",
       "      <td>0</td>\n",
       "      <td>0</td>\n",
       "      <td>1</td>\n",
       "      <td>1</td>\n",
       "      <td>0</td>\n",
       "      <td>1</td>\n",
       "      <td>0</td>\n",
       "      <td>1</td>\n",
       "      <td>0</td>\n",
       "    </tr>\n",
       "    <tr>\n",
       "      <th>13</th>\n",
       "      <td>1</td>\n",
       "      <td>0</td>\n",
       "      <td>0</td>\n",
       "      <td>1</td>\n",
       "      <td>1</td>\n",
       "      <td>0</td>\n",
       "      <td>0</td>\n",
       "      <td>1</td>\n",
       "      <td>1</td>\n",
       "      <td>0</td>\n",
       "    </tr>\n",
       "    <tr>\n",
       "      <th>14</th>\n",
       "      <td>1</td>\n",
       "      <td>0</td>\n",
       "      <td>1</td>\n",
       "      <td>0</td>\n",
       "      <td>0</td>\n",
       "      <td>1</td>\n",
       "      <td>1</td>\n",
       "      <td>0</td>\n",
       "      <td>0</td>\n",
       "      <td>1</td>\n",
       "    </tr>\n",
       "    <tr>\n",
       "      <th>15</th>\n",
       "      <td>1</td>\n",
       "      <td>0</td>\n",
       "      <td>1</td>\n",
       "      <td>0</td>\n",
       "      <td>0</td>\n",
       "      <td>1</td>\n",
       "      <td>1</td>\n",
       "      <td>0</td>\n",
       "      <td>0</td>\n",
       "      <td>1</td>\n",
       "    </tr>\n",
       "    <tr>\n",
       "      <th>16</th>\n",
       "      <td>1</td>\n",
       "      <td>0</td>\n",
       "      <td>1</td>\n",
       "      <td>0</td>\n",
       "      <td>0</td>\n",
       "      <td>1</td>\n",
       "      <td>0</td>\n",
       "      <td>1</td>\n",
       "      <td>1</td>\n",
       "      <td>0</td>\n",
       "    </tr>\n",
       "    <tr>\n",
       "      <th>17</th>\n",
       "      <td>1</td>\n",
       "      <td>0</td>\n",
       "      <td>1</td>\n",
       "      <td>0</td>\n",
       "      <td>1</td>\n",
       "      <td>0</td>\n",
       "      <td>1</td>\n",
       "      <td>0</td>\n",
       "      <td>1</td>\n",
       "      <td>0</td>\n",
       "    </tr>\n",
       "    <tr>\n",
       "      <th>18</th>\n",
       "      <td>1</td>\n",
       "      <td>0</td>\n",
       "      <td>1</td>\n",
       "      <td>0</td>\n",
       "      <td>1</td>\n",
       "      <td>0</td>\n",
       "      <td>0</td>\n",
       "      <td>1</td>\n",
       "      <td>1</td>\n",
       "      <td>0</td>\n",
       "    </tr>\n",
       "  </tbody>\n",
       "</table>\n",
       "</div>"
      ],
      "text/plain": [
       "          Color_PURPLE  Color_YELLOW  Size_LARGE  Size_SMALL  Action_DIP  \\\n",
       "idBallon                                                                   \n",
       "0                    0             1           0           1           0   \n",
       "1                    0             1           0           1           0   \n",
       "2                    0             1           0           1           1   \n",
       "3                    0             1           0           1           1   \n",
       "4                    0             1           1           0           0   \n",
       "5                    0             1           1           0           0   \n",
       "6                    0             1           1           0           0   \n",
       "7                    0             1           1           0           1   \n",
       "8                    0             1           1           0           1   \n",
       "9                    1             0           0           1           0   \n",
       "10                   1             0           0           1           0   \n",
       "11                   1             0           0           1           0   \n",
       "12                   1             0           0           1           1   \n",
       "13                   1             0           0           1           1   \n",
       "14                   1             0           1           0           0   \n",
       "15                   1             0           1           0           0   \n",
       "16                   1             0           1           0           0   \n",
       "17                   1             0           1           0           1   \n",
       "18                   1             0           1           0           1   \n",
       "\n",
       "          Action_STRETCH  Age_ADULT  Age_CHILD  Inflated_F  Inflated_T  \n",
       "idBallon                                                                \n",
       "0                      1          1          0           0           1  \n",
       "1                      1          0          1           1           0  \n",
       "2                      0          1          0           1           0  \n",
       "3                      0          0          1           1           0  \n",
       "4                      1          1          0           0           1  \n",
       "5                      1          1          0           0           1  \n",
       "6                      1          0          1           1           0  \n",
       "7                      0          1          0           1           0  \n",
       "8                      0          0          1           1           0  \n",
       "9                      1          1          0           0           1  \n",
       "10                     1          1          0           0           1  \n",
       "11                     1          0          1           1           0  \n",
       "12                     0          1          0           1           0  \n",
       "13                     0          0          1           1           0  \n",
       "14                     1          1          0           0           1  \n",
       "15                     1          1          0           0           1  \n",
       "16                     1          0          1           1           0  \n",
       "17                     0          1          0           1           0  \n",
       "18                     0          0          1           1           0  "
      ]
     },
     "execution_count": 13,
     "metadata": {},
     "output_type": "execute_result"
    }
   ],
   "source": [
    "dfBinary = pd.get_dummies(df)\n",
    "dfBinary.set_index(['idBallon'], inplace = True)\n",
    "dfBinary"
   ]
  },
  {
   "cell_type": "code",
   "execution_count": 15,
   "id": "9a611c13-c14b-4880-a90e-abfa812468fb",
   "metadata": {},
   "outputs": [
    {
     "name": "stdout",
     "output_type": "stream",
     "text": [
      "<class 'pandas.core.frame.DataFrame'>\n",
      "Int64Index: 19 entries, 0 to 18\n",
      "Data columns (total 10 columns):\n",
      " #   Column          Non-Null Count  Dtype\n",
      "---  ------          --------------  -----\n",
      " 0   Color_PURPLE    19 non-null     uint8\n",
      " 1   Color_YELLOW    19 non-null     uint8\n",
      " 2   Size_LARGE      19 non-null     uint8\n",
      " 3   Size_SMALL      19 non-null     uint8\n",
      " 4   Action_DIP      19 non-null     uint8\n",
      " 5   Action_STRETCH  19 non-null     uint8\n",
      " 6   Age_ADULT       19 non-null     uint8\n",
      " 7   Age_CHILD       19 non-null     uint8\n",
      " 8   Inflated_F      19 non-null     uint8\n",
      " 9   Inflated_T      19 non-null     uint8\n",
      "dtypes: uint8(10)\n",
      "memory usage: 342.0 bytes\n"
     ]
    }
   ],
   "source": [
    "dfBinary.info()"
   ]
  },
  {
   "cell_type": "code",
   "execution_count": 16,
   "id": "3ccbbfff-050e-4699-8bd1-2a1c6d684ad9",
   "metadata": {},
   "outputs": [],
   "source": [
    "ncols = 10"
   ]
  },
  {
   "cell_type": "code",
   "execution_count": 29,
   "id": "f1847549-3209-4d0f-87f4-95ae7159852f",
   "metadata": {},
   "outputs": [
    {
     "data": {
      "text/plain": [
       "array([[0, 1, 0, 1, 0, 1, 1, 0, 0, 1],\n",
       "       [0, 1, 0, 1, 0, 1, 0, 1, 1, 0],\n",
       "       [0, 1, 0, 1, 1, 0, 1, 0, 1, 0],\n",
       "       [0, 1, 0, 1, 1, 0, 0, 1, 1, 0],\n",
       "       [0, 1, 1, 0, 0, 1, 1, 0, 0, 1],\n",
       "       [0, 1, 1, 0, 0, 1, 1, 0, 0, 1],\n",
       "       [0, 1, 1, 0, 0, 1, 0, 1, 1, 0],\n",
       "       [0, 1, 1, 0, 1, 0, 1, 0, 1, 0],\n",
       "       [0, 1, 1, 0, 1, 0, 0, 1, 1, 0],\n",
       "       [1, 0, 0, 1, 0, 1, 1, 0, 0, 1],\n",
       "       [1, 0, 0, 1, 0, 1, 1, 0, 0, 1],\n",
       "       [1, 0, 0, 1, 0, 1, 0, 1, 1, 0],\n",
       "       [1, 0, 0, 1, 1, 0, 1, 0, 1, 0],\n",
       "       [1, 0, 0, 1, 1, 0, 0, 1, 1, 0],\n",
       "       [1, 0, 1, 0, 0, 1, 1, 0, 0, 1],\n",
       "       [1, 0, 1, 0, 0, 1, 1, 0, 0, 1],\n",
       "       [1, 0, 1, 0, 0, 1, 0, 1, 1, 0],\n",
       "       [1, 0, 1, 0, 1, 0, 1, 0, 1, 0],\n",
       "       [1, 0, 1, 0, 1, 0, 0, 1, 1, 0]], dtype=uint8)"
      ]
     },
     "execution_count": 29,
     "metadata": {},
     "output_type": "execute_result"
    }
   ],
   "source": [
    "X = dfBinary.values\n",
    "X"
   ]
  },
  {
   "cell_type": "code",
   "execution_count": 39,
   "id": "67398a25-26a5-4dc1-baad-0bce01cb1d0c",
   "metadata": {},
   "outputs": [],
   "source": [
    "my_mca = MCA(row_labels=dfBinary.index.values[:], var_labels=dfBinary.columns.values[:])"
   ]
  },
  {
   "cell_type": "code",
   "execution_count": 40,
   "id": "b8c1fb50-99d3-4134-a46f-4e5ac6426a82",
   "metadata": {},
   "outputs": [
    {
     "data": {
      "text/plain": [
       "MCA(row_labels=array([ 0,  1,  2,  3,  4,  5,  6,  7,  8,  9, 10, 11, 12, 13, 14, 15, 16,\n",
       "       17, 18], dtype=int64),\n",
       "    var_labels=array(['Color_PURPLE', 'Color_YELLOW', 'Size_LARGE', 'Size_SMALL',\n",
       "       'Action_DIP', 'Action_STRETCH', 'Age_ADULT', 'Age_CHILD',\n",
       "       'Inflated_F', 'Inflated_T'], dtype=object))"
      ]
     },
     "execution_count": 40,
     "metadata": {},
     "output_type": "execute_result"
    }
   ],
   "source": [
    "my_mca.fit(X)"
   ]
  },
  {
   "cell_type": "code",
   "execution_count": 31,
   "id": "ed9a52bb-310d-4cad-8b4a-152af7daf5de",
   "metadata": {},
   "outputs": [
    {
     "data": {
      "image/png": "[encoded data removed]",
      "text/plain": [
       "<Figure size 432x288 with 1 Axes>"
      ]
     },
     "metadata": {
      "needs_background": "light"
     },
     "output_type": "display_data"
    }
   ],
   "source": [
    "my_mca.plot_eigenvalues(type=\"cumulative\")"
   ]
  },
  {
   "cell_type": "code",
   "execution_count": 67,
   "id": "fe4df541-a8b5-48f7-928e-79eb494ef385",
   "metadata": {},
   "outputs": [
    {
     "data": {
      "image/png": "[encoded data removed]",
      "text/plain": [
       "<Figure size 720x576 with 1 Axes>"
      ]
     },
     "metadata": {
      "needs_background": "light"
     },
     "output_type": "display_data"
    }
   ],
   "source": [
    "# Mapping simultané des points lignes et colonnes\n",
    "# Les paramètres de la méthode mapping indiquent que ce sont les axes 1 et 2 qui sont ici représentés\n",
    "my_mca.mapping(num_x_axis=1, num_y_axis=2, short_labels = False,figsize=(10, 8))"
   ]
  },
  {
   "cell_type": "code",
   "execution_count": 54,
   "id": "b4c6b8ef-2d3b-41e9-a58f-1ee61d8a0bf5",
   "metadata": {},
   "outputs": [
    {
     "data": {
      "image/png": "[encoded data removed]",
      "text/plain": [
       "<Figure size 432x288 with 1 Axes>"
      ]
     },
     "metadata": {
      "needs_background": "light"
     },
     "output_type": "display_data"
    }
   ],
   "source": [
    "my_mca.mapping_row(num_x_axis=1, num_y_axis=2)"
   ]
  },
  {
   "cell_type": "code",
   "execution_count": 59,
   "id": "9469a1df-ede3-4b78-ae0b-2fa3e32f2897",
   "metadata": {},
   "outputs": [
    {
     "data": {
      "image/png": "[encoded data removed]",
      "text/plain": [
       "<Figure size 720x576 with 1 Axes>"
      ]
     },
     "metadata": {
      "needs_background": "light"
     },
     "output_type": "display_data"
    }
   ],
   "source": [
    "my_mca.mapping_col(num_x_axis=1, num_y_axis=2,short_labels = False, figsize=(10, 8))"
   ]
  },
  {
   "cell_type": "code",
   "execution_count": 35,
   "id": "50be7565-ac0f-41c4-bc1c-e2c7106a4294",
   "metadata": {},
   "outputs": [
    {
     "data": {
      "image/png": "[encoded data removed]",
      "text/plain": [
       "<Figure size 432x288 with 1 Axes>"
      ]
     },
     "metadata": {
      "needs_background": "light"
     },
     "output_type": "display_data"
    }
   ],
   "source": [
    "my_mca.plot_row_contrib(num_axis=1)"
   ]
  },
  {
   "cell_type": "code",
   "execution_count": 36,
   "id": "ce866cd4-ec7a-4121-9381-6758af845365",
   "metadata": {},
   "outputs": [
    {
     "data": {
      "image/png": "[encoded data removed]",
      "text/plain": [
       "<Figure size 432x288 with 1 Axes>"
      ]
     },
     "metadata": {
      "needs_background": "light"
     },
     "output_type": "display_data"
    }
   ],
   "source": [
    "my_mca.plot_row_cos2(num_axis=1)"
   ]
  },
  {
   "cell_type": "code",
   "execution_count": 61,
   "id": "b5ce9e0b-9843-4ec0-a3fb-d8bc0412a690",
   "metadata": {},
   "outputs": [
    {
     "data": {
      "image/png": "[encoded data removed]",
      "text/plain": [
       "<Figure size 432x288 with 1 Axes>"
      ]
     },
     "metadata": {
      "needs_background": "light"
     },
     "output_type": "display_data"
    }
   ],
   "source": [
    "# Classement des points colonnes en fonction de leur contribution au 1er axe\n",
    "my_mca.plot_col_contrib(num_axis=1,short_labels = False)"
   ]
  },
  {
   "cell_type": "code",
   "execution_count": 63,
   "id": "58a5da09-4c71-4571-bfdd-d3b1fc555fff",
   "metadata": {},
   "outputs": [
    {
     "data": {
      "image/png": "[encoded data removed]",
      "text/plain": [
       "<Figure size 432x288 with 1 Axes>"
      ]
     },
     "metadata": {
      "needs_background": "light"
     },
     "output_type": "display_data"
    }
   ],
   "source": [
    "my_mca.plot_col_contrib(num_axis=2, short_labels = False)"
   ]
  },
  {
   "cell_type": "code",
   "execution_count": 65,
   "id": "e97d35eb-45c0-4b35-b367-fa12673ccff0",
   "metadata": {},
   "outputs": [
    {
     "data": {
      "image/png": "[encoded data removed]",
      "text/plain": [
       "<Figure size 432x288 with 1 Axes>"
      ]
     },
     "metadata": {
      "needs_background": "light"
     },
     "output_type": "display_data"
    }
   ],
   "source": [
    "my_mca.plot_col_cos2(num_axis=1, short_labels = False)"
   ]
  }
 ],
 "metadata": {
  "kernelspec": {
   "display_name": "Python 3 (ipykernel)",
   "language": "python",
   "name": "python3"
  },
  "language_info": {
   "codemirror_mode": {
    "name": "ipython",
    "version": 3
   },
   "file_extension": ".py",
   "mimetype": "text/x-python",
   "name": "python",
   "nbconvert_exporter": "python",
   "pygments_lexer": "ipython3",
   "version": "3.9.13"
  }
 },
 "nbformat": 4,
 "nbformat_minor": 5
}
