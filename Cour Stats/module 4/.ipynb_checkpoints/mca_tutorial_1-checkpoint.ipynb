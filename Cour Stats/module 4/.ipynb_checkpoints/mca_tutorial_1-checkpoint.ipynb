{
 "cells": [
  {
   "cell_type": "markdown",
   "metadata": {},
   "source": [
    "<h1><i>Package fanalysis</i><br /></h1>\n",
    "<h2>Analyse des Correspondances Multiples</h2>\n",
    "<p>\n",
    "Ce tutoriel a pour objectif de présenter rapidement les principales fonctionnalités offertes par le package <i>fanalysis</i> pour réaliser une Analyse des Correspondances Multiples.<br />\n",
    "Il suppose connu les soubassements théoriques de cette méthode.<br />\n",
    "Il ne s'attarde pas non plus sur l'interprétation du jeu de données, qui n'a pour but que de présenter les fonctionnalités du package.<br />\n",
    "2 approches sont présentées :\n",
    "<ul>\n",
    "    <li>Une approche \"datamining\" : l'ACM vise à décrire un jeu de données</li>\n",
    "    <li>Une approche \"machine learning\" : l'ACM est utilisée comme méthode de réduction des données, le résultat servant d'entrée pour un modèle prédictif (nous ferons ici l'usage d'outils de scikit-learn).</li>\n",
    "</ul>\n",
    "</p>\n",
    "\n"
   ]
  },
  {
   "cell_type": "markdown",
   "metadata": {},
   "source": [
    "<h1>I. Approche Datamining</h1>\n",
    "<p>\n",
    "L'ACM a ici pour but de décrire un fichier de données.<br />\n",
    "Celui-ci est extrait du site de Ricco Rakotomalala (Université Lyon 2) :<br />\n",
    "http://eric.univ-lyon2.fr/%7Ericco/tanagra/fichiers/races_canines_acm.xls<br />\n",
    "</p>\n",
    "<p>\n",
    "Nous partons d'un fichier texte intitulé \"mca_data.txt\".<br />\n",
    "On importe la librairie pandas pour charger les données, ainsi que la classe MCA du package <i>fanalysis</i>.<br />\n",
    "Les données sont transformées en matrice de type numpy.ndarray.\n",
    "</p>\n",
    "<p>Dans la matrice de données X, les catégories peuvent être codées :\n",
    "<ul>\n",
    "    <li>soit par des entiers</li>\n",
    "    <li>soit par des chaines de caractères</li>\n",
    "</ul>\n",
    "</p>\n",
    "<p>Dans cet exemple, les catégories sont codées par des chaines de caractère.</p>"
   ]
  },
  {
   "cell_type": "code",
   "execution_count": 1,
   "metadata": {},
   "outputs": [],
   "source": [
    "import pandas as pd\n",
    "import numpy as np\n",
    "from scipy.linalg import diagsvd\n",
    "%matplotlib inline\n",
    "import matplotlib.pyplot as plt\n",
    "\n",
    "\n",
    "import functools\n",
    "def Matrix_mult(*args):\n",
    "    \"\"\"An internal method to multiply matrices.\"\"\"\n",
    "    return functools.reduce(np.dot, args)\n",
    "\n",
    "np.set_printoptions(formatter={'float': '{: 0.4f}'.format})\n",
    "pd.set_option('display.precision', 5)\n",
    "pd.set_option('display.max_columns', 25)"
   ]
  },
  {
   "cell_type": "code",
   "execution_count": 2,
   "metadata": {},
   "outputs": [
    {
     "data": {
      "text/html": [
       "<div>\n",
       "<style scoped>\n",
       "    .dataframe tbody tr th:only-of-type {\n",
       "        vertical-align: middle;\n",
       "    }\n",
       "\n",
       "    .dataframe tbody tr th {\n",
       "        vertical-align: top;\n",
       "    }\n",
       "\n",
       "    .dataframe thead th {\n",
       "        text-align: right;\n",
       "    }\n",
       "</style>\n",
       "<table border=\"1\" class=\"dataframe\">\n",
       "  <thead>\n",
       "    <tr style=\"text-align: right;\">\n",
       "      <th></th>\n",
       "      <th>oak_type</th>\n",
       "      <th>fruity_1</th>\n",
       "      <th>fruity_1.1</th>\n",
       "      <th>woody_1</th>\n",
       "      <th>woody_1.1</th>\n",
       "      <th>woody_1.2</th>\n",
       "      <th>coffee</th>\n",
       "      <th>coffee.1</th>\n",
       "      <th>fruity_2</th>\n",
       "      <th>fruity_2.1</th>\n",
       "      <th>roasted</th>\n",
       "      <th>roasted.1</th>\n",
       "      <th>vanillin</th>\n",
       "      <th>vanillin.1</th>\n",
       "      <th>vanillin.2</th>\n",
       "      <th>woody_2</th>\n",
       "      <th>woody_2.1</th>\n",
       "      <th>fruity_3</th>\n",
       "      <th>fruity_3.1</th>\n",
       "      <th>buttery</th>\n",
       "      <th>buttery.1</th>\n",
       "      <th>woody_3</th>\n",
       "      <th>woody_3.1</th>\n",
       "    </tr>\n",
       "    <tr>\n",
       "      <th>Wine</th>\n",
       "      <th></th>\n",
       "      <th></th>\n",
       "      <th></th>\n",
       "      <th></th>\n",
       "      <th></th>\n",
       "      <th></th>\n",
       "      <th></th>\n",
       "      <th></th>\n",
       "      <th></th>\n",
       "      <th></th>\n",
       "      <th></th>\n",
       "      <th></th>\n",
       "      <th></th>\n",
       "      <th></th>\n",
       "      <th></th>\n",
       "      <th></th>\n",
       "      <th></th>\n",
       "      <th></th>\n",
       "      <th></th>\n",
       "      <th></th>\n",
       "      <th></th>\n",
       "      <th></th>\n",
       "      <th></th>\n",
       "    </tr>\n",
       "  </thead>\n",
       "  <tbody>\n",
       "    <tr>\n",
       "      <th>W1</th>\n",
       "      <td>1</td>\n",
       "      <td>1</td>\n",
       "      <td>0</td>\n",
       "      <td>0</td>\n",
       "      <td>0</td>\n",
       "      <td>1</td>\n",
       "      <td>0</td>\n",
       "      <td>1</td>\n",
       "      <td>1</td>\n",
       "      <td>0</td>\n",
       "      <td>0</td>\n",
       "      <td>1</td>\n",
       "      <td>0</td>\n",
       "      <td>0</td>\n",
       "      <td>1</td>\n",
       "      <td>0</td>\n",
       "      <td>1</td>\n",
       "      <td>0</td>\n",
       "      <td>1</td>\n",
       "      <td>0</td>\n",
       "      <td>1</td>\n",
       "      <td>0</td>\n",
       "      <td>1</td>\n",
       "    </tr>\n",
       "    <tr>\n",
       "      <th>W2</th>\n",
       "      <td>2</td>\n",
       "      <td>0</td>\n",
       "      <td>1</td>\n",
       "      <td>0</td>\n",
       "      <td>1</td>\n",
       "      <td>0</td>\n",
       "      <td>1</td>\n",
       "      <td>0</td>\n",
       "      <td>0</td>\n",
       "      <td>1</td>\n",
       "      <td>1</td>\n",
       "      <td>0</td>\n",
       "      <td>0</td>\n",
       "      <td>1</td>\n",
       "      <td>0</td>\n",
       "      <td>1</td>\n",
       "      <td>0</td>\n",
       "      <td>0</td>\n",
       "      <td>1</td>\n",
       "      <td>1</td>\n",
       "      <td>0</td>\n",
       "      <td>1</td>\n",
       "      <td>0</td>\n",
       "    </tr>\n",
       "    <tr>\n",
       "      <th>W3</th>\n",
       "      <td>2</td>\n",
       "      <td>0</td>\n",
       "      <td>1</td>\n",
       "      <td>1</td>\n",
       "      <td>0</td>\n",
       "      <td>0</td>\n",
       "      <td>1</td>\n",
       "      <td>0</td>\n",
       "      <td>0</td>\n",
       "      <td>1</td>\n",
       "      <td>1</td>\n",
       "      <td>0</td>\n",
       "      <td>1</td>\n",
       "      <td>0</td>\n",
       "      <td>0</td>\n",
       "      <td>1</td>\n",
       "      <td>0</td>\n",
       "      <td>0</td>\n",
       "      <td>1</td>\n",
       "      <td>1</td>\n",
       "      <td>0</td>\n",
       "      <td>1</td>\n",
       "      <td>0</td>\n",
       "    </tr>\n",
       "    <tr>\n",
       "      <th>W4</th>\n",
       "      <td>2</td>\n",
       "      <td>0</td>\n",
       "      <td>1</td>\n",
       "      <td>1</td>\n",
       "      <td>0</td>\n",
       "      <td>0</td>\n",
       "      <td>1</td>\n",
       "      <td>0</td>\n",
       "      <td>0</td>\n",
       "      <td>1</td>\n",
       "      <td>1</td>\n",
       "      <td>0</td>\n",
       "      <td>1</td>\n",
       "      <td>0</td>\n",
       "      <td>0</td>\n",
       "      <td>1</td>\n",
       "      <td>0</td>\n",
       "      <td>1</td>\n",
       "      <td>0</td>\n",
       "      <td>1</td>\n",
       "      <td>0</td>\n",
       "      <td>1</td>\n",
       "      <td>0</td>\n",
       "    </tr>\n",
       "    <tr>\n",
       "      <th>W5</th>\n",
       "      <td>1</td>\n",
       "      <td>1</td>\n",
       "      <td>0</td>\n",
       "      <td>0</td>\n",
       "      <td>0</td>\n",
       "      <td>1</td>\n",
       "      <td>0</td>\n",
       "      <td>1</td>\n",
       "      <td>1</td>\n",
       "      <td>0</td>\n",
       "      <td>0</td>\n",
       "      <td>1</td>\n",
       "      <td>0</td>\n",
       "      <td>0</td>\n",
       "      <td>1</td>\n",
       "      <td>0</td>\n",
       "      <td>1</td>\n",
       "      <td>1</td>\n",
       "      <td>0</td>\n",
       "      <td>0</td>\n",
       "      <td>1</td>\n",
       "      <td>0</td>\n",
       "      <td>1</td>\n",
       "    </tr>\n",
       "    <tr>\n",
       "      <th>W6</th>\n",
       "      <td>1</td>\n",
       "      <td>1</td>\n",
       "      <td>0</td>\n",
       "      <td>0</td>\n",
       "      <td>1</td>\n",
       "      <td>0</td>\n",
       "      <td>0</td>\n",
       "      <td>1</td>\n",
       "      <td>1</td>\n",
       "      <td>0</td>\n",
       "      <td>0</td>\n",
       "      <td>1</td>\n",
       "      <td>0</td>\n",
       "      <td>1</td>\n",
       "      <td>0</td>\n",
       "      <td>0</td>\n",
       "      <td>1</td>\n",
       "      <td>1</td>\n",
       "      <td>0</td>\n",
       "      <td>0</td>\n",
       "      <td>1</td>\n",
       "      <td>0</td>\n",
       "      <td>1</td>\n",
       "    </tr>\n",
       "  </tbody>\n",
       "</table>\n",
       "</div>"
      ],
      "text/plain": [
       "      oak_type  fruity_1  fruity_1.1  woody_1  woody_1.1  woody_1.2  coffee  \\\n",
       "Wine                                                                          \n",
       "W1           1         1           0        0          0          1       0   \n",
       "W2           2         0           1        0          1          0       1   \n",
       "W3           2         0           1        1          0          0       1   \n",
       "W4           2         0           1        1          0          0       1   \n",
       "W5           1         1           0        0          0          1       0   \n",
       "W6           1         1           0        0          1          0       0   \n",
       "\n",
       "      coffee.1  fruity_2  fruity_2.1  roasted  roasted.1  vanillin  \\\n",
       "Wine                                                                 \n",
       "W1           1         1           0        0          1         0   \n",
       "W2           0         0           1        1          0         0   \n",
       "W3           0         0           1        1          0         1   \n",
       "W4           0         0           1        1          0         1   \n",
       "W5           1         1           0        0          1         0   \n",
       "W6           1         1           0        0          1         0   \n",
       "\n",
       "      vanillin.1  vanillin.2  woody_2  woody_2.1  fruity_3  fruity_3.1  \\\n",
       "Wine                                                                     \n",
       "W1             0           1        0          1         0           1   \n",
       "W2             1           0        1          0         0           1   \n",
       "W3             0           0        1          0         0           1   \n",
       "W4             0           0        1          0         1           0   \n",
       "W5             0           1        0          1         1           0   \n",
       "W6             1           0        0          1         1           0   \n",
       "\n",
       "      buttery  buttery.1  woody_3  woody_3.1  \n",
       "Wine                                          \n",
       "W1          0          1        0          1  \n",
       "W2          1          0        1          0  \n",
       "W3          1          0        1          0  \n",
       "W4          1          0        1          0  \n",
       "W5          0          1        0          1  \n",
       "W6          0          1        0          1  "
      ]
     },
     "execution_count": 2,
     "metadata": {},
     "output_type": "execute_result"
    }
   ],
   "source": [
    "data = pd.read_table('burgundies.csv',\n",
    "                     sep=',', skiprows=1, index_col=0, header=0)\n",
    "data"
   ]
  },
  {
   "cell_type": "code",
   "execution_count": 3,
   "metadata": {},
   "outputs": [
    {
     "data": {
      "text/plain": [
       "((6, 22), (6,), (22,))"
      ]
     },
     "execution_count": 3,
     "metadata": {},
     "output_type": "execute_result"
    }
   ],
   "source": [
    "X = data.drop('oak_type', axis=1)\n",
    "j_sup = data.oak_type\n",
    "i_sup = np.array([0, 1, 0, 1, 0, .5, .5, 1, 0, 1, 0, 0, 1, 0, .5, .5, 1, 0, .5, .5, 0, 1])\n",
    "ncols = 10\n",
    "\n",
    "X.shape, j_sup.shape, i_sup.shape"
   ]
  },
  {
   "cell_type": "code",
   "execution_count": 4,
   "metadata": {},
   "outputs": [
    {
     "data": {
      "text/plain": [
       "array([ 0.0000,  1.0000,  0.0000,  1.0000,  0.0000,  0.5000,  0.5000,\n",
       "        1.0000,  0.0000,  1.0000,  0.0000,  0.0000,  1.0000,  0.0000,\n",
       "        0.5000,  0.5000,  1.0000,  0.0000,  0.5000,  0.5000,  0.0000,\n",
       "        1.0000])"
      ]
     },
     "execution_count": 4,
     "metadata": {},
     "output_type": "execute_result"
    }
   ],
   "source": [
    "i_sup "
   ]
  },
  {
   "cell_type": "code",
   "execution_count": 5,
   "metadata": {},
   "outputs": [
    {
     "data": {
      "text/html": [
       "<div>\n",
       "<style scoped>\n",
       "    .dataframe tbody tr th:only-of-type {\n",
       "        vertical-align: middle;\n",
       "    }\n",
       "\n",
       "    .dataframe tbody tr th {\n",
       "        vertical-align: top;\n",
       "    }\n",
       "\n",
       "    .dataframe thead tr th {\n",
       "        text-align: left;\n",
       "    }\n",
       "\n",
       "    .dataframe thead tr:last-of-type th {\n",
       "        text-align: right;\n",
       "    }\n",
       "</style>\n",
       "<table border=\"1\" class=\"dataframe\">\n",
       "  <thead>\n",
       "    <tr>\n",
       "      <th>source</th>\n",
       "      <th colspan=\"7\" halign=\"left\">Expert 1</th>\n",
       "      <th colspan=\"9\" halign=\"left\">Expert 2</th>\n",
       "      <th colspan=\"6\" halign=\"left\">Expert 3</th>\n",
       "      <th></th>\n",
       "    </tr>\n",
       "    <tr>\n",
       "      <th>variable</th>\n",
       "      <th colspan=\"2\" halign=\"left\">fruity</th>\n",
       "      <th colspan=\"3\" halign=\"left\">woody</th>\n",
       "      <th colspan=\"2\" halign=\"left\">coffee</th>\n",
       "      <th colspan=\"2\" halign=\"left\">fruity</th>\n",
       "      <th colspan=\"2\" halign=\"left\">roasted</th>\n",
       "      <th colspan=\"3\" halign=\"left\">vanillin</th>\n",
       "      <th colspan=\"2\" halign=\"left\">woody</th>\n",
       "      <th colspan=\"2\" halign=\"left\">fruity</th>\n",
       "      <th colspan=\"2\" halign=\"left\">butter</th>\n",
       "      <th colspan=\"2\" halign=\"left\">woody</th>\n",
       "      <th>Oak Type</th>\n",
       "    </tr>\n",
       "    <tr>\n",
       "      <th>value</th>\n",
       "      <th>y</th>\n",
       "      <th>n</th>\n",
       "      <th>1</th>\n",
       "      <th>2</th>\n",
       "      <th>3</th>\n",
       "      <th>y</th>\n",
       "      <th>n</th>\n",
       "      <th>y</th>\n",
       "      <th>n</th>\n",
       "      <th>y</th>\n",
       "      <th>n</th>\n",
       "      <th>1</th>\n",
       "      <th>2</th>\n",
       "      <th>3</th>\n",
       "      <th>y</th>\n",
       "      <th>n</th>\n",
       "      <th>y</th>\n",
       "      <th>n</th>\n",
       "      <th>y</th>\n",
       "      <th>n</th>\n",
       "      <th>y</th>\n",
       "      <th>n</th>\n",
       "      <th></th>\n",
       "    </tr>\n",
       "    <tr>\n",
       "      <th>Wine</th>\n",
       "      <th></th>\n",
       "      <th></th>\n",
       "      <th></th>\n",
       "      <th></th>\n",
       "      <th></th>\n",
       "      <th></th>\n",
       "      <th></th>\n",
       "      <th></th>\n",
       "      <th></th>\n",
       "      <th></th>\n",
       "      <th></th>\n",
       "      <th></th>\n",
       "      <th></th>\n",
       "      <th></th>\n",
       "      <th></th>\n",
       "      <th></th>\n",
       "      <th></th>\n",
       "      <th></th>\n",
       "      <th></th>\n",
       "      <th></th>\n",
       "      <th></th>\n",
       "      <th></th>\n",
       "      <th></th>\n",
       "    </tr>\n",
       "  </thead>\n",
       "  <tbody>\n",
       "    <tr>\n",
       "      <th>W1</th>\n",
       "      <td>1.0</td>\n",
       "      <td>0.0</td>\n",
       "      <td>0.0</td>\n",
       "      <td>0.0</td>\n",
       "      <td>1.0</td>\n",
       "      <td>0.0</td>\n",
       "      <td>1.0</td>\n",
       "      <td>1.0</td>\n",
       "      <td>0.0</td>\n",
       "      <td>0.0</td>\n",
       "      <td>1.0</td>\n",
       "      <td>0.0</td>\n",
       "      <td>0.0</td>\n",
       "      <td>1.0</td>\n",
       "      <td>0.0</td>\n",
       "      <td>1.0</td>\n",
       "      <td>0.0</td>\n",
       "      <td>1.0</td>\n",
       "      <td>0.0</td>\n",
       "      <td>1.0</td>\n",
       "      <td>0.0</td>\n",
       "      <td>1.0</td>\n",
       "      <td>1.0</td>\n",
       "    </tr>\n",
       "    <tr>\n",
       "      <th>W2</th>\n",
       "      <td>0.0</td>\n",
       "      <td>1.0</td>\n",
       "      <td>0.0</td>\n",
       "      <td>1.0</td>\n",
       "      <td>0.0</td>\n",
       "      <td>1.0</td>\n",
       "      <td>0.0</td>\n",
       "      <td>0.0</td>\n",
       "      <td>1.0</td>\n",
       "      <td>1.0</td>\n",
       "      <td>0.0</td>\n",
       "      <td>0.0</td>\n",
       "      <td>1.0</td>\n",
       "      <td>0.0</td>\n",
       "      <td>1.0</td>\n",
       "      <td>0.0</td>\n",
       "      <td>0.0</td>\n",
       "      <td>1.0</td>\n",
       "      <td>1.0</td>\n",
       "      <td>0.0</td>\n",
       "      <td>1.0</td>\n",
       "      <td>0.0</td>\n",
       "      <td>2.0</td>\n",
       "    </tr>\n",
       "    <tr>\n",
       "      <th>W3</th>\n",
       "      <td>0.0</td>\n",
       "      <td>1.0</td>\n",
       "      <td>1.0</td>\n",
       "      <td>0.0</td>\n",
       "      <td>0.0</td>\n",
       "      <td>1.0</td>\n",
       "      <td>0.0</td>\n",
       "      <td>0.0</td>\n",
       "      <td>1.0</td>\n",
       "      <td>1.0</td>\n",
       "      <td>0.0</td>\n",
       "      <td>1.0</td>\n",
       "      <td>0.0</td>\n",
       "      <td>0.0</td>\n",
       "      <td>1.0</td>\n",
       "      <td>0.0</td>\n",
       "      <td>0.0</td>\n",
       "      <td>1.0</td>\n",
       "      <td>1.0</td>\n",
       "      <td>0.0</td>\n",
       "      <td>1.0</td>\n",
       "      <td>0.0</td>\n",
       "      <td>2.0</td>\n",
       "    </tr>\n",
       "    <tr>\n",
       "      <th>W4</th>\n",
       "      <td>0.0</td>\n",
       "      <td>1.0</td>\n",
       "      <td>1.0</td>\n",
       "      <td>0.0</td>\n",
       "      <td>0.0</td>\n",
       "      <td>1.0</td>\n",
       "      <td>0.0</td>\n",
       "      <td>0.0</td>\n",
       "      <td>1.0</td>\n",
       "      <td>1.0</td>\n",
       "      <td>0.0</td>\n",
       "      <td>1.0</td>\n",
       "      <td>0.0</td>\n",
       "      <td>0.0</td>\n",
       "      <td>1.0</td>\n",
       "      <td>0.0</td>\n",
       "      <td>1.0</td>\n",
       "      <td>0.0</td>\n",
       "      <td>1.0</td>\n",
       "      <td>0.0</td>\n",
       "      <td>1.0</td>\n",
       "      <td>0.0</td>\n",
       "      <td>2.0</td>\n",
       "    </tr>\n",
       "    <tr>\n",
       "      <th>W5</th>\n",
       "      <td>1.0</td>\n",
       "      <td>0.0</td>\n",
       "      <td>0.0</td>\n",
       "      <td>0.0</td>\n",
       "      <td>1.0</td>\n",
       "      <td>0.0</td>\n",
       "      <td>1.0</td>\n",
       "      <td>1.0</td>\n",
       "      <td>0.0</td>\n",
       "      <td>0.0</td>\n",
       "      <td>1.0</td>\n",
       "      <td>0.0</td>\n",
       "      <td>0.0</td>\n",
       "      <td>1.0</td>\n",
       "      <td>0.0</td>\n",
       "      <td>1.0</td>\n",
       "      <td>1.0</td>\n",
       "      <td>0.0</td>\n",
       "      <td>0.0</td>\n",
       "      <td>1.0</td>\n",
       "      <td>0.0</td>\n",
       "      <td>1.0</td>\n",
       "      <td>1.0</td>\n",
       "    </tr>\n",
       "    <tr>\n",
       "      <th>W6</th>\n",
       "      <td>1.0</td>\n",
       "      <td>0.0</td>\n",
       "      <td>0.0</td>\n",
       "      <td>1.0</td>\n",
       "      <td>0.0</td>\n",
       "      <td>0.0</td>\n",
       "      <td>1.0</td>\n",
       "      <td>1.0</td>\n",
       "      <td>0.0</td>\n",
       "      <td>0.0</td>\n",
       "      <td>1.0</td>\n",
       "      <td>0.0</td>\n",
       "      <td>1.0</td>\n",
       "      <td>0.0</td>\n",
       "      <td>0.0</td>\n",
       "      <td>1.0</td>\n",
       "      <td>1.0</td>\n",
       "      <td>0.0</td>\n",
       "      <td>0.0</td>\n",
       "      <td>1.0</td>\n",
       "      <td>0.0</td>\n",
       "      <td>1.0</td>\n",
       "      <td>1.0</td>\n",
       "    </tr>\n",
       "    <tr>\n",
       "      <th>W?</th>\n",
       "      <td>0.0</td>\n",
       "      <td>1.0</td>\n",
       "      <td>0.0</td>\n",
       "      <td>1.0</td>\n",
       "      <td>0.0</td>\n",
       "      <td>0.5</td>\n",
       "      <td>0.5</td>\n",
       "      <td>1.0</td>\n",
       "      <td>0.0</td>\n",
       "      <td>1.0</td>\n",
       "      <td>0.0</td>\n",
       "      <td>0.0</td>\n",
       "      <td>1.0</td>\n",
       "      <td>0.0</td>\n",
       "      <td>0.5</td>\n",
       "      <td>0.5</td>\n",
       "      <td>1.0</td>\n",
       "      <td>0.0</td>\n",
       "      <td>0.5</td>\n",
       "      <td>0.5</td>\n",
       "      <td>0.0</td>\n",
       "      <td>1.0</td>\n",
       "      <td>NaN</td>\n",
       "    </tr>\n",
       "  </tbody>\n",
       "</table>\n",
       "</div>"
      ],
      "text/plain": [
       "source   Expert 1                                  Expert 2                    \\\n",
       "variable   fruity      woody           coffee        fruity      roasted        \n",
       "value           y    n     1    2    3      y    n        y    n       y    n   \n",
       "Wine                                                                            \n",
       "W1            1.0  0.0   0.0  0.0  1.0    0.0  1.0      1.0  0.0     0.0  1.0   \n",
       "W2            0.0  1.0   0.0  1.0  0.0    1.0  0.0      0.0  1.0     1.0  0.0   \n",
       "W3            0.0  1.0   1.0  0.0  0.0    1.0  0.0      0.0  1.0     1.0  0.0   \n",
       "W4            0.0  1.0   1.0  0.0  0.0    1.0  0.0      0.0  1.0     1.0  0.0   \n",
       "W5            1.0  0.0   0.0  0.0  1.0    0.0  1.0      1.0  0.0     0.0  1.0   \n",
       "W6            1.0  0.0   0.0  1.0  0.0    0.0  1.0      1.0  0.0     0.0  1.0   \n",
       "W?            0.0  1.0   0.0  1.0  0.0    0.5  0.5      1.0  0.0     1.0  0.0   \n",
       "\n",
       "source                                 Expert 3                              \\\n",
       "variable vanillin           woody        fruity      butter      woody        \n",
       "value           1    2    3     y    n        y    n      y    n     y    n   \n",
       "Wine                                                                          \n",
       "W1            0.0  0.0  1.0   0.0  1.0      0.0  1.0    0.0  1.0   0.0  1.0   \n",
       "W2            0.0  1.0  0.0   1.0  0.0      0.0  1.0    1.0  0.0   1.0  0.0   \n",
       "W3            1.0  0.0  0.0   1.0  0.0      0.0  1.0    1.0  0.0   1.0  0.0   \n",
       "W4            1.0  0.0  0.0   1.0  0.0      1.0  0.0    1.0  0.0   1.0  0.0   \n",
       "W5            0.0  0.0  1.0   0.0  1.0      1.0  0.0    0.0  1.0   0.0  1.0   \n",
       "W6            0.0  1.0  0.0   0.0  1.0      1.0  0.0    0.0  1.0   0.0  1.0   \n",
       "W?            0.0  1.0  0.0   0.5  0.5      1.0  0.0    0.5  0.5   0.0  1.0   \n",
       "\n",
       "source             \n",
       "variable Oak Type  \n",
       "value              \n",
       "Wine               \n",
       "W1            1.0  \n",
       "W2            2.0  \n",
       "W3            2.0  \n",
       "W4            2.0  \n",
       "W5            1.0  \n",
       "W6            1.0  \n",
       "W?            NaN  "
      ]
     },
     "execution_count": 5,
     "metadata": {},
     "output_type": "execute_result"
    }
   ],
   "source": [
    "src_index = (['Expert 1'] * 7 + ['Expert 2'] * 9 + ['Expert 3'] * 6)\n",
    "var_index = (['fruity'] * 2 + ['woody'] * 3 + ['coffee'] * 2 + ['fruity'] * 2\n",
    "             + ['roasted'] * 2 + ['vanillin'] * 3 + ['woody'] * 2 + ['fruity'] * 2\n",
    "             + ['butter'] * 2 + ['woody'] * 2)\n",
    "yn = ['y','n']; rg = ['1', '2', '3']; val_index = yn + rg + yn*3 + rg + yn*4\n",
    "col_index = pd.MultiIndex.from_arrays([src_index, var_index, val_index], \n",
    "                                      names=['source', 'variable', 'value'])\n",
    "\n",
    "table1 = pd.DataFrame(data=X.values, index=X.index, columns=col_index)\n",
    "table1.loc['W?'] = i_sup\n",
    "table1['','Oak Type',''] = j_sup\n",
    "\n",
    "table1"
   ]
  },
  {
   "cell_type": "markdown",
   "metadata": {},
   "source": [
    "L'analyse va porter sur les 6 premières variables."
   ]
  },
  {
   "cell_type": "code",
   "execution_count": 44,
   "metadata": {},
   "outputs": [
    {
     "data": {
      "text/plain": [
       "array([[ 1.0000,  0.0000,  0.0000,  0.0000,  1.0000,  0.0000,  1.0000,\n",
       "         1.0000,  0.0000,  0.0000,  1.0000,  0.0000,  0.0000,  1.0000,\n",
       "         0.0000,  1.0000,  0.0000,  1.0000,  0.0000,  1.0000],\n",
       "       [ 0.0000,  1.0000,  0.0000,  1.0000,  0.0000,  1.0000,  0.0000,\n",
       "         0.0000,  1.0000,  1.0000,  0.0000,  0.0000,  1.0000,  0.0000,\n",
       "         1.0000,  0.0000,  0.0000,  1.0000,  1.0000,  0.0000],\n",
       "       [ 0.0000,  1.0000,  1.0000,  0.0000,  0.0000,  1.0000,  0.0000,\n",
       "         0.0000,  1.0000,  1.0000,  0.0000,  1.0000,  0.0000,  0.0000,\n",
       "         1.0000,  0.0000,  0.0000,  1.0000,  1.0000,  0.0000],\n",
       "       [ 0.0000,  1.0000,  1.0000,  0.0000,  0.0000,  1.0000,  0.0000,\n",
       "         0.0000,  1.0000,  1.0000,  0.0000,  1.0000,  0.0000,  0.0000,\n",
       "         1.0000,  0.0000,  1.0000,  0.0000,  1.0000,  0.0000],\n",
       "       [ 1.0000,  0.0000,  0.0000,  0.0000,  1.0000,  0.0000,  1.0000,\n",
       "         1.0000,  0.0000,  0.0000,  1.0000,  0.0000,  0.0000,  1.0000,\n",
       "         0.0000,  1.0000,  1.0000,  0.0000,  0.0000,  1.0000],\n",
       "       [ 1.0000,  0.0000,  0.0000,  1.0000,  0.0000,  0.0000,  1.0000,\n",
       "         1.0000,  0.0000,  0.0000,  1.0000,  0.0000,  1.0000,  0.0000,\n",
       "         0.0000,  1.0000,  1.0000,  0.0000,  0.0000,  1.0000]])"
      ]
     },
     "execution_count": 44,
     "metadata": {},
     "output_type": "execute_result"
    }
   ],
   "source": [
    "X = table1.iloc[:-1, 0:20].values\n",
    "X"
   ]
  },
  {
   "cell_type": "markdown",
   "metadata": {},
   "source": [
    "<p>On crée une instance de la classe MCA, en lui passant ici des étiquettes pour les lignes et les variables. Ces paramètres sont facultatifs ; en leur absence, le programme détermine automatiquement des étiquettes.</p>"
   ]
  },
  {
   "cell_type": "code",
   "execution_count": 56,
   "metadata": {},
   "outputs": [],
   "source": [
    "from fanalysis.mca import MCA"
   ]
  },
  {
   "cell_type": "code",
   "execution_count": 8,
   "metadata": {},
   "outputs": [],
   "source": [
    "df = data"
   ]
  },
  {
   "cell_type": "code",
   "execution_count": 9,
   "metadata": {},
   "outputs": [],
   "source": [
    "my_mca = MCA(row_labels=df.index.values[0:6], var_labels=df.columns.values[0:19])"
   ]
  },
  {
   "cell_type": "markdown",
   "metadata": {},
   "source": [
    "On estime le modèle en appliquant la méthode <i>fit</i> de la classe MCA sur le jeu de données."
   ]
  },
  {
   "cell_type": "code",
   "execution_count": 10,
   "metadata": {},
   "outputs": [
    {
     "data": {
      "text/plain": [
       "MCA(row_labels=array(['W1', 'W2', 'W3', 'W4', 'W5', 'W6'], dtype=object),\n",
       "    var_labels=array(['oak_type', 'fruity_1', 'fruity_1.1', 'woody_1', 'woody_1.1',\n",
       "       'woody_1.2', 'coffee', 'coffee.1', 'fruity_2', 'fruity_2.1',\n",
       "       'roasted', 'roasted.1', 'vanillin', 'vanillin.1', 'vanillin.2',\n",
       "       'woody_2', 'woody_2.1', 'fruity_3', 'fruity_3.1'], dtype=object))"
      ]
     },
     "execution_count": 10,
     "metadata": {},
     "output_type": "execute_result"
    }
   ],
   "source": [
    "my_mca.fit(X)"
   ]
  },
  {
   "cell_type": "code",
   "execution_count": 11,
   "metadata": {
    "scrolled": true
   },
   "outputs": [
    {
     "data": {
      "text/plain": [
       "MCA(row_labels=array(['W1', 'W2', 'W3', 'W4', 'W5', 'W6'], dtype=object),\n",
       "    var_labels=array(['oak_type', 'fruity_1', 'fruity_1.1', 'woody_1', 'woody_1.1',\n",
       "       'woody_1.2', 'coffee', 'coffee.1', 'fruity_2', 'fruity_2.1',\n",
       "       'roasted', 'roasted.1', 'vanillin', 'vanillin.1', 'vanillin.2',\n",
       "       'woody_2', 'woody_2.1', 'fruity_3', 'fruity_3.1'], dtype=object))"
      ]
     },
     "execution_count": 11,
     "metadata": {},
     "output_type": "execute_result"
    }
   ],
   "source": [
    "my_mca.fit(X)"
   ]
  },
  {
   "cell_type": "markdown",
   "metadata": {},
   "source": [
    "<p>\n",
    "L'exécution de la méthode <i>my_mca.fit(X)</i> provoque a minima le calcul des attributs :\n",
    "<ul>\n",
    "    <li><i>my\\_pca.eig\\_</i> : valeurs propres</li>\n",
    "    <li><i>my\\_pca.row\\_coord\\_</i> : coordonnées des points lignes</li>\n",
    "    <li><i>my\\_pca.col\\_coord\\_</i> : coordonnées des points colonnes</li>\n",
    "</ul>"
   ]
  },
  {
   "cell_type": "markdown",
   "metadata": {},
   "source": [
    "<h3>I.1. Analyse des valeurs propres</h3>"
   ]
  },
  {
   "cell_type": "markdown",
   "metadata": {},
   "source": [
    "L'attribut <i>my\\_mca.eig\\_</i> contient :\n",
    "<ul>\n",
    "    <li>en 1ère ligne : les valeurs propres en valeur absolue</li>\n",
    "    <li>en 2ème ligne : les valeurs propres en pourcentage de la variance totale</li>\n",
    "    <li>en 3ème ligne : les valeurs propres en pourcentage cumulé de la variance totale</li>\n",
    "\n",
    "</ul>"
   ]
  },
  {
   "cell_type": "code",
   "execution_count": 12,
   "metadata": {},
   "outputs": [
    {
     "name": "stdout",
     "output_type": "stream",
     "text": [
      "[[ 0.7167  0.1500  0.1073  0.0260  0.0000]\n",
      " [ 71.6689  15.0000  10.7305  2.6006  0.0000]\n",
      " [ 71.6689  86.6689  97.3994  100.0000  100.0000]]\n"
     ]
    }
   ],
   "source": [
    "print(my_mca.eig_)"
   ]
  },
  {
   "cell_type": "markdown",
   "metadata": {},
   "source": [
    "Les valeurs propres peuvent être représentées graphiquement (par défaut : représentation en valeur absolue)."
   ]
  },
  {
   "cell_type": "code",
   "execution_count": 13,
   "metadata": {},
   "outputs": [
    {
     "data": {
      "image/png": "[encoded data removed]",
      "text/plain": [
       "<Figure size 432x288 with 1 Axes>"
      ]
     },
     "metadata": {
      "needs_background": "light"
     },
     "output_type": "display_data"
    }
   ],
   "source": [
    "my_mca.plot_eigenvalues()"
   ]
  },
  {
   "cell_type": "code",
   "execution_count": 14,
   "metadata": {},
   "outputs": [
    {
     "data": {
      "image/png": "[encoded data removed]",
      "text/plain": [
       "<Figure size 432x288 with 1 Axes>"
      ]
     },
     "metadata": {
      "needs_background": "light"
     },
     "output_type": "display_data"
    }
   ],
   "source": [
    "my_mca.plot_eigenvalues(type=\"percentage\")"
   ]
  },
  {
   "cell_type": "code",
   "execution_count": 15,
   "metadata": {},
   "outputs": [
    {
     "data": {
      "image/png": "[encoded data removed]",
      "text/plain": [
       "<Figure size 432x288 with 1 Axes>"
      ]
     },
     "metadata": {
      "needs_background": "light"
     },
     "output_type": "display_data"
    }
   ],
   "source": [
    "my_mca.plot_eigenvalues(type=\"cumulative\")"
   ]
  },
  {
   "cell_type": "markdown",
   "metadata": {},
   "source": [
    "<p>Quand l'objet <i>my\\_mca</i> a été instancié, son paramètre <i>stats</i> a reçu la valeur True par défaut.<br />\n",
    "En conséquence, lors de l'exécution de la méthode <i>my\\_mca.fit(X)</i>, les statistiques suivantes ont été calculées :\n",
    "<ul>\n",
    "    <li><i>my\\_mca.row\\_contrib\\_</i> : contributions des points lignes à la variance de l'axe</li>\n",
    "    <li><i>my\\_mca.col\\_contrib\\_</i> : contributions des points colonnes à la variance de l'axe</li>\n",
    "    <li><i>my\\_mca.row\\_cos2\\_</i> : cosinus carrés des points lignes</li>\n",
    "    <li><i>my\\_mca.col\\_cos2\\_</i> : cosinus carrés des points colonnes</li>\n",
    "</ul>\n",
    "</p>\n",
    "<p>\n",
    "Si l'on avait souhaité éviter le calcul de ces statistiques pour gagner du temps et économiser des ressources mémoire, il  aurait fallu instancier :<br />\n",
    "my\\_mca = MCA(stats=False)\n",
    "</p>\n",
    "<p>\n",
    "Par défaut, les coordonnées des points lignes et colonnes, leurs contributions et cosinus carrés sont calculés sur l'ensemble des axes extraits de l'analyse.<br />\n",
    "On aurait toutefois pu spécifier le nombre d'axes à retenir via le paramètre <i>n_components</i> avec par exemple :<br />\n",
    "my\\_mca = MCA(n_components=3)\n",
    "</p>\n"
   ]
  },
  {
   "cell_type": "markdown",
   "metadata": {},
   "source": [
    "<h3>I.2. Extraction des statistiques sur les points lignes</h3>"
   ]
  },
  {
   "cell_type": "markdown",
   "metadata": {},
   "source": [
    "<h5>Export de la totalité des données lignes vers une DataFrame pandas</h5>\n",
    "<p>On peut simplement envoyer vers une Dataframe : les coordonnées, les contributions et les cos2 de chacun des points <b>lignes</b>, pour tous les axes factoriels (identifiés par les suffixes dim1, dim2, etc.).</p>"
   ]
  },
  {
   "cell_type": "code",
   "execution_count": 16,
   "metadata": {},
   "outputs": [],
   "source": [
    "df_rows = my_mca.row_topandas()"
   ]
  },
  {
   "cell_type": "code",
   "execution_count": 17,
   "metadata": {},
   "outputs": [
    {
     "name": "stdout",
     "output_type": "stream",
     "text": [
      "    row_coord_dim1  row_coord_dim2  row_coord_dim3  row_coord_dim4  \\\n",
      "W1         0.85450         0.27386        -0.43491         0.07538   \n",
      "W2        -0.74398        -0.54772        -0.34190        -0.17206   \n",
      "W3        -0.93080         0.27386        -0.12598         0.20672   \n",
      "W4        -0.85450         0.27386         0.43491        -0.07538   \n",
      "W5         0.93080         0.27386         0.12598        -0.20672   \n",
      "W6         0.74398        -0.54772         0.34190         0.17206   \n",
      "\n",
      "    row_coord_dim5  row_contrib_dim1  row_contrib_dim2  row_contrib_dim3  \\\n",
      "W1     1.76012e-16          16.98022           8.33333          29.37825   \n",
      "W2     7.94873e-17          12.87167          33.33333          18.15667   \n",
      "W3    -1.70375e-17          20.14811           8.33333           2.46508   \n",
      "W4     1.76012e-16          16.98022           8.33333          29.37825   \n",
      "W5    -1.70375e-17          20.14811           8.33333           2.46508   \n",
      "W6     7.94873e-17          12.87167          33.33333          18.15667   \n",
      "\n",
      "    row_contrib_dim4  row_contrib_dim5  row_cos2_dim1  row_cos2_dim2  \\\n",
      "W1           3.64153          41.20946        0.73017          0.075   \n",
      "W2          18.97165           8.40441        0.55350          0.300   \n",
      "W3          27.38681           0.38612        0.86640          0.075   \n",
      "W4           3.64153          41.20946        0.73017          0.075   \n",
      "W5          27.38681           0.38612        0.86640          0.075   \n",
      "W6          18.97165           8.40441        0.55350          0.300   \n",
      "\n",
      "    row_cos2_dim3  row_cos2_dim4  row_cos2_dim5  \n",
      "W1        0.18915        0.00568    3.09803e-32  \n",
      "W2        0.11690        0.02960    6.31823e-33  \n",
      "W3        0.01587        0.04273    2.90276e-34  \n",
      "W4        0.18915        0.00568    3.09803e-32  \n",
      "W5        0.01587        0.04273    2.90276e-34  \n",
      "W6        0.11690        0.02960    6.31823e-33  \n"
     ]
    }
   ],
   "source": [
    "print(df_rows)"
   ]
  },
  {
   "cell_type": "markdown",
   "metadata": {},
   "source": [
    "<h5>Statistiques pour les points lignes</h5>"
   ]
  },
  {
   "cell_type": "code",
   "execution_count": 18,
   "metadata": {
    "scrolled": true
   },
   "outputs": [
    {
     "name": "stdout",
     "output_type": "stream",
     "text": [
      "[[ 0.8545  0.2739 -0.4349  0.0754  0.0000]\n",
      " [-0.7440 -0.5477 -0.3419 -0.1721  0.0000]\n",
      " [-0.9308  0.2739 -0.1260  0.2067 -0.0000]\n",
      " [-0.8545  0.2739  0.4349 -0.0754  0.0000]\n",
      " [ 0.9308  0.2739  0.1260 -0.2067 -0.0000]\n",
      " [ 0.7440 -0.5477  0.3419  0.1721  0.0000]]\n"
     ]
    }
   ],
   "source": [
    "# Coordonnées des points lignes\n",
    "print(my_mca.row_coord_)"
   ]
  },
  {
   "cell_type": "code",
   "execution_count": 19,
   "metadata": {},
   "outputs": [
    {
     "name": "stdout",
     "output_type": "stream",
     "text": [
      "[[ 16.9802  8.3333  29.3782  3.6415  41.2095]\n",
      " [ 12.8717  33.3333  18.1567  18.9717  8.4044]\n",
      " [ 20.1481  8.3333  2.4651  27.3868  0.3861]\n",
      " [ 16.9802  8.3333  29.3782  3.6415  41.2095]\n",
      " [ 20.1481  8.3333  2.4651  27.3868  0.3861]\n",
      " [ 12.8717  33.3333  18.1567  18.9717  8.4044]]\n"
     ]
    }
   ],
   "source": [
    "# Contributions des points lignes\n",
    "print(my_mca.row_contrib_)"
   ]
  },
  {
   "cell_type": "code",
   "execution_count": 20,
   "metadata": {},
   "outputs": [
    {
     "name": "stdout",
     "output_type": "stream",
     "text": [
      "[[ 0.7302  0.0750  0.1891  0.0057  0.0000]\n",
      " [ 0.5535  0.3000  0.1169  0.0296  0.0000]\n",
      " [ 0.8664  0.0750  0.0159  0.0427  0.0000]\n",
      " [ 0.7302  0.0750  0.1891  0.0057  0.0000]\n",
      " [ 0.8664  0.0750  0.0159  0.0427  0.0000]\n",
      " [ 0.5535  0.3000  0.1169  0.0296  0.0000]]\n"
     ]
    }
   ],
   "source": [
    "# Cos2 des points lignes\n",
    "print(my_mca.row_cos2_)"
   ]
  },
  {
   "cell_type": "markdown",
   "metadata": {},
   "source": [
    "<h3>I.3. Extraction des statistiques sur les points colonnes</h3>"
   ]
  },
  {
   "cell_type": "markdown",
   "metadata": {},
   "source": [
    "<h5>Export de la totalité des données colonnes vers une DataFrame pandas</h5>\n",
    "<p>On peut envoyer vers une Dataframe : les coordonnées, les contributions et les cos2 de chacun des points <b>colonnes</b>, pour tous les axes factoriels (identifiés par les suffixes dim1, dim2, etc.).</p>"
   ]
  },
  {
   "cell_type": "code",
   "execution_count": 21,
   "metadata": {},
   "outputs": [],
   "source": [
    "df_cols = my_mca.col_topandas()"
   ]
  },
  {
   "cell_type": "code",
   "execution_count": 22,
   "metadata": {},
   "outputs": [
    {
     "name": "stdout",
     "output_type": "stream",
     "text": [
      "           col_coord_dim1  col_coord_dim2  col_coord_dim3  col_coord_dim4  \\\n",
      "col0_0.0     -9.95888e-01     7.24800e-16    -3.35541e-02    -8.41551e-02   \n",
      "col0_1.0      9.95888e-01     2.90406e-16     3.35541e-02     8.41551e-02   \n",
      "col1_0.0      9.95888e-01    -2.07214e-15     3.35541e-02     8.41551e-02   \n",
      "col1_1.0     -9.95888e-01     1.00519e-16    -3.35541e-02    -8.41551e-02   \n",
      "col2_0.0      5.27214e-01    -3.53553e-01    -2.35770e-01    -2.03611e-01   \n",
      "col2_1.0     -1.05443e+00     7.07107e-01     4.71541e-01     4.07223e-01   \n",
      "col3_0.0      3.67528e-16     7.07107e-01    -1.82287e-15     4.74286e-16   \n",
      "col3_1.0     -7.49849e-16    -1.41421e+00     4.09576e-15     1.29176e-16   \n",
      "col4_0.0     -5.27214e-01    -3.53553e-01     2.35770e-01     2.03611e-01   \n",
      "col4_1.0      1.05443e+00     7.07107e-01    -4.71541e-01    -4.07223e-01   \n",
      "col5_0.0      9.95888e-01     3.54547e-17     3.35541e-02     8.41551e-02   \n",
      "col5_1.0     -9.95888e-01    -3.54547e-17    -3.35541e-02    -8.41551e-02   \n",
      "col6_0.0     -9.95888e-01    -3.54547e-17    -3.35541e-02    -8.41551e-02   \n",
      "col6_1.0      9.95888e-01     3.54547e-17     3.35541e-02     8.41551e-02   \n",
      "col7_0.0     -9.95888e-01    -3.54547e-17    -3.35541e-02    -8.41551e-02   \n",
      "col7_1.0      9.95888e-01     3.54547e-17     3.35541e-02     8.41551e-02   \n",
      "col8_0.0      9.95888e-01     3.54547e-17     3.35541e-02     8.41551e-02   \n",
      "col8_1.0     -9.95888e-01    -3.54547e-17    -3.35541e-02    -8.41551e-02   \n",
      "col9_0.0      9.95888e-01     3.54547e-17     3.35541e-02     8.41551e-02   \n",
      "col9_1.0     -9.95888e-01    -3.54547e-17    -3.35541e-02    -8.41551e-02   \n",
      "col10_0.0    -9.95888e-01    -3.54547e-17    -3.35541e-02    -8.41551e-02   \n",
      "col10_1.0     9.95888e-01     3.54547e-17     3.35541e-02     8.41551e-02   \n",
      "col11_0.0     5.27214e-01    -3.53553e-01    -2.35770e-01    -2.03611e-01   \n",
      "col11_1.0    -1.05443e+00     7.07107e-01     4.71541e-01     4.07223e-01   \n",
      "col12_0.0     3.67528e-16     7.07107e-01    -1.82287e-15     4.74286e-16   \n",
      "col12_1.0    -7.49849e-16    -1.41421e+00     4.09576e-15     1.29176e-16   \n",
      "col13_0.0    -5.27214e-01    -3.53553e-01     2.35770e-01     2.03611e-01   \n",
      "col13_1.0     1.05443e+00     7.07107e-01    -4.71541e-01    -4.07223e-01   \n",
      "col14_0.0     9.95888e-01     3.54547e-17     3.35541e-02     8.41551e-02   \n",
      "col14_1.0    -9.95888e-01    -3.54547e-17    -3.35541e-02    -8.41551e-02   \n",
      "col15_0.0    -9.95888e-01    -3.54547e-17    -3.35541e-02    -8.41551e-02   \n",
      "col15_1.0     9.95888e-01     3.54547e-17     3.35541e-02     8.41551e-02   \n",
      "col16_0.0    -3.22979e-01    -4.09476e-15    -9.18664e-01     2.27466e-01   \n",
      "col16_1.0     3.22979e-01     4.09476e-15     9.18664e-01    -2.27466e-01   \n",
      "col17_0.0     3.22979e-01     4.09476e-15     9.18664e-01    -2.27466e-01   \n",
      "col17_1.0    -3.22979e-01    -4.09476e-15    -9.18664e-01     2.27466e-01   \n",
      "col18_0.0     9.95888e-01     3.54547e-17     3.35541e-02     8.41551e-02   \n",
      "col18_1.0    -9.95888e-01    -3.54547e-17    -3.35541e-02    -8.41551e-02   \n",
      "col19_0.0    -9.95888e-01    -3.54547e-17    -3.35541e-02    -8.41551e-02   \n",
      "col19_1.0     9.95888e-01     3.54547e-17     3.35541e-02     8.41551e-02   \n",
      "\n",
      "           col_coord_dim5  col_contrib_dim1  col_contrib_dim2  \\\n",
      "col0_0.0      6.55656e-16       3.45963e+00       8.75559e-30   \n",
      "col0_1.0      4.58011e-17       3.45963e+00       1.40559e-30   \n",
      "col1_0.0      2.83981e-17       3.45963e+00       7.15629e-29   \n",
      "col1_1.0      6.38915e-18       3.45963e+00       1.68402e-31   \n",
      "col2_0.0      6.55537e-17       1.29277e+00       2.77778e+00   \n",
      "col2_1.0      7.09860e-17       2.58555e+00       5.55556e+00   \n",
      "col3_0.0      6.89368e-17       6.28247e-31       1.11111e+01   \n",
      "col3_1.0      7.43691e-17       1.30757e-30       2.22222e+01   \n",
      "col4_0.0      5.48103e-17       1.29277e+00       2.77778e+00   \n",
      "col4_1.0      6.02427e-17       2.58555e+00       5.55556e+00   \n",
      "col5_0.0      2.93923e-17       3.45963e+00       2.09506e-32   \n",
      "col5_1.0     -2.93923e-17       3.45963e+00       2.09506e-32   \n",
      "col6_0.0     -2.93923e-17       3.45963e+00       2.09506e-32   \n",
      "col6_1.0      2.93923e-17       3.45963e+00       2.09506e-32   \n",
      "col7_0.0     -2.93923e-17       3.45963e+00       2.09506e-32   \n",
      "col7_1.0      2.93923e-17       3.45963e+00       2.09506e-32   \n",
      "col8_0.0      2.93923e-17       3.45963e+00       2.09506e-32   \n",
      "col8_1.0     -2.93923e-17       3.45963e+00       2.09506e-32   \n",
      "col9_0.0      2.93923e-17       3.45963e+00       2.09506e-32   \n",
      "col9_1.0     -2.93923e-17       3.45963e+00       2.09506e-32   \n",
      "col10_0.0    -2.93923e-17       3.45963e+00       2.09506e-32   \n",
      "col10_1.0     2.93923e-17       3.45963e+00       2.09506e-32   \n",
      "col11_0.0     6.55537e-17       1.29277e+00       2.77778e+00   \n",
      "col11_1.0     7.09860e-17       2.58555e+00       5.55556e+00   \n",
      "col12_0.0     6.89368e-17       6.28247e-31       1.11111e+01   \n",
      "col12_1.0     7.43691e-17       1.30757e-30       2.22222e+01   \n",
      "col13_0.0     5.48103e-17       1.29277e+00       2.77778e+00   \n",
      "col13_1.0     6.02427e-17       2.58555e+00       5.55556e+00   \n",
      "col14_0.0     2.93923e-17       3.45963e+00       2.09506e-32   \n",
      "col14_1.0    -2.93923e-17       3.45963e+00       2.09506e-32   \n",
      "col15_0.0    -2.93923e-17       3.45963e+00       2.09506e-32   \n",
      "col15_1.0     2.93923e-17       3.45963e+00       2.09506e-32   \n",
      "col16_0.0    -3.33192e-31       3.63880e-01       2.79450e-28   \n",
      "col16_1.0     3.33192e-31       3.63880e-01       2.79450e-28   \n",
      "col17_0.0     3.33192e-31       3.63880e-01       2.79450e-28   \n",
      "col17_1.0    -3.33192e-31       3.63880e-01       2.79450e-28   \n",
      "col18_0.0     2.93923e-17       3.45963e+00       2.09506e-32   \n",
      "col18_1.0    -2.93923e-17       3.45963e+00       2.09506e-32   \n",
      "col19_0.0    -2.93923e-17       3.45963e+00       2.09506e-32   \n",
      "col19_1.0     2.93923e-17       3.45963e+00       2.09506e-32   \n",
      "\n",
      "           col_contrib_dim3  col_contrib_dim4  col_contrib_dim5  \\\n",
      "col0_0.0        2.62307e-02       6.80802e-01       8.57740e+01   \n",
      "col0_1.0        2.62307e-02       6.80802e-01       4.18558e-01   \n",
      "col1_0.0        2.62307e-02       6.80802e-01       1.60909e-01   \n",
      "col1_1.0        2.62307e-02       6.80802e-01       8.14497e-03   \n",
      "col2_0.0        1.72678e+00       5.31378e+00       1.14324e+00   \n",
      "col2_1.0        3.45356e+00       1.06276e+01       6.70283e-01   \n",
      "col3_0.0        1.03222e-28       2.88323e-29       1.26428e+00   \n",
      "col3_1.0        2.60554e-28       1.06938e-30       7.35694e-01   \n",
      "col4_0.0        1.72678e+00       5.31378e+00       7.99221e-01   \n",
      "col4_1.0        3.45356e+00       1.06276e+01       4.82748e-01   \n",
      "col5_0.0        2.62307e-02       6.80802e-01       1.72374e-01   \n",
      "col5_1.0        2.62307e-02       6.80802e-01       1.72374e-01   \n",
      "col6_0.0        2.62307e-02       6.80802e-01       1.72374e-01   \n",
      "col6_1.0        2.62307e-02       6.80802e-01       1.72374e-01   \n",
      "col7_0.0        2.62307e-02       6.80802e-01       1.72374e-01   \n",
      "col7_1.0        2.62307e-02       6.80802e-01       1.72374e-01   \n",
      "col8_0.0        2.62307e-02       6.80802e-01       1.72374e-01   \n",
      "col8_1.0        2.62307e-02       6.80802e-01       1.72374e-01   \n",
      "col9_0.0        2.62307e-02       6.80802e-01       1.72374e-01   \n",
      "col9_1.0        2.62307e-02       6.80802e-01       1.72374e-01   \n",
      "col10_0.0       2.62307e-02       6.80802e-01       1.72374e-01   \n",
      "col10_1.0       2.62307e-02       6.80802e-01       1.72374e-01   \n",
      "col11_0.0       1.72678e+00       5.31378e+00       1.14324e+00   \n",
      "col11_1.0       3.45356e+00       1.06276e+01       6.70283e-01   \n",
      "col12_0.0       1.03222e-28       2.88323e-29       1.26428e+00   \n",
      "col12_1.0       2.60554e-28       1.06938e-30       7.35694e-01   \n",
      "col13_0.0       1.72678e+00       5.31378e+00       7.99221e-01   \n",
      "col13_1.0       3.45356e+00       1.06276e+01       4.82748e-01   \n",
      "col14_0.0       2.62307e-02       6.80802e-01       1.72374e-01   \n",
      "col14_1.0       2.62307e-02       6.80802e-01       1.72374e-01   \n",
      "col15_0.0       2.62307e-02       6.80802e-01       1.72374e-01   \n",
      "col15_1.0       2.62307e-02       6.80802e-01       1.72374e-01   \n",
      "col16_0.0       1.96623e+01       4.97385e+00       2.21509e-29   \n",
      "col16_1.0       1.96623e+01       4.97385e+00       2.21509e-29   \n",
      "col17_0.0       1.96623e+01       4.97385e+00       2.21509e-29   \n",
      "col17_1.0       1.96623e+01       4.97385e+00       2.21509e-29   \n",
      "col18_0.0       2.62307e-02       6.80802e-01       1.72374e-01   \n",
      "col18_1.0       2.62307e-02       6.80802e-01       1.72374e-01   \n",
      "col19_0.0       2.62307e-02       6.80802e-01       1.72374e-01   \n",
      "col19_1.0       2.62307e-02       6.80802e-01       1.72374e-01   \n",
      "\n",
      "           col_cos2_dim1  col_cos2_dim2  col_cos2_dim3  col_cos2_dim4  \\\n",
      "col0_0.0     9.91792e-01    5.25335e-31    1.12588e-03    7.08208e-03   \n",
      "col0_1.0     9.91792e-01    8.43356e-32    1.12588e-03    7.08208e-03   \n",
      "col1_0.0     9.91792e-01    4.29377e-30    1.12588e-03    7.08208e-03   \n",
      "col1_1.0     9.91792e-01    1.01041e-32    1.12588e-03    7.08208e-03   \n",
      "col2_0.0     5.55909e-01    2.50000e-01    1.11175e-01    8.29153e-02   \n",
      "col2_1.0     5.55909e-01    2.50000e-01    1.11175e-01    8.29153e-02   \n",
      "col3_0.0     2.70154e-31    1.00000e+00    6.64574e-30    4.49894e-31   \n",
      "col3_1.0     2.81137e-31    1.00000e+00    8.38762e-30    8.34323e-33   \n",
      "col4_0.0     5.55909e-01    2.50000e-01    1.11175e-01    8.29153e-02   \n",
      "col4_1.0     5.55909e-01    2.50000e-01    1.11175e-01    8.29153e-02   \n",
      "col5_0.0     9.91792e-01    1.25704e-33    1.12588e-03    7.08208e-03   \n",
      "col5_1.0     9.91792e-01    1.25704e-33    1.12588e-03    7.08208e-03   \n",
      "col6_0.0     9.91792e-01    1.25704e-33    1.12588e-03    7.08208e-03   \n",
      "col6_1.0     9.91792e-01    1.25704e-33    1.12588e-03    7.08208e-03   \n",
      "col7_0.0     9.91792e-01    1.25704e-33    1.12588e-03    7.08208e-03   \n",
      "col7_1.0     9.91792e-01    1.25704e-33    1.12588e-03    7.08208e-03   \n",
      "col8_0.0     9.91792e-01    1.25704e-33    1.12588e-03    7.08208e-03   \n",
      "col8_1.0     9.91792e-01    1.25704e-33    1.12588e-03    7.08208e-03   \n",
      "col9_0.0     9.91792e-01    1.25704e-33    1.12588e-03    7.08208e-03   \n",
      "col9_1.0     9.91792e-01    1.25704e-33    1.12588e-03    7.08208e-03   \n",
      "col10_0.0    9.91792e-01    1.25704e-33    1.12588e-03    7.08208e-03   \n",
      "col10_1.0    9.91792e-01    1.25704e-33    1.12588e-03    7.08208e-03   \n",
      "col11_0.0    5.55909e-01    2.50000e-01    1.11175e-01    8.29153e-02   \n",
      "col11_1.0    5.55909e-01    2.50000e-01    1.11175e-01    8.29153e-02   \n",
      "col12_0.0    2.70154e-31    1.00000e+00    6.64574e-30    4.49894e-31   \n",
      "col12_1.0    2.81137e-31    1.00000e+00    8.38762e-30    8.34323e-33   \n",
      "col13_0.0    5.55909e-01    2.50000e-01    1.11175e-01    8.29153e-02   \n",
      "col13_1.0    5.55909e-01    2.50000e-01    1.11175e-01    8.29153e-02   \n",
      "col14_0.0    9.91792e-01    1.25704e-33    1.12588e-03    7.08208e-03   \n",
      "col14_1.0    9.91792e-01    1.25704e-33    1.12588e-03    7.08208e-03   \n",
      "col15_0.0    9.91792e-01    1.25704e-33    1.12588e-03    7.08208e-03   \n",
      "col15_1.0    9.91792e-01    1.25704e-33    1.12588e-03    7.08208e-03   \n",
      "col16_0.0    1.04315e-01    1.67670e-29    8.43944e-01    5.17407e-02   \n",
      "col16_1.0    1.04315e-01    1.67670e-29    8.43944e-01    5.17407e-02   \n",
      "col17_0.0    1.04315e-01    1.67670e-29    8.43944e-01    5.17407e-02   \n",
      "col17_1.0    1.04315e-01    1.67670e-29    8.43944e-01    5.17407e-02   \n",
      "col18_0.0    9.91792e-01    1.25704e-33    1.12588e-03    7.08208e-03   \n",
      "col18_1.0    9.91792e-01    1.25704e-33    1.12588e-03    7.08208e-03   \n",
      "col19_0.0    9.91792e-01    1.25704e-33    1.12588e-03    7.08208e-03   \n",
      "col19_1.0    9.91792e-01    1.25704e-33    1.12588e-03    7.08208e-03   \n",
      "\n",
      "           col_cos2_dim5  \n",
      "col0_0.0     4.29885e-31  \n",
      "col0_1.0     2.09774e-33  \n",
      "col1_0.0     8.06450e-34  \n",
      "col1_1.0     4.08213e-35  \n",
      "col2_0.0     8.59458e-33  \n",
      "col2_1.0     2.51951e-33  \n",
      "col3_0.0     9.50456e-33  \n",
      "col3_1.0     2.76538e-33  \n",
      "col4_0.0     6.00834e-33  \n",
      "col4_1.0     1.81459e-33  \n",
      "col5_0.0     8.63908e-34  \n",
      "col5_1.0     8.63908e-34  \n",
      "col6_0.0     8.63908e-34  \n",
      "col6_1.0     8.63908e-34  \n",
      "col7_0.0     8.63908e-34  \n",
      "col7_1.0     8.63908e-34  \n",
      "col8_0.0     8.63908e-34  \n",
      "col8_1.0     8.63908e-34  \n",
      "col9_0.0     8.63908e-34  \n",
      "col9_1.0     8.63908e-34  \n",
      "col10_0.0    8.63908e-34  \n",
      "col10_1.0    8.63908e-34  \n",
      "col11_0.0    8.59458e-33  \n",
      "col11_1.0    2.51951e-33  \n",
      "col12_0.0    9.50456e-33  \n",
      "col12_1.0    2.76538e-33  \n",
      "col13_0.0    6.00834e-33  \n",
      "col13_1.0    1.81459e-33  \n",
      "col14_0.0    8.63908e-34  \n",
      "col14_1.0    8.63908e-34  \n",
      "col15_0.0    8.63908e-34  \n",
      "col15_1.0    8.63908e-34  \n",
      "col16_0.0    1.11017e-61  \n",
      "col16_1.0    1.11017e-61  \n",
      "col17_0.0    1.11017e-61  \n",
      "col17_1.0    1.11017e-61  \n",
      "col18_0.0    8.63908e-34  \n",
      "col18_1.0    8.63908e-34  \n",
      "col19_0.0    8.63908e-34  \n",
      "col19_1.0    8.63908e-34  \n"
     ]
    }
   ],
   "source": [
    "print(df_cols)"
   ]
  },
  {
   "cell_type": "markdown",
   "metadata": {},
   "source": [
    "<h5>Statistiques pour les points colonnes</h5>"
   ]
  },
  {
   "cell_type": "code",
   "execution_count": 23,
   "metadata": {},
   "outputs": [
    {
     "name": "stdout",
     "output_type": "stream",
     "text": [
      "[[-0.9959  0.0000 -0.0336 -0.0842  0.0000]\n",
      " [ 0.9959  0.0000  0.0336  0.0842  0.0000]\n",
      " [ 0.9959 -0.0000  0.0336  0.0842  0.0000]\n",
      " [-0.9959  0.0000 -0.0336 -0.0842  0.0000]\n",
      " [ 0.5272 -0.3536 -0.2358 -0.2036  0.0000]\n",
      " [-1.0544  0.7071  0.4715  0.4072  0.0000]\n",
      " [ 0.0000  0.7071 -0.0000  0.0000  0.0000]\n",
      " [-0.0000 -1.4142  0.0000  0.0000  0.0000]\n",
      " [-0.5272 -0.3536  0.2358  0.2036  0.0000]\n",
      " [ 1.0544  0.7071 -0.4715 -0.4072  0.0000]\n",
      " [ 0.9959  0.0000  0.0336  0.0842  0.0000]\n",
      " [-0.9959 -0.0000 -0.0336 -0.0842 -0.0000]\n",
      " [-0.9959 -0.0000 -0.0336 -0.0842 -0.0000]\n",
      " [ 0.9959  0.0000  0.0336  0.0842  0.0000]\n",
      " [-0.9959 -0.0000 -0.0336 -0.0842 -0.0000]\n",
      " [ 0.9959  0.0000  0.0336  0.0842  0.0000]\n",
      " [ 0.9959  0.0000  0.0336  0.0842  0.0000]\n",
      " [-0.9959 -0.0000 -0.0336 -0.0842 -0.0000]\n",
      " [ 0.9959  0.0000  0.0336  0.0842  0.0000]\n",
      " [-0.9959 -0.0000 -0.0336 -0.0842 -0.0000]\n",
      " [-0.9959 -0.0000 -0.0336 -0.0842 -0.0000]\n",
      " [ 0.9959  0.0000  0.0336  0.0842  0.0000]\n",
      " [ 0.5272 -0.3536 -0.2358 -0.2036  0.0000]\n",
      " [-1.0544  0.7071  0.4715  0.4072  0.0000]\n",
      " [ 0.0000  0.7071 -0.0000  0.0000  0.0000]\n",
      " [-0.0000 -1.4142  0.0000  0.0000  0.0000]\n",
      " [-0.5272 -0.3536  0.2358  0.2036  0.0000]\n",
      " [ 1.0544  0.7071 -0.4715 -0.4072  0.0000]\n",
      " [ 0.9959  0.0000  0.0336  0.0842  0.0000]\n",
      " [-0.9959 -0.0000 -0.0336 -0.0842 -0.0000]\n",
      " [-0.9959 -0.0000 -0.0336 -0.0842 -0.0000]\n",
      " [ 0.9959  0.0000  0.0336  0.0842  0.0000]\n",
      " [-0.3230 -0.0000 -0.9187  0.2275 -0.0000]\n",
      " [ 0.3230  0.0000  0.9187 -0.2275  0.0000]\n",
      " [ 0.3230  0.0000  0.9187 -0.2275  0.0000]\n",
      " [-0.3230 -0.0000 -0.9187  0.2275 -0.0000]\n",
      " [ 0.9959  0.0000  0.0336  0.0842  0.0000]\n",
      " [-0.9959 -0.0000 -0.0336 -0.0842 -0.0000]\n",
      " [-0.9959 -0.0000 -0.0336 -0.0842 -0.0000]\n",
      " [ 0.9959  0.0000  0.0336  0.0842  0.0000]]\n"
     ]
    }
   ],
   "source": [
    "# Coordonnées des points colonnes\n",
    "print(my_mca.col_coord_)"
   ]
  },
  {
   "cell_type": "code",
   "execution_count": 24,
   "metadata": {},
   "outputs": [
    {
     "name": "stdout",
     "output_type": "stream",
     "text": [
      "[[ 3.4596  0.0000  0.0262  0.6808  85.7740]\n",
      " [ 3.4596  0.0000  0.0262  0.6808  0.4186]\n",
      " [ 3.4596  0.0000  0.0262  0.6808  0.1609]\n",
      " [ 3.4596  0.0000  0.0262  0.6808  0.0081]\n",
      " [ 1.2928  2.7778  1.7268  5.3138  1.1432]\n",
      " [ 2.5855  5.5556  3.4536  10.6276  0.6703]\n",
      " [ 0.0000  11.1111  0.0000  0.0000  1.2643]\n",
      " [ 0.0000  22.2222  0.0000  0.0000  0.7357]\n",
      " [ 1.2928  2.7778  1.7268  5.3138  0.7992]\n",
      " [ 2.5855  5.5556  3.4536  10.6276  0.4827]\n",
      " [ 3.4596  0.0000  0.0262  0.6808  0.1724]\n",
      " [ 3.4596  0.0000  0.0262  0.6808  0.1724]\n",
      " [ 3.4596  0.0000  0.0262  0.6808  0.1724]\n",
      " [ 3.4596  0.0000  0.0262  0.6808  0.1724]\n",
      " [ 3.4596  0.0000  0.0262  0.6808  0.1724]\n",
      " [ 3.4596  0.0000  0.0262  0.6808  0.1724]\n",
      " [ 3.4596  0.0000  0.0262  0.6808  0.1724]\n",
      " [ 3.4596  0.0000  0.0262  0.6808  0.1724]\n",
      " [ 3.4596  0.0000  0.0262  0.6808  0.1724]\n",
      " [ 3.4596  0.0000  0.0262  0.6808  0.1724]\n",
      " [ 3.4596  0.0000  0.0262  0.6808  0.1724]\n",
      " [ 3.4596  0.0000  0.0262  0.6808  0.1724]\n",
      " [ 1.2928  2.7778  1.7268  5.3138  1.1432]\n",
      " [ 2.5855  5.5556  3.4536  10.6276  0.6703]\n",
      " [ 0.0000  11.1111  0.0000  0.0000  1.2643]\n",
      " [ 0.0000  22.2222  0.0000  0.0000  0.7357]\n",
      " [ 1.2928  2.7778  1.7268  5.3138  0.7992]\n",
      " [ 2.5855  5.5556  3.4536  10.6276  0.4827]\n",
      " [ 3.4596  0.0000  0.0262  0.6808  0.1724]\n",
      " [ 3.4596  0.0000  0.0262  0.6808  0.1724]\n",
      " [ 3.4596  0.0000  0.0262  0.6808  0.1724]\n",
      " [ 3.4596  0.0000  0.0262  0.6808  0.1724]\n",
      " [ 0.3639  0.0000  19.6623  4.9738  0.0000]\n",
      " [ 0.3639  0.0000  19.6623  4.9738  0.0000]\n",
      " [ 0.3639  0.0000  19.6623  4.9738  0.0000]\n",
      " [ 0.3639  0.0000  19.6623  4.9738  0.0000]\n",
      " [ 3.4596  0.0000  0.0262  0.6808  0.1724]\n",
      " [ 3.4596  0.0000  0.0262  0.6808  0.1724]\n",
      " [ 3.4596  0.0000  0.0262  0.6808  0.1724]\n",
      " [ 3.4596  0.0000  0.0262  0.6808  0.1724]]\n"
     ]
    }
   ],
   "source": [
    "# Contributions des points colonnes\n",
    "print(my_mca.col_contrib_)"
   ]
  },
  {
   "cell_type": "code",
   "execution_count": 25,
   "metadata": {},
   "outputs": [
    {
     "name": "stdout",
     "output_type": "stream",
     "text": [
      "[[ 0.9918  0.0000  0.0011  0.0071  0.0000]\n",
      " [ 0.9918  0.0000  0.0011  0.0071  0.0000]\n",
      " [ 0.9918  0.0000  0.0011  0.0071  0.0000]\n",
      " [ 0.9918  0.0000  0.0011  0.0071  0.0000]\n",
      " [ 0.5559  0.2500  0.1112  0.0829  0.0000]\n",
      " [ 0.5559  0.2500  0.1112  0.0829  0.0000]\n",
      " [ 0.0000  1.0000  0.0000  0.0000  0.0000]\n",
      " [ 0.0000  1.0000  0.0000  0.0000  0.0000]\n",
      " [ 0.5559  0.2500  0.1112  0.0829  0.0000]\n",
      " [ 0.5559  0.2500  0.1112  0.0829  0.0000]\n",
      " [ 0.9918  0.0000  0.0011  0.0071  0.0000]\n",
      " [ 0.9918  0.0000  0.0011  0.0071  0.0000]\n",
      " [ 0.9918  0.0000  0.0011  0.0071  0.0000]\n",
      " [ 0.9918  0.0000  0.0011  0.0071  0.0000]\n",
      " [ 0.9918  0.0000  0.0011  0.0071  0.0000]\n",
      " [ 0.9918  0.0000  0.0011  0.0071  0.0000]\n",
      " [ 0.9918  0.0000  0.0011  0.0071  0.0000]\n",
      " [ 0.9918  0.0000  0.0011  0.0071  0.0000]\n",
      " [ 0.9918  0.0000  0.0011  0.0071  0.0000]\n",
      " [ 0.9918  0.0000  0.0011  0.0071  0.0000]\n",
      " [ 0.9918  0.0000  0.0011  0.0071  0.0000]\n",
      " [ 0.9918  0.0000  0.0011  0.0071  0.0000]\n",
      " [ 0.5559  0.2500  0.1112  0.0829  0.0000]\n",
      " [ 0.5559  0.2500  0.1112  0.0829  0.0000]\n",
      " [ 0.0000  1.0000  0.0000  0.0000  0.0000]\n",
      " [ 0.0000  1.0000  0.0000  0.0000  0.0000]\n",
      " [ 0.5559  0.2500  0.1112  0.0829  0.0000]\n",
      " [ 0.5559  0.2500  0.1112  0.0829  0.0000]\n",
      " [ 0.9918  0.0000  0.0011  0.0071  0.0000]\n",
      " [ 0.9918  0.0000  0.0011  0.0071  0.0000]\n",
      " [ 0.9918  0.0000  0.0011  0.0071  0.0000]\n",
      " [ 0.9918  0.0000  0.0011  0.0071  0.0000]\n",
      " [ 0.1043  0.0000  0.8439  0.0517  0.0000]\n",
      " [ 0.1043  0.0000  0.8439  0.0517  0.0000]\n",
      " [ 0.1043  0.0000  0.8439  0.0517  0.0000]\n",
      " [ 0.1043  0.0000  0.8439  0.0517  0.0000]\n",
      " [ 0.9918  0.0000  0.0011  0.0071  0.0000]\n",
      " [ 0.9918  0.0000  0.0011  0.0071  0.0000]\n",
      " [ 0.9918  0.0000  0.0011  0.0071  0.0000]\n",
      " [ 0.9918  0.0000  0.0011  0.0071  0.0000]]\n"
     ]
    }
   ],
   "source": [
    "# Cos2 des points colonnes\n",
    "print(my_mca.col_cos2_)"
   ]
  },
  {
   "cell_type": "markdown",
   "metadata": {},
   "source": [
    "<h3>I.4. Graphiques</h3>"
   ]
  },
  {
   "cell_type": "markdown",
   "metadata": {},
   "source": [
    "<p>\n",
    "2 types de graphiques peuvent être réalisés :\n",
    "<ul>\n",
    "    <li>Les mapping classiques qui représentent les points lignes et colonnes sur un plan factoriel</li>\n",
    "    <li>Des graphiques qui permettent d'interpréter rapidement les axes : on choisit un axe factoriel (le 1er axe dans notre exemple) et on observe quels sont les points lignes et colonnes qui présentent les plus fortes contributions et cos2 pour cet axe</li>\n",
    "</ul>\n",
    "</p>\n",
    "<h5>Graphiques factoriels</h5>"
   ]
  },
  {
   "cell_type": "code",
   "execution_count": 26,
   "metadata": {},
   "outputs": [
    {
     "data": {
      "image/png": "[encoded data removed]",
      "text/plain": [
       "<Figure size 432x288 with 1 Axes>"
      ]
     },
     "metadata": {
      "needs_background": "light"
     },
     "output_type": "display_data"
    }
   ],
   "source": [
    "# Mapping simultané des points lignes et colonnes\n",
    "# Les paramètres de la méthode mapping indiquent que ce sont les axes 1 et 2 qui sont ici représentés\n",
    "my_mca.mapping(num_x_axis=1, num_y_axis=2)"
   ]
  },
  {
   "cell_type": "code",
   "execution_count": 27,
   "metadata": {},
   "outputs": [
    {
     "data": {
      "image/png": "[encoded data removed]",
      "text/plain": [
       "<Figure size 432x288 with 1 Axes>"
      ]
     },
     "metadata": {
      "needs_background": "light"
     },
     "output_type": "display_data"
    }
   ],
   "source": [
    "# Mapping des points lignes\n",
    "my_mca.mapping_row(num_x_axis=1, num_y_axis=2)"
   ]
  },
  {
   "cell_type": "code",
   "execution_count": 28,
   "metadata": {},
   "outputs": [
    {
     "data": {
      "image/png": "[encoded data removed]",
      "text/plain": [
       "<Figure size 432x288 with 1 Axes>"
      ]
     },
     "metadata": {
      "needs_background": "light"
     },
     "output_type": "display_data"
    }
   ],
   "source": [
    "# Mapping des points colonnes\n",
    "my_mca.mapping_col(num_x_axis=1, num_y_axis=2)"
   ]
  },
  {
   "cell_type": "markdown",
   "metadata": {},
   "source": [
    "Sur les 3 graphiques factoriels précédents, les catégories ne sont pas préfixées par les noms des variables auxquelles elles appartiennent (c'est le choix fait par défaut par le package).<br />\n",
    "Ce choix est pertinent dans cet exemple car l'omission des préfixes permet d'alléger les graphiques, et il n'y a pas de risque de confusion entre les catégories.<br />\n",
    "Mais quand l'ensemble des catégories présente des doublons, il est préférable de les préfixer par les noms de variables pour lever toute ambiguïté, ce qui alourdit la présentation.<br />\n",
    "Dans ce cas, on fixe le paramètre <i>short_labels</i> à <i>False</i>"
   ]
  },
  {
   "cell_type": "code",
   "execution_count": 29,
   "metadata": {},
   "outputs": [
    {
     "data": {
      "image/png": "[encoded data removed]",
      "text/plain": [
       "<Figure size 432x288 with 1 Axes>"
      ]
     },
     "metadata": {
      "needs_background": "light"
     },
     "output_type": "display_data"
    }
   ],
   "source": [
    "my_mca.mapping(num_x_axis=1, num_y_axis=2, short_labels=True)"
   ]
  },
  {
   "cell_type": "markdown",
   "metadata": {},
   "source": [
    "<h5>Analyse du 1er axe - Points lignes</h5>"
   ]
  },
  {
   "cell_type": "code",
   "execution_count": 30,
   "metadata": {},
   "outputs": [
    {
     "data": {
      "image/png": "[encoded data removed]",
      "text/plain": [
       "<Figure size 432x288 with 1 Axes>"
      ]
     },
     "metadata": {
      "needs_background": "light"
     },
     "output_type": "display_data"
    }
   ],
   "source": [
    "# Classement des points lignes en fonction de leur contribution au 1er axe\n",
    "# Le paramètre de la méthode plot_row_contrib indique que c'est pour l'axe numéro 1 que les contributions sont ici \n",
    "# représentées\n",
    "my_mca.plot_row_contrib(num_axis=1)"
   ]
  },
  {
   "cell_type": "code",
   "execution_count": 31,
   "metadata": {},
   "outputs": [
    {
     "data": {
      "image/png": "[encoded data removed]",
      "text/plain": [
       "<Figure size 432x288 with 1 Axes>"
      ]
     },
     "metadata": {
      "needs_background": "light"
     },
     "output_type": "display_data"
    }
   ],
   "source": [
    "# Classement des points lignes en fonction de leur cos2 sur le 1er axe\n",
    "my_mca.plot_row_cos2(num_axis=1)"
   ]
  },
  {
   "cell_type": "markdown",
   "metadata": {},
   "source": [
    "<h5>Analyse du 1er axe - Points colonnes</h5>"
   ]
  },
  {
   "cell_type": "code",
   "execution_count": 32,
   "metadata": {},
   "outputs": [
    {
     "data": {
      "image/png": "[encoded data removed]",
      "text/plain": [
       "<Figure size 432x288 with 1 Axes>"
      ]
     },
     "metadata": {
      "needs_background": "light"
     },
     "output_type": "display_data"
    }
   ],
   "source": [
    "# Classement des points colonnes en fonction de leur contribution au 1er axe\n",
    "my_mca.plot_col_contrib(num_axis=1)"
   ]
  },
  {
   "cell_type": "code",
   "execution_count": 33,
   "metadata": {},
   "outputs": [
    {
     "data": {
      "image/png": "[encoded data removed]",
      "text/plain": [
       "<Figure size 432x288 with 1 Axes>"
      ]
     },
     "metadata": {
      "needs_background": "light"
     },
     "output_type": "display_data"
    }
   ],
   "source": [
    "my_mca.plot_col_contrib(num_axis=2)"
   ]
  },
  {
   "cell_type": "code",
   "execution_count": 34,
   "metadata": {},
   "outputs": [
    {
     "data": {
      "image/png": "[encoded data removed]",
      "text/plain": [
       "<Figure size 432x288 with 1 Axes>"
      ]
     },
     "metadata": {
      "needs_background": "light"
     },
     "output_type": "display_data"
    }
   ],
   "source": [
    "# Classement des points colonnes en fonction de leur cos2 sur le 1er axe\n",
    "my_mca.plot_col_cos2(num_axis=1)"
   ]
  },
  {
   "cell_type": "markdown",
   "metadata": {},
   "source": [
    "Pour ces graphiques produits par les méthodes <i>plot_row_contrib</i>, <i>plot_row_cos2</i>, <i>plot_col_contrib</i>, <i>plot_col_cos2</i>, on peut se limiter à visualiser les x valeurs les plus grandes via le paramètre nb_values."
   ]
  },
  {
   "cell_type": "code",
   "execution_count": 35,
   "metadata": {},
   "outputs": [
    {
     "data": {
      "image/png": "[encoded data removed]",
      "text/plain": [
       "<Figure size 432x288 with 1 Axes>"
      ]
     },
     "metadata": {
      "needs_background": "light"
     },
     "output_type": "display_data"
    }
   ],
   "source": [
    "my_mca.plot_row_contrib(num_axis=1, nb_values=10)"
   ]
  },
  {
   "cell_type": "markdown",
   "metadata": {},
   "source": [
    "Pour tous les graphiques présentés plus haut, il est possible de définir un taille particulière via le paramètre <i>figsize</i>."
   ]
  },
  {
   "cell_type": "code",
   "execution_count": 36,
   "metadata": {},
   "outputs": [
    {
     "data": {
      "image/png": "[encoded data removed]",
      "text/plain": [
       "<Figure size 720x576 with 1 Axes>"
      ]
     },
     "metadata": {
      "needs_background": "light"
     },
     "output_type": "display_data"
    }
   ],
   "source": [
    "my_mca.mapping(1, 2, figsize=(10, 8))"
   ]
  },
  {
   "cell_type": "markdown",
   "metadata": {},
   "source": [
    "<h1>II. Approche Machine Learning</h1>\n",
    "<p>\n",
    "Ici, l'objectif est d'utiliser l'Analyse des Correspondance Multiples en tant que méthode de prétraitement.\n",
    "</p>\n",
    "<p>\n",
    "La classe MCA implémente les méthodes <i>fit</i>, <i>transform</i> et <i>fit_transform</i> bien connues des utilisateurs de scikit-learn.\n",
    "</p>\n",
    "<p>\n",
    "Il est ici judicieux de fixer le paramètre <i>stats</i> à <i>False</i> pour gagner en temps de traitement et en ressources mémoire.\n",
    "</p>"
   ]
  },
  {
   "cell_type": "code",
   "execution_count": 37,
   "metadata": {},
   "outputs": [],
   "source": [
    "my_mca = MCA(stats=False)"
   ]
  },
  {
   "cell_type": "code",
   "execution_count": 38,
   "metadata": {},
   "outputs": [
    {
     "data": {
      "text/plain": [
       "MCA(stats=False)"
      ]
     },
     "execution_count": 38,
     "metadata": {},
     "output_type": "execute_result"
    }
   ],
   "source": [
    "my_mca.fit(X)"
   ]
  },
  {
   "cell_type": "code",
   "execution_count": 39,
   "metadata": {},
   "outputs": [
    {
     "data": {
      "text/plain": [
       "array([[ 0.8545,  0.2739, -0.4349,  0.0754,  0.3384],\n",
       "       [-0.7440, -0.5477, -0.3419, -0.1721,  0.3384],\n",
       "       [-0.9308,  0.2739, -0.1260,  0.2067,  0.3384],\n",
       "       [-0.8545,  0.2739,  0.4349, -0.0754,  0.3384],\n",
       "       [ 0.9308,  0.2739,  0.1260, -0.2067,  0.3384],\n",
       "       [ 0.7440, -0.5477,  0.3419,  0.1721,  0.3384]])"
      ]
     },
     "execution_count": 39,
     "metadata": {},
     "output_type": "execute_result"
    }
   ],
   "source": [
    "my_mca.transform(X)"
   ]
  },
  {
   "cell_type": "code",
   "execution_count": 40,
   "metadata": {},
   "outputs": [
    {
     "data": {
      "text/plain": [
       "array([[ 0.8545,  0.2739, -0.4349,  0.0754,  0.3384],\n",
       "       [-0.7440, -0.5477, -0.3419, -0.1721,  0.3384],\n",
       "       [-0.9308,  0.2739, -0.1260,  0.2067,  0.3384],\n",
       "       [-0.8545,  0.2739,  0.4349, -0.0754,  0.3384],\n",
       "       [ 0.9308,  0.2739,  0.1260, -0.2067,  0.3384],\n",
       "       [ 0.7440, -0.5477,  0.3419,  0.1721,  0.3384]])"
      ]
     },
     "execution_count": 40,
     "metadata": {},
     "output_type": "execute_result"
    }
   ],
   "source": [
    "my_mca.fit_transform(X)"
   ]
  },
  {
   "cell_type": "markdown",
   "metadata": {
    "collapsed": true
   },
   "source": [
    "<h5>Intégration dans une Pipeline de scikit-learn</h5>"
   ]
  },
  {
   "cell_type": "markdown",
   "metadata": {},
   "source": [
    "La class MCA peut être intégrée dans une Pipeline de scikit-learn.<br />\n",
    "Dans le cadre de notre exemple, nous cherchons à prédire la 7ème variable (variable <i>Fonction</i>) à partir des 6 premières variables du jeu de données.<br />\n",
    "<i>Fonction</i> est une variable nominale comprenant 3 catégories : \"chasse\", \"compagnie\" et \"utilite\".<br />\n",
    "Pour la prédire, nous allons utiliser un modèle de régression logistique, qui prendra en input des axes issus d'une Analyse des Correspondances Multiples pratiquée sur les données brutes.<br />\n",
    "Dans un premier temps, et de façon tout à fait arbitraire, nous fixons le nombre de composantes extraites à 4. "
   ]
  },
  {
   "cell_type": "code",
   "execution_count": 41,
   "metadata": {},
   "outputs": [],
   "source": [
    "from sklearn.pipeline import Pipeline\n",
    "from sklearn.linear_model import LogisticRegression\n",
    "from sklearn.model_selection import GridSearchCV"
   ]
  },
  {
   "cell_type": "code",
   "execution_count": 46,
   "metadata": {},
   "outputs": [],
   "source": [
    "df = pd.read_table('burgundies.csv',\n",
    "                     sep=',', skiprows=1, index_col=0, header=0)"
   ]
  },
  {
   "cell_type": "code",
   "execution_count": 49,
   "metadata": {},
   "outputs": [
    {
     "data": {
      "text/plain": [
       "array([[1, 1, 0, 0, 0, 1],\n",
       "       [2, 0, 1, 0, 1, 0],\n",
       "       [2, 0, 1, 1, 0, 0],\n",
       "       [2, 0, 1, 1, 0, 0],\n",
       "       [1, 1, 0, 0, 0, 1],\n",
       "       [1, 1, 0, 0, 1, 0]], dtype=int64)"
      ]
     },
     "execution_count": 49,
     "metadata": {},
     "output_type": "execute_result"
    }
   ],
   "source": [
    "df.iloc[:, 0:6].values"
   ]
  },
  {
   "cell_type": "code",
   "execution_count": 53,
   "metadata": {},
   "outputs": [],
   "source": [
    "# X = features\n",
    "X = df.iloc[:, 0:6].values\n",
    "# y = labels\n",
    "y = df.iloc[:, 6].values"
   ]
  },
  {
   "cell_type": "code",
   "execution_count": 57,
   "metadata": {},
   "outputs": [],
   "source": [
    "# Construction de la Pipeline\n",
    "# On enchaine une Analyse des Correspondances Multiples (4 axes retenus) puis une régression logistique multinomiale\n",
    "pipe = Pipeline([(\"mca\", MCA(n_components=4, stats=False)),\n",
    "                 (\"logit\", LogisticRegression(multi_class=\"multinomial\", solver=\"lbfgs\"))])"
   ]
  },
  {
   "cell_type": "code",
   "execution_count": 58,
   "metadata": {},
   "outputs": [
    {
     "data": {
      "text/plain": [
       "Pipeline(steps=[('mca', MCA(n_components=4, stats=False)),\n",
       "                ('logit', LogisticRegression(multi_class='multinomial'))])"
      ]
     },
     "execution_count": 58,
     "metadata": {},
     "output_type": "execute_result"
    }
   ],
   "source": [
    "# Estimation du modèle\n",
    "pipe.fit(X, y)"
   ]
  },
  {
   "cell_type": "code",
   "execution_count": 59,
   "metadata": {},
   "outputs": [
    {
     "name": "stdout",
     "output_type": "stream",
     "text": [
      "[0 1 1 1 0 0]\n"
     ]
    }
   ],
   "source": [
    "# Prédiction sur l'échantillon de test\n",
    "print(pipe.predict(X))"
   ]
  },
  {
   "cell_type": "markdown",
   "metadata": {},
   "source": [
    "Le paramètre <i>n_components</i> peut faire l'objet d'une optimisation via GridSearchCV de scikit-learn.<br />\n",
    "Nous reconstruisons donc une Pipeline, sans spécifier de valeur a priori pour <i>n_components</i>."
   ]
  },
  {
   "cell_type": "code",
   "execution_count": null,
   "metadata": {},
   "outputs": [],
   "source": [
    "# Reconstruction d'une Pipeline, sans spécifier de valeur a priori pour n_components\n",
    "pipe2 = Pipeline([(\"mca\", MCA(stats=False)), (\"logit\", LogisticRegression(multi_class=\"multinomial\", solver=\"lbfgs\"))])"
   ]
  },
  {
   "cell_type": "code",
   "execution_count": null,
   "metadata": {},
   "outputs": [],
   "source": [
    "# Paramétrage de la grille de paramètres\n",
    "# Attention à l'étendue des valeurs possibles pour mca__n_components !!!\n",
    "param = [{\"mca__n_components\": [x + 1 for x in range(10)]}]"
   ]
  },
  {
   "cell_type": "code",
   "execution_count": null,
   "metadata": {},
   "outputs": [],
   "source": [
    "# Construction de l'obet GridSearchCV\n",
    "grid_search = GridSearchCV(pipe2, param_grid=param, scoring=\"accuracy\")"
   ]
  },
  {
   "cell_type": "code",
   "execution_count": null,
   "metadata": {},
   "outputs": [],
   "source": [
    "# Estimation du modèle\n",
    "grid_search.fit(X, y)"
   ]
  },
  {
   "cell_type": "code",
   "execution_count": null,
   "metadata": {},
   "outputs": [],
   "source": [
    "# Affichage du score optimal\n",
    "grid_search.best_score_"
   ]
  },
  {
   "cell_type": "code",
   "execution_count": null,
   "metadata": {},
   "outputs": [],
   "source": [
    "# Affichage du paramètre optimal\n",
    "grid_search.best_params_"
   ]
  },
  {
   "cell_type": "code",
   "execution_count": null,
   "metadata": {},
   "outputs": [],
   "source": [
    "# Prédiction sur l'échantillon de test\n",
    "grid_search.predict(X)"
   ]
  }
 ],
 "metadata": {
  "anaconda-cloud": {},
  "kernelspec": {
   "display_name": "Python 3 (ipykernel)",
   "language": "python",
   "name": "python3"
  },
  "language_info": {
   "codemirror_mode": {
    "name": "ipython",
    "version": 3
   },
   "file_extension": ".py",
   "mimetype": "text/x-python",
   "name": "python",
   "nbconvert_exporter": "python",
   "pygments_lexer": "ipython3",
   "version": "3.9.12"
  }
 },
 "nbformat": 4,
 "nbformat_minor": 1
}
