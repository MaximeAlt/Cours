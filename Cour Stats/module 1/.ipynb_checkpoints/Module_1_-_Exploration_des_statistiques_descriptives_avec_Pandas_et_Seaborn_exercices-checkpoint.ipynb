{
 "cells": [
  {
   "cell_type": "markdown",
   "id": "1d035d5d",
   "metadata": {},
   "source": [
    "# Module 1\n",
    "## 1. Exploration des statistiques descriptives univariés à l'aide de Pandas et Seaborn\n",
    "\n",
    "Les statistiques descriptives incluent celles qui résument la tendance centrale, la dispersion et la forme de la distribution d'un ensemble de données.\n",
    "\n",
    "- Mesure de la tendance centrale\n",
    "- Mesure de propagation / dispersion\n",
    "- Mesure de symétrie\n",
    "\n",
    "Importation de toutes les bibliothèques nécessaires pour les graphiques statistiques et création d'une base de données à partir de l'ensemble de données fourni dans (https://www.kaggle.com/yersever/500-person-gender-height-weight-bodymassindex/version/2).\n",
    "\n",
    "Cet ensemble de données contient les colonnes Taille, Poids, Âge, IMC et Sexe. Calculons des statistiques descriptives pour cet ensemble de données.\n",
    "\n",
    "\n",
    "Le code utilisé dans ce projet est disponible en tant que bloc-notes Jupyter sur GitHub .\n",
    "\n"
   ]
  },
  {
   "cell_type": "code",
   "execution_count": 1,
   "id": "fccc948f",
   "metadata": {},
   "outputs": [
    {
     "data": {
      "text/html": [
       "<div>\n",
       "<style scoped>\n",
       "    .dataframe tbody tr th:only-of-type {\n",
       "        vertical-align: middle;\n",
       "    }\n",
       "\n",
       "    .dataframe tbody tr th {\n",
       "        vertical-align: top;\n",
       "    }\n",
       "\n",
       "    .dataframe thead th {\n",
       "        text-align: right;\n",
       "    }\n",
       "</style>\n",
       "<table border=\"1\" class=\"dataframe\">\n",
       "  <thead>\n",
       "    <tr style=\"text-align: right;\">\n",
       "      <th></th>\n",
       "      <th>Gender</th>\n",
       "      <th>Height</th>\n",
       "      <th>Weight</th>\n",
       "      <th>Index</th>\n",
       "    </tr>\n",
       "  </thead>\n",
       "  <tbody>\n",
       "    <tr>\n",
       "      <th>0</th>\n",
       "      <td>Male</td>\n",
       "      <td>174</td>\n",
       "      <td>96</td>\n",
       "      <td>4</td>\n",
       "    </tr>\n",
       "    <tr>\n",
       "      <th>1</th>\n",
       "      <td>Male</td>\n",
       "      <td>189</td>\n",
       "      <td>87</td>\n",
       "      <td>2</td>\n",
       "    </tr>\n",
       "    <tr>\n",
       "      <th>2</th>\n",
       "      <td>Female</td>\n",
       "      <td>185</td>\n",
       "      <td>110</td>\n",
       "      <td>4</td>\n",
       "    </tr>\n",
       "    <tr>\n",
       "      <th>3</th>\n",
       "      <td>Female</td>\n",
       "      <td>195</td>\n",
       "      <td>104</td>\n",
       "      <td>3</td>\n",
       "    </tr>\n",
       "    <tr>\n",
       "      <th>4</th>\n",
       "      <td>Male</td>\n",
       "      <td>149</td>\n",
       "      <td>61</td>\n",
       "      <td>3</td>\n",
       "    </tr>\n",
       "    <tr>\n",
       "      <th>...</th>\n",
       "      <td>...</td>\n",
       "      <td>...</td>\n",
       "      <td>...</td>\n",
       "      <td>...</td>\n",
       "    </tr>\n",
       "    <tr>\n",
       "      <th>495</th>\n",
       "      <td>Female</td>\n",
       "      <td>150</td>\n",
       "      <td>153</td>\n",
       "      <td>5</td>\n",
       "    </tr>\n",
       "    <tr>\n",
       "      <th>496</th>\n",
       "      <td>Female</td>\n",
       "      <td>184</td>\n",
       "      <td>121</td>\n",
       "      <td>4</td>\n",
       "    </tr>\n",
       "    <tr>\n",
       "      <th>497</th>\n",
       "      <td>Female</td>\n",
       "      <td>141</td>\n",
       "      <td>136</td>\n",
       "      <td>5</td>\n",
       "    </tr>\n",
       "    <tr>\n",
       "      <th>498</th>\n",
       "      <td>Male</td>\n",
       "      <td>150</td>\n",
       "      <td>95</td>\n",
       "      <td>5</td>\n",
       "    </tr>\n",
       "    <tr>\n",
       "      <th>499</th>\n",
       "      <td>Male</td>\n",
       "      <td>173</td>\n",
       "      <td>131</td>\n",
       "      <td>5</td>\n",
       "    </tr>\n",
       "  </tbody>\n",
       "</table>\n",
       "<p>500 rows × 4 columns</p>\n",
       "</div>"
      ],
      "text/plain": [
       "     Gender  Height  Weight  Index\n",
       "0      Male     174      96      4\n",
       "1      Male     189      87      2\n",
       "2    Female     185     110      4\n",
       "3    Female     195     104      3\n",
       "4      Male     149      61      3\n",
       "..      ...     ...     ...    ...\n",
       "495  Female     150     153      5\n",
       "496  Female     184     121      4\n",
       "497  Female     141     136      5\n",
       "498    Male     150      95      5\n",
       "499    Male     173     131      5\n",
       "\n",
       "[500 rows x 4 columns]"
      ]
     },
     "execution_count": 1,
     "metadata": {},
     "output_type": "execute_result"
    }
   ],
   "source": [
    "import numpy as np\n",
    "import pandas as pd\n",
    "import matplotlib.pyplot as plt\n",
    "\n",
    "# matplotlib inline\n",
    "\n",
    "df=pd.read_csv(\"500_Person_Gender_Height_Weight_Index.csv\")\n",
    "df"
   ]
  },
  {
   "cell_type": "code",
   "execution_count": 9,
   "id": "67539d84",
   "metadata": {},
   "outputs": [
    {
     "data": {
      "text/plain": [
       "array([4, 2, 3, 5, 1, 0], dtype=int64)"
      ]
     },
     "execution_count": 9,
     "metadata": {},
     "output_type": "execute_result"
    }
   ],
   "source": [
    "df[\"Index\"].unique()"
   ]
  },
  {
   "cell_type": "markdown",
   "id": "843d9d1f",
   "metadata": {},
   "source": [
    "La mesure de la tendance centrale est utilisée pour décrire la valeur médiane / centrale des données.\n",
    "Mean, Median, Modesont des mesures de la tendance centrale.\n",
    "### 1.1 Mesure de la tendance centrale\n",
    "\n",
    "La mesure de la tendance centrale est utilisée pour décrire la valeur médiane / centrale des données.\n",
    "Mean, Median, Modesont des mesures de la tendance centrale.\n",
    "\n",
    "### a. Moyenne\n",
    "La moyenne est la \"average value\" de l'ensemble de données.\n",
    "La moyenne est calculée en ajoutant toutes les valeurs de l'ensemble de données divisées par le nombre de valeurs de l'ensemble de données. Nous pouvons calculer la moyenne uniquement pour les variables numériques.\n",
    "\n",
    "1. Calculer de la moyenne pour une variable particulière («Âge») à l'aide de Python.\n",
    "\n",
    "\n"
   ]
  },
  {
   "cell_type": "code",
   "execution_count": null,
   "id": "06ee4177",
   "metadata": {},
   "outputs": [],
   "source": []
  },
  {
   "cell_type": "markdown",
   "id": "67236d40",
   "metadata": {},
   "source": [
    "2. Calculer de la moyenne de toutes les colonnes du dataframe."
   ]
  },
  {
   "cell_type": "code",
   "execution_count": null,
   "id": "5f2804c8",
   "metadata": {},
   "outputs": [],
   "source": []
  },
  {
   "cell_type": "markdown",
   "id": "5af55921",
   "metadata": {},
   "source": [
    "### b. Mediane\n",
    "La médiane est la middle number dans l'ensemble de données.\n",
    "La médiane est la meilleure mesure lorsque nous avons des valeurs aberrantes.\n",
    "\n",
    "\n",
    "1. Calculer de la médiane d'une variable particulière («Âge») à l'aide de Python.\n"
   ]
  },
  {
   "cell_type": "code",
   "execution_count": null,
   "id": "8473511a",
   "metadata": {},
   "outputs": [],
   "source": []
  },
  {
   "cell_type": "markdown",
   "id": "416e8951",
   "metadata": {},
   "source": [
    "2. Calcul de la médiane de toutes les colonnes du dataframe."
   ]
  },
  {
   "cell_type": "code",
   "execution_count": null,
   "id": "92ec6661",
   "metadata": {},
   "outputs": [],
   "source": []
  },
  {
   "cell_type": "markdown",
   "id": "bf45820e",
   "metadata": {},
   "source": [
    "### c. Mode\n",
    "\n",
    "Le mode est utilisé pour trouver la variable la plus répétée dans l'ensemble de données.\n",
    "\n",
    "\n",
    "1. Calculer le mode de la variable \"Weight\" et expliquer en une phrase le résultat."
   ]
  },
  {
   "cell_type": "code",
   "execution_count": null,
   "id": "2412a4cf",
   "metadata": {},
   "outputs": [],
   "source": []
  },
  {
   "cell_type": "markdown",
   "id": "7b6fa881",
   "metadata": {},
   "source": [
    "2. Calculer le mode de toutes les colonnes du dataframe"
   ]
  },
  {
   "cell_type": "code",
   "execution_count": null,
   "id": "9c61bfbf",
   "metadata": {},
   "outputs": [],
   "source": []
  },
  {
   "cell_type": "code",
   "execution_count": 31,
   "id": "d9d63cce",
   "metadata": {},
   "outputs": [
    {
     "data": {
      "text/html": [
       "<div>\n",
       "<style scoped>\n",
       "    .dataframe tbody tr th:only-of-type {\n",
       "        vertical-align: middle;\n",
       "    }\n",
       "\n",
       "    .dataframe tbody tr th {\n",
       "        vertical-align: top;\n",
       "    }\n",
       "\n",
       "    .dataframe thead th {\n",
       "        text-align: right;\n",
       "    }\n",
       "</style>\n",
       "<table border=\"1\" class=\"dataframe\">\n",
       "  <thead>\n",
       "    <tr style=\"text-align: right;\">\n",
       "      <th></th>\n",
       "      <th>Gender</th>\n",
       "      <th>Height</th>\n",
       "      <th>Weight</th>\n",
       "      <th>Index</th>\n",
       "    </tr>\n",
       "  </thead>\n",
       "  <tbody>\n",
       "    <tr>\n",
       "      <th>0</th>\n",
       "      <td>Male</td>\n",
       "      <td>174</td>\n",
       "      <td>96</td>\n",
       "      <td>4</td>\n",
       "    </tr>\n",
       "    <tr>\n",
       "      <th>1</th>\n",
       "      <td>Male</td>\n",
       "      <td>189</td>\n",
       "      <td>87</td>\n",
       "      <td>2</td>\n",
       "    </tr>\n",
       "    <tr>\n",
       "      <th>2</th>\n",
       "      <td>Female</td>\n",
       "      <td>185</td>\n",
       "      <td>110</td>\n",
       "      <td>4</td>\n",
       "    </tr>\n",
       "    <tr>\n",
       "      <th>3</th>\n",
       "      <td>Female</td>\n",
       "      <td>195</td>\n",
       "      <td>104</td>\n",
       "      <td>3</td>\n",
       "    </tr>\n",
       "    <tr>\n",
       "      <th>4</th>\n",
       "      <td>Male</td>\n",
       "      <td>149</td>\n",
       "      <td>61</td>\n",
       "      <td>3</td>\n",
       "    </tr>\n",
       "    <tr>\n",
       "      <th>...</th>\n",
       "      <td>...</td>\n",
       "      <td>...</td>\n",
       "      <td>...</td>\n",
       "      <td>...</td>\n",
       "    </tr>\n",
       "    <tr>\n",
       "      <th>495</th>\n",
       "      <td>Female</td>\n",
       "      <td>150</td>\n",
       "      <td>153</td>\n",
       "      <td>5</td>\n",
       "    </tr>\n",
       "    <tr>\n",
       "      <th>496</th>\n",
       "      <td>Female</td>\n",
       "      <td>184</td>\n",
       "      <td>121</td>\n",
       "      <td>4</td>\n",
       "    </tr>\n",
       "    <tr>\n",
       "      <th>497</th>\n",
       "      <td>Female</td>\n",
       "      <td>141</td>\n",
       "      <td>136</td>\n",
       "      <td>5</td>\n",
       "    </tr>\n",
       "    <tr>\n",
       "      <th>498</th>\n",
       "      <td>Male</td>\n",
       "      <td>150</td>\n",
       "      <td>95</td>\n",
       "      <td>5</td>\n",
       "    </tr>\n",
       "    <tr>\n",
       "      <th>499</th>\n",
       "      <td>Male</td>\n",
       "      <td>173</td>\n",
       "      <td>131</td>\n",
       "      <td>5</td>\n",
       "    </tr>\n",
       "  </tbody>\n",
       "</table>\n",
       "<p>500 rows × 4 columns</p>\n",
       "</div>"
      ],
      "text/plain": [
       "     Gender  Height  Weight  Index\n",
       "0      Male     174      96      4\n",
       "1      Male     189      87      2\n",
       "2    Female     185     110      4\n",
       "3    Female     195     104      3\n",
       "4      Male     149      61      3\n",
       "..      ...     ...     ...    ...\n",
       "495  Female     150     153      5\n",
       "496  Female     184     121      4\n",
       "497  Female     141     136      5\n",
       "498    Male     150      95      5\n",
       "499    Male     173     131      5\n",
       "\n",
       "[500 rows x 4 columns]"
      ]
     },
     "execution_count": 31,
     "metadata": {},
     "output_type": "execute_result"
    }
   ],
   "source": [
    "df"
   ]
  },
  {
   "cell_type": "markdown",
   "id": "346a7456",
   "metadata": {},
   "source": [
    "### 1.2. Mesure de dispertion\n",
    "\n",
    "- La mesure de l'étalement / dispersion est utilisée pour décrire la façon dont les données sont diffusées. Il décrit également la variabilité de l'ensemble de données.\n",
    "- L'écart type, la variance, la plage, l'IQR, sont utilisés pour décrire la mesure de l'étalement / dispersion\n",
    "- La mesure de la propagation peut être affichée dans des graphiques tels que boxplot .\n",
    "\n",
    "### a. Variance\n",
    "\n",
    "\n",
    "La variance est utilisée pour décrire la distance entre chaque nombre de l'ensemble de données et la moyenne.\n",
    "\n",
    "1. Calculer la variance pour la colonne \"Weight\" dans l'ensemble de données et expliquer le resultat.\n"
   ]
  },
  {
   "cell_type": "code",
   "execution_count": null,
   "id": "6d5df13e",
   "metadata": {},
   "outputs": [],
   "source": []
  },
  {
   "cell_type": "markdown",
   "id": "2d7ca654",
   "metadata": {},
   "source": [
    "2. Calculer la variance pour toutes les colonnes de la trame de données"
   ]
  },
  {
   "cell_type": "code",
   "execution_count": null,
   "id": "c7bcdf8c",
   "metadata": {},
   "outputs": [],
   "source": []
  },
  {
   "cell_type": "markdown",
   "id": "0182f7a1",
   "metadata": {},
   "source": [
    "### b. Ecart-type (Standard deviation)\n",
    "\n",
    "- L'écart type est la mesure de la dispersion des données par rapport à la moyenne.\n",
    "- L'écart type est la racine carrée de la variance.\n",
    "Plus l'écart type est grand, plus les valeurs sont dispersées.\n",
    "\n",
    "1. Calculer l'écart type pour la colonne \"Weight\" dans l'ensemble de données et expliquer le resultat."
   ]
  },
  {
   "cell_type": "code",
   "execution_count": null,
   "id": "e83314be",
   "metadata": {},
   "outputs": [],
   "source": []
  },
  {
   "cell_type": "markdown",
   "id": "88d5564d",
   "metadata": {},
   "source": [
    "2. Calculer l'écart type pour toutes les colonnes de l'ensemble de données."
   ]
  },
  {
   "cell_type": "code",
   "execution_count": null,
   "id": "ffc4b1ba",
   "metadata": {},
   "outputs": [],
   "source": []
  },
  {
   "cell_type": "markdown",
   "id": "9df241b3",
   "metadata": {},
   "source": [
    "### b. L'étendue\n",
    "\n",
    "- La plage est la différence entre le plus grand nombre et le plus petit nombre\n",
    "- Plus la plage est large, plus la dispersion est grande.\n",
    "\n",
    "1. Calculer l'étendue de la variable \"Weight\" (penser à calculer le max puis le min )"
   ]
  },
  {
   "cell_type": "code",
   "execution_count": null,
   "id": "8782ad30",
   "metadata": {},
   "outputs": [],
   "source": []
  },
  {
   "cell_type": "code",
   "execution_count": null,
   "id": "e82df3d2",
   "metadata": {},
   "outputs": [],
   "source": []
  },
  {
   "cell_type": "code",
   "execution_count": null,
   "id": "71d485c2",
   "metadata": {},
   "outputs": [],
   "source": []
  },
  {
   "cell_type": "markdown",
   "id": "a2fc8cb0",
   "metadata": {},
   "source": [
    "### c. Les quartiles\n",
    "Les quartiles décrivent la répartition des données par division en trimestres. La médiane divise exactement les données en deux parties.\n",
    "- Q1 (quartile inférieur) est la valeur médiane de la première moitié de l'ensemble de données trié.\n",
    "- Q2 - est la valeur médiane\n",
    "- Q3 (quartile supérieur) est la valeur médiane de la seconde moitié de l'ensemble de données trié\n",
    "L'intervalle interquartile est la différence entre le 75e centile (Q3) et le 25e centile (Q1).\n",
    "\n",
    "50% des données se situent dans cette plage.\n",
    "\n",
    "1. Calculer l'intervalle interquartile de la variables \"Weight\" et expliquer le résultat."
   ]
  },
  {
   "cell_type": "code",
   "execution_count": null,
   "id": "906ee81d",
   "metadata": {},
   "outputs": [],
   "source": []
  },
  {
   "cell_type": "code",
   "execution_count": null,
   "id": "fdec3dde",
   "metadata": {},
   "outputs": [],
   "source": []
  },
  {
   "cell_type": "code",
   "execution_count": null,
   "id": "227094c1",
   "metadata": {},
   "outputs": [],
   "source": []
  },
  {
   "cell_type": "markdown",
   "id": "6312a546",
   "metadata": {},
   "source": [
    "La fonction \"describe ()\" génère des statistiques descriptives.Elle est utilisée pour afficher certains détails statistiques de base tels que la moyenne, la médiane, le minimum, le maximum, les centiles, le nombre d'une trame de données ou une série de valeurs numériques.\n",
    "\n",
    "1. Appliquer cette fonction pour déterminer les statitiques de base de la variable \"Weight\""
   ]
  },
  {
   "cell_type": "code",
   "execution_count": null,
   "id": "b7923137",
   "metadata": {},
   "outputs": [],
   "source": []
  },
  {
   "cell_type": "markdown",
   "id": "ae797369",
   "metadata": {},
   "source": [
    "2. Appliquer cette fonction pour déterminer les statitiques de base pour toutes les variables de la base de données."
   ]
  },
  {
   "cell_type": "code",
   "execution_count": null,
   "id": "8a1b7ce6",
   "metadata": {},
   "outputs": [],
   "source": []
  },
  {
   "cell_type": "code",
   "execution_count": null,
   "id": "9328578b",
   "metadata": {},
   "outputs": [],
   "source": []
  },
  {
   "cell_type": "markdown",
   "id": "0e93ea91",
   "metadata": {},
   "source": [
    "Le résumé en cinq points comprend cinq valeurs\n",
    "\n",
    "- Valeur minimum\n",
    "- Q1 -Quartile inférieur\n",
    "- Médian\n",
    "- Q3-quartile supérieur\n",
    "- Valeur maximum\n",
    "\n",
    "Les graphiques statistiques sont utilisés pour identifier les valeurs aberrantes, visualiser les distributions, découvrir les relations et la corrélation entre les variables d'un ensemble de données."
   ]
  },
  {
   "cell_type": "markdown",
   "id": "dd6587b2",
   "metadata": {},
   "source": [
    "### Boite à moustaches\n",
    "\n",
    "Boxplot est utilisé pour décrire la manière dont les données sont distribuées dans l'ensemble de données. Ce graphique représente five-point summary(minimum, maximum, médiane, quartile inférieur et quartile supérieur). Ce graphique est utilisé pour identifier les valeurs aberrantes .\n",
    "\n",
    "-  moustaches - dénotent la propagation des données\n",
    "-  case - représente l'IQR - 50% des données se trouvent dans cette plage\n",
    "\n",
    "1. Représenter le boxplot de la variable \"Height\" et déduire.\n"
   ]
  },
  {
   "cell_type": "code",
   "execution_count": null,
   "id": "5fb22af5",
   "metadata": {},
   "outputs": [],
   "source": []
  },
  {
   "cell_type": "markdown",
   "id": "bb1946c7",
   "metadata": {},
   "source": [
    "2. Représenter une boîte à moustaches regroupée par catégorie de sexe pour la variable \"Height\""
   ]
  },
  {
   "cell_type": "code",
   "execution_count": null,
   "id": "6cf5760c",
   "metadata": {},
   "outputs": [],
   "source": []
  },
  {
   "cell_type": "markdown",
   "id": "bb2e616d",
   "metadata": {},
   "source": [
    "3. Créer un tableau qui regroupe les individus par catégorie de sexe"
   ]
  },
  {
   "cell_type": "code",
   "execution_count": null,
   "id": "7ce65d4d",
   "metadata": {},
   "outputs": [],
   "source": [
    "\n"
   ]
  },
  {
   "cell_type": "markdown",
   "id": "d0e33fd1",
   "metadata": {},
   "source": [
    "4. Représenter le tableau qui regroupe par catégorie sexe homme la variable \"Height\" puis calculer la moyenne et l'interquartile  de la variable \"Height\" des hommes."
   ]
  },
  {
   "cell_type": "code",
   "execution_count": null,
   "id": "df617531",
   "metadata": {},
   "outputs": [],
   "source": [
    "\n"
   ]
  },
  {
   "cell_type": "code",
   "execution_count": null,
   "id": "9ae8887c",
   "metadata": {},
   "outputs": [],
   "source": [
    "\n"
   ]
  },
  {
   "cell_type": "code",
   "execution_count": null,
   "id": "33ca8482",
   "metadata": {},
   "outputs": [],
   "source": []
  }
 ],
 "metadata": {
  "kernelspec": {
   "display_name": "Python 3 (ipykernel)",
   "language": "python",
   "name": "python3"
  },
  "language_info": {
   "codemirror_mode": {
    "name": "ipython",
    "version": 3
   },
   "file_extension": ".py",
   "mimetype": "text/x-python",
   "name": "python",
   "nbconvert_exporter": "python",
   "pygments_lexer": "ipython3",
   "version": "3.9.12"
  }
 },
 "nbformat": 4,
 "nbformat_minor": 5
}
