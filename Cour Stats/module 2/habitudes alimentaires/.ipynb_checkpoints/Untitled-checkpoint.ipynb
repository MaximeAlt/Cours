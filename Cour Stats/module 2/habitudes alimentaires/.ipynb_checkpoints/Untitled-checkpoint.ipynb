{
 "cells": [
  {
   "cell_type": "code",
   "execution_count": 4,
   "id": "26bc3b8a-458a-449c-a4b9-9762971758aa",
   "metadata": {},
   "outputs": [
    {
     "ename": "NameError",
     "evalue": "name 'display_scree_plot' is not defined",
     "output_type": "error",
     "traceback": [
      "\u001b[1;31m---------------------------------------------------------------------------\u001b[0m",
      "\u001b[1;31mNameError\u001b[0m                                 Traceback (most recent call last)",
      "Input \u001b[1;32mIn [4]\u001b[0m, in \u001b[0;36m<cell line: 36>\u001b[1;34m()\u001b[0m\n\u001b[0;32m     33\u001b[0m pca\u001b[38;5;241m.\u001b[39mfit(X_scaled)\n\u001b[0;32m     35\u001b[0m \u001b[38;5;66;03m# Eboulis des valeurs propres\u001b[39;00m\n\u001b[1;32m---> 36\u001b[0m \u001b[43mdisplay_scree_plot\u001b[49m(pca)\n\u001b[0;32m     38\u001b[0m \u001b[38;5;66;03m# Cercle des corrélations\u001b[39;00m\n\u001b[0;32m     39\u001b[0m pcs \u001b[38;5;241m=\u001b[39m pca\u001b[38;5;241m.\u001b[39mcomponents_\n",
      "\u001b[1;31mNameError\u001b[0m: name 'display_scree_plot' is not defined"
     ]
    }
   ],
   "source": [
    "import pandas as pd\n",
    "import numpy as np\n",
    "from sklearn import decomposition\n",
    "from sklearn import preprocessing\n",
    "#from functions import *\n",
    "\n",
    "# choix du nombre de composantes à calculer\n",
    "n_comp = 3\n",
    "\n",
    "# import de l'échantillon\n",
    "data = pd.read_csv(\"habitudes_alimentaires.csv\",encoding=\"latin\",sep = \";\")\n",
    "\n",
    "# Transpose des données\n",
    "data. rename(columns = {'Unnamed: 0':'pays'}, inplace = True)\n",
    "data = data.set_index(['pays'])\n",
    "data = data.T\n",
    "\n",
    "# selection des colonnes à prendre en compte dans l'ACP\n",
    "data_pca = data[:]\n",
    "\n",
    "# préparation des données pour l'ACP\n",
    "data_pca = data_pca.fillna(data_pca.mean()) # Il est fréquent de remplacer les valeurs inconnues par la moyenne de la variable\n",
    "X = data_pca.values\n",
    "names = data.index # ou data.index pour avoir les intitulés\n",
    "features = data.columns\n",
    "\n",
    "# Centrage et Réduction\n",
    "std_scale = preprocessing.StandardScaler().fit(X)\n",
    "X_scaled = std_scale.transform(X)\n",
    "\n",
    "# Calcul des composantes principales\n",
    "pca = decomposition.PCA(n_components=n_comp)\n",
    "pca.fit(X_scaled)\n",
    "\n",
    "# Eboulis des valeurs propres\n",
    "display_scree_plot(pca)\n",
    "\n",
    "# Cercle des corrélations\n",
    "pcs = pca.components_\n",
    "display_circles(pcs, n_comp, pca, [(0,1),(2,3),(4,5)], labels = np.array(features))\n",
    "\n",
    "# Projection des individus\n",
    "X_projected = pca.transform(X_scaled)\n",
    "display_factorial_planes(X_projected, n_comp, pca, [(0,1),(2,3),(4,5)], labels = np.array(names))\n",
    "\n",
    "plt.show()"
   ]
  },
  {
   "cell_type": "code",
   "execution_count": null,
   "id": "d4bdf069-3ffb-4cea-8049-f7affa796770",
   "metadata": {},
   "outputs": [],
   "source": []
  }
 ],
 "metadata": {
  "kernelspec": {
   "display_name": "Python 3 (ipykernel)",
   "language": "python",
   "name": "python3"
  },
  "language_info": {
   "codemirror_mode": {
    "name": "ipython",
    "version": 3
   },
   "file_extension": ".py",
   "mimetype": "text/x-python",
   "name": "python",
   "nbconvert_exporter": "python",
   "pygments_lexer": "ipython3",
   "version": "3.9.12"
  }
 },
 "nbformat": 4,
 "nbformat_minor": 5
}
