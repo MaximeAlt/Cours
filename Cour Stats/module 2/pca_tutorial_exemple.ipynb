{
 "cells": [
  {
   "cell_type": "markdown",
   "metadata": {},
   "source": [
    "<h1><i>Package fanalysis</i></h1>\n",
    "<h2>Analyse en Composantes Principales</h2>\n",
    "<p>\n",
    "Ce tutoriel a pour objectif de présenter rapidement les principales fonctionnalités offertes par le package <i>fanalysis</i> pour réaliser une Analyse en Composantes Principales.<br />\n",
    "Il suppose connu les soubassements théoriques de cette méthode.<br />\n",
    "Il ne s'attarde pas non plus sur l'interprétation du jeu de données, qui n'a pour but que de présenter les fonctionnalités du package.<br />\n",
    "2 approches sont présentées :\n",
    "<ul>\n",
    "    <li>Une approche \"datamining\" : l'ACP vise à décrire un jeu de données</li>\n",
    "    <li>Une approche \"machine learning\" : l'ACP est utilisée comme méthode de réduction des données, le résultat servant d'entrée pour un modèle prédictif (nous ferons ici l'usage d'outils de scikit-learn).</li>\n",
    "</ul>\n",
    "</p>\n",
    "\n"
   ]
  },
  {
   "cell_type": "markdown",
   "metadata": {},
   "source": [
    "<h1>I. Approche Datamining</h1>\n",
    "<p>\n",
    "L'ACP a ici pour but de décrire un fichier de données.<br />\n",
    "Celui-ci est extrait du site de Ricco Rakotomalala (Université Lyon 2) :<br />\n",
    "http://eric.univ-lyon2.fr/%7Ericco/tanagra/fichiers/autos_acp.xls<br />\n",
    "</p>\n",
    "<p>\n",
    "Nous partons d'un fichier texte intitulé \"pca_data.txt\".<br />\n",
    "On importe la librairie pandas pour charger les données, ainsi que la classe PCA du package <i>fanalysis</i>.<br />\n",
    "Les données sont transformées en matrice de type numpy.ndarray.\n",
    "</p>\n",
    "<p>\n",
    "Les données doivent se présenter sous la forme d'une matrice de valeurs numériques.\n",
    "</p>"
   ]
  },
  {
   "cell_type": "code",
   "execution_count": 1,
   "metadata": {},
   "outputs": [
    {
     "name": "stdout",
     "output_type": "stream",
     "text": [
      "Collecting fanalysis\n",
      "  Downloading fanalysis-0.0.1-py3-none-any.whl (56 kB)\n",
      "Requirement already satisfied: scikit-learn>=0.18.0 in c:\\programdata\\anaconda3\\lib\\site-packages (from fanalysis) (1.0.2)\n",
      "Requirement already satisfied: matplotlib>=2.0.0 in c:\\programdata\\anaconda3\\lib\\site-packages (from fanalysis) (3.5.1)\n",
      "Requirement already satisfied: pandas>=0.19.0 in c:\\programdata\\anaconda3\\lib\\site-packages (from fanalysis) (1.4.2)\n",
      "Requirement already satisfied: numpy>=1.11.0 in c:\\programdata\\anaconda3\\lib\\site-packages (from fanalysis) (1.21.5)\n",
      "Requirement already satisfied: kiwisolver>=1.0.1 in c:\\programdata\\anaconda3\\lib\\site-packages (from matplotlib>=2.0.0->fanalysis) (1.3.2)\n",
      "Requirement already satisfied: pillow>=6.2.0 in c:\\programdata\\anaconda3\\lib\\site-packages (from matplotlib>=2.0.0->fanalysis) (9.0.1)\n",
      "Requirement already satisfied: fonttools>=4.22.0 in c:\\programdata\\anaconda3\\lib\\site-packages (from matplotlib>=2.0.0->fanalysis) (4.25.0)\n",
      "Requirement already satisfied: cycler>=0.10 in c:\\programdata\\anaconda3\\lib\\site-packages (from matplotlib>=2.0.0->fanalysis) (0.11.0)\n",
      "Requirement already satisfied: packaging>=20.0 in c:\\programdata\\anaconda3\\lib\\site-packages (from matplotlib>=2.0.0->fanalysis) (21.3)\n",
      "Requirement already satisfied: pyparsing>=2.2.1 in c:\\programdata\\anaconda3\\lib\\site-packages (from matplotlib>=2.0.0->fanalysis) (3.0.4)\n",
      "Requirement already satisfied: python-dateutil>=2.7 in c:\\programdata\\anaconda3\\lib\\site-packages (from matplotlib>=2.0.0->fanalysis) (2.8.2)\n",
      "Requirement already satisfied: pytz>=2020.1 in c:\\programdata\\anaconda3\\lib\\site-packages (from pandas>=0.19.0->fanalysis) (2021.3)\n",
      "Requirement already satisfied: six>=1.5 in c:\\programdata\\anaconda3\\lib\\site-packages (from python-dateutil>=2.7->matplotlib>=2.0.0->fanalysis) (1.16.0)\n",
      "Requirement already satisfied: threadpoolctl>=2.0.0 in c:\\programdata\\anaconda3\\lib\\site-packages (from scikit-learn>=0.18.0->fanalysis) (2.2.0)\n",
      "Requirement already satisfied: joblib>=0.11 in c:\\programdata\\anaconda3\\lib\\site-packages (from scikit-learn>=0.18.0->fanalysis) (1.1.0)\n",
      "Requirement already satisfied: scipy>=1.1.0 in c:\\programdata\\anaconda3\\lib\\site-packages (from scikit-learn>=0.18.0->fanalysis) (1.7.3)\n",
      "Installing collected packages: fanalysis\n",
      "Successfully installed fanalysis-0.0.1\n",
      "Note: you may need to restart the kernel to use updated packages.\n"
     ]
    }
   ],
   "source": [
    "pip install fanalysis"
   ]
  },
  {
   "cell_type": "code",
   "execution_count": 10,
   "metadata": {},
   "outputs": [],
   "source": [
    "import pandas as pd\n",
    "from fanalysis.pca import PCA\n",
    "%matplotlib inline"
   ]
  },
  {
   "cell_type": "code",
   "execution_count": 11,
   "metadata": {},
   "outputs": [],
   "source": [
    "#df = pd.read_table(\"pca-data.txt\", header=0, index_col=0, delimiter=\"\\t\", encoding=\"utf-8\")\n",
    "df = pd.read_csv(\"autos_acp.csv\",sep=';')"
   ]
  },
  {
   "cell_type": "code",
   "execution_count": 12,
   "metadata": {},
   "outputs": [
    {
     "name": "stdout",
     "output_type": "stream",
     "text": [
      "             Modele   CYL  PUISS  LONG  LARG  POIDS  V-MAX FINITION   PRIX  \\\n",
      "0        Alfasud TI  1350     79   393   161    870    165        B  30570   \n",
      "1          Audi 100  1588     85   468   177   1110    160       TB  39990   \n",
      "2        Simca 1300  1294     68   424   168   1050    152        M  29600   \n",
      "3   Citroen GS Club  1222     59   412   161    930    151        M  28250   \n",
      "4          Fiat 132  1585     98   439   164   1105    165        B  34900   \n",
      "5       Lancia Beta  1297     82   429   169   1080    160       TB  35480   \n",
      "6       Peugeot 504  1796     79   449   169   1160    154        B  32300   \n",
      "7     Renault 16 TL  1565     55   424   163   1010    140        B  32000   \n",
      "8        Renault 30  2664    128   452   173   1320    180       TB  47700   \n",
      "9    Toyota Corolla  1166     55   399   157    815    140        M  26540   \n",
      "10     Alfetta-1.66  1570    109   428   162   1060    175       TB  42395   \n",
      "11    Princess-1800  1798     82   445   172   1160    158        B  33990   \n",
      "12      Datsun-200L  1998    115   469   169   1370    160       TB  43980   \n",
      "13      Taunus-2000  1993     98   438   170   1080    167        B  35010   \n",
      "14           Rancho  1442     80   431   166   1129    144       TB  39450   \n",
      "15       Mazda-9295  1769     83   440   165   1095    165        M  27900   \n",
      "16      Opel-Rekord  1979    100   459   173   1120    173        B  32700   \n",
      "17        Lada-1300  1294     68   404   161    955    140        M  22100   \n",
      "\n",
      "   R-POID.PUIS  \n",
      "0        11,01  \n",
      "1        13,06  \n",
      "2        15,44  \n",
      "3        15,76  \n",
      "4        11,28  \n",
      "5        13,17  \n",
      "6        14,68  \n",
      "7        18,36  \n",
      "8        10,31  \n",
      "9        14,82  \n",
      "10        9,72  \n",
      "11       14,15  \n",
      "12       11,91  \n",
      "13       11,02  \n",
      "14       14,11  \n",
      "15       13,19  \n",
      "16       11,20  \n",
      "17       14,04  \n"
     ]
    }
   ],
   "source": [
    "print(df)"
   ]
  },
  {
   "cell_type": "code",
   "execution_count": 13,
   "metadata": {},
   "outputs": [],
   "source": [
    "df = df.set_index(['Modele'])"
   ]
  },
  {
   "cell_type": "markdown",
   "metadata": {},
   "source": [
    "L'analyse va porter sur les 6 premières variables."
   ]
  },
  {
   "cell_type": "code",
   "execution_count": 14,
   "metadata": {},
   "outputs": [
    {
     "data": {
      "text/plain": [
       "array([[1350,   79,  393,  161,  870,  165],\n",
       "       [1588,   85,  468,  177, 1110,  160],\n",
       "       [1294,   68,  424,  168, 1050,  152],\n",
       "       [1222,   59,  412,  161,  930,  151],\n",
       "       [1585,   98,  439,  164, 1105,  165],\n",
       "       [1297,   82,  429,  169, 1080,  160],\n",
       "       [1796,   79,  449,  169, 1160,  154],\n",
       "       [1565,   55,  424,  163, 1010,  140],\n",
       "       [2664,  128,  452,  173, 1320,  180],\n",
       "       [1166,   55,  399,  157,  815,  140],\n",
       "       [1570,  109,  428,  162, 1060,  175],\n",
       "       [1798,   82,  445,  172, 1160,  158],\n",
       "       [1998,  115,  469,  169, 1370,  160],\n",
       "       [1993,   98,  438,  170, 1080,  167],\n",
       "       [1442,   80,  431,  166, 1129,  144],\n",
       "       [1769,   83,  440,  165, 1095,  165],\n",
       "       [1979,  100,  459,  173, 1120,  173],\n",
       "       [1294,   68,  404,  161,  955,  140]], dtype=int64)"
      ]
     },
     "execution_count": 14,
     "metadata": {},
     "output_type": "execute_result"
    }
   ],
   "source": [
    "X = df.iloc[:, 0:6].values\n",
    "X"
   ]
  },
  {
   "cell_type": "markdown",
   "metadata": {},
   "source": [
    "<p>On crée une instance de la classe PCA, en lui passant ici des étiquettes pour les lignes et les variables. Ces paramètres sont facultatifs ; en leur absence, le programme détermine automatiquement des étiquettes.</p>\n",
    "<p>Le constructeur de la classe PCA possède un paramètre <i>sdt_unit</i> qui indique si l'ACP est réalisée :\n",
    "<ul>\n",
    "    <li>à partir de données centrées et réduites -> PCA(std_unit=True)</li>\n",
    "    <li>à partir de données centrées mais non réduites -> PCA(std_unit=False)</li>\n",
    "</ul>\n",
    "</p>\n",
    "<p>Par défaut, la valeur du paramètre <i>std_unit</i> est fixée à True, car c'est le cas le plus courant.</p>"
   ]
  },
  {
   "cell_type": "code",
   "execution_count": 15,
   "metadata": {},
   "outputs": [],
   "source": [
    "my_pca = PCA(std_unit=True, row_labels=df.index.values, col_labels=df.columns.values[0:6])"
   ]
  },
  {
   "cell_type": "markdown",
   "metadata": {},
   "source": [
    "On estime le modèle en appliquant la méthode <i>fit</i> de la classe PCA sur le jeu de données."
   ]
  },
  {
   "cell_type": "code",
   "execution_count": 16,
   "metadata": {
    "scrolled": true
   },
   "outputs": [
    {
     "data": {
      "text/plain": [
       "PCA(col_labels=array(['CYL', 'PUISS', 'LONG', 'LARG', 'POIDS', 'V-MAX'], dtype=object),\n",
       "    row_labels=array(['Alfasud TI', 'Audi 100', 'Simca 1300', 'Citroen GS Club',\n",
       "       'Fiat 132', 'Lancia Beta', 'Peugeot 504', 'Renault 16 TL',\n",
       "       'Renault 30', 'Toyota Corolla', 'Alfetta-1.66', 'Princess-1800',\n",
       "       'Datsun-200L', 'Taunus-2000', 'Rancho', 'Mazda-9295',\n",
       "       'Opel-Rekord', 'Lada-1300'], dtype=object))"
      ]
     },
     "execution_count": 16,
     "metadata": {},
     "output_type": "execute_result"
    }
   ],
   "source": [
    "my_pca.fit(X)"
   ]
  },
  {
   "cell_type": "markdown",
   "metadata": {},
   "source": [
    "<p>\n",
    "L'exécution de la méthode <i>my_pca.fit(X)</i> provoque a minima le calcul des attributs :\n",
    "<ul>\n",
    "    <li><i>my\\_pca.eig\\_</i> : valeurs propres</li>\n",
    "    <li><i>my\\_pca.row\\_coord\\_</i> : coordonnées des points lignes</li>\n",
    "    <li><i>my\\_pca.col\\_coord\\_</i> : coordonnées des points colonnes</li>\n",
    "</ul>"
   ]
  },
  {
   "cell_type": "markdown",
   "metadata": {},
   "source": [
    "<h3>I.1. Analyse des valeurs propres</h3>"
   ]
  },
  {
   "cell_type": "markdown",
   "metadata": {},
   "source": [
    "L'attribut <i>my\\_pca.eig\\_</i> contient :\n",
    "<ul>\n",
    "    <li>en 1ère ligne : les valeurs propres en valeur absolue</li>\n",
    "    <li>en 2ème ligne : les valeurs propres en pourcentage de la variance totale</li>\n",
    "    <li>en 3ème ligne : les valeurs propres en pourcentage cumulé de la variance totale</li>\n",
    "\n",
    "</ul>"
   ]
  },
  {
   "cell_type": "code",
   "execution_count": 17,
   "metadata": {},
   "outputs": [
    {
     "name": "stdout",
     "output_type": "stream",
     "text": [
      "[[4.42085806e+00 8.56062289e-01 3.73066077e-01 2.13922089e-01\n",
      "  9.28012120e-02 4.32902727e-02]\n",
      " [7.36809677e+01 1.42677048e+01 6.21776796e+00 3.56536815e+00\n",
      "  1.54668687e+00 7.21504545e-01]\n",
      " [7.36809677e+01 8.79486725e+01 9.41664404e+01 9.77318086e+01\n",
      "  9.92784955e+01 1.00000000e+02]]\n"
     ]
    }
   ],
   "source": [
    "print(my_pca.eig_)"
   ]
  },
  {
   "cell_type": "markdown",
   "metadata": {},
   "source": [
    "Les valeurs propres peuvent être représentées graphiquement (par défaut : représentation en valeur absolue)."
   ]
  },
  {
   "cell_type": "code",
   "execution_count": 66,
   "metadata": {},
   "outputs": [
    {
     "data": {
      "image/png": "[encoded data removed]",
      "text/plain": [
       "<Figure size 432x288 with 1 Axes>"
      ]
     },
     "metadata": {
      "needs_background": "light"
     },
     "output_type": "display_data"
    }
   ],
   "source": [
    "my_pca.plot_eigenvalues()"
   ]
  },
  {
   "cell_type": "code",
   "execution_count": 18,
   "metadata": {},
   "outputs": [
    {
     "data": {
      "image/png": "[encoded data removed]",
      "text/plain": [
       "<Figure size 432x288 with 1 Axes>"
      ]
     },
     "metadata": {
      "needs_background": "light"
     },
     "output_type": "display_data"
    }
   ],
   "source": [
    "my_pca.plot_eigenvalues(type=\"percentage\")"
   ]
  },
  {
   "cell_type": "code",
   "execution_count": 19,
   "metadata": {},
   "outputs": [
    {
     "data": {
      "image/png": "[encoded data removed]",
      "text/plain": [
       "<Figure size 432x288 with 1 Axes>"
      ]
     },
     "metadata": {
      "needs_background": "light"
     },
     "output_type": "display_data"
    }
   ],
   "source": [
    "my_pca.plot_eigenvalues(type=\"cumulative\")"
   ]
  },
  {
   "cell_type": "markdown",
   "metadata": {},
   "source": [
    "<p>Quand l'objet <i>my\\_pca</i> a été instancié, son paramètre <i>stats</i> a reçu la valeur True par défaut.<br />\n",
    "En conséquence, lors de l'exécution de la méthode <i>my\\_pca.fit(X)</i>, les statistiques suivantes ont été calculées :\n",
    "<ul>\n",
    "    <li><i>my\\_pca.row\\_contrib\\_</i> : contributions des points lignes à la variance de l'axe</li>\n",
    "    <li><i>my\\_pca.col\\_contrib\\_</i> : contributions des points colonnes à la variance de l'axe</li>\n",
    "    <li><i>my\\_pca.row\\_cos2\\_</i> : cosinus carrés des points lignes</li>\n",
    "    <li><i>my\\_pca.col\\_cos2\\_</i> : cosinus carrés des points colonnes</li>\n",
    "</ul>\n",
    "</p>\n",
    "<p>\n",
    "Si l'on avait souhaité éviter le calcul de ces statistiques pour gagner du temps et économiser des ressources mémoire, il  aurait fallu instancier :<br />\n",
    "my\\_pca = PCA(stats=False)\n",
    "</p>\n",
    "<p>\n",
    "Par défaut, les coordonnées des points lignes et colonnes, leurs contributions et cosinus carrés sont calculés sur l'ensemble des axes extraits de l'analyse.<br />\n",
    "On aurait toutefois pu spécifier le nombre d'axes à retenir via le paramètre <i>n_components</i> avec par exemple :<br />\n",
    "my\\_pca = PCA(n_components=3)\n",
    "</p>\n"
   ]
  },
  {
   "cell_type": "markdown",
   "metadata": {},
   "source": [
    "<h3>I.2. Extraction des statistiques sur les points lignes</h3>"
   ]
  },
  {
   "cell_type": "markdown",
   "metadata": {},
   "source": [
    "<h5>Export de la totalité des données lignes vers une DataFrame pandas</h5>\n",
    "<p>On peut simplement envoyer vers une Dataframe : les coordonnées, les contributions et les cos2 de chacun des points <b>lignes</b>, pour tous les axes factoriels (identifiés par les suffixes dim1, dim2, etc.).</p>"
   ]
  },
  {
   "cell_type": "code",
   "execution_count": 22,
   "metadata": {},
   "outputs": [],
   "source": [
    "df_rows = my_pca.row_topandas()"
   ]
  },
  {
   "cell_type": "code",
   "execution_count": 23,
   "metadata": {},
   "outputs": [
    {
     "name": "stdout",
     "output_type": "stream",
     "text": [
      "                 row_coord_dim1  row_coord_dim2  row_coord_dim3  \\\n",
      "Alfasud TI            -2.138924       -1.785681       -0.571862   \n",
      "Audi 100               1.561459        1.527040       -1.315271   \n",
      "Simca 1300            -1.119385        0.674505       -0.456588   \n",
      "Citroen GS Club       -2.573742       -0.112884       -0.148570   \n",
      "Fiat 132               0.427855       -0.695567        0.193286   \n",
      "Lancia Beta           -0.304238        0.196149       -0.675803   \n",
      "Peugeot 504            0.683928        0.933057        0.256823   \n",
      "Renault 16 TL         -1.948493        0.980448        0.619575   \n",
      "Renault 30             4.409735       -1.063633        0.593528   \n",
      "Toyota Corolla        -3.985782       -0.236240        0.303133   \n",
      "Alfetta-1.66           0.437658       -1.912448       -0.024942   \n",
      "Princess-1800          1.018175        0.841712       -0.216610   \n",
      "Datsun-200L            2.941080        0.559175        1.243988   \n",
      "Taunus-2000            1.314880       -0.486522       -0.282621   \n",
      "Rancho                -0.691111        0.897721        0.628407   \n",
      "Mazda-9295             0.385709       -0.356185        0.075583   \n",
      "Opel-Rekord            2.289768       -0.104345       -0.796384   \n",
      "Lada-1300             -2.708574        0.143699        0.574329   \n",
      "\n",
      "                 row_coord_dim4  row_coord_dim5  row_coord_dim6  \\\n",
      "Alfasud TI            -0.201927        0.301357       -0.053921   \n",
      "Audi 100               0.211352       -0.148516        0.327238   \n",
      "Simca 1300             0.167626        0.375364       -0.271803   \n",
      "Citroen GS Club        0.017343       -0.226853       -0.263476   \n",
      "Fiat 132               0.627754       -0.263505        0.037153   \n",
      "Lancia Beta            0.555941        0.445086       -0.200083   \n",
      "Peugeot 504           -0.203134       -0.208652       -0.153892   \n",
      "Renault 16 TL         -0.630319       -0.293165       -0.108642   \n",
      "Renault 30            -0.847248        0.374890       -0.043997   \n",
      "Toyota Corolla        -0.265122       -0.278428        0.328892   \n",
      "Alfetta-1.66           0.758910       -0.168103        0.054241   \n",
      "Princess-1800         -0.303426        0.184876       -0.184894   \n",
      "Datsun-200L            0.772171       -0.054412        0.057263   \n",
      "Taunus-2000           -0.582226        0.066735        0.253092   \n",
      "Rancho                 0.357737        0.377086        0.121532   \n",
      "Mazda-9295            -0.102899       -0.527043       -0.338832   \n",
      "Opel-Rekord           -0.236347       -0.338461        0.156681   \n",
      "Lada-1300             -0.096185        0.381746        0.283448   \n",
      "\n",
      "                 row_contrib_dim1  row_contrib_dim2  row_contrib_dim3  \\\n",
      "Alfasud TI               5.749254         20.693307          4.869952   \n",
      "Audi 100                 3.063951         15.132933         25.761578   \n",
      "Simca 1300               1.574636          2.952519          3.104495   \n",
      "Citroen GS Club          8.324360          0.082697          0.328702   \n",
      "Fiat 132                 0.230046          3.139789          0.556341   \n",
      "Lancia Beta              0.116318          0.249686          6.801147   \n",
      "Peugeot 504              0.587817          5.649867          0.982222   \n",
      "Renault 16 TL            4.771099          6.238372          5.716489   \n",
      "Renault 30              24.436884          7.341856          5.245958   \n",
      "Toyota Corolla          19.964025          0.362185          1.368388   \n",
      "Alfetta-1.66             0.240708         23.735669          0.009264   \n",
      "Princess-1800            1.302765          4.597791          0.698714   \n",
      "Datsun-200L             10.870129          2.029163         23.044868   \n",
      "Taunus-2000              2.172668          1.536130          1.189465   \n",
      "Rancho                   0.600229          5.230043          5.880627   \n",
      "Mazda-9295               0.186956          0.823327          0.085073   \n",
      "Opel-Rekord              6.588764          0.070658          9.444665   \n",
      "Lada-1300                9.219391          0.134007          4.912053   \n",
      "\n",
      "                 row_contrib_dim4  row_contrib_dim5  row_contrib_dim6  \\\n",
      "Alfasud TI               1.058917          5.436712          0.373121   \n",
      "Audi 100                 1.160066          1.320448         13.742501   \n",
      "Simca 1300               0.729716          8.434883          9.480831   \n",
      "Citroen GS Club          0.007811          3.080802          8.908817   \n",
      "Fiat 132                10.234144          4.156737          0.177140   \n",
      "Lancia Beta              8.026567         11.859370          5.137567   \n",
      "Peugeot 504              1.071614          2.606259          3.039260   \n",
      "Renault 16 TL           10.317937          5.145155          1.514715   \n",
      "Renault 30              18.642010          8.413579          0.248413   \n",
      "Toyota Corolla           1.825420          4.640888         13.881736   \n",
      "Alfetta-1.66            14.957289          1.691699          0.377562   \n",
      "Princess-1800            2.390995          2.046133          4.387133   \n",
      "Datsun-200L             15.484562          0.177241          0.420804   \n",
      "Taunus-2000              8.803501          0.266610          8.220405   \n",
      "Rancho                   3.323524          8.512449          1.895463   \n",
      "Mazda-9295               0.274978         16.628993         14.733498   \n",
      "Opel-Rekord              1.450687          6.857905          3.150433   \n",
      "Lada-1300                0.240261          8.724139         10.310600   \n",
      "\n",
      "                 row_cos2_dim1  row_cos2_dim2  row_cos2_dim3  row_cos2_dim4  \\\n",
      "Alfasud TI            0.556218       0.387670       0.039759       0.004957   \n",
      "Audi 100              0.365334       0.349406       0.259215       0.006693   \n",
      "Simca 1300            0.580284       0.210694       0.096545       0.013013   \n",
      "Citroen GS Club       0.976992       0.001879       0.003256       0.000044   \n",
      "Fiat 132              0.156579       0.413826       0.031955       0.337069   \n",
      "Lancia Beta           0.081555       0.033900       0.402405       0.272321   \n",
      "Peugeot 504           0.309202       0.575488       0.043600       0.027276   \n",
      "Renault 16 TL         0.673539       0.170535       0.068101       0.070483   \n",
      "Renault 30            0.892431       0.051920       0.016167       0.032944   \n",
      "Toyota Corolla        0.975219       0.003426       0.005641       0.004315   \n",
      "Alfetta-1.66          0.042978       0.820652       0.000140       0.129229   \n",
      "Princess-1800         0.530947       0.362855       0.024031       0.047153   \n",
      "Datsun-200L           0.778390       0.028137       0.139257       0.053655   \n",
      "Taunus-2000           0.704819       0.096496       0.032562       0.138194   \n",
      "Rancho                0.243273       0.410469       0.201131       0.065181   \n",
      "Mazda-9295            0.217336       0.185337       0.008346       0.015468   \n",
      "Opel-Rekord           0.861900       0.001790       0.104260       0.009183   \n",
      "Lada-1300             0.926052       0.002607       0.041637       0.001168   \n",
      "\n",
      "                 row_cos2_dim5  row_cos2_dim6  \n",
      "Alfasud TI            0.011041       0.000353  \n",
      "Audi 100              0.003305       0.016046  \n",
      "Simca 1300            0.065251       0.034213  \n",
      "Citroen GS Club       0.007590       0.010239  \n",
      "Fiat 132              0.059391       0.001181  \n",
      "Lancia Beta           0.174546       0.035273  \n",
      "Peugeot 504           0.028778       0.015655  \n",
      "Renault 16 TL         0.015247       0.002094  \n",
      "Renault 30            0.006450       0.000089  \n",
      "Toyota Corolla        0.004759       0.006640  \n",
      "Alfetta-1.66          0.006341       0.000660  \n",
      "Princess-1800         0.017505       0.017509  \n",
      "Datsun-200L           0.000266       0.000295  \n",
      "Taunus-2000           0.001816       0.026113  \n",
      "Rancho                0.072423       0.007523  \n",
      "Mazda-9295            0.405794       0.167719  \n",
      "Opel-Rekord           0.018832       0.004036  \n",
      "Lada-1300             0.018395       0.010141  \n"
     ]
    }
   ],
   "source": [
    "print(df_rows)"
   ]
  },
  {
   "cell_type": "markdown",
   "metadata": {},
   "source": [
    "<h5>Statistiques pour les points lignes</h5>"
   ]
  },
  {
   "cell_type": "code",
   "execution_count": 24,
   "metadata": {
    "scrolled": true
   },
   "outputs": [
    {
     "name": "stdout",
     "output_type": "stream",
     "text": [
      "[[-2.13892361 -1.78568102 -0.57186228 -0.20192734  0.30135696 -0.05392079]\n",
      " [ 1.56145859  1.52704027 -1.31527135  0.21135154 -0.14851614  0.32723844]\n",
      " [-1.11938528  0.67450517 -0.4565881   0.16762584  0.37536398 -0.27180323]\n",
      " [-2.5737417  -0.11288416 -0.1485698   0.01734322 -0.22685322 -0.26347623]\n",
      " [ 0.4278552  -0.69556731  0.19328567  0.62775448 -0.26350531  0.03715265]\n",
      " [-0.30423764  0.19614878 -0.67580317  0.55594137  0.44508594 -0.20008299]\n",
      " [ 0.6839285   0.93305677  0.25682308 -0.20313429 -0.20865165 -0.15389175]\n",
      " [-1.94849257  0.98044805  0.61957488 -0.63031916 -0.29316513 -0.10864179]\n",
      " [ 4.40973457 -1.06363317  0.59352842 -0.84724778  0.37488967 -0.04399657]\n",
      " [-3.98578242 -0.23624042  0.30313336 -0.2651218  -0.27842846  0.32889199]\n",
      " [ 0.43765819 -1.91244816 -0.02494224  0.75891042 -0.16810267  0.05424075]\n",
      " [ 1.01817538  0.8417121  -0.21661021 -0.30342642  0.18487578 -0.18489356]\n",
      " [ 2.94108031  0.55917459  1.24398816  0.77217107 -0.05441213  0.05726266]\n",
      " [ 1.31488038 -0.48652246 -0.2826214  -0.58222623  0.06673467  0.25309176]\n",
      " [-0.69111137  0.89772139  0.62840689  0.35773669  0.37708593  0.12153156]\n",
      " [ 0.38570887 -0.35618457  0.07558299 -0.10289945 -0.52704301 -0.33883195]\n",
      " [ 2.28976824 -0.10434464 -0.79638378 -0.23634748 -0.33846113  0.15668108]\n",
      " [-2.70857363  0.1436988   0.57432888 -0.09618467  0.38174588  0.28344798]]\n"
     ]
    }
   ],
   "source": [
    "# Coordonnées des points lignes\n",
    "print(my_pca.row_coord_)"
   ]
  },
  {
   "cell_type": "code",
   "execution_count": 25,
   "metadata": {},
   "outputs": [
    {
     "name": "stdout",
     "output_type": "stream",
     "text": [
      "[[5.74925368e+00 2.06933067e+01 4.86995152e+00 1.05891748e+00\n",
      "  5.43671170e+00 3.73121011e-01]\n",
      " [3.06395135e+00 1.51329330e+01 2.57615777e+01 1.16006597e+00\n",
      "  1.32044753e+00 1.37425014e+01]\n",
      " [1.57463576e+00 2.95251897e+00 3.10449465e+00 7.29715894e-01\n",
      "  8.43488263e+00 9.48083107e+00]\n",
      " [8.32435980e+00 8.26966945e-02 3.28702335e-01 7.81144736e-03\n",
      "  3.08080158e+00 8.90881743e+00]\n",
      " [2.30045931e-01 3.13978898e+00 5.56341000e-01 1.02341437e+01\n",
      "  4.15673736e+00 1.77140088e-01]\n",
      " [1.16317973e-01 2.49685527e-01 6.80114726e+00 8.02656717e+00\n",
      "  1.18593696e+01 5.13756719e+00]\n",
      " [5.87817244e-01 5.64986748e+00 9.82222422e-01 1.07161394e+00\n",
      "  2.60625852e+00 3.03926001e+00]\n",
      " [4.77109902e+00 6.23837245e+00 5.71648851e+00 1.03179372e+01\n",
      "  5.14515497e+00 1.51471535e+00]\n",
      " [2.44368837e+01 7.34185620e+00 5.24595754e+00 1.86420105e+01\n",
      "  8.41357929e+00 2.48413291e-01]\n",
      " [1.99640247e+01 3.62185060e-01 1.36838781e+00 1.82541968e+00\n",
      "  4.64088797e+00 1.38817357e+01]\n",
      " [2.40708282e-01 2.37356688e+01 9.26430040e-03 1.49572894e+01\n",
      "  1.69169883e+00 3.77562165e-01]\n",
      " [1.30276508e+00 4.59779144e+00 6.98714250e-01 2.39099483e+00\n",
      "  2.04613322e+00 4.38713254e+00]\n",
      " [1.08701289e+01 2.02916325e+00 2.30448682e+01 1.54845616e+01\n",
      "  1.77241448e-01 4.20804325e-01]\n",
      " [2.17266824e+00 1.53612980e+00 1.18946543e+00 8.80350074e+00\n",
      "  2.66610279e-01 8.22040450e+00]\n",
      " [6.00229036e-01 5.23004324e+00 5.88062674e+00 3.32352404e+00\n",
      "  8.51244852e+00 1.89546316e+00]\n",
      " [1.86956327e-01 8.23326963e-01 8.50726304e-02 2.74978001e-01\n",
      "  1.66289932e+01 1.47334981e+01]\n",
      " [6.58876441e+00 7.06581819e-02 9.44466473e+00 1.45068736e+00\n",
      "  6.85790452e+00 3.15043308e+00]\n",
      " [9.21939062e+00 1.34007279e-01 4.91205295e+00 2.40261181e-01\n",
      "  8.72413885e+00 1.03105995e+01]]\n"
     ]
    }
   ],
   "source": [
    "# Contributions des points lignes\n",
    "print(my_pca.row_contrib_)"
   ]
  },
  {
   "cell_type": "code",
   "execution_count": 26,
   "metadata": {},
   "outputs": [
    {
     "name": "stdout",
     "output_type": "stream",
     "text": [
      "[[5.56218430e-01 3.87670355e-01 3.97592085e-02 4.95729863e-03\n",
      "  1.10412256e-02 3.53482045e-04]\n",
      " [3.65334487e-01 3.49406285e-01 2.59215193e-01 6.69330406e-03\n",
      "  3.30504237e-03 1.60456881e-02]\n",
      " [5.80284267e-01 2.10694005e-01 9.65452233e-02 1.30125842e-02\n",
      "  6.52509452e-02 3.42129754e-02]\n",
      " [9.76991833e-01 1.87943381e-03 3.25553275e-03 4.43629747e-05\n",
      "  7.59015938e-03 1.02386783e-02]\n",
      " [1.56578785e-01 4.13825852e-01 3.19549851e-02 3.37069092e-01\n",
      "  5.93906426e-02 1.18064401e-03]\n",
      " [8.15547108e-02 3.38995857e-02 4.02405211e-01 2.72320999e-01\n",
      "  1.74546405e-01 3.52730889e-02]\n",
      " [3.09201727e-01 5.75488494e-01 4.36002142e-02 2.72763969e-02\n",
      "  2.87782353e-02 1.56549323e-02]\n",
      " [6.73539230e-01 1.70535407e-01 6.81009218e-02 7.04833286e-02\n",
      "  1.52471967e-02 2.09391594e-03]\n",
      " [8.92430696e-01 5.19198401e-02 1.61671191e-02 3.29435567e-02\n",
      "  6.44995295e-03 8.88356440e-05]\n",
      " [9.75219291e-01 3.42596966e-03 5.64082431e-03 4.31485270e-03\n",
      "  4.75885364e-03 6.64020837e-03]\n",
      " [4.29783613e-02 8.20652103e-01 1.39588821e-04 1.29229235e-01\n",
      "  6.34057938e-03 6.60132381e-04]\n",
      " [5.30947199e-01 3.62855147e-01 2.40305669e-02 4.71533901e-02\n",
      "  1.75051651e-02 1.75085319e-02]\n",
      " [7.78389819e-01 2.81370290e-02 1.39256628e-01 5.36550283e-02\n",
      "  2.66424906e-04 2.95070913e-04]\n",
      " [7.04818787e-01 9.64963227e-02 3.25622996e-02 1.38193788e-01\n",
      "  1.81554920e-03 2.61132541e-02]\n",
      " [2.43272624e-01 4.10468952e-01 2.01131014e-01 6.51814657e-02\n",
      "  7.24232173e-02 7.52272761e-03]\n",
      " [2.17336310e-01 1.85337481e-01 8.34566931e-03 1.54681769e-02\n",
      "  4.05793564e-01 1.67718799e-01]\n",
      " [8.61899789e-01 1.78983934e-03 1.04260194e-01 9.18281174e-03\n",
      "  1.88317772e-02 4.03558784e-03]\n",
      " [9.26052448e-01 2.60651693e-03 4.16366325e-02 1.16779345e-03\n",
      "  1.83951365e-02 1.01414730e-02]]\n"
     ]
    }
   ],
   "source": [
    "# Cos2 des points lignes\n",
    "print(my_pca.row_cos2_)"
   ]
  },
  {
   "cell_type": "markdown",
   "metadata": {},
   "source": [
    "<h3>I.3. Extraction des statistiques sur les points colonnes</h3>"
   ]
  },
  {
   "cell_type": "markdown",
   "metadata": {},
   "source": [
    "<h5>Export de la totalité des données colonnes vers une DataFrame pandas</h5>\n",
    "<p>On peut envoyer vers une Dataframe : les coordonnées, les contributions et les cos2 de chacun des points <b>colonnes</b>, pour tous les axes factoriels (identifiés par les suffixes dim1, dim2, etc.).</p>"
   ]
  },
  {
   "cell_type": "code",
   "execution_count": 27,
   "metadata": {},
   "outputs": [],
   "source": [
    "df_cols = my_pca.col_topandas()"
   ]
  },
  {
   "cell_type": "code",
   "execution_count": 28,
   "metadata": {},
   "outputs": [
    {
     "name": "stdout",
     "output_type": "stream",
     "text": [
      "       col_coord_dim1  col_coord_dim2  col_coord_dim3  col_coord_dim4  \\\n",
      "CYL          0.893464       -0.114906        0.215983       -0.373615   \n",
      "PUISS        0.886858       -0.384689        0.112948        0.165485   \n",
      "LONG         0.886155        0.381029       -0.041310        0.129390   \n",
      "LARG         0.813536        0.412736       -0.369448       -0.097854   \n",
      "POIDS        0.905187        0.224532        0.295865        0.139547   \n",
      "V-MAX        0.754710       -0.573519       -0.296522        0.034029   \n",
      "\n",
      "       col_coord_dim5  col_coord_dim6  col_contrib_dim1  col_contrib_dim2  \\\n",
      "CYL         -0.046176        0.012254         18.057062          1.542342   \n",
      "PUISS        0.089481        0.131711         17.791052         17.286793   \n",
      "LONG        -0.222555        0.039593         17.762847         16.959384   \n",
      "LARG         0.145672        0.022797         14.970882         19.899361   \n",
      "POIDS        0.092779       -0.120846         18.534057          5.889155   \n",
      "V-MAX       -0.057471       -0.095401         12.884099         38.422964   \n",
      "\n",
      "       col_contrib_dim3  col_contrib_dim4  col_contrib_dim5  col_contrib_dim6  \\\n",
      "CYL           12.504181         65.251899          2.297650          0.346864   \n",
      "PUISS          3.419559         12.801511          8.628004         40.073081   \n",
      "LONG           0.457435          7.826136         53.373111          3.621087   \n",
      "LARG          36.586544          4.476162         22.866575          1.200476   \n",
      "POIDS         23.463949          9.102975          9.275583         33.734281   \n",
      "V-MAX         23.568332          0.541318          3.559075         21.024212   \n",
      "\n",
      "       col_cos2_dim1  col_cos2_dim2  col_cos2_dim3  col_cos2_dim4  \\\n",
      "CYL         0.798277       0.013203       0.046649       0.139588   \n",
      "PUISS       0.786517       0.147986       0.012757       0.027385   \n",
      "LONG        0.785270       0.145183       0.001707       0.016742   \n",
      "LARG        0.661841       0.170351       0.136492       0.009575   \n",
      "POIDS       0.819364       0.050415       0.087536       0.019473   \n",
      "V-MAX       0.569588       0.328925       0.087925       0.001158   \n",
      "\n",
      "       col_cos2_dim5  col_cos2_dim6  \n",
      "CYL         0.002132       0.000150  \n",
      "PUISS       0.008007       0.017348  \n",
      "LONG        0.049531       0.001568  \n",
      "LARG        0.021220       0.000520  \n",
      "POIDS       0.008608       0.014604  \n",
      "V-MAX       0.003303       0.009101  \n"
     ]
    }
   ],
   "source": [
    "print(df_cols)"
   ]
  },
  {
   "cell_type": "markdown",
   "metadata": {},
   "source": [
    "<h5>Statistiques pour les points colonnes</h5>"
   ]
  },
  {
   "cell_type": "code",
   "execution_count": 29,
   "metadata": {},
   "outputs": [
    {
     "name": "stdout",
     "output_type": "stream",
     "text": [
      "[[ 0.89346354 -0.1149061   0.21598347 -0.37361508 -0.04617627  0.01225391]\n",
      " [ 0.88685803 -0.38468911  0.11294784  0.16548492  0.08948124  0.13171084]\n",
      " [ 0.88615477  0.38102873 -0.04131023  0.12939024 -0.22255537  0.03959265]\n",
      " [ 0.81353638  0.4127359  -0.36944822 -0.09785447  0.14567244  0.0227967 ]\n",
      " [ 0.90518746  0.22453248  0.29586489  0.13954667  0.09277852 -0.12084561]\n",
      " [ 0.75471037 -0.57351941 -0.29652226  0.03402937 -0.05747056 -0.09540146]]\n"
     ]
    }
   ],
   "source": [
    "# Coordonnées des points colonnes\n",
    "print(my_pca.col_coord_)"
   ]
  },
  {
   "cell_type": "code",
   "execution_count": 30,
   "metadata": {},
   "outputs": [
    {
     "name": "stdout",
     "output_type": "stream",
     "text": [
      "[[18.05706238  1.54234244 12.5041811  65.25189946  2.29765048  0.34686413]\n",
      " [17.79105239 17.28679283  3.41955892 12.80151078  8.62800446 40.07308063]\n",
      " [17.76284733 16.9593841   0.45743502  7.82613573 53.37311127  3.62108655]\n",
      " [14.97088197 19.89936113 36.58654406  4.47616152 22.86657532  1.200476  ]\n",
      " [18.5340567   5.88915509 23.46394929  9.10297473  9.27558333 33.73428086]\n",
      " [12.88409923 38.42296441 23.56833162  0.54131778  3.55907514 21.02421182]]\n"
     ]
    }
   ],
   "source": [
    "# Contributions des points colonnes\n",
    "print(my_pca.col_contrib_)"
   ]
  },
  {
   "cell_type": "code",
   "execution_count": 31,
   "metadata": {},
   "outputs": [
    {
     "name": "stdout",
     "output_type": "stream",
     "text": [
      "[[7.98277098e-01 1.32034120e-02 4.66488579e-02 1.39588226e-01\n",
      "  2.13224749e-03 1.50158429e-04]\n",
      " [7.86517173e-01 1.47985714e-01 1.27572143e-02 2.73852593e-02\n",
      "  8.00689271e-03 1.73477459e-02]\n",
      " [7.85270268e-01 1.45182892e-01 1.70653488e-03 1.67418330e-02\n",
      "  4.95308941e-02 1.56757824e-03]\n",
      " [6.61841442e-01 1.70350926e-01 1.36491985e-01 9.57549824e-03\n",
      "  2.12204590e-02 5.19689336e-04]\n",
      " [8.19364339e-01 5.04148359e-02 8.75360352e-02 1.94732737e-02\n",
      "  8.60785375e-03 1.46036622e-02]\n",
      " [5.69587739e-01 3.28924509e-01 8.79254503e-02 1.15799831e-03\n",
      "  3.30286486e-03 9.10143863e-03]]\n"
     ]
    }
   ],
   "source": [
    "# Cos2 des points colonnes\n",
    "print(my_pca.col_cos2_)"
   ]
  },
  {
   "cell_type": "markdown",
   "metadata": {},
   "source": [
    "<h3>I.4. Graphiques</h3>"
   ]
  },
  {
   "cell_type": "markdown",
   "metadata": {},
   "source": [
    "<p>\n",
    "3 types de graphiques peuvent être réalisés :\n",
    "<ul>\n",
    "    <li>Le cercle des corrélations</li>\n",
    "    <li>Le mapping des point lignes</li>\n",
    "    <li>Des graphiques qui permettent d'interpréter rapidement les axes : on choisit un axe factoriel (le 1er axe dans notre exemple) et on observe quels sont les points lignes et colonnes qui présentent les plus fortes contributions et cos2 pour cet axe</li>\n",
    "</ul>\n",
    "</p>\n",
    "<h5>Graphiques factoriels</h5>"
   ]
  },
  {
   "cell_type": "code",
   "execution_count": 32,
   "metadata": {},
   "outputs": [
    {
     "data": {
      "image/png": "[encoded data removed]",
      "text/plain": [
       "<Figure size 432x288 with 1 Axes>"
      ]
     },
     "metadata": {
      "needs_background": "light"
     },
     "output_type": "display_data"
    }
   ],
   "source": [
    "# Cercle des corrélations\n",
    "# Les paramètres de la méthode correlation circle indiquent que ce sont les axes 1 et 2 qui sont ici représentés\n",
    "my_pca.correlation_circle(num_x_axis=1, num_y_axis=2)"
   ]
  },
  {
   "cell_type": "code",
   "execution_count": 33,
   "metadata": {},
   "outputs": [
    {
     "data": {
      "image/png": "[encoded data removed]",
      "text/plain": [
       "<Figure size 432x288 with 1 Axes>"
      ]
     },
     "metadata": {
      "needs_background": "light"
     },
     "output_type": "display_data"
    }
   ],
   "source": [
    "# Mapping des points lignes\n",
    "my_pca.mapping_row(num_x_axis=1, num_y_axis=2)"
   ]
  },
  {
   "cell_type": "markdown",
   "metadata": {},
   "source": [
    "<h5>Analyse du 1er axe - Points lignes</h5>"
   ]
  },
  {
   "cell_type": "code",
   "execution_count": 34,
   "metadata": {},
   "outputs": [
    {
     "data": {
      "image/png": "[encoded data removed]",
      "text/plain": [
       "<Figure size 432x288 with 1 Axes>"
      ]
     },
     "metadata": {
      "needs_background": "light"
     },
     "output_type": "display_data"
    }
   ],
   "source": [
    "# Classement des points lignes en fonction de leur contribution au 1er axe\n",
    "# Le paramètre de la méthode plot_row_contrib indique que c'est pour l'axe numéro 1 que les contributions sont ici \n",
    "# représentées\n",
    "my_pca.plot_row_contrib(num_axis=1)"
   ]
  },
  {
   "cell_type": "code",
   "execution_count": 35,
   "metadata": {},
   "outputs": [
    {
     "data": {
      "image/png": "[encoded data removed]",
      "text/plain": [
       "<Figure size 432x288 with 1 Axes>"
      ]
     },
     "metadata": {
      "needs_background": "light"
     },
     "output_type": "display_data"
    }
   ],
   "source": [
    "# Classement des points lignes en fonction de leur cos2 sur le 1er axe\n",
    "my_pca.plot_row_cos2(num_axis=1)"
   ]
  },
  {
   "cell_type": "markdown",
   "metadata": {},
   "source": [
    "<h5>Analyse du 1er axe - Points colonnes</h5>"
   ]
  },
  {
   "cell_type": "code",
   "execution_count": 36,
   "metadata": {},
   "outputs": [
    {
     "data": {
      "image/png": "[encoded data removed]",
      "text/plain": [
       "<Figure size 432x288 with 1 Axes>"
      ]
     },
     "metadata": {
      "needs_background": "light"
     },
     "output_type": "display_data"
    }
   ],
   "source": [
    "# Classement des points colonnes en fonction de leur contribution au 1er axe\n",
    "my_pca.plot_col_contrib(num_axis=1)"
   ]
  },
  {
   "cell_type": "code",
   "execution_count": 37,
   "metadata": {},
   "outputs": [
    {
     "data": {
      "image/png": "[encoded data removed]",
      "text/plain": [
       "<Figure size 432x288 with 1 Axes>"
      ]
     },
     "metadata": {
      "needs_background": "light"
     },
     "output_type": "display_data"
    }
   ],
   "source": [
    "# Classement des points colonnes en fonction de leur cos2 sur le 1er axe\n",
    "my_pca.plot_col_cos2(num_axis=1)"
   ]
  },
  {
   "cell_type": "markdown",
   "metadata": {},
   "source": [
    "Pour ces graphiques produits par les méthodes <i>plot_row_contrib</i>, <i>plot_row_cos2</i>, <i>plot_col_contrib</i>, <i>plot_col_cos2</i>, on peut se limiter à visualiser les x valeurs les plus grandes via le paramètre nb_values."
   ]
  },
  {
   "cell_type": "code",
   "execution_count": 38,
   "metadata": {},
   "outputs": [
    {
     "data": {
      "image/png": "[encoded data removed]",
      "text/plain": [
       "<Figure size 432x288 with 1 Axes>"
      ]
     },
     "metadata": {
      "needs_background": "light"
     },
     "output_type": "display_data"
    }
   ],
   "source": [
    "my_pca.plot_row_contrib(num_axis=1, nb_values=10)"
   ]
  },
  {
   "cell_type": "markdown",
   "metadata": {},
   "source": [
    "Pour tous les graphiques présentés plus haut, il est possible de définir un taille particulière via le paramètre <i>figsize</i>."
   ]
  },
  {
   "cell_type": "code",
   "execution_count": 39,
   "metadata": {},
   "outputs": [
    {
     "data": {
      "image/png": "[encoded data removed]",
      "text/plain": [
       "<Figure size 720x576 with 1 Axes>"
      ]
     },
     "metadata": {
      "needs_background": "light"
     },
     "output_type": "display_data"
    }
   ],
   "source": [
    "my_pca.correlation_circle(1, 2, figsize=(10, 8))"
   ]
  },
  {
   "cell_type": "markdown",
   "metadata": {},
   "source": [
    "<h1>II. Approche Machine Learning</h1>\n",
    "<p>\n",
    "Ici, l'objectif est d'utiliser l'Analyse en Composantes Principales en tant que méthode de prétraitement.\n",
    "</p>\n",
    "<p>\n",
    "La classe PCA implémente les méthodes <i>fit</i>, <i>transform</i> et <i>fit_transform</i> bien connues des utilisateurs de scikit-learn.\n",
    "</p>\n",
    "<p>\n",
    "Il est ici judicieux de fixer le paramètre <i>stats</i> à <i>False</i> pour gagner en temps de traitement et en ressources mémoire.\n",
    "</p>"
   ]
  },
  {
   "cell_type": "code",
   "execution_count": 44,
   "metadata": {},
   "outputs": [],
   "source": [
    "my_pca = PCA(stats=False)"
   ]
  },
  {
   "cell_type": "code",
   "execution_count": 45,
   "metadata": {},
   "outputs": [
    {
     "data": {
      "text/plain": [
       "PCA(stats=False)"
      ]
     },
     "execution_count": 45,
     "metadata": {},
     "output_type": "execute_result"
    }
   ],
   "source": [
    "my_pca.fit(X)"
   ]
  },
  {
   "cell_type": "code",
   "execution_count": 46,
   "metadata": {},
   "outputs": [
    {
     "data": {
      "text/plain": [
       "array([[-2.13892361, -1.78568102, -0.57186228, -0.20192734,  0.30135696,\n",
       "        -0.05392079],\n",
       "       [ 1.56145859,  1.52704027, -1.31527135,  0.21135154, -0.14851614,\n",
       "         0.32723844],\n",
       "       [-1.11938528,  0.67450517, -0.4565881 ,  0.16762584,  0.37536398,\n",
       "        -0.27180323],\n",
       "       [-2.5737417 , -0.11288416, -0.1485698 ,  0.01734322, -0.22685322,\n",
       "        -0.26347623],\n",
       "       [ 0.4278552 , -0.69556731,  0.19328567,  0.62775448, -0.26350531,\n",
       "         0.03715265],\n",
       "       [-0.30423764,  0.19614878, -0.67580317,  0.55594137,  0.44508594,\n",
       "        -0.20008299],\n",
       "       [ 0.6839285 ,  0.93305677,  0.25682308, -0.20313429, -0.20865165,\n",
       "        -0.15389175],\n",
       "       [-1.94849257,  0.98044805,  0.61957488, -0.63031916, -0.29316513,\n",
       "        -0.10864179],\n",
       "       [ 4.40973457, -1.06363317,  0.59352842, -0.84724778,  0.37488967,\n",
       "        -0.04399657],\n",
       "       [-3.98578242, -0.23624042,  0.30313336, -0.2651218 , -0.27842846,\n",
       "         0.32889199],\n",
       "       [ 0.43765819, -1.91244816, -0.02494224,  0.75891042, -0.16810267,\n",
       "         0.05424075],\n",
       "       [ 1.01817538,  0.8417121 , -0.21661021, -0.30342642,  0.18487578,\n",
       "        -0.18489356],\n",
       "       [ 2.94108031,  0.55917459,  1.24398816,  0.77217107, -0.05441213,\n",
       "         0.05726266],\n",
       "       [ 1.31488038, -0.48652246, -0.2826214 , -0.58222623,  0.06673467,\n",
       "         0.25309176],\n",
       "       [-0.69111137,  0.89772139,  0.62840689,  0.35773669,  0.37708593,\n",
       "         0.12153156],\n",
       "       [ 0.38570887, -0.35618457,  0.07558299, -0.10289945, -0.52704301,\n",
       "        -0.33883195],\n",
       "       [ 2.28976824, -0.10434464, -0.79638378, -0.23634748, -0.33846113,\n",
       "         0.15668108],\n",
       "       [-2.70857363,  0.1436988 ,  0.57432888, -0.09618467,  0.38174588,\n",
       "         0.28344798]])"
      ]
     },
     "execution_count": 46,
     "metadata": {},
     "output_type": "execute_result"
    }
   ],
   "source": [
    "my_pca.transform(X)"
   ]
  },
  {
   "cell_type": "code",
   "execution_count": 47,
   "metadata": {},
   "outputs": [
    {
     "data": {
      "text/plain": [
       "array([[-2.13892361, -1.78568102, -0.57186228, -0.20192734,  0.30135696,\n",
       "        -0.05392079],\n",
       "       [ 1.56145859,  1.52704027, -1.31527135,  0.21135154, -0.14851614,\n",
       "         0.32723844],\n",
       "       [-1.11938528,  0.67450517, -0.4565881 ,  0.16762584,  0.37536398,\n",
       "        -0.27180323],\n",
       "       [-2.5737417 , -0.11288416, -0.1485698 ,  0.01734322, -0.22685322,\n",
       "        -0.26347623],\n",
       "       [ 0.4278552 , -0.69556731,  0.19328567,  0.62775448, -0.26350531,\n",
       "         0.03715265],\n",
       "       [-0.30423764,  0.19614878, -0.67580317,  0.55594137,  0.44508594,\n",
       "        -0.20008299],\n",
       "       [ 0.6839285 ,  0.93305677,  0.25682308, -0.20313429, -0.20865165,\n",
       "        -0.15389175],\n",
       "       [-1.94849257,  0.98044805,  0.61957488, -0.63031916, -0.29316513,\n",
       "        -0.10864179],\n",
       "       [ 4.40973457, -1.06363317,  0.59352842, -0.84724778,  0.37488967,\n",
       "        -0.04399657],\n",
       "       [-3.98578242, -0.23624042,  0.30313336, -0.2651218 , -0.27842846,\n",
       "         0.32889199],\n",
       "       [ 0.43765819, -1.91244816, -0.02494224,  0.75891042, -0.16810267,\n",
       "         0.05424075],\n",
       "       [ 1.01817538,  0.8417121 , -0.21661021, -0.30342642,  0.18487578,\n",
       "        -0.18489356],\n",
       "       [ 2.94108031,  0.55917459,  1.24398816,  0.77217107, -0.05441213,\n",
       "         0.05726266],\n",
       "       [ 1.31488038, -0.48652246, -0.2826214 , -0.58222623,  0.06673467,\n",
       "         0.25309176],\n",
       "       [-0.69111137,  0.89772139,  0.62840689,  0.35773669,  0.37708593,\n",
       "         0.12153156],\n",
       "       [ 0.38570887, -0.35618457,  0.07558299, -0.10289945, -0.52704301,\n",
       "        -0.33883195],\n",
       "       [ 2.28976824, -0.10434464, -0.79638378, -0.23634748, -0.33846113,\n",
       "         0.15668108],\n",
       "       [-2.70857363,  0.1436988 ,  0.57432888, -0.09618467,  0.38174588,\n",
       "         0.28344798]])"
      ]
     },
     "execution_count": 47,
     "metadata": {},
     "output_type": "execute_result"
    }
   ],
   "source": [
    "my_pca.fit_transform(X)"
   ]
  },
  {
   "cell_type": "markdown",
   "metadata": {
    "collapsed": true
   },
   "source": [
    "<h5>Intégration dans une Pipeline de scikit-learn</h5>"
   ]
  },
  {
   "cell_type": "markdown",
   "metadata": {},
   "source": [
    "La class PCA peut être intégrée dans une Pipeline de scikit-learn.<br />\n",
    "Dans le cadre de notre exemple, nous cherchons à prédire la 8ème variable (variable <i>PRIX</i>) à partir des 6 premières variables du jeu de données.<br />\n",
    "<i>PRIX</i> est une variable quantitative.<br />\n",
    "Pour la prédire, nous allons utiliser un modèle de régression linéaire multiple, qui prendra en input des axes issus d'une Analyse en Composantes Principales pratiquée sur les données brutes.<br />\n",
    "Dans un premier temps, et de façon tout à fait arbitraire, nous fixons le nombre de composantes extraites à 4. "
   ]
  },
  {
   "cell_type": "code",
   "execution_count": 48,
   "metadata": {},
   "outputs": [],
   "source": [
    "from sklearn.pipeline import Pipeline\n",
    "from sklearn.linear_model import LinearRegression\n",
    "from sklearn.model_selection import GridSearchCV\n",
    "import numpy as np"
   ]
  },
  {
   "cell_type": "code",
   "execution_count": 49,
   "metadata": {},
   "outputs": [
    {
     "data": {
      "text/html": [
       "<div>\n",
       "<style scoped>\n",
       "    .dataframe tbody tr th:only-of-type {\n",
       "        vertical-align: middle;\n",
       "    }\n",
       "\n",
       "    .dataframe tbody tr th {\n",
       "        vertical-align: top;\n",
       "    }\n",
       "\n",
       "    .dataframe thead th {\n",
       "        text-align: right;\n",
       "    }\n",
       "</style>\n",
       "<table border=\"1\" class=\"dataframe\">\n",
       "  <thead>\n",
       "    <tr style=\"text-align: right;\">\n",
       "      <th></th>\n",
       "      <th>CYL</th>\n",
       "      <th>PUISS</th>\n",
       "      <th>LONG</th>\n",
       "      <th>LARG</th>\n",
       "      <th>POIDS</th>\n",
       "      <th>V-MAX</th>\n",
       "      <th>FINITION</th>\n",
       "      <th>PRIX</th>\n",
       "      <th>R-POID.PUIS</th>\n",
       "    </tr>\n",
       "    <tr>\n",
       "      <th>Modele</th>\n",
       "      <th></th>\n",
       "      <th></th>\n",
       "      <th></th>\n",
       "      <th></th>\n",
       "      <th></th>\n",
       "      <th></th>\n",
       "      <th></th>\n",
       "      <th></th>\n",
       "      <th></th>\n",
       "    </tr>\n",
       "  </thead>\n",
       "  <tbody>\n",
       "    <tr>\n",
       "      <th>Alfasud TI</th>\n",
       "      <td>1350</td>\n",
       "      <td>79</td>\n",
       "      <td>393</td>\n",
       "      <td>161</td>\n",
       "      <td>870</td>\n",
       "      <td>165</td>\n",
       "      <td>B</td>\n",
       "      <td>30570</td>\n",
       "      <td>11,01</td>\n",
       "    </tr>\n",
       "    <tr>\n",
       "      <th>Audi 100</th>\n",
       "      <td>1588</td>\n",
       "      <td>85</td>\n",
       "      <td>468</td>\n",
       "      <td>177</td>\n",
       "      <td>1110</td>\n",
       "      <td>160</td>\n",
       "      <td>TB</td>\n",
       "      <td>39990</td>\n",
       "      <td>13,06</td>\n",
       "    </tr>\n",
       "    <tr>\n",
       "      <th>Simca 1300</th>\n",
       "      <td>1294</td>\n",
       "      <td>68</td>\n",
       "      <td>424</td>\n",
       "      <td>168</td>\n",
       "      <td>1050</td>\n",
       "      <td>152</td>\n",
       "      <td>M</td>\n",
       "      <td>29600</td>\n",
       "      <td>15,44</td>\n",
       "    </tr>\n",
       "    <tr>\n",
       "      <th>Citroen GS Club</th>\n",
       "      <td>1222</td>\n",
       "      <td>59</td>\n",
       "      <td>412</td>\n",
       "      <td>161</td>\n",
       "      <td>930</td>\n",
       "      <td>151</td>\n",
       "      <td>M</td>\n",
       "      <td>28250</td>\n",
       "      <td>15,76</td>\n",
       "    </tr>\n",
       "    <tr>\n",
       "      <th>Fiat 132</th>\n",
       "      <td>1585</td>\n",
       "      <td>98</td>\n",
       "      <td>439</td>\n",
       "      <td>164</td>\n",
       "      <td>1105</td>\n",
       "      <td>165</td>\n",
       "      <td>B</td>\n",
       "      <td>34900</td>\n",
       "      <td>11,28</td>\n",
       "    </tr>\n",
       "    <tr>\n",
       "      <th>Lancia Beta</th>\n",
       "      <td>1297</td>\n",
       "      <td>82</td>\n",
       "      <td>429</td>\n",
       "      <td>169</td>\n",
       "      <td>1080</td>\n",
       "      <td>160</td>\n",
       "      <td>TB</td>\n",
       "      <td>35480</td>\n",
       "      <td>13,17</td>\n",
       "    </tr>\n",
       "    <tr>\n",
       "      <th>Peugeot 504</th>\n",
       "      <td>1796</td>\n",
       "      <td>79</td>\n",
       "      <td>449</td>\n",
       "      <td>169</td>\n",
       "      <td>1160</td>\n",
       "      <td>154</td>\n",
       "      <td>B</td>\n",
       "      <td>32300</td>\n",
       "      <td>14,68</td>\n",
       "    </tr>\n",
       "    <tr>\n",
       "      <th>Renault 16 TL</th>\n",
       "      <td>1565</td>\n",
       "      <td>55</td>\n",
       "      <td>424</td>\n",
       "      <td>163</td>\n",
       "      <td>1010</td>\n",
       "      <td>140</td>\n",
       "      <td>B</td>\n",
       "      <td>32000</td>\n",
       "      <td>18,36</td>\n",
       "    </tr>\n",
       "    <tr>\n",
       "      <th>Renault 30</th>\n",
       "      <td>2664</td>\n",
       "      <td>128</td>\n",
       "      <td>452</td>\n",
       "      <td>173</td>\n",
       "      <td>1320</td>\n",
       "      <td>180</td>\n",
       "      <td>TB</td>\n",
       "      <td>47700</td>\n",
       "      <td>10,31</td>\n",
       "    </tr>\n",
       "    <tr>\n",
       "      <th>Toyota Corolla</th>\n",
       "      <td>1166</td>\n",
       "      <td>55</td>\n",
       "      <td>399</td>\n",
       "      <td>157</td>\n",
       "      <td>815</td>\n",
       "      <td>140</td>\n",
       "      <td>M</td>\n",
       "      <td>26540</td>\n",
       "      <td>14,82</td>\n",
       "    </tr>\n",
       "    <tr>\n",
       "      <th>Alfetta-1.66</th>\n",
       "      <td>1570</td>\n",
       "      <td>109</td>\n",
       "      <td>428</td>\n",
       "      <td>162</td>\n",
       "      <td>1060</td>\n",
       "      <td>175</td>\n",
       "      <td>TB</td>\n",
       "      <td>42395</td>\n",
       "      <td>9,72</td>\n",
       "    </tr>\n",
       "    <tr>\n",
       "      <th>Princess-1800</th>\n",
       "      <td>1798</td>\n",
       "      <td>82</td>\n",
       "      <td>445</td>\n",
       "      <td>172</td>\n",
       "      <td>1160</td>\n",
       "      <td>158</td>\n",
       "      <td>B</td>\n",
       "      <td>33990</td>\n",
       "      <td>14,15</td>\n",
       "    </tr>\n",
       "    <tr>\n",
       "      <th>Datsun-200L</th>\n",
       "      <td>1998</td>\n",
       "      <td>115</td>\n",
       "      <td>469</td>\n",
       "      <td>169</td>\n",
       "      <td>1370</td>\n",
       "      <td>160</td>\n",
       "      <td>TB</td>\n",
       "      <td>43980</td>\n",
       "      <td>11,91</td>\n",
       "    </tr>\n",
       "    <tr>\n",
       "      <th>Taunus-2000</th>\n",
       "      <td>1993</td>\n",
       "      <td>98</td>\n",
       "      <td>438</td>\n",
       "      <td>170</td>\n",
       "      <td>1080</td>\n",
       "      <td>167</td>\n",
       "      <td>B</td>\n",
       "      <td>35010</td>\n",
       "      <td>11,02</td>\n",
       "    </tr>\n",
       "    <tr>\n",
       "      <th>Rancho</th>\n",
       "      <td>1442</td>\n",
       "      <td>80</td>\n",
       "      <td>431</td>\n",
       "      <td>166</td>\n",
       "      <td>1129</td>\n",
       "      <td>144</td>\n",
       "      <td>TB</td>\n",
       "      <td>39450</td>\n",
       "      <td>14,11</td>\n",
       "    </tr>\n",
       "    <tr>\n",
       "      <th>Mazda-9295</th>\n",
       "      <td>1769</td>\n",
       "      <td>83</td>\n",
       "      <td>440</td>\n",
       "      <td>165</td>\n",
       "      <td>1095</td>\n",
       "      <td>165</td>\n",
       "      <td>M</td>\n",
       "      <td>27900</td>\n",
       "      <td>13,19</td>\n",
       "    </tr>\n",
       "    <tr>\n",
       "      <th>Opel-Rekord</th>\n",
       "      <td>1979</td>\n",
       "      <td>100</td>\n",
       "      <td>459</td>\n",
       "      <td>173</td>\n",
       "      <td>1120</td>\n",
       "      <td>173</td>\n",
       "      <td>B</td>\n",
       "      <td>32700</td>\n",
       "      <td>11,20</td>\n",
       "    </tr>\n",
       "    <tr>\n",
       "      <th>Lada-1300</th>\n",
       "      <td>1294</td>\n",
       "      <td>68</td>\n",
       "      <td>404</td>\n",
       "      <td>161</td>\n",
       "      <td>955</td>\n",
       "      <td>140</td>\n",
       "      <td>M</td>\n",
       "      <td>22100</td>\n",
       "      <td>14,04</td>\n",
       "    </tr>\n",
       "  </tbody>\n",
       "</table>\n",
       "</div>"
      ],
      "text/plain": [
       "                  CYL  PUISS  LONG  LARG  POIDS  V-MAX FINITION   PRIX  \\\n",
       "Modele                                                                   \n",
       "Alfasud TI       1350     79   393   161    870    165        B  30570   \n",
       "Audi 100         1588     85   468   177   1110    160       TB  39990   \n",
       "Simca 1300       1294     68   424   168   1050    152        M  29600   \n",
       "Citroen GS Club  1222     59   412   161    930    151        M  28250   \n",
       "Fiat 132         1585     98   439   164   1105    165        B  34900   \n",
       "Lancia Beta      1297     82   429   169   1080    160       TB  35480   \n",
       "Peugeot 504      1796     79   449   169   1160    154        B  32300   \n",
       "Renault 16 TL    1565     55   424   163   1010    140        B  32000   \n",
       "Renault 30       2664    128   452   173   1320    180       TB  47700   \n",
       "Toyota Corolla   1166     55   399   157    815    140        M  26540   \n",
       "Alfetta-1.66     1570    109   428   162   1060    175       TB  42395   \n",
       "Princess-1800    1798     82   445   172   1160    158        B  33990   \n",
       "Datsun-200L      1998    115   469   169   1370    160       TB  43980   \n",
       "Taunus-2000      1993     98   438   170   1080    167        B  35010   \n",
       "Rancho           1442     80   431   166   1129    144       TB  39450   \n",
       "Mazda-9295       1769     83   440   165   1095    165        M  27900   \n",
       "Opel-Rekord      1979    100   459   173   1120    173        B  32700   \n",
       "Lada-1300        1294     68   404   161    955    140        M  22100   \n",
       "\n",
       "                R-POID.PUIS  \n",
       "Modele                       \n",
       "Alfasud TI            11,01  \n",
       "Audi 100              13,06  \n",
       "Simca 1300            15,44  \n",
       "Citroen GS Club       15,76  \n",
       "Fiat 132              11,28  \n",
       "Lancia Beta           13,17  \n",
       "Peugeot 504           14,68  \n",
       "Renault 16 TL         18,36  \n",
       "Renault 30            10,31  \n",
       "Toyota Corolla        14,82  \n",
       "Alfetta-1.66           9,72  \n",
       "Princess-1800         14,15  \n",
       "Datsun-200L           11,91  \n",
       "Taunus-2000           11,02  \n",
       "Rancho                14,11  \n",
       "Mazda-9295            13,19  \n",
       "Opel-Rekord           11,20  \n",
       "Lada-1300             14,04  "
      ]
     },
     "execution_count": 49,
     "metadata": {},
     "output_type": "execute_result"
    }
   ],
   "source": [
    "df"
   ]
  },
  {
   "cell_type": "code",
   "execution_count": 50,
   "metadata": {},
   "outputs": [
    {
     "ename": "AttributeError",
     "evalue": "'DataFrame' object has no attribute 'as_matrix'",
     "output_type": "error",
     "traceback": [
      "\u001b[1;31m---------------------------------------------------------------------------\u001b[0m",
      "\u001b[1;31mAttributeError\u001b[0m                            Traceback (most recent call last)",
      "Input \u001b[1;32mIn [50]\u001b[0m, in \u001b[0;36m<cell line: 2>\u001b[1;34m()\u001b[0m\n\u001b[0;32m      1\u001b[0m \u001b[38;5;66;03m# X = features\u001b[39;00m\n\u001b[1;32m----> 2\u001b[0m X \u001b[38;5;241m=\u001b[39m \u001b[43mdf\u001b[49m\u001b[38;5;241;43m.\u001b[39;49m\u001b[43miloc\u001b[49m\u001b[43m[\u001b[49m\u001b[43m:\u001b[49m\u001b[43m,\u001b[49m\u001b[43m \u001b[49m\u001b[38;5;241;43m0\u001b[39;49m\u001b[43m:\u001b[49m\u001b[38;5;241;43m6\u001b[39;49m\u001b[43m]\u001b[49m\u001b[38;5;241;43m.\u001b[39;49m\u001b[43mas_matrix\u001b[49m()\n\u001b[0;32m      3\u001b[0m \u001b[38;5;66;03m# y = labels\u001b[39;00m\n\u001b[0;32m      4\u001b[0m y \u001b[38;5;241m=\u001b[39m df\u001b[38;5;241m.\u001b[39miloc[:, \u001b[38;5;241m7\u001b[39m]\u001b[38;5;241m.\u001b[39mas_matrix()\n",
      "File \u001b[1;32mC:\\ProgramData\\Anaconda3\\lib\\site-packages\\pandas\\core\\generic.py:5575\u001b[0m, in \u001b[0;36mNDFrame.__getattr__\u001b[1;34m(self, name)\u001b[0m\n\u001b[0;32m   5568\u001b[0m \u001b[38;5;28;01mif\u001b[39;00m (\n\u001b[0;32m   5569\u001b[0m     name \u001b[38;5;129;01mnot\u001b[39;00m \u001b[38;5;129;01min\u001b[39;00m \u001b[38;5;28mself\u001b[39m\u001b[38;5;241m.\u001b[39m_internal_names_set\n\u001b[0;32m   5570\u001b[0m     \u001b[38;5;129;01mand\u001b[39;00m name \u001b[38;5;129;01mnot\u001b[39;00m \u001b[38;5;129;01min\u001b[39;00m \u001b[38;5;28mself\u001b[39m\u001b[38;5;241m.\u001b[39m_metadata\n\u001b[0;32m   5571\u001b[0m     \u001b[38;5;129;01mand\u001b[39;00m name \u001b[38;5;129;01mnot\u001b[39;00m \u001b[38;5;129;01min\u001b[39;00m \u001b[38;5;28mself\u001b[39m\u001b[38;5;241m.\u001b[39m_accessors\n\u001b[0;32m   5572\u001b[0m     \u001b[38;5;129;01mand\u001b[39;00m \u001b[38;5;28mself\u001b[39m\u001b[38;5;241m.\u001b[39m_info_axis\u001b[38;5;241m.\u001b[39m_can_hold_identifiers_and_holds_name(name)\n\u001b[0;32m   5573\u001b[0m ):\n\u001b[0;32m   5574\u001b[0m     \u001b[38;5;28;01mreturn\u001b[39;00m \u001b[38;5;28mself\u001b[39m[name]\n\u001b[1;32m-> 5575\u001b[0m \u001b[38;5;28;01mreturn\u001b[39;00m \u001b[38;5;28;43mobject\u001b[39;49m\u001b[38;5;241;43m.\u001b[39;49m\u001b[38;5;21;43m__getattribute__\u001b[39;49m\u001b[43m(\u001b[49m\u001b[38;5;28;43mself\u001b[39;49m\u001b[43m,\u001b[49m\u001b[43m \u001b[49m\u001b[43mname\u001b[49m\u001b[43m)\u001b[49m\n",
      "\u001b[1;31mAttributeError\u001b[0m: 'DataFrame' object has no attribute 'as_matrix'"
     ]
    }
   ],
   "source": [
    "# X = features\n",
    "X = df.iloc[:, 0:6].as_matrix()\n",
    "# y = labels\n",
    "y = df.iloc[:, 7].as_matrix()"
   ]
  },
  {
   "cell_type": "code",
   "execution_count": null,
   "metadata": {},
   "outputs": [],
   "source": [
    "# Construction de la Pipeline\n",
    "# On enchaine une Analyse en Composantes Prnicipales (4 axes retenus) puis une régression linéaire multiple\n",
    "pipe = Pipeline([(\"pca\", PCA(n_components=4, stats=False)), (\"linear_regression\", LinearRegression())])"
   ]
  },
  {
   "cell_type": "code",
   "execution_count": 37,
   "metadata": {},
   "outputs": [
    {
     "data": {
      "text/plain": [
       "Pipeline(steps=[('pca', PCA(col_labels=None, n_components=4, row_labels=None, stats=False,\n",
       "  std_unit=True)), ('linear_regression', LinearRegression(copy_X=True, fit_intercept=True, n_jobs=1, normalize=False))])"
      ]
     },
     "execution_count": 37,
     "metadata": {},
     "output_type": "execute_result"
    }
   ],
   "source": [
    "# Estimation du modèle\n",
    "pipe.fit(X, y)"
   ]
  },
  {
   "cell_type": "code",
   "execution_count": 38,
   "metadata": {},
   "outputs": [
    {
     "name": "stdout",
     "output_type": "stream",
     "text": [
      "[ 28778.47166651  35726.0600918   31011.95297996  28033.41003637\n",
      "  37806.88571481  34114.82070564  34931.02152346  27901.90893024\n",
      "  43330.89903245  24545.70725329  38661.65482425  34794.41267099\n",
      "  44874.06372338  35323.75414906  33995.01296845  35061.73868418\n",
      "  37741.70392817  28221.52111698]\n"
     ]
    }
   ],
   "source": [
    "# Prédiction sur l'échantillon de test\n",
    "print(pipe.predict(X))"
   ]
  },
  {
   "cell_type": "markdown",
   "metadata": {},
   "source": [
    "Le paramètre <i>n_components</i> peut faire l'objet d'une optimisation via GridSearchCV de scikit-learn.<br />\n",
    "Nous reconstruisons donc une Pipeline, sans spécifier de valeur a priori pour <i>n_components</i>."
   ]
  },
  {
   "cell_type": "code",
   "execution_count": 39,
   "metadata": {},
   "outputs": [],
   "source": [
    "# Reconstruction d'une Pipeline, sans spécifier de valeur a priori pour n_components\n",
    "pipe2 = Pipeline([(\"pca\", PCA(stats=False)), (\"linear_regression\", LinearRegression())])"
   ]
  },
  {
   "cell_type": "code",
   "execution_count": 40,
   "metadata": {
    "collapsed": true
   },
   "outputs": [],
   "source": [
    "# Paramétrage de la grille de paramètres\n",
    "# Attention à l'étendue des valeurs possibles pour mca__n_components !!!\n",
    "param = [{\"pca__n_components\": [x + 1 for x in range(6)]}]"
   ]
  },
  {
   "cell_type": "code",
   "execution_count": 41,
   "metadata": {},
   "outputs": [],
   "source": [
    "# Construction de l'obet GridSearchCV\n",
    "grid_search = GridSearchCV(pipe2, param_grid=param, scoring=\"neg_mean_squared_error\")"
   ]
  },
  {
   "cell_type": "code",
   "execution_count": 42,
   "metadata": {},
   "outputs": [
    {
     "data": {
      "text/plain": [
       "GridSearchCV(cv=None, error_score='raise',\n",
       "       estimator=Pipeline(steps=[('pca', PCA(col_labels=None, n_components=None, row_labels=None, stats=False,\n",
       "  std_unit=True)), ('linear_regression', LinearRegression(copy_X=True, fit_intercept=True, n_jobs=1, normalize=False))]),\n",
       "       fit_params={}, iid=True, n_jobs=1,\n",
       "       param_grid=[{'pca__n_components': [1, 2, 3, 4, 5, 6]}],\n",
       "       pre_dispatch='2*n_jobs', refit=True, return_train_score=True,\n",
       "       scoring='neg_mean_squared_error', verbose=0)"
      ]
     },
     "execution_count": 42,
     "metadata": {},
     "output_type": "execute_result"
    }
   ],
   "source": [
    "# Estimation du modèle\n",
    "grid_search.fit(X, y)"
   ]
  },
  {
   "cell_type": "code",
   "execution_count": 43,
   "metadata": {},
   "outputs": [
    {
     "data": {
      "text/plain": [
       "-18610346.08613852"
      ]
     },
     "execution_count": 43,
     "metadata": {},
     "output_type": "execute_result"
    }
   ],
   "source": [
    "# Affichage du score optimal\n",
    "grid_search.best_score_"
   ]
  },
  {
   "cell_type": "code",
   "execution_count": 44,
   "metadata": {},
   "outputs": [
    {
     "name": "stdout",
     "output_type": "stream",
     "text": [
      "4313.97103446\n"
     ]
    }
   ],
   "source": [
    "# Affichage du RMSE optimal\n",
    "print(np.sqrt(-grid_search.best_score_))"
   ]
  },
  {
   "cell_type": "code",
   "execution_count": 45,
   "metadata": {},
   "outputs": [
    {
     "data": {
      "text/plain": [
       "{'pca__n_components': 1}"
      ]
     },
     "execution_count": 45,
     "metadata": {},
     "output_type": "execute_result"
    }
   ],
   "source": [
    "# Affichage du paramètre optimal\n",
    "grid_search.best_params_"
   ]
  },
  {
   "cell_type": "code",
   "execution_count": 46,
   "metadata": {},
   "outputs": [
    {
     "data": {
      "text/plain": [
       "array([ 29139.98988976,  37822.30866848,  31532.16353147,  28119.76302732,\n",
       "        35162.50072319,  33444.76911431,  35763.33324829,  29586.80401162,\n",
       "        44505.30484225,  24806.64915211,  35185.50176092,  36547.58683567,\n",
       "        41059.35689487,  37243.75476268,  32537.03557754,  35063.61150171,\n",
       "        39531.16366344,  27803.40279437])"
      ]
     },
     "execution_count": 46,
     "metadata": {},
     "output_type": "execute_result"
    }
   ],
   "source": [
    "# Prédiction sur l'échantillon de test\n",
    "grid_search.predict(X)"
   ]
  }
 ],
 "metadata": {
  "anaconda-cloud": {},
  "kernelspec": {
   "display_name": "Python 3 (ipykernel)",
   "language": "python",
   "name": "python3"
  },
  "language_info": {
   "codemirror_mode": {
    "name": "ipython",
    "version": 3
   },
   "file_extension": ".py",
   "mimetype": "text/x-python",
   "name": "python",
   "nbconvert_exporter": "python",
   "pygments_lexer": "ipython3",
   "version": "3.9.12"
  }
 },
 "nbformat": 4,
 "nbformat_minor": 1
}
