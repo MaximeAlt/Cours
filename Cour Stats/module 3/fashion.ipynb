{
 "cells": [
  {
   "cell_type": "code",
   "execution_count": 1,
   "id": "7eb619a3-0bcc-4040-8b15-7ebf69d3dd19",
   "metadata": {},
   "outputs": [],
   "source": [
    "import pandas as pd\n",
    "import numpy as np \n",
    "from fanalysis.ca import CA\n",
    "import matplotlib.pyplot as plot\n",
    "from scipy.stats import chi2_contingency"
   ]
  },
  {
   "cell_type": "code",
   "execution_count": 6,
   "id": "c771aa88-7b8f-4b04-995a-5801672c5289",
   "metadata": {},
   "outputs": [
    {
     "data": {
      "text/html": [
       "<div>\n",
       "<style scoped>\n",
       "    .dataframe tbody tr th:only-of-type {\n",
       "        vertical-align: middle;\n",
       "    }\n",
       "\n",
       "    .dataframe tbody tr th {\n",
       "        vertical-align: top;\n",
       "    }\n",
       "\n",
       "    .dataframe thead th {\n",
       "        text-align: right;\n",
       "    }\n",
       "</style>\n",
       "<table border=\"1\" class=\"dataframe\">\n",
       "  <thead>\n",
       "    <tr style=\"text-align: right;\">\n",
       "      <th></th>\n",
       "      <th>luxueux</th>\n",
       "      <th>traditionnel</th>\n",
       "      <th>intellectuel</th>\n",
       "      <th>brillant</th>\n",
       "      <th>calme</th>\n",
       "      <th>jeune</th>\n",
       "      <th>amical</th>\n",
       "      <th>simple</th>\n",
       "      <th>nergique</th>\n",
       "    </tr>\n",
       "    <tr>\n",
       "      <th>marque</th>\n",
       "      <th></th>\n",
       "      <th></th>\n",
       "      <th></th>\n",
       "      <th></th>\n",
       "      <th></th>\n",
       "      <th></th>\n",
       "      <th></th>\n",
       "      <th></th>\n",
       "      <th></th>\n",
       "    </tr>\n",
       "  </thead>\n",
       "  <tbody>\n",
       "    <tr>\n",
       "      <th>Chanel</th>\n",
       "      <td>449</td>\n",
       "      <td>252</td>\n",
       "      <td>106</td>\n",
       "      <td>236</td>\n",
       "      <td>61</td>\n",
       "      <td>13</td>\n",
       "      <td>8</td>\n",
       "      <td>29</td>\n",
       "      <td>16</td>\n",
       "    </tr>\n",
       "    <tr>\n",
       "      <th>Louis Vuitton</th>\n",
       "      <td>410</td>\n",
       "      <td>286</td>\n",
       "      <td>83</td>\n",
       "      <td>142</td>\n",
       "      <td>80</td>\n",
       "      <td>18</td>\n",
       "      <td>20</td>\n",
       "      <td>48</td>\n",
       "      <td>31</td>\n",
       "    </tr>\n",
       "    <tr>\n",
       "      <th>Christian Dior</th>\n",
       "      <td>356</td>\n",
       "      <td>200</td>\n",
       "      <td>95</td>\n",
       "      <td>206</td>\n",
       "      <td>67</td>\n",
       "      <td>19</td>\n",
       "      <td>18</td>\n",
       "      <td>27</td>\n",
       "      <td>9</td>\n",
       "    </tr>\n",
       "    <tr>\n",
       "      <th>Tiffany</th>\n",
       "      <td>362</td>\n",
       "      <td>219</td>\n",
       "      <td>103</td>\n",
       "      <td>187</td>\n",
       "      <td>59</td>\n",
       "      <td>55</td>\n",
       "      <td>36</td>\n",
       "      <td>35</td>\n",
       "      <td>10</td>\n",
       "    </tr>\n",
       "    <tr>\n",
       "      <th>Rolex</th>\n",
       "      <td>442</td>\n",
       "      <td>248</td>\n",
       "      <td>114</td>\n",
       "      <td>89</td>\n",
       "      <td>109</td>\n",
       "      <td>4</td>\n",
       "      <td>9</td>\n",
       "      <td>52</td>\n",
       "      <td>12</td>\n",
       "    </tr>\n",
       "    <tr>\n",
       "      <th>Burberry</th>\n",
       "      <td>287</td>\n",
       "      <td>287</td>\n",
       "      <td>143</td>\n",
       "      <td>42</td>\n",
       "      <td>199</td>\n",
       "      <td>29</td>\n",
       "      <td>67</td>\n",
       "      <td>124</td>\n",
       "      <td>9</td>\n",
       "    </tr>\n",
       "    <tr>\n",
       "      <th>Ralph Lauren</th>\n",
       "      <td>198</td>\n",
       "      <td>191</td>\n",
       "      <td>101</td>\n",
       "      <td>39</td>\n",
       "      <td>147</td>\n",
       "      <td>61</td>\n",
       "      <td>70</td>\n",
       "      <td>100</td>\n",
       "      <td>9</td>\n",
       "    </tr>\n",
       "    <tr>\n",
       "      <th>Benetton</th>\n",
       "      <td>86</td>\n",
       "      <td>62</td>\n",
       "      <td>31</td>\n",
       "      <td>88</td>\n",
       "      <td>35</td>\n",
       "      <td>216</td>\n",
       "      <td>97</td>\n",
       "      <td>65</td>\n",
       "      <td>21</td>\n",
       "    </tr>\n",
       "    <tr>\n",
       "      <th>Uniqlo</th>\n",
       "      <td>6</td>\n",
       "      <td>7</td>\n",
       "      <td>10</td>\n",
       "      <td>8</td>\n",
       "      <td>23</td>\n",
       "      <td>260</td>\n",
       "      <td>331</td>\n",
       "      <td>199</td>\n",
       "      <td>291</td>\n",
       "    </tr>\n",
       "    <tr>\n",
       "      <th>H&amp;M</th>\n",
       "      <td>8</td>\n",
       "      <td>5</td>\n",
       "      <td>10</td>\n",
       "      <td>2</td>\n",
       "      <td>10</td>\n",
       "      <td>272</td>\n",
       "      <td>132</td>\n",
       "      <td>91</td>\n",
       "      <td>223</td>\n",
       "    </tr>\n",
       "    <tr>\n",
       "      <th>GAP</th>\n",
       "      <td>10</td>\n",
       "      <td>10</td>\n",
       "      <td>10</td>\n",
       "      <td>9</td>\n",
       "      <td>24</td>\n",
       "      <td>275</td>\n",
       "      <td>203</td>\n",
       "      <td>137</td>\n",
       "      <td>84</td>\n",
       "    </tr>\n",
       "  </tbody>\n",
       "</table>\n",
       "</div>"
      ],
      "text/plain": [
       "                luxueux   traditionnel   intellectuel   brillant   calme  \\\n",
       "marque                                                                     \n",
       "Chanel              449            252            106        236      61   \n",
       "Louis Vuitton       410            286             83        142      80   \n",
       "Christian Dior      356            200             95        206      67   \n",
       "Tiffany             362            219            103        187      59   \n",
       "Rolex               442            248            114         89     109   \n",
       "Burberry            287            287            143         42     199   \n",
       "Ralph Lauren        198            191            101         39     147   \n",
       "Benetton             86             62             31         88      35   \n",
       "Uniqlo                6              7             10          8      23   \n",
       "H&M                   8              5             10          2      10   \n",
       "GAP                  10             10             10          9      24   \n",
       "\n",
       "                 jeune   amical   simple   nergique  \n",
       "marque                                                \n",
       "Chanel              13        8       29          16  \n",
       "Louis Vuitton       18       20       48          31  \n",
       "Christian Dior      19       18       27           9  \n",
       "Tiffany             55       36       35          10  \n",
       "Rolex                4        9       52          12  \n",
       "Burberry            29       67      124           9  \n",
       "Ralph Lauren        61       70      100           9  \n",
       "Benetton           216       97       65          21  \n",
       "Uniqlo             260      331      199         291  \n",
       "H&M                272      132       91         223  \n",
       "GAP                275      203      137          84  "
      ]
     },
     "execution_count": 6,
     "metadata": {},
     "output_type": "execute_result"
    }
   ],
   "source": [
    "df = pd.read_csv(\"fashion_brands.csv\", encoding=\"latin\",sep = \";\" )\n",
    "df.rename(columns = {'Unnamed: 0' :\"marque\"}, inplace = True)\n",
    "df.set_index(['marque'], inplace = True)\n",
    "df"
   ]
  },
  {
   "cell_type": "code",
   "execution_count": 8,
   "id": "473770c1-06fb-4e1c-9d75-4e2e16c14f5f",
   "metadata": {
    "collapsed": true,
    "jupyter": {
     "outputs_hidden": true
    },
    "tags": []
   },
   "outputs": [
    {
     "data": {
      "text/plain": [
       "(7777.79264690045,\n",
       " 0.0,\n",
       " 80,\n",
       " array([[280.99779493, 189.94762955,  86.64277839, 112.65711136,\n",
       "          87.50275634, 131.36163175, 106.52976847,  97.5       ,\n",
       "          76.86052922],\n",
       "        [268.50900404, 181.50551268,  82.79198824, 107.65012863,\n",
       "          83.61374495, 125.52333701, 101.79511209,  93.16666667,\n",
       "          73.4445057 ],\n",
       "        [239.44854833, 161.86135612,  73.83149577,  95.99926498,\n",
       "          74.56431459, 111.93807424,  90.77793091,  83.08333333,\n",
       "          65.49568173],\n",
       "        [256.02021316, 173.06339581,  78.94119809, 102.6431459 ,\n",
       "          79.72473355, 119.68504226,  97.06045571,  88.83333333,\n",
       "          70.02848218],\n",
       "        [259.14241088, 175.17392503,  79.90389563, 103.89489158,\n",
       "          80.6969864 , 121.14461595,  98.24411981,  89.91666667,\n",
       "          70.88248806],\n",
       "        [285.08066887, 192.70755237,  87.90169055, 114.29400956,\n",
       "          88.77416391, 133.27030503, 108.0776369 ,  98.91666667,\n",
       "          77.97730614],\n",
       "        [219.99485483, 148.71113561,  67.83314958,  88.1999265 ,\n",
       "          68.50643146, 102.84380742,  83.40279309,  76.33333333,\n",
       "          60.17456817],\n",
       "        [168.3585079 , 113.80622933,  51.91161338,  67.49797868,\n",
       "          52.42686512,  78.70470415,  63.82681   ,  58.41666667,\n",
       "          46.05062477],\n",
       "        [272.59187799, 184.2654355 ,  84.0509004 , 109.28702683,\n",
       "          84.88515252, 127.43201029, 103.34298052,  94.58333333,\n",
       "          74.56128262],\n",
       "        [180.84729879, 122.2483462 ,  55.76240353,  72.50496141,\n",
       "          56.31587652,  84.5429989 ,  68.56146637,  62.75      ,\n",
       "          49.46664829],\n",
       "        [183.00882029, 123.70948181,  56.42888644,  73.37155458,\n",
       "          56.98897464,  85.55347299,  69.38092613,  63.5       ,\n",
       "          50.05788313]]))"
      ]
     },
     "execution_count": 8,
     "metadata": {},
     "output_type": "execute_result"
    }
   ],
   "source": [
    "k2=chi2_contingency(df)\n",
    "k2"
   ]
  },
  {
   "cell_type": "code",
   "execution_count": 10,
   "id": "196f710f-1f23-4413-adaf-3a2a6b5d26f8",
   "metadata": {},
   "outputs": [
    {
     "name": "stdout",
     "output_type": "stream",
     "text": [
      "luxueux          2614\n",
      " traditionnel    1767\n",
      " intellectuel     806\n",
      " brillant        1048\n",
      " calme            814\n",
      " jeune           1222\n",
      " amical           991\n",
      " simple           907\n",
      " nergique        715\n",
      "dtype: int64 marque\n",
      "Chanel            1170\n",
      "Louis Vuitton     1118\n",
      "Christian Dior     997\n",
      "Tiffany           1066\n",
      "Rolex             1079\n",
      "Burberry          1187\n",
      "Ralph Lauren       916\n",
      "Benetton           701\n",
      "Uniqlo            1135\n",
      "H&M                753\n",
      "GAP                762\n",
      "dtype: int64\n"
     ]
    }
   ],
   "source": [
    "style = np.sum(df, axis = 0)\n",
    "marque = np.sum(df, axis = 1)\n",
    "\n",
    "print(style, marque)"
   ]
  },
  {
   "cell_type": "code",
   "execution_count": 14,
   "id": "d785d586-80be-405c-a408-439e3cd91bd7",
   "metadata": {},
   "outputs": [
    {
     "data": {
      "text/plain": [
       "CA(col_labels=array(['luxueux', ' traditionnel', ' intellectuel', ' brillant', ' calme',\n",
       "       ' jeune', ' amical', ' simple', ' \\x8energique'], dtype=object),\n",
       "   row_labels=array(['Chanel', 'Louis Vuitton', 'Christian Dior', 'Tiffany', 'Rolex',\n",
       "       'Burberry', 'Ralph Lauren', 'Benetton', 'Uniqlo', 'H&M', 'GAP'],\n",
       "      dtype=object))"
      ]
     },
     "execution_count": 14,
     "metadata": {},
     "output_type": "execute_result"
    }
   ],
   "source": [
    "df_afc = CA(row_labels=df.index.values, col_labels=df.columns.values)\n",
    "df_afc"
   ]
  },
  {
   "cell_type": "code",
   "execution_count": 16,
   "id": "1e19b615-03fe-47fb-adc8-9e66b730bf84",
   "metadata": {},
   "outputs": [
    {
     "data": {
      "text/plain": [
       "CA(col_labels=array(['luxueux', ' traditionnel', ' intellectuel', ' brillant', ' calme',\n",
       "       ' jeune', ' amical', ' simple', ' \\x8energique'], dtype=object),\n",
       "   row_labels=array(['Chanel', 'Louis Vuitton', 'Christian Dior', 'Tiffany', 'Rolex',\n",
       "       'Burberry', 'Ralph Lauren', 'Benetton', 'Uniqlo', 'H&M', 'GAP'],\n",
       "      dtype=object))"
      ]
     },
     "execution_count": 16,
     "metadata": {},
     "output_type": "execute_result"
    }
   ],
   "source": [
    "df_afc.fit(df.values)"
   ]
  },
  {
   "cell_type": "code",
   "execution_count": 17,
   "id": "cb7f1821-a617-4ce0-9d48-23aab6671df6",
   "metadata": {},
   "outputs": [
    {
     "data": {
      "image/png": "[encoded data removed]",
      "text/plain": [
       "<Figure size 432x288 with 1 Axes>"
      ]
     },
     "metadata": {
      "needs_background": "light"
     },
     "output_type": "display_data"
    }
   ],
   "source": [
    "df_afc.plot_eigenvalues(type=\"cumulative\")"
   ]
  },
  {
   "cell_type": "code",
   "execution_count": 18,
   "id": "79f38097-222a-4ca0-93f2-757fb4d0822e",
   "metadata": {},
   "outputs": [
    {
     "name": "stderr",
     "output_type": "stream",
     "text": [
      "C:\\ProgramData\\Anaconda3\\lib\\site-packages\\IPython\\core\\pylabtools.py:151: UserWarning: Glyph 142 (\\x8e) missing from current font.\n",
      "  fig.canvas.print_figure(bytes_io, **kw)\n"
     ]
    },
    {
     "data": {
      "image/png": "[encoded data removed]",
      "text/plain": [
       "<Figure size 720x576 with 1 Axes>"
      ]
     },
     "metadata": {
      "needs_background": "light"
     },
     "output_type": "display_data"
    }
   ],
   "source": [
    "df_afc.mapping(num_x_axis=1, num_y_axis=2,figsize=(10, 8))"
   ]
  },
  {
   "cell_type": "code",
   "execution_count": 27,
   "id": "41992fed-2acd-4ffa-8ca6-1811bae5dbfd",
   "metadata": {},
   "outputs": [
    {
     "data": {
      "image/png": "[encoded data removed]",
      "text/plain": [
       "<Figure size 432x288 with 1 Axes>"
      ]
     },
     "metadata": {
      "needs_background": "light"
     },
     "output_type": "display_data"
    }
   ],
   "source": [
    "df_afc.plot_row_contrib(num_axis=1)"
   ]
  },
  {
   "cell_type": "code",
   "execution_count": 32,
   "id": "a2e14d14-1e97-4bf8-b309-8cf4550579dd",
   "metadata": {},
   "outputs": [
    {
     "data": {
      "image/png": "[encoded data removed]",
      "text/plain": [
       "<Figure size 432x288 with 1 Axes>"
      ]
     },
     "metadata": {
      "needs_background": "light"
     },
     "output_type": "display_data"
    }
   ],
   "source": [
    "df_afc.plot_row_contrib(num_axis=2)"
   ]
  },
  {
   "cell_type": "code",
   "execution_count": 28,
   "id": "30340398-9989-4d74-9dd6-bfaedf5d1b23",
   "metadata": {},
   "outputs": [
    {
     "name": "stderr",
     "output_type": "stream",
     "text": [
      "C:\\ProgramData\\Anaconda3\\lib\\site-packages\\IPython\\core\\pylabtools.py:151: UserWarning: Glyph 142 (\\x8e) missing from current font.\n",
      "  fig.canvas.print_figure(bytes_io, **kw)\n"
     ]
    },
    {
     "data": {
      "image/png": "[encoded data removed]",
      "text/plain": [
       "<Figure size 432x288 with 1 Axes>"
      ]
     },
     "metadata": {
      "needs_background": "light"
     },
     "output_type": "display_data"
    }
   ],
   "source": [
    "df_afc.plot_col_contrib(num_axis=1)"
   ]
  },
  {
   "cell_type": "code",
   "execution_count": 33,
   "id": "749e9686-ce6f-478d-8cd6-f7cd1e6a89a6",
   "metadata": {},
   "outputs": [
    {
     "name": "stderr",
     "output_type": "stream",
     "text": [
      "C:\\ProgramData\\Anaconda3\\lib\\site-packages\\IPython\\core\\pylabtools.py:151: UserWarning: Glyph 142 (\\x8e) missing from current font.\n",
      "  fig.canvas.print_figure(bytes_io, **kw)\n"
     ]
    },
    {
     "data": {
      "image/png": "[encoded data removed]",
      "text/plain": [
       "<Figure size 432x288 with 1 Axes>"
      ]
     },
     "metadata": {
      "needs_background": "light"
     },
     "output_type": "display_data"
    }
   ],
   "source": [
    "df_afc.plot_col_contrib(num_axis=2)"
   ]
  }
 ],
 "metadata": {
  "kernelspec": {
   "display_name": "Python 3 (ipykernel)",
   "language": "python",
   "name": "python3"
  },
  "language_info": {
   "codemirror_mode": {
    "name": "ipython",
    "version": 3
   },
   "file_extension": ".py",
   "mimetype": "text/x-python",
   "name": "python",
   "nbconvert_exporter": "python",
   "pygments_lexer": "ipython3",
   "version": "3.9.12"
  }
 },
 "nbformat": 4,
 "nbformat_minor": 5
}
