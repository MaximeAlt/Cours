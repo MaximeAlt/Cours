{
 "cells": [
  {
   "cell_type": "markdown",
   "metadata": {},
   "source": [
    "<h1><i>Package fanalysis</i></h1>\n",
    "<h2>Analyse Factorielle des Correspondances</h2>\n",
    "<p>\n",
    "Ce tutoriel a pour objectif de présenter rapidement les principales fonctionnalités offertes par le package <i>fanalysis</i> pour réaliser une Analyse Factorielle des Correspondances.<br />\n",
    "Il suppose connu les soubassements théoriques de cette méthode.<br />\n",
    "Il ne s'attarde pas non plus sur l'interprétation du jeu de données, qui n'a pour but que de présenter les fonctionnalités du package.<br />\n",
    "</p>\n",
    "\n"
   ]
  },
  {
   "cell_type": "markdown",
   "metadata": {},
   "source": [
    "<p>\n",
    "L'AFC a ici pour but de décrire un fichier de données.<br />\n",
    "<br />\n",
    "http://eric.univ-lyon2.fr/%7Ericco/tanagra/fichiers/media_prof_afc.xls <br />\n",
    "</p>\n",
    "<p>\n",
    "Les données sont transformées en matrice de type numpy.ndarray.\n",
    "</p>\n",
    "<p>\n",
    "Les données doivent se présenter sous forme de tableau croisé, avec des fréquences absolues (effectifs de chaque cellule).\n",
    "</p>"
   ]
  },
  {
   "cell_type": "code",
   "execution_count": 1,
   "metadata": {},
   "outputs": [
    {
     "name": "stdout",
     "output_type": "stream",
     "text": [
      "Requirement already satisfied: fanalysis in c:\\programdata\\anaconda3\\lib\\site-packages (0.0.1)\n",
      "Requirement already satisfied: pandas>=0.19.0 in c:\\programdata\\anaconda3\\lib\\site-packages (from fanalysis) (1.4.2)\n",
      "Requirement already satisfied: numpy>=1.11.0 in c:\\programdata\\anaconda3\\lib\\site-packages (from fanalysis) (1.21.5)\n",
      "Requirement already satisfied: scikit-learn>=0.18.0 in c:\\programdata\\anaconda3\\lib\\site-packages (from fanalysis) (1.0.2)\n",
      "Requirement already satisfied: matplotlib>=2.0.0 in c:\\programdata\\anaconda3\\lib\\site-packages (from fanalysis) (3.5.1)\n",
      "Requirement already satisfied: kiwisolver>=1.0.1 in c:\\programdata\\anaconda3\\lib\\site-packages (from matplotlib>=2.0.0->fanalysis) (1.3.2)\n",
      "Requirement already satisfied: cycler>=0.10 in c:\\programdata\\anaconda3\\lib\\site-packages (from matplotlib>=2.0.0->fanalysis) (0.11.0)\n",
      "Requirement already satisfied: packaging>=20.0 in c:\\programdata\\anaconda3\\lib\\site-packages (from matplotlib>=2.0.0->fanalysis) (21.3)\n",
      "Requirement already satisfied: pyparsing>=2.2.1 in c:\\programdata\\anaconda3\\lib\\site-packages (from matplotlib>=2.0.0->fanalysis) (3.0.4)\n",
      "Requirement already satisfied: python-dateutil>=2.7 in c:\\programdata\\anaconda3\\lib\\site-packages (from matplotlib>=2.0.0->fanalysis) (2.8.2)\n",
      "Requirement already satisfied: fonttools>=4.22.0 in c:\\programdata\\anaconda3\\lib\\site-packages (from matplotlib>=2.0.0->fanalysis) (4.25.0)\n",
      "Requirement already satisfied: pillow>=6.2.0 in c:\\programdata\\anaconda3\\lib\\site-packages (from matplotlib>=2.0.0->fanalysis) (9.0.1)\n",
      "Requirement already satisfied: pytz>=2020.1 in c:\\programdata\\anaconda3\\lib\\site-packages (from pandas>=0.19.0->fanalysis) (2021.3)\n",
      "Requirement already satisfied: six>=1.5 in c:\\programdata\\anaconda3\\lib\\site-packages (from python-dateutil>=2.7->matplotlib>=2.0.0->fanalysis) (1.16.0)\n",
      "Requirement already satisfied: scipy>=1.1.0 in c:\\programdata\\anaconda3\\lib\\site-packages (from scikit-learn>=0.18.0->fanalysis) (1.7.3)\n",
      "Requirement already satisfied: threadpoolctl>=2.0.0 in c:\\programdata\\anaconda3\\lib\\site-packages (from scikit-learn>=0.18.0->fanalysis) (2.2.0)\n",
      "Requirement already satisfied: joblib>=0.11 in c:\\programdata\\anaconda3\\lib\\site-packages (from scikit-learn>=0.18.0->fanalysis) (1.1.0)\n",
      "Note: you may need to restart the kernel to use updated packages.\n"
     ]
    }
   ],
   "source": [
    "pip install fanalysis"
   ]
  },
  {
   "cell_type": "code",
   "execution_count": 2,
   "metadata": {},
   "outputs": [],
   "source": [
    "import pandas as pd\n",
    "from fanalysis.ca import CA\n"
   ]
  },
  {
   "cell_type": "code",
   "execution_count": 3,
   "metadata": {},
   "outputs": [
    {
     "data": {
      "text/html": [
       "<div>\n",
       "<style scoped>\n",
       "    .dataframe tbody tr th:only-of-type {\n",
       "        vertical-align: middle;\n",
       "    }\n",
       "\n",
       "    .dataframe tbody tr th {\n",
       "        vertical-align: top;\n",
       "    }\n",
       "\n",
       "    .dataframe thead th {\n",
       "        text-align: right;\n",
       "    }\n",
       "</style>\n",
       "<table border=\"1\" class=\"dataframe\">\n",
       "  <thead>\n",
       "    <tr style=\"text-align: right;\">\n",
       "      <th></th>\n",
       "      <th>Prof</th>\n",
       "      <th>Radio</th>\n",
       "      <th>Tel.</th>\n",
       "      <th>Quot.Nat.</th>\n",
       "      <th>Quot.Reg.</th>\n",
       "      <th>Press.Mag.</th>\n",
       "      <th>Press.TV</th>\n",
       "    </tr>\n",
       "  </thead>\n",
       "  <tbody>\n",
       "    <tr>\n",
       "      <th>0</th>\n",
       "      <td>Agriculteur</td>\n",
       "      <td>96</td>\n",
       "      <td>118</td>\n",
       "      <td>2</td>\n",
       "      <td>71</td>\n",
       "      <td>50</td>\n",
       "      <td>17</td>\n",
       "    </tr>\n",
       "    <tr>\n",
       "      <th>1</th>\n",
       "      <td>Petit.Patr.</td>\n",
       "      <td>122</td>\n",
       "      <td>136</td>\n",
       "      <td>11</td>\n",
       "      <td>76</td>\n",
       "      <td>49</td>\n",
       "      <td>41</td>\n",
       "    </tr>\n",
       "    <tr>\n",
       "      <th>2</th>\n",
       "      <td>Prof.Cad.Sup</td>\n",
       "      <td>193</td>\n",
       "      <td>184</td>\n",
       "      <td>74</td>\n",
       "      <td>63</td>\n",
       "      <td>103</td>\n",
       "      <td>79</td>\n",
       "    </tr>\n",
       "    <tr>\n",
       "      <th>3</th>\n",
       "      <td>Prof.Int.</td>\n",
       "      <td>360</td>\n",
       "      <td>365</td>\n",
       "      <td>63</td>\n",
       "      <td>145</td>\n",
       "      <td>141</td>\n",
       "      <td>184</td>\n",
       "    </tr>\n",
       "    <tr>\n",
       "      <th>4</th>\n",
       "      <td>Employe</td>\n",
       "      <td>511</td>\n",
       "      <td>593</td>\n",
       "      <td>57</td>\n",
       "      <td>217</td>\n",
       "      <td>172</td>\n",
       "      <td>306</td>\n",
       "    </tr>\n",
       "    <tr>\n",
       "      <th>5</th>\n",
       "      <td>Ouvr.Qualif.</td>\n",
       "      <td>385</td>\n",
       "      <td>457</td>\n",
       "      <td>42</td>\n",
       "      <td>174</td>\n",
       "      <td>104</td>\n",
       "      <td>220</td>\n",
       "    </tr>\n",
       "    <tr>\n",
       "      <th>6</th>\n",
       "      <td>Ouvr.Non-Qual.</td>\n",
       "      <td>156</td>\n",
       "      <td>185</td>\n",
       "      <td>8</td>\n",
       "      <td>69</td>\n",
       "      <td>42</td>\n",
       "      <td>85</td>\n",
       "    </tr>\n",
       "    <tr>\n",
       "      <th>7</th>\n",
       "      <td>Inactif</td>\n",
       "      <td>1474</td>\n",
       "      <td>1931</td>\n",
       "      <td>181</td>\n",
       "      <td>852</td>\n",
       "      <td>642</td>\n",
       "      <td>782</td>\n",
       "    </tr>\n",
       "  </tbody>\n",
       "</table>\n",
       "</div>"
      ],
      "text/plain": [
       "             Prof  Radio  Tel.  Quot.Nat.  Quot.Reg.  Press.Mag.  Press.TV\n",
       "0     Agriculteur     96   118          2         71          50        17\n",
       "1     Petit.Patr.    122   136         11         76          49        41\n",
       "2    Prof.Cad.Sup    193   184         74         63         103        79\n",
       "3       Prof.Int.    360   365         63        145         141       184\n",
       "4         Employe    511   593         57        217         172       306\n",
       "5    Ouvr.Qualif.    385   457         42        174         104       220\n",
       "6  Ouvr.Non-Qual.    156   185          8         69          42        85\n",
       "7         Inactif   1474  1931        181        852         642       782"
      ]
     },
     "execution_count": 3,
     "metadata": {},
     "output_type": "execute_result"
    }
   ],
   "source": [
    "df =pd.read_excel(\"media_prof_afc.xls\")\n",
    "df"
   ]
  },
  {
   "cell_type": "code",
   "execution_count": 4,
   "metadata": {},
   "outputs": [],
   "source": [
    "df = df.set_index(\"Prof\")"
   ]
  },
  {
   "cell_type": "code",
   "execution_count": 5,
   "metadata": {},
   "outputs": [
    {
     "name": "stdout",
     "output_type": "stream",
     "text": [
      "                Radio  Tel.  Quot.Nat.  Quot.Reg.  Press.Mag.  Press.TV\n",
      "Prof                                                                   \n",
      "Agriculteur        96   118          2         71          50        17\n",
      "Petit.Patr.       122   136         11         76          49        41\n",
      "Prof.Cad.Sup      193   184         74         63         103        79\n",
      "Prof.Int.         360   365         63        145         141       184\n",
      "Employe           511   593         57        217         172       306\n",
      "Ouvr.Qualif.      385   457         42        174         104       220\n",
      "Ouvr.Non-Qual.    156   185          8         69          42        85\n",
      "Inactif          1474  1931        181        852         642       782\n"
     ]
    }
   ],
   "source": [
    "print(df)"
   ]
  },
  {
   "cell_type": "code",
   "execution_count": 6,
   "metadata": {},
   "outputs": [],
   "source": [
    "# transformer le tableau en matrice\n",
    "X = df.values"
   ]
  },
  {
   "cell_type": "markdown",
   "metadata": {},
   "source": [
    "On crée une instance de la classe CA, en lui passant ici des étiquettes pour les lignes et les colonnes. Ces paramètres sont facultatifs ; en leur absence, le programme détermine automatiquement des étiquettes."
   ]
  },
  {
   "cell_type": "code",
   "execution_count": 7,
   "metadata": {},
   "outputs": [
    {
     "data": {
      "text/plain": [
       "array([[  96,  118,    2,   71,   50,   17],\n",
       "       [ 122,  136,   11,   76,   49,   41],\n",
       "       [ 193,  184,   74,   63,  103,   79],\n",
       "       [ 360,  365,   63,  145,  141,  184],\n",
       "       [ 511,  593,   57,  217,  172,  306],\n",
       "       [ 385,  457,   42,  174,  104,  220],\n",
       "       [ 156,  185,    8,   69,   42,   85],\n",
       "       [1474, 1931,  181,  852,  642,  782]], dtype=int64)"
      ]
     },
     "execution_count": 7,
     "metadata": {},
     "output_type": "execute_result"
    }
   ],
   "source": [
    "X"
   ]
  },
  {
   "cell_type": "markdown",
   "metadata": {},
   "source": [
    "Analyse des Correspondances (AC)\n",
    "    \n",
    "Cette classe hérite de la classe Base.\n",
    "    \n",
    "CA effectue une analyse des correspondances, étant donné un tableau de contingence contenant des fréquences absolues ; \n",
    "\n",
    "shape= n_rows x n_columns. Cette implémentation ne fonctionne que pour les tableaux denses.\n",
    "\n",
    "\n",
    "### Paramètres : \n",
    "\n",
    "- n_components : int, float ou None\n",
    "        Nombre de composants à conserver.\n",
    "   - Si n_components vaut None, conservez tous les composants.\n",
    "   - Si 0 <= n_components < 1, sélectionnez le nombre de composants tel que le montant de la variance à expliquer soit supérieur au pourcentage spécifié par n_components.\n",
    "   - Si 1 <= n_composants :\n",
    "        - Si n_components est un entier, sélectionnez un nombre de composants égal à n_components.\n",
    "        - Si n_components est flottant, sélectionnez le plus grand nombre de composants inférieur à n_components.\n",
    "        \n",
    "- row_labels : tableau de chaînes ou Aucun\n",
    "    - Si row_labels est un tableau de chaînes : ce tableau fournit les étiquettes de ligne.\n",
    "         - Si la forme du tableau ne correspond pas au nombre de lignes : les étiquettes sont automatiquement calculées pour chaque ligne.\n",
    "         - Si row_labels vaut None : les labels sont automatiquement calculés pour chaque ligne.\n",
    "\n",
    "- col_labels : tableau de chaînes ou Aucun\n",
    "     - Si col_labels est un tableau de chaînes : ce tableau fournit les étiquettes de colonne. Si la forme du tableau ne correspond pas au nombre de colonnes : les étiquettes sont automatiquement calculées pour chaque colonne.\n",
    "     - Si col_labels vaut None : les labels sont automatiquement calculés pour chaque colonne.\n",
    "\n",
    "- statistiques : bool\n",
    "     - Si stats est vrai : les stats sont calculées : contributions et cosinus carrés pour les lignes et les colonnes.\n",
    "     - Si stats est faux : les stats ne sont pas calculées. "
   ]
  },
  {
   "cell_type": "code",
   "execution_count": 8,
   "metadata": {},
   "outputs": [],
   "source": [
    "my_ca = CA(2, row_labels=df.index.values, col_labels=df.columns.values, stats = True)"
   ]
  },
  {
   "cell_type": "code",
   "execution_count": 9,
   "metadata": {},
   "outputs": [
    {
     "data": {
      "text/plain": [
       "CA(col_labels=array(['Radio', 'Tel.', 'Quot.Nat.', 'Quot.Reg.', 'Press.Mag.',\n",
       "       'Press.TV'], dtype=object),\n",
       "   n_components=2,\n",
       "   row_labels=array(['Agriculteur', 'Petit.Patr.', 'Prof.Cad.Sup', 'Prof.Int.',\n",
       "       'Employe', 'Ouvr.Qualif.', 'Ouvr.Non-Qual.', 'Inactif'],\n",
       "      dtype=object))"
      ]
     },
     "execution_count": 9,
     "metadata": {},
     "output_type": "execute_result"
    }
   ],
   "source": [
    "my_ca"
   ]
  },
  {
   "cell_type": "markdown",
   "metadata": {},
   "source": [
    "On estime le modèle en appliquant la méthode <i>fit</i> de la classe CA sur le jeu de données."
   ]
  },
  {
   "cell_type": "code",
   "execution_count": 10,
   "metadata": {},
   "outputs": [
    {
     "data": {
      "text/plain": [
       "CA(col_labels=array(['Radio', 'Tel.', 'Quot.Nat.', 'Quot.Reg.', 'Press.Mag.',\n",
       "       'Press.TV'], dtype=object),\n",
       "   n_components=2,\n",
       "   row_labels=array(['Agriculteur', 'Petit.Patr.', 'Prof.Cad.Sup', 'Prof.Int.',\n",
       "       'Employe', 'Ouvr.Qualif.', 'Ouvr.Non-Qual.', 'Inactif'],\n",
       "      dtype=object))"
      ]
     },
     "execution_count": 10,
     "metadata": {},
     "output_type": "execute_result"
    }
   ],
   "source": [
    "my_ca.fit(X)"
   ]
  },
  {
   "cell_type": "markdown",
   "metadata": {},
   "source": [
    "<p>\n",
    "L'exécution de la méthode <i>my_ca.fit(X)</i> provoque a minima le calcul des attributs :\n",
    "<ul>\n",
    "    <li><i>my\\_ca.eig\\_</i> : valeurs propres</li>\n",
    "    <li><i>my\\_ca.row\\_coord\\_</i> : coordonnées des points lignes</li>\n",
    "    <li><i>my\\_ca.col\\_coord\\_</i> : coordonnées des points colonnes</li>\n",
    "</ul>"
   ]
  },
  {
   "cell_type": "markdown",
   "metadata": {},
   "source": [
    "<h3>Analyse des valeurs propres</h3>"
   ]
  },
  {
   "cell_type": "markdown",
   "metadata": {},
   "source": [
    "L'attribut <i>my\\_ca.eig\\_</i> contient :\n",
    "<ul>\n",
    "    <li>en 1ère ligne : les valeurs propres en valeur absolue</li>\n",
    "    <li>en 2ème ligne : les valeurs propres en pourcentage de la variance totale</li>\n",
    "    <li>en 3ème ligne : les valeurs propres en pourcentage cumulé de la variance totale</li>\n",
    "    \n",
    "Valeurs propre = La proportion des variances retenues par les différentes dimensions (axes) \n",
    "\n",
    "</ul>"
   ]
  },
  {
   "cell_type": "code",
   "execution_count": 11,
   "metadata": {},
   "outputs": [
    {
     "name": "stdout",
     "output_type": "stream",
     "text": [
      "[[1.38572868e-02 7.21068498e-03]\n",
      " [6.21981806e+01 3.23650288e+01]\n",
      " [6.21981806e+01 9.45632094e+01]]\n"
     ]
    }
   ],
   "source": [
    "print(my_ca.eig_)"
   ]
  },
  {
   "cell_type": "markdown",
   "metadata": {},
   "source": [
    "Les valeurs propres peuvent être représentées graphiquement (par défaut : représentation en valeur absolue)."
   ]
  },
  {
   "cell_type": "code",
   "execution_count": 12,
   "metadata": {},
   "outputs": [
    {
     "data": {
      "image/png": "[encoded data removed]",
      "text/plain": [
       "<Figure size 432x288 with 1 Axes>"
      ]
     },
     "metadata": {
      "needs_background": "light"
     },
     "output_type": "display_data"
    }
   ],
   "source": [
    "my_ca.plot_eigenvalues()"
   ]
  },
  {
   "cell_type": "code",
   "execution_count": 14,
   "metadata": {},
   "outputs": [
    {
     "data": {
      "image/png": "[encoded data removed]",
      "text/plain": [
       "<Figure size 432x288 with 1 Axes>"
      ]
     },
     "metadata": {
      "needs_background": "light"
     },
     "output_type": "display_data"
    }
   ],
   "source": [
    "my_ca.plot_eigenvalues()"
   ]
  },
  {
   "cell_type": "code",
   "execution_count": 15,
   "metadata": {},
   "outputs": [
    {
     "data": {
      "image/png": "[encoded data removed]",
      "text/plain": [
       "<Figure size 432x288 with 1 Axes>"
      ]
     },
     "metadata": {
      "needs_background": "light"
     },
     "output_type": "display_data"
    }
   ],
   "source": [
    "my_ca.plot_eigenvalues(type=\"percentage\")"
   ]
  },
  {
   "cell_type": "code",
   "execution_count": 16,
   "metadata": {},
   "outputs": [
    {
     "data": {
      "image/png": "[encoded data removed]",
      "text/plain": [
       "<Figure size 432x288 with 1 Axes>"
      ]
     },
     "metadata": {
      "needs_background": "light"
     },
     "output_type": "display_data"
    }
   ],
   "source": [
    "my_ca.plot_eigenvalues(type=\"cumulative\")"
   ]
  },
  {
   "cell_type": "markdown",
   "metadata": {},
   "source": [
    "<p>Quand l'objet <i>my\\_ca</i> a été instancié, son paramètre <i>stats</i> a reçu la valeur True par défaut.<br />\n",
    "En conséquence, lors de l'exécution de la méthode <i>my\\_ca.fit(X)</i>, les statistiques suivantes ont été calculées :\n",
    "<ul>\n",
    "    <li><i>my\\_ca.row\\_contrib\\_</i> : contributions des points lignes à la variance de l'axe</li>\n",
    "    <li><i>my\\_ca.col\\_contrib\\_</i> : contributions des points colonnes à la variance de l'axe</li>\n",
    "    <li><i>my\\_ca.row\\_cos2\\_</i> : cosinus carrés des points lignes</li>\n",
    "    <li><i>my\\_ca.col\\_cos2\\_</i> : cosinus carrés des points colonnes</li>\n",
    "</ul>\n",
    "</p>\n",
    "<p>\n",
    "Si l'on avait souhaité éviter le calcul de ces statistiques pour gagner du temps et économiser des ressources mémoire, il  aurait fallu instancier :<br />\n",
    "my\\_ca = CA(stats=False)\n",
    "</p>\n",
    "<p>\n",
    "Par défaut, les coordonnées des points lignes et colonnes, leurs contributions et cosinus carrés sont calculés sur l'ensemble des axes extraits de l'analyse.<br />\n",
    "On aurait toutefois pu spécifier le nombre d'axes à retenir via le paramètre <i>n_components</i> avec par exemple :<br />\n",
    "my\\_ca = CA(n_components=3)\n",
    "</p>\n"
   ]
  },
  {
   "cell_type": "markdown",
   "metadata": {},
   "source": [
    "<h3>Extraction des statistiques sur les points lignes</h3>"
   ]
  },
  {
   "cell_type": "markdown",
   "metadata": {},
   "source": [
    "<h5>Export de la totalité des données lignes vers une DataFrame pandas</h5>\n",
    "<p>On peut simplement envoyer vers une Dataframe : les coordonnées, les contributions et les cos2 de chacun des points <b>lignes</b>, pour tous les axes factoriels (identifiés par les suffixes dim1, dim2, etc.).</p>\n",
    "\n",
    "1. _coord: coordonnées des variables pour créer un nuage de points\n",
    "2. _cos2: qualité de représentation des variables.\n",
    "3. _contrib: contributions (en pourcentage) des variables à la définition des dimensions.\n",
    "\n",
    "Dans cette section, nous décrirons comment visualiser d'une part les individus et d'une autre part les catégories des variables. Ensuite, nous mettrons en évidence ces individus et variable en fonction soit de leurs qualités de représentation, soit de leurs contributions aux dimensions"
   ]
  },
  {
   "cell_type": "code",
   "execution_count": 17,
   "metadata": {},
   "outputs": [],
   "source": [
    "df_rows = my_ca.row_topandas()"
   ]
  },
  {
   "cell_type": "code",
   "execution_count": 18,
   "metadata": {},
   "outputs": [
    {
     "name": "stdout",
     "output_type": "stream",
     "text": [
      "                row_coord_dim1  row_coord_dim2  row_coord_dim3  \\\n",
      "Agriculteur           0.166150        0.309612       -0.071838   \n",
      "Petit.Patr.           0.068377        0.143151       -0.064422   \n",
      "Prof.Cad.Sup         -0.429976        0.060873       -0.003021   \n",
      "Prof.Int.            -0.106603       -0.032597       -0.030898   \n",
      "Employe               0.015729       -0.095469       -0.005087   \n",
      "Ouvr.Qualif.          0.043713       -0.101379       -0.019323   \n",
      "Ouvr.Non-Qual.        0.117797       -0.094864       -0.039728   \n",
      "Inactif               0.032584        0.033395        0.025968   \n",
      "\n",
      "                row_coord_dim4  row_coord_dim5  row_contrib_dim1  \\\n",
      "Agriculteur          -0.014433        0.021440          5.692772   \n",
      "Petit.Patr.           0.020370       -0.025687          1.184762   \n",
      "Prof.Cad.Sup          0.016811        0.011233         74.957901   \n",
      "Prof.Int.            -0.025333       -0.011955          8.327911   \n",
      "Employe              -0.020294        0.003462          0.267471   \n",
      "Ouvr.Qualif.          0.035411       -0.001730          1.538298   \n",
      "Ouvr.Non-Qual.        0.003493        0.022484          4.405391   \n",
      "Inactif               0.000553       -0.000935          3.625494   \n",
      "\n",
      "                row_contrib_dim2  row_contrib_dim3  row_contrib_dim4  \\\n",
      "Agriculteur            37.989221         17.881318          1.958972   \n",
      "Petit.Patr.             9.979255         17.670138          4.795372   \n",
      "Prof.Cad.Sup            2.887188          0.062182          5.225667   \n",
      "Prof.Int.               1.496416         11.755243         21.448281   \n",
      "Employe                18.937575          0.470061         20.308140   \n",
      "Ouvr.Qualif.           15.900944          5.050788         46.039302   \n",
      "Ouvr.Non-Qual.          5.490645          8.419296          0.176666   \n",
      "Inactif                 7.318755         38.690973          0.047599   \n",
      "\n",
      "                row_contrib_dim5  row_cos2_dim1  row_cos2_dim2  row_cos2_dim3  \\\n",
      "Agriculteur            15.885000       0.213512       0.741407       0.039915   \n",
      "Petit.Patr.            28.018010       0.153835       0.674250       0.136552   \n",
      "Prof.Cad.Sup            8.573235       0.978183       0.019605       0.000048   \n",
      "Prof.Int.              17.552234       0.802207       0.075007       0.067393   \n",
      "Employe                 2.171116       0.025214       0.928949       0.002637   \n",
      "Ouvr.Qualif.            0.403818       0.138275       0.743745       0.027021   \n",
      "Ouvr.Non-Qual.         26.896055       0.555680       0.360381       0.063205   \n",
      "Inactif                 0.500533       0.372204       0.390976       0.236406   \n",
      "\n",
      "                row_cos2_dim4  row_cos2_dim5  \n",
      "Agriculteur          0.001611       0.003555  \n",
      "Petit.Patr.          0.013653       0.021710  \n",
      "Prof.Cad.Sup         0.001495       0.000668  \n",
      "Prof.Int.            0.045303       0.010090  \n",
      "Employe              0.041978       0.001221  \n",
      "Ouvr.Qualif.         0.090743       0.000217  \n",
      "Ouvr.Non-Qual.       0.000489       0.020245  \n",
      "Inactif              0.000107       0.000307  \n"
     ]
    }
   ],
   "source": [
    "print(df_rows)"
   ]
  },
  {
   "cell_type": "markdown",
   "metadata": {},
   "source": [
    "<h5>Statistiques pour les points lignes</h5>"
   ]
  },
  {
   "cell_type": "code",
   "execution_count": 19,
   "metadata": {
    "scrolled": true
   },
   "outputs": [
    {
     "name": "stdout",
     "output_type": "stream",
     "text": [
      "[[ 0.16614986  0.30961174 -0.07183812 -0.01443258  0.02144011]\n",
      " [ 0.06837709  0.14315064 -0.0644217   0.02037032 -0.02568674]\n",
      " [-0.42997558  0.06087258 -0.00302124  0.01681116  0.01123318]\n",
      " [-0.10660251 -0.03259679 -0.03089814 -0.02533304 -0.01195531]\n",
      " [ 0.01572857 -0.09546893 -0.00508681 -0.02029446  0.00346168]\n",
      " [ 0.04371252 -0.1013786  -0.01932335  0.03541129 -0.00173011]\n",
      " [ 0.11779685 -0.09486419 -0.03972798  0.00349309  0.02248439]\n",
      " [ 0.0325837   0.03339524  0.02596802  0.00055285 -0.00093525]]\n"
     ]
    }
   ],
   "source": [
    "# Coordonnées des points lignes\n",
    "print(my_ca.row_coord_)"
   ]
  },
  {
   "cell_type": "code",
   "execution_count": 20,
   "metadata": {},
   "outputs": [
    {
     "name": "stdout",
     "output_type": "stream",
     "text": [
      "[[5.69277232e+00 3.79892214e+01 1.78813176e+01 1.95897194e+00\n",
      "  1.58850001e+01]\n",
      " [1.18476189e+00 9.97925473e+00 1.76701383e+01 4.79537182e+00\n",
      "  2.80180099e+01]\n",
      " [7.49579010e+01 2.88718751e+00 6.21822742e-02 5.22566729e+00\n",
      "  8.57323474e+00]\n",
      " [8.32791077e+00 1.49641640e+00 1.17552426e+01 2.14482814e+01\n",
      "  1.75522340e+01]\n",
      " [2.67471308e-01 1.89375750e+01 4.70061383e-01 2.03081396e+01\n",
      "  2.17111555e+00]\n",
      " [1.53829776e+00 1.59009442e+01 5.05078817e+00 4.60393024e+01\n",
      "  4.03817678e-01]\n",
      " [4.40539088e+00 5.49064526e+00 8.41929638e+00 1.76666131e-01\n",
      "  2.68960553e+01]\n",
      " [3.62549412e+00 7.31875549e+00 3.86909733e+01 4.75993841e-02\n",
      "  5.00532813e-01]]\n"
     ]
    }
   ],
   "source": [
    "# Contributions des points lignes\n",
    "print(my_ca.row_contrib_)"
   ]
  },
  {
   "cell_type": "code",
   "execution_count": 21,
   "metadata": {},
   "outputs": [
    {
     "name": "stdout",
     "output_type": "stream",
     "text": [
      "[[2.13511817e-01 7.41407219e-01 3.99146143e-02 1.61105251e-03\n",
      "  3.55529749e-03]\n",
      " [1.53835147e-01 6.74249941e-01 1.36552219e-01 1.36530650e-02\n",
      "  2.17096289e-02]\n",
      " [9.78183352e-01 1.96054203e-02 4.82951781e-05 1.49529881e-03\n",
      "  6.67633606e-04]\n",
      " [8.02207290e-01 7.50069172e-02 6.73932587e-02 4.53029435e-02\n",
      "  1.00895911e-02]\n",
      " [2.52142692e-02 9.28948989e-01 2.63729115e-03 4.19780929e-02\n",
      "  1.22135734e-03]\n",
      " [1.38274790e-01 7.43744603e-01 2.70206674e-02 9.07433300e-02\n",
      "  2.16610023e-04]\n",
      " [5.55680182e-01 3.60381228e-01 6.32048750e-02 4.88626636e-04\n",
      "  2.02450881e-02]\n",
      " [3.72204454e-01 3.90975835e-01 2.36405913e-01 1.07151702e-04\n",
      "  3.06646165e-04]]\n"
     ]
    }
   ],
   "source": [
    "# Cos2 des points lignes\n",
    "print(my_ca.row_cos2_)"
   ]
  },
  {
   "cell_type": "markdown",
   "metadata": {},
   "source": [
    "<h3>Extraction des statistiques sur les points colonnes</h3>"
   ]
  },
  {
   "cell_type": "markdown",
   "metadata": {},
   "source": [
    "<h5>Export de la totalité des données colonnes vers une DataFrame pandas</h5>\n",
    "<p>On peut envoyer vers une Dataframe : les coordonnées, les contributions et les cos2 de chacun des points <b>colonnes</b>, pour tous les axes factoriels (identifiés par les suffixes dim1, dim2, etc.).</p>"
   ]
  },
  {
   "cell_type": "code",
   "execution_count": 22,
   "metadata": {},
   "outputs": [],
   "source": [
    "df_cols = my_ca.col_topandas()"
   ]
  },
  {
   "cell_type": "code",
   "execution_count": 23,
   "metadata": {},
   "outputs": [
    {
     "name": "stdout",
     "output_type": "stream",
     "text": [
      "            col_coord_dim1  col_coord_dim2  col_coord_dim3  col_coord_dim4  \\\n",
      "Radio            -0.014940       -0.022106       -0.046702       -0.002662   \n",
      "Tel.              0.053283       -0.002081        0.016453        0.011218   \n",
      "Quot.Nat.        -0.540675        0.006207        0.020542        0.039523   \n",
      "Quot.Reg.         0.108828        0.109645        0.005228        0.013042   \n",
      "Press.Mag.       -0.094813        0.132497        0.018758       -0.038309   \n",
      "Press.TV          0.009754       -0.161609        0.027141       -0.014518   \n",
      "\n",
      "            col_coord_dim5  col_contrib_dim1  col_contrib_dim2  \\\n",
      "Radio             0.000680          0.428700          1.803681   \n",
      "Tel.              0.009850          6.564128          0.019242   \n",
      "Quot.Nat.        -0.006617         74.587719          0.018890   \n",
      "Quot.Reg.        -0.016560         11.501128         22.435641   \n",
      "Press.Mag.        0.003719          6.823338         25.608027   \n",
      "Press.TV         -0.009147          0.094987         50.114518   \n",
      "\n",
      "            col_contrib_dim3  col_contrib_dim4  col_contrib_dim5  \\\n",
      "Radio              70.383604          0.620659          0.148890   \n",
      "Tel.               10.516012         13.270038         37.591510   \n",
      "Quot.Nat.           1.809035         18.176336          1.872341   \n",
      "Quot.Reg.           0.446007          7.532438         44.628215   \n",
      "Press.Mag.          4.487719         50.803517          1.759155   \n",
      "Press.TV           12.357623          9.597012         13.999889   \n",
      "\n",
      "            col_cos2_dim1  col_cos2_dim2  col_cos2_dim3  col_cos2_dim4  \\\n",
      "Radio            0.076956       0.168480       0.751961       0.002443   \n",
      "Tel.             0.850792       0.001298       0.081121       0.037714   \n",
      "Quot.Nat.        0.992981       0.000131       0.001433       0.005306   \n",
      "Quot.Reg.        0.486643       0.493977       0.001123       0.006989   \n",
      "Press.Mag.       0.316773       0.618623       0.012400       0.051716   \n",
      "Press.TV         0.003492       0.958663       0.027038       0.007736   \n",
      "\n",
      "            col_cos2_dim5  \n",
      "Radio            0.000159  \n",
      "Tel.             0.029075  \n",
      "Quot.Nat.        0.000149  \n",
      "Quot.Reg.        0.011269  \n",
      "Press.Mag.       0.000487  \n",
      "Press.TV         0.003071  \n"
     ]
    }
   ],
   "source": [
    "print(df_cols)"
   ]
  },
  {
   "cell_type": "markdown",
   "metadata": {},
   "source": [
    "<h5>Statistiques pour les points colonnes</h5>"
   ]
  },
  {
   "cell_type": "code",
   "execution_count": 24,
   "metadata": {},
   "outputs": [
    {
     "name": "stdout",
     "output_type": "stream",
     "text": [
      "[[-0.01494022 -0.02210596 -0.04670175 -0.00266194  0.00068016]\n",
      " [ 0.05328288 -0.002081    0.01645288  0.0112183   0.00985007]\n",
      " [-0.54067502  0.00620677  0.02054203  0.03952278 -0.00661745]\n",
      " [ 0.10882837  0.10964537  0.00522829  0.01304161 -0.01656044]\n",
      " [-0.09481257  0.13249659  0.01875847 -0.03830946  0.0037189 ]\n",
      " [ 0.00975363 -0.16160888  0.02714057 -0.01451757 -0.00914728]]\n"
     ]
    }
   ],
   "source": [
    "# Coordonnées des points colonnes\n",
    "print(my_ca.col_coord_)"
   ]
  },
  {
   "cell_type": "code",
   "execution_count": 25,
   "metadata": {},
   "outputs": [
    {
     "name": "stdout",
     "output_type": "stream",
     "text": [
      "[[4.28700199e-01 1.80368136e+00 7.03836037e+01 6.20658916e-01\n",
      "  1.48890251e-01]\n",
      " [6.56412758e+00 1.92419243e-02 1.05160124e+01 1.32700380e+01\n",
      "  3.75915100e+01]\n",
      " [7.45877189e+01 1.88897960e-02 1.80903503e+00 1.81763356e+01\n",
      "  1.87234094e+00]\n",
      " [1.15011283e+01 2.24356413e+01 4.46006948e-01 7.53243787e+00\n",
      "  4.46282147e+01]\n",
      " [6.82333790e+00 2.56080275e+01 4.48771875e+00 5.08035174e+01\n",
      "  1.75915503e+00]\n",
      " [9.49870405e-02 5.01145182e+01 1.23576232e+01 9.59701224e+00\n",
      "  1.39998891e+01]]\n"
     ]
    }
   ],
   "source": [
    "# Contributions des points colonnes\n",
    "print(my_ca.col_contrib_)"
   ]
  },
  {
   "cell_type": "code",
   "execution_count": 26,
   "metadata": {},
   "outputs": [
    {
     "name": "stdout",
     "output_type": "stream",
     "text": [
      "[[7.69561735e-02 1.68479830e-01 7.51961487e-01 2.44301514e-03\n",
      "  1.59494851e-04]\n",
      " [8.50792093e-01 1.29775661e-03 8.11207283e-02 3.77139463e-02\n",
      "  2.90754756e-02]\n",
      " [9.92981084e-01 1.30857685e-04 1.43335889e-03 5.30595256e-03\n",
      "  1.48747339e-04]\n",
      " [4.86642767e-01 4.93976885e-01 1.12317070e-03 6.98857711e-03\n",
      "  1.12685999e-02]\n",
      " [3.16773320e-01 6.18623139e-01 1.23997140e-02 5.17164707e-02\n",
      "  4.87356154e-04]\n",
      " [3.49195247e-03 9.58662728e-01 2.70379173e-02 7.73612354e-03\n",
      "  3.07127840e-03]]\n"
     ]
    }
   ],
   "source": [
    "# Cos2 des points colonnes\n",
    "print(my_ca.col_cos2_)"
   ]
  },
  {
   "cell_type": "markdown",
   "metadata": {},
   "source": [
    "<h3>Graphiques</h3>"
   ]
  },
  {
   "cell_type": "markdown",
   "metadata": {},
   "source": [
    "<p>\n",
    "2 types de graphiques peuvent être réalisés :\n",
    "<ul>\n",
    "    <li>Les mapping classiques qui représentent les points lignes et colonnes sur un plan factoriel</li>\n",
    "    <li>Des graphiques qui permettent d'interpréter rapidement les axes : on choisit un axe factoriel (le 1er axe dans notre exemple) et on observe quels sont les points lignes et colonnes qui présentent les plus fortes contributions et cos2 pour cet axe</li>\n",
    "</ul>\n",
    "</p>\n",
    "<h5>Graphiques factoriels</h5>"
   ]
  },
  {
   "cell_type": "code",
   "execution_count": 27,
   "metadata": {},
   "outputs": [
    {
     "data": {
      "image/png": "[encoded data removed]",
      "text/plain": [
       "<Figure size 432x288 with 1 Axes>"
      ]
     },
     "metadata": {
      "needs_background": "light"
     },
     "output_type": "display_data"
    }
   ],
   "source": [
    "# Mapping simultané des points lignes et colonnes\n",
    "# Les paramètres de la méthode mapping indiquent que ce sont les axes 1 et 2 qui sont ici représentés\n",
    "my_ca.mapping(num_x_axis=1, num_y_axis=2)"
   ]
  },
  {
   "cell_type": "code",
   "execution_count": 28,
   "metadata": {},
   "outputs": [
    {
     "data": {
      "image/png": "[encoded data removed]",
      "text/plain": [
       "<Figure size 432x288 with 1 Axes>"
      ]
     },
     "metadata": {
      "needs_background": "light"
     },
     "output_type": "display_data"
    }
   ],
   "source": [
    "# Mapping des points lignes\n",
    "my_ca.mapping_row(num_x_axis=1, num_y_axis=2)"
   ]
  },
  {
   "cell_type": "code",
   "execution_count": 29,
   "metadata": {},
   "outputs": [
    {
     "data": {
      "image/png": "[encoded data removed]",
      "text/plain": [
       "<Figure size 432x288 with 1 Axes>"
      ]
     },
     "metadata": {
      "needs_background": "light"
     },
     "output_type": "display_data"
    }
   ],
   "source": [
    "# Mapping des points colonnes\n",
    "my_ca.mapping_col(num_x_axis=1, num_y_axis=2)"
   ]
  },
  {
   "cell_type": "markdown",
   "metadata": {},
   "source": [
    "<h5>Analyse du 1er axe - Points lignes</h5>"
   ]
  },
  {
   "cell_type": "code",
   "execution_count": 30,
   "metadata": {},
   "outputs": [
    {
     "data": {
      "image/png": "[encoded data removed]",
      "text/plain": [
       "<Figure size 432x288 with 1 Axes>"
      ]
     },
     "metadata": {
      "needs_background": "light"
     },
     "output_type": "display_data"
    }
   ],
   "source": [
    "# Classement des points lignes en fonction de leur contribution au 1er axe\n",
    "# Le paramètre de la méthode plot_row_contrib indique que c'est pour l'axe numéro 1 que les contributions sont ici \n",
    "# représentées\n",
    "my_ca.plot_row_contrib(num_axis=1)"
   ]
  },
  {
   "cell_type": "code",
   "execution_count": 31,
   "metadata": {},
   "outputs": [
    {
     "data": {
      "image/png": "[encoded data removed]",
      "text/plain": [
       "<Figure size 432x288 with 1 Axes>"
      ]
     },
     "metadata": {
      "needs_background": "light"
     },
     "output_type": "display_data"
    }
   ],
   "source": [
    "# Classement des points lignes en fonction de leur cos2 sur le 1er axe\n",
    "my_ca.plot_row_cos2(num_axis=1)"
   ]
  },
  {
   "cell_type": "markdown",
   "metadata": {},
   "source": [
    "<h5>Analyse du 1er axe - Points colonnes</h5>"
   ]
  },
  {
   "cell_type": "code",
   "execution_count": 32,
   "metadata": {},
   "outputs": [
    {
     "data": {
      "image/png": "[encoded data removed]",
      "text/plain": [
       "<Figure size 432x288 with 1 Axes>"
      ]
     },
     "metadata": {
      "needs_background": "light"
     },
     "output_type": "display_data"
    }
   ],
   "source": [
    "# Classement des points colonnes en fonction de leur contribution au 1er axe\n",
    "my_ca.plot_col_contrib(num_axis=1)"
   ]
  },
  {
   "cell_type": "code",
   "execution_count": 33,
   "metadata": {
    "tags": []
   },
   "outputs": [
    {
     "data": {
      "image/png": "[encoded data removed]",
      "text/plain": [
       "<Figure size 432x288 with 1 Axes>"
      ]
     },
     "metadata": {
      "needs_background": "light"
     },
     "output_type": "display_data"
    }
   ],
   "source": [
    "# Classement des points colonnes en fonction de leur cos2 sur le 1er axe\n",
    "my_ca.plot_col_cos2(num_axis=1)"
   ]
  },
  {
   "cell_type": "markdown",
   "metadata": {},
   "source": [
    "Pour tous les graphiques présentés plus haut, il est possible de définir un taille particulière via le paramètre <i>figsize</i>."
   ]
  },
  {
   "cell_type": "code",
   "execution_count": 34,
   "metadata": {},
   "outputs": [
    {
     "data": {
      "image/png": "[encoded data removed]",
      "text/plain": [
       "<Figure size 720x576 with 1 Axes>"
      ]
     },
     "metadata": {
      "needs_background": "light"
     },
     "output_type": "display_data"
    }
   ],
   "source": [
    "my_ca.mapping(1, 2, figsize=(10, 8))"
   ]
  },
  {
   "cell_type": "markdown",
   "metadata": {},
   "source": [
    "<h3>Projection de points lignes supplémentaires</h3>"
   ]
  },
  {
   "cell_type": "markdown",
   "metadata": {},
   "source": [
    "<p>La classe CA implémente les méthodes fit, transform et fit_transform bien connues des utilisateurs de scikit-learn.</p>\n",
    "<p>Ces méthodes vont nous permettre de projetter des points lignes sur les axes factoriels.</p>\n",
    "<p>Il est ici judicieux de fixer le paramètre stats à False pour gagner en temps de traitement et en ressources mémoire.</p>"
   ]
  },
  {
   "cell_type": "code",
   "execution_count": 35,
   "metadata": {},
   "outputs": [],
   "source": [
    "my_ca = CA(stats=False)"
   ]
  },
  {
   "cell_type": "code",
   "execution_count": 36,
   "metadata": {},
   "outputs": [
    {
     "data": {
      "text/plain": [
       "CA(stats=False)"
      ]
     },
     "execution_count": 36,
     "metadata": {},
     "output_type": "execute_result"
    }
   ],
   "source": [
    "# Estimation du modèle\n",
    "my_ca.fit(X)"
   ]
  },
  {
   "cell_type": "code",
   "execution_count": 37,
   "metadata": {},
   "outputs": [
    {
     "data": {
      "text/plain": [
       "array([[ 0.16614986,  0.30961174, -0.07183812, -0.01443258,  0.02144011],\n",
       "       [ 0.06837709,  0.14315064, -0.0644217 ,  0.02037032, -0.02568674],\n",
       "       [-0.42997558,  0.06087258, -0.00302124,  0.01681116,  0.01123318],\n",
       "       [-0.10660251, -0.03259679, -0.03089814, -0.02533304, -0.01195531],\n",
       "       [ 0.01572857, -0.09546893, -0.00508681, -0.02029446,  0.00346168],\n",
       "       [ 0.04371252, -0.1013786 , -0.01932335,  0.03541129, -0.00173011],\n",
       "       [ 0.11779685, -0.09486419, -0.03972798,  0.00349309,  0.02248439],\n",
       "       [ 0.0325837 ,  0.03339524,  0.02596802,  0.00055285, -0.00093525]])"
      ]
     },
     "execution_count": 37,
     "metadata": {},
     "output_type": "execute_result"
    }
   ],
   "source": [
    "# Projection de l'ensemble des points lignes sur les axes factoriels\n",
    "my_ca.transform(X)"
   ]
  },
  {
   "cell_type": "code",
   "execution_count": 38,
   "metadata": {},
   "outputs": [
    {
     "data": {
      "text/plain": [
       "array([[ 0.16614986,  0.30961174, -0.07183812, -0.01443258,  0.02144011],\n",
       "       [ 0.06837709,  0.14315064, -0.0644217 ,  0.02037032, -0.02568674],\n",
       "       [-0.42997558,  0.06087258, -0.00302124,  0.01681116,  0.01123318],\n",
       "       [-0.10660251, -0.03259679, -0.03089814, -0.02533304, -0.01195531],\n",
       "       [ 0.01572857, -0.09546893, -0.00508681, -0.02029446,  0.00346168],\n",
       "       [ 0.04371252, -0.1013786 , -0.01932335,  0.03541129, -0.00173011],\n",
       "       [ 0.11779685, -0.09486419, -0.03972798,  0.00349309,  0.02248439],\n",
       "       [ 0.0325837 ,  0.03339524,  0.02596802,  0.00055285, -0.00093525]])"
      ]
     },
     "execution_count": 38,
     "metadata": {},
     "output_type": "execute_result"
    }
   ],
   "source": [
    "# Idem en une seule étape\n",
    "my_ca.fit_transform(X)"
   ]
  },
  {
   "cell_type": "code",
   "execution_count": 39,
   "metadata": {},
   "outputs": [
    {
     "data": {
      "text/plain": [
       "array([[-0.85659025,  0.11271178,  0.44021711, -0.19738323, -0.02993141]])"
      ]
     },
     "execution_count": 39,
     "metadata": {},
     "output_type": "execute_result"
    }
   ],
   "source": [
    "# Projection d'une ligne supplémentaire\n",
    "my_ca.transform([[25, 54, 41, 11, 65, 44]])"
   ]
  },
  {
   "cell_type": "markdown",
   "metadata": {},
   "source": [
    "<p>Les méthodes <i>transform</i> et <i>fit_transform</i> ne sont pas forcément très utiles dans le cadre de l'Analyse Factorielle des Correspondances simple.</p>\n",
    "<p>En revanche, elles seront beaucoup plus intéressantes dans le cadre de l'Analyse des Correspondances Multiples et de l'Analyse en Composantes Principales, et les tutoriels relatifs à ces méthodes essaieront de l'illustrer.</p>"
   ]
  }
 ],
 "metadata": {
  "anaconda-cloud": {},
  "kernelspec": {
   "display_name": "Python 3 (ipykernel)",
   "language": "python",
   "name": "python3"
  },
  "language_info": {
   "codemirror_mode": {
    "name": "ipython",
    "version": 3
   },
   "file_extension": ".py",
   "mimetype": "text/x-python",
   "name": "python",
   "nbconvert_exporter": "python",
   "pygments_lexer": "ipython3",
   "version": "3.9.12"
  }
 },
 "nbformat": 4,
 "nbformat_minor": 4
}
