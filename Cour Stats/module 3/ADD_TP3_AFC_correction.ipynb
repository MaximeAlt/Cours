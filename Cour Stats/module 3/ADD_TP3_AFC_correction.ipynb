{
 "cells": [
  {
   "cell_type": "markdown",
   "id": "d3385bef",
   "metadata": {},
   "source": [
    "<br>\n",
    "<div align=\"center\"><span style=\"font-size:32px;color:darkblue\">TP 3 Analyse Factorielle des correspndances</span></div><br><br>\n"
   ]
  },
  {
   "cell_type": "markdown",
   "id": "2f5ae4f9",
   "metadata": {},
   "source": [
    "<span>&#9757;</span> On commence par importer nos packages préférés `pandas` et `numpy`."
   ]
  },
  {
   "cell_type": "code",
   "execution_count": 2,
   "id": "8578faf6-80e6-4c18-88df-6abda21f2740",
   "metadata": {},
   "outputs": [],
   "source": [
    "import pandas as pd\n",
    "import numpy as np\n",
    "library(\"gplots\")"
   ]
  },
  {
   "cell_type": "markdown",
   "id": "cfb8a26d",
   "metadata": {},
   "source": [
    "puis importer nos données et vérifier la taille et leur nature:"
   ]
  },
  {
   "cell_type": "code",
   "execution_count": 2,
   "id": "35849b07",
   "metadata": {},
   "outputs": [
    {
     "data": {
      "text/html": [
       "<div>\n",
       "<style scoped>\n",
       "    .dataframe tbody tr th:only-of-type {\n",
       "        vertical-align: middle;\n",
       "    }\n",
       "\n",
       "    .dataframe tbody tr th {\n",
       "        vertical-align: top;\n",
       "    }\n",
       "\n",
       "    .dataframe thead th {\n",
       "        text-align: right;\n",
       "    }\n",
       "</style>\n",
       "<table border=\"1\" class=\"dataframe\">\n",
       "  <thead>\n",
       "    <tr style=\"text-align: right;\">\n",
       "      <th></th>\n",
       "      <th>Radio</th>\n",
       "      <th>Tel.</th>\n",
       "      <th>Quot.Nat.</th>\n",
       "      <th>Quot.Reg.</th>\n",
       "      <th>Press.Mag.</th>\n",
       "      <th>Press.TV</th>\n",
       "    </tr>\n",
       "    <tr>\n",
       "      <th>Prof</th>\n",
       "      <th></th>\n",
       "      <th></th>\n",
       "      <th></th>\n",
       "      <th></th>\n",
       "      <th></th>\n",
       "      <th></th>\n",
       "    </tr>\n",
       "  </thead>\n",
       "  <tbody>\n",
       "    <tr>\n",
       "      <th>Agriculteur</th>\n",
       "      <td>96</td>\n",
       "      <td>118</td>\n",
       "      <td>2</td>\n",
       "      <td>71</td>\n",
       "      <td>50</td>\n",
       "      <td>17</td>\n",
       "    </tr>\n",
       "    <tr>\n",
       "      <th>Petit.Patr.</th>\n",
       "      <td>122</td>\n",
       "      <td>136</td>\n",
       "      <td>11</td>\n",
       "      <td>76</td>\n",
       "      <td>49</td>\n",
       "      <td>41</td>\n",
       "    </tr>\n",
       "    <tr>\n",
       "      <th>Prof.Cad.Sup</th>\n",
       "      <td>193</td>\n",
       "      <td>184</td>\n",
       "      <td>74</td>\n",
       "      <td>63</td>\n",
       "      <td>103</td>\n",
       "      <td>79</td>\n",
       "    </tr>\n",
       "    <tr>\n",
       "      <th>Prof.Int.</th>\n",
       "      <td>360</td>\n",
       "      <td>365</td>\n",
       "      <td>63</td>\n",
       "      <td>145</td>\n",
       "      <td>141</td>\n",
       "      <td>184</td>\n",
       "    </tr>\n",
       "    <tr>\n",
       "      <th>Employe</th>\n",
       "      <td>511</td>\n",
       "      <td>593</td>\n",
       "      <td>57</td>\n",
       "      <td>217</td>\n",
       "      <td>172</td>\n",
       "      <td>306</td>\n",
       "    </tr>\n",
       "    <tr>\n",
       "      <th>Ouvr.Qualif.</th>\n",
       "      <td>385</td>\n",
       "      <td>457</td>\n",
       "      <td>42</td>\n",
       "      <td>174</td>\n",
       "      <td>104</td>\n",
       "      <td>220</td>\n",
       "    </tr>\n",
       "    <tr>\n",
       "      <th>Ouvr.Non-Qual.</th>\n",
       "      <td>156</td>\n",
       "      <td>185</td>\n",
       "      <td>8</td>\n",
       "      <td>69</td>\n",
       "      <td>42</td>\n",
       "      <td>85</td>\n",
       "    </tr>\n",
       "    <tr>\n",
       "      <th>Inactif</th>\n",
       "      <td>1474</td>\n",
       "      <td>1931</td>\n",
       "      <td>181</td>\n",
       "      <td>852</td>\n",
       "      <td>642</td>\n",
       "      <td>782</td>\n",
       "    </tr>\n",
       "  </tbody>\n",
       "</table>\n",
       "</div>"
      ],
      "text/plain": [
       "                Radio  Tel.  Quot.Nat.  Quot.Reg.  Press.Mag.  Press.TV\n",
       "Prof                                                                   \n",
       "Agriculteur        96   118          2         71          50        17\n",
       "Petit.Patr.       122   136         11         76          49        41\n",
       "Prof.Cad.Sup      193   184         74         63         103        79\n",
       "Prof.Int.         360   365         63        145         141       184\n",
       "Employe           511   593         57        217         172       306\n",
       "Ouvr.Qualif.      385   457         42        174         104       220\n",
       "Ouvr.Non-Qual.    156   185          8         69          42        85\n",
       "Inactif          1474  1931        181        852         642       782"
      ]
     },
     "execution_count": 2,
     "metadata": {},
     "output_type": "execute_result"
    }
   ],
   "source": [
    "df = pd.read_excel(\"media.xls\",sheet_name=0,header=0,index_col=0)\n",
    "df\n"
   ]
  },
  {
   "cell_type": "code",
   "execution_count": 3,
   "id": "8b1fd370-5d86-4573-ba8d-bb176d890f5d",
   "metadata": {},
   "outputs": [
    {
     "name": "stdout",
     "output_type": "stream",
     "text": [
      "<class 'pandas.core.frame.DataFrame'>\n",
      "Index: 8 entries, Agriculteur to Inactif\n",
      "Data columns (total 6 columns):\n",
      " #   Column      Non-Null Count  Dtype\n",
      "---  ------      --------------  -----\n",
      " 0   Radio       8 non-null      int64\n",
      " 1   Tel.        8 non-null      int64\n",
      " 2   Quot.Nat.   8 non-null      int64\n",
      " 3   Quot.Reg.   8 non-null      int64\n",
      " 4   Press.Mag.  8 non-null      int64\n",
      " 5   Press.TV    8 non-null      int64\n",
      "dtypes: int64(6)\n",
      "memory usage: 448.0+ bytes\n"
     ]
    }
   ],
   "source": [
    "df.info()"
   ]
  },
  {
   "cell_type": "markdown",
   "id": "f8967e29",
   "metadata": {},
   "source": [
    "<span>&#9999;</span>  Quelles sont les deux variables étudiées?"
   ]
  },
  {
   "cell_type": "markdown",
   "id": "0eeae764-a71d-43f7-8fb2-bf8d1b86053e",
   "metadata": {},
   "source": [
    "-Les variables étudiées sont la profession et les médias"
   ]
  },
  {
   "cell_type": "markdown",
   "id": "dd7ae1df",
   "metadata": {},
   "source": [
    "<span>&#9757;</span>  Créer les variables I et J contenant le nombre de modalités de chaque variable et les afficher"
   ]
  },
  {
   "cell_type": "code",
   "execution_count": 4,
   "id": "99b6ea5d-8573-46a2-b1ab-f28bf09865d8",
   "metadata": {},
   "outputs": [
    {
     "name": "stdout",
     "output_type": "stream",
     "text": [
      "8 6\n"
     ]
    }
   ],
   "source": [
    "I= 8\n",
    "J = 6\n",
    "print (I, J)"
   ]
  },
  {
   "cell_type": "markdown",
   "id": "09bc33b5",
   "metadata": {},
   "source": [
    "<span>&#9757;</span>  Créer la variable N contenant le nombre d'individus et l'afficher."
   ]
  },
  {
   "cell_type": "code",
   "execution_count": 5,
   "id": "0c0ccc8f-3fb6-4231-af98-9a74a4540122",
   "metadata": {},
   "outputs": [
    {
     "data": {
      "text/plain": [
       "12388"
      ]
     },
     "execution_count": 5,
     "metadata": {},
     "output_type": "execute_result"
    }
   ],
   "source": [
    "N=sum(df.sum())\n",
    "N"
   ]
  },
  {
   "cell_type": "markdown",
   "id": "376284ea",
   "metadata": {},
   "source": [
    "On étudie ici 2 variables qualitatives. On va donc faire une analyse factorielle des correspondances. Pour cela on utilise la classe `CA` du package `fanalysis`. Ce package a été développé récemment par Olivier Garcia, vous pouvez avoir plus de renseignement sur la page https://github.com/OlivierGarciaDev. Il va nous fournir plein de calculs et graphiques clef en main. Ce package peut aussi être utilisé pour faire une ACP (et eviter de calculer à la main les qualités et les contributions comme nous l'avons fait au TP1).\n",
    "\n",
    "Ce package n'est a priori pas déjà installé dans votre Anaconda. Il faut passer par Anaconda prompt pour l'installer: https://datatofish.com/how-to-install-python-package-in-anaconda/"
   ]
  },
  {
   "cell_type": "code",
   "execution_count": 6,
   "id": "9a857dc3",
   "metadata": {},
   "outputs": [],
   "source": [
    "import fanalysis"
   ]
  },
  {
   "cell_type": "markdown",
   "id": "d8c600ad",
   "metadata": {},
   "source": [
    "Ici les données sont déjà sous forme de tableau de contingence. Sinon, on aurait pu utiliser la fonction `crosstab` sur les données brutes pour extraire ce tableau.\n",
    "\n",
    "Dans le cas d'un tableau de contingence, les données en lignes et en colonnes jouent le même role (il n'y a pas d'opposition individus/variables). Le dataframe n'est donc pas le format approprié. La package `fanalysis` travaille sur les numpy.array et pas des dataframe. Dans la suite, on va donc transformer notre dataframe en tableau (quitte à utiliser pd.DataFrame pour un affichage agréable)."
   ]
  },
  {
   "cell_type": "code",
   "execution_count": 7,
   "id": "b11ace03",
   "metadata": {},
   "outputs": [
    {
     "data": {
      "text/plain": [
       "array([[  96,  118,    2,   71,   50,   17],\n",
       "       [ 122,  136,   11,   76,   49,   41],\n",
       "       [ 193,  184,   74,   63,  103,   79],\n",
       "       [ 360,  365,   63,  145,  141,  184],\n",
       "       [ 511,  593,   57,  217,  172,  306],\n",
       "       [ 385,  457,   42,  174,  104,  220],\n",
       "       [ 156,  185,    8,   69,   42,   85],\n",
       "       [1474, 1931,  181,  852,  642,  782]], dtype=int64)"
      ]
     },
     "execution_count": 7,
     "metadata": {},
     "output_type": "execute_result"
    }
   ],
   "source": [
    "tab=df.values\n",
    "tab"
   ]
  },
  {
   "cell_type": "markdown",
   "id": "c56f24cc",
   "metadata": {},
   "source": [
    "On ferra bien attention dans la suite: df est le dataframe, tab est le tableau des valeurs."
   ]
  },
  {
   "cell_type": "markdown",
   "id": "0b0e00f5",
   "metadata": {},
   "source": [
    "# Liaison\n",
    "\n",
    "On commence par vérifier si nos variables sont liées, on effectue donc un test d'indépendance du $\\chi^2$. On utilise par exemple celui de la librairie `scipy`. La fonction chi2_contengency appliqué à un tableau croisé va renvoyer 4 informations:\n",
    "- la valeur de la statistique de test\n",
    "- la p-valeur\n",
    "- le nombre de degré de liberté, c'est-à-dire le paramètre du $\\chi^2:~ (I-1)\\times (J-1)$\n",
    "- le tableau des effectifs indépendants.\n"
   ]
  },
  {
   "cell_type": "code",
   "execution_count": 8,
   "id": "f411f0a0",
   "metadata": {},
   "outputs": [],
   "source": [
    "from scipy.stats import chi2_contingency"
   ]
  },
  {
   "cell_type": "markdown",
   "id": "226f9241",
   "metadata": {},
   "source": [
    "<span>&#9757;</span>  Faire un test du $\\chi^2$ sur `df`."
   ]
  },
  {
   "cell_type": "code",
   "execution_count": 9,
   "id": "19918204-97c6-45af-9208-939ae24ddf47",
   "metadata": {},
   "outputs": [
    {
     "data": {
      "text/plain": [
       "(275.9953222418554,\n",
       " 3.1509173161703053e-39,\n",
       " 35,\n",
       " array([[  94.21520827,  113.41830804,   12.5163061 ,   47.6362609 ,\n",
       "           37.23458185,   48.97933484],\n",
       "        [ 115.77292541,  139.36995479,   15.38020665,   58.53608331,\n",
       "           45.75435906,   60.18647078],\n",
       "        [ 185.23668066,  222.99192767,   24.60833064,   93.65773329,\n",
       "           73.20697449,   96.29835325],\n",
       "        [ 334.8099774 ,  403.05150145,   44.4788505 ,  169.28366161,\n",
       "          132.31950274,  174.0565063 ],\n",
       "        [ 493.96448176,  594.64514046,   65.62221505,  249.75395544,\n",
       "          195.21859864,  256.79560865],\n",
       "        [ 367.81191476,  442.77994834,   48.86309332,  185.96980949,\n",
       "          145.36212464,  191.21310946],\n",
       "        [ 145.04883758,  174.61293187,   19.26945431,   73.33831127,\n",
       "           57.32442686,   75.4060381 ],\n",
       "        [1560.13997417, 1878.13028737,  207.26154343,  788.82418469,\n",
       "          616.57943171,  811.06457862]]))"
      ]
     },
     "execution_count": 9,
     "metadata": {},
     "output_type": "execute_result"
    }
   ],
   "source": [
    "k2=chi2_contingency(df)\n",
    "k2"
   ]
  },
  {
   "cell_type": "markdown",
   "id": "dbe21ee0",
   "metadata": {},
   "source": [
    "<span>&#9999;</span> Répondez aux questions suivantes:\n",
    "- Combien vaut la statistique de test?\n",
    "        275.9953222418554\n",
    "    \n",
    "- Quelle est la conclusion du test?\n",
    "       3.1509173161703053e-39\n",
    "       La p-value < 5% donc le test n'est pas sigificatif, on rejette H0\n",
    "   \n",
    "- Vérifier que le degré de liberté est le bon.\n",
    "        35\n",
    "\n",
    "- Combien vaut l'effectif sous hypotheses d'indépendance des agriculteurs qui s'informent par la télévision.\n",
    " **113.41830804**"
   ]
  },
  {
   "cell_type": "markdown",
   "id": "cb36e80a",
   "metadata": {},
   "source": [
    "<span>&#9757;</span> Combien vaut l'inertie?"
   ]
  },
  {
   "cell_type": "code",
   "execution_count": 10,
   "id": "bf4e202e-0d23-4578-93c2-55a35e803cf7",
   "metadata": {},
   "outputs": [
    {
     "data": {
      "text/plain": [
       "0.022279247839994784"
      ]
     },
     "execution_count": 10,
     "metadata": {},
     "output_type": "execute_result"
    }
   ],
   "source": [
    "inertie=k2[0]/N\n",
    "\n",
    "inertie"
   ]
  },
  {
   "cell_type": "markdown",
   "id": "b70f67e7",
   "metadata": {},
   "source": [
    " <span>&#9757;</span> Vérifier par le calcul la  valeur du coefficient d'associtation du $\\chi^2$."
   ]
  },
  {
   "cell_type": "code",
   "execution_count": 11,
   "id": "6eb63e7b-5889-4d10-bd79-11656377d3d3",
   "metadata": {},
   "outputs": [
    {
     "data": {
      "text/plain": [
       "275.9953222418554"
      ]
     },
     "execution_count": 11,
     "metadata": {},
     "output_type": "execute_result"
    }
   ],
   "source": [
    "Indep= ((tab - k2[3])**2)/k2[3]\n",
    "khi2= np.sum(Indep)\n",
    "khi2"
   ]
  },
  {
   "cell_type": "markdown",
   "id": "34c040cb",
   "metadata": {},
   "source": [
    "# Profils lignes, profils colonnes\n",
    "\n",
    "On va maintenant calculer les profils lignes et colonnes.\n",
    "\n",
    " <span>&#9757;</span> Créer 2 variables `media` et `prof` avec les effectifs marginaux."
   ]
  },
  {
   "cell_type": "code",
   "execution_count": 12,
   "id": "93808704-1361-4f85-8d57-a989cfc62756",
   "metadata": {},
   "outputs": [
    {
     "data": {
      "text/plain": [
       "array([3297, 3969,  438, 1667, 1303, 1714], dtype=int64)"
      ]
     },
     "execution_count": 12,
     "metadata": {},
     "output_type": "execute_result"
    }
   ],
   "source": [
    "media = np.sum(df.values, axis=0)\n",
    "media"
   ]
  },
  {
   "cell_type": "code",
   "execution_count": 13,
   "id": "87489050-6251-4649-838a-6dc61bffe11a",
   "metadata": {},
   "outputs": [
    {
     "data": {
      "text/plain": [
       "array([ 354,  435,  696, 1258, 1856, 1382,  545, 5862], dtype=int64)"
      ]
     },
     "execution_count": 13,
     "metadata": {},
     "output_type": "execute_result"
    }
   ],
   "source": [
    "prof = np.sum(df.values, axis=1)\n",
    "prof"
   ]
  },
  {
   "cell_type": "code",
   "execution_count": 14,
   "id": "2f69cfee-da95-4ccd-bf9c-e91a6ad14619",
   "metadata": {},
   "outputs": [
    {
     "name": "stdout",
     "output_type": "stream",
     "text": [
      "(6,)\n",
      "(8,)\n"
     ]
    }
   ],
   "source": [
    "print(media.shape)\n",
    "print(prof.shape)"
   ]
  },
  {
   "cell_type": "markdown",
   "id": "09b4b59d",
   "metadata": {},
   "source": [
    "Attention, verifiez bien que vous n'avez pas inversé les 2 en regardant leurs dimensions.\n",
    "\n",
    " <span>&#9757;</span> Créer, à l'aide d'une double boucle for par exemple, les tableaux des profils lignes `profil_row` et des profils colonnes `profil_col`."
   ]
  },
  {
   "cell_type": "code",
   "execution_count": 15,
   "id": "9bb85d41-8310-4260-af30-5c1eb47d692a",
   "metadata": {},
   "outputs": [
    {
     "data": {
      "text/plain": [
       "array([[0.02911738, 0.02973041, 0.00456621, 0.04259148, 0.03837299,\n",
       "        0.00991832],\n",
       "       [0.03700334, 0.03426556, 0.02511416, 0.04559088, 0.03760553,\n",
       "        0.02392065],\n",
       "       [0.05853806, 0.04635928, 0.16894977, 0.03779244, 0.07904835,\n",
       "        0.04609102],\n",
       "       [0.10919017, 0.09196271, 0.14383562, 0.0869826 , 0.10821182,\n",
       "        0.10735123],\n",
       "       [0.15498938, 0.14940791, 0.13013699, 0.13017397, 0.13200307,\n",
       "        0.17852975],\n",
       "       [0.11677282, 0.11514235, 0.09589041, 0.10437912, 0.07981581,\n",
       "        0.12835473],\n",
       "       [0.04731574, 0.04661124, 0.01826484, 0.04139172, 0.03223331,\n",
       "        0.0495916 ],\n",
       "       [0.4470731 , 0.48652053, 0.41324201, 0.51109778, 0.49270913,\n",
       "        0.45624271]])"
      ]
     },
     "execution_count": 15,
     "metadata": {},
     "output_type": "execute_result"
    }
   ],
   "source": [
    "profil_col=np.zeros((I,J))\n",
    "\n",
    "for i in range(I):\n",
    "    for j in range(J):\n",
    "        profil_col[i,j]=tab[i,j]/media[j]\n",
    "        \n",
    "profil_col"
   ]
  },
  {
   "cell_type": "code",
   "execution_count": 16,
   "id": "b5d1329b-692c-4175-96f8-1a73504eb695",
   "metadata": {},
   "outputs": [
    {
     "data": {
      "text/plain": [
       "array([[0.27118644, 0.33333333, 0.00564972, 0.20056497, 0.14124294,\n",
       "        0.0480226 ],\n",
       "       [0.28045977, 0.31264368, 0.02528736, 0.17471264, 0.11264368,\n",
       "        0.09425287],\n",
       "       [0.27729885, 0.26436782, 0.10632184, 0.09051724, 0.14798851,\n",
       "        0.11350575],\n",
       "       [0.28616852, 0.29014308, 0.05007949, 0.11526232, 0.11208267,\n",
       "        0.14626391],\n",
       "       [0.27532328, 0.31950431, 0.03071121, 0.1169181 , 0.09267241,\n",
       "        0.16487069],\n",
       "       [0.27858177, 0.33068017, 0.03039074, 0.12590449, 0.07525326,\n",
       "        0.15918958],\n",
       "       [0.28623853, 0.33944954, 0.0146789 , 0.1266055 , 0.07706422,\n",
       "        0.1559633 ],\n",
       "       [0.25145002, 0.32940976, 0.03087683, 0.14534289, 0.10951894,\n",
       "        0.13340157]])"
      ]
     },
     "execution_count": 16,
     "metadata": {},
     "output_type": "execute_result"
    }
   ],
   "source": [
    "profil_row=np.zeros((I,J))\n",
    "\n",
    "for i in range(I):\n",
    "    for j in range(J):\n",
    "        profil_row[i,j]=tab[i,j]/prof[i]\n",
    "        \n",
    "profil_row"
   ]
  },
  {
   "cell_type": "markdown",
   "id": "9fdc6aa3",
   "metadata": {},
   "source": [
    "On peut vérifier que nos profils somment bien à 1:"
   ]
  },
  {
   "cell_type": "code",
   "execution_count": 17,
   "id": "7075a0a6",
   "metadata": {},
   "outputs": [
    {
     "name": "stdout",
     "output_type": "stream",
     "text": [
      "[1. 1. 1. 1. 1. 1. 1. 1.]\n",
      "[1. 1. 1. 1. 1. 1.]\n"
     ]
    }
   ],
   "source": [
    "print(np.sum(profil_row,axis=1))\n",
    "print(np.sum(profil_col,axis=0))"
   ]
  },
  {
   "cell_type": "markdown",
   "id": "d1370e25",
   "metadata": {},
   "source": [
    "Pour les visualiser, on utilise:"
   ]
  },
  {
   "cell_type": "code",
   "execution_count": 18,
   "id": "f03e4e58",
   "metadata": {},
   "outputs": [],
   "source": [
    "import matplotlib.pyplot as plot"
   ]
  },
  {
   "cell_type": "code",
   "execution_count": 19,
   "id": "40b2ad46",
   "metadata": {},
   "outputs": [
    {
     "data": {
      "text/html": [
       "<div>\n",
       "<style scoped>\n",
       "    .dataframe tbody tr th:only-of-type {\n",
       "        vertical-align: middle;\n",
       "    }\n",
       "\n",
       "    .dataframe tbody tr th {\n",
       "        vertical-align: top;\n",
       "    }\n",
       "\n",
       "    .dataframe thead th {\n",
       "        text-align: right;\n",
       "    }\n",
       "</style>\n",
       "<table border=\"1\" class=\"dataframe\">\n",
       "  <thead>\n",
       "    <tr style=\"text-align: right;\">\n",
       "      <th></th>\n",
       "      <th>Radio</th>\n",
       "      <th>Tel.</th>\n",
       "      <th>Quot.Nat.</th>\n",
       "      <th>Quot.Reg.</th>\n",
       "      <th>Press.Mag.</th>\n",
       "      <th>Press.TV</th>\n",
       "    </tr>\n",
       "    <tr>\n",
       "      <th>Prof</th>\n",
       "      <th></th>\n",
       "      <th></th>\n",
       "      <th></th>\n",
       "      <th></th>\n",
       "      <th></th>\n",
       "      <th></th>\n",
       "    </tr>\n",
       "  </thead>\n",
       "  <tbody>\n",
       "    <tr>\n",
       "      <th>Agriculteur</th>\n",
       "      <td>0.271186</td>\n",
       "      <td>0.333333</td>\n",
       "      <td>0.005650</td>\n",
       "      <td>0.200565</td>\n",
       "      <td>0.141243</td>\n",
       "      <td>0.048023</td>\n",
       "    </tr>\n",
       "    <tr>\n",
       "      <th>Petit.Patr.</th>\n",
       "      <td>0.280460</td>\n",
       "      <td>0.312644</td>\n",
       "      <td>0.025287</td>\n",
       "      <td>0.174713</td>\n",
       "      <td>0.112644</td>\n",
       "      <td>0.094253</td>\n",
       "    </tr>\n",
       "    <tr>\n",
       "      <th>Prof.Cad.Sup</th>\n",
       "      <td>0.277299</td>\n",
       "      <td>0.264368</td>\n",
       "      <td>0.106322</td>\n",
       "      <td>0.090517</td>\n",
       "      <td>0.147989</td>\n",
       "      <td>0.113506</td>\n",
       "    </tr>\n",
       "    <tr>\n",
       "      <th>Prof.Int.</th>\n",
       "      <td>0.286169</td>\n",
       "      <td>0.290143</td>\n",
       "      <td>0.050079</td>\n",
       "      <td>0.115262</td>\n",
       "      <td>0.112083</td>\n",
       "      <td>0.146264</td>\n",
       "    </tr>\n",
       "    <tr>\n",
       "      <th>Employe</th>\n",
       "      <td>0.275323</td>\n",
       "      <td>0.319504</td>\n",
       "      <td>0.030711</td>\n",
       "      <td>0.116918</td>\n",
       "      <td>0.092672</td>\n",
       "      <td>0.164871</td>\n",
       "    </tr>\n",
       "    <tr>\n",
       "      <th>Ouvr.Qualif.</th>\n",
       "      <td>0.278582</td>\n",
       "      <td>0.330680</td>\n",
       "      <td>0.030391</td>\n",
       "      <td>0.125904</td>\n",
       "      <td>0.075253</td>\n",
       "      <td>0.159190</td>\n",
       "    </tr>\n",
       "    <tr>\n",
       "      <th>Ouvr.Non-Qual.</th>\n",
       "      <td>0.286239</td>\n",
       "      <td>0.339450</td>\n",
       "      <td>0.014679</td>\n",
       "      <td>0.126606</td>\n",
       "      <td>0.077064</td>\n",
       "      <td>0.155963</td>\n",
       "    </tr>\n",
       "    <tr>\n",
       "      <th>Inactif</th>\n",
       "      <td>0.251450</td>\n",
       "      <td>0.329410</td>\n",
       "      <td>0.030877</td>\n",
       "      <td>0.145343</td>\n",
       "      <td>0.109519</td>\n",
       "      <td>0.133402</td>\n",
       "    </tr>\n",
       "  </tbody>\n",
       "</table>\n",
       "</div>"
      ],
      "text/plain": [
       "                   Radio      Tel.  Quot.Nat.  Quot.Reg.  Press.Mag.  Press.TV\n",
       "Prof                                                                          \n",
       "Agriculteur     0.271186  0.333333   0.005650   0.200565    0.141243  0.048023\n",
       "Petit.Patr.     0.280460  0.312644   0.025287   0.174713    0.112644  0.094253\n",
       "Prof.Cad.Sup    0.277299  0.264368   0.106322   0.090517    0.147989  0.113506\n",
       "Prof.Int.       0.286169  0.290143   0.050079   0.115262    0.112083  0.146264\n",
       "Employe         0.275323  0.319504   0.030711   0.116918    0.092672  0.164871\n",
       "Ouvr.Qualif.    0.278582  0.330680   0.030391   0.125904    0.075253  0.159190\n",
       "Ouvr.Non-Qual.  0.286239  0.339450   0.014679   0.126606    0.077064  0.155963\n",
       "Inactif         0.251450  0.329410   0.030877   0.145343    0.109519  0.133402"
      ]
     },
     "execution_count": 19,
     "metadata": {},
     "output_type": "execute_result"
    }
   ],
   "source": [
    "df_profil_row=pd.DataFrame(profil_row,index=df.index,columns=df.columns)\n",
    "df_profil_row"
   ]
  },
  {
   "cell_type": "code",
   "execution_count": 20,
   "id": "db30444d",
   "metadata": {},
   "outputs": [
    {
     "data": {
      "text/plain": [
       "<AxesSubplot:ylabel='Prof'>"
      ]
     },
     "execution_count": 20,
     "metadata": {},
     "output_type": "execute_result"
    },
    {
     "data": {
      "image/png": "[encoded data removed]",
      "text/plain": [
       "<Figure size 432x288 with 1 Axes>"
      ]
     },
     "metadata": {
      "needs_background": "light"
     },
     "output_type": "display_data"
    }
   ],
   "source": [
    "df_profil_row.plot.barh(stacked=True, edgecolor='none')"
   ]
  },
  {
   "cell_type": "code",
   "execution_count": 21,
   "id": "9349cb77",
   "metadata": {},
   "outputs": [
    {
     "data": {
      "text/plain": [
       "<AxesSubplot:>"
      ]
     },
     "execution_count": 21,
     "metadata": {},
     "output_type": "execute_result"
    },
    {
     "data": {
      "image/png": "[encoded data removed]",
      "text/plain": [
       "<Figure size 432x288 with 1 Axes>"
      ]
     },
     "metadata": {
      "needs_background": "light"
     },
     "output_type": "display_data"
    }
   ],
   "source": [
    "pd.DataFrame(profil_col.T,index=df.columns,columns=df.index).plot.barh(stacked=True, edgecolor='none')"
   ]
  },
  {
   "cell_type": "markdown",
   "id": "dacfe55e",
   "metadata": {},
   "source": [
    "# AFC avec la classe CA\n",
    "\n",
    "## Instanciation\n",
    "\n",
    "On crée une instance de la classe `CA`, en lui précisant les étiquettes des lignes et des colonnes puis on applique le modèle à nos données en utilisant `fit` sur notre tableau. Ce tableau doit être un tableau de contingence, au format numpy.array."
   ]
  },
  {
   "cell_type": "code",
   "execution_count": 22,
   "id": "a0fad759",
   "metadata": {},
   "outputs": [],
   "source": [
    "from fanalysis.ca import CA"
   ]
  },
  {
   "cell_type": "code",
   "execution_count": 23,
   "id": "367a5054",
   "metadata": {},
   "outputs": [
    {
     "data": {
      "text/plain": [
       "CA(col_labels=array(['Radio', 'Tel.', 'Quot.Nat.', 'Quot.Reg.', 'Press.Mag.',\n",
       "       'Press.TV'], dtype=object),\n",
       "   row_labels=array(['Agriculteur', 'Petit.Patr.', 'Prof.Cad.Sup', 'Prof.Int.',\n",
       "       'Employe', 'Ouvr.Qualif.', 'Ouvr.Non-Qual.', 'Inactif'],\n",
       "      dtype=object))"
      ]
     },
     "execution_count": 23,
     "metadata": {},
     "output_type": "execute_result"
    }
   ],
   "source": [
    "df_afc = CA(row_labels=df.index.values, col_labels=df.columns.values)\n",
    "df_afc.fit(tab)"
   ]
  },
  {
   "cell_type": "markdown",
   "id": "d11affcb",
   "metadata": {},
   "source": [
    "On peut comme argument à CA le nombres d'axes à garder en précisant: `n_components=`. Pour l'instant on préfère ne pas le faire."
   ]
  },
  {
   "cell_type": "markdown",
   "id": "db0b71eb",
   "metadata": {},
   "source": [
    "Cette méthode `df_afc.fit(df.values)` contient notamment les attributs suivants:\n",
    "- `df_afc.eig_` donne les valeurs propres, les pourcentages d'inertie expliquée et les pourcentages cumulés.\n",
    "- `df_afc.row_coord_` donne les coordonnées des points lignes selon les axes factoriels\n",
    "- `df_afc.col_coord_` donne les coordonnées des points colonnes selon les axes factoriels\n"
   ]
  },
  {
   "cell_type": "markdown",
   "id": "89a6c155",
   "metadata": {},
   "source": [
    "## Valeurs propres"
   ]
  },
  {
   "cell_type": "code",
   "execution_count": 24,
   "id": "6094c79f",
   "metadata": {},
   "outputs": [
    {
     "data": {
      "text/plain": [
       "array([[1.38572868e-02, 7.21068498e-03, 8.24731391e-04, 3.03851641e-04,\n",
       "        8.26930155e-05],\n",
       "       [6.21981806e+01, 3.23650288e+01, 3.70179190e+00, 1.36383258e+00,\n",
       "        3.71166101e-01],\n",
       "       [6.21981806e+01, 9.45632094e+01, 9.82650013e+01, 9.96288339e+01,\n",
       "        1.00000000e+02]])"
      ]
     },
     "execution_count": 24,
     "metadata": {},
     "output_type": "execute_result"
    }
   ],
   "source": [
    "df_afc.eig_ \n",
    "#df_afc.eig_[0] juste pour les valeurs propres"
   ]
  },
  {
   "cell_type": "markdown",
   "id": "1e00261c",
   "metadata": {},
   "source": [
    "<span>&#9999;</span> Combien y a-t-il de valeurs propres? Est-ce cohérent?\n",
    "\n",
    "- 5 valeurs propres. Le nombre de valeurs propres est égal au minimum entre I-1 et J-1, On n'a J-1 valeurs propres donc c'est cohérent."
   ]
  },
  {
   "cell_type": "markdown",
   "id": "1145765d",
   "metadata": {},
   "source": [
    "<span>&#9999;</span> Combien valent les deux premières valeurs propres?\n",
    "\n",
    "- 1.38572868e-02, 7.21068498e-03,"
   ]
  },
  {
   "cell_type": "markdown",
   "id": "0803ebaa",
   "metadata": {},
   "source": [
    "<span>&#9757;</span> Retrouver la valeur de l'inertie."
   ]
  },
  {
   "cell_type": "code",
   "execution_count": 25,
   "id": "d9f810bf-dca3-47fa-a9e6-23cf67f8e87c",
   "metadata": {},
   "outputs": [
    {
     "data": {
      "text/plain": [
       "0.022279247839994784"
      ]
     },
     "execution_count": 25,
     "metadata": {},
     "output_type": "execute_result"
    }
   ],
   "source": [
    "Inert= sum(df_afc.eig_[0])\n",
    "Inert"
   ]
  },
  {
   "cell_type": "markdown",
   "id": "cecf9898",
   "metadata": {},
   "source": [
    "On peut tracer les valeurs propres grâce à la fonction suivante (même pas besoin de lex extraire nous même, et oui c'est pratique quand quelqu'un crée un package sur mesure!):"
   ]
  },
  {
   "cell_type": "code",
   "execution_count": 26,
   "id": "2740cf25",
   "metadata": {},
   "outputs": [
    {
     "data": {
      "image/png": "[encoded data removed]",
      "text/plain": [
       "<Figure size 432x288 with 1 Axes>"
      ]
     },
     "metadata": {
      "needs_background": "light"
     },
     "output_type": "display_data"
    }
   ],
   "source": [
    "df_afc.plot_eigenvalues()"
   ]
  },
  {
   "cell_type": "markdown",
   "id": "f0aae897",
   "metadata": {},
   "source": [
    "Vous pouvez aussi tracer les pourcentages ou les pourcentafes cumulés à l'aide des commandes suivantes:"
   ]
  },
  {
   "cell_type": "code",
   "execution_count": 27,
   "id": "11103f10",
   "metadata": {},
   "outputs": [
    {
     "data": {
      "image/png": "[encoded data removed]",
      "text/plain": [
       "<Figure size 432x288 with 1 Axes>"
      ]
     },
     "metadata": {
      "needs_background": "light"
     },
     "output_type": "display_data"
    }
   ],
   "source": [
    "df_afc.plot_eigenvalues(type=\"percentage\")\n"
   ]
  },
  {
   "cell_type": "code",
   "execution_count": 28,
   "id": "92bdb2a9",
   "metadata": {},
   "outputs": [
    {
     "data": {
      "image/png": "[encoded data removed]",
      "text/plain": [
       "<Figure size 432x288 with 1 Axes>"
      ]
     },
     "metadata": {
      "needs_background": "light"
     },
     "output_type": "display_data"
    }
   ],
   "source": [
    "df_afc.plot_eigenvalues(type=\"cumulative\")"
   ]
  },
  {
   "cell_type": "markdown",
   "id": "821c0701",
   "metadata": {},
   "source": [
    "<span>&#9999;</span> Quel est le pourcentage expliqué par les 2 premiers axes? Combien d'axes faut-il garder d'après vous? \n",
    "\n",
    "- le pourcentage expliqué par les 2 premiers axes est 94,56 % donc ont peut garder les deux premiers axes"
   ]
  },
  {
   "cell_type": "markdown",
   "id": "ec33ec69",
   "metadata": {},
   "source": [
    "## Nouvelles coordonnées des poins lignes et colonnes\n",
    "\n",
    "On rappelle que l'AFC voit les profils lignes et les profils colonnes comme des points dans un espace à plusieurs dimensions. Le but d'en extraire des représentations graphiques dans un (ou plusieurs) plan factoriel.\n"
   ]
  },
  {
   "cell_type": "code",
   "execution_count": 29,
   "id": "7eb98a19",
   "metadata": {},
   "outputs": [
    {
     "data": {
      "text/plain": [
       "array([[ 0.16614986,  0.30961174, -0.07183812, -0.01443258,  0.02144011],\n",
       "       [ 0.06837709,  0.14315064, -0.0644217 ,  0.02037032, -0.02568674],\n",
       "       [-0.42997558,  0.06087258, -0.00302124,  0.01681116,  0.01123318],\n",
       "       [-0.10660251, -0.03259679, -0.03089814, -0.02533304, -0.01195531],\n",
       "       [ 0.01572857, -0.09546893, -0.00508681, -0.02029446,  0.00346168],\n",
       "       [ 0.04371252, -0.1013786 , -0.01932335,  0.03541129, -0.00173011],\n",
       "       [ 0.11779685, -0.09486419, -0.03972798,  0.00349309,  0.02248439],\n",
       "       [ 0.0325837 ,  0.03339524,  0.02596802,  0.00055285, -0.00093525]])"
      ]
     },
     "execution_count": 29,
     "metadata": {},
     "output_type": "execute_result"
    }
   ],
   "source": [
    "df_afc.row_coord_"
   ]
  },
  {
   "cell_type": "code",
   "execution_count": 30,
   "id": "67c83867",
   "metadata": {},
   "outputs": [
    {
     "data": {
      "text/plain": [
       "array([[-0.01494022, -0.02210596, -0.04670175, -0.00266194,  0.00068016],\n",
       "       [ 0.05328288, -0.002081  ,  0.01645288,  0.0112183 ,  0.00985007],\n",
       "       [-0.54067502,  0.00620677,  0.02054203,  0.03952278, -0.00661745],\n",
       "       [ 0.10882837,  0.10964537,  0.00522829,  0.01304161, -0.01656044],\n",
       "       [-0.09481257,  0.13249659,  0.01875847, -0.03830946,  0.0037189 ],\n",
       "       [ 0.00975363, -0.16160888,  0.02714057, -0.01451757, -0.00914728]])"
      ]
     },
     "execution_count": 30,
     "metadata": {},
     "output_type": "execute_result"
    }
   ],
   "source": [
    "df_afc.col_coord_"
   ]
  },
  {
   "cell_type": "markdown",
   "id": "a67adceb",
   "metadata": {},
   "source": [
    "On n'a pas vraiment besoin de ces fonctions car le package fanalysis nous fournit un outil pour faire la representation graphique directement (cf ci dessous)."
   ]
  },
  {
   "cell_type": "markdown",
   "id": "cc5d8d55",
   "metadata": {},
   "source": [
    "## Contributions et qualités\n",
    "\n",
    "Lors de l'instanciation de l'AFC, d'autres quantités interessantes ont été automatiquement calculées telles que: \n",
    "* `df_afc.row_contrib_` : contributions des profils (ou modalités) lignes à l'inertie de l'axe\n",
    "* `df_afc.col_contrib_` : contributions des profils (ou modalités) colonnes à l'inertie de l'axe\n",
    "* `df_afc.row_cos2_` : qualités (dites cosinus carrés) des points lignes\n",
    "* `df_afc.col_cos2_` : qualités (dites cosinus carrés) des points colonnes\n",
    "\n",
    "*Remarque:* Si l'on avait souhaité éviter le calcul de ces quantités pour gagner du temps et économiser des ressources mémoire, il aurait fallu préciser `stats=False` en argument de `CA`."
   ]
  },
  {
   "cell_type": "markdown",
   "id": "d4f97839",
   "metadata": {},
   "source": [
    "# Représentations graphiques et interpretations\n",
    "\n",
    "## Représentations graphiques\n",
    "\n",
    "On utilise les coordonnées obtenues précédemment pour représenter sur un même plan nos poinst lignes et colonnes grâce à la fonction `mapping`. On précise en paramètres quels sont les axes que l'on souhaite représeter."
   ]
  },
  {
   "cell_type": "code",
   "execution_count": 31,
   "id": "8b52f8a2",
   "metadata": {},
   "outputs": [
    {
     "data": {
      "image/png": "[encoded data removed]",
      "text/plain": [
       "<Figure size 720x576 with 1 Axes>"
      ]
     },
     "metadata": {
      "needs_background": "light"
     },
     "output_type": "display_data"
    }
   ],
   "source": [
    "df_afc.mapping(num_x_axis=1, num_y_axis=2,figsize=(10, 8))"
   ]
  },
  {
   "cell_type": "markdown",
   "id": "487f275a",
   "metadata": {},
   "source": [
    "Si on ne souhaite que les points lignes on utilise la commande suivante:"
   ]
  },
  {
   "cell_type": "code",
   "execution_count": 32,
   "id": "6cf9ee26",
   "metadata": {},
   "outputs": [
    {
     "data": {
      "image/png": "[encoded data removed]",
      "text/plain": [
       "<Figure size 432x288 with 1 Axes>"
      ]
     },
     "metadata": {
      "needs_background": "light"
     },
     "output_type": "display_data"
    }
   ],
   "source": [
    "df_afc.mapping_row(num_x_axis=1, num_y_axis=2)"
   ]
  },
  {
   "cell_type": "markdown",
   "id": "a869eab0",
   "metadata": {},
   "source": [
    "<span>&#9757;</span> Afficher uniquement les points colonnes"
   ]
  },
  {
   "cell_type": "code",
   "execution_count": 33,
   "id": "ce7aae97-9349-4d55-a9c4-6acb3d6e4c74",
   "metadata": {},
   "outputs": [
    {
     "data": {
      "image/png": "[encoded data removed]",
      "text/plain": [
       "<Figure size 432x288 with 1 Axes>"
      ]
     },
     "metadata": {
      "needs_background": "light"
     },
     "output_type": "display_data"
    }
   ],
   "source": [
    "df_afc.mapping_col(num_x_axis=1, num_y_axis=2)"
   ]
  },
  {
   "cell_type": "markdown",
   "id": "5707a1d4",
   "metadata": {},
   "source": [
    "<span>&#9757;</span> Afficher les points lignes et colonnes dans le plan constitué du premier et du troisième axe."
   ]
  },
  {
   "cell_type": "code",
   "execution_count": 34,
   "id": "1bc11c5d-31a2-4a8e-8786-ca87f16fb805",
   "metadata": {},
   "outputs": [
    {
     "data": {
      "image/png": "[encoded data removed]",
      "text/plain": [
       "<Figure size 720x576 with 1 Axes>"
      ]
     },
     "metadata": {
      "needs_background": "light"
     },
     "output_type": "display_data"
    }
   ],
   "source": [
    "df_afc.mapping(num_x_axis=1, num_y_axis=3,figsize=(10, 8))"
   ]
  },
  {
   "cell_type": "markdown",
   "id": "42785c25",
   "metadata": {},
   "source": [
    "## Interprétation\n",
    "\n",
    "Pour interpréter les axes, on va utiliser les qualités et les contributions. Encore une fois, le package fanalysis nous fournit tous les graphiques dont nous avons besoin sans effort. La commande suivante permet de visualiser rapidement les contributions des points lignes au premier axe puis de vérifier leurs qualités de représentations."
   ]
  },
  {
   "cell_type": "code",
   "execution_count": 35,
   "id": "26ca471a",
   "metadata": {},
   "outputs": [
    {
     "data": {
      "image/png": "[encoded data removed]",
      "text/plain": [
       "<Figure size 432x288 with 1 Axes>"
      ]
     },
     "metadata": {
      "needs_background": "light"
     },
     "output_type": "display_data"
    }
   ],
   "source": [
    "df_afc.plot_row_contrib(num_axis=1)"
   ]
  },
  {
   "cell_type": "code",
   "execution_count": 36,
   "id": "44c74e6a",
   "metadata": {},
   "outputs": [
    {
     "data": {
      "image/png": "[encoded data removed]",
      "text/plain": [
       "<Figure size 432x288 with 1 Axes>"
      ]
     },
     "metadata": {
      "needs_background": "light"
     },
     "output_type": "display_data"
    }
   ],
   "source": [
    "df_afc.plot_row_cos2(num_axis=1)"
   ]
  },
  {
   "cell_type": "markdown",
   "id": "2d8f1f31",
   "metadata": {},
   "source": [
    "<span>&#9757;</span> Afficher les contributions des points colonnes au premier axe, et leurs qualités."
   ]
  },
  {
   "cell_type": "code",
   "execution_count": 37,
   "id": "bf7aa3f8-7d91-475f-9bf3-454cb195a84e",
   "metadata": {},
   "outputs": [
    {
     "data": {
      "image/png": "[encoded data removed]",
      "text/plain": [
       "<Figure size 432x288 with 1 Axes>"
      ]
     },
     "metadata": {
      "needs_background": "light"
     },
     "output_type": "display_data"
    }
   ],
   "source": [
    "df_afc.plot_col_contrib(num_axis=1)"
   ]
  },
  {
   "cell_type": "code",
   "execution_count": 38,
   "id": "f4d8655e-bb63-4fbc-9978-3a5392bff498",
   "metadata": {},
   "outputs": [
    {
     "data": {
      "image/png": "[encoded data removed]",
      "text/plain": [
       "<Figure size 432x288 with 1 Axes>"
      ]
     },
     "metadata": {
      "needs_background": "light"
     },
     "output_type": "display_data"
    }
   ],
   "source": [
    "df_afc.plot_col_cos2(num_axis=1)"
   ]
  },
  {
   "cell_type": "markdown",
   "id": "8ed58276",
   "metadata": {},
   "source": [
    "<span>&#9999;</span> Interpréter, si possible, le premier axe.\n",
    "\n",
    "- En profil ligne la modalité Prof.cad.sup contribue le plus à la représentation du premier axe et il à une bonne qualité de représentation\n",
    "\n",
    "- En profil colonne la modalité Quot_nat contribue le plus à la représentiation du premier axe et de plus il est bien représenté\n"
   ]
  },
  {
   "cell_type": "markdown",
   "id": "336b6fde",
   "metadata": {},
   "source": [
    "<span>&#9757;</span> Afficher les contributions des points lignes au deuxieme axe et leurs qualités.."
   ]
  },
  {
   "cell_type": "code",
   "execution_count": 39,
   "id": "2798f08c-e19a-4525-837b-318aaf28554d",
   "metadata": {},
   "outputs": [
    {
     "data": {
      "image/png": "[encoded data removed]",
      "text/plain": [
       "<Figure size 432x288 with 1 Axes>"
      ]
     },
     "metadata": {
      "needs_background": "light"
     },
     "output_type": "display_data"
    }
   ],
   "source": [
    "df_afc.plot_row_contrib(num_axis=2)"
   ]
  },
  {
   "cell_type": "code",
   "execution_count": 40,
   "id": "ad2b4b17-d93c-40ab-8c1d-0a791f153511",
   "metadata": {},
   "outputs": [
    {
     "data": {
      "image/png": "[encoded data removed]",
      "text/plain": [
       "<Figure size 432x288 with 1 Axes>"
      ]
     },
     "metadata": {
      "needs_background": "light"
     },
     "output_type": "display_data"
    }
   ],
   "source": [
    "df_afc.plot_row_cos2(num_axis=2)"
   ]
  },
  {
   "cell_type": "markdown",
   "id": "f82b5311",
   "metadata": {},
   "source": [
    "<span>&#9757;</span> Afficher les contributions des points colonnes au deuxieme axe et leurs qualités."
   ]
  },
  {
   "cell_type": "code",
   "execution_count": 41,
   "id": "a6d7e48d-01dc-430e-92eb-1186a8ba5bf3",
   "metadata": {},
   "outputs": [
    {
     "data": {
      "image/png": "[encoded data removed]",
      "text/plain": [
       "<Figure size 432x288 with 1 Axes>"
      ]
     },
     "metadata": {
      "needs_background": "light"
     },
     "output_type": "display_data"
    }
   ],
   "source": [
    "df_afc.plot_col_contrib(num_axis=2)"
   ]
  },
  {
   "cell_type": "code",
   "execution_count": 42,
   "id": "77819f7a-d8be-4039-aed2-81a48641b9fb",
   "metadata": {},
   "outputs": [
    {
     "data": {
      "image/png": "[encoded data removed]",
      "text/plain": [
       "<Figure size 432x288 with 1 Axes>"
      ]
     },
     "metadata": {
      "needs_background": "light"
     },
     "output_type": "display_data"
    }
   ],
   "source": [
    "df_afc.plot_col_cos2(num_axis=2)"
   ]
  },
  {
   "cell_type": "markdown",
   "id": "444aa4dc",
   "metadata": {},
   "source": [
    "<span>&#9999;</span> Interpréter, si possible, le deuxieme axe.\n",
    "\n",
    "- En profil ligne la modalité Agriculteur contribue le plus à la représentiation du deuxième axe mais il n'est pas très bien représenté. Mais la modalité Employé et ouvrier qualifié peuvent expliqué est le plus bien représenté sur cet axe.\n",
    "- En profil colonne la modalité Press.TV contribue le plus à la représentation du deuxième axe et il à une bonne qualité de représentation\n"
   ]
  }
 ],
 "metadata": {
  "kernelspec": {
   "display_name": "Python 3 (ipykernel)",
   "language": "python",
   "name": "python3"
  },
  "language_info": {
   "codemirror_mode": {
    "name": "ipython",
    "version": 3
   },
   "file_extension": ".py",
   "mimetype": "text/x-python",
   "name": "python",
   "nbconvert_exporter": "python",
   "pygments_lexer": "ipython3",
   "version": "3.9.12"
  }
 },
 "nbformat": 4,
 "nbformat_minor": 5
}
