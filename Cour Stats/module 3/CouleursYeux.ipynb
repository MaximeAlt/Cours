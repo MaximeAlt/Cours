{
 "cells": [
  {
   "cell_type": "code",
   "execution_count": 124,
   "id": "20ba5f3b-105e-4d5b-97f8-4db8a62b3e58",
   "metadata": {},
   "outputs": [],
   "source": [
    "import pandas as pd\n",
    "import numpy as np \n",
    "from fanalysis.ca import CA\n",
    "import matplotlib.pyplot as plot\n",
    "from scipy.stats import chi2_contingency"
   ]
  },
  {
   "cell_type": "code",
   "execution_count": 121,
   "id": "3c0254e5-9d8a-4d4a-b353-777263f5e98a",
   "metadata": {},
   "outputs": [
    {
     "data": {
      "text/html": [
       "<div>\n",
       "<style scoped>\n",
       "    .dataframe tbody tr th:only-of-type {\n",
       "        vertical-align: middle;\n",
       "    }\n",
       "\n",
       "    .dataframe tbody tr th {\n",
       "        vertical-align: top;\n",
       "    }\n",
       "\n",
       "    .dataframe thead th {\n",
       "        text-align: right;\n",
       "    }\n",
       "</style>\n",
       "<table border=\"1\" class=\"dataframe\">\n",
       "  <thead>\n",
       "    <tr style=\"text-align: right;\">\n",
       "      <th></th>\n",
       "      <th>Brun</th>\n",
       "      <th>Chtain</th>\n",
       "      <th>Roux</th>\n",
       "      <th>Blond</th>\n",
       "      <th>Total</th>\n",
       "      <th>Chinoises</th>\n",
       "      <th>Suedoises</th>\n",
       "    </tr>\n",
       "    <tr>\n",
       "      <th>couleurYeux</th>\n",
       "      <th></th>\n",
       "      <th></th>\n",
       "      <th></th>\n",
       "      <th></th>\n",
       "      <th></th>\n",
       "      <th></th>\n",
       "      <th></th>\n",
       "    </tr>\n",
       "  </thead>\n",
       "  <tbody>\n",
       "    <tr>\n",
       "      <th>Marron</th>\n",
       "      <td>68</td>\n",
       "      <td>119</td>\n",
       "      <td>26</td>\n",
       "      <td>7</td>\n",
       "      <td>220</td>\n",
       "      <td>75</td>\n",
       "      <td>5</td>\n",
       "    </tr>\n",
       "    <tr>\n",
       "      <th>Noisette</th>\n",
       "      <td>15</td>\n",
       "      <td>54</td>\n",
       "      <td>14</td>\n",
       "      <td>10</td>\n",
       "      <td>93</td>\n",
       "      <td>20</td>\n",
       "      <td>10</td>\n",
       "    </tr>\n",
       "    <tr>\n",
       "      <th>Vert</th>\n",
       "      <td>5</td>\n",
       "      <td>29</td>\n",
       "      <td>14</td>\n",
       "      <td>16</td>\n",
       "      <td>64</td>\n",
       "      <td>5</td>\n",
       "      <td>20</td>\n",
       "    </tr>\n",
       "    <tr>\n",
       "      <th>Bleu</th>\n",
       "      <td>20</td>\n",
       "      <td>84</td>\n",
       "      <td>17</td>\n",
       "      <td>94</td>\n",
       "      <td>215</td>\n",
       "      <td>0</td>\n",
       "      <td>65</td>\n",
       "    </tr>\n",
       "    <tr>\n",
       "      <th>Total</th>\n",
       "      <td>108</td>\n",
       "      <td>286</td>\n",
       "      <td>71</td>\n",
       "      <td>127</td>\n",
       "      <td>592</td>\n",
       "      <td>100</td>\n",
       "      <td>100</td>\n",
       "    </tr>\n",
       "  </tbody>\n",
       "</table>\n",
       "</div>"
      ],
      "text/plain": [
       "             Brun  Chtain  Roux  Blond  Total  Chinoises  Suedoises\n",
       "couleurYeux                                                         \n",
       "Marron         68      119    26      7    220         75          5\n",
       "Noisette       15       54    14     10     93         20         10\n",
       "Vert            5       29    14     16     64          5         20\n",
       "Bleu           20       84    17     94    215          0         65\n",
       "Total         108      286    71    127    592        100        100"
      ]
     },
     "execution_count": 121,
     "metadata": {},
     "output_type": "execute_result"
    }
   ],
   "source": [
    "df = pd.read_csv(\"Couleur_des_yeux.csv\", encoding=\"latin\",sep = \";\" )\n",
    "df.rename(columns = {'Unnamed: 0' :\"couleurYeux\"}, inplace = True)\n",
    "df.set_index(['couleurYeux'], inplace = True)\n",
    "\n",
    "df"
   ]
  },
  {
   "cell_type": "code",
   "execution_count": 47,
   "id": "52310064-7efe-4722-8454-d2404422e391",
   "metadata": {},
   "outputs": [
    {
     "name": "stdout",
     "output_type": "stream",
     "text": [
      "             Brun  Chtain  Roux  Blond\n",
      "couleurYeux                            \n",
      "Marron         68      119    26      7\n",
      "Noisette       15       54    14     10\n",
      "Vert            5       29    14     16\n",
      "Bleu           20       84    17     94\n"
     ]
    }
   ],
   "source": [
    "X = df.iloc[0:4,0:4]\n",
    "print(X)\n",
    "tab = X.values"
   ]
  },
  {
   "cell_type": "code",
   "execution_count": 122,
   "id": "9911e316-8fa3-4c1d-a02b-889f2f0e588f",
   "metadata": {},
   "outputs": [
    {
     "name": "stdout",
     "output_type": "stream",
     "text": [
      "             Brun  Chtain  Roux  Blond  Chinoises  Suedoises\n",
      "couleurYeux                                                  \n",
      "Marron         68      119    26      7         75          5\n",
      "Noisette       15       54    14     10         20         10\n",
      "Vert            5       29    14     16          5         20\n",
      "Bleu           20       84    17     94          0         65\n"
     ]
    }
   ],
   "source": [
    "Y = df.drop(columns = \"Total\", inplace = True)\n",
    "Y = df.drop(index = \"Total\")\n",
    "print(Y)\n",
    "tab2 = Y.values"
   ]
  },
  {
   "cell_type": "code",
   "execution_count": 157,
   "id": "6047dcd5-0b6a-410b-b792-61952af1136b",
   "metadata": {},
   "outputs": [
    {
     "name": "stdout",
     "output_type": "stream",
     "text": [
      "             Suedoises\n",
      "couleurYeux           \n",
      "Marron               5\n",
      "Noisette            10\n",
      "Vert                20\n",
      "Bleu                65\n",
      "             Chinoises\n",
      "couleurYeux           \n",
      "Marron              75\n",
      "Noisette            20\n",
      "Vert                 5\n",
      "Bleu                 0\n"
     ]
    }
   ],
   "source": [
    "sued =df.iloc[:,5:].drop(\"Total\")\n",
    "print(sued)\n",
    "chine =df.iloc[:,4:5].drop(\"Total\")\n",
    "print(chine)"
   ]
  },
  {
   "cell_type": "code",
   "execution_count": 128,
   "id": "2d3d7052-14eb-40d5-9ec0-6ff6a6b87816",
   "metadata": {},
   "outputs": [
    {
     "data": {
      "text/plain": [
       "(138.28984162600824,\n",
       " 2.325286787098839e-25,\n",
       " 9,\n",
       " array([[ 40.13513514, 106.28378378,  26.38513514,  47.19594595],\n",
       "        [ 16.96621622,  44.92905405,  11.15371622,  19.95101351],\n",
       "        [ 11.67567568,  30.91891892,   7.67567568,  13.72972973],\n",
       "        [ 39.22297297, 103.86824324,  25.78547297,  46.12331081]]))"
      ]
     },
     "execution_count": 128,
     "metadata": {},
     "output_type": "execute_result"
    }
   ],
   "source": [
    "k2=chi2_contingency(X)\n",
    "k2"
   ]
  },
  {
   "cell_type": "code",
   "execution_count": 103,
   "id": "768266c0-ef8c-4eb2-b3bf-e04544eb5c45",
   "metadata": {},
   "outputs": [
    {
     "name": "stdout",
     "output_type": "stream",
     "text": [
      "couleurYeux\n",
      "Marron      220\n",
      "Noisette     93\n",
      "Vert         64\n",
      "Bleu        215\n",
      "dtype: int64 Brun       108\n",
      "Chtain    286\n",
      "Roux        71\n",
      "Blond      127\n",
      "dtype: int64\n"
     ]
    }
   ],
   "source": [
    "cy = np.sum(X, axis = 1)\n",
    "cc = np.sum(X, axis = 0)\n",
    "\n",
    "print(cy, cc)"
   ]
  },
  {
   "cell_type": "code",
   "execution_count": 58,
   "id": "d5caaa6b-7557-48d5-977d-9fd52b4a4396",
   "metadata": {},
   "outputs": [
    {
     "name": "stdout",
     "output_type": "stream",
     "text": [
      "(4,) (4,)\n"
     ]
    }
   ],
   "source": [
    "print(cc.shape, cy.shape)\n",
    "I = 4\n",
    "J = 4"
   ]
  },
  {
   "cell_type": "code",
   "execution_count": 69,
   "id": "41363a47-31af-4bbc-b26a-5eacee670e1d",
   "metadata": {},
   "outputs": [
    {
     "data": {
      "text/plain": [
       "array([[62.96296296, 41.60839161, 36.61971831,  5.51181102],\n",
       "       [13.88888889, 18.88111888, 19.71830986,  7.87401575],\n",
       "       [ 4.62962963, 10.13986014, 19.71830986, 12.5984252 ],\n",
       "       [18.51851852, 29.37062937, 23.94366197, 74.01574803]])"
      ]
     },
     "execution_count": 69,
     "metadata": {},
     "output_type": "execute_result"
    }
   ],
   "source": [
    "profil_col=np.zeros((4,4))\n",
    "\n",
    "for i in range(I):\n",
    "    for j in range(J):\n",
    "        profil_col[i,j]=tab[i,j]/cc[j]*100\n",
    "        \n",
    "profil_col"
   ]
  },
  {
   "cell_type": "code",
   "execution_count": 70,
   "id": "7efa034b-d605-455a-9efc-ef961d30fb8e",
   "metadata": {},
   "outputs": [
    {
     "data": {
      "text/plain": [
       "array([[30.90909091, 54.09090909, 11.81818182,  3.18181818],\n",
       "       [16.12903226, 58.06451613, 15.05376344, 10.75268817],\n",
       "       [ 7.8125    , 45.3125    , 21.875     , 25.        ],\n",
       "       [ 9.30232558, 39.06976744,  7.90697674, 43.72093023]])"
      ]
     },
     "execution_count": 70,
     "metadata": {},
     "output_type": "execute_result"
    }
   ],
   "source": [
    "profil_row=np.zeros((4,4))\n",
    "\n",
    "for i in range(I):\n",
    "    for j in range(J):\n",
    "        profil_row[i,j]=tab[i,j]/cy[i]*100\n",
    "        \n",
    "profil_row"
   ]
  },
  {
   "cell_type": "code",
   "execution_count": 71,
   "id": "83eb0d4f-d172-4a02-9dcb-56b788cfcbc3",
   "metadata": {},
   "outputs": [
    {
     "name": "stdout",
     "output_type": "stream",
     "text": [
      "[100. 100. 100. 100.]\n",
      "[100. 100. 100. 100.]\n"
     ]
    }
   ],
   "source": [
    "print(np.sum(profil_row,axis=1))\n",
    "print(np.sum(profil_col,axis=0))"
   ]
  },
  {
   "cell_type": "code",
   "execution_count": 72,
   "id": "58f1bf47-20a4-4b27-a7d2-03491f59eaa9",
   "metadata": {},
   "outputs": [
    {
     "data": {
      "text/html": [
       "<div>\n",
       "<style scoped>\n",
       "    .dataframe tbody tr th:only-of-type {\n",
       "        vertical-align: middle;\n",
       "    }\n",
       "\n",
       "    .dataframe tbody tr th {\n",
       "        vertical-align: top;\n",
       "    }\n",
       "\n",
       "    .dataframe thead th {\n",
       "        text-align: right;\n",
       "    }\n",
       "</style>\n",
       "<table border=\"1\" class=\"dataframe\">\n",
       "  <thead>\n",
       "    <tr style=\"text-align: right;\">\n",
       "      <th></th>\n",
       "      <th>Brun</th>\n",
       "      <th>Chtain</th>\n",
       "      <th>Roux</th>\n",
       "      <th>Blond</th>\n",
       "    </tr>\n",
       "    <tr>\n",
       "      <th>couleurYeux</th>\n",
       "      <th></th>\n",
       "      <th></th>\n",
       "      <th></th>\n",
       "      <th></th>\n",
       "    </tr>\n",
       "  </thead>\n",
       "  <tbody>\n",
       "    <tr>\n",
       "      <th>Marron</th>\n",
       "      <td>30.909091</td>\n",
       "      <td>54.090909</td>\n",
       "      <td>11.818182</td>\n",
       "      <td>3.181818</td>\n",
       "    </tr>\n",
       "    <tr>\n",
       "      <th>Noisette</th>\n",
       "      <td>16.129032</td>\n",
       "      <td>58.064516</td>\n",
       "      <td>15.053763</td>\n",
       "      <td>10.752688</td>\n",
       "    </tr>\n",
       "    <tr>\n",
       "      <th>Vert</th>\n",
       "      <td>7.812500</td>\n",
       "      <td>45.312500</td>\n",
       "      <td>21.875000</td>\n",
       "      <td>25.000000</td>\n",
       "    </tr>\n",
       "    <tr>\n",
       "      <th>Bleu</th>\n",
       "      <td>9.302326</td>\n",
       "      <td>39.069767</td>\n",
       "      <td>7.906977</td>\n",
       "      <td>43.720930</td>\n",
       "    </tr>\n",
       "  </tbody>\n",
       "</table>\n",
       "</div>"
      ],
      "text/plain": [
       "                  Brun    Chtain       Roux      Blond\n",
       "couleurYeux                                            \n",
       "Marron       30.909091  54.090909  11.818182   3.181818\n",
       "Noisette     16.129032  58.064516  15.053763  10.752688\n",
       "Vert          7.812500  45.312500  21.875000  25.000000\n",
       "Bleu          9.302326  39.069767   7.906977  43.720930"
      ]
     },
     "execution_count": 72,
     "metadata": {},
     "output_type": "execute_result"
    }
   ],
   "source": [
    "df_profil_row=pd.DataFrame(profil_row,index=X.index,columns=X.columns)\n",
    "df_profil_row"
   ]
  },
  {
   "cell_type": "code",
   "execution_count": 78,
   "id": "abc83b3a-b8f1-49fc-aaff-f3b882d97a6a",
   "metadata": {},
   "outputs": [
    {
     "data": {
      "text/html": [
       "<div>\n",
       "<style scoped>\n",
       "    .dataframe tbody tr th:only-of-type {\n",
       "        vertical-align: middle;\n",
       "    }\n",
       "\n",
       "    .dataframe tbody tr th {\n",
       "        vertical-align: top;\n",
       "    }\n",
       "\n",
       "    .dataframe thead th {\n",
       "        text-align: right;\n",
       "    }\n",
       "</style>\n",
       "<table border=\"1\" class=\"dataframe\">\n",
       "  <thead>\n",
       "    <tr style=\"text-align: right;\">\n",
       "      <th>couleurYeux</th>\n",
       "      <th>Marron</th>\n",
       "      <th>Noisette</th>\n",
       "      <th>Vert</th>\n",
       "      <th>Bleu</th>\n",
       "    </tr>\n",
       "  </thead>\n",
       "  <tbody>\n",
       "    <tr>\n",
       "      <th>Brun</th>\n",
       "      <td>62.962963</td>\n",
       "      <td>41.608392</td>\n",
       "      <td>36.619718</td>\n",
       "      <td>5.511811</td>\n",
       "    </tr>\n",
       "    <tr>\n",
       "      <th>Chtain</th>\n",
       "      <td>13.888889</td>\n",
       "      <td>18.881119</td>\n",
       "      <td>19.718310</td>\n",
       "      <td>7.874016</td>\n",
       "    </tr>\n",
       "    <tr>\n",
       "      <th>Roux</th>\n",
       "      <td>4.629630</td>\n",
       "      <td>10.139860</td>\n",
       "      <td>19.718310</td>\n",
       "      <td>12.598425</td>\n",
       "    </tr>\n",
       "    <tr>\n",
       "      <th>Blond</th>\n",
       "      <td>18.518519</td>\n",
       "      <td>29.370629</td>\n",
       "      <td>23.943662</td>\n",
       "      <td>74.015748</td>\n",
       "    </tr>\n",
       "  </tbody>\n",
       "</table>\n",
       "</div>"
      ],
      "text/plain": [
       "couleurYeux     Marron   Noisette       Vert       Bleu\n",
       "Brun         62.962963  41.608392  36.619718   5.511811\n",
       "Chtain      13.888889  18.881119  19.718310   7.874016\n",
       "Roux          4.629630  10.139860  19.718310  12.598425\n",
       "Blond        18.518519  29.370629  23.943662  74.015748"
      ]
     },
     "execution_count": 78,
     "metadata": {},
     "output_type": "execute_result"
    }
   ],
   "source": [
    "df_profil_col=pd.DataFrame(profil_col,index=X.columns,columns=X.index)\n",
    "df_profil_col"
   ]
  },
  {
   "cell_type": "code",
   "execution_count": 73,
   "id": "30476b2f-03ab-44fc-87d1-85b1fc8962d1",
   "metadata": {},
   "outputs": [
    {
     "data": {
      "text/plain": [
       "<AxesSubplot:ylabel='couleurYeux'>"
      ]
     },
     "execution_count": 73,
     "metadata": {},
     "output_type": "execute_result"
    },
    {
     "name": "stderr",
     "output_type": "stream",
     "text": [
      "C:\\ProgramData\\Anaconda3\\lib\\site-packages\\IPython\\core\\pylabtools.py:151: UserWarning: Glyph 137 (\\x89) missing from current font.\n",
      "  fig.canvas.print_figure(bytes_io, **kw)\n"
     ]
    },
    {
     "data": {
      "image/png": "[encoded data removed]",
      "text/plain": [
       "<Figure size 432x288 with 1 Axes>"
      ]
     },
     "metadata": {
      "needs_background": "light"
     },
     "output_type": "display_data"
    }
   ],
   "source": [
    "df_profil_row.plot.barh(stacked=True, edgecolor='none')"
   ]
  },
  {
   "cell_type": "code",
   "execution_count": 81,
   "id": "4fbff8c0-f660-4a65-a7c3-cc2881d7ca6c",
   "metadata": {},
   "outputs": [
    {
     "data": {
      "text/plain": [
       "<AxesSubplot:>"
      ]
     },
     "execution_count": 81,
     "metadata": {},
     "output_type": "execute_result"
    },
    {
     "name": "stderr",
     "output_type": "stream",
     "text": [
      "C:\\ProgramData\\Anaconda3\\lib\\site-packages\\IPython\\core\\pylabtools.py:151: UserWarning: Glyph 137 (\\x89) missing from current font.\n",
      "  fig.canvas.print_figure(bytes_io, **kw)\n"
     ]
    },
    {
     "data": {
      "image/png": "[encoded data removed]",
      "text/plain": [
       "<Figure size 432x288 with 1 Axes>"
      ]
     },
     "metadata": {
      "needs_background": "light"
     },
     "output_type": "display_data"
    }
   ],
   "source": [
    "pd.DataFrame(profil_col.T,index=X.columns,columns=X.index).plot.barh(stacked=True, edgecolor='none')"
   ]
  },
  {
   "cell_type": "code",
   "execution_count": 90,
   "id": "a6e83dc2-d744-4198-a482-166d432eb273",
   "metadata": {},
   "outputs": [
    {
     "data": {
      "text/plain": [
       "CA(col_labels=array(['Brun', 'Ch\\x89tain', 'Roux', 'Blond'], dtype=object),\n",
       "   row_labels=array(['Marron', 'Noisette', 'Vert', 'Bleu'], dtype=object))"
      ]
     },
     "execution_count": 90,
     "metadata": {},
     "output_type": "execute_result"
    }
   ],
   "source": [
    "df_afc = CA(row_labels=X.index.values, col_labels=X.columns.values)\n",
    "df_afc"
   ]
  },
  {
   "cell_type": "code",
   "execution_count": 91,
   "id": "40d46cd7-dd89-43a2-ba7f-18e7bbcc43e4",
   "metadata": {},
   "outputs": [
    {
     "data": {
      "text/plain": [
       "CA(col_labels=array(['Brun', 'Ch\\x89tain', 'Roux', 'Blond'], dtype=object),\n",
       "   row_labels=array(['Marron', 'Noisette', 'Vert', 'Bleu'], dtype=object))"
      ]
     },
     "execution_count": 91,
     "metadata": {},
     "output_type": "execute_result"
    }
   ],
   "source": [
    "df_afc.fit(tab)"
   ]
  },
  {
   "cell_type": "code",
   "execution_count": 92,
   "id": "2dbf0d33-ee17-4899-b25a-dc60dc027cc1",
   "metadata": {},
   "outputs": [
    {
     "data": {
      "image/png": "[encoded data removed]",
      "text/plain": [
       "<Figure size 432x288 with 1 Axes>"
      ]
     },
     "metadata": {
      "needs_background": "light"
     },
     "output_type": "display_data"
    }
   ],
   "source": [
    "df_afc.plot_eigenvalues(type=\"cumulative\")"
   ]
  },
  {
   "cell_type": "code",
   "execution_count": 141,
   "id": "30ca0787-2489-4315-a9da-e68c68a750b0",
   "metadata": {},
   "outputs": [
    {
     "data": {
      "text/plain": [
       "array([[-0.90727422,  0.92966487, -0.70679015]])"
      ]
     },
     "execution_count": 141,
     "metadata": {},
     "output_type": "execute_result"
    }
   ],
   "source": [
    "df_afc.transform([[75, 20, 5, 0]], 1)"
   ]
  },
  {
   "cell_type": "code",
   "execution_count": 192,
   "id": "b51342ce-af49-482a-a951-a480d91c7dd0",
   "metadata": {},
   "outputs": [
    {
     "name": "stdout",
     "output_type": "stream",
     "text": [
      "    0   1  2  3\n",
      "0  75  20  5  0\n",
      "   0   1   2   3\n",
      "0  5  10  20  65\n"
     ]
    }
   ],
   "source": [
    "ZZ = pd.DataFrame(sued.values.flatten()).T\n",
    "Z = pd.DataFrame(chine.values.flatten()).T\n",
    "print(Z)\n",
    "print(ZZ)"
   ]
  },
  {
   "cell_type": "code",
   "execution_count": 193,
   "id": "1336aade-f74b-43fc-9c65-eb5f00fc353f",
   "metadata": {},
   "outputs": [
    {
     "data": {
      "text/plain": [
       "array([[ 1.04399392, -0.07530907, -0.49170946]])"
      ]
     },
     "execution_count": 193,
     "metadata": {},
     "output_type": "execute_result"
    }
   ],
   "source": [
    "df_afc.transform(Z, 1)\n",
    "\n",
    "df_afc.transform(ZZ, 1)"
   ]
  },
  {
   "cell_type": "code",
   "execution_count": 142,
   "id": "dbdc7be1-1633-4e11-8421-7ecaff9d4a63",
   "metadata": {},
   "outputs": [
    {
     "name": "stderr",
     "output_type": "stream",
     "text": [
      "C:\\ProgramData\\Anaconda3\\lib\\site-packages\\IPython\\core\\pylabtools.py:151: UserWarning: Glyph 137 (\\x89) missing from current font.\n",
      "  fig.canvas.print_figure(bytes_io, **kw)\n"
     ]
    },
    {
     "data": {
      "image/png": "[encoded data removed]",
      "text/plain": [
       "<Figure size 720x576 with 1 Axes>"
      ]
     },
     "metadata": {
      "needs_background": "light"
     },
     "output_type": "display_data"
    }
   ],
   "source": [
    "df_afc.mapping(num_x_axis=1, num_y_axis=2,figsize=(10, 8))"
   ]
  },
  {
   "cell_type": "code",
   "execution_count": 194,
   "id": "bf517aa3-d6eb-4439-9f2b-1c9b93e76002",
   "metadata": {},
   "outputs": [
    {
     "data": {
      "image/png": "[encoded data removed]",
      "text/plain": [
       "<Figure size 432x288 with 1 Axes>"
      ]
     },
     "metadata": {
      "needs_background": "light"
     },
     "output_type": "display_data"
    }
   ],
   "source": [
    "df_afc.plot_row_contrib(num_axis=1)"
   ]
  }
 ],
 "metadata": {
  "kernelspec": {
   "display_name": "Python 3 (ipykernel)",
   "language": "python",
   "name": "python3"
  },
  "language_info": {
   "codemirror_mode": {
    "name": "ipython",
    "version": 3
   },
   "file_extension": ".py",
   "mimetype": "text/x-python",
   "name": "python",
   "nbconvert_exporter": "python",
   "pygments_lexer": "ipython3",
   "version": "3.9.12"
  }
 },
 "nbformat": 4,
 "nbformat_minor": 5
}
