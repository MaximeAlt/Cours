{
 "cells": [
  {
   "cell_type": "markdown",
   "id": "c643bce4",
   "metadata": {},
   "source": [
    "### Objectif du TP\n",
    "> Le but du tp est de mettre en pratique un algorithme de classification automatique du type CAH. Ici, il s'agira de regrouper les éléments du dataset en groupes, appelés clusters, afin de faire ressortir les patterns cachés dans le jeu de données en regroupant les éléments qui se ressemblent.\n",
    "\n",
    "### Description du dataset\n",
    "> ```fromage.xlsx``` : Ensemble de différents fromages classifiés par leurs propriétés nutritives. Il s'agira donc d'identifier des groupes de fromages homogènes, ayant des caractéristiques similaires\n",
    "\n",
    "### Étapes clés de l'analyse\n",
    "- 1 : Chargement et description des données\n",
    "- 2 : Centrage et réduction des données\n",
    "- 3 : Génération de la matrice des liens\n",
    "- 4 : Matérialisation des groupes\n",
    "\n",
    "### Intérêt d'utiliser jupyter & Anaconda\n",
    ">  Jupyter permet d'éditer des visualisations, de les partager et de permettre des modifications interactives du code et de l'ensemble des données partagés\n"
   ]
  },
  {
   "cell_type": "markdown",
   "id": "f560951d",
   "metadata": {},
   "source": [
    "## 1 - Chargement et description des données"
   ]
  },
  {
   "cell_type": "code",
   "execution_count": 1,
   "id": "db10822c",
   "metadata": {},
   "outputs": [],
   "source": [
    "#importation des données\n",
    "import pandas as pd\n",
    "fromage = pd.read_excel(\"fromage.xlsx\")\n",
    "fromage = fromage.set_index(\"Fromages\")"
   ]
  },
  {
   "cell_type": "code",
   "execution_count": 2,
   "id": "f78c2549",
   "metadata": {},
   "outputs": [
    {
     "name": "stdout",
     "output_type": "stream",
     "text": [
      "(29, 9)\n"
     ]
    }
   ],
   "source": [
    "#dimension des données\n",
    "print(fromage.shape)"
   ]
  },
  {
   "cell_type": "code",
   "execution_count": 3,
   "id": "13864c99",
   "metadata": {},
   "outputs": [
    {
     "data": {
      "text/html": [
       "<div>\n",
       "<style scoped>\n",
       "    .dataframe tbody tr th:only-of-type {\n",
       "        vertical-align: middle;\n",
       "    }\n",
       "\n",
       "    .dataframe tbody tr th {\n",
       "        vertical-align: top;\n",
       "    }\n",
       "\n",
       "    .dataframe thead th {\n",
       "        text-align: right;\n",
       "    }\n",
       "</style>\n",
       "<table border=\"1\" class=\"dataframe\">\n",
       "  <thead>\n",
       "    <tr style=\"text-align: right;\">\n",
       "      <th></th>\n",
       "      <th>calories</th>\n",
       "      <th>sodium</th>\n",
       "      <th>calcium</th>\n",
       "      <th>lipides</th>\n",
       "      <th>retinol</th>\n",
       "      <th>folates</th>\n",
       "      <th>proteines</th>\n",
       "      <th>cholesterol</th>\n",
       "      <th>magnesium</th>\n",
       "    </tr>\n",
       "    <tr>\n",
       "      <th>Fromages</th>\n",
       "      <th></th>\n",
       "      <th></th>\n",
       "      <th></th>\n",
       "      <th></th>\n",
       "      <th></th>\n",
       "      <th></th>\n",
       "      <th></th>\n",
       "      <th></th>\n",
       "      <th></th>\n",
       "    </tr>\n",
       "  </thead>\n",
       "  <tbody>\n",
       "    <tr>\n",
       "      <th>CarredelEst</th>\n",
       "      <td>314</td>\n",
       "      <td>353.5</td>\n",
       "      <td>72.6</td>\n",
       "      <td>26.3</td>\n",
       "      <td>51.6</td>\n",
       "      <td>30.3</td>\n",
       "      <td>21.0</td>\n",
       "      <td>70</td>\n",
       "      <td>20</td>\n",
       "    </tr>\n",
       "    <tr>\n",
       "      <th>Babybel</th>\n",
       "      <td>314</td>\n",
       "      <td>238.0</td>\n",
       "      <td>209.8</td>\n",
       "      <td>25.1</td>\n",
       "      <td>63.7</td>\n",
       "      <td>6.4</td>\n",
       "      <td>22.6</td>\n",
       "      <td>70</td>\n",
       "      <td>27</td>\n",
       "    </tr>\n",
       "    <tr>\n",
       "      <th>Beaufort</th>\n",
       "      <td>401</td>\n",
       "      <td>112.0</td>\n",
       "      <td>259.4</td>\n",
       "      <td>33.3</td>\n",
       "      <td>54.9</td>\n",
       "      <td>1.2</td>\n",
       "      <td>26.6</td>\n",
       "      <td>120</td>\n",
       "      <td>41</td>\n",
       "    </tr>\n",
       "    <tr>\n",
       "      <th>Bleu</th>\n",
       "      <td>342</td>\n",
       "      <td>336.0</td>\n",
       "      <td>211.1</td>\n",
       "      <td>28.9</td>\n",
       "      <td>37.1</td>\n",
       "      <td>27.5</td>\n",
       "      <td>20.2</td>\n",
       "      <td>90</td>\n",
       "      <td>27</td>\n",
       "    </tr>\n",
       "    <tr>\n",
       "      <th>Camembert</th>\n",
       "      <td>264</td>\n",
       "      <td>314.0</td>\n",
       "      <td>215.9</td>\n",
       "      <td>19.5</td>\n",
       "      <td>103.0</td>\n",
       "      <td>36.4</td>\n",
       "      <td>23.4</td>\n",
       "      <td>60</td>\n",
       "      <td>20</td>\n",
       "    </tr>\n",
       "    <tr>\n",
       "      <th>Cantal</th>\n",
       "      <td>367</td>\n",
       "      <td>256.0</td>\n",
       "      <td>264.0</td>\n",
       "      <td>28.8</td>\n",
       "      <td>48.8</td>\n",
       "      <td>5.7</td>\n",
       "      <td>23.0</td>\n",
       "      <td>90</td>\n",
       "      <td>30</td>\n",
       "    </tr>\n",
       "    <tr>\n",
       "      <th>Chabichou</th>\n",
       "      <td>344</td>\n",
       "      <td>192.0</td>\n",
       "      <td>87.2</td>\n",
       "      <td>27.9</td>\n",
       "      <td>90.1</td>\n",
       "      <td>36.3</td>\n",
       "      <td>19.5</td>\n",
       "      <td>80</td>\n",
       "      <td>36</td>\n",
       "    </tr>\n",
       "    <tr>\n",
       "      <th>Chaource</th>\n",
       "      <td>292</td>\n",
       "      <td>276.0</td>\n",
       "      <td>132.9</td>\n",
       "      <td>25.4</td>\n",
       "      <td>116.4</td>\n",
       "      <td>32.5</td>\n",
       "      <td>17.8</td>\n",
       "      <td>70</td>\n",
       "      <td>25</td>\n",
       "    </tr>\n",
       "    <tr>\n",
       "      <th>Cheddar</th>\n",
       "      <td>406</td>\n",
       "      <td>172.0</td>\n",
       "      <td>182.3</td>\n",
       "      <td>32.5</td>\n",
       "      <td>76.4</td>\n",
       "      <td>4.9</td>\n",
       "      <td>26.0</td>\n",
       "      <td>110</td>\n",
       "      <td>28</td>\n",
       "    </tr>\n",
       "    <tr>\n",
       "      <th>Comte</th>\n",
       "      <td>399</td>\n",
       "      <td>92.0</td>\n",
       "      <td>220.5</td>\n",
       "      <td>32.4</td>\n",
       "      <td>55.9</td>\n",
       "      <td>1.3</td>\n",
       "      <td>29.2</td>\n",
       "      <td>120</td>\n",
       "      <td>51</td>\n",
       "    </tr>\n",
       "    <tr>\n",
       "      <th>Coulomniers</th>\n",
       "      <td>308</td>\n",
       "      <td>222.0</td>\n",
       "      <td>79.2</td>\n",
       "      <td>25.6</td>\n",
       "      <td>63.6</td>\n",
       "      <td>21.1</td>\n",
       "      <td>20.5</td>\n",
       "      <td>80</td>\n",
       "      <td>13</td>\n",
       "    </tr>\n",
       "    <tr>\n",
       "      <th>Edam</th>\n",
       "      <td>327</td>\n",
       "      <td>148.0</td>\n",
       "      <td>272.2</td>\n",
       "      <td>24.7</td>\n",
       "      <td>65.7</td>\n",
       "      <td>5.5</td>\n",
       "      <td>24.7</td>\n",
       "      <td>80</td>\n",
       "      <td>44</td>\n",
       "    </tr>\n",
       "    <tr>\n",
       "      <th>Emmental</th>\n",
       "      <td>378</td>\n",
       "      <td>60.0</td>\n",
       "      <td>308.2</td>\n",
       "      <td>29.4</td>\n",
       "      <td>56.3</td>\n",
       "      <td>2.4</td>\n",
       "      <td>29.4</td>\n",
       "      <td>110</td>\n",
       "      <td>45</td>\n",
       "    </tr>\n",
       "    <tr>\n",
       "      <th>Fr.chevrepatemolle</th>\n",
       "      <td>206</td>\n",
       "      <td>160.0</td>\n",
       "      <td>72.8</td>\n",
       "      <td>18.5</td>\n",
       "      <td>150.5</td>\n",
       "      <td>31.0</td>\n",
       "      <td>11.1</td>\n",
       "      <td>50</td>\n",
       "      <td>16</td>\n",
       "    </tr>\n",
       "    <tr>\n",
       "      <th>Fr.fondu.45</th>\n",
       "      <td>292</td>\n",
       "      <td>390.0</td>\n",
       "      <td>168.5</td>\n",
       "      <td>24.0</td>\n",
       "      <td>77.4</td>\n",
       "      <td>5.5</td>\n",
       "      <td>16.8</td>\n",
       "      <td>70</td>\n",
       "      <td>20</td>\n",
       "    </tr>\n",
       "    <tr>\n",
       "      <th>Fr.frais20nat.</th>\n",
       "      <td>80</td>\n",
       "      <td>41.0</td>\n",
       "      <td>146.3</td>\n",
       "      <td>3.5</td>\n",
       "      <td>50.0</td>\n",
       "      <td>20.0</td>\n",
       "      <td>8.3</td>\n",
       "      <td>10</td>\n",
       "      <td>11</td>\n",
       "    </tr>\n",
       "    <tr>\n",
       "      <th>Fr.frais40nat.</th>\n",
       "      <td>115</td>\n",
       "      <td>25.0</td>\n",
       "      <td>94.8</td>\n",
       "      <td>7.8</td>\n",
       "      <td>64.3</td>\n",
       "      <td>22.6</td>\n",
       "      <td>7.0</td>\n",
       "      <td>30</td>\n",
       "      <td>10</td>\n",
       "    </tr>\n",
       "    <tr>\n",
       "      <th>Maroilles</th>\n",
       "      <td>338</td>\n",
       "      <td>311.0</td>\n",
       "      <td>236.7</td>\n",
       "      <td>29.1</td>\n",
       "      <td>46.7</td>\n",
       "      <td>3.6</td>\n",
       "      <td>20.4</td>\n",
       "      <td>90</td>\n",
       "      <td>40</td>\n",
       "    </tr>\n",
       "    <tr>\n",
       "      <th>Morbier</th>\n",
       "      <td>347</td>\n",
       "      <td>285.0</td>\n",
       "      <td>219.0</td>\n",
       "      <td>29.5</td>\n",
       "      <td>57.6</td>\n",
       "      <td>5.8</td>\n",
       "      <td>23.6</td>\n",
       "      <td>80</td>\n",
       "      <td>30</td>\n",
       "    </tr>\n",
       "    <tr>\n",
       "      <th>Parmesan</th>\n",
       "      <td>381</td>\n",
       "      <td>240.0</td>\n",
       "      <td>334.6</td>\n",
       "      <td>27.5</td>\n",
       "      <td>90.0</td>\n",
       "      <td>5.2</td>\n",
       "      <td>35.7</td>\n",
       "      <td>80</td>\n",
       "      <td>46</td>\n",
       "    </tr>\n",
       "    <tr>\n",
       "      <th>Petitsuisse40</th>\n",
       "      <td>142</td>\n",
       "      <td>22.0</td>\n",
       "      <td>78.2</td>\n",
       "      <td>10.4</td>\n",
       "      <td>63.4</td>\n",
       "      <td>20.4</td>\n",
       "      <td>9.4</td>\n",
       "      <td>20</td>\n",
       "      <td>10</td>\n",
       "    </tr>\n",
       "    <tr>\n",
       "      <th>PontlEveque</th>\n",
       "      <td>300</td>\n",
       "      <td>223.0</td>\n",
       "      <td>156.7</td>\n",
       "      <td>23.4</td>\n",
       "      <td>53.0</td>\n",
       "      <td>4.0</td>\n",
       "      <td>21.1</td>\n",
       "      <td>70</td>\n",
       "      <td>22</td>\n",
       "    </tr>\n",
       "    <tr>\n",
       "      <th>Pyrenees</th>\n",
       "      <td>355</td>\n",
       "      <td>232.0</td>\n",
       "      <td>178.9</td>\n",
       "      <td>28.0</td>\n",
       "      <td>51.5</td>\n",
       "      <td>6.8</td>\n",
       "      <td>22.4</td>\n",
       "      <td>90</td>\n",
       "      <td>25</td>\n",
       "    </tr>\n",
       "    <tr>\n",
       "      <th>Reblochon</th>\n",
       "      <td>309</td>\n",
       "      <td>272.0</td>\n",
       "      <td>202.3</td>\n",
       "      <td>24.6</td>\n",
       "      <td>73.1</td>\n",
       "      <td>8.1</td>\n",
       "      <td>19.7</td>\n",
       "      <td>80</td>\n",
       "      <td>30</td>\n",
       "    </tr>\n",
       "    <tr>\n",
       "      <th>Rocquefort</th>\n",
       "      <td>370</td>\n",
       "      <td>432.0</td>\n",
       "      <td>162.0</td>\n",
       "      <td>31.2</td>\n",
       "      <td>83.5</td>\n",
       "      <td>13.3</td>\n",
       "      <td>18.7</td>\n",
       "      <td>100</td>\n",
       "      <td>25</td>\n",
       "    </tr>\n",
       "    <tr>\n",
       "      <th>SaintPaulin</th>\n",
       "      <td>298</td>\n",
       "      <td>205.0</td>\n",
       "      <td>261.0</td>\n",
       "      <td>23.3</td>\n",
       "      <td>60.4</td>\n",
       "      <td>6.7</td>\n",
       "      <td>23.3</td>\n",
       "      <td>70</td>\n",
       "      <td>26</td>\n",
       "    </tr>\n",
       "    <tr>\n",
       "      <th>Tome</th>\n",
       "      <td>321</td>\n",
       "      <td>252.0</td>\n",
       "      <td>125.5</td>\n",
       "      <td>27.3</td>\n",
       "      <td>62.3</td>\n",
       "      <td>6.2</td>\n",
       "      <td>21.8</td>\n",
       "      <td>80</td>\n",
       "      <td>20</td>\n",
       "    </tr>\n",
       "    <tr>\n",
       "      <th>Vacherin</th>\n",
       "      <td>321</td>\n",
       "      <td>140.0</td>\n",
       "      <td>218.0</td>\n",
       "      <td>29.3</td>\n",
       "      <td>49.2</td>\n",
       "      <td>3.7</td>\n",
       "      <td>17.6</td>\n",
       "      <td>80</td>\n",
       "      <td>30</td>\n",
       "    </tr>\n",
       "    <tr>\n",
       "      <th>Yaourtlaitent.nat.</th>\n",
       "      <td>70</td>\n",
       "      <td>91.0</td>\n",
       "      <td>215.7</td>\n",
       "      <td>3.4</td>\n",
       "      <td>42.9</td>\n",
       "      <td>2.9</td>\n",
       "      <td>4.1</td>\n",
       "      <td>13</td>\n",
       "      <td>14</td>\n",
       "    </tr>\n",
       "  </tbody>\n",
       "</table>\n",
       "</div>"
      ],
      "text/plain": [
       "                    calories  sodium  calcium  lipides  retinol  folates  \\\n",
       "Fromages                                                                   \n",
       "CarredelEst              314   353.5     72.6     26.3     51.6     30.3   \n",
       "Babybel                  314   238.0    209.8     25.1     63.7      6.4   \n",
       "Beaufort                 401   112.0    259.4     33.3     54.9      1.2   \n",
       "Bleu                     342   336.0    211.1     28.9     37.1     27.5   \n",
       "Camembert                264   314.0    215.9     19.5    103.0     36.4   \n",
       "Cantal                   367   256.0    264.0     28.8     48.8      5.7   \n",
       "Chabichou                344   192.0     87.2     27.9     90.1     36.3   \n",
       "Chaource                 292   276.0    132.9     25.4    116.4     32.5   \n",
       "Cheddar                  406   172.0    182.3     32.5     76.4      4.9   \n",
       "Comte                    399    92.0    220.5     32.4     55.9      1.3   \n",
       "Coulomniers              308   222.0     79.2     25.6     63.6     21.1   \n",
       "Edam                     327   148.0    272.2     24.7     65.7      5.5   \n",
       "Emmental                 378    60.0    308.2     29.4     56.3      2.4   \n",
       "Fr.chevrepatemolle       206   160.0     72.8     18.5    150.5     31.0   \n",
       "Fr.fondu.45              292   390.0    168.5     24.0     77.4      5.5   \n",
       "Fr.frais20nat.            80    41.0    146.3      3.5     50.0     20.0   \n",
       "Fr.frais40nat.           115    25.0     94.8      7.8     64.3     22.6   \n",
       "Maroilles                338   311.0    236.7     29.1     46.7      3.6   \n",
       "Morbier                  347   285.0    219.0     29.5     57.6      5.8   \n",
       "Parmesan                 381   240.0    334.6     27.5     90.0      5.2   \n",
       "Petitsuisse40            142    22.0     78.2     10.4     63.4     20.4   \n",
       "PontlEveque              300   223.0    156.7     23.4     53.0      4.0   \n",
       "Pyrenees                 355   232.0    178.9     28.0     51.5      6.8   \n",
       "Reblochon                309   272.0    202.3     24.6     73.1      8.1   \n",
       "Rocquefort               370   432.0    162.0     31.2     83.5     13.3   \n",
       "SaintPaulin              298   205.0    261.0     23.3     60.4      6.7   \n",
       "Tome                     321   252.0    125.5     27.3     62.3      6.2   \n",
       "Vacherin                 321   140.0    218.0     29.3     49.2      3.7   \n",
       "Yaourtlaitent.nat.        70    91.0    215.7      3.4     42.9      2.9   \n",
       "\n",
       "                    proteines  cholesterol  magnesium  \n",
       "Fromages                                               \n",
       "CarredelEst              21.0           70         20  \n",
       "Babybel                  22.6           70         27  \n",
       "Beaufort                 26.6          120         41  \n",
       "Bleu                     20.2           90         27  \n",
       "Camembert                23.4           60         20  \n",
       "Cantal                   23.0           90         30  \n",
       "Chabichou                19.5           80         36  \n",
       "Chaource                 17.8           70         25  \n",
       "Cheddar                  26.0          110         28  \n",
       "Comte                    29.2          120         51  \n",
       "Coulomniers              20.5           80         13  \n",
       "Edam                     24.7           80         44  \n",
       "Emmental                 29.4          110         45  \n",
       "Fr.chevrepatemolle       11.1           50         16  \n",
       "Fr.fondu.45              16.8           70         20  \n",
       "Fr.frais20nat.            8.3           10         11  \n",
       "Fr.frais40nat.            7.0           30         10  \n",
       "Maroilles                20.4           90         40  \n",
       "Morbier                  23.6           80         30  \n",
       "Parmesan                 35.7           80         46  \n",
       "Petitsuisse40             9.4           20         10  \n",
       "PontlEveque              21.1           70         22  \n",
       "Pyrenees                 22.4           90         25  \n",
       "Reblochon                19.7           80         30  \n",
       "Rocquefort               18.7          100         25  \n",
       "SaintPaulin              23.3           70         26  \n",
       "Tome                     21.8           80         20  \n",
       "Vacherin                 17.6           80         30  \n",
       "Yaourtlaitent.nat.        4.1           13         14  "
      ]
     },
     "execution_count": 3,
     "metadata": {},
     "output_type": "execute_result"
    }
   ],
   "source": [
    "fromage"
   ]
  },
  {
   "cell_type": "code",
   "execution_count": 3,
   "id": "91665935",
   "metadata": {},
   "outputs": [
    {
     "name": "stdout",
     "output_type": "stream",
     "text": [
      "             calories  sodium  calcium  lipides  retinol  folates  proteines  \\\n",
      "Fromages                                                                       \n",
      "CarredelEst       314   353.5     72.6     26.3     51.6     30.3       21.0   \n",
      "Babybel           314   238.0    209.8     25.1     63.7      6.4       22.6   \n",
      "Beaufort          401   112.0    259.4     33.3     54.9      1.2       26.6   \n",
      "Bleu              342   336.0    211.1     28.9     37.1     27.5       20.2   \n",
      "Camembert         264   314.0    215.9     19.5    103.0     36.4       23.4   \n",
      "Cantal            367   256.0    264.0     28.8     48.8      5.7       23.0   \n",
      "\n",
      "             cholesterol  magnesium  \n",
      "Fromages                             \n",
      "CarredelEst           70         20  \n",
      "Babybel               70         27  \n",
      "Beaufort             120         41  \n",
      "Bleu                  90         27  \n",
      "Camembert             60         20  \n",
      "Cantal                90         30  \n"
     ]
    }
   ],
   "source": [
    "#6 premières lignes des données\n",
    "print(fromage.iloc[0:6,:])"
   ]
  },
  {
   "cell_type": "code",
   "execution_count": 4,
   "id": "6fe1b4d2",
   "metadata": {},
   "outputs": [
    {
     "name": "stdout",
     "output_type": "stream",
     "text": [
      "         calories      sodium     calcium    lipides     retinol    folates  \\\n",
      "count   29.000000   29.000000   29.000000  29.000000   29.000000  29.000000   \n",
      "mean   300.034483  210.086207  185.734483  24.158621   67.562069  13.010345   \n",
      "std     91.914356  108.678923   72.528882   8.129642   24.163098  11.723339   \n",
      "min     70.000000   22.000000   72.600000   3.400000   37.100000   1.200000   \n",
      "25%    292.000000  140.000000  132.900000  23.400000   51.600000   4.900000   \n",
      "50%    321.000000  223.000000  202.300000  26.300000   62.300000   6.400000   \n",
      "75%    355.000000  276.000000  220.500000  29.100000   76.400000  21.100000   \n",
      "max    406.000000  432.000000  334.600000  33.300000  150.500000  36.400000   \n",
      "\n",
      "       proteines  cholesterol  magnesium  \n",
      "count  29.000000    29.000000  29.000000  \n",
      "mean   20.168966    74.586207  26.965517  \n",
      "std     6.959788    28.245755  11.318388  \n",
      "min     4.100000    10.000000  10.000000  \n",
      "25%    17.800000    70.000000  20.000000  \n",
      "50%    21.000000    80.000000  26.000000  \n",
      "75%    23.400000    90.000000  30.000000  \n",
      "max    35.700000   120.000000  51.000000  \n"
     ]
    }
   ],
   "source": [
    "#statistiques descriptives\n",
    "print(fromage.describe())"
   ]
  },
  {
   "cell_type": "markdown",
   "id": "818c560c",
   "metadata": {},
   "source": [
    "## 2 - Centrage et réduction des données"
   ]
  },
  {
   "cell_type": "code",
   "execution_count": 5,
   "id": "29abe421",
   "metadata": {},
   "outputs": [],
   "source": [
    "#centrage réduction des données\n",
    "from sklearn import preprocessing\n",
    "\n",
    "fromage_cr = preprocessing.scale(fromage)"
   ]
  },
  {
   "cell_type": "markdown",
   "id": "20b3f88e",
   "metadata": {},
   "source": [
    "> Ici on importe la librairie ```preprocessing``` qui permet d'éffectuer le prétraitement des données qui est la première étape d'apprentissage automatique au cours de laquelle les données brutes sont transformées  en un format utilisable pour mettre en oeuvre des modèles d'apprentissage automatique précis.\n",
    "Ensjuite on fait appel à la méthode ```scale()``` qui permet de placer les données sur une seule échelle."
   ]
  },
  {
   "cell_type": "markdown",
   "id": "38cacab8",
   "metadata": {},
   "source": [
    "## 3 - Génération de la matrice des liens"
   ]
  },
  {
   "cell_type": "code",
   "execution_count": 6,
   "id": "1c9c772c",
   "metadata": {},
   "outputs": [],
   "source": [
    "#librairies pour la CAH\n",
    "import matplotlib.pyplot as plt\n",
    "from scipy.cluster.hierarchy import dendrogram, linkage, fcluster"
   ]
  },
  {
   "cell_type": "code",
   "execution_count": 7,
   "id": "31e0954d",
   "metadata": {},
   "outputs": [],
   "source": [
    "#générer la matrice des liens\n",
    "Z = linkage(fromage_cr,method='ward',metric='euclidean')"
   ]
  },
  {
   "cell_type": "markdown",
   "id": "2d7d8abe",
   "metadata": {},
   "source": [
    "> Ici on utilise la méthode ```linkage()``` qui permet d'effectuer un clustering hiérarchique.\n",
    "\n",
    "<u><em>Paramètres de la méthode</em></u>\n",
    "- <strong>method='ward'</strong> &nbsp;&nbsp;&nbsp;&nbsp;&nbsp;&nbsp;: permet de calculer la distance entre les clusters. La méthode 'ward' utilise l'algorithme de minimisation de la variance de Ward\n",
    "- <strong>metric='euclidean'</strong> : permet de définir la métrique qui sera utilisée. Ici c'est la métrique euclidienne par paire qui est utilisée"
   ]
  },
  {
   "cell_type": "code",
   "execution_count": 8,
   "id": "ae568c79",
   "metadata": {},
   "outputs": [
    {
     "data": {
      "image/png": "[encoded data removed]",
      "text/plain": [
       "<Figure size 432x288 with 1 Axes>"
      ]
     },
     "metadata": {
      "needs_background": "light"
     },
     "output_type": "display_data"
    }
   ],
   "source": [
    "plt.title(\"CAH\")\n",
    "dendrogram(Z,labels=fromage.index,orientation='left',color_threshold=0)\n",
    "plt.show()"
   ]
  },
  {
   "cell_type": "markdown",
   "id": "6f7403a8",
   "metadata": {},
   "source": [
    "> Ici on construit un dendrogramme qui permet d'illustrer les arrangements de groupes générés par un regroupement ascendant hiérarchique."
   ]
  },
  {
   "cell_type": "markdown",
   "id": "24aa0c98",
   "metadata": {},
   "source": [
    "## 4 - Matérialisation des groupes"
   ]
  },
  {
   "cell_type": "code",
   "execution_count": 24,
   "id": "773c683e",
   "metadata": {},
   "outputs": [
    {
     "data": {
      "image/png": "[encoded data removed]",
      "text/plain": [
       "<Figure size 432x288 with 1 Axes>"
      ]
     },
     "metadata": {
      "needs_background": "light"
     },
     "output_type": "display_data"
    }
   ],
   "source": [
    "#matérialisation des 4 classes (hauteur t = 7)\n",
    "#On choisi un niveau égale à 7 pour découper l'arbre \n",
    "plt.title('CAH avec matérialisation des 4 classes')\n",
    "dendrogram(Z,labels=fromage.index,orientation='left',color_threshold=7)\n",
    "plt.show()"
   ]
  },
  {
   "cell_type": "markdown",
   "id": "93c0b700",
   "metadata": {},
   "source": [
    "> Ici on métérialise les quatres groupes de fromages, en spécifiant la hauteur à 7."
   ]
  },
  {
   "cell_type": "code",
   "execution_count": 10,
   "id": "a93f4f47",
   "metadata": {},
   "outputs": [
    {
     "name": "stdout",
     "output_type": "stream",
     "text": [
      "[4 4 3 4 2 4 2 2 4 3 4 4 3 2 4 1 1 4 4 3 1 4 4 4 4 4 4 4 1]\n"
     ]
    }
   ],
   "source": [
    "#découpage à la hauteur t = 7 ==> 4 identifiants de groupes obtenus\n",
    "groupes_cah = fcluster(Z,t=7,criterion='distance')\n",
    "print(groupes_cah)"
   ]
  },
  {
   "cell_type": "markdown",
   "id": "0b265a7b",
   "metadata": {},
   "source": [
    "### Interprétation du graphique :\n",
    "On peut constater qu'à la hauteur t = 7, nous avons 4 familles de fromages qui se déssinent :\n",
    "- Groupe de couleur orange : Constitué de fromages frais\n",
    "- Groupe de couleur vert   : Constitué de fromages à pâte molle\n",
    "- Groupe de couleur rouge  : Constitué de fromages consistant\n",
    "- Groupe de couleur violet : Constitué de plusieurs types de fromages\n",
    "\n",
    "<strong>Remarques :</strong> \n",
    "- IL serait intérressant de pousser l'analyse sur les fromages du groupe violet, afin de segmenter encore plus ces différents types de fromages\n",
    "- Il serait opportun aussi, de comparer si ces 4 groupes de fromages représentent les différents clusters (n_clusters=4) trouvés précedemment dans l'algorithme K-Means\n",
    "\n",
    "<strong>Conclusion :</strong> \n",
    "- Le bon nombre de cluster sur le jeux de données est donc de quatre."
   ]
  },
  {
   "cell_type": "markdown",
   "id": "e3f043c0",
   "metadata": {},
   "source": [
    "## Dans le cas de dimension très élevée on passe par une ACP ou ACM selon le type de données"
   ]
  },
  {
   "cell_type": "code",
   "execution_count": 11,
   "id": "c33efd8a",
   "metadata": {},
   "outputs": [],
   "source": [
    "# Reducing the dimensionality of the Data\n",
    "from sklearn.decomposition import PCA\n",
    "\n",
    "pca = PCA(n_components=2)\n",
    "X_principal = pca.fit_transform(fromage_cr)\n",
    "X_principal = pd.DataFrame(X_principal)\n",
    "X_principal.columns = ['P1', 'P2']"
   ]
  },
  {
   "cell_type": "code",
   "execution_count": 18,
   "id": "20205ff8",
   "metadata": {},
   "outputs": [
    {
     "name": "stdout",
     "output_type": "stream",
     "text": [
      "\n",
      "\n",
      "Temps total d'execution :  0.0641539999996894 \n",
      "\n",
      "\n"
     ]
    },
    {
     "data": {
      "image/png": "[encoded data removed]",
      "text/plain": [
       "<Figure size 576x576 with 1 Axes>"
      ]
     },
     "metadata": {
      "needs_background": "light"
     },
     "output_type": "display_data"
    }
   ],
   "source": [
    "# Visualizing the working of the Dendograms\n",
    "import time\n",
    "import scipy.cluster.hierarchy as shc\n",
    " \n",
    "time_start = time.perf_counter()\n",
    "\n",
    "plt.figure(figsize=(8, 8))\n",
    "plt.title('Visualising the data')\n",
    "Dendrogram = shc.dendrogram((shc.linkage(X_principal, method='ward')))\n",
    "\n",
    "time_elapsed = (time.perf_counter() - time_start)\n",
    "\n",
    "print(\"\\n\\nTemps total d'execution : \", time_elapsed, \"\\n\\n\")"
   ]
  },
  {
   "cell_type": "code",
   "execution_count": 22,
   "id": "53df3bf8",
   "metadata": {},
   "outputs": [
    {
     "data": {
      "image/png": "[encoded data removed]",
      "text/plain": [
       "<Figure size 432x432 with 1 Axes>"
      ]
     },
     "metadata": {
      "needs_background": "light"
     },
     "output_type": "display_data"
    }
   ],
   "source": [
    "from sklearn.cluster import AgglomerativeClustering\n",
    "ac2 = AgglomerativeClustering(n_clusters=2)\n",
    "  \n",
    "# Visualizing the clustering\n",
    "plt.figure(figsize=(6, 6))\n",
    "plt.scatter(X_principal['P1'], X_principal['P2'], \n",
    "            c=ac2.fit_predict(X_principal), cmap='rainbow')\n",
    "plt.show()"
   ]
  },
  {
   "cell_type": "code",
   "execution_count": 21,
   "id": "26d79108",
   "metadata": {},
   "outputs": [
    {
     "data": {
      "image/png": "[encoded data removed]",
      "text/plain": [
       "<Figure size 432x432 with 1 Axes>"
      ]
     },
     "metadata": {
      "needs_background": "light"
     },
     "output_type": "display_data"
    }
   ],
   "source": [
    "ac3 = AgglomerativeClustering(n_clusters=3)\n",
    "  \n",
    "# Visualizing the clustering\n",
    "plt.figure(figsize=(6, 6))\n",
    "plt.scatter(X_principal['P1'], X_principal['P2'], \n",
    "            c=ac3.fit_predict(X_principal), cmap='rainbow')\n",
    "plt.show()"
   ]
  },
  {
   "cell_type": "code",
   "execution_count": 20,
   "id": "8308d62a",
   "metadata": {},
   "outputs": [
    {
     "data": {
      "image/png": "[encoded data removed]",
      "text/plain": [
       "<Figure size 432x432 with 1 Axes>"
      ]
     },
     "metadata": {
      "needs_background": "light"
     },
     "output_type": "display_data"
    }
   ],
   "source": [
    "ac4 = AgglomerativeClustering(n_clusters=4)\n",
    "  \n",
    "# Visualizing the clustering\n",
    "plt.figure(figsize=(6, 6))\n",
    "plt.scatter(X_principal['P1'], X_principal['P2'], \n",
    "            c=ac4.fit_predict(X_principal), cmap='rainbow')\n",
    "plt.show()"
   ]
  },
  {
   "cell_type": "code",
   "execution_count": null,
   "id": "be491da0",
   "metadata": {},
   "outputs": [],
   "source": []
  }
 ],
 "metadata": {
  "kernelspec": {
   "display_name": "Python 3 (ipykernel)",
   "language": "python",
   "name": "python3"
  },
  "language_info": {
   "codemirror_mode": {
    "name": "ipython",
    "version": 3
   },
   "file_extension": ".py",
   "mimetype": "text/x-python",
   "name": "python",
   "nbconvert_exporter": "python",
   "pygments_lexer": "ipython3",
   "version": "3.9.12"
  }
 },
 "nbformat": 4,
 "nbformat_minor": 5
}
