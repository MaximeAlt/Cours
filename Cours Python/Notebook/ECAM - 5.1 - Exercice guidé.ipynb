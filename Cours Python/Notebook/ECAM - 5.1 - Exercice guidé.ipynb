{
 "cells": [
  {
   "cell_type": "markdown",
   "metadata": {},
   "source": [
    "\n",
    "<section style=\"position:relative; width:100%;\">\n",
    "\n",
    "<div style=\"display:inline-block;\">\n",
    "<img src=\"images/ioapps_small.png\" style=\"width:200px;\" /> \n",
    "<p> Formateur :<br /> Pierre-Olivier Simonard <br />\n",
    "<a href=\"mailto:pierre.olivier.simonard@gmail.com\">pierre.olivier.simonard@gmail.com</a></p>\n",
    "</div>\n",
    "\n",
    "<div style=\"display:inline-block; float:right\">\n",
    "    <h3>ICAM </h3>\n",
    "    <p>Formation Data Science</p>\n",
    "    <p>Novembre 2022</p>\n",
    "    <img src=\"https://mirrors.creativecommons.org/presskit/buttons/88x31/png/by-nc-sa.eu.png\"  width=\"100px\" />\n",
    "</div>\n",
    "\n",
    "</section>\n",
    "\n",
    "\n",
    "<h1 style=\"text-align: center; width:100%\">Programmation Python</h1>\n",
    "<h2 style=\"text-align: center; width:100%\">Partie 5.1 : Structures de données <br /> Tuples et Listes <br /> Exercice guidé </h2>\n",
    "\n",
    "<!--  \n",
    "Novembre 2022\n",
    "Pierre-Oliver Simonard - pierre.olivier.simonard@gmail.com\n",
    "-->\n",
    "\n",
    "<style>\n",
    "div.warn {    \n",
    "    background-color: #fcf2f2;\n",
    "    border-color: #dFb5b4;\n",
    "    border-left: 5px solid #dfb5b4;\n",
    "    padding: 0.5em;\n",
    "    }\n",
    "</style>"
   ]
  },
  {
   "cell_type": "markdown",
   "metadata": {},
   "source": [
    "### Exercice 1 : Nombres premiers\n",
    "\n",
    "Voici les 8 premiers nombres premiers. : 2, 3, 5, 7, 11, 13, 17, 19\n",
    "\n",
    "* Ecrivez un programme qui les représente dans une liste.\n",
    "* Modifiez votre programme qui affichera chacun de ces nombres\n",
    "* Modifiez votre programme pour qu'il affiche le carré de chacun de ces nombres\n",
    "\n"
   ]
  },
  {
   "cell_type": "code",
   "execution_count": 16,
   "metadata": {},
   "outputs": [
    {
     "name": "stdout",
     "output_type": "stream",
     "text": [
      "4\n",
      "9\n",
      "25\n",
      "49\n",
      "121\n",
      "169\n",
      "289\n",
      "361\n"
     ]
    }
   ],
   "source": [
    "\n",
    "nb_prem = [2, 3, 5, 7, 11, 13, 17, 19]\n",
    "for nb in nb_prem :\n",
    "    print(nb**2)\n",
    "\n",
    "\n"
   ]
  },
  {
   "cell_type": "markdown",
   "metadata": {},
   "source": [
    "### Exercice 2 : Calculer une moyenne glissante\n",
    "\n",
    "Le programme suivante génère une liste de 30 nombres entiers entre 0 et 20 :"
   ]
  },
  {
   "cell_type": "code",
   "execution_count": 205,
   "metadata": {},
   "outputs": [
    {
     "name": "stdout",
     "output_type": "stream",
     "text": [
      "[13, 0, 5, 4, 15, 14, 18, 1, 8, 0, 4, 10, 0, 4, 13, 11, 4, 12, 16, 0, 16, 14, 7, 3, 20, 7, 1, 2, 17, 12]\n"
     ]
    }
   ],
   "source": [
    "from random import random, seed\n",
    "\n",
    "seed(42)\n",
    "\n",
    "numbers = []\n",
    "for i in range(30):\n",
    "    numbers.append( int(random()*21))\n",
    "\n",
    "print(numbers)"
   ]
  },
  {
   "cell_type": "markdown",
   "metadata": {},
   "source": [
    "* Ecrivez un programme qui calcule la moyenne des 5 premières valeurs. Utilisez le slicing."
   ]
  },
  {
   "cell_type": "code",
   "execution_count": 21,
   "metadata": {},
   "outputs": [
    {
     "data": {
      "text/plain": [
       "7.4"
      ]
     },
     "execution_count": 21,
     "metadata": {},
     "output_type": "execute_result"
    }
   ],
   "source": [
    "sum(numbers[:5]) / len(numbers[:5])"
   ]
  },
  {
   "cell_type": "markdown",
   "metadata": {},
   "source": [
    "* Ecrivez un programme qui affiche les nombres d'indices 0 à 5, puis 1 à 6, puis 2 à 7 ... puis n à n+5"
   ]
  },
  {
   "cell_type": "code",
   "execution_count": 204,
   "metadata": {},
   "outputs": [
    {
     "ename": "NameError",
     "evalue": "name 'numbers' is not defined",
     "output_type": "error",
     "traceback": [
      "\u001b[1;31m---------------------------------------------------------------------------\u001b[0m",
      "\u001b[1;31mNameError\u001b[0m                                 Traceback (most recent call last)",
      "Input \u001b[1;32mIn [204]\u001b[0m, in \u001b[0;36m<cell line: 1>\u001b[1;34m()\u001b[0m\n\u001b[1;32m----> 1\u001b[0m \u001b[38;5;28mprint\u001b[39m(\u001b[43mnumbers\u001b[49m[:\u001b[38;5;241m5\u001b[39m] )\n\u001b[0;32m      2\u001b[0m \u001b[38;5;28mprint\u001b[39m(numbers[\u001b[38;5;241m1\u001b[39m:\u001b[38;5;241m6\u001b[39m])\n\u001b[0;32m      3\u001b[0m \u001b[38;5;28mprint\u001b[39m(numbers[\u001b[38;5;241m2\u001b[39m:\u001b[38;5;241m7\u001b[39m])\n",
      "\u001b[1;31mNameError\u001b[0m: name 'numbers' is not defined"
     ]
    }
   ],
   "source": [
    "print(numbers[:5] )\n",
    "print(numbers[1:6])\n",
    "print(numbers[2:7])"
   ]
  },
  {
   "cell_type": "code",
   "execution_count": 211,
   "metadata": {},
   "outputs": [
    {
     "name": "stdout",
     "output_type": "stream",
     "text": [
      "[13, 0, 5, 4, 15]\n",
      "[0, 5, 4, 15, 14]\n",
      "[5, 4, 15, 14, 18]\n",
      "[4, 15, 14, 18, 1]\n",
      "[15, 14, 18, 1, 8]\n",
      "[14, 18, 1, 8, 0]\n",
      "[18, 1, 8, 0, 4]\n",
      "[1, 8, 0, 4, 10]\n",
      "[8, 0, 4, 10, 0]\n",
      "[0, 4, 10, 0, 4]\n",
      "[4, 10, 0, 4, 13]\n",
      "[10, 0, 4, 13, 11]\n",
      "[0, 4, 13, 11, 4]\n",
      "[4, 13, 11, 4, 12]\n",
      "[13, 11, 4, 12, 16]\n",
      "[11, 4, 12, 16, 0]\n",
      "[4, 12, 16, 0, 16]\n",
      "[12, 16, 0, 16, 14]\n",
      "[16, 0, 16, 14, 7]\n",
      "[0, 16, 14, 7, 3]\n",
      "[16, 14, 7, 3, 20]\n",
      "[14, 7, 3, 20, 7]\n",
      "[7, 3, 20, 7, 1]\n",
      "[3, 20, 7, 1, 2]\n",
      "[20, 7, 1, 2, 17]\n",
      "[7, 1, 2, 17, 12]\n"
     ]
    }
   ],
   "source": [
    "for n in range(len(numbers)-4):\n",
    "    print(numbers[n:n+5])"
   ]
  },
  {
   "cell_type": "code",
   "execution_count": 213,
   "metadata": {},
   "outputs": [
    {
     "name": "stdout",
     "output_type": "stream",
     "text": [
      "[13, 0, 5, 4, 15]\n",
      "[0, 5, 4, 15, 14]\n",
      "[5, 4, 15, 14, 18]\n",
      "[4, 15, 14, 18, 1]\n",
      "[15, 14, 18, 1, 8]\n",
      "[14, 18, 1, 8, 0]\n",
      "[18, 1, 8, 0, 4]\n",
      "[1, 8, 0, 4, 10]\n",
      "[8, 0, 4, 10, 0]\n",
      "[0, 4, 10, 0, 4]\n",
      "[4, 10, 0, 4, 13]\n",
      "[10, 0, 4, 13, 11]\n",
      "[0, 4, 13, 11, 4]\n",
      "[4, 13, 11, 4, 12]\n",
      "[13, 11, 4, 12, 16]\n",
      "[11, 4, 12, 16, 0]\n",
      "[4, 12, 16, 0, 16]\n",
      "[12, 16, 0, 16, 14]\n",
      "[16, 0, 16, 14, 7]\n",
      "[0, 16, 14, 7, 3]\n",
      "[16, 14, 7, 3, 20]\n",
      "[14, 7, 3, 20, 7]\n",
      "[7, 3, 20, 7, 1]\n",
      "[3, 20, 7, 1, 2]\n",
      "[20, 7, 1, 2, 17]\n",
      "[7, 1, 2, 17, 12]\n"
     ]
    }
   ],
   "source": [
    "debut =  0\n",
    "fin = debut +5\n",
    "while debut <= len(numbers)-5 :\n",
    "    print(numbers[debut:fin])\n",
    "    debut = debut + 1\n",
    "    fin = debut+5"
   ]
  },
  {
   "cell_type": "markdown",
   "metadata": {},
   "source": [
    "* Completez votre programme pour qu'il calcule les moyennes glissantes sur 6 valeurs, et stocke ces moyennes dans une liste, puis affichez cette liste."
   ]
  },
  {
   "cell_type": "code",
   "execution_count": 217,
   "metadata": {},
   "outputs": [
    {
     "name": "stdout",
     "output_type": "stream",
     "text": [
      "[8.5, 9.333333333333334, 9.5, 10.0, 9.333333333333334, 7.5, 6.833333333333333, 3.8333333333333335, 4.333333333333333, 5.166666666666667, 7.0, 7.0, 7.333333333333333, 10.0, 9.333333333333334, 9.833333333333334, 10.333333333333334, 10.833333333333334, 9.333333333333334, 10.0, 11.166666666666666, 8.666666666666666, 6.666666666666667, 8.333333333333334, 9.833333333333334]\n"
     ]
    }
   ],
   "source": [
    "average = []\n",
    "\n",
    "for n in range (len(numbers)-5):\n",
    "    paquet = numbers[n:n+6]\n",
    "    somme = 0\n",
    "    for nbr in paquet:\n",
    "        somme = somme+ nbr\n",
    "    moyenne = somme / len(paquet)\n",
    "    average.append(moyenne)\n",
    "    \n",
    "print(average)"
   ]
  },
  {
   "cell_type": "markdown",
   "metadata": {},
   "source": [
    "----\n",
    "\n",
    "### Exercice 3 : Villes de France\n",
    "\n",
    "Nous allons travailler sur un jeu de donnée représentant les 10 plus grandes villes de France, par leur population.  \n",
    "Les données sont de la forme :  \n",
    "Rang dans le classement, nom de la ville, Population, Superficie (en km<sup>2</sup>)"
   ]
  },
  {
   "cell_type": "code",
   "execution_count": 218,
   "metadata": {},
   "outputs": [],
   "source": [
    "villes = [\n",
    "    [1, \"Paris\",         2206488,  105.40],\n",
    "    [2, \"Marseille\",      861635,  240.62],\n",
    "    [3, \"Lyon\",           513275,  47.87 ],\n",
    "    [4, \"Toulouse\",       471941,  118.30],\n",
    "    [5, \"Nice\",           342522,  71.92],\n",
    "    [6, \"Nantes\",         303382,  65.19],\n",
    "    [7, \"Montpellier\",    277639,  56.88],\n",
    "    [8, \"Strasbourg\",     277270,  78.26],\n",
    "    [9, \"Bordeaux\",       249712,  49.36],\n",
    "    [10,\"Lille\",          232741,  34.51]\n",
    "]"
   ]
  },
  {
   "cell_type": "markdown",
   "metadata": {},
   "source": [
    "#### Question 1 \n",
    "\n",
    "Ecrivez une instruction qui va lire dans la liste la population de Strasbourg, et l'affiche.  \n",
    "\n"
   ]
  },
  {
   "cell_type": "code",
   "execution_count": 226,
   "metadata": {},
   "outputs": [
    {
     "name": "stdout",
     "output_type": "stream",
     "text": [
      "277270\n"
     ]
    }
   ],
   "source": [
    "print(villes[7][2])"
   ]
  },
  {
   "cell_type": "code",
   "execution_count": 225,
   "metadata": {},
   "outputs": [
    {
     "name": "stdout",
     "output_type": "stream",
     "text": [
      "277270\n"
     ]
    }
   ],
   "source": [
    "for v in villes:\n",
    "    if \"Strasbourg\" in v : \n",
    "        print(v[2])"
   ]
  },
  {
   "cell_type": "markdown",
   "metadata": {},
   "source": [
    "#### Question 2 \n",
    "\n",
    "Ecrivez une boucle qui affiche le rang et le nom des villes\n"
   ]
  },
  {
   "cell_type": "code",
   "execution_count": 220,
   "metadata": {},
   "outputs": [
    {
     "name": "stdout",
     "output_type": "stream",
     "text": [
      "1\n",
      "Paris\n",
      "2\n",
      "Marseille\n",
      "3\n",
      "Lyon\n",
      "4\n",
      "Toulouse\n",
      "5\n",
      "Nice\n",
      "6\n",
      "Nantes\n",
      "7\n",
      "Montpellier\n",
      "8\n",
      "Strasbourg\n",
      "9\n",
      "Bordeaux\n",
      "10\n",
      "Lille\n"
     ]
    }
   ],
   "source": [
    "for i in range(0, 10) :\n",
    "    for j in range(2) :\n",
    "        select = villes[i][j]\n",
    "        print(select)\n"
   ]
  },
  {
   "cell_type": "code",
   "execution_count": 227,
   "metadata": {},
   "outputs": [
    {
     "name": "stdout",
     "output_type": "stream",
     "text": [
      "1 Paris\n",
      "2 Marseille\n",
      "3 Lyon\n",
      "4 Toulouse\n",
      "5 Nice\n",
      "6 Nantes\n",
      "7 Montpellier\n",
      "8 Strasbourg\n",
      "9 Bordeaux\n",
      "10 Lille\n"
     ]
    }
   ],
   "source": [
    "for v in villes :\n",
    "    print(v[0], v[1])"
   ]
  },
  {
   "cell_type": "markdown",
   "metadata": {},
   "source": [
    "#### Question 3 \n",
    "\n",
    "Ecrivez un programme qui calcule la somme des populations de l'ensemble de ces villes\n"
   ]
  },
  {
   "cell_type": "code",
   "execution_count": 234,
   "metadata": {},
   "outputs": [
    {
     "name": "stdout",
     "output_type": "stream",
     "text": [
      "5736605\n"
     ]
    }
   ],
   "source": [
    "pop = 0\n",
    "for v in villes :\n",
    "        pop += v[2]\n",
    "print(pop)\n"
   ]
  },
  {
   "cell_type": "markdown",
   "metadata": {},
   "source": [
    "#### Question 4 \n",
    "\n",
    "Ecrivez un programme qui calcule la densité de population de chacune des villes.  \n",
    "Utilisez `.append()` pour modifier la liste et y stocker la densité de population.\n"
   ]
  },
  {
   "cell_type": "code",
   "execution_count": 252,
   "metadata": {},
   "outputs": [],
   "source": [
    "# Rappel : \n",
    "villes = [\n",
    "    [1, \"Paris\",         2206488,  105.40],\n",
    "    [2, \"Marseille\",      861635,  240.62],\n",
    "    [3, \"Lyon\",           513275,  47.87 ],\n",
    "    [4, \"Toulouse\",       471941,  118.30],\n",
    "    [5, \"Nice\",           342522,  71.92],\n",
    "    [6, \"Nantes\",         303382,  65.19],\n",
    "    [7, \"Montpellier\",    277639,  56.88],\n",
    "    [8, \"Strasbourg\",     277270,  78.26],\n",
    "    [9, \"Bordeaux\",       249712,  49.36],\n",
    "    [10,\"Lille\",          232741,  34.51]\n",
    "]\n",
    "\n",
    "# ..."
   ]
  },
  {
   "cell_type": "markdown",
   "metadata": {},
   "source": [
    "Le résultat attendu est : \n",
    "\n",
    "```python\n",
    "[\n",
    "  [1, 'Paris', 2206488, 105.4, 20934]\n",
    "  [2, 'Marseille', 861635, 240.62, 3580]\n",
    "  [3, 'Lyon', 513275, 47.87, 10722]\n",
    "  [4, 'Toulouse', 471941, 118.3, 3989]\n",
    "  [5, 'Nice', 342522, 71.92, 4762]\n",
    "  [6, 'Nantes', 303382, 65.19, 4653]\n",
    "  [7, 'Montpellier', 277639, 56.88, 4881]\n",
    "  [8, 'Strasbourg', 277270, 78.26, 3542]\n",
    "  [9, 'Bordeaux', 249712, 49.36, 5058]\n",
    "  [10, 'Lille', 232741, 34.51, 6744]\n",
    "]\n",
    "```"
   ]
  },
  {
   "cell_type": "code",
   "execution_count": 251,
   "metadata": {
    "tags": []
   },
   "outputs": [
    {
     "data": {
      "text/plain": [
       "[[1, 'Paris', 2206488, 105.4, 20934.421252371914],\n",
       " [2, 'Marseille', 861635, 240.62, 3580.895187432466],\n",
       " [3, 'Lyon', 513275, 47.87, 10722.26864424483],\n",
       " [4, 'Toulouse', 471941, 118.3, 3989.357565511412],\n",
       " [5, 'Nice', 342522, 71.92, 4762.541713014461],\n",
       " [6, 'Nantes', 303382, 65.19, 4653.811934345758],\n",
       " [7, 'Montpellier', 277639, 56.88, 4881.135724331926],\n",
       " [8, 'Strasbourg', 277270, 78.26, 3542.9338103756704],\n",
       " [9, 'Bordeaux', 249712, 49.36, 5058.9951377633715],\n",
       " [10, 'Lille', 232741, 34.51, 6744.161112720951]]"
      ]
     },
     "execution_count": 251,
     "metadata": {},
     "output_type": "execute_result"
    }
   ],
   "source": [
    "for i in range(len(villes)):\n",
    "    for j in range(1) :\n",
    "        villes[i].append(villes[i][2] / villes[i][3])\n",
    "villes"
   ]
  },
  {
   "cell_type": "code",
   "execution_count": 259,
   "metadata": {
    "tags": []
   },
   "outputs": [
    {
     "name": "stdout",
     "output_type": "stream",
     "text": [
      "[[1, 'Paris', 2206488, 105.4, 20934, 20934], [2, 'Marseille', 861635, 240.62, 3580, 3580], [3, 'Lyon', 513275, 47.87, 10722, 10722], [4, 'Toulouse', 471941, 118.3, 3989, 3989], [5, 'Nice', 342522, 71.92, 4762, 4762], [6, 'Nantes', 303382, 65.19, 4653, 4653], [7, 'Montpellier', 277639, 56.88, 4881, 4881], [8, 'Strasbourg', 277270, 78.26, 3542, 3542], [9, 'Bordeaux', 249712, 49.36, 5058, 5058], [10, 'Lille', 232741, 34.51, 6744, 6744]]\n"
     ]
    }
   ],
   "source": [
    "for v in villes : \n",
    "    v.append (int(v[2]/v[3]))\n",
    "print(villes)"
   ]
  },
  {
   "cell_type": "markdown",
   "metadata": {},
   "source": [
    "#### Question 5 \n",
    "\n",
    "Ecrivez un programme qui génère une liste de Tuples de la forme :\n",
    "( Nom de la ville, densité de population )\n"
   ]
  },
  {
   "cell_type": "code",
   "execution_count": 269,
   "metadata": {
    "tags": []
   },
   "outputs": [
    {
     "name": "stdout",
     "output_type": "stream",
     "text": [
      "[('Paris', 20934), ('Marseille', 3580), ('Lyon', 10722), ('Toulouse', 3989), ('Nice', 4762), ('Nantes', 4653), ('Montpellier', 4881), ('Strasbourg', 3542), ('Bordeaux', 5058), ('Lille', 6744)]\n"
     ]
    }
   ],
   "source": [
    "liste_densite=[]\n",
    "for v in villes:\n",
    "    liste_densite.append((v[1] , v[-1]))\n",
    "        \n",
    "print(liste_densite)"
   ]
  },
  {
   "cell_type": "code",
   "execution_count": null,
   "metadata": {},
   "outputs": [],
   "source": [
    "for v, d in liste_densite:\n",
    "    print( \"la densite de la population à \"+v + \"est de \" + str(d) + \" p/m²\")"
   ]
  },
  {
   "cell_type": "markdown",
   "metadata": {
    "tags": []
   },
   "source": [
    "#### Question 6\n",
    "\n",
    "Considérons que la liste générée à la question 5 est stockée dans une variable nommée `liste_densite`\n",
    "\n",
    "1. Créez une liste vide appelée `classement_densite`\n",
    "2. à partir `liste_densite`, trouvez la ville avec la plus grande densité de population\n",
    "3. Ajouter le tuple correspondant dans `classement_densite`\n",
    "4. supprimer le tuple correspondant de `liste_densite`\n",
    "5. Recommencez jusqu'à ce que `liste_densite` soit vide\n",
    "\n",
    "à la fin, vous devriez avoir obtenu une liste de villes triées par densité décroissante.\n"
   ]
  },
  {
   "cell_type": "code",
   "execution_count": 266,
   "metadata": {
    "jupyter": {
     "source_hidden": true
    },
    "tags": []
   },
   "outputs": [
    {
     "name": "stdout",
     "output_type": "stream",
     "text": [
      "[]\n"
     ]
    }
   ],
   "source": [
    "##classement_densite = []\n",
    "##\n",
    "##\n",
    "##while len(liste_densite) > 0:\n",
    "##    \n",
    "##    t_max = (\"\", 0)\n",
    "##    \n",
    "##    for t in liste_densite:\n",
    "##        if t[1] > t[1]:\n",
    "##            t_max = t\n",
    "##            \n",
    "##    classement_densite.append(t_max)\n",
    "##    liste_densite.remove(t_max)\n",
    "##\n",
    "##print(classement_densite)"
   ]
  },
  {
   "cell_type": "code",
   "execution_count": 270,
   "metadata": {},
   "outputs": [
    {
     "name": "stdout",
     "output_type": "stream",
     "text": [
      "[('Paris', 20934), ('Lyon', 10722), ('Lille', 6744), ('Bordeaux', 5058), ('Montpellier', 4881), ('Nice', 4762), ('Nantes', 4653), ('Toulouse', 3989), ('Marseille', 3580), ('Strasbourg', 3542)]\n"
     ]
    }
   ],
   "source": [
    "classement_densite = []\n",
    "rang_densite = 1\n",
    "\n",
    "while len(liste_densite) > 0 :\n",
    "    t_max=(\"\",0)\n",
    "    for t in liste_densite:\n",
    "        if t[1] > t_max[1]:\n",
    "            t_max = t\n",
    "    classement_densite.append (t_max)\n",
    "    liste_densite.remove(t_max)\n",
    "\n",
    "print(classement_densite)"
   ]
  },
  {
   "cell_type": "code",
   "execution_count": null,
   "metadata": {},
   "outputs": [],
   "source": []
  }
 ],
 "metadata": {
  "kernelspec": {
   "display_name": "Python 3 (ipykernel)",
   "language": "python",
   "name": "python3"
  },
  "language_info": {
   "codemirror_mode": {
    "name": "ipython",
    "version": 3
   },
   "file_extension": ".py",
   "mimetype": "text/x-python",
   "name": "python",
   "nbconvert_exporter": "python",
   "pygments_lexer": "ipython3",
   "version": "3.9.12"
  }
 },
 "nbformat": 4,
 "nbformat_minor": 4
}
