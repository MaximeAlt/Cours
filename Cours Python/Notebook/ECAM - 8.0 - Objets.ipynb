{
 "cells": [
  {
   "cell_type": "markdown",
   "metadata": {},
   "source": [
    "\n",
    "<section style=\"position:relative; width:100%;\">\n",
    "\n",
    "<div style=\"display:inline-block;\">\n",
    "<img src=\"images/ioapps_small.png\" style=\"width:200px;\" /> \n",
    "<p> Formateur :<br /> Pierre-Olivier Simonard <br />\n",
    "<a href=\"mailto:pierre.olivier.simonard@gmail.com\">pierre.olivier.simonard@gmail.com</a></p>\n",
    "</div>\n",
    "\n",
    "<div style=\"display:inline-block; float:right\">\n",
    "    <h3>ICAM </h3>\n",
    "    <p>Formation Data Science</p>\n",
    "    <p>Novembre 2022</p>\n",
    "    <img src=\"https://mirrors.creativecommons.org/presskit/buttons/88x31/png/by-nc-sa.eu.png\"  width=\"100px\" />\n",
    "</div>\n",
    "\n",
    "</section>\n",
    "\n",
    "\n",
    "<h1 style=\"text-align: center; width:100%\">Programmation Python</h1>\n",
    "<h2 style=\"text-align: center; width:100%\">Partie 8.0 : Programmation Orientée Objet </h2>\n",
    "\n",
    "<!--  \n",
    "Novembre 2022\n",
    "Pierre-Oliver Simonard - pierre.olivier.simonard@gmail.com\n",
    "-->\n",
    "\n",
    "<style>\n",
    "div.warn {    \n",
    "    background-color: #fcf2f2;\n",
    "    border-color: #dFb5b4;\n",
    "    border-left: 5px solid #dfb5b4;\n",
    "    padding: 0.5em;\n",
    "    }\n",
    "</style>"
   ]
  },
  {
   "cell_type": "markdown",
   "metadata": {},
   "source": [
    "-----\n",
    "\n",
    "Le programmation objet permet de rendre le code plus compréhensible, et plus facile à maintenir\n",
    "\n",
    "L'idée principale est de modéliser quelque chose de réel à partir de **ses propriétés** et de **ses fonctions**\n",
    "\n",
    "Ainsi, si on prend l'exemple d'un **véhicule** :\n",
    "  * Un véhicule peut être une voiture, un vélo, un camion, une fourgonnette, une trotinette ...\n",
    "  * ses propriétés sont : sa marque, le nombre de roues, la couleur, sa vitesse maximale ...\n",
    "  * ses fonctions sont : accélerer, freiner, klaxonner, allumer les clignotants pour certains véhicules ...\n",
    "  \n",
    "  \n",
    "\n",
    "La description des propriétés et fonctions d'un objet s'appelle **une classe**. \n",
    "\n",
    "\n",
    "### Etape 1 : Ecrivons une classe Vehicule :\n",
    "  "
   ]
  },
  {
   "cell_type": "code",
   "execution_count": 4,
   "metadata": {},
   "outputs": [
    {
     "name": "stdout",
     "output_type": "stream",
     "text": [
      "Mercedes jaune 4\n",
      "Lada\n"
     ]
    }
   ],
   "source": [
    "class Vehicule:\n",
    "    marque = \"Mercedes\"\n",
    "    nbr_roues = 4\n",
    "    couleur = \"jaune\"\n",
    "    vitesse_max = 230\n",
    "    \n",
    "# Fin de la déclaration de la classe Vehicule    \n",
    "    \n",
    "ma_voiture = Vehicule()\n",
    "print( ma_voiture.marque, ma_voiture.couleur, ma_voiture.nbr_roues) \n",
    "\n",
    "ma_voiture.marque = \"Lada\"\n",
    "print( ma_voiture.marque) "
   ]
  },
  {
   "cell_type": "code",
   "execution_count": 6,
   "metadata": {},
   "outputs": [
    {
     "name": "stdout",
     "output_type": "stream",
     "text": [
      "Mercedes Lada\n"
     ]
    }
   ],
   "source": [
    "ma_mercedes = Vehicule()\n",
    "ma_lada = Vehicule()\n",
    "ma_lada.marque = \"Lada\"\n",
    "\n",
    "print(ma_mercedes.marque, ma_lada.marque)"
   ]
  },
  {
   "cell_type": "markdown",
   "metadata": {},
   "source": [
    "\n",
    "* ```python\n",
    "class Vehicule:\n",
    "``` \n",
    "le mot-clé **class** permet de déclarer une classe, ici **Vehicule** \n",
    "  \n",
    "  \n",
    "  \n",
    "* ```python\n",
    "marque = \"BMW\"\n",
    "nbr_roues = 4\n",
    "...\n",
    "``` \n",
    "Les variables déclarées ici (marque, nbr_roues, ...) sont les **propriétés** de la classe. </br>\n",
    "Ici, on leur donne des **valeurs par défaut** (\"BMW\", couleur \"noire\", ...)\n",
    "\n",
    "\n",
    "* ```python\n",
    "ma_voiture = Vehicule()\n",
    "```\n",
    "Ici, on crée un objet Vehicule, qui sera stocké dans la variable ma_voiture\n",
    "  \n",
    "  \n",
    "* ```python\n",
    "print( ma_voiture.marque, ma_voiture.couleur ) \n",
    "```\n",
    "Ici, on accède aux propriétés de l'objet, grâce **au point**.\n",
    "  \n",
    "  \n",
    "\n",
    "\n",
    "\n",
    "C'est une première approche. Mais elle est toutefois rigide : Chaque objet Vehicule est construit avec ses valeurs par défaut, \n"
   ]
  },
  {
   "cell_type": "markdown",
   "metadata": {},
   "source": [
    "### Etape 2 : ajout d'un Constructeur\n",
    "\n",
    "On aimerait pouvoir construire un objet Vehicule sans ces valeurs par défaut, en lui fournissant **des valeurs directement à la création**. par exemple comme ceci :\n",
    "```python\n",
    "ma_bmw = Vehicule(\"BMW\", 4, \"noire\", 230)\n",
    "mon_audi = Vehicule(\"Audi\", 4, \"noire\", 250)\n",
    "``` \n",
    "\n",
    "Pour cela, nous allons : \n",
    "* Ajouter à notre classe une ~~fonction~~ méthode **\\__init\\__**. <br />\n",
    "⚠️ Quand une fonction est déclarée à l'intérieur d'une classe, on parle de **méthode**. **\\__init\\__** est donc une méthode, pas une fonction.<br />\n",
    "* Supprimer les valeurs par défaut, qui ne serviront plus à rien\n"
   ]
  },
  {
   "cell_type": "code",
   "execution_count": 7,
   "metadata": {},
   "outputs": [],
   "source": [
    "class Vehicule:\n",
    "    marque = \"Mercedes\"\n",
    "    nbr_roues = 4\n",
    "    couleur = \"jaune\"\n",
    "    vitesse_max = 230\n",
    "    \n",
    "vehicule_v1 = Vehicule()"
   ]
  },
  {
   "cell_type": "code",
   "execution_count": 22,
   "metadata": {},
   "outputs": [
    {
     "name": "stdout",
     "output_type": "stream",
     "text": [
      "solaire\n",
      "BMW Decathlon Lada\n",
      "solaire\n"
     ]
    }
   ],
   "source": [
    "class Vehicule:\n",
    "    type_energie = \"fossile\"\n",
    "    \n",
    "    def __init__(self, m=\"BMW\", n=4, c=\"noire\", v=230):\n",
    "        self.vitesse_max = v\n",
    "        self.nbr_roues = n\n",
    "        self.marque = m\n",
    "        self.couleur = c\n",
    "        self.type_energie = \"solaire\"\n",
    "       \n",
    "    \n",
    "ma_bmw_par_defaut = Vehicule()\n",
    "print(ma_bmw_par_defaut.type_energie)\n",
    "\n",
    "mon_velo = Vehicule(\"Decathlon\", 2, \"bleu\", 45)\n",
    "ma_lada = Vehicule(\"Lada\", 4, \"bleue\", 30)\n",
    "\n",
    "print( ma_bmw_par_defaut.marque, mon_velo.marque, ma_lada.marque )\n",
    "\n",
    "print(ma_bmw_par_defaut.type_energie)"
   ]
  },
  {
   "cell_type": "code",
   "execution_count": 22,
   "metadata": {},
   "outputs": [
    {
     "name": "stdout",
     "output_type": "stream",
     "text": [
      "BMW Decathlon\n"
     ]
    }
   ],
   "source": [
    "class Vehicule:\n",
    "\n",
    "    def __init__(self, marque=\"BMW\", nbr_roues=4, couleur=\"noire\", vitesse_max=230):\n",
    "        self.marque = marque\n",
    "        self.nbr_roues = nbr_roues\n",
    "        self.couleur = couleur\n",
    "        self.vitesse_max = vitesse_max\n",
    "        \n",
    "# Fin de la déclaration de la classe Vehicule\n",
    "\n",
    "ma_bmw_par_defaut = Vehicule()\n",
    "mon_velo = Vehicule(\"Decathlon\", 2, \"bleu\", 45)\n",
    "\n",
    "print( ma_bmw_par_defaut.marque, mon_velo.marque ) "
   ]
  },
  {
   "cell_type": "markdown",
   "metadata": {},
   "source": [
    "* **__init** est appelé le **constructeur** de la classe Vehicule. \n",
    "\n",
    "⚠️ **Attention : Constructeur** est un terme de programmation désignant la méthode qui permet de créer un objet et d'assigner des valeurs à ses propriétés - Rien à voir avec le \"constructeur d'un véhicule\" comme Renault ou BMW etc ...\n",
    "\n",
    "* En Python, il ne peut y avoir qu'un seul constructeur par classe\n",
    "\n",
    "* Le premier paramètre de \\_\\_init\\_\\_ doit obligatoirement être **self**, qui permet de définir les propriétés de la classe   : \n",
    "```python\n",
    "self.marque = marque\n",
    "self.nbr_roues = nbr_roues\n",
    "...\n",
    "```\n",
    "\n",
    "* à l'intérieur des méthodes de la classe, **self** se réfère à l'objet instancié. <br />\n",
    "Pour mieux comprendre, faisons évoluer notre classe"
   ]
  },
  {
   "cell_type": "markdown",
   "metadata": {},
   "source": [
    "### Etape 3 : ajout de méthodes, utilisation de self\n",
    "\n",
    "Notre véhicule possède une vitesse maximale, mais pas de vitesse actuelle.\n",
    "\n",
    "Nous allons lui ajouter un attribut **vitesse_actuelle** et deux méthodes :\n",
    "* **accelerer**, qui augmente vitesse_actuelle de 10\n",
    "* **ralentir**, qui réduit vitesse_actuelle de 10\n",
    "* **vitesse_actuelle** doit toujours être comprise dans l'intervalle **[0, vitesse_max]**\n"
   ]
  },
  {
   "cell_type": "code",
   "execution_count": 29,
   "metadata": {},
   "outputs": [
    {
     "name": "stdout",
     "output_type": "stream",
     "text": [
      "0\n"
     ]
    }
   ],
   "source": [
    "class Vehicule:\n",
    "\n",
    "    def __init__(self, \n",
    "                 marque=\"BMW\", \n",
    "                 nbr_roues=4, \n",
    "                 couleur=\"noire\", \n",
    "                 vitesse_max=230):\n",
    "        self.marque = marque\n",
    "        self.nbr_roues = nbr_roues\n",
    "        self.couleur = couleur\n",
    "        self.vitesse_max = vitesse_max\n",
    "        self.vitesse_actuelle = 0\n",
    "\n",
    "    def accelerer(self):\n",
    "        if self.vitesse_actuelle + 10 <= self.vitesse_max:\n",
    "            self.vitesse_actuelle += 10 \n",
    "        else:\n",
    "            self.vitesse_actuelle = self.vitesse_max\n",
    "            \n",
    "    def ralentir(self):\n",
    "        if self.vitesse_actuelle - 10 >= 0:\n",
    "            self.vitesse_actuelle -= 10 \n",
    "        else:\n",
    "            self.vitesse_actuelle = 0\n",
    "\n",
    "     \n",
    "    \n",
    "ma_voiture = Vehicule(\"BMW\", 4, \"noire\", 115)\n",
    "print(ma_voiture.vitesse_actuelle) # 0 juste après la construction de l'objet\n"
   ]
  },
  {
   "cell_type": "code",
   "execution_count": 31,
   "metadata": {},
   "outputs": [
    {
     "name": "stdout",
     "output_type": "stream",
     "text": [
      "115\n",
      "115\n",
      "5\n",
      "0\n"
     ]
    }
   ],
   "source": [
    "for i in range(11):\n",
    "    ma_voiture.accelerer()\n",
    "print(ma_voiture.vitesse_actuelle)\n",
    "\n",
    "ma_voiture.accelerer()\n",
    "print(ma_voiture.vitesse_actuelle)\n",
    "\n",
    "for i in range(11):\n",
    "    ma_voiture.ralentir()\n",
    "print(ma_voiture.vitesse_actuelle)\n",
    "\n",
    "ma_voiture.ralentir()\n",
    "print(ma_voiture.vitesse_actuelle)\n"
   ]
  },
  {
   "cell_type": "markdown",
   "metadata": {},
   "source": [
    "Ainsi, on constate que pour accéder aux propriétés d'un objet :\n",
    "* à l'intérieur de l'objet, on utilise **self** . _d'où l'importance de l'avoir en premier paramètre ..._\n",
    "* à l'extérieur, on utilise directement l'objet.\n",
    "\n",
    "\n",
    "### Etape 4 : Méthodes et attributs : publics, mais aussi privés \n",
    "\n",
    "à partir du design actuel de la classe Vehicule, rien n'empêche d'executer le code suivant :\n"
   ]
  },
  {
   "cell_type": "code",
   "execution_count": 32,
   "metadata": {},
   "outputs": [
    {
     "name": "stdout",
     "output_type": "stream",
     "text": [
      "0\n",
      "9999\n"
     ]
    }
   ],
   "source": [
    "ma_voiture = Vehicule(\"BMW\", 4, \"noire\", 230)\n",
    "print(ma_voiture.vitesse_actuelle)\n",
    "\n",
    "ma_voiture.vitesse_actuelle = 9999 \n",
    "print(ma_voiture.vitesse_actuelle) "
   ]
  },
  {
   "cell_type": "markdown",
   "metadata": {},
   "source": [
    "En effet, toutes les méthodes et propriétés que nous avons définies jusqu'à présent sont **publiques**\n",
    "\n",
    "Autrement dit : rien n'empêche de modifier certaines propriétés de la classe, et de faire n'importe quoi.\n",
    "\n",
    "Pour améliorer cela, il faut confiner la propriété vitesse_actuelle à l'intérieur de la classe : interdiction de la modifier depuis l'extérieur !\n",
    "\n",
    "En python, pour définir une propriété comme étant **privée**, il suffit de la préfixer par deux underscore **__**\n",
    "\n",
    "**vitesse_actuelle** va donc devenir **\\_\\_vitesse_actuelle** :"
   ]
  },
  {
   "cell_type": "code",
   "execution_count": 43,
   "metadata": {},
   "outputs": [
    {
     "name": "stdout",
     "output_type": "stream",
     "text": [
      "10\n"
     ]
    },
    {
     "data": {
      "text/plain": [
       "''"
      ]
     },
     "execution_count": 43,
     "metadata": {},
     "output_type": "execute_result"
    }
   ],
   "source": [
    "class Vehicule:\n",
    "\n",
    "    def __init__(self, marque=\"BMW\", nbr_roues=4, couleur=\"noire\", vitesse_max=230):\n",
    "        self.marque = marque\n",
    "        self.nbr_roues = nbr_roues\n",
    "        self.couleur = couleur\n",
    "        self.vitesse_max = vitesse_max\n",
    "        self.__vitesse_actuelle = 0\n",
    "\n",
    "    def accelerer(self):\n",
    "        if self.__vitesse_actuelle + 10 <= self.vitesse_max:\n",
    "            self.__vitesse_actuelle += 10 \n",
    "        else:\n",
    "            self.__vitesse_actuelle = self.vitesse_max\n",
    "            \n",
    "    def ralentir(self):\n",
    "        if self.__vitesse_actuelle - 10 >= 0:\n",
    "            self.__vitesse_actuelle -= 10 \n",
    "        else:\n",
    "            self.__vitesse_actuelle = 0\n",
    "        \n",
    "    def vitesse_courante(self):\n",
    "        return self.__vitesse_actuelle\n",
    "            \n",
    "ma_voiture = Vehicule(\"BMW\", 4, \"noire\", 230)\n",
    "\n",
    "ma_voiture.accelerer()\n",
    "print( ma_voiture.vitesse_courante() )\n",
    "\n",
    "\n",
    "\n",
    "'''\n",
    "print( ma_voiture.vitesse_courante())\n",
    "try:\n",
    "    ma_voiture.__vitesse_actuelle = 99999\n",
    "except Exception as e:\n",
    "    print(\"Erreur\", e)\n",
    "'''\n",
    ";"
   ]
  },
  {
   "cell_type": "markdown",
   "metadata": {},
   "source": [
    "la propriété \\__vitesse_actuelle est donc bien inaccessible depuis l'extérieur,  \n",
    "et la  méthode vitesse_actuelle() nous permet d'accéder à sa valeur.\n",
    "\n",
    "\n",
    "Le préfixe **\\__** pour rendre privé une propriété fonctionne aussi pour **rendre privée une méthode** :"
   ]
  },
  {
   "cell_type": "code",
   "execution_count": 59,
   "metadata": {},
   "outputs": [
    {
     "name": "stdout",
     "output_type": "stream",
     "text": [
      "Vitesse maximale atteinte\n",
      "True\n",
      "Erreur 'Vehicule' object has no attribute '__msg_arret'\n"
     ]
    }
   ],
   "source": [
    "class Vehicule:\n",
    "\n",
    "    def __init__(self, marque=\"BMW\", nbr_roues=4, couleur=\"noire\", vitesse_max=230):\n",
    "        self.marque = marque\n",
    "        self.nbr_roues = nbr_roues\n",
    "        self.couleur = couleur\n",
    "        self.vitesse_max = vitesse_max\n",
    "        self.__vitesse_actuelle = 0\n",
    "\n",
    "    def accelerer(self):\n",
    "        if self.__vitesse_actuelle + 10 < self.vitesse_max:\n",
    "            self.__vitesse_actuelle += 10 \n",
    "        else:\n",
    "            self.__vitesse_actuelle = self.vitesse_max\n",
    "            self.__msg_vitesse_max()\n",
    "            \n",
    "    def ralentir(self):\n",
    "        if self.__vitesse_actuelle - 10 > 0:\n",
    "            self.__vitesse_actuelle -= 10 \n",
    "        else:\n",
    "            self.__vitesse_actuelle = 0\n",
    "            self.__msg_arret()\n",
    "                        \n",
    "    def vitesse_actuelle(self):\n",
    "        return self.__vitesse_actuelle\n",
    "    \n",
    "    def __msg_vitesse_max(self):\n",
    "        print(\"Vitesse maximale atteinte\")\n",
    "         \n",
    "    def __msg_arret(self):\n",
    "        print(\"Le véhicule est à l'arrêt\")\n",
    "            \n",
    "    def __str__(self):\n",
    "        return \"%s %s, vitesse max : %s\" % (self.marque, self.couleur, self.vitesse_max)\n",
    "\n",
    "    def __repr__(self):\n",
    "        return \"[%s %s %s %s]\" % (self.marque, self.couleur, self.vitesse_max, self.nbr_roues)\n",
    "\n",
    "        \n",
    "        \n",
    "ma_voiture = Vehicule(\"BMW\", 4, \"noire\", 230)\n",
    "\n",
    "[ ma_voiture.accelerer() for i in range(23) ]\n",
    "\n",
    "print(type(ma_voiture)==Vehicule)\n",
    "try:\n",
    "    ma_voiture.__msg_arret()\n",
    "except Exception as e:\n",
    "    print(\"Erreur\", e)\n"
   ]
  },
  {
   "cell_type": "code",
   "execution_count": 62,
   "metadata": {},
   "outputs": [
    {
     "name": "stdout",
     "output_type": "stream",
     "text": [
      "BMW noire, vitesse max : 230\n",
      "[[BMW noire 230 4], [BMW noire 230 4]]\n"
     ]
    }
   ],
   "source": [
    "print( ma_voiture )\n",
    "print( [ma_voiture, ma_voiture] )"
   ]
  },
  {
   "cell_type": "markdown",
   "metadata": {},
   "source": [
    "\n",
    "<br /><br />\n",
    "\n",
    "⚠️ Il est recommandé **de ne rendre publique que les méthodes qui ont besoin d'être publiques**.\n",
    "* La logique interne d'un objet sera implémentée dans les méthodes privées\n",
    "* les méthodes publiques sont destinées à une utilisation \"par un tiers\", qui n'aura pas accès à la logique interne pour éviter les bugs.\n",
    "\n",
    "C'est ce qu'on appelle **l'encapsulation**"
   ]
  }
 ],
 "metadata": {
  "kernelspec": {
   "display_name": "Python 3 (ipykernel)",
   "language": "python",
   "name": "python3"
  },
  "language_info": {
   "codemirror_mode": {
    "name": "ipython",
    "version": 3
   },
   "file_extension": ".py",
   "mimetype": "text/x-python",
   "name": "python",
   "nbconvert_exporter": "python",
   "pygments_lexer": "ipython3",
   "version": "3.9.7"
  }
 },
 "nbformat": 4,
 "nbformat_minor": 4
}
