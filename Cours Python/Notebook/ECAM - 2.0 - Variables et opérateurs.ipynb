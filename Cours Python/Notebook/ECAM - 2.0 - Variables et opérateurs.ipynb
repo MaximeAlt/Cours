{
 "cells": [
  {
   "cell_type": "markdown",
   "metadata": {},
   "source": [
    "\n",
    "<section style=\"position:relative; width:100%;\">\n",
    "\n",
    "<div style=\"display:inline-block;\">\n",
    "<img src=\"images/ioapps_small.png\" style=\"width:200px;\" /> \n",
    "<p> Formateur :<br /> Pierre-Olivier Simonard <br />\n",
    "<a href=\"mailto:pierre.olivier.simonard@gmail.com\">pierre.olivier.simonard@gmail.com</a></p>\n",
    "</div>\n",
    "\n",
    "<div style=\"display:inline-block; float:right\">\n",
    "    <h3>ICAM </h3>\n",
    "    <p>Formation Data Science</p>\n",
    "    <p>Novembre 2022</p>\n",
    "    <img src=\"https://mirrors.creativecommons.org/presskit/buttons/88x31/png/by-nc-sa.eu.png\"  width=\"100px\" />\n",
    "</div>\n",
    "\n",
    "</section>\n",
    "\n",
    "\n",
    "<h1 style=\"text-align: center; width:100%\">Programmation Python</h1>\n",
    "<h2 style=\"text-align: center; width:100%\">Partie 2.0 : Variables et opérateurs </h2>\n",
    "\n",
    "<!--  \n",
    "Novembre 2022\n",
    "Pierre-Oliver Simonard - pierre.olivier.simonard@gmail.com\n",
    "-->\n",
    "\n",
    "<style>\n",
    "div.warn {    \n",
    "    background-color: #fcf2f2;\n",
    "    border-color: #dFb5b4;\n",
    "    border-left: 5px solid #dfb5b4;\n",
    "    padding: 0.5em;\n",
    "    }\n",
    "</style>"
   ]
  },
  {
   "cell_type": "markdown",
   "metadata": {},
   "source": [
    "### 1 - Variable et affectation\n",
    "\n",
    "Une variable permet de stocker une valeur pour l'utiliser ensuite.\n",
    "\n",
    "Ainsi, l'exemple vu précédemment :"
   ]
  },
  {
   "cell_type": "code",
   "execution_count": 1,
   "metadata": {},
   "outputs": [
    {
     "name": "stdout",
     "output_type": "stream",
     "text": [
      "ECAM Novembre 2022\n"
     ]
    }
   ],
   "source": [
    "print(\"ECAM Novembre 2022\")"
   ]
  },
  {
   "cell_type": "markdown",
   "metadata": {},
   "source": [
    "Peut s'ecrire en utilisant une variable :"
   ]
  },
  {
   "cell_type": "code",
   "execution_count": 2,
   "metadata": {},
   "outputs": [
    {
     "name": "stdout",
     "output_type": "stream",
     "text": [
      "ECAM Novembre 2022\n"
     ]
    }
   ],
   "source": [
    "mon_texte = \"ECAM Novembre 2022\"\n",
    "print(mon_texte)"
   ]
  },
  {
   "cell_type": "markdown",
   "metadata": {},
   "source": [
    "* **mon_texte** est le **nom** de ma variable \n",
    "\n",
    "* Le nom d'une variable peut être constitué de lettres (minuscules comme majuscules), de chifres, et du underscore. Mais le premier caractère ne peut pas être un chiffre.\n",
    "\n",
    "* L'opérateur __=__ (simple égal) est appelé **opérateur d'affectation** et permet de définir la valeur de la variable"
   ]
  },
  {
   "cell_type": "markdown",
   "metadata": {},
   "source": [
    "On peut utiliser **l'opérateur d'affectation** pour changer la valeur d'une variable :"
   ]
  },
  {
   "cell_type": "code",
   "execution_count": 4,
   "metadata": {},
   "outputs": [
    {
     "name": "stdout",
     "output_type": "stream",
     "text": [
      "ICAM Novembre 2022\n",
      "ICAM Novembre 2022 - Cours de Python\n"
     ]
    }
   ],
   "source": [
    "hello = \"ICAM Novembre 2022\"\n",
    "print(hello)\n",
    "\n",
    "hello = \"ICAM Novembre 2022 - Cours de Python\"\n",
    "print(hello)"
   ]
  },
  {
   "cell_type": "markdown",
   "metadata": {},
   "source": [
    "### Bonus : Commentaires en python\n",
    "\n",
    "Voici comment réaliser un commentaire dans du code python :"
   ]
  },
  {
   "cell_type": "code",
   "execution_count": 4,
   "metadata": {},
   "outputs": [
    {
     "name": "stdout",
     "output_type": "stream",
     "text": [
      "test\n"
     ]
    }
   ],
   "source": [
    "print(\"test\") # ceci est un commentaire"
   ]
  },
  {
   "cell_type": "markdown",
   "metadata": {},
   "source": [
    "### 2 - Types de variables\n",
    "\n",
    "Dans l'exemple précédent, la variable **mon_texte** contient du texte.\n",
    "\n",
    "Il existe plusieurs types de variables, permettant de stocker des données de différentes natures : texte, nombres entiers, nombres à virgule ...\n",
    "\n",
    "Nous allons passer en revue les plus courants :"
   ]
  },
  {
   "cell_type": "markdown",
   "metadata": {},
   "source": [
    "#### Bool \n",
    "Permet de stocker une valeur vraie (`True`) ou fausse (`False`)"
   ]
  },
  {
   "cell_type": "code",
   "execution_count": 5,
   "metadata": {},
   "outputs": [
    {
     "name": "stdout",
     "output_type": "stream",
     "text": [
      "True\n",
      "False\n"
     ]
    }
   ],
   "source": [
    "mon_boolean = True \n",
    "print(mon_boolean)\n",
    "\n",
    "mon_boolean = False \n",
    "print(mon_boolean)"
   ]
  },
  {
   "cell_type": "markdown",
   "metadata": {},
   "source": [
    "On parle de variable \"booléenne\", en référence à l'algèbre de Boole.\n",
    "https://fr.wikipedia.org/wiki/Algèbre_de_Boole_(logique)"
   ]
  },
  {
   "cell_type": "markdown",
   "metadata": {},
   "source": [
    "#### Int \n",
    "Permet de stocker des valeurs entières (positives comme négatives)"
   ]
  },
  {
   "cell_type": "code",
   "execution_count": 6,
   "metadata": {},
   "outputs": [
    {
     "name": "stdout",
     "output_type": "stream",
     "text": [
      "365\n",
      "-4\n"
     ]
    }
   ],
   "source": [
    "nbr_jours = 365\n",
    "print(nbr_jours)\n",
    "\n",
    "temperature_hiver = -4\n",
    "print(temperature_hiver)"
   ]
  },
  {
   "cell_type": "markdown",
   "metadata": {},
   "source": [
    "#### Float \n",
    "type numérique, pour stocker des nombres à virgules (positifs comme négatifs), aussi appelés \"flottants\""
   ]
  },
  {
   "cell_type": "code",
   "execution_count": 7,
   "metadata": {},
   "outputs": [
    {
     "name": "stdout",
     "output_type": "stream",
     "text": [
      "3.14\n",
      "-273.15\n"
     ]
    }
   ],
   "source": [
    "valeur_pi = 3.14\n",
    "print(valeur_pi)\n",
    "\n",
    "zero_absolu = -273.15\n",
    "print(zero_absolu)"
   ]
  },
  {
   "cell_type": "markdown",
   "metadata": {},
   "source": [
    "#### String \n",
    "les chaines de caractère, comme vu dans l'exemple précedent :"
   ]
  },
  {
   "cell_type": "code",
   "execution_count": 4,
   "metadata": {},
   "outputs": [
    {
     "name": "stdout",
     "output_type": "stream",
     "text": [
      "ECAM Novembre 2022\n"
     ]
    }
   ],
   "source": [
    "mon_texte = \"ECAM Novembre 2022\"\n",
    "print(mon_texte)"
   ]
  },
  {
   "cell_type": "code",
   "execution_count": 9,
   "metadata": {},
   "outputs": [
    {
     "name": "stdout",
     "output_type": "stream",
     "text": [
      "Bonjour L'ECAM\n"
     ]
    }
   ],
   "source": [
    "mon_texte = 'Bonjour L\\'ECAM' \n",
    "print(mon_texte)"
   ]
  },
  {
   "cell_type": "code",
   "execution_count": 10,
   "metadata": {},
   "outputs": [
    {
     "name": "stdout",
     "output_type": "stream",
     "text": [
      "Bonjour \n",
      "L'ECAM\n"
     ]
    }
   ],
   "source": [
    "mon_texte = \"Bonjour \\nL'ECAM\"\n",
    "print(mon_texte)"
   ]
  },
  {
   "cell_type": "code",
   "execution_count": 11,
   "metadata": {},
   "outputs": [
    {
     "name": "stdout",
     "output_type": "stream",
     "text": [
      "  Ce qui permet\n",
      "D'écrire \n",
      "sur      plusieurs\n",
      "Lignes !\n",
      "\n"
     ]
    }
   ],
   "source": [
    "mon_texte = '''  Ce qui permet\n",
    "D'écrire \n",
    "sur      plusieurs\n",
    "Lignes !\n",
    "'''\n",
    "print(mon_texte)"
   ]
  },
  {
   "cell_type": "markdown",
   "metadata": {},
   "source": [
    "#### Déterminer le type d'une variable\n",
    "\n",
    "Pour connaître le type d'une variable, on peut utiliser la fonction `type()`.\n",
    "\n",
    "Voici un exemple de code illustrant chacun de ces types :"
   ]
  },
  {
   "cell_type": "code",
   "execution_count": 12,
   "metadata": {},
   "outputs": [
    {
     "name": "stdout",
     "output_type": "stream",
     "text": [
      "<class 'bool'> True\n",
      "<class 'int'> 3\n",
      "<class 'float'> 3.14159\n",
      "<class 'str'> La valeur de pi est environ 3.14\n"
     ]
    }
   ],
   "source": [
    "mon_boolean = True \n",
    "mon_int = 3 \n",
    "mon_float = 3.14159 \n",
    "mon_str = \"La valeur de pi est environ 3.14\"\n",
    "\n",
    "print(  type(mon_boolean),  mon_boolean)\n",
    "print(  type(mon_int),      mon_int)\n",
    "print(  type(mon_float),    mon_float)\n",
    "print(  type(mon_str),      mon_str)"
   ]
  },
  {
   "cell_type": "markdown",
   "metadata": {},
   "source": [
    "----\n",
    "#### Conversion d'un type vers un autre - utile avec input()\n",
    "\n",
    "la fonction `input()` permet de demander à l'utilisateur de saisir une valeur, que l'on affecte à une variable."
   ]
  },
  {
   "cell_type": "code",
   "execution_count": 5,
   "metadata": {},
   "outputs": [
    {
     "name": "stdin",
     "output_type": "stream",
     "text": [
      "veuillez saisir une valeur :  99\n"
     ]
    },
    {
     "name": "stdout",
     "output_type": "stream",
     "text": [
      "99 <class 'str'>\n"
     ]
    }
   ],
   "source": [
    "valeur_saisie = input(\"veuillez saisir une valeur : \")\n",
    "print(valeur_saisie, type(valeur_saisie))"
   ]
  },
  {
   "cell_type": "markdown",
   "metadata": {},
   "source": [
    "`input()` retourne **toujours** une string, même si on ne saisi que des nombres.\n",
    "\n",
    "Dans ce cas, il est donc nécessaire de convertir une variable d'un type vers un autre type.\n",
    "\n",
    "Par exemple, si on a la chaine de caractère `\"3.14\"` et que l'on veut la convertir en nombre à virgule :"
   ]
  },
  {
   "cell_type": "code",
   "execution_count": 14,
   "metadata": {},
   "outputs": [
    {
     "name": "stdout",
     "output_type": "stream",
     "text": [
      "3.14 <class 'str'>\n"
     ]
    }
   ],
   "source": [
    "valeur_pi = \"3.14\" # string contenant les caractères 3 . 1 4\n",
    "print(valeur_pi, type(valeur_pi))"
   ]
  },
  {
   "cell_type": "code",
   "execution_count": 15,
   "metadata": {},
   "outputs": [
    {
     "name": "stdout",
     "output_type": "stream",
     "text": [
      "3.14 <class 'float'>\n"
     ]
    }
   ],
   "source": [
    "valeur_pi_float = float(valeur_pi)\n",
    "print(valeur_pi_float, type(valeur_pi_float))"
   ]
  },
  {
   "cell_type": "code",
   "execution_count": 16,
   "metadata": {},
   "outputs": [
    {
     "name": "stdout",
     "output_type": "stream",
     "text": [
      "3 <class 'int'>\n"
     ]
    }
   ],
   "source": [
    "valeur_pi_int = int(valeur_pi_float)\n",
    "print(valeur_pi_int, type(valeur_pi_int))"
   ]
  },
  {
   "cell_type": "code",
   "execution_count": 17,
   "metadata": {},
   "outputs": [
    {
     "name": "stdin",
     "output_type": "stream",
     "text": [
      "veuillez saisir une valeur entière :  99\n"
     ]
    },
    {
     "name": "stdout",
     "output_type": "stream",
     "text": [
      "99 <class 'int'>\n"
     ]
    }
   ],
   "source": [
    "valeur_saisie = input(\"veuillez saisir une valeur entière : \")\n",
    "valeur_saisie_int = int(valeur_saisie)\n",
    "\n",
    "print( valeur_saisie_int, type(valeur_saisie_int) )"
   ]
  },
  {
   "cell_type": "markdown",
   "metadata": {},
   "source": [
    "On peut également convertir un nombre en string :"
   ]
  },
  {
   "cell_type": "code",
   "execution_count": 18,
   "metadata": {},
   "outputs": [
    {
     "name": "stdout",
     "output_type": "stream",
     "text": [
      "3.14 <class 'str'>\n"
     ]
    }
   ],
   "source": [
    "pi = 3.14\n",
    "pi = str(pi)\n",
    "print(pi, type(pi) )"
   ]
  },
  {
   "cell_type": "markdown",
   "metadata": {},
   "source": [
    "<div style=\"background-color: #fcf2f2;border-color: #dFb5b4;border-left: 5px solid #dfb5b4;padding: 0.5em;\">\n",
    "<b>Attention</b> : Toutes les conversions ne sont pas possibles.<br />\n",
    "</div>\n"
   ]
  },
  {
   "cell_type": "markdown",
   "metadata": {},
   "source": [
    "Voici quelque exemples de conversions érronées :"
   ]
  },
  {
   "cell_type": "code",
   "execution_count": 22,
   "metadata": {},
   "outputs": [
    {
     "ename": "ValueError",
     "evalue": "invalid literal for int() with base 10: '3.14'",
     "output_type": "error",
     "traceback": [
      "\u001b[0;31m---------------------------------------------------------------------------\u001b[0m",
      "\u001b[0;31mValueError\u001b[0m                                Traceback (most recent call last)",
      "\u001b[0;32m/var/folders/1z/qyvvqqd90xx11g5r_2vzndxm0000gn/T/ipykernel_11529/152942476.py\u001b[0m in \u001b[0;36m<module>\u001b[0;34m\u001b[0m\n\u001b[0;32m----> 1\u001b[0;31m \u001b[0mint\u001b[0m\u001b[0;34m(\u001b[0m\u001b[0;34m\"3.14\"\u001b[0m\u001b[0;34m)\u001b[0m\u001b[0;34m\u001b[0m\u001b[0;34m\u001b[0m\u001b[0m\n\u001b[0m",
      "\u001b[0;31mValueError\u001b[0m: invalid literal for int() with base 10: '3.14'"
     ]
    }
   ],
   "source": [
    "int(\"3.14\")"
   ]
  },
  {
   "cell_type": "code",
   "execution_count": 23,
   "metadata": {},
   "outputs": [
    {
     "name": "stdin",
     "output_type": "stream",
     "text": [
      "Saisissez une valeur entière ECAM\n"
     ]
    },
    {
     "ename": "ValueError",
     "evalue": "invalid literal for int() with base 10: 'ECAM'",
     "output_type": "error",
     "traceback": [
      "\u001b[0;31m---------------------------------------------------------------------------\u001b[0m",
      "\u001b[0;31mValueError\u001b[0m                                Traceback (most recent call last)",
      "\u001b[0;32m/var/folders/1z/qyvvqqd90xx11g5r_2vzndxm0000gn/T/ipykernel_11529/1805128198.py\u001b[0m in \u001b[0;36m<module>\u001b[0;34m\u001b[0m\n\u001b[1;32m      1\u001b[0m \u001b[0mma_variable\u001b[0m \u001b[0;34m=\u001b[0m \u001b[0minput\u001b[0m\u001b[0;34m(\u001b[0m\u001b[0;34m\"Saisissez une valeur entière\"\u001b[0m\u001b[0;34m)\u001b[0m\u001b[0;34m\u001b[0m\u001b[0;34m\u001b[0m\u001b[0m\n\u001b[0;32m----> 2\u001b[0;31m \u001b[0mprint\u001b[0m\u001b[0;34m(\u001b[0m \u001b[0mint\u001b[0m\u001b[0;34m(\u001b[0m\u001b[0mma_variable\u001b[0m\u001b[0;34m)\u001b[0m\u001b[0;34m)\u001b[0m\u001b[0;34m\u001b[0m\u001b[0;34m\u001b[0m\u001b[0m\n\u001b[0m",
      "\u001b[0;31mValueError\u001b[0m: invalid literal for int() with base 10: 'ECAM'"
     ]
    }
   ],
   "source": [
    "ma_variable = input(\"Saisissez une valeur entière\")\n",
    "print( int(ma_variable))"
   ]
  },
  {
   "cell_type": "markdown",
   "metadata": {},
   "source": [
    "----"
   ]
  },
  {
   "cell_type": "markdown",
   "metadata": {},
   "source": [
    "### 3 - Opérateurs "
   ]
  },
  {
   "cell_type": "markdown",
   "metadata": {},
   "source": [
    "Les principaux opérateurs en python sont : \n",
    "* __+__ : l'opérateur d'addition"
   ]
  },
  {
   "cell_type": "code",
   "execution_count": 24,
   "metadata": {},
   "outputs": [
    {
     "name": "stdout",
     "output_type": "stream",
     "text": [
      "9\n"
     ]
    }
   ],
   "source": [
    "valeur_a = 4\n",
    "valeur_b = 5\n",
    "resultat = valeur_a + valeur_b \n",
    "print(resultat)"
   ]
  },
  {
   "cell_type": "markdown",
   "metadata": {},
   "source": [
    "* __-__ : l'opérateur de soustraction"
   ]
  },
  {
   "cell_type": "code",
   "execution_count": 25,
   "metadata": {},
   "outputs": [
    {
     "name": "stdout",
     "output_type": "stream",
     "text": [
      "-7\n"
     ]
    }
   ],
   "source": [
    "valeur_a = 2\n",
    "valeur_b = 9\n",
    "resultat = valeur_a - valeur_b \n",
    "print(resultat)"
   ]
  },
  {
   "cell_type": "markdown",
   "metadata": {},
   "source": [
    "* __*__ : l'opérateur de multiplication"
   ]
  },
  {
   "cell_type": "code",
   "execution_count": 26,
   "metadata": {},
   "outputs": [
    {
     "name": "stdout",
     "output_type": "stream",
     "text": [
      "6.28\n"
     ]
    }
   ],
   "source": [
    "valeur_pi = 3.14\n",
    "print( valeur_pi * 2 )"
   ]
  },
  {
   "cell_type": "markdown",
   "metadata": {},
   "source": [
    "* __/__ : l'opérateur de division"
   ]
  },
  {
   "cell_type": "code",
   "execution_count": 27,
   "metadata": {},
   "outputs": [
    {
     "name": "stdout",
     "output_type": "stream",
     "text": [
      "30.416666666666668\n"
     ]
    }
   ],
   "source": [
    "nbr_jours = 365\n",
    "nbr_mois = 12\n",
    "print(nbr_jours / nbr_mois )"
   ]
  },
  {
   "cell_type": "markdown",
   "metadata": {},
   "source": [
    "* __//__ : l'opérateur de division entière"
   ]
  },
  {
   "cell_type": "code",
   "execution_count": 28,
   "metadata": {},
   "outputs": [
    {
     "name": "stdout",
     "output_type": "stream",
     "text": [
      "52\n"
     ]
    }
   ],
   "source": [
    "nbr_jours = 365\n",
    "duree_semaine = 7\n",
    "print(nbr_jours // duree_semaine )"
   ]
  },
  {
   "cell_type": "markdown",
   "metadata": {},
   "source": [
    "* __%__ : l'opérateur modulo, le reste de la division entière "
   ]
  },
  {
   "cell_type": "code",
   "execution_count": 29,
   "metadata": {},
   "outputs": [
    {
     "name": "stdout",
     "output_type": "stream",
     "text": [
      "1\n"
     ]
    }
   ],
   "source": [
    "nbr_jours = 365\n",
    "duree_semaine = 7\n",
    "print(nbr_jours % duree_semaine )"
   ]
  },
  {
   "cell_type": "markdown",
   "metadata": {},
   "source": [
    "Le **modulo** est très souvent utilisé pour déterminer la parité d'un nombre : "
   ]
  },
  {
   "cell_type": "code",
   "execution_count": 30,
   "metadata": {},
   "outputs": [
    {
     "name": "stdout",
     "output_type": "stream",
     "text": [
      "1\n",
      "0\n"
     ]
    }
   ],
   "source": [
    "nombre = 13\n",
    "print(nombre%2)\n",
    "nombre = 12\n",
    "print(nombre%2)"
   ]
  },
  {
   "cell_type": "markdown",
   "metadata": {},
   "source": [
    "* __**__ : l'opérateur de puissance"
   ]
  },
  {
   "cell_type": "code",
   "execution_count": 31,
   "metadata": {},
   "outputs": [
    {
     "name": "stdout",
     "output_type": "stream",
     "text": [
      "100\n"
     ]
    }
   ],
   "source": [
    "nombre = 10\n",
    "print(nombre ** 2)"
   ]
  },
  {
   "cell_type": "markdown",
   "metadata": {},
   "source": [
    "* on peut utiliser les opérateurs  __+ - / * %__ entre variables numériques, c'est à dire utiliser des valeurs **entières** ou **flottantes** :"
   ]
  },
  {
   "cell_type": "code",
   "execution_count": 33,
   "metadata": {},
   "outputs": [
    {
     "name": "stdout",
     "output_type": "stream",
     "text": [
      "6.28\n"
     ]
    }
   ],
   "source": [
    "valeur_a = 3.14\n",
    "valeur_b = 2\n",
    "print(valeur_a * valeur_b)"
   ]
  },
  {
   "cell_type": "markdown",
   "metadata": {
    "tags": []
   },
   "source": [
    "#### Résumé des opérateurs sur les int et float : \n",
    "\n",
    "| Opérateur  | Opération         |  Example  | Résultat  |\n",
    "|------------|-------------------|-----------|-----------|\n",
    "| +          |  Addition         |  1 + 2    |  3  | \n",
    "| -          |  Soustraction     |  3 - 2    |  1 | \n",
    "| *          |  Multiplication   |  2 * 3    |  6  | \n",
    "| /          |  Division         |  11 / 2   |  5.5 | \n",
    "| //         |  Division entière |  11 // 2  |  5 | \n",
    "| %          |  Modulo<br/>(reste de la division entière) |    11 % 2  |  1  | \n",
    "| **         |  Puissace         |  2 ** 3   |  8 | \n"
   ]
  },
  {
   "cell_type": "markdown",
   "metadata": {},
   "source": [
    "#### Priorité des opérateurs :\n",
    "\n",
    "Les opérateurs en python ont une priorité similaire à la priorité des opérateurs en mathématiques :  \n",
    "**Parenthèses > Puissance > multiplications & divisions > additions & soustraction**\n",
    "\n",
    "Ainsi, le calcul suivant :   $2^3*4-5$ peut s'exprimer ainsi :\n"
   ]
  },
  {
   "cell_type": "code",
   "execution_count": 37,
   "metadata": {},
   "outputs": [
    {
     "name": "stdout",
     "output_type": "stream",
     "text": [
      "27\n"
     ]
    }
   ],
   "source": [
    "calcul = 2 ** 3 * 4 - 5\n",
    "print( calcul )"
   ]
  },
  {
   "cell_type": "markdown",
   "metadata": {},
   "source": [
    "----\n",
    "\n",
    "Nous avons vu comment utiliser des opérateurs avec des variables numériques. On peut également utiliser certains opérateurs avec des strings :"
   ]
  },
  {
   "cell_type": "markdown",
   "metadata": {},
   "source": [
    "* On peut aussi utiliser l'opérateur __+__ avec des strings : on parle de **concaténation** :"
   ]
  },
  {
   "cell_type": "code",
   "execution_count": null,
   "metadata": {},
   "outputs": [],
   "source": [
    "prefixe = \"car\"\n",
    "suffixe = \"actère\"\n",
    "resultat = prefixe + suffixe\n",
    "print(resultat)"
   ]
  },
  {
   "cell_type": "markdown",
   "metadata": {},
   "source": [
    "<div style=\" background-color: #fcf2f2;border-color: #dFb5b4;border-left: 5px solid #dfb5b4;padding: 0.5em;\">\n",
    "<b>Attention</b> : On ne peut pas concaténer une string avec autre chose qu'une string ! <br />\n",
    "</div>\n"
   ]
  },
  {
   "cell_type": "code",
   "execution_count": null,
   "metadata": {},
   "outputs": [],
   "source": [
    "prefixe = \"valeur de pi : \"\n",
    "suffixe = 3.14\n",
    "print(prefixe + suffixe)"
   ]
  },
  {
   "cell_type": "markdown",
   "metadata": {},
   "source": [
    "* On peut également utiliser l'opérateur __*__ avec  une string et un entier : on parle de **duplication** :"
   ]
  },
  {
   "cell_type": "code",
   "execution_count": 7,
   "metadata": {},
   "outputs": [
    {
     "name": "stdout",
     "output_type": "stream",
     "text": [
      "blah blah blah blah blah blah blah blah blah blah \n"
     ]
    }
   ],
   "source": [
    "element = \"blah \"\n",
    "resultat = element * 10\n",
    "print( resultat )"
   ]
  },
  {
   "cell_type": "markdown",
   "metadata": {},
   "source": [
    "<div style=\" background-color: #fcf2f2;border-color: #dFb5b4;border-left: 5px solid #dfb5b4;padding: 0.5em;\">\n",
    "<b>Attention</b> : On ne peut pas dupliquer une string avec autre chose qu'un int ! <br />\n",
    "</div>\n"
   ]
  },
  {
   "cell_type": "code",
   "execution_count": 6,
   "metadata": {},
   "outputs": [
    {
     "ename": "TypeError",
     "evalue": "can't multiply sequence by non-int of type 'float'",
     "output_type": "error",
     "traceback": [
      "\u001b[1;31m---------------------------------------------------------------------------\u001b[0m",
      "\u001b[1;31mTypeError\u001b[0m                                 Traceback (most recent call last)",
      "Input \u001b[1;32mIn [6]\u001b[0m, in \u001b[0;36m<cell line: 2>\u001b[1;34m()\u001b[0m\n\u001b[0;32m      1\u001b[0m element \u001b[38;5;241m=\u001b[39m \u001b[38;5;124m\"\u001b[39m\u001b[38;5;124mblah \u001b[39m\u001b[38;5;124m\"\u001b[39m\n\u001b[1;32m----> 2\u001b[0m resultat \u001b[38;5;241m=\u001b[39m \u001b[43melement\u001b[49m\u001b[43m \u001b[49m\u001b[38;5;241;43m*\u001b[39;49m\u001b[43m \u001b[49m\u001b[38;5;241;43m10.5\u001b[39;49m\n\u001b[0;32m      3\u001b[0m \u001b[38;5;28mprint\u001b[39m( resultat )\n",
      "\u001b[1;31mTypeError\u001b[0m: can't multiply sequence by non-int of type 'float'"
     ]
    }
   ],
   "source": [
    "element = \"blah \"\n",
    "resultat = element * 10.5\n",
    "print( resultat )"
   ]
  },
  {
   "cell_type": "code",
   "execution_count": null,
   "metadata": {},
   "outputs": [],
   "source": []
  }
 ],
 "metadata": {
  "kernelspec": {
   "display_name": "Python 3 (ipykernel)",
   "language": "python",
   "name": "python3"
  },
  "language_info": {
   "codemirror_mode": {
    "name": "ipython",
    "version": 3
   },
   "file_extension": ".py",
   "mimetype": "text/x-python",
   "name": "python",
   "nbconvert_exporter": "python",
   "pygments_lexer": "ipython3",
   "version": "3.9.12"
  }
 },
 "nbformat": 4,
 "nbformat_minor": 4
}
