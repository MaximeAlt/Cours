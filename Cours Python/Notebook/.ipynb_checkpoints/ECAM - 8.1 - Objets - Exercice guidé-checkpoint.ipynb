{
 "cells": [
  {
   "cell_type": "markdown",
   "metadata": {},
   "source": [
    "\n",
    "<section style=\"position:relative; width:100%;\">\n",
    "\n",
    "<div style=\"display:inline-block;\">\n",
    "<img src=\"images/ioapps_small.png\" style=\"width:200px;\" /> \n",
    "<p> Formateur :<br /> Pierre-Olivier Simonard <br />\n",
    "<a href=\"mailto:pierre.olivier.simonard@gmail.com\">pierre.olivier.simonard@gmail.com</a></p>\n",
    "</div>\n",
    "\n",
    "<div style=\"display:inline-block; float:right\">\n",
    "    <h3>ICAM </h3>\n",
    "    <p>Formation Data Science</p>\n",
    "    <p>Novembre 2022</p>\n",
    "    <img src=\"https://mirrors.creativecommons.org/presskit/buttons/88x31/png/by-nc-sa.eu.png\"  width=\"100px\" />\n",
    "</div>\n",
    "\n",
    "</section>\n",
    "\n",
    "\n",
    "<h1 style=\"text-align: center; width:100%\">Programmation Python</h1>\n",
    "<h2 style=\"text-align: center; width:100%\">Partie 8.1 : Programmation Orientée Objet <br /> Exercice guidé </h2>\n",
    "\n",
    "<!--  \n",
    "Novembre 2022\n",
    "Pierre-Oliver Simonard - pierre.olivier.simonard@gmail.com\n",
    "-->\n",
    "\n",
    "<style>\n",
    "div.warn {    \n",
    "    background-color: #fcf2f2;\n",
    "    border-color: #dFb5b4;\n",
    "    border-left: 5px solid #dfb5b4;\n",
    "    padding: 0.5em;\n",
    "    }\n",
    "</style>"
   ]
  },
  {
   "cell_type": "markdown",
   "metadata": {},
   "source": [
    "-----\n",
    "\n",
    "\n",
    "Pour vous familiariser avec les objets, reprennez le modèle de la classe Vehicule et proposez une classe Animal avec les propriétés et méthodes suivantes :\n",
    "\n",
    "* Attributs : \n",
    "  * prenom\n",
    "  * age, supérieur ou égal à 0\n",
    "  * espece, qui devra être parmi : chien, chat, araignée, serpent. <br /> L'espèce par défaut sera chien, pour toute proposition d'espèce hors de cette liste\n",
    "  * couleur\n",
    "  * nbr_pattes, correspondant au nombre de pattes de l'animal. <br /> **cet attribut devra être déduit de l'espece, et ne sera pas passé en paramètres dans le constructeur** \n",
    "  \n",
    "* fonctions :\n",
    "  * anniversaire(), qui augmente l'âge de 1\n",
    "  * cri(), qui retourne selon l'espèce \"aboie\", \"miaule\", \"siffle\" pour le serpent et \"-\" pour l'araignée\n",
    "  "
   ]
  },
  {
   "cell_type": "markdown",
   "metadata": {},
   "source": [
    "Voici un exemple de l'utilisation de la classe Animal, et le résultat attendu :"
   ]
  },
  {
   "cell_type": "code",
   "execution_count": 9,
   "metadata": {},
   "outputs": [
    {
     "name": "stdout",
     "output_type": "stream",
     "text": [
      "Medor aboie\n",
      "Minou miaule\n",
      "Python siffle\n",
      "Peter Parker -\n"
     ]
    }
   ],
   "source": [
    "chien = Animal(\"chien\", \"Medor\", 1, \"caramel\")\n",
    "chat = Animal(\"chat\", \"Minou\", 1, \"tigré\")\n",
    "serpent = Animal(\"serpent\", \"Python\", 2, \"marron\")\n",
    "araignee = Animal(\"araignée\", \"Peter Parker\", 0.6, \"noire\" )\n",
    "\n",
    "for animal in [chien, chat, serpent, araignee]:\n",
    "    print( \"%s %s\" % ( animal.prenom, animal.cri() ) )\n"
   ]
  },
  {
   "cell_type": "markdown",
   "metadata": {},
   "source": [
    "### Etape 2 \n",
    "\n",
    "Faites evoluer votre classe pour lui appliquer les comportements suivants :\n",
    "\n",
    "* Les animaux ont une durée de vie : 13 ans pour un chien, 12 ans pour le chat, 9 ans pour le serpent et 1 an pour l'araignée.\n",
    "* la propriété **.vivant** doit passer de ```True``` à ```False``` quand l'animal dépasse sa durée de vie.\n"
   ]
  },
  {
   "cell_type": "code",
   "execution_count": 5,
   "metadata": {},
   "outputs": [
    {
     "name": "stdout",
     "output_type": "stream",
     "text": [
      "True\n",
      "False\n"
     ]
    }
   ],
   "source": [
    "serpent = Animal(\"serpent\", \"Python\", 2, \"marron\")\n",
    "print(serpent.vivant)\n",
    "\n",
    "while serpent.vivant:\n",
    "    serpent.anniversaire()\n",
    "\n",
    "print(serpent.vivant)"
   ]
  }
 ],
 "metadata": {
  "kernelspec": {
   "display_name": "Python 3 (ipykernel)",
   "language": "python",
   "name": "python3"
  },
  "language_info": {
   "codemirror_mode": {
    "name": "ipython",
    "version": 3
   },
   "file_extension": ".py",
   "mimetype": "text/x-python",
   "name": "python",
   "nbconvert_exporter": "python",
   "pygments_lexer": "ipython3",
   "version": "3.9.7"
  }
 },
 "nbformat": 4,
 "nbformat_minor": 4
}
