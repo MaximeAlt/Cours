{
 "cells": [
  {
   "cell_type": "markdown",
   "metadata": {},
   "source": [
    "<section style=\"position:relative; width:100%;\">\n",
    "\n",
    "<div style=\"display:inline-block;\">\n",
    "<img src=\"images/ioapps_small.png\" style=\"width:200px;\" /> \n",
    "<p> Formateur :<br /> Pierre-Olivier Simonard <br />\n",
    "<a href=\"mailto:pierre.olivier.simonard@gmail.com\">pierre.olivier.simonard@gmail.com</a></p>\n",
    "</div>\n",
    "\n",
    "<div style=\"display:inline-block; float:right\">\n",
    "    <h3>ICAM </h3>\n",
    "    <p>Formation Data Science</p>\n",
    "    <p>Novembre 2022</p>\n",
    "    <img src=\"https://mirrors.creativecommons.org/presskit/buttons/88x31/png/by-nc-sa.eu.png\"  width=\"100px\" />\n",
    "</div>\n",
    "\n",
    "</section>\n",
    "\n",
    "\n",
    "<h1 style=\"text-align: center; width:100%\">Programmation Python</h1>\n",
    "<h2 style=\"text-align: center; width:100%\">Partie 6.1 : Fonctions <br /> Exercices guidés </h2>\n",
    "\n",
    "<!--  \n",
    "Novembre 2022\n",
    "Pierre-Oliver Simonard - pierre.olivier.simonard@gmail.com\n",
    "-->\n",
    "\n",
    "<style>\n",
    "div.warn {    \n",
    "    background-color: #fcf2f2;\n",
    "    border-color: #dFb5b4;\n",
    "    border-left: 5px solid #dfb5b4;\n",
    "    padding: 0.5em;\n",
    "    }\n",
    "</style>"
   ]
  },
  {
   "cell_type": "markdown",
   "metadata": {},
   "source": [
    "### Exercice 1 : Convertisseur de devises\n",
    "\n",
    "* créer une fonction qui a pour nom **conversion**, et qui affiche le texte suivant : \n",
    "\n",
    "```1 Euro = 6.55957 Francs```"
   ]
  },
  {
   "cell_type": "code",
   "execution_count": null,
   "metadata": {},
   "outputs": [],
   "source": []
  },
  {
   "cell_type": "markdown",
   "metadata": {},
   "source": [
    "* Créez une fonction **conversion2** qui prend un paramètre `montant_euros`, et qui **retourne** le montant converti en francs"
   ]
  },
  {
   "cell_type": "code",
   "execution_count": null,
   "metadata": {},
   "outputs": [],
   "source": []
  },
  {
   "cell_type": "markdown",
   "metadata": {},
   "source": [
    "* Créez une fonction **conversion3** qui prend en paramètre : le montant en euros à convertir, et le taux de conversion, et le nom de la devise, et qui retourne une chaine de caractère correspondant au montant converti.  \n",
    "Exemple : L'appel `conversion3(10, 1.5, \"dollars\")` devra retourner la chaîne `\"15.0 dollars\"`"
   ]
  },
  {
   "cell_type": "code",
   "execution_count": null,
   "metadata": {},
   "outputs": [],
   "source": []
  },
  {
   "cell_type": "markdown",
   "metadata": {},
   "source": [
    "### Exercice 2 : Mathématiques\n",
    "\n",
    "* Considérons les 3 fonctions mathématiques suivantes :\n",
    "    * f(x) = 2x<sup>2</sup> + 3x + 2\n",
    "    * g(x) = -3x<sup>2</sup> + x - 1\n",
    "    * h(x) = 4x<sup>2</sup> - x + 6\n",
    "    \n",
    "* pour chacune de ces fonctions mathématiques, écrivez la fonction python `function_f, function_g, function_h` correspondantes\n",
    "\n"
   ]
  },
  {
   "cell_type": "code",
   "execution_count": null,
   "metadata": {},
   "outputs": [],
   "source": []
  },
  {
   "cell_type": "markdown",
   "metadata": {},
   "source": [
    "* Ecrivez une fonction python `all_functions` qui prend en paramètre x, et qui retourne un tuple contenant f(x), g(x) et h(x)"
   ]
  },
  {
   "cell_type": "code",
   "execution_count": null,
   "metadata": {},
   "outputs": [],
   "source": []
  },
  {
   "cell_type": "markdown",
   "metadata": {},
   "source": [
    "### Exercice 3 : Fonction récursive\n",
    "\n",
    "* On peut décomposer un calcul de puissance ainsi :   \n",
    "3<sup>7</sup> = 3 * 3<sup>6</sup>  \n",
    "3<sup>6</sup> = 3 * 3<sup>5</sup>  \n",
    "...  \n",
    "3<sup>1</sup> = 3   \n",
    "\n",
    "* Ecrivez une fonction récursive qui prend en paramètre x (la valeur) et n (la puissance) et qui calcule x puissance n. \n",
    "\n"
   ]
  },
  {
   "cell_type": "code",
   "execution_count": null,
   "metadata": {},
   "outputs": [],
   "source": []
  },
  {
   "cell_type": "markdown",
   "metadata": {},
   "source": [
    "### Exercice 4 : Villes de France, suite\n",
    "\n",
    "Reprenons nos données sur les villes de France :\n"
   ]
  },
  {
   "cell_type": "code",
   "execution_count": 1,
   "metadata": {},
   "outputs": [],
   "source": [
    "villes_dict = [\n",
    "    { \"rang\":1,   \"nom\": \"Paris\",         \"population\":2206488,  \"superficie\":105.40 },\n",
    "    { \"rang\":2,   \"nom\": \"Marseille\",     \"population\": 861635,  \"superficie\":240.62 },\n",
    "    { \"rang\":3,   \"nom\": \"Lyon\",          \"population\": 513275,  \"superficie\":47.87  },\n",
    "    { \"rang\":4,   \"nom\": \"Toulouse\",      \"population\": 471941,  \"superficie\":118.30 },\n",
    "    { \"rang\":5,   \"nom\": \"Nice\",          \"population\": 342522,  \"superficie\":71.92 },\n",
    "    { \"rang\":6,   \"nom\": \"Nantes\",        \"population\": 303382,  \"superficie\":65.19 },\n",
    "    { \"rang\":7,   \"nom\": \"Montpellier\",   \"population\": 277639,  \"superficie\":56.88 },\n",
    "    { \"rang\":8,   \"nom\": \"Strasbourg\",    \"population\": 277270,  \"superficie\":78.26 },\n",
    "    { \"rang\":9,   \"nom\": \"Bordeaux\",      \"population\": 249712,  \"superficie\":49.36 },\n",
    "    { \"rang\":10,   \"nom\": \"Lille\",        \"population\":  232741, \"superficie\": 34.51 }  \n",
    "]\n",
    "\n"
   ]
  },
  {
   "cell_type": "markdown",
   "metadata": {},
   "source": [
    "* Ecrivez une fonction `affiche_ville(...)` dont le comportement est défini ainsi :\n",
    "    * `affiche_ville(villes_dict, \"Strasbourg\", True)` : affiche la population de Strasbourg\n",
    "    * `affiche_ville(villes_dict, \"Strasbourg\", False)` : affiche la superficie de Strasbourg\n",
    "    \n"
   ]
  },
  {
   "cell_type": "code",
   "execution_count": null,
   "metadata": {},
   "outputs": [],
   "source": []
  },
  {
   "cell_type": "markdown",
   "metadata": {},
   "source": [
    "* Ecrivez une fonction `population_max(...)` qui prend en paramètre villes_dict et qui retourne la population maximale."
   ]
  },
  {
   "cell_type": "code",
   "execution_count": null,
   "metadata": {},
   "outputs": [],
   "source": []
  },
  {
   "cell_type": "markdown",
   "metadata": {},
   "source": [
    "* Ecrivez une fonction `diff_pop(...)` qui calcule la différence de population entre deux villes, selon le comportement suivant :\n",
    "    * `diff_pop(villes_dict, \"Marseille\", \"Paris\")` doit retourner la différence de Population entre Marseille et Paris, soit : 1 344 853\n",
    "    * `diff_pop(villes_dict, \"Marseille\")` (seulement deux paramètres), devra retourner la différence de population entre Marseille et Strasbourg\n",
    "\n"
   ]
  },
  {
   "cell_type": "code",
   "execution_count": null,
   "metadata": {},
   "outputs": [],
   "source": []
  }
 ],
 "metadata": {
  "kernelspec": {
   "display_name": "Python 3 (ipykernel)",
   "language": "python",
   "name": "python3"
  },
  "language_info": {
   "codemirror_mode": {
    "name": "ipython",
    "version": 3
   },
   "file_extension": ".py",
   "mimetype": "text/x-python",
   "name": "python",
   "nbconvert_exporter": "python",
   "pygments_lexer": "ipython3",
   "version": "3.9.7"
  }
 },
 "nbformat": 4,
 "nbformat_minor": 4
}
