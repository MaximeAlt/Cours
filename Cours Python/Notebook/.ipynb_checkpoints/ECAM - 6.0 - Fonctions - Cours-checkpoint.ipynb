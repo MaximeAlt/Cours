{
 "cells": [
  {
   "cell_type": "markdown",
   "metadata": {},
   "source": [
    "<section style=\"position:relative; width:100%;\">\n",
    "\n",
    "<div style=\"display:inline-block;\">\n",
    "<img src=\"images/ioapps_small.png\" style=\"width:200px;\" /> \n",
    "<p> Formateur :<br /> Pierre-Olivier Simonard <br />\n",
    "<a href=\"mailto:pierre.olivier.simonard@gmail.com\">pierre.olivier.simonard@gmail.com</a></p>\n",
    "</div>\n",
    "\n",
    "<div style=\"display:inline-block; float:right\">\n",
    "    <h3>ICAM </h3>\n",
    "    <p>Formation Data Science</p>\n",
    "    <p>Novembre 2022</p>\n",
    "    <img src=\"https://mirrors.creativecommons.org/presskit/buttons/88x31/png/by-nc-sa.eu.png\"  width=\"100px\" />\n",
    "</div>\n",
    "\n",
    "</section>\n",
    "\n",
    "\n",
    "<h1 style=\"text-align: center; width:100%\">Programmation Python</h1>\n",
    "<h2 style=\"text-align: center; width:100%\">Partie 6.0 : Fonctions </h2>\n",
    "\n",
    "<!--  \n",
    "Novembre 2022\n",
    "Pierre-Oliver Simonard - pierre.olivier.simonard@gmail.com\n",
    "-->\n",
    "\n",
    "<style>\n",
    "div.warn {    \n",
    "    background-color: #fcf2f2;\n",
    "    border-color: #dFb5b4;\n",
    "    border-left: 5px solid #dfb5b4;\n",
    "    padding: 0.5em;\n",
    "    }\n",
    "</style>"
   ]
  },
  {
   "cell_type": "markdown",
   "metadata": {},
   "source": [
    "\n",
    "## Qu'est ce qu'une fonction - en programmation ?\n",
    "\n",
    "* Portion de code représentant une sous-partie du programme \n",
    "* Représente un bloc de code réutilisable\n",
    "* Permet de simplifier, factoriser, organiser son code\n",
    "\n",
    "* Quelque fonctions aperçues : `print()`, `len()`, ...\n",
    "   \n",
    "------\n",
    "\n",
    "\n",
    "   \n",
    "## Anatomie d'une fonction \n",
    "\n",
    "* **Une fonction simple :** "
   ]
  },
  {
   "cell_type": "code",
   "execution_count": 2,
   "metadata": {},
   "outputs": [
    {
     "name": "stdout",
     "output_type": "stream",
     "text": [
      "Avant la fonction\n",
      "Hello Ecam !\n",
      "nous sommes le 1er Décembre\n",
      "Après la fonction\n"
     ]
    }
   ],
   "source": [
    "def say_hello():          # Déclaration de la fonction `say_hello`\n",
    "    print(\"Hello Ecam !\") # Instruction\n",
    "    print(\"nous sommes le 1er Décembre\")\n",
    "\n",
    "    \n",
    "print(\"Avant la fonction\")\n",
    "say_hello()               # appel de la fonction `say_hello`\n",
    "print(\"Après la fonction\")"
   ]
  },
  {
   "cell_type": "markdown",
   "metadata": {},
   "source": [
    "**def** permet de déclarer une fonction. \n",
    "\n",
    "Les instructions de la fonction sont placées avec un niveau d'intentation supplémentaire."
   ]
  },
  {
   "cell_type": "code",
   "execution_count": 3,
   "metadata": {},
   "outputs": [
    {
     "ename": "IndentationError",
     "evalue": "expected an indented block (<ipython-input-3-ea90644cb5c1>, line 2)",
     "output_type": "error",
     "traceback": [
      "\u001b[0;36m  File \u001b[0;32m\"<ipython-input-3-ea90644cb5c1>\"\u001b[0;36m, line \u001b[0;32m2\u001b[0m\n\u001b[0;31m    print(\"Hello Ecam !\")    # ⚠️ Instruction mal indentée = Erreur !\u001b[0m\n\u001b[0m        ^\u001b[0m\n\u001b[0;31mIndentationError\u001b[0m\u001b[0;31m:\u001b[0m expected an indented block\n"
     ]
    }
   ],
   "source": [
    "def say_hello():          \n",
    "print(\"Hello Ecam !\")    # ⚠️ Instruction mal indentée = Erreur !\n",
    "\n",
    "def say_hello():          \n",
    "    print(\"Hello Ecam !\") # ✅ indentation respectée "
   ]
  },
  {
   "cell_type": "markdown",
   "metadata": {},
   "source": [
    "* **Fonction avec paramètres :**"
   ]
  },
  {
   "cell_type": "code",
   "execution_count": 3,
   "metadata": {},
   "outputs": [
    {
     "name": "stdout",
     "output_type": "stream",
     "text": [
      "Hello dear students !\n",
      "Hello ECAM !\n"
     ]
    }
   ],
   "source": [
    "# Modification de la fonction `say_hello` pour lui faire prendre un paramètre \"name\"\n",
    "def say_hello(name):          \n",
    "    print(\"Hello \" + name + \" !\") \n",
    "\n",
    "say_hello(\"dear students\")\n",
    "say_hello(\"ECAM\")"
   ]
  },
  {
   "cell_type": "markdown",
   "metadata": {},
   "source": [
    "  * Une fonction peut prendre plusieurs paramètres :"
   ]
  },
  {
   "cell_type": "code",
   "execution_count": 4,
   "metadata": {},
   "outputs": [
    {
     "name": "stdout",
     "output_type": "stream",
     "text": [
      "Hello ladies and gentlemen !\n",
      "Hello gentlemen and ladies !\n"
     ]
    }
   ],
   "source": [
    "# Modification de la fonction `say_hello` pour lui ajouter un paramètre\n",
    "def say_hello(name1, name2):          \n",
    "    print( \"Hello %s and %s !\"%(name1, name2) ) \n",
    "\n",
    "say_hello(\"ladies\", \"gentlemen\")\n",
    "say_hello(\"gentlemen\", \"ladies\")\n"
   ]
  },
  {
   "cell_type": "markdown",
   "metadata": {},
   "source": [
    "* Les paramètres d'une fonction peuvent avoir une valeur par défaut"
   ]
  },
  {
   "cell_type": "code",
   "execution_count": 14,
   "metadata": {},
   "outputs": [
    {
     "name": "stdout",
     "output_type": "stream",
     "text": [
      "Hello Tuc and Tac !\n",
      "Hello Tic and Tac !\n",
      "Hello Tic and Toc !\n"
     ]
    }
   ],
   "source": [
    "# def say_hello(name1, name2):   \n",
    "def say_hello(name1 = \"Tuc\",  name2 = \"Tac\"):\n",
    "    print(\"Hello %s and %s !\" % (name1, name2))\n",
    "    \n",
    "\n",
    "say_hello()    \n",
    "say_hello(\"Tic\")\n",
    "say_hello(\"Tic\", \"Toc\")"
   ]
  },
  {
   "cell_type": "markdown",
   "metadata": {},
   "source": [
    "* Lors d'un appel à une fonction, on peut spécifier les noms des paramètres.\n",
    "Ceci permet une flexibilité dans l'utilisation des fonctions."
   ]
  },
  {
   "cell_type": "code",
   "execution_count": 5,
   "metadata": {},
   "outputs": [
    {
     "name": "stdout",
     "output_type": "stream",
     "text": [
      "Hello Tic and Tac !\n",
      "Hello Tic and Toc !\n",
      "coucou Tic and Toc !\n"
     ]
    }
   ],
   "source": [
    "# Ajout d'un paramètre \"greetings\"\n",
    "def say_hello(name1, name2 = \"Tac\", greetings = \"Hello\"):\n",
    "    print(\"%s %s and %s !\" % (greetings, name1, name2))\n",
    "    \n",
    "    \n",
    "say_hello(\"Tic\")\n",
    "say_hello(\"Tic\", \"Toc\")\n",
    "say_hello(\"Tic\", \"Toc\", \"coucou\")"
   ]
  },
  {
   "cell_type": "code",
   "execution_count": 21,
   "metadata": {},
   "outputs": [
    {
     "name": "stdout",
     "output_type": "stream",
     "text": [
      "Good morning Tic and Tac !\n"
     ]
    }
   ],
   "source": [
    "say_hello(\"Tic\", greetings = \"Good morning\" )"
   ]
  },
  {
   "cell_type": "code",
   "execution_count": 6,
   "metadata": {},
   "outputs": [
    {
     "name": "stdout",
     "output_type": "stream",
     "text": [
      "Good morning Tic and Toc !\n",
      "Good morning Pif and Paf !\n",
      "Good morning Pif and Paf !\n"
     ]
    }
   ],
   "source": [
    "say_hello(\"Tic\", name2=\"Toc\", greetings = \"Good morning\" )\n",
    "\n",
    "say_hello(greetings = \"Good morning\", name1=\"Pif\", name2=\"Paf\")\n",
    "\n",
    "say_hello(\"Pif\", \"Paf\", \"Good morning\")"
   ]
  },
  {
   "cell_type": "markdown",
   "metadata": {},
   "source": [
    "  * On peut indiquer l'absence de valeur spécifique avec la valeur **None** par défaut. \n",
    "Ceci permet ensuite d'effectuer un test :"
   ]
  },
  {
   "cell_type": "code",
   "execution_count": 7,
   "metadata": {},
   "outputs": [
    {
     "name": "stdout",
     "output_type": "stream",
     "text": [
      "I don't know how to greet Tic and Tac !\n",
      "Good morning Tic and Tac !\n",
      "I don't know how to greet Tic and Tac !\n"
     ]
    }
   ],
   "source": [
    "# Modification de la valeur par défaut du paramètre \"greetings\"\n",
    "def say_hello(name1, name2 = \"Tac\", greetings = None):\n",
    "    if greetings is None:\n",
    "        print(\"I don't know how to greet %s and %s !\"%(name1, name2))\n",
    "    else:\n",
    "        print(\"%s %s and %s !\" % (greetings, name1, name2))\n",
    "    \n",
    "    \n",
    "say_hello(\"Tic\")\n",
    "say_hello(\"Tic\", greetings = \"Good morning\" )\n",
    "say_hello(\"Tic\", greetings = None )"
   ]
  },
  {
   "cell_type": "markdown",
   "metadata": {},
   "source": [
    "* **Valeur de retour**\n"
   ]
  },
  {
   "cell_type": "markdown",
   "metadata": {},
   "source": [
    " * Une fonction peut retourner un résultat, qu'on affectera à une variable pour l'utiliser. \n",
    "Pour cela, on utilise le mot-clé **return**"
   ]
  },
  {
   "cell_type": "code",
   "execution_count": 8,
   "metadata": {},
   "outputs": [
    {
     "name": "stdout",
     "output_type": "stream",
     "text": [
      "Good Morning Tic and Tac !\n"
     ]
    }
   ],
   "source": [
    "# Ajout d'une valeur de retour\n",
    "def say_hello(name1, name2 = \"Tac\", greetings = None):\n",
    "    if greetings is None:\n",
    "        return \"I don't know how to greet %s and %s !\"%(name1, name2)\n",
    "    else:\n",
    "        return \"%s %s and %s !\" % (greetings, name1, name2)\n",
    "        \n",
    "sentence = say_hello(\"Tic\", greetings = \"Good Morning\")\n",
    "print(sentence)"
   ]
  },
  {
   "cell_type": "code",
   "execution_count": null,
   "metadata": {},
   "outputs": [],
   "source": [
    "# Ajout d'une valeur de retour\n",
    "def say_hello(name1, name2 = \"Tac\", greetings = None):\n",
    "    result = \"\"\n",
    "    if greetings is None:\n",
    "        result = \"I don't know how to greet %s and %s !\"%(name1, name2)\n",
    "    else:\n",
    "        result = \"%s %s and %s !\" % (greetings, name1, name2)\n",
    "        \n",
    "    return result\n",
    "        \n",
    "sentence = say_hello(\"Tic\", greetings = \"Good Morning\")\n",
    "print(sentence)"
   ]
  },
  {
   "cell_type": "markdown",
   "metadata": {},
   "source": [
    "  * **return** fait sortir de la fonction. Plus rien n'est exécuté ensuite."
   ]
  },
  {
   "cell_type": "code",
   "execution_count": 9,
   "metadata": {},
   "outputs": [
    {
     "name": "stdout",
     "output_type": "stream",
     "text": [
      "Good Morning Tic and Tac !\n"
     ]
    }
   ],
   "source": [
    "def say_hello(name1, name2 = \"Tac\", greetings = None):\n",
    "    if greetings is None:\n",
    "        return \"I don't know how to greet %s and %s !\"%(name1, name2)\n",
    "        print(\"Test 1\") # jamais executé \n",
    "    else:\n",
    "        return \"%s %s and %s !\" % (greetings, name1, name2)\n",
    "        print(\"Test 2\") # jamais executé\n",
    "    \n",
    "    print(\"Test 3\") # Logiquement, jamais executé : on est passé soit par le if, soit par le else, et donc par un return.\n",
    "    \n",
    "sentence = say_hello(\"Tic\", greetings = \"Good Morning\")\n",
    "print(sentence)\n"
   ]
  },
  {
   "cell_type": "markdown",
   "metadata": {},
   "source": [
    "* Une fonction peut retourner n'importe quel type de variable, ou ne rien retourner du tout"
   ]
  },
  {
   "cell_type": "code",
   "execution_count": 6,
   "metadata": {},
   "outputs": [
    {
     "name": "stdout",
     "output_type": "stream",
     "text": [
      "On est bien passé par la fonction qui ne retourne rien\n",
      "[0, 1, 2, 3, 4, 5, 6, 7, 8, 9]\n",
      "{'a': 1, 'b': 2, 'c': 3}\n",
      "None\n"
     ]
    }
   ],
   "source": [
    "def give_me_a_list():\n",
    "    return list(range(0,10))\n",
    "\n",
    "def give_me_a_dict():\n",
    "    return {\"a\":1, \"b\":2, \"c\":3}\n",
    "\n",
    "def give_me_nothing():\n",
    "    print(\"On est bien passé par la fonction qui ne retourne rien\")\n",
    "    return \n",
    "\n",
    "result_list = give_me_a_list() \n",
    "result_dict = give_me_a_dict()\n",
    "result_nothing = give_me_nothing()\n",
    "\n",
    "print(result_list) \n",
    "print(result_dict)\n",
    "print(result_nothing)"
   ]
  },
  {
   "cell_type": "markdown",
   "metadata": {},
   "source": [
    "_____\n",
    "\n",
    "#### Quelque conseils pour un code compréhensible et facile à maintenir \n",
    "\n",
    "* Par soucis de simplifier la lecture d'une fonction, on préfèrera :\n",
    "   * traiter les cas limites en début de fonction, pour en sortir en cas d'appel non conforme. \n",
    "   * Retourner None en cas d'appel non conforme\n",
    "   * effectuer ensuite le traitement attendu"
   ]
  },
  {
   "cell_type": "code",
   "execution_count": 27,
   "metadata": {},
   "outputs": [
    {
     "name": "stdout",
     "output_type": "stream",
     "text": [
      "None\n",
      "2.0\n"
     ]
    }
   ],
   "source": [
    "from math import sqrt \n",
    "\n",
    "def racine_carree(a):\n",
    "    # pas de racine carrée si a < 0. \n",
    "    if a < 0:\n",
    "        return None\n",
    "\n",
    "    result = sqrt(a)\n",
    "    return result\n",
    "        \n",
    "print(  racine_carree(-1) )\n",
    "print(  racine_carree(4) )\n"
   ]
  },
  {
   "cell_type": "markdown",
   "metadata": {},
   "source": [
    "* On veillera à ne pas mélanger les types des valeurs de retour.\n",
    "Voici un exemple de ce qu'il faut éviter de faire :"
   ]
  },
  {
   "cell_type": "code",
   "execution_count": 23,
   "metadata": {},
   "outputs": [
    {
     "name": "stdout",
     "output_type": "stream",
     "text": [
      "0\n"
     ]
    },
    {
     "ename": "TypeError",
     "evalue": "string indices must be integers",
     "output_type": "error",
     "traceback": [
      "\u001b[0;31m---------------------------------------------------------------------------\u001b[0m",
      "\u001b[0;31mTypeError\u001b[0m                                 Traceback (most recent call last)",
      "\u001b[0;32m<ipython-input-23-f97866308847>\u001b[0m in \u001b[0;36m<module>\u001b[0;34m()\u001b[0m\n\u001b[1;32m     15\u001b[0m \u001b[0mprint\u001b[0m\u001b[0;34m(\u001b[0m\u001b[0mvaleur_aleatoire\u001b[0m\u001b[0;34m)\u001b[0m\u001b[0;34m\u001b[0m\u001b[0;34m\u001b[0m\u001b[0m\n\u001b[1;32m     16\u001b[0m \u001b[0;31m# Si on l'utilise comme un dict alors qu'il s'agit d'une list ou d'un string : crash !\u001b[0m\u001b[0;34m\u001b[0m\u001b[0;34m\u001b[0m\u001b[0;34m\u001b[0m\u001b[0m\n\u001b[0;32m---> 17\u001b[0;31m \u001b[0mprint\u001b[0m\u001b[0;34m(\u001b[0m \u001b[0mvariable_incertaine\u001b[0m\u001b[0;34m[\u001b[0m\u001b[0;34m\"message\"\u001b[0m\u001b[0;34m]\u001b[0m  \u001b[0;34m)\u001b[0m \u001b[0;31m# une chance sur 3 que ca plante ...\u001b[0m\u001b[0;34m\u001b[0m\u001b[0;34m\u001b[0m\u001b[0m\n\u001b[0m",
      "\u001b[0;31mTypeError\u001b[0m: string indices must be integers"
     ]
    }
   ],
   "source": [
    "from random import randint\n",
    "\n",
    "def fonction_bazar(param):\n",
    "    if param == 0:\n",
    "        return \"La valeur de retour est une string\"\n",
    "    elif param == 1:\n",
    "        return [\"la valeur\", \"de retour\", \"est une\", \"liste\"]\n",
    "    else:\n",
    "        return {\"message\":\"la valeur de retour un est dict\"}\n",
    "        \n",
    "    \n",
    "valeur_aleatoire = randint(0, 2)\n",
    "variable_incertaine = fonction_bazar(valeur_aleatoire)\n",
    "# ⚠️ Impossible de prédire le type de variable_incertaine : string, list ou dict ? \n",
    "print(valeur_aleatoire)\n",
    "# Si on l'utilise comme un dict alors qu'il s'agit d'une list ou d'un string : crash ! \n",
    "print( variable_incertaine[\"message\"]  ) # une chance sur 3 que ca plante ..."
   ]
  },
  {
   "cell_type": "markdown",
   "metadata": {},
   "source": [
    "------\n",
    "\n",
    "\n",
    "##  Fonctions recursives\n",
    "\n",
    "Une fonction récursive est une fonction qui s'appelle elle-même. \n",
    "Pour éviter les bugs, il est important de réfléchir à une condition d'arrêt.\n",
    "\n",
    "Prenons l'exemple du calcul de la factorielle : "
   ]
  },
  {
   "cell_type": "raw",
   "metadata": {
    "jupyter": {
     "source_hidden": true
    },
    "tags": []
   },
   "source": [
    "5! = 5 * 4!\n",
    "\n",
    "         4! = 4 * 3!\n",
    "               \n",
    "                  3! = 3 * 2!\n",
    "                    \n",
    "                           2! = 2 * 1!\n",
    "                           \n",
    "                                    1! = 1 * 0!\n",
    "                                    \n",
    "                                            0! = 1\n",
    "                                    \n",
    "Relation de récursivité ==>    n! = n * (n-1)!\n",
    "Condition d'arrêt ==>          n == 0 ==> n! = 1"
   ]
  },
  {
   "cell_type": "code",
   "execution_count": 29,
   "metadata": {},
   "outputs": [
    {
     "name": "stdout",
     "output_type": "stream",
     "text": [
      "120\n"
     ]
    }
   ],
   "source": [
    "# version non-recursive\n",
    "def factorielle(n):\n",
    "    result = 1\n",
    "    for i in range(1, n+1): # avec n = 10, intervalle [1, 11[  \n",
    "        result = result * i\n",
    "    return result\n",
    "        \n",
    "fac5 = factorielle(n=5)\n",
    "print(fac5)"
   ]
  },
  {
   "cell_type": "code",
   "execution_count": 30,
   "metadata": {},
   "outputs": [
    {
     "name": "stdout",
     "output_type": "stream",
     "text": [
      "1\n",
      "120\n"
     ]
    }
   ],
   "source": [
    "# version recursive\n",
    "def factorielle_rec(n):\n",
    "    if n == 0:    # Condition d'arrêt \n",
    "        return 1\n",
    "    else :\n",
    "        return n*factorielle_rec(n-1) # la fonction s'appelle elle-même\n",
    "    \n",
    "fac0 = factorielle_rec(n=0)\n",
    "print(fac0)\n",
    "\n",
    "fac5 = factorielle_rec(n=5)\n",
    "print(fac5)"
   ]
  },
  {
   "cell_type": "markdown",
   "metadata": {},
   "source": [
    "Pour comprendre en détail le fonctionnement, ajoutons quelque **print** :"
   ]
  },
  {
   "cell_type": "code",
   "execution_count": 9,
   "metadata": {},
   "outputs": [
    {
     "name": "stdout",
     "output_type": "stream",
     "text": [
      "appel avec n = 5\n",
      "appel avec n = 4\n",
      "appel avec n = 3\n",
      "appel avec n = 2\n",
      "appel avec n = 1\n",
      "appel avec n = 0\n",
      "pour n==0 la fonction retourne 1 \n",
      "pour n==1 la fonction retourne 1 \n",
      "pour n==2 la fonction retourne 2 \n",
      "pour n==3 la fonction retourne 6 \n",
      "pour n==4 la fonction retourne 24 \n",
      "pour n==5 la fonction retourne 120 \n",
      "5! = 120\n"
     ]
    }
   ],
   "source": [
    "# version recursive\n",
    "def factorielle_rec(n=10):\n",
    "    print(\"appel avec n = %s\"%(n))\n",
    "    if n == 0:    # Condition d'arrêt \n",
    "        result = 1\n",
    "    else :\n",
    "        result = n*factorielle_rec(n-1) # la fonction s'appelle elle-même\n",
    "    \n",
    "    print(f\"pour n=={n} la fonction retourne {result} \")\n",
    "    return result\n",
    "    \n",
    "fac5 = factorielle_rec(n=5)\n",
    "print(\"5! = %s\" %(fac5) )"
   ]
  },
  {
   "cell_type": "markdown",
   "metadata": {},
   "source": [
    "------\n",
    "   \n",
    "## Les fonctions anonymes - les lambdas \n",
    "\n",
    "\n",
    "* Il existe des fonctions qui prennent en paramètre **une autre fonction**. \n",
    "\n",
    "C'est un mécanisme très pratique pour les fonctions de **filtre** ou de **tri**. \n",
    "\n",
    "```python\n",
    "filter(function, iterable) # utilise function pour filtrer iterable\n",
    "map(function, iterable) # applique function à chaque élement de iterable\n",
    "sorted(iterable, key=function) # retourne itérable trié selon le résultat de function\n",
    "```\n",
    "\n",
    "Ainsi, on peut filtrer/trier une liste selon **nos propres critères** :"
   ]
  },
  {
   "cell_type": "code",
   "execution_count": 10,
   "metadata": {},
   "outputs": [
    {
     "name": "stdout",
     "output_type": "stream",
     "text": [
      "[0, 2, 4, 6, 8]\n",
      "[1, 3, 5, 7, 9]\n",
      "[6, 7, 8, 9]\n"
     ]
    }
   ],
   "source": [
    "def est_pair(x):\n",
    "    return x%2 == 0\n",
    "\n",
    "def est_impair(x):\n",
    "    return x%2 == 1\n",
    "\n",
    "def gt5(x):\n",
    "    return (x > 5)\n",
    "\n",
    "def square(x):\n",
    "    return x*x \n",
    "\n",
    "nombres = [ i for i in range(10)] # de 0 à 9\n",
    "\n",
    "# Filter\n",
    "pairs =  list( filter(est_pair , nombres)) \n",
    "impairs =  list( filter(est_impair , nombres)) \n",
    "greater_than_5 = list(  filter(gt5 , nombres) )\n",
    "\n",
    "print(pairs)\n",
    "print(impairs)\n",
    "print(greater_than_5)\n"
   ]
  },
  {
   "cell_type": "code",
   "execution_count": 11,
   "metadata": {},
   "outputs": [
    {
     "name": "stdout",
     "output_type": "stream",
     "text": [
      "[0, 1, 4, 9, 16, 25, 36, 49, 64, 81]\n"
     ]
    }
   ],
   "source": [
    "# Map\n",
    "squares = list( map(square, nombres) )\n",
    "\n",
    "print(squares)"
   ]
  },
  {
   "cell_type": "code",
   "execution_count": 12,
   "metadata": {},
   "outputs": [
    {
     "name": "stdout",
     "output_type": "stream",
     "text": [
      "[1, 3, 5, 7, 9, 0, 2, 4, 6, 8]\n"
     ]
    }
   ],
   "source": [
    "# Sorted\n",
    "impairs_first = list( sorted(nombres, key=est_pair) )\n",
    "\n",
    "print(impairs_first)"
   ]
  },
  {
   "cell_type": "markdown",
   "metadata": {},
   "source": [
    "* Très souvent, déclarer une fonction avec **def** pour ne l'utiliser qu'une fois dans une fonction de filter/tri, parait encombrant. \n",
    "\n",
    "* Certains langages de programmation permettent de déclarer des fonctions sans nom : les **fonctions anonymes**\n",
    "\n",
    "* En python, une fonction de ce type s'appelle : **une lambda** et se présente sur **une seule ligne**, sous la forme :\n",
    "\n",
    "```python\n",
    "my_lambda = lambda arguments: operation_sur(arguments)\n",
    "```\n",
    "\n",
    "* **lambda** sert à déclarer la fonction anonyme\n",
    "\n",
    "* Les lambdas n'utilisent pas de **return**, la valeur retournée est celle de **operation_sur(arguments)**\n",
    "\n",
    "* Les lambdas ne peut contenir qu'**une seule instruction**.\n",
    "\n",
    "* Exemple :"
   ]
  },
  {
   "cell_type": "code",
   "execution_count": 17,
   "metadata": {},
   "outputs": [
    {
     "name": "stdout",
     "output_type": "stream",
     "text": [
      "4\n",
      "9\n",
      "4\n",
      "9\n"
     ]
    }
   ],
   "source": [
    "square = lambda x: x**2\n",
    "print( square(2) )\n",
    "print( square(3) )\n",
    "\n",
    "power = lambda x,y: x**y\n",
    "print( power(2, 2) )\n",
    "print( power(3, 2) )"
   ]
  },
  {
   "cell_type": "markdown",
   "metadata": {},
   "source": [
    "On peut alors adapter notre exemple précedent, **en utilisant des lambdas** :"
   ]
  },
  {
   "cell_type": "code",
   "execution_count": 13,
   "metadata": {},
   "outputs": [
    {
     "name": "stdout",
     "output_type": "stream",
     "text": [
      "[0, 2, 4, 6, 8]\n",
      "[1, 3, 5, 7, 9]\n",
      "[1, 3, 5, 7, 9, 0, 2, 4, 6, 8]\n",
      "[0, 1, 4, 9, 16, 25, 36, 49, 64, 81]\n"
     ]
    }
   ],
   "source": [
    "nombres = [ i for i in range(10)] # de 0 à 9\n",
    "\n",
    "# Filter\n",
    "\n",
    "#pairs =  list( filter(est_pair , nombres)) \n",
    "pairs =  list( filter(lambda x : x%2 == 0 , nombres)) \n",
    "impairs =  list( filter(lambda x : x%2 == 1 , nombres)) \n",
    "\n",
    "# Map\n",
    "squares = list( map(lambda x : x*x, nombres) )\n",
    "\n",
    "# Sorted\n",
    "impairs_first = list( sorted(nombres, key=lambda x : x%2 == 0) )\n",
    "\n",
    "print(pairs)\n",
    "print(impairs)\n",
    "print(impairs_first)\n",
    "print(squares)"
   ]
  },
  {
   "cell_type": "code",
   "execution_count": null,
   "metadata": {},
   "outputs": [],
   "source": []
  }
 ],
 "metadata": {
  "kernelspec": {
   "display_name": "Python 3 (ipykernel)",
   "language": "python",
   "name": "python3"
  },
  "language_info": {
   "codemirror_mode": {
    "name": "ipython",
    "version": 3
   },
   "file_extension": ".py",
   "mimetype": "text/x-python",
   "name": "python",
   "nbconvert_exporter": "python",
   "pygments_lexer": "ipython3",
   "version": "3.9.7"
  }
 },
 "nbformat": 4,
 "nbformat_minor": 4
}
