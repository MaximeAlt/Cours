{
 "cells": [
  {
   "cell_type": "markdown",
   "metadata": {},
   "source": [
    "\n",
    "<section style=\"position:relative; width:100%;\">\n",
    "\n",
    "<div style=\"display:inline-block;\">\n",
    "<img src=\"images/ioapps_small.png\" style=\"width:200px;\" /> \n",
    "<p> Formateur :<br /> Pierre-Olivier Simonard <br />\n",
    "<a href=\"mailto:pierre.olivier.simonard@gmail.com\">pierre.olivier.simonard@gmail.com</a></p>\n",
    "</div>\n",
    "\n",
    "<div style=\"display:inline-block; float:right\">\n",
    "    <h3>ICAM </h3>\n",
    "    <p>Formation Data Science</p>\n",
    "    <p>Novembre 2022</p>\n",
    "    <img src=\"https://mirrors.creativecommons.org/presskit/buttons/88x31/png/by-nc-sa.eu.png\"  width=\"100px\" />\n",
    "</div>\n",
    "\n",
    "</section>\n",
    "\n",
    "\n",
    "<h1 style=\"text-align: center; width:100%\">Programmation Python</h1>\n",
    "<h2 style=\"text-align: center; width:100%\">Partie 3.0 : Opérateurs de comparaison, Conditionnelles et opérateurs logiques </h2>\n",
    "\n",
    "<!--  \n",
    "Novembre 2022\n",
    "Pierre-Oliver Simonard - pierre.olivier.simonard@gmail.com\n",
    "-->\n",
    "\n",
    "<style>\n",
    "div.warn {    \n",
    "    background-color: #fcf2f2;\n",
    "    border-color: #dFb5b4;\n",
    "    border-left: 5px solid #dfb5b4;\n",
    "    padding: 0.5em;\n",
    "    }\n",
    "</style>"
   ]
  },
  {
   "cell_type": "markdown",
   "metadata": {},
   "source": [
    "### 1 - Opérateurs de comparaison\n",
    "\n",
    "\n",
    "Nous avons vu différents opérateurs qui permettent d'effectuer des calculs entre variables.\n",
    "\n",
    "Il existe également des opérateurs qui permettent de **comparer** des variables.\n",
    "\n",
    "Ces opérateurs sont :\n",
    "\n",
    "\n",
    "#### l'opérateur d'égalité : le double égal ==\n",
    "\n",
    "Cet opérateur permet de déterminer l'égalité entre deux opérandes.\n",
    "Ainsi, analysons le code suivant :"
   ]
  },
  {
   "cell_type": "code",
   "execution_count": 14,
   "metadata": {},
   "outputs": [
    {
     "name": "stdout",
     "output_type": "stream",
     "text": [
      "True\n",
      "True\n",
      "False\n",
      "False\n",
      "False\n"
     ]
    }
   ],
   "source": [
    "valeur = 99\n",
    "print( valeur == 99)\n",
    "print( valeur == 99.0)\n",
    "print( valeur == 0)\n",
    "print( valeur == \"test\")\n",
    "print( valeur == \"99\")"
   ]
  },
  {
   "cell_type": "markdown",
   "metadata": {},
   "source": [
    "On constate que la comparaison peut renvoyer True ou False (des valeurs de type Bool), et que la comparaison d'égalité renvoie True lorsque les deux valeurs sont égales.\n",
    "\n",
    "#### l'opérateur d'inégalité      !=\n",
    "\n",
    "Cet opérateur permet de vérifier qu'une variable est bien différente d'une valeur ou d'une autre variable."
   ]
  },
  {
   "cell_type": "code",
   "execution_count": 12,
   "metadata": {},
   "outputs": [
    {
     "name": "stdout",
     "output_type": "stream",
     "text": [
      "True\n",
      "False\n"
     ]
    }
   ],
   "source": [
    "valeur = 99\n",
    "print( valeur != 0 )\n",
    "print( valeur != 99)"
   ]
  },
  {
   "cell_type": "markdown",
   "metadata": {},
   "source": [
    "#### les opérateurs de comparaison \n",
    "\n",
    "Ces opérateurs sont au nombre de 4, et similaires à ceux connus en mathématiques :\n",
    "* Strictement inférieur    __<__\n",
    "* Inférieur ou égal     __<=__\n",
    "* Strictement supérieur    __>__\n",
    "* Supérieur ou égal     __>=__"
   ]
  },
  {
   "cell_type": "code",
   "execution_count": 2,
   "metadata": {},
   "outputs": [
    {
     "name": "stdout",
     "output_type": "stream",
     "text": [
      "True\n",
      "True\n",
      "True\n",
      "True\n",
      "False\n"
     ]
    }
   ],
   "source": [
    "valeur = 99\n",
    "print( valeur > 0 )\n",
    "print( valeur >= 99 )\n",
    "print( valeur < 100 )\n",
    "print( valeur <= 100 )\n",
    "print( valeur > 100)"
   ]
  },
  {
   "cell_type": "markdown",
   "metadata": {},
   "source": [
    "#### Stocker le résultat d'une comparaison dans une variable\n",
    "\n",
    "On remarque que `print(...)` avec une comparaison affiche `True` ou `False`.\n",
    "Il est possible de stocker le résultat de la comparaison dans une variable, et de l'utiliser ensuite.\n",
    "\n",
    "Cette variable sera de type Bool.\n"
   ]
  },
  {
   "cell_type": "code",
   "execution_count": 29,
   "metadata": {},
   "outputs": [
    {
     "name": "stdout",
     "output_type": "stream",
     "text": [
      "True\n"
     ]
    }
   ],
   "source": [
    "valeur = 99\n",
    "comparaison = valeur > 0\n",
    "print(comparaison)"
   ]
  },
  {
   "cell_type": "markdown",
   "metadata": {},
   "source": [
    "----"
   ]
  },
  {
   "cell_type": "markdown",
   "metadata": {},
   "source": [
    "### 2 - Les conditionnelles\n",
    "\n",
    "Les conditionnelles permettent de mettre de la logique dans un programme. Elles permettent d'exécuter des instructions selon qu'une condition est vérifiée ou non.\n",
    "\n",
    "#### 2.1 : \"Si ... Alors ...\"\n",
    "\n",
    "Imaginons qu'on veuille comparer deux valeurs, et afficher un message si elles sont égales.\n"
   ]
  },
  {
   "cell_type": "code",
   "execution_count": 17,
   "metadata": {},
   "outputs": [
    {
     "name": "stdout",
     "output_type": "stream",
     "text": [
      "Les valeurs sont égales\n",
      "Executé si valeur1 == valeur2\n",
      "fin\n"
     ]
    }
   ],
   "source": [
    "valeur1 = 100\n",
    "valeur2 = 100\n",
    "\n",
    "if (valeur1 == valeur2):\n",
    "    print(\"Les valeurs sont égales\")\n",
    "    print(\"Executé si valeur1 == valeur2\")\n",
    "    \n",
    "print(\"fin\")"
   ]
  },
  {
   "cell_type": "markdown",
   "metadata": {},
   "source": [
    "La structure d'un **if** est toujours : \n",
    "* if, écrit en minuscule\n",
    "* une comparaison, ou toute opération qui s'assimile à un `Bool` (ici, `valeur1 == valeur2`)\n",
    "* deux points :\n",
    "* Puis, les instructions à éxecuter si la condition est vérifée, **indentées d'un niveau**\n",
    "\n",
    "*à noter :* Les recommendations officielles de Python indiquent que l'indentation doit être composée de préférence de 4 espaces, plutôt que d'une tabulation."
   ]
  },
  {
   "cell_type": "markdown",
   "metadata": {},
   "source": [
    "#### 2.2 : \"Si ... Alors ... Sinon...\"\n",
    "\n",
    "De manière équivalente, on peut vouloir executer une instruction ou une autre, selon qu'une condition est vraie ou fausse.\n"
   ]
  },
  {
   "cell_type": "code",
   "execution_count": 20,
   "metadata": {},
   "outputs": [
    {
     "name": "stdout",
     "output_type": "stream",
     "text": [
      "Les valeurs sont égales\n",
      "Fin du if\n",
      "fin\n"
     ]
    }
   ],
   "source": [
    "valeur1 = 99\n",
    "valeur2 = 99\n",
    "\n",
    "if valeur1 == valeur2:\n",
    "    print(\"Les valeurs sont égales\")\n",
    "    print(\"Fin du if\")\n",
    "else:\n",
    "    print(\"les valeurs sont différentes\")\n",
    "    print(\"Fin du else\")\n",
    "    \n",
    "print(\"fin\")"
   ]
  },
  {
   "cell_type": "markdown",
   "metadata": {},
   "source": [
    "La structure est similaire à celle vue précédemment :\n",
    "* une structure *if*, avec une condition et une instruction à éxecuter si la condition est *vraie*\n",
    "* un else, suivi de deux points :\n",
    "* l'instruction à exécuter si la condition est fausse, indentée d'un niveau"
   ]
  },
  {
   "cell_type": "markdown",
   "metadata": {},
   "source": [
    "#### 2.3 : \"Si ... Sinon Si ... Sinon Si ... Sinon ...\"\n",
    "\n",
    "On peut construire des logiques encore plus fines, grace à if/elif/elif.../else\n",
    "\n",
    "le mot-clé elif en python est la contraction de *else if*.\n",
    "\n",
    "Exemple :"
   ]
  },
  {
   "cell_type": "code",
   "execution_count": 19,
   "metadata": {},
   "outputs": [
    {
     "name": "stdout",
     "output_type": "stream",
     "text": [
      "Valeur 2 est plus grande que Valeur 1\n"
     ]
    }
   ],
   "source": [
    "valeur1 = 99\n",
    "valeur2 = 100\n",
    "\n",
    "if valeur1 > valeur2:\n",
    "    print(\"Valeur 1 est plus grande que Valeur 2\")\n",
    "elif valeur1 < valeur2 :\n",
    "    print(\"Valeur 2 est plus grande que Valeur 1\")\n",
    "else:\n",
    "    print(\"les valeurs sont égales\")"
   ]
  },
  {
   "cell_type": "code",
   "execution_count": 17,
   "metadata": {},
   "outputs": [
    {
     "name": "stdout",
     "output_type": "stream",
     "text": [
      "Valeur 1 est plus grande que Valeur 2\n"
     ]
    }
   ],
   "source": [
    "valeur1 = 99\n",
    "valeur2 = 100\n",
    "if valeur1 > valeur2:\n",
    "    print(\"Valeur 1 est plus grande que Valeur 2\")\n",
    "else:\n",
    "    if valeur1 < valeur2:\n",
    "        print(\"Valeur 2 est plus grande que Valeur 1\")\n",
    "    else:\n",
    "        print(\"les valeurs sont égales\")"
   ]
  },
  {
   "cell_type": "markdown",
   "metadata": {},
   "source": [
    "\n",
    "On peut utiliser autant de elif qu'on veut, et le else n'est pas obligatoire : "
   ]
  },
  {
   "cell_type": "code",
   "execution_count": 18,
   "metadata": {},
   "outputs": [
    {
     "name": "stdout",
     "output_type": "stream",
     "text": [
      "Valeur 2 est supérieure ou égale à Valeur 1\n",
      "fin\n"
     ]
    }
   ],
   "source": [
    "valeur1 = 0\n",
    "valeur2 = 99\n",
    "\n",
    "if valeur1 >= valeur2:\n",
    "    print(\"Valeur 1 est supérieure ou égale à Valeur 2\")\n",
    "elif valeur1 > valeur2:\n",
    "    print(\"Valeur 1 est strictement supérieure à Valeur 2\")\n",
    "elif valeur1 <= valeur2 :\n",
    "    print(\"Valeur 2 est supérieure ou égale à Valeur 1\")\n",
    "elif valeur1 < valeur2 :\n",
    "    print(\"Valeur 2 est strictement supérieure à Valeur 1\")\n",
    "elif valeur1 == valeur2:\n",
    "    print(\"les valeurs sont égales\")\n",
    "else:\n",
    "    print(\"On ne passera jamais ici\")\n",
    "\n",
    "print(\"fin\")"
   ]
  },
  {
   "cell_type": "markdown",
   "metadata": {},
   "source": [
    "Ici, il est important de remarquer que python n'évalue *qu'une seule* condition (ici, la première), et n'en interprète aucune autre.\n",
    "\n",
    "Egalement, si aucune condition n'est vérifiée et qu'il n'y a pas de else, aucune instruction n'est executée :"
   ]
  },
  {
   "cell_type": "code",
   "execution_count": 21,
   "metadata": {},
   "outputs": [],
   "source": [
    "valeur1 = 99\n",
    "valeur2 = 99\n",
    "\n",
    "if valeur1 > valeur2:\n",
    "    print(\"Valeur 1 est strictement supérieure à Valeur 2\")\n",
    "elif valeur1 < valeur2:\n",
    "    print(\"Valeur 2 est strictement supérieure à Valeur 1\")\n",
    "\n",
    "# ce programme n'affiche rien"
   ]
  },
  {
   "cell_type": "markdown",
   "metadata": {},
   "source": [
    "### 2.4 : Les conditions imbriquées :\n",
    "\n",
    "\n",
    "Parfois, on peut être amené à imbriquer des conditions :\n"
   ]
  },
  {
   "cell_type": "code",
   "execution_count": 24,
   "metadata": {},
   "outputs": [
    {
     "name": "stdout",
     "output_type": "stream",
     "text": [
      "véhicule inconnu\n",
      "fin\n"
     ]
    }
   ],
   "source": [
    "vehicule = \"voiture\"\n",
    "marque = \"Tesla\"\n",
    "\n",
    "if vehicule == \"velo\":\n",
    "    \n",
    "    if marque == \"decathlon\":\n",
    "        print(\"Vélo acheté chez Decathlon\")\n",
    "    else:\n",
    "        print(\"Vélo, de marque inconnue\")\n",
    "        \n",
    "elif vehicule == \"voiture\":\n",
    "    \n",
    "    if marque == \"Tesla\":\n",
    "        print(\"Voiture electrique\")\n",
    "    else:\n",
    "        print(\"Voiture thermique\")\n",
    "\n",
    "print(\"fin\")"
   ]
  },
  {
   "cell_type": "markdown",
   "metadata": {},
   "source": [
    "### 2.5 : Les opérateurs logiques : and / or / not\n",
    "\n",
    "les opérateurs logiques permettent de construire des conditions plus précises et peuvent éviter les conditions imbriquées.\n",
    "Ces opérateurs sont **and**, **or** et **not**\n"
   ]
  },
  {
   "cell_type": "markdown",
   "metadata": {},
   "source": [
    "### if A and B: ...\n",
    "\n",
    "Soient deux conditions logiques A et B. voici les valeurs de `A and B` en fonction des valeurs de A et de B :\n",
    "\n",
    "A | B | A **and** B\n",
    "------|-------|------\n",
    "False | False | False\n",
    "False | True | False\n",
    "True | False | False\n",
    "True | True | True\n",
    "\n",
    "\n",
    "Ainsi, `A and B` vaut True quand A vaut True et B vaut True.\n",
    "\n",
    "Exemples en python : "
   ]
  },
  {
   "cell_type": "code",
   "execution_count": 27,
   "metadata": {},
   "outputs": [
    {
     "name": "stdout",
     "output_type": "stream",
     "text": [
      "voiture électrique\n"
     ]
    }
   ],
   "source": [
    "vehicule = \"voiture\"\n",
    "marque = \"Tesla\"\n",
    "\n",
    "if vehicule == \"voiture\" and marque == \"Tesla\":\n",
    "    print(\"voiture électrique\")"
   ]
  },
  {
   "cell_type": "code",
   "execution_count": 28,
   "metadata": {},
   "outputs": [
    {
     "name": "stdout",
     "output_type": "stream",
     "text": [
      "autre type de véhicule\n"
     ]
    }
   ],
   "source": [
    "vehicule = \"voiture\"\n",
    "marque = \"Volvo\"\n",
    "\n",
    "if vehicule == \"voiture\" and marque == \"Tesla\":\n",
    "    print(\"voiture électrique\")\n",
    "else:\n",
    "    print(\"autre type de véhicule\")"
   ]
  },
  {
   "cell_type": "markdown",
   "metadata": {},
   "source": [
    "### if A or B: ...\n",
    "\n",
    "\n",
    "Soient deux conditions logiques A et B. voici les valeurs de `A or B` en fonction des valeurs de A et de B :\n",
    "\n",
    "| A | B | A or B\n",
    "|:---:|:---:|:---:|\n",
    "| False | False | False\n",
    "| False | True | True\n",
    "| True | False | True\n",
    "| True | True | True\n",
    " \n",
    "\n",
    "Ainsi, `A or B` vaut True quand A vaut True ou B vaut True.\n",
    "\n",
    "Exemples en python : "
   ]
  },
  {
   "cell_type": "code",
   "execution_count": 29,
   "metadata": {},
   "outputs": [
    {
     "name": "stdout",
     "output_type": "stream",
     "text": [
      "ne consomme pas d'essence\n"
     ]
    }
   ],
   "source": [
    "vehicule = \"voiture\"\n",
    "marque = \"Tesla\"\n",
    "\n",
    "if marque == \"Tesla\" or vehicule == \"velo\":\n",
    "    print(\"ne consomme pas d'essence\")"
   ]
  },
  {
   "cell_type": "code",
   "execution_count": 25,
   "metadata": {},
   "outputs": [
    {
     "name": "stdout",
     "output_type": "stream",
     "text": [
      "consomme de l'essence\n"
     ]
    }
   ],
   "source": [
    "vehicule = \"moto\"\n",
    "marque = \"yamaha\"\n",
    "\n",
    "if marque == \"Tesla\" or vehicule == \"velo\":\n",
    "    print(\"ne consomme pas d'essence\")\n",
    "else:\n",
    "    print(\"consomme de l'essence\")"
   ]
  },
  {
   "cell_type": "markdown",
   "metadata": {},
   "source": [
    "#### L'opérateur not\n",
    "\n",
    "**not** permet d'inverser une valeur logique.\n"
   ]
  },
  {
   "cell_type": "code",
   "execution_count": 47,
   "metadata": {},
   "outputs": [
    {
     "name": "stdout",
     "output_type": "stream",
     "text": [
      "False\n",
      "True\n"
     ]
    }
   ],
   "source": [
    "print(not True)\n",
    "print(not False)"
   ]
  },
  {
   "cell_type": "markdown",
   "metadata": {},
   "source": [
    "Ainsi, on peut inverser la valeur logique d'une condition, afin de construire un `if` selon la logique souhaitée :\n"
   ]
  },
  {
   "cell_type": "code",
   "execution_count": 27,
   "metadata": {},
   "outputs": [
    {
     "name": "stdout",
     "output_type": "stream",
     "text": [
      "véhicule à moteur thermique\n"
     ]
    }
   ],
   "source": [
    "vehicule = \"voiture\"\n",
    "marque = \"Renault\"\n",
    "\n",
    "if not (vehicule == \"velo\" or marque == \"Tesla\"):\n",
    "    print(\"véhicule à moteur thermique\")\n"
   ]
  },
  {
   "cell_type": "markdown",
   "metadata": {},
   "source": [
    "**not** peut être utilisé ailleurs qu'après le if, dans la condition. On peut également faire utiliser des parenthèses comme en mathématiques pour isoler la partie sur laquelle on veut appliquer le not :"
   ]
  },
  {
   "cell_type": "code",
   "execution_count": 51,
   "metadata": {},
   "outputs": [
    {
     "name": "stdout",
     "output_type": "stream",
     "text": [
      "véhicule à moteur thermique\n"
     ]
    }
   ],
   "source": [
    "vehicule = \"voiture\"\n",
    "marque = \"Renault\"\n",
    "\n",
    "# if vehicule == \"voiture\" and marque != \"Tesla\":\n",
    "if vehicule == \"voiture\" and not (marque == \"Tesla\"):\n",
    "    print(\"véhicule à moteur thermique\")"
   ]
  },
  {
   "cell_type": "markdown",
   "metadata": {},
   "source": [
    "#### Utilisation simultanée de *not*, *and* et *or* :\n",
    "\n",
    "On peut construire des conditions à l'aide de ces trois opérateurs, et utiliser des par\n",
    "\n",
    "**Important à retenir** : L'ordre de priorité est le suivant : **parenthèses > not > and > or**.\n",
    "C'est à dire que dans une condition logique, Python interprètera d'abord ce qui est entre parenthèses, puis ce qui est précédé d'un not, puis les and et les or.\n",
    "\n",
    "Exemples:\n"
   ]
  },
  {
   "cell_type": "code",
   "execution_count": 33,
   "metadata": {},
   "outputs": [
    {
     "name": "stdout",
     "output_type": "stream",
     "text": [
      "produit français\n"
     ]
    }
   ],
   "source": [
    "vehicule = \"voiture\"\n",
    "marque = \"renault\"\n",
    "\n",
    "if (vehicule == \"velo\" and marque == \"decathlon\")  or marque == \"renault\":\n",
    "    print(\"produit français\")"
   ]
  },
  {
   "cell_type": "markdown",
   "metadata": {},
   "source": [
    "dans l'exemple ci-dessus, les parenthèses dans le *if* sont optionnelles, puisque and a la priorité sur or. \n",
    "Mais à la lecture du code, elles viennent dissiper l'ambiguité, rendant le code plus facile à comprendre."
   ]
  },
  {
   "cell_type": "code",
   "execution_count": 32,
   "metadata": {},
   "outputs": [
    {
     "name": "stdout",
     "output_type": "stream",
     "text": [
      "produit français\n"
     ]
    }
   ],
   "source": [
    "vehicule = \"voiture\"\n",
    "marque = \"Renault\"\n",
    "\n",
    "if (vehicule == \"velo\" and marque == \"decathlon\") or vehicule == \"voiture\" and marque == \"Renault\":\n",
    "    print(\"produit français\")\n",
    "    \n",
    "\n",
    "if not (vehicule == \"velo\" and marque == \"decathlon\" or vehicule == \"voiture\" and marque == \"Renault\"):\n",
    "    print(\"produit importé\")\n",
    "\n",
    "    \n",
    "    "
   ]
  },
  {
   "cell_type": "markdown",
   "metadata": {},
   "source": [
    "### Application du théorème de De Morgan"
   ]
  },
  {
   "cell_type": "code",
   "execution_count": 35,
   "metadata": {},
   "outputs": [
    {
     "name": "stdout",
     "output_type": "stream",
     "text": [
      "véhicule à moteur\n",
      "véhicule à moteur\n"
     ]
    }
   ],
   "source": [
    "vehicule = \"voiture\"\n",
    "marque = \"Renault\"\n",
    "\n",
    "if not(  vehicule == \"velo\" and marque == \"decathlon\"   ):\n",
    "    print(\"véhicule à moteur\")\n",
    "\n",
    "if not(vehicule == \"velo\")   or   not(marque == \"decathlon\"):\n",
    "    print(\"véhicule à moteur\")    "
   ]
  },
  {
   "cell_type": "code",
   "execution_count": 37,
   "metadata": {},
   "outputs": [
    {
     "name": "stdout",
     "output_type": "stream",
     "text": [
      "véhicule à moteur thermique\n",
      "véhicule à moteur thermique\n"
     ]
    }
   ],
   "source": [
    "vehicule = \"voiture\"\n",
    "marque = \"Renault\"\n",
    "\n",
    "if not (vehicule == \"velo\" or marque == \"Tesla\"):\n",
    "    print(\"véhicule à moteur thermique\")\n",
    "\n",
    "if not(vehicule == \"velo\")  and   not(marque == \"Tesla\"):\n",
    "    print(\"véhicule à moteur thermique\")\n",
    "    "
   ]
  },
  {
   "cell_type": "code",
   "execution_count": null,
   "metadata": {},
   "outputs": [],
   "source": []
  }
 ],
 "metadata": {
  "kernelspec": {
   "display_name": "Python 3 (ipykernel)",
   "language": "python",
   "name": "python3"
  },
  "language_info": {
   "codemirror_mode": {
    "name": "ipython",
    "version": 3
   },
   "file_extension": ".py",
   "mimetype": "text/x-python",
   "name": "python",
   "nbconvert_exporter": "python",
   "pygments_lexer": "ipython3",
   "version": "3.9.7"
  }
 },
 "nbformat": 4,
 "nbformat_minor": 4
}
