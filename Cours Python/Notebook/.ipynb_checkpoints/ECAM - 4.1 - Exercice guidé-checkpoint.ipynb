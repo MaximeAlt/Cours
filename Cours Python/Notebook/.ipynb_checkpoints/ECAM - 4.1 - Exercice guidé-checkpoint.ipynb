{
 "cells": [
  {
   "cell_type": "markdown",
   "metadata": {},
   "source": [
    "\n",
    "<section style=\"position:relative; width:100%;\">\n",
    "\n",
    "<div style=\"display:inline-block;\">\n",
    "<img src=\"images/ioapps_small.png\" style=\"width:200px;\" /> \n",
    "<p> Formateur :<br /> Pierre-Olivier Simonard <br />\n",
    "<a href=\"mailto:pierre.olivier.simonard@gmail.com\">pierre.olivier.simonard@gmail.com</a></p>\n",
    "</div>\n",
    "\n",
    "<div style=\"display:inline-block; float:right\">\n",
    "    <h3>ICAM </h3>\n",
    "    <p>Formation Data Science</p>\n",
    "    <p>Novembre 2022</p>\n",
    "    <img src=\"https://mirrors.creativecommons.org/presskit/buttons/88x31/png/by-nc-sa.eu.png\"  width=\"100px\" />\n",
    "</div>\n",
    "\n",
    "</section>\n",
    "\n",
    "\n",
    "<h1 style=\"text-align: center; width:100%\">Programmation Python</h1>\n",
    "<h2 style=\"text-align: center; width:100%\">Partie 4.1 : Boucles For et While <br /> Exercice guidé</h2>\n",
    "\n",
    "<!--  \n",
    "Novembre 2022\n",
    "Pierre-Oliver Simonard - pierre.olivier.simonard@gmail.com\n",
    "-->\n",
    "\n",
    "<style>\n",
    "div.warn {    \n",
    "    background-color: #fcf2f2;\n",
    "    border-color: #dFb5b4;\n",
    "    border-left: 5px solid #dfb5b4;\n",
    "    padding: 0.5em;\n",
    "    }\n",
    "</style>"
   ]
  },
  {
   "cell_type": "markdown",
   "metadata": {},
   "source": [
    "### Exercice 1 : Multiples de 3\n",
    "\n",
    "Ecrivez un programme qui affiche tous les multiples de 3 entre 0 et 30."
   ]
  },
  {
   "cell_type": "code",
   "execution_count": null,
   "metadata": {},
   "outputs": [],
   "source": []
  },
  {
   "cell_type": "markdown",
   "metadata": {},
   "source": [
    "### Exercice 2.a : Factorielle\n",
    "\n",
    "Ecrivez un programme qui demande à l'utilisateur de saisir un nombre, et qui calcule la factorielle de ce nombre.\n",
    "Utilisez une boucle for"
   ]
  },
  {
   "cell_type": "code",
   "execution_count": null,
   "metadata": {},
   "outputs": [],
   "source": []
  },
  {
   "cell_type": "markdown",
   "metadata": {},
   "source": [
    "### Exercice 2.b : Factorielle\n",
    "\n",
    "Même consigne que l'exercice 2.a, mais avec une boucle while"
   ]
  },
  {
   "cell_type": "code",
   "execution_count": null,
   "metadata": {},
   "outputs": [],
   "source": []
  },
  {
   "cell_type": "markdown",
   "metadata": {},
   "source": [
    "### Exercice 3 : Dessiner un triangle\n",
    "\n",
    "Ecrivez un programme qui affiche un triangle de la manière suivante :"
   ]
  },
  {
   "cell_type": "raw",
   "metadata": {},
   "source": [
    "*\n",
    "**\n",
    "***\n",
    "****\n",
    "*****"
   ]
  },
  {
   "cell_type": "markdown",
   "metadata": {},
   "source": [
    "N'utilisez pas la duplication de chaine, mais **deux boucles imbriquées**. "
   ]
  },
  {
   "cell_type": "code",
   "execution_count": null,
   "metadata": {},
   "outputs": [],
   "source": []
  },
  {
   "cell_type": "markdown",
   "metadata": {},
   "source": [
    "### Exercice 4 : Pi, par la formule de Madhava-Leibniz\n",
    "\n",
    "La formule de Madhava-Leibniz permet de calculer une approximation de pi de la manière suivante :\n",
    "\n",
    "$ 1 - \\frac{1}{3} + \\frac{1}{5} - \\frac{1}{7} + \\frac{1}{9} - ... = \\frac{π}{4} $\n",
    "\n",
    "Dans cet example, allant jusqu'à $ \\frac{1}{9} $, nous avons effectué **5 itérations**.\n",
    "\n",
    "* Ecrivez un programme :\n",
    "     * qui demande à l'utilisateur de saisir combien d'itérations il souhaite effectuer \n",
    "     * puis calcule pi par la formule de Leibniz pour le nombre d'itérations souhaitées"
   ]
  },
  {
   "cell_type": "code",
   "execution_count": null,
   "metadata": {},
   "outputs": [],
   "source": []
  },
  {
   "cell_type": "markdown",
   "metadata": {
    "tags": []
   },
   "source": [
    "### Exercice 5 : Nombres entiers\n",
    "\n",
    "* Ecrivez un programme qui :\n",
    "    * demande à l'utilisateur de saisir un nombre entier\n",
    "    * Affiche tous les nombres premiers inférieurs au nombre saisi.\n",
    "    \n",
    "\n",
    "**Indice** : vous aurez besoin de deux boucles imbriquées\n"
   ]
  },
  {
   "cell_type": "code",
   "execution_count": null,
   "metadata": {},
   "outputs": [],
   "source": []
  }
 ],
 "metadata": {
  "kernelspec": {
   "display_name": "Python 3 (ipykernel)",
   "language": "python",
   "name": "python3"
  },
  "language_info": {
   "codemirror_mode": {
    "name": "ipython",
    "version": 3
   },
   "file_extension": ".py",
   "mimetype": "text/x-python",
   "name": "python",
   "nbconvert_exporter": "python",
   "pygments_lexer": "ipython3",
   "version": "3.9.7"
  }
 },
 "nbformat": 4,
 "nbformat_minor": 4
}
