{
 "cells": [
  {
   "cell_type": "markdown",
   "metadata": {},
   "source": [
    "\n",
    "<section style=\"position:relative; width:100%;\">\n",
    "\n",
    "<div style=\"display:inline-block;\">\n",
    "<img src=\"images/ioapps_small.png\" style=\"width:200px;\" /> \n",
    "<p> Formateur :<br /> Pierre-Olivier Simonard <br />\n",
    "<a href=\"mailto:pierre.olivier.simonard@gmail.com\">pierre.olivier.simonard@gmail.com</a></p>\n",
    "</div>\n",
    "\n",
    "<div style=\"display:inline-block; float:right\">\n",
    "    <h3>ICAM </h3>\n",
    "    <p>Formation Data Science</p>\n",
    "    <p>Novembre 2022</p>\n",
    "    <img src=\"https://mirrors.creativecommons.org/presskit/buttons/88x31/png/by-nc-sa.eu.png\"  width=\"100px\" />\n",
    "</div>\n",
    "\n",
    "</section>\n",
    "\n",
    "\n",
    "<h1 style=\"text-align: center; width:100%\">Programmation Python</h1>\n",
    "<h2 style=\"text-align: center; width:100%\">Partie 4.0 : Boucles For et While </h2>\n",
    "\n",
    "<!--  \n",
    "Novembre 2022\n",
    "Pierre-Oliver Simonard - pierre.olivier.simonard@gmail.com\n",
    "-->\n",
    "\n",
    "<style>\n",
    "div.warn {    \n",
    "    background-color: #fcf2f2;\n",
    "    border-color: #dFb5b4;\n",
    "    border-left: 5px solid #dfb5b4;\n",
    "    padding: 0.5em;\n",
    "    }\n",
    "</style>"
   ]
  },
  {
   "cell_type": "markdown",
   "metadata": {},
   "source": [
    "Les boucles sont des opérations qui permettent de répéter des instructions plusieurs fois selon des critères donnés. Chaque répétition est appelée **itération**.\n",
    "\n",
    "\n",
    "### 1.0 - Boucle For\n",
    "\n",
    "Analysons l'exemple suivant :\n"
   ]
  },
  {
   "cell_type": "code",
   "execution_count": 1,
   "metadata": {},
   "outputs": [
    {
     "name": "stdout",
     "output_type": "stream",
     "text": [
      "0\n",
      "1\n",
      "2\n",
      "3\n",
      "4\n",
      "5\n",
      "6\n",
      "7\n",
      "8\n",
      "9\n"
     ]
    }
   ],
   "source": [
    "for i in range(10):\n",
    "    print(i)"
   ]
  },
  {
   "cell_type": "markdown",
   "metadata": {},
   "source": [
    "Notre programme ne contient qu'une seule instruction `print`, mais ce print est effectué 10 fois.\n",
    "On constate aussi que la valeur affichée, `i`, varie de 0 à 9.\n",
    "\n",
    "* La variable `i` est appelée **compteur** de la boucle. On peut nommer ce compteur comme on le souhaite."
   ]
  },
  {
   "cell_type": "code",
   "execution_count": 2,
   "metadata": {},
   "outputs": [
    {
     "name": "stdout",
     "output_type": "stream",
     "text": [
      "0\n",
      "1\n",
      "2\n"
     ]
    }
   ],
   "source": [
    "for compteur in range(3):\n",
    "    print(compteur)"
   ]
  },
  {
   "cell_type": "markdown",
   "metadata": {},
   "source": [
    "* la fonction `range()` permet d'indiquer comment faire varier le compteur"
   ]
  },
  {
   "cell_type": "markdown",
   "metadata": {},
   "source": [
    "### 1.1 - la fonction range()\n",
    "\n",
    "La fonction range peut être utilisée de plusieurs manières selon le nombre de répétitions souhaitées, et selon les valeurs qu'on veut donner au compteur.\n",
    "\n",
    "* `range(N)` : fait varier le compteur sur l'intervalle **\\[ 0; N \\[**  *(de 0 à N exclus)*\n",
    "* `range(D, N)` : fait varier le compteur sur l'intervalle **\\[ D; N \\[**  *(de D à N exclus)*"
   ]
  },
  {
   "cell_type": "code",
   "execution_count": 4,
   "metadata": {},
   "outputs": [
    {
     "name": "stdout",
     "output_type": "stream",
     "text": [
      "5\n",
      "6\n",
      "7\n",
      "8\n",
      "9\n"
     ]
    }
   ],
   "source": [
    "for i in range(5, 10):\n",
    "    print(i)"
   ]
  },
  {
   "cell_type": "markdown",
   "metadata": {},
   "source": [
    "* `range(D,N,P)` : fait varier le compteur sur l'intervalle **\\[ D; N \\[**  avec un pas **P** *(de 0 à N exclus)*"
   ]
  },
  {
   "cell_type": "code",
   "execution_count": 8,
   "metadata": {},
   "outputs": [
    {
     "name": "stdout",
     "output_type": "stream",
     "text": [
      "1\n",
      "3\n",
      "5\n",
      "7\n",
      "9\n"
     ]
    }
   ],
   "source": [
    "for i in range(1, 10, 2):\n",
    "    print(i)"
   ]
  },
  {
   "cell_type": "code",
   "execution_count": 9,
   "metadata": {},
   "outputs": [
    {
     "name": "stdout",
     "output_type": "stream",
     "text": [
      "10\n",
      "9\n",
      "8\n",
      "7\n",
      "6\n",
      "5\n",
      "4\n",
      "3\n",
      "2\n",
      "1\n"
     ]
    }
   ],
   "source": [
    "for i in range(10, 0, -1):\n",
    "    print(i)"
   ]
  },
  {
   "cell_type": "markdown",
   "metadata": {},
   "source": [
    "Les valeurs que prend la fonction range peuvent être des variables :"
   ]
  },
  {
   "cell_type": "code",
   "execution_count": 15,
   "metadata": {},
   "outputs": [
    {
     "name": "stdout",
     "output_type": "stream",
     "text": [
      "2\n",
      "5\n",
      "8\n",
      "11\n",
      "14\n",
      "17\n",
      "20\n",
      "23\n",
      "26\n",
      "29\n",
      "32\n"
     ]
    }
   ],
   "source": [
    "depart = 2\n",
    "pas = 3\n",
    "maximum = depart + 10 * pas + 1\n",
    "\n",
    "for i in range(depart, maximum, pas):\n",
    "    print(i)\n"
   ]
  },
  {
   "cell_type": "markdown",
   "metadata": {},
   "source": [
    "### 1.3 - Un exemple concret : somme des N premiers entiers:\n",
    "\n",
    "Le programme suivant calcul la somme des N premiers entiers, à l'aide d'une boucle"
   ]
  },
  {
   "cell_type": "code",
   "execution_count": 26,
   "metadata": {},
   "outputs": [
    {
     "name": "stdout",
     "output_type": "stream",
     "text": [
      "la somme des 1  premiers entiers vaut :  1\n",
      "la somme des 2  premiers entiers vaut :  3\n",
      "la somme des 3  premiers entiers vaut :  6\n",
      "la somme des 4  premiers entiers vaut :  10\n",
      "la somme des 5  premiers entiers vaut :  15\n",
      "la somme des 6  premiers entiers vaut :  21\n",
      "la somme des 7  premiers entiers vaut :  28\n",
      "la somme des 8  premiers entiers vaut :  36\n",
      "la somme des 9  premiers entiers vaut :  45\n",
      "la somme des 10  premiers entiers vaut :  55\n",
      "la somme des 11  premiers entiers vaut :  66\n",
      "66\n"
     ]
    }
   ],
   "source": [
    "N = 11\n",
    "\n",
    "somme = 0\n",
    "for i in range(1, N+1): \n",
    "    somme = somme + i\n",
    "    print(\"la somme des\", i, \" premiers entiers vaut : \", somme)\n",
    "    \n",
    "print(somme)"
   ]
  },
  {
   "cell_type": "markdown",
   "metadata": {},
   "source": [
    "Remarques :\n",
    "* Dans ce cas précis, range(1, N+1) est équivalent à range(0, N+1), mais ajouter 0 à la somme n'est pas nécessaire. On a donc économisé une itération.\n",
    "* On fait varier i de 1 à N+1, et non pas N, car on veut les N premiers entiers. en utilisant `range(1,N)`, on aurait obtenu la somme des N-1 entiers. "
   ]
  },
  {
   "cell_type": "markdown",
   "metadata": {},
   "source": [
    "### 1.4 - Boucles for imbriquées\n",
    "\n",
    "On peut être amené à faire une boucle dans une boucle.\n",
    "\n",
    "Imaginons que nous ayons une image de 10px de large sur 5px de haut. Si on veut parcourir tous les pixels de cette image, il nous faut accéder à leurs coordonnées :\n"
   ]
  },
  {
   "cell_type": "code",
   "execution_count": 4,
   "metadata": {
    "collapsed": true,
    "jupyter": {
     "outputs_hidden": true
    },
    "tags": []
   },
   "outputs": [
    {
     "name": "stdout",
     "output_type": "stream",
     "text": [
      "0 0\n",
      "0 1\n",
      "0 2\n",
      "0 3\n",
      "0 4\n",
      "_____\n",
      "1 0\n",
      "1 1\n",
      "1 2\n",
      "1 3\n",
      "1 4\n",
      "_____\n",
      "2 0\n",
      "2 1\n",
      "2 2\n",
      "2 3\n",
      "2 4\n",
      "_____\n",
      "3 0\n",
      "3 1\n",
      "3 2\n",
      "3 3\n",
      "3 4\n",
      "_____\n",
      "4 0\n",
      "4 1\n",
      "4 2\n",
      "4 3\n",
      "4 4\n",
      "_____\n",
      "5 0\n",
      "5 1\n",
      "5 2\n",
      "5 3\n",
      "5 4\n",
      "_____\n",
      "6 0\n",
      "6 1\n",
      "6 2\n",
      "6 3\n",
      "6 4\n",
      "_____\n",
      "7 0\n",
      "7 1\n",
      "7 2\n",
      "7 3\n",
      "7 4\n",
      "_____\n",
      "8 0\n",
      "8 1\n",
      "8 2\n",
      "8 3\n",
      "8 4\n",
      "_____\n",
      "9 0\n",
      "9 1\n",
      "9 2\n",
      "9 3\n",
      "9 4\n",
      "_____\n"
     ]
    }
   ],
   "source": [
    "for x in range(10):\n",
    "    for y in range(5):\n",
    "        # (x,y) représente les coordonnées d'un pixel à la fois\n",
    "        print(x,y)\n",
    "    print(\"_____\")"
   ]
  },
  {
   "cell_type": "markdown",
   "metadata": {},
   "source": [
    "### 2.0 - Boucle while\n",
    "\n",
    "La boucle while est à utiliser de préférence quand on ne peut pas définir le nombre d'itérations nécessaires.\n",
    "\n",
    "Par exemple, un programme qui génère un nombre entier aléatoire, que l'utilisateur doit deviner : il faudra lui demander de deviner aussi longtemps qu'il n'a pas trouvé.\n"
   ]
  },
  {
   "cell_type": "code",
   "execution_count": 12,
   "metadata": {
    "collapsed": true,
    "jupyter": {
     "outputs_hidden": true
    },
    "tags": []
   },
   "outputs": [
    {
     "name": "stdin",
     "output_type": "stream",
     "text": [
      "devine ? 0\n"
     ]
    },
    {
     "name": "stdout",
     "output_type": "stream",
     "text": [
      "non\n"
     ]
    },
    {
     "name": "stdin",
     "output_type": "stream",
     "text": [
      "devine ? 0\n"
     ]
    },
    {
     "name": "stdout",
     "output_type": "stream",
     "text": [
      "non\n"
     ]
    },
    {
     "name": "stdin",
     "output_type": "stream",
     "text": [
      "devine ? 0\n"
     ]
    },
    {
     "name": "stdout",
     "output_type": "stream",
     "text": [
      "non\n"
     ]
    },
    {
     "name": "stdin",
     "output_type": "stream",
     "text": [
      "devine ? 0\n"
     ]
    },
    {
     "name": "stdout",
     "output_type": "stream",
     "text": [
      "non\n"
     ]
    },
    {
     "name": "stdin",
     "output_type": "stream",
     "text": [
      "devine ? 0\n"
     ]
    },
    {
     "name": "stdout",
     "output_type": "stream",
     "text": [
      "non\n"
     ]
    },
    {
     "name": "stdin",
     "output_type": "stream",
     "text": [
      "devine ? 0\n"
     ]
    },
    {
     "name": "stdout",
     "output_type": "stream",
     "text": [
      "non\n"
     ]
    },
    {
     "name": "stdin",
     "output_type": "stream",
     "text": [
      "devine ? 0\n"
     ]
    },
    {
     "name": "stdout",
     "output_type": "stream",
     "text": [
      "non\n"
     ]
    },
    {
     "name": "stdin",
     "output_type": "stream",
     "text": [
      "devine ? 0\n"
     ]
    },
    {
     "name": "stdout",
     "output_type": "stream",
     "text": [
      "non\n"
     ]
    },
    {
     "name": "stdin",
     "output_type": "stream",
     "text": [
      "devine ? 0\n"
     ]
    },
    {
     "name": "stdout",
     "output_type": "stream",
     "text": [
      "non\n"
     ]
    },
    {
     "name": "stdin",
     "output_type": "stream",
     "text": [
      "devine ? 1\n"
     ]
    },
    {
     "name": "stdout",
     "output_type": "stream",
     "text": [
      "non\n"
     ]
    },
    {
     "name": "stdin",
     "output_type": "stream",
     "text": [
      "devine ? 2\n"
     ]
    },
    {
     "name": "stdout",
     "output_type": "stream",
     "text": [
      "non\n"
     ]
    },
    {
     "name": "stdin",
     "output_type": "stream",
     "text": [
      "devine ? 3\n"
     ]
    },
    {
     "name": "stdout",
     "output_type": "stream",
     "text": [
      "non\n"
     ]
    },
    {
     "name": "stdin",
     "output_type": "stream",
     "text": [
      "devine ? 4\n"
     ]
    },
    {
     "name": "stdout",
     "output_type": "stream",
     "text": [
      "non\n"
     ]
    },
    {
     "name": "stdin",
     "output_type": "stream",
     "text": [
      "devine ? 5\n"
     ]
    },
    {
     "name": "stdout",
     "output_type": "stream",
     "text": [
      "non\n"
     ]
    },
    {
     "name": "stdin",
     "output_type": "stream",
     "text": [
      "devine ? 5\n"
     ]
    },
    {
     "name": "stdout",
     "output_type": "stream",
     "text": [
      "non\n"
     ]
    },
    {
     "name": "stdin",
     "output_type": "stream",
     "text": [
      "devine ? 6\n"
     ]
    },
    {
     "name": "stdout",
     "output_type": "stream",
     "text": [
      "non\n"
     ]
    },
    {
     "name": "stdin",
     "output_type": "stream",
     "text": [
      "devine ? 7\n"
     ]
    },
    {
     "name": "stdout",
     "output_type": "stream",
     "text": [
      "non\n"
     ]
    },
    {
     "name": "stdin",
     "output_type": "stream",
     "text": [
      "devine ? 8\n"
     ]
    },
    {
     "name": "stdout",
     "output_type": "stream",
     "text": [
      "non\n"
     ]
    },
    {
     "name": "stdin",
     "output_type": "stream",
     "text": [
      "devine ? 9\n"
     ]
    },
    {
     "name": "stdout",
     "output_type": "stream",
     "text": [
      "Bravo !\n"
     ]
    }
   ],
   "source": [
    "from random import random\n",
    "\n",
    "# génère un nombre mystère entre 0 et 10 (exclus)\n",
    "mystere = int(random()*10)\n",
    "\n",
    "trouve = False\n",
    "\n",
    "while not trouve:    \n",
    "    valeur_saisie = input(\"devine ?\")\n",
    "    \n",
    "    if int(valeur_saisie) == mystere:\n",
    "        trouve = True\n",
    "    else:\n",
    "        print(\"non\")\n",
    "        \n",
    "        \n",
    "print(\"Bravo !\")"
   ]
  },
  {
   "cell_type": "markdown",
   "metadata": {},
   "source": [
    "Toutes les boucles `for` peuvent s'écrire sous la forme d'une boucle `while`, mais la notation est plus encombrante, plus difficile.\n",
    "\n",
    "L'exemple suivant compare les deux, mais font la même chose : afficher des entiers de 0 à 9.\n",
    "Dans la boucle while, il est très facile d'oublier l'instruction `i = i + 1`, ce qui pourrait être désastreux : la boucle continuerait indéfiniment. c'est ce qu'on appelle une **boucle infinie**."
   ]
  },
  {
   "cell_type": "code",
   "execution_count": 13,
   "metadata": {},
   "outputs": [
    {
     "name": "stdout",
     "output_type": "stream",
     "text": [
      "0\n",
      "1\n",
      "2\n",
      "3\n",
      "4\n",
      "5\n",
      "6\n",
      "7\n",
      "8\n",
      "9\n"
     ]
    }
   ],
   "source": [
    "for i in range(10):\n",
    "    print(i)"
   ]
  },
  {
   "cell_type": "code",
   "execution_count": 14,
   "metadata": {},
   "outputs": [
    {
     "name": "stdout",
     "output_type": "stream",
     "text": [
      "0\n",
      "1\n",
      "2\n",
      "3\n",
      "4\n",
      "5\n",
      "6\n",
      "7\n",
      "8\n",
      "9\n"
     ]
    }
   ],
   "source": [
    "i = 0\n",
    "while i < 10:\n",
    "    print(i)\n",
    "    i = i + 1"
   ]
  },
  {
   "cell_type": "markdown",
   "metadata": {},
   "source": [
    "### 3.0 Controler une boucle\n",
    "\n",
    "Il existe deux instructions qui permettent de controler une boucle for ou une boucle while : `continue` et `break`\n",
    "\n",
    "#### 3.1 continue\n",
    "\n",
    "`continue` permet de passer à l'itération suivante, pour éviter de traiter certaines valeurs."
   ]
  },
  {
   "cell_type": "code",
   "execution_count": 2,
   "metadata": {},
   "outputs": [
    {
     "name": "stdout",
     "output_type": "stream",
     "text": [
      "1  : impair\n",
      "3  : impair\n",
      "5  : impair\n",
      "7  : impair\n",
      "9  : impair\n",
      "11  : impair\n",
      "13  : impair\n",
      "15  : impair\n",
      "17  : impair\n",
      "19  : impair\n"
     ]
    }
   ],
   "source": [
    "# N'affiche que les nombres impairs\n",
    "\n",
    "for i in range(0, 20):    \n",
    "    if i%2 == 0: # si i est pair, on \"continue\" la boucle\n",
    "        continue\n",
    "    print(i, \" : impair\")"
   ]
  },
  {
   "cell_type": "markdown",
   "metadata": {},
   "source": [
    "#### 3.2 break\n",
    "\n",
    "`break` permet d'interrompre la boucle et d'en sortir."
   ]
  },
  {
   "cell_type": "code",
   "execution_count": 18,
   "metadata": {},
   "outputs": [
    {
     "name": "stdout",
     "output_type": "stream",
     "text": [
      "0\n",
      "1\n",
      "2\n",
      "3\n",
      "4\n",
      "5\n",
      "6\n",
      "7\n",
      "8\n",
      "9\n",
      "terminé\n"
     ]
    }
   ],
   "source": [
    "for i in range(0, 20):\n",
    "    if i >= 10:\n",
    "        break\n",
    "    print(i)\n",
    "    \n",
    "print(\"terminé\")"
   ]
  },
  {
   "cell_type": "code",
   "execution_count": null,
   "metadata": {},
   "outputs": [],
   "source": []
  }
 ],
 "metadata": {
  "kernelspec": {
   "display_name": "Python 3 (ipykernel)",
   "language": "python",
   "name": "python3"
  },
  "language_info": {
   "codemirror_mode": {
    "name": "ipython",
    "version": 3
   },
   "file_extension": ".py",
   "mimetype": "text/x-python",
   "name": "python",
   "nbconvert_exporter": "python",
   "pygments_lexer": "ipython3",
   "version": "3.9.7"
  }
 },
 "nbformat": 4,
 "nbformat_minor": 4
}
