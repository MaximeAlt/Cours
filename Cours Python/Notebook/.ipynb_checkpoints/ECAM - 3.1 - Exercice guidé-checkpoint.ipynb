{
 "cells": [
  {
   "cell_type": "markdown",
   "metadata": {},
   "source": [
    "\n",
    "<section style=\"position:relative; width:100%;\">\n",
    "\n",
    "<div style=\"display:inline-block;\">\n",
    "<img src=\"images/ioapps_small.png\" style=\"width:200px;\" /> \n",
    "<p> Formateur :<br /> Pierre-Olivier Simonard <br />\n",
    "<a href=\"mailto:pierre.olivier.simonard@gmail.com\">pierre.olivier.simonard@gmail.com</a></p>\n",
    "</div>\n",
    "\n",
    "<div style=\"display:inline-block; float:right\">\n",
    "    <h3>ICAM </h3>\n",
    "    <p>Formation Data Science</p>\n",
    "    <p>Novembre 2022</p>\n",
    "    <img src=\"https://mirrors.creativecommons.org/presskit/buttons/88x31/png/by-nc-sa.eu.png\"  width=\"100px\" />\n",
    "</div>\n",
    "\n",
    "</section>\n",
    "\n",
    "\n",
    "<h1 style=\"text-align: center; width:100%\">Programmation Python</h1>\n",
    "<h2 style=\"text-align: center; width:100%\">Partie 3.1 : Opérateurs de comparaison, Conditionnelles et opérateurs logiques <br /> Exercice guidé </h2>\n",
    "\n",
    "<!--  \n",
    "Novembre 2022\n",
    "Pierre-Oliver Simonard - pierre.olivier.simonard@gmail.com\n",
    "-->\n",
    "\n",
    "<style>\n",
    "div.warn {    \n",
    "    background-color: #fcf2f2;\n",
    "    border-color: #dFb5b4;\n",
    "    border-left: 5px solid #dfb5b4;\n",
    "    padding: 0.5em;\n",
    "    }\n",
    "</style>"
   ]
  },
  {
   "cell_type": "markdown",
   "metadata": {},
   "source": [
    "### Exercice 1 : Valeur absolue\n",
    "\n",
    "Ecrivez un programme qui demande à l'utilisateur de saisir une valeur (entière ou flotante). \n",
    "Puis, à l'aide de if/else, affichez la valeur absolue de la valeur saisie."
   ]
  },
  {
   "cell_type": "code",
   "execution_count": null,
   "metadata": {
    "tags": []
   },
   "outputs": [],
   "source": []
  },
  {
   "cell_type": "markdown",
   "metadata": {},
   "source": [
    "### Exercice 2 : Maximum de 3 nombres\n",
    "\n",
    "Ecrivez un programme qui demande à l'utilisateur de saisir 3 nombres, et qui affiche le plus grand de ces trois nombres."
   ]
  },
  {
   "cell_type": "code",
   "execution_count": null,
   "metadata": {},
   "outputs": [],
   "source": []
  },
  {
   "cell_type": "markdown",
   "metadata": {},
   "source": [
    "### Exercice 3 : Calcul d'une franchise d'assurance.\n",
    "\n",
    "Quand une assurance effectue un remboursement, une franchise reste à payer par l'assuré.\n",
    "Cette franchise représente 10 % du montant du bien assuré, mais ne dépasse jamais 500€ et vaut toujours minimum 15 euros.\n",
    "\n",
    "Ecrire un programme qui demande à l'utilisateur de saisir le montant du bien qu'il a assuré, et qui calcule la franchise."
   ]
  },
  {
   "cell_type": "code",
   "execution_count": null,
   "metadata": {},
   "outputs": [],
   "source": []
  },
  {
   "cell_type": "markdown",
   "metadata": {},
   "source": [
    "### Exercice 4 : Echelle de Richter\n",
    "\n",
    "L’échelle de Richter permet de décrire la magnitude des tremblements de terre :\n",
    "\n",
    "\n",
    "Magnitude|Description\n",
    "------|-------\n",
    "1 | Micro tremblement de terre, non ressenti\n",
    "2 | Très mineur. non ressenti mais détecté\n",
    "3 | Mineur. causant rarement des dommages\n",
    "4 | Léger. Secousses notables d’objets à l’intérieur des maisons\n",
    "5 | Modéré. Légers dommages aux édifices bien construits\n",
    "6 | Fort. Destructeur dans des zones allant jusqu’à 180 kilomètres à la ronde si elles sont peuplées\n",
    "7 | Majeur. Dommages modérés à sévères dans des zones plus vastes.\n",
    "8 | Important. Dommages sérieux dans des zones à des centaines de kilomètres à la ronde\n",
    "9 | Dévastateur. Dévaste des zones sur des milliers de kilomètres à la ronde\n",
    "\n",
    "Ecrivez un programme qui demande à l'utilisateur de saisir une valeur sur l'échelle de Richter, et qui affiche la description associée. Gérez également le cas où la valeur saisie est \"hors-échelle\".\n"
   ]
  },
  {
   "cell_type": "code",
   "execution_count": null,
   "metadata": {},
   "outputs": [],
   "source": []
  },
  {
   "cell_type": "markdown",
   "metadata": {},
   "source": [
    "### Exercice 5 : Triangles\n",
    "\n",
    "Ecrivez un programme qui demande à l'utilisateur de saisie les 3 longueurs des cotés d'un triangle, et qui affiche ensuite si le triangle est équilatéral, isocèle, on quelconque."
   ]
  },
  {
   "cell_type": "code",
   "execution_count": null,
   "metadata": {},
   "outputs": [],
   "source": []
  }
 ],
 "metadata": {
  "kernelspec": {
   "display_name": "Python 3 (ipykernel)",
   "language": "python",
   "name": "python3"
  },
  "language_info": {
   "codemirror_mode": {
    "name": "ipython",
    "version": 3
   },
   "file_extension": ".py",
   "mimetype": "text/x-python",
   "name": "python",
   "nbconvert_exporter": "python",
   "pygments_lexer": "ipython3",
   "version": "3.9.7"
  }
 },
 "nbformat": 4,
 "nbformat_minor": 4
}
