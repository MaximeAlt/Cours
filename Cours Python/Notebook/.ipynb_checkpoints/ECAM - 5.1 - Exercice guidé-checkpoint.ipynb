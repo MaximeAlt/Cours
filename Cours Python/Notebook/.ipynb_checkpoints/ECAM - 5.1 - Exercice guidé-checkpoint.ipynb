{
 "cells": [
  {
   "cell_type": "markdown",
   "metadata": {},
   "source": [
    "\n",
    "<section style=\"position:relative; width:100%;\">\n",
    "\n",
    "<div style=\"display:inline-block;\">\n",
    "<img src=\"images/ioapps_small.png\" style=\"width:200px;\" /> \n",
    "<p> Formateur :<br /> Pierre-Olivier Simonard <br />\n",
    "<a href=\"mailto:pierre.olivier.simonard@gmail.com\">pierre.olivier.simonard@gmail.com</a></p>\n",
    "</div>\n",
    "\n",
    "<div style=\"display:inline-block; float:right\">\n",
    "    <h3>ICAM </h3>\n",
    "    <p>Formation Data Science</p>\n",
    "    <p>Novembre 2022</p>\n",
    "    <img src=\"https://mirrors.creativecommons.org/presskit/buttons/88x31/png/by-nc-sa.eu.png\"  width=\"100px\" />\n",
    "</div>\n",
    "\n",
    "</section>\n",
    "\n",
    "\n",
    "<h1 style=\"text-align: center; width:100%\">Programmation Python</h1>\n",
    "<h2 style=\"text-align: center; width:100%\">Partie 5.1 : Structures de données <br /> Tuples et Listes <br /> Exercice guidé </h2>\n",
    "\n",
    "<!--  \n",
    "Novembre 2022\n",
    "Pierre-Oliver Simonard - pierre.olivier.simonard@gmail.com\n",
    "-->\n",
    "\n",
    "<style>\n",
    "div.warn {    \n",
    "    background-color: #fcf2f2;\n",
    "    border-color: #dFb5b4;\n",
    "    border-left: 5px solid #dfb5b4;\n",
    "    padding: 0.5em;\n",
    "    }\n",
    "</style>"
   ]
  },
  {
   "cell_type": "markdown",
   "metadata": {},
   "source": [
    "### Exercice 1 : Nombres premiers\n",
    "\n",
    "Voici les 8 premiers nombres premiers. : 2, 3, 5, 7, 11, 13, 17, 19\n",
    "\n",
    "* Ecrivez un programme qui les représente dans une liste.\n",
    "* Modifiez votre programme qui affichera chacun de ces nombres\n",
    "* Modifiez votre programme pour qu'il affiche le carré de chacun de ces nombres\n",
    "\n"
   ]
  },
  {
   "cell_type": "code",
   "execution_count": null,
   "metadata": {},
   "outputs": [],
   "source": []
  },
  {
   "cell_type": "markdown",
   "metadata": {},
   "source": [
    "### Exercice 2 : Calculer une moyenne glissante\n",
    "\n",
    "Le programme suivante génère une liste de 30 nombres entiers entre 0 et 20 :"
   ]
  },
  {
   "cell_type": "code",
   "execution_count": null,
   "metadata": {},
   "outputs": [],
   "source": [
    "from random import random, seed\n",
    "\n",
    "seed(42)\n",
    "\n",
    "numbers = []\n",
    "for i in range(30):\n",
    "    numbers.append( int(random()*21))\n",
    "\n",
    "print(numbers)"
   ]
  },
  {
   "cell_type": "markdown",
   "metadata": {},
   "source": [
    "* Ecrivez un programme qui calcule la moyenne des 5 premières valeurs. Utilisez le slicing."
   ]
  },
  {
   "cell_type": "code",
   "execution_count": null,
   "metadata": {},
   "outputs": [],
   "source": []
  },
  {
   "cell_type": "markdown",
   "metadata": {},
   "source": [
    "* Ecrivez un programme qui affiche les nombres d'indices 0 à 5, puis 1 à 6, puis 2 à 7 ... puis n à n+5"
   ]
  },
  {
   "cell_type": "code",
   "execution_count": null,
   "metadata": {},
   "outputs": [],
   "source": []
  },
  {
   "cell_type": "markdown",
   "metadata": {},
   "source": [
    "* Completez votre programme pour qu'il calcule les moyennes glissantes sur 6 valeurs, et stocke ces moyennes dans une liste, puis affichez cette liste."
   ]
  },
  {
   "cell_type": "code",
   "execution_count": null,
   "metadata": {},
   "outputs": [],
   "source": []
  },
  {
   "cell_type": "markdown",
   "metadata": {},
   "source": [
    "----\n",
    "\n",
    "### Exercice 3 : Villes de France\n",
    "\n",
    "Nous allons travailler sur un jeu de donnée représentant les 10 plus grandes villes de France, par leur population.  \n",
    "Les données sont de la forme :  \n",
    "Rang dans le classement, nom de la ville, Population, Superficie (en km<sup>2</sup>)"
   ]
  },
  {
   "cell_type": "code",
   "execution_count": null,
   "metadata": {},
   "outputs": [],
   "source": [
    "villes = [\n",
    "    [1, \"Paris\",         2206488,  105.40],\n",
    "    [2, \"Marseille\",      861635,  240.62],\n",
    "    [3, \"Lyon\",           513275,  47.87 ],\n",
    "    [4, \"Toulouse\",       471941,  118.30],\n",
    "    [5, \"Nice\",           342522,  71.92],\n",
    "    [6, \"Nantes\",         303382,  65.19],\n",
    "    [7, \"Montpellier\",    277639,  56.88],\n",
    "    [8, \"Strasbourg\",     277270,  78.26],\n",
    "    [9, \"Bordeaux\",       249712,  49.36],\n",
    "    [10,\"Lille\",          232741,  34.51]\n",
    "]"
   ]
  },
  {
   "cell_type": "markdown",
   "metadata": {},
   "source": [
    "#### Question 1 \n",
    "\n",
    "Ecrivez une instruction qui va lire dans la liste la population de Strasbourg, et l'affiche.  \n",
    "\n"
   ]
  },
  {
   "cell_type": "code",
   "execution_count": null,
   "metadata": {},
   "outputs": [],
   "source": []
  },
  {
   "cell_type": "markdown",
   "metadata": {},
   "source": [
    "#### Question 2 \n",
    "\n",
    "Ecrivez une boucle qui affiche le rang et le nom des villes\n"
   ]
  },
  {
   "cell_type": "code",
   "execution_count": null,
   "metadata": {},
   "outputs": [],
   "source": []
  },
  {
   "cell_type": "markdown",
   "metadata": {},
   "source": [
    "#### Question 3 \n",
    "\n",
    "Ecrivez un programme qui calcule la somme des populations de l'ensemble de ces villes\n"
   ]
  },
  {
   "cell_type": "code",
   "execution_count": null,
   "metadata": {},
   "outputs": [],
   "source": []
  },
  {
   "cell_type": "markdown",
   "metadata": {},
   "source": [
    "#### Question 4 \n",
    "\n",
    "Ecrivez un programme qui calcule la densité de population de chacune des villes.  \n",
    "Utilisez `.append()` pour modifier la liste et y stocker la densité de population.\n"
   ]
  },
  {
   "cell_type": "code",
   "execution_count": 2,
   "metadata": {},
   "outputs": [],
   "source": [
    "# Rappel : \n",
    "villes = [\n",
    "    [1, \"Paris\",         2206488,  105.40],\n",
    "    [2, \"Marseille\",      861635,  240.62],\n",
    "    [3, \"Lyon\",           513275,  47.87 ],\n",
    "    [4, \"Toulouse\",       471941,  118.30],\n",
    "    [5, \"Nice\",           342522,  71.92],\n",
    "    [6, \"Nantes\",         303382,  65.19],\n",
    "    [7, \"Montpellier\",    277639,  56.88],\n",
    "    [8, \"Strasbourg\",     277270,  78.26],\n",
    "    [9, \"Bordeaux\",       249712,  49.36],\n",
    "    [10,\"Lille\",          232741,  34.51]\n",
    "]\n",
    "\n",
    "# ..."
   ]
  },
  {
   "cell_type": "markdown",
   "metadata": {},
   "source": [
    "Le résultat attendu est : \n",
    "\n",
    "```python\n",
    "[\n",
    "  [1, 'Paris', 2206488, 105.4, 20934]\n",
    "  [2, 'Marseille', 861635, 240.62, 3580]\n",
    "  [3, 'Lyon', 513275, 47.87, 10722]\n",
    "  [4, 'Toulouse', 471941, 118.3, 3989]\n",
    "  [5, 'Nice', 342522, 71.92, 4762]\n",
    "  [6, 'Nantes', 303382, 65.19, 4653]\n",
    "  [7, 'Montpellier', 277639, 56.88, 4881]\n",
    "  [8, 'Strasbourg', 277270, 78.26, 3542]\n",
    "  [9, 'Bordeaux', 249712, 49.36, 5058]\n",
    "  [10, 'Lille', 232741, 34.51, 6744]\n",
    "]\n",
    "```"
   ]
  },
  {
   "cell_type": "code",
   "execution_count": null,
   "metadata": {},
   "outputs": [],
   "source": []
  },
  {
   "cell_type": "markdown",
   "metadata": {},
   "source": [
    "#### Question 5 \n",
    "\n",
    "Ecrivez un programme qui génère une liste de Tuples de la forme :\n",
    "( Nom de la ville, densité de population )\n"
   ]
  },
  {
   "cell_type": "code",
   "execution_count": null,
   "metadata": {},
   "outputs": [],
   "source": []
  },
  {
   "cell_type": "markdown",
   "metadata": {},
   "source": [
    "#### Question 6\n",
    "\n",
    "Considérons que la liste générée à la question 5 est stockée dans une variable nommée `liste_densite`\n",
    "\n",
    "1. Créez une liste vide appelée `classement_densite`\n",
    "2. à partir `liste_densite`, trouvez la ville avec la plus grande densité de population\n",
    "3. Ajouter le tuple correspondant dans `classement_densite`\n",
    "4. supprimer le tuple correspondant de `liste_densite`\n",
    "5. Recommencez jusqu'à ce que `liste_densite` soit vide\n",
    "\n",
    "à la fin, vous devriez avoir obtenu une liste de villes triées par densité décroissante.\n"
   ]
  },
  {
   "cell_type": "code",
   "execution_count": null,
   "metadata": {},
   "outputs": [],
   "source": []
  }
 ],
 "metadata": {
  "kernelspec": {
   "display_name": "Python 3 (ipykernel)",
   "language": "python",
   "name": "python3"
  },
  "language_info": {
   "codemirror_mode": {
    "name": "ipython",
    "version": 3
   },
   "file_extension": ".py",
   "mimetype": "text/x-python",
   "name": "python",
   "nbconvert_exporter": "python",
   "pygments_lexer": "ipython3",
   "version": "3.9.7"
  }
 },
 "nbformat": 4,
 "nbformat_minor": 4
}
