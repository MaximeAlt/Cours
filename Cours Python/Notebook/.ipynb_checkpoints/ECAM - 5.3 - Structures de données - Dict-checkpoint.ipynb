{
 "cells": [
  {
   "cell_type": "markdown",
   "metadata": {},
   "source": [
    "\n",
    "<section style=\"position:relative; width:100%;\">\n",
    "\n",
    "<div style=\"display:inline-block;\">\n",
    "<img src=\"images/ioapps_small.png\" style=\"width:200px;\" /> \n",
    "<p> Formateur :<br /> Pierre-Olivier Simonard <br />\n",
    "<a href=\"mailto:pierre.olivier.simonard@gmail.com\">pierre.olivier.simonard@gmail.com</a></p>\n",
    "</div>\n",
    "\n",
    "<div style=\"display:inline-block; float:right\">\n",
    "    <h3>ICAM </h3>\n",
    "    <p>Formation Data Science</p>\n",
    "    <p>Novembre 2022</p>\n",
    "    <img src=\"https://mirrors.creativecommons.org/presskit/buttons/88x31/png/by-nc-sa.eu.png\"  width=\"100px\" />\n",
    "</div>\n",
    "\n",
    "</section>\n",
    "\n",
    "\n",
    "<h1 style=\"text-align: center; width:100%\">Programmation Python</h1>\n",
    "<h2 style=\"text-align: center; width:100%\">Partie 5.3 : Structures de données <br /> Dictionnaires</h2>\n",
    "\n",
    "<!--  \n",
    "Novembre 2022\n",
    "Pierre-Oliver Simonard - pierre.olivier.simonard@gmail.com\n",
    "-->\n",
    "\n",
    "<style>\n",
    "div.warn {    \n",
    "    background-color: #fcf2f2;\n",
    "    border-color: #dFb5b4;\n",
    "    border-left: 5px solid #dfb5b4;\n",
    "    padding: 0.5em;\n",
    "    }\n",
    "</style>"
   ]
  },
  {
   "cell_type": "markdown",
   "metadata": {},
   "source": [
    "Les dictionnaires sont des structure de données, comme les tuples et les listes. Ils permettent d'associer une donnée à une autre donnée."
   ]
  },
  {
   "cell_type": "markdown",
   "metadata": {},
   "source": [
    "### 1.0 - Présentation des dictionnaires\n",
    "\n",
    "Voici un exemple de dictionnaire associant 4 chaînes de caractères à 4 valeurs numériques:"
   ]
  },
  {
   "cell_type": "code",
   "execution_count": 1,
   "metadata": {},
   "outputs": [
    {
     "name": "stdout",
     "output_type": "stream",
     "text": [
      "{'Mercure': 4879, 'Venus': 12104, 'Terre': 12742, 'Mars': 6779}\n"
     ]
    }
   ],
   "source": [
    "telluriques = { \"Mercure\": 4879,\n",
    "                \"Venus\"  : 12104,\n",
    "                \"Terre\"  : 12742,\n",
    "                \"Mars\"   : 6779  }\n",
    "\n",
    "print(telluriques)"
   ]
  },
  {
   "cell_type": "markdown",
   "metadata": {},
   "source": [
    "Dans cet exemple :\n",
    "* les chaines de caractères (\"Mercure\", \"Venus\",...) sont appelées les **clés** du dictionnaire.  \n",
    "* Les valeurs numériques sont appelées les **valeurs**.  \n",
    "\n",
    "Les accolades **{ }** permettent à python de comprendre qu'il s'agit d'un dictionnaire.\n",
    "les deux points permettent d'associer la clé à sa valeur.\n",
    "\n",
    "\n",
    "* On peut accéder à une valeur d'un dictionnaire en utilisant la clé associée :"
   ]
  },
  {
   "cell_type": "code",
   "execution_count": 9,
   "metadata": {},
   "outputs": [
    {
     "name": "stdout",
     "output_type": "stream",
     "text": [
      "12742\n"
     ]
    }
   ],
   "source": [
    "telluriques = { \"Mercure\":4879,\n",
    "                \"Venus\": 12104,\n",
    "                \"Terre\": 12742,\n",
    "                \"Mars\" : 6779 }\n",
    "\n",
    "print(telluriques[\"Terre\"])"
   ]
  },
  {
   "cell_type": "markdown",
   "metadata": {},
   "source": [
    "* Pour extraire toutes les clés d'un dictionnaire, on utilise la fonction keys().  \n",
    "Cette fonction retourne un type de variable particulier, que nous devons convertir en liste."
   ]
  },
  {
   "cell_type": "code",
   "execution_count": 2,
   "metadata": {},
   "outputs": [
    {
     "name": "stdout",
     "output_type": "stream",
     "text": [
      "dict_keys(['Mercure', 'Venus', 'Terre', 'Mars'])\n",
      "['Mercure', 'Venus', 'Terre', 'Mars']\n"
     ]
    }
   ],
   "source": [
    "telluriques = { \"Mercure\": 4879,\n",
    "                \"Venus\"  : 12104,\n",
    "                \"Terre\"  : 12742,\n",
    "                \"Mars\"   : 6779 }\n",
    "\n",
    "print( telluriques.keys() )\n",
    "\n",
    "print( list(telluriques.keys()) )"
   ]
  },
  {
   "cell_type": "markdown",
   "metadata": {},
   "source": [
    "* Pour extraire toutes les valeurs d'un dictionnaire, on utiliser la fonction values() :\n",
    "Cette fonction retourne un type de variable particulier, que nous devons convertir en liste."
   ]
  },
  {
   "cell_type": "code",
   "execution_count": 5,
   "metadata": {},
   "outputs": [
    {
     "name": "stdout",
     "output_type": "stream",
     "text": [
      "dict_values([4879, 12104, 12742, 6779])\n",
      "[4879, 12104, 12742, 6779]\n"
     ]
    }
   ],
   "source": [
    "telluriques = { \"Mercure\":4879,\n",
    "                \"Venus\": 12104,\n",
    "                \"Terre\": 12742,\n",
    "                \"Mars\" : 6779 }\n",
    "\n",
    "print( telluriques.values() )\n",
    "print( list(telluriques.values()) )"
   ]
  },
  {
   "cell_type": "markdown",
   "metadata": {},
   "source": [
    "* Pour connaitre le nombre de couples clé-valeur dans le dictionnaire, on utilise la fonction len()"
   ]
  },
  {
   "cell_type": "code",
   "execution_count": 16,
   "metadata": {},
   "outputs": [
    {
     "name": "stdout",
     "output_type": "stream",
     "text": [
      "4\n"
     ]
    }
   ],
   "source": [
    "telluriques = { \"Mercure\":4879,\n",
    "                \"Venus\": 12104,\n",
    "                \"Terre\": 12742,\n",
    "                \"Mars\" : 6779 }\n",
    "\n",
    "print( len(telluriques) )"
   ]
  },
  {
   "cell_type": "markdown",
   "metadata": {},
   "source": [
    "* Un dictionnaire peut être vide :"
   ]
  },
  {
   "cell_type": "code",
   "execution_count": 17,
   "metadata": {},
   "outputs": [
    {
     "name": "stdout",
     "output_type": "stream",
     "text": [
      "{}\n"
     ]
    }
   ],
   "source": [
    "vide = {}\n",
    "print( vide )"
   ]
  },
  {
   "cell_type": "markdown",
   "metadata": {},
   "source": [
    "* Un dictionaire peut contenir des structures de données plus evoluées, comme des listes, ou même des dictionnaires :"
   ]
  },
  {
   "cell_type": "code",
   "execution_count": 3,
   "metadata": {},
   "outputs": [
    {
     "name": "stdout",
     "output_type": "stream",
     "text": [
      "149.6\n"
     ]
    }
   ],
   "source": [
    "planetes = {    \"Mercure\" : [4879, 57.91   ],\n",
    "                \"Venus\"   : [12104, 108.2  ],\n",
    "                \"Terre\"   : [12742, 149.6  ],\n",
    "                \"Mars\"    : [6779, 227.9   ]\n",
    "            }\n",
    "\n",
    "print( planetes[\"Terre\"][1] )"
   ]
  },
  {
   "cell_type": "code",
   "execution_count": 19,
   "metadata": {},
   "outputs": [
    {
     "name": "stdout",
     "output_type": "stream",
     "text": [
      "149.6\n"
     ]
    }
   ],
   "source": [
    "planetes = {    \"Mercure\" :  { \"diametre\":4879,   \"distance\":57.91   },\n",
    "                \"Venus\"   : { \"diametre\":12104,   \"distance\":108.2  },\n",
    "                \"Terre\"   : { \"diametre\":12742,   \"distance\":149.6  },\n",
    "                \"Mars\"    : { \"diametre\":6779,   \"distance\":227.9   }\n",
    "                }\n",
    "\n",
    "print( planetes[\"Terre\"][\"distance\"] )"
   ]
  },
  {
   "cell_type": "markdown",
   "metadata": {},
   "source": [
    "#### Opérations sur les dictionnaires\n",
    "\n",
    "* Ajout d'une entrée (clé + valeur)"
   ]
  },
  {
   "cell_type": "code",
   "execution_count": 8,
   "metadata": {},
   "outputs": [
    {
     "name": "stdout",
     "output_type": "stream",
     "text": [
      "{'nouvelle clé': 'valeur'}\n",
      "{'nouvelle clé': 'valeur 2'}\n"
     ]
    }
   ],
   "source": [
    "dico = {}\n",
    "\n",
    "dico[\"nouvelle clé\"] = \"valeur\"\n",
    "print(dico)\n",
    "\n",
    "dico[\"nouvelle clé\"] = \"valeur 2\"\n",
    "print(dico)"
   ]
  },
  {
   "cell_type": "markdown",
   "metadata": {},
   "source": [
    "* Suppression"
   ]
  },
  {
   "cell_type": "code",
   "execution_count": 9,
   "metadata": {},
   "outputs": [
    {
     "name": "stdout",
     "output_type": "stream",
     "text": [
      "{'Mercure': 4879, 'Venus': 12104, 'Terre': 12742, 'Mars': 6779}\n"
     ]
    }
   ],
   "source": [
    "telluriques = { \"Mercure\":4879,\n",
    "                \"Venus\": 12104,\n",
    "                \"Terre\": 12742,\n",
    "                \"Mars\" : 6779, \n",
    "                \"Jupiter\" : 139822}\n",
    "\n",
    "del telluriques[\"Jupiter\"]\n",
    "print(telluriques)"
   ]
  },
  {
   "cell_type": "markdown",
   "metadata": {},
   "source": [
    "* Remplacer une valeur"
   ]
  },
  {
   "cell_type": "code",
   "execution_count": 38,
   "metadata": {},
   "outputs": [
    {
     "name": "stdout",
     "output_type": "stream",
     "text": [
      "{'Mercure': 4879, 'Venus': 12104, 'Terre': 12742, 'Mars': 6779, 'Jupiter': 139822}\n"
     ]
    }
   ],
   "source": [
    "telluriques = { \"Mercure\":4879,\n",
    "                \"Venus\": 12104,\n",
    "                \"Terre\": 0,\n",
    "                \"Mars\" : 6779, \n",
    "                \"Jupiter\" : 139822}\n",
    "\n",
    "telluriques[\"Terre\"] = 12742\n",
    "print(telluriques)"
   ]
  },
  {
   "cell_type": "markdown",
   "metadata": {},
   "source": [
    "* Verifier l'existence d'une clé:"
   ]
  },
  {
   "cell_type": "code",
   "execution_count": 10,
   "metadata": {},
   "outputs": [
    {
     "name": "stdout",
     "output_type": "stream",
     "text": [
      "12742\n"
     ]
    }
   ],
   "source": [
    "telluriques = { \"Mercure\":4879,\n",
    "                \"Venus\": 12104,\n",
    "                \"Terre\": 12742,\n",
    "                \"Mars\" : 6779}\n",
    "\n",
    "if  \"Terre\" in telluriques:\n",
    "    print(telluriques[\"Terre\"])\n"
   ]
  },
  {
   "cell_type": "markdown",
   "metadata": {},
   "source": [
    "### Boucle For avec un dictionnaire\n",
    "\n",
    "* Si on effectue une boucle `for` sur un dictionnaire, on parcourt les **clés** du dictionnaire.  \n",
    "On peut utiliser la clé pour accéder à la valeur :"
   ]
  },
  {
   "cell_type": "code",
   "execution_count": 2,
   "metadata": {},
   "outputs": [
    {
     "name": "stdout",
     "output_type": "stream",
     "text": [
      "Mercure 4879\n",
      "Venus 12104\n",
      "Terre 12742\n",
      "Mars 6779\n"
     ]
    }
   ],
   "source": [
    "telluriques = { \"Mercure\":4879,\n",
    "                \"Venus\": 12104,\n",
    "                \"Terre\": 12742,\n",
    "                \"Mars\" : 6779 }\n",
    "\n",
    "for key in telluriques:\n",
    "    print(key , telluriques[key] )"
   ]
  },
  {
   "cell_type": "markdown",
   "metadata": {},
   "source": [
    "* Il est également possible de parcourir toutes les **valeurs** d'un dictionnaire, grace à **.values()** :"
   ]
  },
  {
   "cell_type": "code",
   "execution_count": 14,
   "metadata": {},
   "outputs": [
    {
     "name": "stdout",
     "output_type": "stream",
     "text": [
      "4879\n",
      "12104\n",
      "12742\n",
      "6779\n"
     ]
    }
   ],
   "source": [
    "telluriques = { \"Mercure\":4879,\n",
    "                \"Venus\": 12104,\n",
    "                \"Terre\": 12742,\n",
    "                \"Mars\" : 6779 }\n",
    "\n",
    "for v in telluriques.values():\n",
    "    print(v)"
   ]
  },
  {
   "cell_type": "markdown",
   "metadata": {},
   "source": [
    "* Si, dans la même boucle, on veut accéder à la fois a la clé et à la valeur :"
   ]
  },
  {
   "cell_type": "code",
   "execution_count": 5,
   "metadata": {},
   "outputs": [
    {
     "name": "stdout",
     "output_type": "stream",
     "text": [
      " La planète Mercure a un diamètre de  4879\n",
      " La planète Venus a un diamètre de  12104\n",
      " La planète Terre a un diamètre de  12742\n",
      " La planète Mars a un diamètre de  6779\n"
     ]
    }
   ],
   "source": [
    "telluriques = { \"Mercure\":4879,\n",
    "                \"Venus\": 12104,\n",
    "                \"Terre\": 12742,\n",
    "                \"Mars\" : 6779 }\n",
    "\n",
    "for v in telluriques.items():\n",
    "    print(\" La planète\", v[0], \"a un diamètre de \", v[1] )\n",
    "    "
   ]
  },
  {
   "cell_type": "code",
   "execution_count": 6,
   "metadata": {},
   "outputs": [
    {
     "name": "stdout",
     "output_type": "stream",
     "text": [
      " La planète Mercure a un diamètre de  4879\n",
      " La planète Venus a un diamètre de  12104\n",
      " La planète Terre a un diamètre de  12742\n",
      " La planète Mars a un diamètre de  6779\n"
     ]
    }
   ],
   "source": [
    "# en utilisant le \"unpacking\"\n",
    "for key, value in telluriques.items():\n",
    "    print(\" La planète\", key, \"a un diamètre de \", value )"
   ]
  },
  {
   "cell_type": "code",
   "execution_count": null,
   "metadata": {},
   "outputs": [],
   "source": []
  }
 ],
 "metadata": {
  "kernelspec": {
   "display_name": "Python 3 (ipykernel)",
   "language": "python",
   "name": "python3"
  },
  "language_info": {
   "codemirror_mode": {
    "name": "ipython",
    "version": 3
   },
   "file_extension": ".py",
   "mimetype": "text/x-python",
   "name": "python",
   "nbconvert_exporter": "python",
   "pygments_lexer": "ipython3",
   "version": "3.9.7"
  }
 },
 "nbformat": 4,
 "nbformat_minor": 4
}
