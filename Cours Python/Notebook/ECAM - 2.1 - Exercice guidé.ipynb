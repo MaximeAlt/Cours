{
 "cells": [
  {
   "cell_type": "markdown",
   "metadata": {},
   "source": [
    "<section style=\"position:relative; width:100%;\">\n",
    "\n",
    "<div style=\"display:inline-block;\">\n",
    "<img src=\"images/ioapps_small.png\" style=\"width:200px;\" /> \n",
    "<p> Formateur :<br /> Pierre-Olivier Simonard <br />\n",
    "<a href=\"mailto:pierre.olivier.simonard@gmail.com\">pierre.olivier.simonard@gmail.com</a></p>\n",
    "</div>\n",
    "\n",
    "<div style=\"display:inline-block; float:right\">\n",
    "    <h3>ICAM </h3>\n",
    "    <p>Formation Data Science</p>\n",
    "    <p>Novembre 2022</p>\n",
    "    <img src=\"https://mirrors.creativecommons.org/presskit/buttons/88x31/png/by-nc-sa.eu.png\"  width=\"100px\" />\n",
    "</div>\n",
    "\n",
    "</section>\n",
    "\n",
    "\n",
    "<h1 style=\"text-align: center; width:100%\">Programmation Python</h1>\n",
    "<h2 style=\"text-align: center; width:100%\">Partie 2.1 : Variables et opérateurs - Exercice guidé </h2>\n",
    "\n",
    "<!--  \n",
    "Novembre 2022\n",
    "Pierre-Oliver Simonard - pierre.olivier.simonard@gmail.com\n",
    "-->\n",
    "\n",
    "<style>\n",
    "div.warn {    \n",
    "    background-color: #fcf2f2;\n",
    "    border-color: #dFb5b4;\n",
    "    border-left: 5px solid #dfb5b4;\n",
    "    padding: 0.5em;\n",
    "    }\n",
    "</style>"
   ]
  },
  {
   "cell_type": "markdown",
   "metadata": {},
   "source": [
    "### Exercice 1 : Pi = 3.14\n",
    "\n",
    "1) Construisez 3 variables de type **string** nommées `nbr_trois`, `nbr_un` et `nbr_quatre`, contenant respectivement les valeurs '3', '1', et '4'."
   ]
  },
  {
   "cell_type": "code",
   "execution_count": 40,
   "metadata": {},
   "outputs": [],
   "source": [
    "nbr_trois = '3'\n",
    "nbr_un = '1'\n",
    "nbr_quatre = '4'"
   ]
  },
  {
   "cell_type": "markdown",
   "metadata": {},
   "source": [
    "2) En utilisant la concaténation, et les variables précédemment définies, construisez une variable `pi_string` représentant la chaine de caractère \"3.14\""
   ]
  },
  {
   "cell_type": "code",
   "execution_count": 41,
   "metadata": {},
   "outputs": [
    {
     "name": "stdout",
     "output_type": "stream",
     "text": [
      "3.14\n"
     ]
    }
   ],
   "source": [
    "pi_string = nbr_trois + \".\"+ nbr_un + nbr_quatre\n",
    "print(pi_string)"
   ]
  },
  {
   "cell_type": "markdown",
   "metadata": {},
   "source": [
    "3) Construisez une variable `pi` de type `numerique` à partir de la variable `pi_string`, qui aura pour valeur `3.14`"
   ]
  },
  {
   "cell_type": "code",
   "execution_count": 42,
   "metadata": {},
   "outputs": [
    {
     "name": "stdout",
     "output_type": "stream",
     "text": [
      "3.14 <class 'float'>\n"
     ]
    }
   ],
   "source": [
    "pi = float(pi_string)\n",
    "print(pi, type(pi))"
   ]
  },
  {
   "cell_type": "markdown",
   "metadata": {},
   "source": [
    "____\n",
    "### Exercice 2 : Manipulation de nombres\n",
    "\n",
    "\n",
    "1) Un étudiant a eu trois notes à ses examens : 18/20, 14/20, et 5/20.\n",
    "\n",
    "Définissez une variable par note, puis calculez sa moyenne \n",
    "\n",
    "**Indication** : En python comme en mathématiques, la division et la multiplication sont prioritaires sur l'addition et la soustraction. Vous devrez donc, comme en mathématiques, utiliser des parenthèses."
   ]
  },
  {
   "cell_type": "code",
   "execution_count": 43,
   "metadata": {},
   "outputs": [
    {
     "name": "stdout",
     "output_type": "stream",
     "text": [
      "12.333333333333334 <class 'float'>\n"
     ]
    }
   ],
   "source": [
    "note1=  18\n",
    "note2= 14\n",
    "note3= 5\n",
    "note = [note1, note2, note3]\n",
    "moyenne = sum(note)/len(note)\n",
    "print(moyenne, type(moyenne))"
   ]
  },
  {
   "cell_type": "markdown",
   "metadata": {},
   "source": [
    "2) Quel est le type de la variable représentant la moyenne ?  Convertissez la dans un format numérique qui n'a pas de chiffres après la virgule."
   ]
  },
  {
   "cell_type": "code",
   "execution_count": 46,
   "metadata": {},
   "outputs": [
    {
     "data": {
      "text/plain": [
       "12"
      ]
     },
     "execution_count": 46,
     "metadata": {},
     "output_type": "execute_result"
    }
   ],
   "source": [
    "int(moyenne)"
   ]
  },
  {
   "cell_type": "markdown",
   "metadata": {},
   "source": [
    "\n",
    "____\n",
    "### Exercice 3 : Les chiffres romains\n",
    "\n",
    "Le nombre 321 en chiffres romains s'écrit : CCCXXI\n",
    "\n",
    "1) En utilisant la duplication et la concaténation, construisez une variable qui représente 321 en chiffres romains.\n"
   ]
  },
  {
   "cell_type": "code",
   "execution_count": 28,
   "metadata": {},
   "outputs": [
    {
     "name": "stdout",
     "output_type": "stream",
     "text": [
      "CCCXXI\n"
     ]
    }
   ],
   "source": [
    "print(3*\"C\" + 2*\"X\" + 1*\"I\")"
   ]
  },
  {
   "cell_type": "markdown",
   "metadata": {},
   "source": [
    "2) Même question avec 4123"
   ]
  },
  {
   "cell_type": "code",
   "execution_count": 30,
   "metadata": {},
   "outputs": [
    {
     "name": "stdout",
     "output_type": "stream",
     "text": [
      "MMMMCXXIII\n"
     ]
    }
   ],
   "source": [
    "print(4*\"M\"+ 1*\"C\" + 2*\"X\" + 3*\"I\")"
   ]
  },
  {
   "cell_type": "markdown",
   "metadata": {},
   "source": [
    "____\n",
    "### Exercice 4 : Conversion de températures\n",
    "\n",
    "\n",
    "La formule de conversion d'une température en degrés celcius vers degrés Fahrenheit, est :\n",
    "°F =( °C x 1,8 ) + 32\n",
    "\n",
    "Faites un programme qui demande à l'utilisateur de saisir une température en degré Celcius, et qui affiche la conversion en Fahrenheit.\n",
    "Le programme doit fonctionner pour des températures avec une partie décimale."
   ]
  },
  {
   "cell_type": "code",
   "execution_count": 49,
   "metadata": {},
   "outputs": [
    {
     "name": "stdin",
     "output_type": "stream",
     "text": [
      "Saisissez une temperature en C°:  16\n"
     ]
    },
    {
     "name": "stdout",
     "output_type": "stream",
     "text": [
      "60.8\n"
     ]
    }
   ],
   "source": [
    "tempC= float(input (\"Saisissez une temperature en C°: \"))\n",
    "tempF=(tempC*1.8)+32\n",
    "print(tempF)\n"
   ]
  },
  {
   "cell_type": "code",
   "execution_count": null,
   "metadata": {},
   "outputs": [],
   "source": []
  }
 ],
 "metadata": {
  "kernelspec": {
   "display_name": "Python 3 (ipykernel)",
   "language": "python",
   "name": "python3"
  },
  "language_info": {
   "codemirror_mode": {
    "name": "ipython",
    "version": 3
   },
   "file_extension": ".py",
   "mimetype": "text/x-python",
   "name": "python",
   "nbconvert_exporter": "python",
   "pygments_lexer": "ipython3",
   "version": "3.9.12"
  }
 },
 "nbformat": 4,
 "nbformat_minor": 4
}
