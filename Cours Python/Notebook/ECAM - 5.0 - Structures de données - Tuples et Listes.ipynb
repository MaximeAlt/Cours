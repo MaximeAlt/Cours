{
 "cells": [
  {
   "cell_type": "markdown",
   "metadata": {},
   "source": [
    "\n",
    "<section style=\"position:relative; width:100%;\">\n",
    "\n",
    "<div style=\"display:inline-block;\">\n",
    "<img src=\"images/ioapps_small.png\" style=\"width:200px;\" /> \n",
    "<p> Formateur :<br /> Pierre-Olivier Simonard <br />\n",
    "<a href=\"mailto:pierre.olivier.simonard@gmail.com\">pierre.olivier.simonard@gmail.com</a></p>\n",
    "</div>\n",
    "\n",
    "<div style=\"display:inline-block; float:right\">\n",
    "    <h3>ICAM </h3>\n",
    "    <p>Formation Data Science</p>\n",
    "    <p>Novembre 2022</p>\n",
    "    <img src=\"https://mirrors.creativecommons.org/presskit/buttons/88x31/png/by-nc-sa.eu.png\"  width=\"100px\" />\n",
    "</div>\n",
    "\n",
    "</section>\n",
    "\n",
    "\n",
    "<h1 style=\"text-align: center; width:100%\">Programmation Python</h1>\n",
    "<h2 style=\"text-align: center; width:100%\">Partie 5.0 : Structures de données <br /> Tuples et Listes</h2>\n",
    "\n",
    "<!--  \n",
    "Novembre 2022\n",
    "Pierre-Oliver Simonard - pierre.olivier.simonard@gmail.com\n",
    "-->\n",
    "\n",
    "<style>\n",
    "div.warn {    \n",
    "    background-color: #fcf2f2;\n",
    "    border-color: #dFb5b4;\n",
    "    border-left: 5px solid #dfb5b4;\n",
    "    padding: 0.5em;\n",
    "    }\n",
    "</style>"
   ]
  },
  {
   "cell_type": "markdown",
   "metadata": {},
   "source": [
    "Les structures de données sont des **types de variables** pouvant contenir **plusieurs données** pour les traiter plus facilement."
   ]
  },
  {
   "cell_type": "markdown",
   "metadata": {},
   "source": [
    "### 1.0 - Les tuples\n",
    "\n",
    "Voici un exemple de tuple contenant 3 chaînes de caractères:"
   ]
  },
  {
   "cell_type": "code",
   "execution_count": 1,
   "metadata": {},
   "outputs": [
    {
     "name": "stdout",
     "output_type": "stream",
     "text": [
      "('rouge', 'vert', 'bleu')\n",
      "<class 'tuple'>\n"
     ]
    }
   ],
   "source": [
    "couleurs = (\"rouge\", \"vert\", \"bleu\")\n",
    "print(couleurs)\n",
    "print( type(couleurs) )"
   ]
  },
  {
   "cell_type": "markdown",
   "metadata": {},
   "source": [
    "les virgules entre chaque chaîne de caractère est ce qui permet à l'interpréteur python de savoir qu'il s'agit d'un tuple. les parenthèses autour sont optionnelles mais aident à la lecture.\n",
    "\n",
    "Les tuples sont des structures de données **ordonnées et non modifiables** \n",
    "\n",
    "\n",
    "#### Ordre - Indexation\n",
    "\n",
    "On peut accéder aux élements contenus dans un tuple en utilisant l'indexation : le premier élement de la liste porte l'index 0, le second l'index 1, ..."
   ]
  },
  {
   "cell_type": "code",
   "execution_count": 21,
   "metadata": {},
   "outputs": [
    {
     "name": "stdout",
     "output_type": "stream",
     "text": [
      "rouge\n",
      "vert\n",
      "bleu\n"
     ]
    }
   ],
   "source": [
    "couleurs = (\"rouge\", \"vert\", \"bleu\")\n",
    "print(couleurs[0])\n",
    "print(couleurs[1])\n",
    "print(couleurs[2])"
   ]
  },
  {
   "cell_type": "markdown",
   "metadata": {},
   "source": [
    "On peut également accéder aux élements d'un tuple en commencant par la fin : le dernier element d'un tuple est d'index -1, l'avant dernier est d'index -2 ..."
   ]
  },
  {
   "cell_type": "code",
   "execution_count": 22,
   "metadata": {},
   "outputs": [
    {
     "name": "stdout",
     "output_type": "stream",
     "text": [
      "-4\n",
      "bleu\n",
      "True\n"
     ]
    }
   ],
   "source": [
    "couleurs = (\"rouge\", 2, \"vert\", True, \"bleu\", -4)\n",
    "print(couleurs[-1])\n",
    "print(couleurs[-2])\n",
    "print(couleurs[-3])"
   ]
  },
  {
   "cell_type": "markdown",
   "metadata": {},
   "source": [
    "Si on essaie d'accéder à un élement à un index qui n'existe pas, on obtient une erreur :"
   ]
  },
  {
   "cell_type": "code",
   "execution_count": 2,
   "metadata": {},
   "outputs": [
    {
     "ename": "IndexError",
     "evalue": "tuple index out of range",
     "output_type": "error",
     "traceback": [
      "\u001b[1;31m---------------------------------------------------------------------------\u001b[0m",
      "\u001b[1;31mIndexError\u001b[0m                                Traceback (most recent call last)",
      "Input \u001b[1;32mIn [2]\u001b[0m, in \u001b[0;36m<cell line: 2>\u001b[1;34m()\u001b[0m\n\u001b[0;32m      1\u001b[0m couleurs \u001b[38;5;241m=\u001b[39m (\u001b[38;5;124m\"\u001b[39m\u001b[38;5;124mrouge\u001b[39m\u001b[38;5;124m\"\u001b[39m, \u001b[38;5;124m\"\u001b[39m\u001b[38;5;124mvert\u001b[39m\u001b[38;5;124m\"\u001b[39m, \u001b[38;5;124m\"\u001b[39m\u001b[38;5;124mbleu\u001b[39m\u001b[38;5;124m\"\u001b[39m)\n\u001b[1;32m----> 2\u001b[0m \u001b[38;5;28mprint\u001b[39m(\u001b[43mcouleurs\u001b[49m\u001b[43m[\u001b[49m\u001b[38;5;241;43m3\u001b[39;49m\u001b[43m]\u001b[49m)\n",
      "\u001b[1;31mIndexError\u001b[0m: tuple index out of range"
     ]
    }
   ],
   "source": [
    "couleurs = (\"rouge\", \"vert\", \"bleu\")\n",
    "print(couleurs[3])"
   ]
  },
  {
   "cell_type": "markdown",
   "metadata": {},
   "source": [
    "#### Non modifiable\n",
    "\n",
    "Contrairement à d'autres structures de données que nous allons avoir plus tard, on ne peut pas modifier une donnée à l'intérieur d'un tuple :"
   ]
  },
  {
   "cell_type": "code",
   "execution_count": 24,
   "metadata": {},
   "outputs": [
    {
     "name": "stdout",
     "output_type": "stream",
     "text": [
      "rouge\n",
      "(1, 2, 3)\n"
     ]
    }
   ],
   "source": [
    "couleurs = (\"rouge\", \"vert\", \"bleu\")\n",
    "print(couleurs[0])\n",
    "#couleurs[0] = \"yellow\" # interdit\n",
    "couleurs = (1,2,3)\n",
    "print(couleurs)"
   ]
  },
  {
   "cell_type": "markdown",
   "metadata": {},
   "source": [
    "On peut toutefois créer un nouveau tuple, et l'affecter à une variable existante."
   ]
  },
  {
   "cell_type": "code",
   "execution_count": 25,
   "metadata": {},
   "outputs": [
    {
     "name": "stdout",
     "output_type": "stream",
     "text": [
      "('rouge', 'vert', 'bleu')\n",
      "('Strasbourg', -4, 'Brouillard')\n"
     ]
    }
   ],
   "source": [
    "couleurs = (\"rouge\", \"vert\", \"bleu\")\n",
    "print(couleurs)\n",
    "\n",
    "couleurs = (\"Strasbourg\", -4, \"Brouillard\") # cette opération n'est *pas* une modification de tuple\n",
    "print(couleurs)"
   ]
  },
  {
   "cell_type": "markdown",
   "metadata": {},
   "source": [
    "#### Opérateur +\n",
    "\n",
    "On peut créer un nouveau tuple à partir d'autres tuples en utilisant l'opérateur +"
   ]
  },
  {
   "cell_type": "code",
   "execution_count": 26,
   "metadata": {},
   "outputs": [
    {
     "name": "stdout",
     "output_type": "stream",
     "text": [
      "('rouge', 'vert', 'bleu')\n",
      "('yellow', 'orange', 'cyan')\n",
      "('rouge', 'vert', 'bleu', 'yellow', 'orange', 'cyan')\n"
     ]
    }
   ],
   "source": [
    "couleurs = (\"rouge\", \"vert\", \"bleu\")\n",
    "autres = (\"yellow\", \"orange\", \"cyan\")\n",
    "\n",
    "ensemble = couleurs + autres\n",
    "print(couleurs)\n",
    "print(autres)\n",
    "print(ensemble)"
   ]
  },
  {
   "cell_type": "markdown",
   "metadata": {},
   "source": [
    "-----\n",
    "\n",
    "### 2.0 - Listes\n",
    "\n",
    "Les listes sont des structures de données **ordonnées** et **modifiables**\n",
    "\n",
    "Voici un exemple de liste :"
   ]
  },
  {
   "cell_type": "code",
   "execution_count": 27,
   "metadata": {},
   "outputs": [
    {
     "name": "stdout",
     "output_type": "stream",
     "text": [
      "['Renault', 'Tesla', 'BMW']\n"
     ]
    }
   ],
   "source": [
    "voitures = [ \"Renault\", \"Tesla\", \"BMW\" ]\n",
    "print(voitures)"
   ]
  },
  {
   "cell_type": "markdown",
   "metadata": {},
   "source": [
    "Les crochets permettent à l'interpréteur python de comprendre qu'il s'agit d'une liste. ils sont obligatoires.\n",
    "\n",
    "* Tout comme les tuples, les listes sont indexées à partir de 0 : "
   ]
  },
  {
   "cell_type": "code",
   "execution_count": 28,
   "metadata": {},
   "outputs": [
    {
     "name": "stdout",
     "output_type": "stream",
     "text": [
      "Renault\n",
      "BMW\n"
     ]
    }
   ],
   "source": [
    "voitures = [\"Renault\", \"Tesla\", \"BMW\"]\n",
    "print(voitures[0])\n",
    "print(voitures[-1])"
   ]
  },
  {
   "cell_type": "markdown",
   "metadata": {},
   "source": [
    "* Une liste peut être vide, ne contenir aucun élement :"
   ]
  },
  {
   "cell_type": "code",
   "execution_count": 29,
   "metadata": {},
   "outputs": [],
   "source": [
    "liste_vide = []"
   ]
  },
  {
   "cell_type": "markdown",
   "metadata": {},
   "source": [
    "#### Modifiable \n",
    "\n",
    "* à la différence d'un tuple, on peut modifier le contenu d'une liste :"
   ]
  },
  {
   "cell_type": "code",
   "execution_count": 30,
   "metadata": {},
   "outputs": [
    {
     "name": "stdout",
     "output_type": "stream",
     "text": [
      "['Renault', 'Tesla', 'BMW']\n",
      "['Peugeot', 'Tesla', 'BMW']\n"
     ]
    }
   ],
   "source": [
    "voitures = [\"Renault\", \"Tesla\", \"BMW\"]\n",
    "print(voitures)\n",
    "voitures[0] = \"Peugeot\"\n",
    "print(voitures)"
   ]
  },
  {
   "cell_type": "markdown",
   "metadata": {},
   "source": [
    "* Ajout d'un élement à la fin d'un liste :"
   ]
  },
  {
   "cell_type": "code",
   "execution_count": 31,
   "metadata": {},
   "outputs": [
    {
     "name": "stdout",
     "output_type": "stream",
     "text": [
      "['Renault', 'Tesla', 'BMW', 'Peugeot']\n"
     ]
    }
   ],
   "source": [
    "voitures = [\"Renault\", \"Tesla\", \"BMW\"]\n",
    "voitures.append(\"Peugeot\")\n",
    "print(voitures)"
   ]
  },
  {
   "cell_type": "markdown",
   "metadata": {},
   "source": [
    "* Insertion d'un élement à un index donné :"
   ]
  },
  {
   "cell_type": "code",
   "execution_count": 32,
   "metadata": {},
   "outputs": [
    {
     "name": "stdout",
     "output_type": "stream",
     "text": [
      "['Renault', 'Peugeot', 'Tesla', 'BMW']\n"
     ]
    }
   ],
   "source": [
    "voitures = [\"Renault\", \"Tesla\", \"BMW\"]\n",
    "voitures.insert(1, \"Peugeot\")\n",
    "print(voitures)"
   ]
  },
  {
   "cell_type": "markdown",
   "metadata": {},
   "source": [
    "* Suppression d'un element à un index donné :"
   ]
  },
  {
   "cell_type": "code",
   "execution_count": 33,
   "metadata": {},
   "outputs": [
    {
     "name": "stdout",
     "output_type": "stream",
     "text": [
      "['Renault', 'BMW']\n"
     ]
    }
   ],
   "source": [
    "voitures = [\"Renault\", \"Tesla\", \"BMW\"]\n",
    "del voitures[1]\n",
    "print(voitures)"
   ]
  },
  {
   "cell_type": "markdown",
   "metadata": {},
   "source": [
    "* Suppression d'un element par valeur"
   ]
  },
  {
   "cell_type": "code",
   "execution_count": 34,
   "metadata": {},
   "outputs": [
    {
     "name": "stdout",
     "output_type": "stream",
     "text": [
      "['Renault', 'Tesla', 'BMW']\n"
     ]
    }
   ],
   "source": [
    "voitures = [\"Renault\", \"Tesla\", \"BMW\", \"Decathlon\" ]\n",
    "voitures.remove(\"Decathlon\")\n",
    "\n",
    "print(voitures)"
   ]
  },
  {
   "cell_type": "markdown",
   "metadata": {},
   "source": [
    "`.remove()` ne supprime que la première valeur trouvée. Si la valeur à supprimer est présente plusieurs fois, il faut appeler `.remove()` plusieurs fois :"
   ]
  },
  {
   "cell_type": "code",
   "execution_count": 35,
   "metadata": {},
   "outputs": [
    {
     "name": "stdout",
     "output_type": "stream",
     "text": [
      "['Renault', 'Tesla', 'BMW']\n"
     ]
    }
   ],
   "source": [
    "voitures = [\"Renault\", \"Tesla\", \"BMW\", \"Decathlon\", \n",
    "            \"Decathlon\", \"Decathlon\", \"Decathlon\", \"Decathlon\"]\n",
    "\n",
    "while \"Decathlon\" in voitures:\n",
    "    voitures.remove(\"Decathlon\")\n",
    "\n",
    "print(voitures)"
   ]
  },
  {
   "cell_type": "markdown",
   "metadata": {},
   "source": [
    "#### Operateurs\n",
    "\n",
    "* L'opérateur **+** permet de concatener deux listes :"
   ]
  },
  {
   "cell_type": "code",
   "execution_count": 36,
   "metadata": {},
   "outputs": [
    {
     "name": "stdout",
     "output_type": "stream",
     "text": [
      "['Renault Zoé', 'Tesla', 'BMW', 'Peugeot']\n"
     ]
    }
   ],
   "source": [
    "voitures_electriques = [\"Renault Zoé\", \"Tesla\"]\n",
    "voitures_electriques = voitures_electriques + [\"BMW\", \"Peugeot\"]\n",
    "print(voitures_electriques)"
   ]
  },
  {
   "cell_type": "markdown",
   "metadata": {},
   "source": [
    "Dans l'exemple ci-dessus, on crée une nouvelle liste que l'on réaffecte à une variable existante.\n",
    "\n",
    "Pour modifier directement la liste, sans faire de réaffectation de variabvle, on peut utiliser la fonction extend :"
   ]
  },
  {
   "cell_type": "code",
   "execution_count": 37,
   "metadata": {},
   "outputs": [
    {
     "name": "stdout",
     "output_type": "stream",
     "text": [
      "['Renault Zoé', 'Tesla', 'BMW', 'Peugeot']\n"
     ]
    }
   ],
   "source": [
    "voitures = [\"Renault Zoé\", \"Tesla\"]\n",
    "voitures.extend( [\"BMW\", \"Peugeot\"] ) \n",
    "print(voitures)"
   ]
  },
  {
   "cell_type": "markdown",
   "metadata": {},
   "source": [
    "* L'opérateur __*__ permet de dupliquer une liste\n"
   ]
  },
  {
   "cell_type": "code",
   "execution_count": 38,
   "metadata": {},
   "outputs": [
    {
     "name": "stdout",
     "output_type": "stream",
     "text": [
      "['blah', 'plop', 'blah', 'plop', 'blah', 'plop']\n"
     ]
    }
   ],
   "source": [
    "parole = [\"blah\", \"plop\"] * 3\n",
    "print(parole)"
   ]
  },
  {
   "cell_type": "markdown",
   "metadata": {},
   "source": [
    "* L'opérateur __in__ permet de vérifier la présence d'une valeur dans une liste :"
   ]
  },
  {
   "cell_type": "code",
   "execution_count": 39,
   "metadata": {},
   "outputs": [
    {
     "name": "stdout",
     "output_type": "stream",
     "text": [
      "Oui\n"
     ]
    }
   ],
   "source": [
    "voitures = [\"Renault Zoé\", \"Tesla\"]\n",
    "\n",
    "if \"Tesla\" in voitures:\n",
    "    print(\"Oui\")\n",
    "else:\n",
    "    print(\"Non\")"
   ]
  },
  {
   "cell_type": "markdown",
   "metadata": {},
   "source": [
    "-----\n",
    "### Tuples et Listes : Indexation par slicing\n",
    "\n",
    "Le slicing est le fait d'extraire d'une liste ou d'un tuple un ensemble d'elements situés à certains indexes.  \n",
    "En voici un exemple :"
   ]
  },
  {
   "cell_type": "code",
   "execution_count": 40,
   "metadata": {},
   "outputs": [
    {
     "name": "stdout",
     "output_type": "stream",
     "text": [
      "Terre\n"
     ]
    }
   ],
   "source": [
    "planetes = [\"Mercure\", \"Venus\", \"Terre\", \"Mars\", \"Jupiter\", \"Saturne\", \"Uranus\", \"Neptune\"]\n",
    "\n",
    "terre = planetes[2]\n",
    "print(terre)"
   ]
  },
  {
   "cell_type": "code",
   "execution_count": 41,
   "metadata": {},
   "outputs": [
    {
     "name": "stdout",
     "output_type": "stream",
     "text": [
      "['Mercure', 'Venus', 'Terre', 'Mars']\n"
     ]
    }
   ],
   "source": [
    "# de l'indice N à l'indice M\n",
    "telluriques = planetes[0:4]\n",
    "print(telluriques)"
   ]
  },
  {
   "cell_type": "code",
   "execution_count": 42,
   "metadata": {},
   "outputs": [
    {
     "name": "stdout",
     "output_type": "stream",
     "text": [
      "['Mercure', 'Venus', 'Terre', 'Mars']\n"
     ]
    }
   ],
   "source": [
    "# du début jusqu'à l'indice M\n",
    "telluriques = planetes[:4]\n",
    "print(telluriques)"
   ]
  },
  {
   "cell_type": "code",
   "execution_count": 43,
   "metadata": {},
   "outputs": [
    {
     "name": "stdout",
     "output_type": "stream",
     "text": [
      "['Jupiter', 'Saturne', 'Uranus', 'Neptune']\n"
     ]
    }
   ],
   "source": [
    "# depuis l'indice M jusqu'à la fin \n",
    "gazeuses = planetes[4:]\n",
    "print(gazeuses)"
   ]
  },
  {
   "cell_type": "code",
   "execution_count": 44,
   "metadata": {},
   "outputs": [
    {
     "name": "stdout",
     "output_type": "stream",
     "text": [
      "['Mercure', 'Venus', 'Terre', 'Mars', 'Jupiter', 'Saturne', 'Uranus', 'Neptune']\n"
     ]
    }
   ],
   "source": [
    "print(planetes[:])"
   ]
  },
  {
   "cell_type": "markdown",
   "metadata": {},
   "source": [
    "Le slicing est de la forme :\n",
    "`liste [ Index de depart inclus : Index de fin exclus : pas ]`"
   ]
  },
  {
   "cell_type": "code",
   "execution_count": 45,
   "metadata": {},
   "outputs": [
    {
     "name": "stdout",
     "output_type": "stream",
     "text": [
      "['Mercure', 'Terre', 'Jupiter', 'Uranus']\n"
     ]
    }
   ],
   "source": [
    "telluriques = planetes[0:4:2]\n",
    "print(planetes[::2])"
   ]
  },
  {
   "cell_type": "markdown",
   "metadata": {},
   "source": [
    "On peut ne mettre aucune valeur pour l'index de départ ou l'index de fin.\n",
    "\n",
    "* Si on n'indique pas d'index de départ, le slicing considère l'index 0 par défaut :"
   ]
  },
  {
   "cell_type": "code",
   "execution_count": 46,
   "metadata": {},
   "outputs": [
    {
     "name": "stdout",
     "output_type": "stream",
     "text": [
      "['Mercure', 'Venus', 'Terre', 'Mars']\n"
     ]
    }
   ],
   "source": [
    "planetes = [\"Mercure\", \"Venus\", \"Terre\", \"Mars\", \"Jupiter\", \"Saturne\", \"Uranus\", \"Neptune\"]\n",
    "\n",
    "telluriques = planetes[:4]\n",
    "print(telluriques)"
   ]
  },
  {
   "cell_type": "markdown",
   "metadata": {},
   "source": [
    "* Si on n'indique pas d'index de fin, le slicing considère le dernier index par défaut :"
   ]
  },
  {
   "cell_type": "code",
   "execution_count": 47,
   "metadata": {},
   "outputs": [
    {
     "name": "stdout",
     "output_type": "stream",
     "text": [
      "['Jupiter', 'Saturne', 'Uranus', 'Neptune']\n"
     ]
    }
   ],
   "source": [
    "planetes = [\"Mercure\", \"Venus\", \"Terre\", \"Mars\", \"Jupiter\", \"Saturne\", \"Uranus\", \"Neptune\"]\n",
    "\n",
    "gazeuses = planetes[4:]\n",
    "print(gazeuses)"
   ]
  },
  {
   "cell_type": "markdown",
   "metadata": {},
   "source": [
    "* On peut également utiliser des indexes negatifs :"
   ]
  },
  {
   "cell_type": "code",
   "execution_count": 48,
   "metadata": {},
   "outputs": [
    {
     "name": "stdout",
     "output_type": "stream",
     "text": [
      "['Jupiter', 'Saturne']\n"
     ]
    }
   ],
   "source": [
    "planetes = [\"Mercure\", \"Venus\", \"Terre\", \"Mars\", \"Jupiter\", \"Saturne\", \"Uranus\", \"Neptune\"]\n",
    "\n",
    "gazeuses = planetes[4:-2]\n",
    "print(gazeuses)\n"
   ]
  },
  {
   "cell_type": "markdown",
   "metadata": {},
   "source": [
    "* à savoir, on peut indiquer un index de fin qui dépasse la taille de la liste, sans que ca ne génère d'erreur :"
   ]
  },
  {
   "cell_type": "code",
   "execution_count": 49,
   "metadata": {},
   "outputs": [
    {
     "name": "stdout",
     "output_type": "stream",
     "text": [
      "['Neptune']\n"
     ]
    }
   ],
   "source": [
    "planetes = [\"Mercure\", \"Venus\", \"Terre\", \"Mars\", \"Jupiter\", \"Saturne\", \"Uranus\", \"Neptune\"]\n",
    "\n",
    "cosmos = planetes[-1:200]\n",
    "print(cosmos)\n"
   ]
  },
  {
   "cell_type": "markdown",
   "metadata": {},
   "source": [
    "**Tout ces exemples fonctionnent également avec des tuples :**"
   ]
  },
  {
   "cell_type": "code",
   "execution_count": 50,
   "metadata": {},
   "outputs": [
    {
     "name": "stdout",
     "output_type": "stream",
     "text": [
      "('Mercure', 'Venus', 'Terre', 'Mars')\n",
      "('Jupiter', 'Saturne', 'Uranus', 'Neptune')\n"
     ]
    }
   ],
   "source": [
    "planetes = (\"Mercure\", \"Venus\", \"Terre\", \"Mars\", \"Jupiter\", \"Saturne\", \"Uranus\", \"Neptune\")\n",
    "\n",
    "telluriques = planetes[:4]\n",
    "print(telluriques)\n",
    "\n",
    "gazeuses = planetes[4:]\n",
    "print(gazeuses)"
   ]
  },
  {
   "cell_type": "markdown",
   "metadata": {},
   "source": [
    "-----\n",
    "#### Autres informations à propos des tuples et listes :\n",
    "\n",
    "\n",
    "* Pour connaitre la longueur d'une liste, on utilise la fonction `len()` :"
   ]
  },
  {
   "cell_type": "code",
   "execution_count": 51,
   "metadata": {},
   "outputs": [
    {
     "name": "stdout",
     "output_type": "stream",
     "text": [
      "8\n"
     ]
    }
   ],
   "source": [
    "planetes = [ \"Mercure\", \"Venus\", \"Terre\", \"Mars\", \"Jupiter\", \"Saturne\", \"Uranus\", \"Neptune\" ]\n",
    "longueur = len(planetes)\n",
    "print(longueur)"
   ]
  },
  {
   "cell_type": "markdown",
   "metadata": {},
   "source": [
    "* `len()` fonctionne aussi avec les tuples, et même les strings :"
   ]
  },
  {
   "cell_type": "code",
   "execution_count": 52,
   "metadata": {},
   "outputs": [
    {
     "name": "stdout",
     "output_type": "stream",
     "text": [
      "8\n"
     ]
    }
   ],
   "source": [
    "planetes_tuple =  (\"Mercure\", \"Venus\", \"Terre\", \"Mars\", \"Jupiter\", \"Saturne\", \"Uranus\", \"Neptune\" )\n",
    "print( len(planetes_tuple) )"
   ]
  },
  {
   "cell_type": "code",
   "execution_count": 53,
   "metadata": {},
   "outputs": [
    {
     "name": "stdout",
     "output_type": "stream",
     "text": [
      "55\n"
     ]
    }
   ],
   "source": [
    "planetes_str = \"Mercure Venus Terre Mars Jupiter Saturne Uranus Neptune\"\n",
    "print( len( planetes_str) )"
   ]
  },
  {
   "cell_type": "markdown",
   "metadata": {},
   "source": [
    "* L'index du dernier element d'une liste est accessible par l'index -1. Mais on peut aussi y accéder par \"longueur -1\" :"
   ]
  },
  {
   "cell_type": "code",
   "execution_count": 54,
   "metadata": {},
   "outputs": [
    {
     "name": "stdout",
     "output_type": "stream",
     "text": [
      "8\n",
      "7\n",
      "Neptune\n",
      "Neptune\n"
     ]
    }
   ],
   "source": [
    "planetes = [ \"Mercure\", \"Venus\", \"Terre\", \"Mars\", \"Jupiter\", \"Saturne\", \"Uranus\", \"Neptune\" ]\n",
    "print( len(planetes) )\n",
    "\n",
    "index_last = len(planetes)-1\n",
    "print( index_last )\n",
    "\n",
    "print( planetes[index_last] )\n",
    "print( planetes[-1] )\n"
   ]
  },
  {
   "cell_type": "markdown",
   "metadata": {},
   "source": [
    "* Jusqu'à présent, nous avons utilisé des listes et des tuples ne contenant que des types de variables identiques (des strings). Toutefois, une liste ou un tuple peut contenir des types différents de valeurs :"
   ]
  },
  {
   "cell_type": "code",
   "execution_count": 55,
   "metadata": {},
   "outputs": [
    {
     "name": "stdout",
     "output_type": "stream",
     "text": [
      "('Mercure', 4879) ('Venus', 12104) ('Terre', 12742)\n"
     ]
    }
   ],
   "source": [
    "mercure = (\"Mercure\", 4879) # (\"Nom de la planète\", diamètre de la planètre)\n",
    "venus = (\"Venus\", 12104)\n",
    "terre = (\"Terre\", 12742)\n",
    "print(mercure, venus, terre)"
   ]
  },
  {
   "cell_type": "markdown",
   "metadata": {},
   "source": [
    "-----\n",
    "#### Tuples, listes, et boucles for\n",
    "\n",
    "Le grand intéret des tuples et listes est la possiblité de parcourir tous les elements pour travailler dessus. Pour cela, on utilise la boucle for, avec une syntaxe très simple :"
   ]
  },
  {
   "cell_type": "code",
   "execution_count": 56,
   "metadata": {},
   "outputs": [
    {
     "name": "stdout",
     "output_type": "stream",
     "text": [
      "Mercure\n",
      "Venus\n",
      "Terre\n",
      "Mars\n",
      "Jupiter\n",
      "Saturne\n",
      "Uranus\n",
      "Neptune\n"
     ]
    }
   ],
   "source": [
    "planetes = [ \"Mercure\", \"Venus\", \"Terre\", \"Mars\", \"Jupiter\", \"Saturne\", \"Uranus\", \"Neptune\" ]\n",
    "\n",
    "for pl in planetes:\n",
    "    print(pl)"
   ]
  },
  {
   "cell_type": "markdown",
   "metadata": {},
   "source": [
    "* Ainsi, avec une liste contenant des valeurs numériques, on peut par exemple calculer la moyenne de ces valeurs."
   ]
  },
  {
   "cell_type": "code",
   "execution_count": 57,
   "metadata": {},
   "outputs": [
    {
     "name": "stdout",
     "output_type": "stream",
     "text": [
      "9126.0\n"
     ]
    }
   ],
   "source": [
    "diametres = [4879,  12104, 12742, 6779 ] # diamètres des planètes telluriques\n",
    "\n",
    "somme = 0\n",
    "for d in diametres:\n",
    "    somme = somme + d\n",
    "\n",
    "moyenne = somme / len(diametres)\n",
    "\n",
    "print(moyenne)\n"
   ]
  },
  {
   "cell_type": "markdown",
   "metadata": {},
   "source": [
    "\n",
    "* avec la notation `for valeur in liste:`, on peut utiliser directement la valeur. Mais on peut aussi avoir besoin d'accéder à l'index de cette valeur dans la liste.\n",
    "Dans ce cas, il faut utiliser une boucle `for idx in range(...)`:"
   ]
  },
  {
   "cell_type": "code",
   "execution_count": 58,
   "metadata": {},
   "outputs": [
    {
     "name": "stdout",
     "output_type": "stream",
     "text": [
      "0 Mercure\n",
      "1 Venus\n",
      "2 Terre\n",
      "3 Mars\n",
      "4 Jupiter\n",
      "5 Saturne\n",
      "6 Uranus\n",
      "7 Neptune\n"
     ]
    }
   ],
   "source": [
    "planetes = [ \"Mercure\", \"Venus\", \"Terre\", \"Mars\",  \"Jupiter\", \"Saturne\", \"Uranus\", \"Neptune\" ]\n",
    "\n",
    "for idx in range(len(planetes)):\n",
    "    print(idx, planetes[idx])"
   ]
  },
  {
   "cell_type": "markdown",
   "metadata": {},
   "source": [
    "----\n",
    "### Listes de Listes, Listes de Tuples\n",
    "\n",
    "Une liste peut tout aussi bien contenir des listes et des tuples :\n",
    "\n",
    "Exemple avec une liste de tuples :"
   ]
  },
  {
   "cell_type": "code",
   "execution_count": 61,
   "metadata": {},
   "outputs": [
    {
     "name": "stdout",
     "output_type": "stream",
     "text": [
      "[('Mercure', 4879), ('Venus', 12104), ('Terre', 12742), ('Mars', 6779), ('Jupiter', 140162), ('Saturne', 116464), ('Uranus', 50724), ('Neptune', 49244)]\n",
      "('Mercure', 4879)\n",
      "('Venus', 12104)\n",
      "('Terre', 12742)\n",
      "('Mars', 6779)\n",
      "('Jupiter', 140162)\n",
      "('Saturne', 116464)\n",
      "('Uranus', 50724)\n",
      "('Neptune', 49244)\n"
     ]
    }
   ],
   "source": [
    "mercure = (\"Mercure\", 4879 )\n",
    "venus   = (\"Venus\",   12104 )\n",
    "terre   = (\"Terre\",   12742 )\n",
    "mars    = (\"Mars\",    6779 )\n",
    "jupiter = (\"Jupiter\", terre[1]*11 )\n",
    "saturne = (\"Saturne\", 116464 )\n",
    "uranus  = (\"Uranus\",  50724 )\n",
    "neptune = (\"Neptune\", 49244 )\n",
    "\n",
    "planetes = [mercure, venus, terre, mars, jupiter, saturne, uranus, neptune]\n",
    "\n",
    "print(planetes)\n",
    "\n",
    "for pl in planetes:\n",
    "    print( pl )\n",
    "\n"
   ]
  },
  {
   "cell_type": "markdown",
   "metadata": {},
   "source": [
    "* Dans cet exemple, la boucle `for` nous permet d'obtenir le tuple de chaque planète, que nous affichons. Pour n'afficher que le nom de la planète, ou son diamètre, on peut utiliser l'indexation :"
   ]
  },
  {
   "cell_type": "code",
   "execution_count": 62,
   "metadata": {},
   "outputs": [
    {
     "name": "stdout",
     "output_type": "stream",
     "text": [
      "la planète Mercure a un diamètre de 4879km.\n",
      "la planète Venus a un diamètre de 12104km.\n",
      "la planète Terre a un diamètre de 12742km.\n",
      "la planète Mars a un diamètre de 6779km.\n",
      "la planète Jupiter a un diamètre de 140162km.\n",
      "la planète Saturne a un diamètre de 116464km.\n",
      "la planète Uranus a un diamètre de 50724km.\n",
      "la planète Neptune a un diamètre de 49244km.\n"
     ]
    }
   ],
   "source": [
    "mercure = (\"Mercure\", 4879 )\n",
    "venus = (\"Venus\", 12104 )\n",
    "terre = (\"Terre\", 12742 )\n",
    "mars = (\"Mars\", 6779 )\n",
    "jupiter = (\"Jupiter\", terre[1]*11 )\n",
    "saturne = (\"Saturne\", 116464 )\n",
    "uranus = (\"Uranus\", 50724 )\n",
    "neptune = (\"Neptune\", 49244 )\n",
    "\n",
    "planetes = [mercure, venus, terre, mars, \n",
    "            jupiter, saturne, uranus, neptune]\n",
    "\n",
    "for pl in planetes:\n",
    "    nom = pl[0]\n",
    "    diametre = pl[1]\n",
    "    \n",
    "    message = \"la planète \" + nom + \" a un diamètre de \" + str(diametre) + \"km.\" \n",
    "    print(message)\n"
   ]
  },
  {
   "cell_type": "markdown",
   "metadata": {},
   "source": [
    "* Voici le même jeu de données, mais sous la forme de liste de liste. L'indexation peut être \"chaînée\" pour accéder directement à certaines valeurs :\n"
   ]
  },
  {
   "cell_type": "code",
   "execution_count": 63,
   "metadata": {},
   "outputs": [
    {
     "name": "stdout",
     "output_type": "stream",
     "text": [
      "Mercure\n",
      "Neptune\n",
      "4879\n",
      "49244\n"
     ]
    }
   ],
   "source": [
    "planetes = [\n",
    "    [ \"Mercure\", 4879  ],\n",
    "    [ \"Venus\", 12104  ],\n",
    "    [ \"Terre\", 12742  ],\n",
    "    [ \"Mars\", 6779  ],\n",
    "    [ \"Jupiter\", 139822  ],\n",
    "    [ \"Saturne\", 116464  ],\n",
    "    [ \"Uranus\", 50724  ],\n",
    "    [ \"Neptune\", 49244  ],\n",
    "]\n",
    "\n",
    "\n",
    "# affiche le nom (index 0 de la sous-liste)\n",
    "print(planetes[0][0]) # nom (element 0) de la première planète (index 0)\n",
    "print(planetes[-1][0]) # nom (element 0) du dernier element de planètes (index -1)\n",
    "\n",
    "# affiche les diamètres (index 1 de la sous-liste)\n",
    "print(planetes[0][1]) # diamètre (element 1) de la première planète (index 0)\n",
    "print(planetes[-1][1]) # diamètre (element 1) du dernier element de planètes (index -1)\n",
    "\n"
   ]
  },
  {
   "cell_type": "code",
   "execution_count": null,
   "metadata": {},
   "outputs": [],
   "source": []
  }
 ],
 "metadata": {
  "kernelspec": {
   "display_name": "Python 3 (ipykernel)",
   "language": "python",
   "name": "python3"
  },
  "language_info": {
   "codemirror_mode": {
    "name": "ipython",
    "version": 3
   },
   "file_extension": ".py",
   "mimetype": "text/x-python",
   "name": "python",
   "nbconvert_exporter": "python",
   "pygments_lexer": "ipython3",
   "version": "3.9.12"
  }
 },
 "nbformat": 4,
 "nbformat_minor": 4
}
