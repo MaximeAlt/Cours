{
 "cells": [
  {
   "cell_type": "markdown",
   "metadata": {},
   "source": [
    "\n",
    "<section style=\"position:relative; width:100%;\">\n",
    "\n",
    "<div style=\"display:inline-block;\">\n",
    "<img src=\"images/ioapps_small.png\" style=\"width:200px;\" /> \n",
    "<p> Formateur :<br /> Pierre-Olivier Simonard <br />\n",
    "<a href=\"mailto:pierre.olivier.simonard@gmail.com\">pierre.olivier.simonard@gmail.com</a></p>\n",
    "</div>\n",
    "\n",
    "<div style=\"display:inline-block; float:right\">\n",
    "    <h3>ICAM </h3>\n",
    "    <p>Formation Data Science</p>\n",
    "    <p>Novembre 2022</p>\n",
    "    <img src=\"https://mirrors.creativecommons.org/presskit/buttons/88x31/png/by-nc-sa.eu.png\"  width=\"100px\" />\n",
    "</div>\n",
    "\n",
    "</section>\n",
    "\n",
    "\n",
    "<h1 style=\"text-align: center; width:100%\">Programmation Python</h1>\n",
    "<h2 style=\"text-align: center; width:100%\">Partie 7.0 : Exercice guidé, pour aller plus loin </h2>\n",
    "\n",
    "<!--  \n",
    "Novembre 2022\n",
    "Pierre-Oliver Simonard - pierre.olivier.simonard@gmail.com\n",
    "-->\n",
    "\n",
    "<style>\n",
    "div.warn {    \n",
    "    background-color: #fcf2f2;\n",
    "    border-color: #dFb5b4;\n",
    "    border-left: 5px solid #dfb5b4;\n",
    "    padding: 0.5em;\n",
    "    }\n",
    "</style>"
   ]
  },
  {
   "cell_type": "markdown",
   "metadata": {},
   "source": [
    "\n",
    "## Objectif : \n",
    "\n",
    "Ce support de cours a pour objectif de faire la jonction avec les supports de cours de formation à distance, ainsi que les autres matières de la formation.\n",
    "\n",
    "\n",
    "## Contenu : \n",
    "\n",
    "Avec le support de cours de Python, vous trouverez un fichier 3 fichiers contenant **les données d'offres de logements sur le site AirBnB pour la ville de Lyon.**\n",
    "\n",
    "Ces 3 fichiers contiennent les mêmes données, mais dans 3 format différents : \n",
    "\n",
    "* airbnb.json :  \n",
    "Json est un format de fichier pris en charge par différents langages de programmation.  \n",
    "Avec ce format, vous serez amenés à manipuler des structures de données simples que nous avons déjà vu : listes, dictionnaires, ...\n",
    "\n",
    "* airbnb.sqlite :  \n",
    "SQLite est un format de base de donnée SQL qui a l'avantage de stocker toutes les données dans un seul fichier. \n",
    "Avec ce format, vous serez amenés à rédiger des requêtes SQL pour traiter vos données.\n",
    "\n",
    "* airbnb.csv : \n",
    "CSV est un format de données \"plat\", où une ligne représente un enregistrement, et chaque colonne correspond à une propriété de cet enregistrement.\n",
    "Le traitement et l'utilisation de ce type de fichier est facilié en python par le module Pandas, que vous découvrirez dans la phase de formation à distance.\n",
    "\n",
    "\n",
    "\n",
    "## Partie 1 : Découverte des données et utilisation du format Json \n",
    "\n",
    "\n",
    "Dans le répertoire où se trouve votre fichier `airbnb.json`, creez un programme avec le code suivant :"
   ]
  },
  {
   "cell_type": "code",
   "execution_count": 2,
   "metadata": {},
   "outputs": [
    {
     "name": "stdout",
     "output_type": "stream",
     "text": [
      "8007\n",
      "{'room_id': 8837444, 'host_id': 22963748, 'neighborhood': 'Mutualité - Préfecture - Moncey', 'nbr_reviews': 0, 'overall_satisfaction': 0.0, 'nbr_guests_max': 8, 'bedrooms': 4.0, 'price': 316.0, 'latitude': 45.761936, 'longitude': 4.843863}\n"
     ]
    }
   ],
   "source": [
    "import json\n",
    "\n",
    "def load_data():\n",
    "    with open(\"airbnb.json\", \"r\") as f:\n",
    "        data = json.loads(f.read())\n",
    "    return data\n",
    "\n",
    "\n",
    "airbnb_data = load_data()\n",
    "\n",
    "print(len(airbnb_data))\n",
    "print(airbnb_data[0])"
   ]
  },
  {
   "cell_type": "markdown",
   "metadata": {},
   "source": [
    "* Ce programme charge les données du fichier en mémoire, affiche le nombre d'enregistrements présents, et affiche le premier enregistrement.\n",
    "\n",
    "* airbnb_data est une liste de dictionnaires.\n",
    "\n",
    "* Les informations stockées sont :\n",
    "    * __room_id__ : un numéro qui identifie un logement de manière unique\n",
    "    * __host_id__ : un numéro qui identifie un hébergeur de manière unique\n",
    "    * __neighborhood__ : Nom du quartier où se trouve le logement\n",
    "    * __nbr_reviews__ : Nombre d'évaluations pour ce logement\n",
    "    * __overall_satisfaction__ : Evaluation moyenne pour ce logement\n",
    "    * __nbr_guests_max__ : nombre maximum de personnes pouvant être hebergées\n",
    "    * __bedrooms__ : nombre de chambres à disposition \n",
    "    * __price__ : Prix d'une nuit de location\n",
    "    * __latitude / longitude__ : coordonnées GPS du logement.\n"
   ]
  },
  {
   "cell_type": "markdown",
   "metadata": {},
   "source": [
    "* Regardons les 5 premières données :"
   ]
  },
  {
   "cell_type": "code",
   "execution_count": 3,
   "metadata": {},
   "outputs": [
    {
     "name": "stdout",
     "output_type": "stream",
     "text": [
      "{'room_id': 8837444, 'host_id': 22963748, 'neighborhood': 'Mutualité - Préfecture - Moncey', 'nbr_reviews': 0, 'overall_satisfaction': 0.0, 'nbr_guests_max': 8, 'bedrooms': 4.0, 'price': 316.0, 'latitude': 45.761936, 'longitude': 4.843863}\n",
      "\n",
      "\n",
      "{'room_id': 2766451, 'host_id': 1817994, 'neighborhood': 'Villette - Paul Bert', 'nbr_reviews': 6, 'overall_satisfaction': 4.5, 'nbr_guests_max': 11, 'bedrooms': 4.0, 'price': 415.0, 'latitude': 45.756894, 'longitude': 4.8700980000000005}\n",
      "\n",
      "\n",
      "{'room_id': 16181873, 'host_id': 64141811, 'neighborhood': 'Voltaire - Part Dieu', 'nbr_reviews': 0, 'overall_satisfaction': 0.0, 'nbr_guests_max': 4, 'bedrooms': 1.0, 'price': 190.0, 'latitude': 45.757434, 'longitude': 4.852721}\n",
      "\n",
      "\n",
      "{'room_id': 19960001, 'host_id': 141278260, 'neighborhood': 'Villette - Paul Bert', 'nbr_reviews': 0, 'overall_satisfaction': 0.0, 'nbr_guests_max': 5, 'bedrooms': 2.0, 'price': 125.0, 'latitude': 45.755403, 'longitude': 4.8651620000000015}\n",
      "\n",
      "\n",
      "{'room_id': 9930751, 'host_id': 51047935, 'neighborhood': 'Grand Trou - Moulin à Vent - Petite Guille', 'nbr_reviews': 5, 'overall_satisfaction': 4.0, 'nbr_guests_max': 4, 'bedrooms': 1.0, 'price': 49.0, 'latitude': 45.73196, 'longitude': 4.8574}\n",
      "\n",
      "\n"
     ]
    }
   ],
   "source": [
    "# ... suite du code précédent\n",
    "# ...\n",
    "# airbnb_data = load_data()\n",
    "\n",
    "for housing in airbnb_data[0:5]:\n",
    "    print(housing)\n",
    "    print(\"\\n\")"
   ]
  },
  {
   "cell_type": "markdown",
   "metadata": {},
   "source": [
    "### Exercice 1 \n",
    "\n",
    "Nous savons combien de logements il y a à louer :"
   ]
  },
  {
   "cell_type": "code",
   "execution_count": 37,
   "metadata": {},
   "outputs": [
    {
     "name": "stdout",
     "output_type": "stream",
     "text": [
      "8007\n"
     ]
    }
   ],
   "source": [
    "print(len(airbnb_data))"
   ]
  },
  {
   "cell_type": "markdown",
   "metadata": {},
   "source": [
    "Nous cherchons à répondre aux questions suivantes :\n",
    "* Quel est le prix du logement le plus cher ? \n",
    "* Quel est le prix moyen d'un logement ? \n",
    "\n",
    "\n",
    "Pour cela, la démarche est la suivante :\n",
    "* Tout d'abord, construisez une liste contenant les prix de tous les appartements.\n",
    "* Ensuite, nous allons utiliser des nouvelles fonctions : `max()` et `sum()`\n",
    "    * `max()` prend en paramètre une liste de valeurs numériques, et retourne le **maximum** (`min()` existe également)\n",
    "    * `sum()` prend en paramètre une liste de valeurs numériques, et retourne leur **somme**\n",
    "* Pour calculer la moyenne, nous utiliserons la somme divisée par le nombre d'élements.\n",
    "\n",
    "* Proposez un programme qui détermine le prix du logement le plus cher"
   ]
  },
  {
   "cell_type": "code",
   "execution_count": 39,
   "metadata": {},
   "outputs": [
    {
     "name": "stdout",
     "output_type": "stream",
     "text": [
      "{'room_id': 3322978, 'host_id': 9997315, 'neighborhood': 'Quartiers anciens', 'nbr_reviews': 0, 'overall_satisfaction': 0.0, 'nbr_guests_max': 6, 'bedrooms': 3.0, 'price': 1424.0, 'latitude': 45.764941, 'longitude': 4.825151}\n"
     ]
    }
   ],
   "source": [
    "def prixmax():\n",
    "    for h in airbnb_data: \n",
    "        result = max(list(airbnb_data), key = lambda v:v[\"price\"])\n",
    "        return result\n",
    "print(prixmax())"
   ]
  },
  {
   "cell_type": "markdown",
   "metadata": {},
   "source": [
    "* à partir de votre liste de prix, et de la fonction sum(), déduisez en le prix moyen des appartements."
   ]
  },
  {
   "cell_type": "code",
   "execution_count": 36,
   "metadata": {},
   "outputs": [
    {
     "name": "stdout",
     "output_type": "stream",
     "text": [
      "101.10378418883477\n"
     ]
    }
   ],
   "source": [
    "def prixmoy():\n",
    "    result = 0\n",
    "    for h in airbnb_data : \n",
    "        result += h[\"price\"]\n",
    "    return result / len(airbnb_data)\n",
    "print(prixmoy())"
   ]
  },
  {
   "cell_type": "markdown",
   "metadata": {},
   "source": [
    "### Exercice 2 :\n",
    "\n",
    "On connait désormais le prix du logement le plus cher et le prix moyen sur l'ensemble de la ville.\n",
    "\n",
    "Ecrivez un programme pour obtenir *le logement* le plus cher, c'est à dire tout le dictionnaire représentant ce logement. \n"
   ]
  },
  {
   "cell_type": "code",
   "execution_count": 49,
   "metadata": {},
   "outputs": [
    {
     "name": "stdout",
     "output_type": "stream",
     "text": [
      "{'room_id': 3322978, 'host_id': 9997315, 'neighborhood': 'Quartiers anciens', 'nbr_reviews': 0, 'overall_satisfaction': 0.0, 'nbr_guests_max': 6, 'bedrooms': 3.0, 'price': 1424.0, 'latitude': 45.764941, 'longitude': 4.825151}\n"
     ]
    }
   ],
   "source": [
    "def prixmax():\n",
    "    for h in airbnb_data: \n",
    "        result = max(list(airbnb_data), key = lambda v:v[\"price\"])\n",
    "        return result\n",
    "print(prixmax())"
   ]
  },
  {
   "cell_type": "markdown",
   "metadata": {},
   "source": [
    "### Exercice 3 :\n",
    "\n",
    "Nous cherchons à répondre aux questions suivantes :\n",
    "* Quel est le logement avec la plus grande capacité d'accueil ? (en utilisant nbr_guests_max)\n",
    "* Quel est la capacité d'accueil moyenne des logements ?\n",
    "* Quel logement a le plus grand nombre de reviews ? \n",
    "* Quel logement a la meilleure évaluation ?\n",
    "\n",
    "\n",
    "Inspirez vous des exercices 1 et 2 pour proposer 4 fonctions qui permettent de répondre à ces questions."
   ]
  },
  {
   "cell_type": "code",
   "execution_count": 48,
   "metadata": {},
   "outputs": [
    {
     "name": "stdout",
     "output_type": "stream",
     "text": [
      "16\n"
     ]
    }
   ],
   "source": [
    "# Logement avec la plus grand capacité d'accueil\n",
    "def maxguest():\n",
    "    for h in airbnb_data: \n",
    "        result = max(list(airbnb_data), key = lambda h:h[\"nbr_guests_max\"])\n",
    "        return result[\"nbr_guests_max\"]\n",
    "print(maxguest())"
   ]
  },
  {
   "cell_type": "code",
   "execution_count": 57,
   "metadata": {},
   "outputs": [
    {
     "name": "stdout",
     "output_type": "stream",
     "text": [
      "3.6183339577869362\n"
     ]
    }
   ],
   "source": [
    "# capacité d'accueil moyenne\n",
    "def moyguest():\n",
    "    result = 0\n",
    "    for h in airbnb_data: \n",
    "        result += h[\"nbr_guests_max\"]\n",
    "    return result / len(airbnb_data)\n",
    "print(moyguest())"
   ]
  },
  {
   "cell_type": "code",
   "execution_count": 60,
   "metadata": {},
   "outputs": [
    {
     "name": "stdout",
     "output_type": "stream",
     "text": [
      "397\n"
     ]
    }
   ],
   "source": [
    "# plus grand nombre de reviews\n",
    "\n",
    "def maxreview():\n",
    "    for h in airbnb_data: \n",
    "        result = max(list(airbnb_data), key = lambda h:h[\"nbr_reviews\"])\n",
    "        return result[\"nbr_reviews\"]\n",
    "print(maxreview())"
   ]
  },
  {
   "cell_type": "code",
   "execution_count": 62,
   "metadata": {},
   "outputs": [
    {
     "name": "stdout",
     "output_type": "stream",
     "text": [
      "5.0\n"
     ]
    }
   ],
   "source": [
    "# Logement avec la meilleure évaluation\n",
    "\n",
    "def bestreview():\n",
    "    for h in airbnb_data: \n",
    "        result = max(list(airbnb_data), key = lambda h:h[\"overall_satisfaction\"])\n",
    "        return result[\"overall_satisfaction\"]\n",
    "print(bestreview())"
   ]
  },
  {
   "cell_type": "markdown",
   "metadata": {},
   "source": [
    "----\n",
    "\n",
    "Nous avons analysé les données sur l'ensemble de la ville de Lyon. Nous connaissons le prix moyen d'un logement, le logement le plus cher, etc.\n",
    "\n",
    "Maintenant, nous allons nous poser des questions similaires, mais à l'échelle des quartiers.\n",
    "\n",
    "\n",
    "### Exercice 4\n",
    "\n",
    "Nous cherchons à répondre aux questions suivantes \n",
    "* Quel est le quartier le plus cher ? \n",
    "* Quel est le quartier avec le plus d'offre ? \n",
    "* Quel est le quartier le mieux noté ? \n",
    "* Quel est le quartier avec la plus grande capacité d'accueil ? (en utilisant nbr_guests_max)\n",
    "\n",
    "\n",
    "Nous allons procéder par étapes."
   ]
  },
  {
   "cell_type": "markdown",
   "metadata": {},
   "source": [
    "* Ecrivez une fonction `liste_quartiers(airbnb_data)` qui retourne la liste de tous les quartiers"
   ]
  },
  {
   "cell_type": "code",
   "execution_count": 81,
   "metadata": {
    "tags": []
   },
   "outputs": [
    {
     "name": "stdout",
     "output_type": "stream",
     "text": [
      "['Mutualité - Préfecture - Moncey', 'Villette - Paul Bert', 'Voltaire - Part Dieu', 'Grand Trou - Moulin à Vent - Petite Guille', \"Bas des pentes / presqu'île\", 'Bellecour - Carnot', 'Jean Macé', 'Croix-Rousse centre', 'Bellecour - Cordeliers', 'Ouest Pentes', 'Champvert - Gorge de Loup', 'Croix-Rousse Est et Rhône', 'Ouest', 'Champvert - Point du Jour - Jeunet', 'Ménival - Battières - La Plaine', 'Monplaisir', 'Saint Rambert', 'Montchat', 'Perrache - Confluent', 'Vaise', 'Guillotière', 'Quartiers anciens', 'Gerland', 'Haut et coeur des pentes', 'Est', 'Croix-Rousse Saône', 'Sans souci - Dauphiné', 'Bachut - Transvaal', 'Colline des Funiculaires', 'Croix-Rousse Ouest', 'Laënnec - Mermoz', 'Etats-Unis', 'La Duchère', 'La Plaine - Santy']\n"
     ]
    }
   ],
   "source": [
    "quartiers=[]\n",
    "def liste_quartiers(airbnb_data):\n",
    "    for h in airbnb_data:\n",
    "        if h[\"neighborhood\"] not in quartiers:\n",
    "            quartiers.append(h[\"neighborhood\"])\n",
    "    return quartiers\n",
    "\n",
    "print(liste_quartiers(airbnb_data))"
   ]
  },
  {
   "cell_type": "code",
   "execution_count": 126,
   "metadata": {},
   "outputs": [
    {
     "name": "stdout",
     "output_type": "stream",
     "text": [
      "[{'nom': 'Mutualité - Préfecture - Moncey'}, {'nom': 'Villette - Paul Bert'}, {'nom': 'Voltaire - Part Dieu'}, {'nom': 'Grand Trou - Moulin à Vent - Petite Guille'}, {'nom': \"Bas des pentes / presqu'île\"}, {'nom': 'Bellecour - Carnot'}, {'nom': 'Jean Macé'}, {'nom': 'Croix-Rousse centre'}, {'nom': 'Bellecour - Cordeliers'}, {'nom': 'Ouest Pentes'}, {'nom': 'Champvert - Gorge de Loup'}, {'nom': 'Croix-Rousse Est et Rhône'}, {'nom': 'Ouest'}, {'nom': 'Champvert - Point du Jour - Jeunet'}, {'nom': 'Ménival - Battières - La Plaine'}, {'nom': 'Monplaisir'}, {'nom': 'Saint Rambert'}, {'nom': 'Montchat'}, {'nom': 'Perrache - Confluent'}, {'nom': 'Vaise'}, {'nom': 'Guillotière'}, {'nom': 'Quartiers anciens'}, {'nom': 'Gerland'}, {'nom': 'Haut et coeur des pentes'}, {'nom': 'Est'}, {'nom': 'Croix-Rousse Saône'}, {'nom': 'Sans souci - Dauphiné'}, {'nom': 'Bachut - Transvaal'}, {'nom': 'Colline des Funiculaires'}, {'nom': 'Croix-Rousse Ouest'}, {'nom': 'Laënnec - Mermoz'}, {'nom': 'Etats-Unis'}, {'nom': 'La Duchère'}, {'nom': 'La Plaine - Santy'}]\n"
     ]
    }
   ],
   "source": [
    "d_quartiers=[]\n",
    "for q in quartiers:\n",
    "    d_quart = {}\n",
    "    d_quart[\"nom\"] = q\n",
    "    \n",
    "    d_quartiers.append(d_quart)\n",
    "\n",
    "print(d_quartiers)"
   ]
  },
  {
   "cell_type": "markdown",
   "metadata": {},
   "source": [
    "----\n",
    "\n",
    "* Construisez une fonction `prix_quartiers(airbnb_data)` qui retourne un dictionnaire associant, à chaque quartier, une liste contenant les prix des logements pour ce quartier"
   ]
  },
  {
   "cell_type": "code",
   "execution_count": 131,
   "metadata": {},
   "outputs": [
    {
     "ename": "SyntaxError",
     "evalue": "invalid syntax (1887998549.py, line 7)",
     "output_type": "error",
     "traceback": [
      "\u001b[1;36m  Input \u001b[1;32mIn [131]\u001b[1;36m\u001b[0m\n\u001b[1;33m    d_quartiers[\"prix\"] = prix\u001b[0m\n\u001b[1;37m    ^\u001b[0m\n\u001b[1;31mSyntaxError\u001b[0m\u001b[1;31m:\u001b[0m invalid syntax\n"
     ]
    }
   ],
   "source": [
    "def prix_quartiers(airbnb_data):   \n",
    "    for q in d_quartiers :\n",
    "        for h in airbnb_data : \n",
    "            prix = []\n",
    "            if h[\"neighborhood\"] in q[\"nom\"]:\n",
    "                prix.append(h[\"price\"]  \n",
    "    d_quartiers[\"prix\"] = prix\n",
    "\n",
    "prix_quartiers(airbnb_data)\n",
    "print(d_quartiers)"
   ]
  },
  {
   "cell_type": "markdown",
   "metadata": {},
   "source": [
    "* En déduire le quartier avec le plus d'offres"
   ]
  },
  {
   "cell_type": "code",
   "execution_count": null,
   "metadata": {},
   "outputs": [],
   "source": []
  },
  {
   "cell_type": "markdown",
   "metadata": {},
   "source": [
    "* Ecrivez une fonction `prix_moyen_quartier(...)` qui, à partir de la liste des prix par quartiers, retourne un dictionnaire associant le nom du quartier à son prix moyen"
   ]
  },
  {
   "cell_type": "code",
   "execution_count": null,
   "metadata": {},
   "outputs": [],
   "source": []
  },
  {
   "cell_type": "markdown",
   "metadata": {},
   "source": [
    "* En déduire le quartier qui a le prix moyen le plus élevé"
   ]
  },
  {
   "cell_type": "code",
   "execution_count": null,
   "metadata": {},
   "outputs": [],
   "source": []
  },
  {
   "cell_type": "markdown",
   "metadata": {},
   "source": [
    "----\n",
    "Sur le même modèle, répondez aux deux autres questions :\n",
    "* Quel est le quartier le mieux noté ?\n",
    "* Quel est le quartier avec la plus grande capacité d'accueil ? (en utilisant nbr_guests_max)"
   ]
  },
  {
   "cell_type": "code",
   "execution_count": null,
   "metadata": {},
   "outputs": [],
   "source": []
  },
  {
   "cell_type": "markdown",
   "metadata": {},
   "source": [
    "* Ecrivez une fonction `nbr_appart_quartiers(airbnb_data)` qui retourne un dictionnaire, contenant le nombre d'appartements par quartier"
   ]
  },
  {
   "cell_type": "code",
   "execution_count": null,
   "metadata": {},
   "outputs": [],
   "source": []
  },
  {
   "cell_type": "markdown",
   "metadata": {},
   "source": [
    "----\n",
    "\n",
    "### Exercice 5 : Histogramme de répartition des prix\n",
    "\n",
    "\n",
    "Le code suivant permet de dessiner un histogramme. "
   ]
  },
  {
   "cell_type": "code",
   "execution_count": 1,
   "metadata": {},
   "outputs": [],
   "source": [
    "# import du package \n",
    "import matplotlib.pyplot as plt\n",
    "\n",
    "def show_histogram(values, xlabel=\"\", ylabel=\"\"):\n",
    "    fig = plt.figure(figsize=(12, 8))\n",
    "    ax = fig.add_subplot(111)\n",
    "    ax.set_xlabel(xlabel)\n",
    "    ax.set_ylabel(ylabel)\n",
    "    ax.hist(x=values, bins='auto')\n",
    "    plt.show()\n",
    "    "
   ]
  },
  {
   "cell_type": "markdown",
   "metadata": {},
   "source": [
    "* La première ligne est l'import du module pyplot du package matplotlib. Il s'agit d'un module python permettant de générer des graphes, histogrammes, heatmaps, etc.  \n",
    "* Ensuite, la fonction `show_histogram(values)` permet d'afficher un histogramme, directement dans votre notebook Jupyter. Le paramètre `values` doit être une une liste de valeur numériques. les paramètres optionnaux `xlabel` et `ylabel` permettent de définir le noms des axes du graphique.\n",
    "\n",
    "L'objet de cet exercice n'est pas d'apprendre à utiliser Matplotlib, ceci est réservé à la formation à distance. Pour cette raison, nous nous limiterons à l'essentiel concernant la génération de graphiques."
   ]
  },
  {
   "cell_type": "markdown",
   "metadata": {},
   "source": [
    "Voici un exemple d'utilisation et de résultat de show_histogram. Nous allons prendre les prix des logements, les stocker dans une liste, et afficher l'histogramme de répartition de ces prix. "
   ]
  },
  {
   "cell_type": "code",
   "execution_count": 4,
   "metadata": {},
   "outputs": [
    {
     "data": {
      "image/png": "[encoded data removed]",
      "text/plain": [
       "<Figure size 864x576 with 1 Axes>"
      ]
     },
     "metadata": {
      "needs_background": "light"
     },
     "output_type": "display_data"
    }
   ],
   "source": [
    "prices = []\n",
    "for housing in airbnb_data:\n",
    "    prices.append(housing[\"price\"])\n",
    "    \n",
    "show_histogram(prices, \"Prix\", \"Fréquence\")"
   ]
  },
  {
   "cell_type": "markdown",
   "metadata": {},
   "source": [
    "* Utilisez la fonction show_histogram pour afficher les répartitions des prix pour les quartiers 'Bellecour - Cordeliers', 'La Plaine - Santy' et 'Croix-Rousse centre'"
   ]
  },
  {
   "cell_type": "code",
   "execution_count": null,
   "metadata": {},
   "outputs": [],
   "source": []
  },
  {
   "cell_type": "markdown",
   "metadata": {},
   "source": [
    "### Exercice 6 : Reviews\n",
    "\n",
    "Sur le même modèle que l'exercice 5, analysez les notes que les locataires donnent aux appartements, via l'information \n",
    "`overall_satisfaction`. Générez les histogrammes de répartition des notes par quartier."
   ]
  },
  {
   "cell_type": "code",
   "execution_count": null,
   "metadata": {},
   "outputs": [],
   "source": []
  },
  {
   "cell_type": "markdown",
   "metadata": {},
   "source": [
    "----\n",
    "\n",
    "## Partie 2 : Utilisation du SQL\n",
    "\n",
    "\n",
    "La base de donnée *airbnb.sqlite* contient les mêmes données que *airbnb.json* mais dans un format différent.\n",
    "\n",
    "Elle contient deux tables, et voici son schéma : "
   ]
  },
  {
   "cell_type": "code",
   "execution_count": 1,
   "metadata": {},
   "outputs": [
    {
     "data": {
      "image/svg+xml": [
       "<svg content=\"&lt;mxfile host=&quot;www.draw.io&quot; modified=&quot;2019-11-17T12:45:33.577Z&quot; agent=&quot;Mozilla/5.0 (Macintosh; Intel Mac OS X 10.14; rv:69.0) Gecko/20100101 Firefox/69.0&quot; version=&quot;12.2.6&quot; etag=&quot;qpxG5JmNdOlHITtRpzcx&quot; type=&quot;device&quot; pages=&quot;1&quot;&gt;&lt;diagram id=&quot;OfDc6IZ9v3sPYGu7-nKZ&quot;&gt;7Vnfb9owEP5reJ3ygwB9LJR2k+hWlUrrnpBJTGLVsZFtCuyv3zm2SUJoS+mUpwCqcmefz3ffZ9c598JJvrsTaJ3d8wTTXuAlu1540wuCq/4A/mrF3igGgWcUqSCJUfmlYk7+Yqt03TYkwbLWUXFOFVnXlTFnDMeqpkNC8G2924rTutc1SnFDMY8RbWp/k0RlRjsKhqX+OyZp5jz7gyvTkiPX2UYiM5TwbUUVTnvhRHCuzFO+m2Cqc+fyYuxu32g9TExgps4xCIzBK6IbGxv4zu3c1N4FLLckp4iBNF5xpua2xQM5zghNZmjPN9qhVCh+cdI444L8hf6IQpMPCmgWyuIZDPRohNIJp1wUfkLs6W/Ncq5HtL4ElmD74KLzj1T3aFfrOENSuVlyStFakmUxb22YI5ESNuZKQbymk4vytj6pVfGBdkRJykAXgy8sXC5MNH4fZJtMLBTevQmIf4AZlgfmOVZiD12cgWeZYZeGP7TytiSaP7C6rEKyYGQXFbLkTg9jH9w9wmJALIUcfMrfSXdH3hCFlDCk8JhvWCKrpIOHSqSlqqDiaVqGDVpCS+D9+Pk0vZs+9rTzcHd9yHiFqZB5VRBN8BfsQGTcULeCq1XJNYoJS2d4pePql5pHG6pWcUB0RYtlmpEkwUwzjCuk0PKwDNacMFXkIhrDDzI28b5FvQjmNAHZL2X46e5CTTiDaSJSEAMDV7dY87XGquBcVgWnWbWvo/Uhid7hUA3Od7DrN7DLuFSLDsCvABgF7QEYNQBk2sOSi4zz5AjIDr0z0BuO2kNv0ERvKRYCvxIMx55uCV4Mou/120Nx2EBRJxBRupBIEblCsSKcQY/b2a/rpw7MT4MZnnus+g9gjk4uyXQD0clFDofWDsZLYYxaPNhcNWBc4kS/LskOwIsBHLV4sHHlgwqCa0FiXMLXYXbOy4TX4nHG9xuYUfgPqDZJB9snYQtbPL/4zcIS5SztcLvk3b3Fo4rfrLxUX/4akHWFwbYKg+HwwsKge/n8Ei2aRZ2uDHAKwvCDpdziSj5RxkG53nyfps/d3nsmYm3W3fxm6aYBE2bJtb7A0psNRVKSWO+JKnf7KN4R9Vx5/qPTDPkz0o3bBgth7wQGE32uChUrLZZmheTszORwcnRXJvlGxFZlOQibe4pdwvtn73yVpEcncu50AusT4Wt9Fu/cgjxoyvXevAGJXGnADWECslZB5S7teKCoPlB/dDSQSUNjoI/vR0AsrwRN9/JeNZz+Aw==&lt;/diagram&gt;&lt;/mxfile&gt;\" height=\"290px\" version=\"1.1\" viewBox=\"-0.5 -0.5 431 290\" width=\"431px\" xmlns=\"http://www.w3.org/2000/svg\" xmlns:xlink=\"http://www.w3.org/1999/xlink\"><defs><clipPath id=\"mx-clip-4-31-152-26-0\"><rect height=\"26\" width=\"152\" x=\"4\" y=\"31\"/></clipPath><clipPath id=\"mx-clip-4-57-152-26-0\"><rect height=\"26\" width=\"152\" x=\"4\" y=\"57\"/></clipPath><clipPath id=\"mx-clip-4-83-152-26-0\"><rect height=\"26\" width=\"152\" x=\"4\" y=\"83\"/></clipPath><clipPath id=\"mx-clip-4-109-152-26-0\"><rect height=\"26\" width=\"152\" x=\"4\" y=\"109\"/></clipPath><clipPath id=\"mx-clip-4-135-152-26-0\"><rect height=\"26\" width=\"152\" x=\"4\" y=\"135\"/></clipPath><clipPath id=\"mx-clip-4-161-152-26-0\"><rect height=\"26\" width=\"152\" x=\"4\" y=\"161\"/></clipPath><clipPath id=\"mx-clip-4-187-152-26-0\"><rect height=\"26\" width=\"152\" x=\"4\" y=\"187\"/></clipPath><clipPath id=\"mx-clip-4-213-152-26-0\"><rect height=\"26\" width=\"152\" x=\"4\" y=\"213\"/></clipPath><clipPath id=\"mx-clip-4-239-152-26-0\"><rect height=\"26\" width=\"152\" x=\"4\" y=\"239\"/></clipPath><clipPath id=\"mx-clip-4-265-152-26-0\"><rect height=\"26\" width=\"152\" x=\"4\" y=\"265\"/></clipPath><clipPath id=\"mx-clip-274-31-152-26-0\"><rect height=\"26\" width=\"152\" x=\"274\" y=\"31\"/></clipPath><clipPath id=\"mx-clip-274-57-152-26-0\"><rect height=\"26\" width=\"152\" x=\"274\" y=\"57\"/></clipPath><style type=\"text/css\" xmlns=\"http://www.w3.org/1999/xhtml\">\n",
       "\t\tbody { overflow:hidden; }\n",
       "\t\tdiv.picker { z-index: 10007; }\n",
       "\t\t.geSidebarContainer .geTitle input {\n",
       "\t\t\tfont-size:8pt;\n",
       "\t\t\tcolor:#606060;\n",
       "\t\t}\n",
       "\t\t.geBlock {\n",
       "\t\t\tz-index:-3;\n",
       "\t\t\tmargin:100px;\n",
       "\t\t\tmargin-top:40px;\n",
       "\t\t\tmargin-bottom:30px;\n",
       "\t\t\tpadding:20px;\n",
       "\t\t}\n",
       "\t\t.geBlock h1, .geBlock h2 {\n",
       "\t\t\tmargin-top:0px;\n",
       "\t\t\tpadding-top:0px;\n",
       "\t\t}\n",
       "\t\t.geEditor ::-webkit-scrollbar {\n",
       "\t\t    width:14px;\n",
       "\t\t    height:14px;\n",
       "\t\t}\n",
       "\t\t.geEditor ::-webkit-scrollbar-track {\n",
       "\t\t\tbackground-clip:padding-box;\n",
       "\t\t\tborder:solid transparent;\n",
       "\t\t\tborder-width:1px;\n",
       "\t\t}\n",
       "\t\t.geEditor ::-webkit-scrollbar-corner {\n",
       "\t\t\tbackground-color:transparent;\n",
       "\t\t}\n",
       "\t\t.geEditor ::-webkit-scrollbar-thumb {\n",
       "\t\t\tbackground-color:rgba(0,0,0,.1);\n",
       "\t\t\tbackground-clip:padding-box;\n",
       "\t\t\tborder:solid transparent;\n",
       "\t\t\tborder-radius:10px;\n",
       "\t\t}\n",
       "\t\t.geEditor ::-webkit-scrollbar-thumb:hover{\n",
       "\t\t\tbackground-color:rgba(0,0,0,.4);\n",
       "\t\t}\n",
       "\t\t.geTemplate {\n",
       "\t\t\tborder:1px solid transparent;\n",
       "\t\t\tdisplay:inline-block;\n",
       "\t\t\t_display:inline;\n",
       "\t\t\tvertical-align:top;\n",
       "\t\t\tborder-radius:3px;\n",
       "\t\t\toverflow:hidden;\n",
       "\t\t\tfont-size:14pt;\n",
       "\t\t\tcursor:pointer;\n",
       "\t\t\tmargin:5px;\n",
       "\t\t}\n",
       "\t\t.geFooterContainer div.geSocialFooter a {\n",
       "\t\t\tdisplay:inline;\n",
       "\t\t\tpadding:0px;\n",
       "\t\t}\n",
       "\t\t.geFooterContainer div.geSocialFooter a img {\n",
       "\t\t\tmargin-top:10px;\n",
       "\t\t\topacity:0.5;\n",
       "\t\t}\n",
       "\t\t.geFooterContainer div.geSocialFooter a img:hover {\n",
       "\t\t\topacity:1;\n",
       "\t\t}\n",
       "\t\t.geFooterContainer&gt;div#geFooter&gt;img {\n",
       "\t\t\topacity:0.5;\n",
       "\t\t\tborder:1px solid transparent;\n",
       "\t\t\tcursor:pointer;\n",
       "\t\t\tmargin-top:3px;\n",
       "\t\t\tmargin-right:6px;\n",
       "\t\t\tposition:absolute;\n",
       "\t\t\tright:4px;\n",
       "\t\t\ttop:12px;\n",
       "\t\t\tpadding:1px;\n",
       "\t\t\tcursor:pointer;\n",
       "\t\t}\n",
       "\t\t.geFooterContainer&gt;div#geFooter&gt;img:hover {\n",
       "\t\t\topacity: 1;\n",
       "\t\t}\n",
       "\t</style><style type=\"text/css\" xmlns=\"http://www.w3.org/1999/xhtml\"/><style type=\"text/css\" xmlns=\"http://www.w3.org/1999/xhtml\">.MathJax_Hover_Frame {border-radius: .25em; -webkit-border-radius: .25em; -moz-border-radius: .25em; -khtml-border-radius: .25em; box-shadow: 0px 0px 15px #83A; -webkit-box-shadow: 0px 0px 15px #83A; -moz-box-shadow: 0px 0px 15px #83A; -khtml-box-shadow: 0px 0px 15px #83A; border: 1px solid #A6D ! important; display: inline-block; position: absolute}\n",
       ".MathJax_Menu_Button .MathJax_Hover_Arrow {position: absolute; cursor: pointer; display: inline-block; border: 2px solid #AAA; border-radius: 4px; -webkit-border-radius: 4px; -moz-border-radius: 4px; -khtml-border-radius: 4px; font-family: 'Courier New',Courier; font-size: 9px; color: #F0F0F0}\n",
       ".MathJax_Menu_Button .MathJax_Hover_Arrow span {display: block; background-color: #AAA; border: 1px solid; border-radius: 3px; line-height: 0; padding: 4px}\n",
       ".MathJax_Hover_Arrow:hover {color: white!important; border: 2px solid #CCC!important}\n",
       ".MathJax_Hover_Arrow:hover span {background-color: #CCC!important}\n",
       "</style><style type=\"text/css\" xmlns=\"http://www.w3.org/1999/xhtml\">#MathJax_About {position: fixed; left: 50%; width: auto; text-align: center; border: 3px outset; padding: 1em 2em; background-color: #DDDDDD; color: black; cursor: default; font-family: message-box; font-size: 120%; font-style: normal; text-indent: 0; text-transform: none; line-height: normal; letter-spacing: normal; word-spacing: normal; word-wrap: normal; white-space: nowrap; float: none; z-index: 201; border-radius: 15px; -webkit-border-radius: 15px; -moz-border-radius: 15px; -khtml-border-radius: 15px; box-shadow: 0px 10px 20px #808080; -webkit-box-shadow: 0px 10px 20px #808080; -moz-box-shadow: 0px 10px 20px #808080; -khtml-box-shadow: 0px 10px 20px #808080; filter: progid:DXImageTransform.Microsoft.dropshadow(OffX=2, OffY=2, Color='gray', Positive='true')}\n",
       "#MathJax_About.MathJax_MousePost {outline: none}\n",
       ".MathJax_Menu {position: absolute; background-color: white; color: black; width: auto; padding: 5px 0px; border: 1px solid #CCCCCC; margin: 0; cursor: default; font: menu; text-align: left; text-indent: 0; text-transform: none; line-height: normal; letter-spacing: normal; word-spacing: normal; word-wrap: normal; white-space: nowrap; float: none; z-index: 201; border-radius: 5px; -webkit-border-radius: 5px; -moz-border-radius: 5px; -khtml-border-radius: 5px; box-shadow: 0px 10px 20px #808080; -webkit-box-shadow: 0px 10px 20px #808080; -moz-box-shadow: 0px 10px 20px #808080; -khtml-box-shadow: 0px 10px 20px #808080; filter: progid:DXImageTransform.Microsoft.dropshadow(OffX=2, OffY=2, Color='gray', Positive='true')}\n",
       ".MathJax_MenuItem {padding: 1px 2em; background: transparent}\n",
       ".MathJax_MenuArrow {position: absolute; right: .5em; padding-top: .25em; color: #666666; font-size: .75em}\n",
       ".MathJax_MenuActive .MathJax_MenuArrow {color: white}\n",
       ".MathJax_MenuArrow.RTL {left: .5em; right: auto}\n",
       ".MathJax_MenuCheck {position: absolute; left: .7em}\n",
       ".MathJax_MenuCheck.RTL {right: .7em; left: auto}\n",
       ".MathJax_MenuRadioCheck {position: absolute; left: .7em}\n",
       ".MathJax_MenuRadioCheck.RTL {right: .7em; left: auto}\n",
       ".MathJax_MenuLabel {padding: 1px 2em 3px 1.33em; font-style: italic}\n",
       ".MathJax_MenuRule {border-top: 1px solid #DDDDDD; margin: 4px 3px}\n",
       ".MathJax_MenuDisabled {color: GrayText}\n",
       ".MathJax_MenuActive {background-color: #606872; color: white}\n",
       ".MathJax_MenuDisabled:focus, .MathJax_MenuLabel:focus {background-color: #E8E8E8}\n",
       ".MathJax_ContextMenu:focus {outline: none}\n",
       ".MathJax_ContextMenu .MathJax_MenuItem:focus {outline: none}\n",
       "#MathJax_AboutClose {top: .2em; right: .2em}\n",
       ".MathJax_Menu .MathJax_MenuClose {top: -10px; left: -10px}\n",
       ".MathJax_MenuClose {position: absolute; cursor: pointer; display: inline-block; border: 2px solid #AAA; border-radius: 18px; -webkit-border-radius: 18px; -moz-border-radius: 18px; -khtml-border-radius: 18px; font-family: 'Courier New',Courier; font-size: 24px; color: #F0F0F0}\n",
       ".MathJax_MenuClose span {display: block; background-color: #AAA; border: 1.5px solid; border-radius: 18px; -webkit-border-radius: 18px; -moz-border-radius: 18px; -khtml-border-radius: 18px; line-height: 0; padding: 8px 0 6px}\n",
       ".MathJax_MenuClose:hover {color: white!important; border: 2px solid #CCC!important}\n",
       ".MathJax_MenuClose:hover span {background-color: #CCC!important}\n",
       ".MathJax_MenuClose:hover:focus {outline: none}\n",
       "</style><style type=\"text/css\" xmlns=\"http://www.w3.org/1999/xhtml\">.MathJax_Preview .MJXf-math {color: inherit!important}\n",
       "</style><style type=\"text/css\" xmlns=\"http://www.w3.org/1999/xhtml\">.MJX_Assistive_MathML {position: absolute!important; top: 0; left: 0; clip: rect(1px, 1px, 1px, 1px); padding: 1px 0 0 0!important; border: 0!important; height: 1px!important; width: 1px!important; overflow: hidden!important; display: block!important; -webkit-touch-callout: none; -webkit-user-select: none; -khtml-user-select: none; -moz-user-select: none; -ms-user-select: none; user-select: none}\n",
       ".MJX_Assistive_MathML.MJX_Assistive_MathML_Block {width: 100%!important}\n",
       "</style><style type=\"text/css\" xmlns=\"http://www.w3.org/1999/xhtml\">#MathJax_Zoom {position: absolute; background-color: #F0F0F0; overflow: auto; display: block; z-index: 301; padding: .5em; border: 1px solid black; margin: 0; font-weight: normal; font-style: normal; text-align: left; text-indent: 0; text-transform: none; line-height: normal; letter-spacing: normal; word-spacing: normal; word-wrap: normal; white-space: nowrap; float: none; -webkit-box-sizing: content-box; -moz-box-sizing: content-box; box-sizing: content-box; box-shadow: 5px 5px 15px #AAAAAA; -webkit-box-shadow: 5px 5px 15px #AAAAAA; -moz-box-shadow: 5px 5px 15px #AAAAAA; -khtml-box-shadow: 5px 5px 15px #AAAAAA; filter: progid:DXImageTransform.Microsoft.dropshadow(OffX=2, OffY=2, Color='gray', Positive='true')}\n",
       "#MathJax_ZoomOverlay {position: absolute; left: 0; top: 0; z-index: 300; display: inline-block; width: 100%; height: 100%; border: 0; padding: 0; margin: 0; background-color: white; opacity: 0; filter: alpha(opacity=0)}\n",
       "#MathJax_ZoomFrame {position: relative; display: inline-block; height: 0; width: 0}\n",
       "#MathJax_ZoomEventTrap {position: absolute; left: 0; top: 0; z-index: 302; display: inline-block; border: 0; padding: 0; margin: 0; background-color: white; opacity: 0; filter: alpha(opacity=0)}\n",
       "</style><style type=\"text/css\" xmlns=\"http://www.w3.org/1999/xhtml\">.MathJax_Preview {color: #888}\n",
       "#MathJax_Message {position: fixed; left: 1px; bottom: 2px; background-color: #E6E6E6; border: 1px solid #959595; margin: 0px; padding: 2px 8px; z-index: 102; color: black; font-size: 80%; width: auto; white-space: nowrap}\n",
       "#MathJax_MSIE_Frame {position: absolute; top: 0; left: 0; width: 0px; z-index: 101; border: 0px; margin: 0px; padding: 0px}\n",
       ".MathJax_Error {color: #CC0000; font-style: italic}\n",
       "</style><style type=\"text/css\" xmlns=\"http://www.w3.org/1999/xhtml\">  @-webkit-keyframes rotate {\n",
       "    from  { -webkit-transform: rotate(0deg); }\n",
       "    to   { -webkit-transform: rotate(360deg); }\n",
       "  }\n",
       "\n",
       "  @keyframes rotate {\n",
       "    from  { transform: rotate(0deg); }\n",
       "    to   { transform: rotate(360deg); }\n",
       "  }\n",
       "\n",
       "    .dropbox-dropin-btn, .dropbox-dropin-btn:link, .dropbox-dropin-btn:hover {\n",
       "      display: inline-block;\n",
       "      height: 14px;\n",
       "      font-family: &quot;Lucida Grande&quot;, &quot;Segoe UI&quot;, &quot;Tahoma&quot;, &quot;Helvetica Neue&quot;, &quot;Helvetica&quot;, sans-serif;\n",
       "      font-size: 11px;\n",
       "      font-weight: 600;\n",
       "      color: #636363;\n",
       "      text-decoration: none;\n",
       "      padding: 1px 7px 5px 3px;\n",
       "      border: 1px solid #ebebeb;\n",
       "      border-radius: 2px;\n",
       "      border-bottom-color: #d4d4d4;\n",
       "        background: #fcfcfc;\n",
       "  background: -moz-linear-gradient(top, #fcfcfc 0%, #f5f5f5 100%);\n",
       "  background: -webkit-linear-gradient(top, #fcfcfc 0%, #f5f5f5 100%);\n",
       "  background: linear-gradient(to bottom, #fcfcfc 0%, #f5f5f5 100%);\n",
       "  filter: progid:DXImageTransform.Microsoft.gradient(startColorstr='#fcfcfc', endColorstr='#f5f5f5',GradientType=0);  \n",
       "    }\n",
       "\n",
       "    .dropbox-dropin-default:hover, .dropbox-dropin-error:hover {\n",
       "      border-color: #dedede;\n",
       "      border-bottom-color: #cacaca;\n",
       "        background: #fdfdfd;\n",
       "  background: -moz-linear-gradient(top, #fdfdfd 0%, #f5f5f5 100%);\n",
       "  background: -webkit-linear-gradient(top, #fdfdfd 0%, #f5f5f5 100%);\n",
       "  background: linear-gradient(to bottom, #fdfdfd 0%, #f5f5f5 100%);\n",
       "  filter: progid:DXImageTransform.Microsoft.gradient(startColorstr='#fdfdfd', endColorstr='#f5f5f5',GradientType=0);  \n",
       "    }\n",
       "\n",
       "    .dropbox-dropin-default:active, .dropbox-dropin-error:active {\n",
       "      border-color: #d1d1d1;\n",
       "      box-shadow: inset 0 1px 1px rgba(0,0,0,0.1);\n",
       "    }\n",
       "\n",
       "    .dropbox-dropin-btn .dropin-btn-status {\n",
       "      display: inline-block;\n",
       "      width: 15px;\n",
       "      height: 14px;\n",
       "      vertical-align: bottom;\n",
       "      margin: 0 5px 0 2px;\n",
       "      background: transparent url('https://www.dropbox.com/static/images/widgets/dbx-saver-status.png') no-repeat;\n",
       "      position: relative;\n",
       "      top: 2px;\n",
       "    }\n",
       "\n",
       "    .dropbox-dropin-default .dropin-btn-status {\n",
       "      background-position: 0px 0px;\n",
       "    }\n",
       "\n",
       "    .dropbox-dropin-progress .dropin-btn-status {\n",
       "      width: 18px;\n",
       "      margin: 0 4px 0 0;\n",
       "      background: url('https://www.dropbox.com/static/images/widgets/dbx-progress.png') no-repeat center center;\n",
       "        -webkit-animation-name: rotate;\n",
       "        -webkit-animation-duration: 1.7s;\n",
       "        -webkit-animation-iteration-count: infinite;\n",
       "        -webkit-animation-timing-function: linear;\n",
       "      animation-name: rotate;\n",
       "      animation-duration: 1.7s;\n",
       "      animation-iteration-count: infinite;\n",
       "      animation-timing-function: linear;\n",
       "    }\n",
       "\n",
       "    .dropbox-dropin-success .dropin-btn-status {\n",
       "      background-position: -15px 0px;\n",
       "    }\n",
       "\n",
       "    .dropbox-dropin-disabled {\n",
       "      background: #e0e0e0;\n",
       "      border: 1px #dadada solid;\n",
       "      border-bottom: 1px solid #ccc;\n",
       "      box-shadow: none;\n",
       "    }\n",
       "\n",
       "    .dropbox-dropin-disabled .dropin-btn-status {\n",
       "      background-position: -30px 0px;\n",
       "    }\n",
       "\n",
       "    .dropbox-dropin-error .dropin-btn-status {\n",
       "      background-position: -45px 0px;\n",
       "    }\n",
       "\n",
       "  @media only screen and (-webkit-min-device-pixel-ratio: 1.4) {\n",
       "      .dropbox-dropin-btn .dropin-btn-status {\n",
       "        background-image: url('https://www.dropbox.com/static/images/widgets/dbx-saver-status-2x.png');\n",
       "        background-size: 60px 14px;\n",
       "          -webkit-background-size: 60px 14px;\n",
       "      }\n",
       "\n",
       "      .dropbox-dropin-progress .dropin-btn-status {\n",
       "        background: url('https://www.dropbox.com/static/images/widgets/dbx-progress-2x.png') no-repeat center center;\n",
       "        background-size: 20px 20px;\n",
       "          -webkit-background-size: 20px 20px;\n",
       "      }\n",
       "  }\n",
       "\n",
       "    .dropbox-saver:hover, .dropbox-chooser:hover {\n",
       "      text-decoration: none;\n",
       "      cursor: pointer;\n",
       "    }\n",
       "\n",
       "    .dropbox-chooser, .dropbox-dropin-btn {\n",
       "      line-height: 11px !important;\n",
       "      text-decoration: none !important;\n",
       "      box-sizing: content-box !important;\n",
       "        -webkit-box-sizing: content-box !important;\n",
       "        -moz-box-sizing: content-box !important;\n",
       "    }\n",
       "    </style><style type=\"text/css\" xmlns=\"http://www.w3.org/1999/xhtml\">.MJXp-script {font-size: .8em}\n",
       ".MJXp-right {-webkit-transform-origin: right; -moz-transform-origin: right; -ms-transform-origin: right; -o-transform-origin: right; transform-origin: right}\n",
       ".MJXp-bold {font-weight: bold}\n",
       ".MJXp-italic {font-style: italic}\n",
       ".MJXp-scr {font-family: MathJax_Script,'Times New Roman',Times,STIXGeneral,serif}\n",
       ".MJXp-frak {font-family: MathJax_Fraktur,'Times New Roman',Times,STIXGeneral,serif}\n",
       ".MJXp-sf {font-family: MathJax_SansSerif,'Times New Roman',Times,STIXGeneral,serif}\n",
       ".MJXp-cal {font-family: MathJax_Caligraphic,'Times New Roman',Times,STIXGeneral,serif}\n",
       ".MJXp-mono {font-family: MathJax_Typewriter,'Times New Roman',Times,STIXGeneral,serif}\n",
       ".MJXp-largeop {font-size: 150%}\n",
       ".MJXp-largeop.MJXp-int {vertical-align: -.2em}\n",
       ".MJXp-math {display: inline-block; line-height: 1.2; text-indent: 0; font-family: 'Times New Roman',Times,STIXGeneral,serif; white-space: nowrap; border-collapse: collapse}\n",
       ".MJXp-display {display: block; text-align: center; margin: 1em 0}\n",
       ".MJXp-math span {display: inline-block}\n",
       ".MJXp-box {display: block!important; text-align: center}\n",
       ".MJXp-box:after {content: &quot; &quot;}\n",
       ".MJXp-rule {display: block!important; margin-top: .1em}\n",
       ".MJXp-char {display: block!important}\n",
       ".MJXp-mo {margin: 0 .15em}\n",
       ".MJXp-mfrac {margin: 0 .125em; vertical-align: .25em}\n",
       ".MJXp-denom {display: inline-table!important; width: 100%}\n",
       ".MJXp-denom &gt; * {display: table-row!important}\n",
       ".MJXp-surd {vertical-align: top}\n",
       ".MJXp-surd &gt; * {display: block!important}\n",
       ".MJXp-script-box &gt; *  {display: table!important; height: 50%}\n",
       ".MJXp-script-box &gt; * &gt; * {display: table-cell!important; vertical-align: top}\n",
       ".MJXp-script-box &gt; *:last-child &gt; * {vertical-align: bottom}\n",
       ".MJXp-script-box &gt; * &gt; * &gt; * {display: block!important}\n",
       ".MJXp-mphantom {visibility: hidden}\n",
       ".MJXp-munderover, .MJXp-munder {display: inline-table!important}\n",
       ".MJXp-over {display: inline-block!important; text-align: center}\n",
       ".MJXp-over &gt; * {display: block!important}\n",
       ".MJXp-munderover &gt; *, .MJXp-munder &gt; * {display: table-row!important}\n",
       ".MJXp-mtable {vertical-align: .25em; margin: 0 .125em}\n",
       ".MJXp-mtable &gt; * {display: inline-table!important; vertical-align: middle}\n",
       ".MJXp-mtr {display: table-row!important}\n",
       ".MJXp-mtd {display: table-cell!important; text-align: center; padding: .5em 0 0 .5em}\n",
       ".MJXp-mtr &gt; .MJXp-mtd:first-child {padding-left: 0}\n",
       ".MJXp-mtr:first-child &gt; .MJXp-mtd {padding-top: 0}\n",
       ".MJXp-mlabeledtr {display: table-row!important}\n",
       ".MJXp-mlabeledtr &gt; .MJXp-mtd:first-child {padding-left: 0}\n",
       ".MJXp-mlabeledtr:first-child &gt; .MJXp-mtd {padding-top: 0}\n",
       ".MJXp-merror {background-color: #FFFF88; color: #CC0000; border: 1px solid #CC0000; padding: 1px 3px; font-style: normal; font-size: 90%}\n",
       ".MJXp-scale0 {-webkit-transform: scaleX(.0); -moz-transform: scaleX(.0); -ms-transform: scaleX(.0); -o-transform: scaleX(.0); transform: scaleX(.0)}\n",
       ".MJXp-scale1 {-webkit-transform: scaleX(.1); -moz-transform: scaleX(.1); -ms-transform: scaleX(.1); -o-transform: scaleX(.1); transform: scaleX(.1)}\n",
       ".MJXp-scale2 {-webkit-transform: scaleX(.2); -moz-transform: scaleX(.2); -ms-transform: scaleX(.2); -o-transform: scaleX(.2); transform: scaleX(.2)}\n",
       ".MJXp-scale3 {-webkit-transform: scaleX(.3); -moz-transform: scaleX(.3); -ms-transform: scaleX(.3); -o-transform: scaleX(.3); transform: scaleX(.3)}\n",
       ".MJXp-scale4 {-webkit-transform: scaleX(.4); -moz-transform: scaleX(.4); -ms-transform: scaleX(.4); -o-transform: scaleX(.4); transform: scaleX(.4)}\n",
       ".MJXp-scale5 {-webkit-transform: scaleX(.5); -moz-transform: scaleX(.5); -ms-transform: scaleX(.5); -o-transform: scaleX(.5); transform: scaleX(.5)}\n",
       ".MJXp-scale6 {-webkit-transform: scaleX(.6); -moz-transform: scaleX(.6); -ms-transform: scaleX(.6); -o-transform: scaleX(.6); transform: scaleX(.6)}\n",
       ".MJXp-scale7 {-webkit-transform: scaleX(.7); -moz-transform: scaleX(.7); -ms-transform: scaleX(.7); -o-transform: scaleX(.7); transform: scaleX(.7)}\n",
       ".MJXp-scale8 {-webkit-transform: scaleX(.8); -moz-transform: scaleX(.8); -ms-transform: scaleX(.8); -o-transform: scaleX(.8); transform: scaleX(.8)}\n",
       ".MJXp-scale9 {-webkit-transform: scaleX(.9); -moz-transform: scaleX(.9); -ms-transform: scaleX(.9); -o-transform: scaleX(.9); transform: scaleX(.9)}\n",
       ".MathJax_PHTML .noError {vertical-align: ; font-size: 90%; text-align: left; color: black; padding: 1px 3px; border: 1px solid}\n",
       "</style></defs><g><path d=\"M 0 26 L 0 0 L 160 0 L 160 26\" fill=\"#e0e0e0\" pointer-events=\"all\" stroke=\"#000000\" stroke-miterlimit=\"10\"/><path d=\"M 0 26 L 0 286 L 160 286 L 160 26\" fill=\"#ffffff\" pointer-events=\"all\" stroke=\"#000000\" stroke-miterlimit=\"10\"/><path d=\"M 0 26 L 160 26\" fill=\"none\" pointer-events=\"all\" stroke=\"#000000\" stroke-miterlimit=\"10\"/><g fill=\"#000000\" font-family=\"Helvetica\" font-size=\"14px\" text-anchor=\"middle\"><text x=\"79.5\" y=\"18.5\">room</text></g><rect fill=\"none\" height=\"26\" pointer-events=\"all\" stroke=\"none\" width=\"160\" x=\"0\" y=\"26\"/><g clip-path=\"url(#mx-clip-4-31-152-26-0)\" fill=\"#000000\" font-family=\"Helvetica\" font-size=\"12px\"><text x=\"5.5\" y=\"43.5\">id INTEGER</text></g><rect fill=\"none\" height=\"26\" pointer-events=\"all\" stroke=\"none\" width=\"160\" x=\"0\" y=\"52\"/><g clip-path=\"url(#mx-clip-4-57-152-26-0)\" fill=\"#000000\" font-family=\"Helvetica\" font-size=\"12px\"><text x=\"5.5\" y=\"69.5\">host_id INTEGER</text></g><rect fill=\"none\" height=\"26\" pointer-events=\"all\" stroke=\"none\" width=\"160\" x=\"0\" y=\"78\"/><g clip-path=\"url(#mx-clip-4-83-152-26-0)\" fill=\"#000000\" font-family=\"Helvetica\" font-size=\"12px\"><text x=\"5.5\" y=\"95.5\">neighborhood_id INTEGER</text></g><rect fill=\"none\" height=\"26\" pointer-events=\"all\" stroke=\"none\" width=\"160\" x=\"0\" y=\"104\"/><g clip-path=\"url(#mx-clip-4-109-152-26-0)\" fill=\"#000000\" font-family=\"Helvetica\" font-size=\"12px\"><text x=\"5.5\" y=\"121.5\">nbr_reviews INTEGER</text></g><rect fill=\"none\" height=\"26\" pointer-events=\"all\" stroke=\"none\" width=\"160\" x=\"0\" y=\"130\"/><g clip-path=\"url(#mx-clip-4-135-152-26-0)\" fill=\"#000000\" font-family=\"Helvetica\" font-size=\"12px\"><text x=\"5.5\" y=\"147.5\">overall_satisfaction FLOAT</text></g><rect fill=\"none\" height=\"26\" pointer-events=\"all\" stroke=\"none\" width=\"160\" x=\"0\" y=\"156\"/><g clip-path=\"url(#mx-clip-4-161-152-26-0)\" fill=\"#000000\" font-family=\"Helvetica\" font-size=\"12px\"><text x=\"5.5\" y=\"173.5\">nbr_guests_max FLOAT</text></g><rect fill=\"none\" height=\"26\" pointer-events=\"all\" stroke=\"none\" width=\"160\" x=\"0\" y=\"182\"/><g clip-path=\"url(#mx-clip-4-187-152-26-0)\" fill=\"#000000\" font-family=\"Helvetica\" font-size=\"12px\"><text x=\"5.5\" y=\"199.5\">bedrooms FLOAT</text></g><rect fill=\"none\" height=\"26\" pointer-events=\"all\" stroke=\"none\" width=\"160\" x=\"0\" y=\"208\"/><g clip-path=\"url(#mx-clip-4-213-152-26-0)\" fill=\"#000000\" font-family=\"Helvetica\" font-size=\"12px\"><text x=\"5.5\" y=\"225.5\">price FLOAT</text></g><rect fill=\"none\" height=\"26\" pointer-events=\"all\" stroke=\"none\" width=\"160\" x=\"0\" y=\"234\"/><g clip-path=\"url(#mx-clip-4-239-152-26-0)\" fill=\"#000000\" font-family=\"Helvetica\" font-size=\"12px\"><text x=\"5.5\" y=\"251.5\">latitude FLOAT</text></g><rect fill=\"none\" height=\"26\" pointer-events=\"all\" stroke=\"none\" width=\"160\" x=\"0\" y=\"260\"/><g clip-path=\"url(#mx-clip-4-265-152-26-0)\" fill=\"#000000\" font-family=\"Helvetica\" font-size=\"12px\"><text x=\"5.5\" y=\"277.5\">longitude FLOAT</text></g><path d=\"M 270 26 L 270 0 L 430 0 L 430 26\" fill=\"#e0e0e0\" pointer-events=\"all\" stroke=\"#000000\" stroke-miterlimit=\"10\"/><path d=\"M 270 26 L 270 78 L 430 78 L 430 26\" fill=\"#ffffff\" pointer-events=\"all\" stroke=\"#000000\" stroke-miterlimit=\"10\"/><path d=\"M 270 26 L 430 26\" fill=\"none\" pointer-events=\"all\" stroke=\"#000000\" stroke-miterlimit=\"10\"/><g fill=\"#000000\" font-family=\"Helvetica\" font-size=\"14px\" text-anchor=\"middle\"><text x=\"349.5\" y=\"18.5\">neighborhood</text></g><rect fill=\"none\" height=\"26\" pointer-events=\"all\" stroke=\"none\" width=\"160\" x=\"270\" y=\"26\"/><g clip-path=\"url(#mx-clip-274-31-152-26-0)\" fill=\"#000000\" font-family=\"Helvetica\" font-size=\"12px\"><text x=\"275.5\" y=\"43.5\">id INTEGER</text></g><rect fill=\"none\" height=\"26\" pointer-events=\"all\" stroke=\"none\" width=\"160\" x=\"270\" y=\"52\"/><g clip-path=\"url(#mx-clip-274-57-152-26-0)\" fill=\"#000000\" font-family=\"Helvetica\" font-size=\"12px\"><text x=\"275.5\" y=\"69.5\">name TEXT</text></g><path d=\"M 160 91 L 264.24 41.72\" fill=\"none\" pointer-events=\"stroke\" stroke=\"#000000\" stroke-miterlimit=\"10\"/><path d=\"M 268.99 39.48 L 264.16 45.63 L 264.24 41.72 L 261.16 39.31 Z\" fill=\"#000000\" pointer-events=\"all\" stroke=\"#000000\" stroke-miterlimit=\"10\"/></g></svg>"
      ],
      "text/plain": [
       "<IPython.core.display.SVG object>"
      ]
     },
     "execution_count": 1,
     "metadata": {},
     "output_type": "execute_result"
    }
   ],
   "source": [
    "from IPython.core.display import SVG\n",
    "SVG(filename='images/airbnb_sqlite.svg')"
   ]
  },
  {
   "cell_type": "markdown",
   "metadata": {},
   "source": [
    "### 2.1 - Utilisation de SQLite en Python\n",
    "\n",
    "L'accès à une base de donnée SQLite avec Python se fait en deux temps : \n",
    "\n",
    "* En premier, la création d'une *connexion* à la base\n",
    "* Ensuite, la création d'un *curseur* à partir de la *connexion*, qui permet de travailler sur la base\n",
    "\n",
    "*Note* : Cette façon de faire se retrouve dans la plupart des autres langages de programmation.\n",
    "\n",
    "Ainsi, pour pouvoir accéder à notre base de donnée *airbnb.sqlite* en python, il vous suffit d'utiliser le code suivant : "
   ]
  },
  {
   "cell_type": "code",
   "execution_count": 4,
   "metadata": {},
   "outputs": [
    {
     "name": "stdout",
     "output_type": "stream",
     "text": [
      "(0, 'Bachut - Transvaal')\n",
      "(1, \"Bas des pentes / presqu'île\")\n",
      "(2, 'Bellecour - Carnot')\n",
      "(3, 'Bellecour - Cordeliers')\n",
      "(4, 'Champvert - Gorge de Loup')\n"
     ]
    }
   ],
   "source": [
    "# import du module\n",
    "import sqlite3\n",
    "\n",
    "# Création de la connexion\n",
    "cnx = sqlite3.connect('airbnb.sqlite')\n",
    "\n",
    "# Création d'un curseur\n",
    "curs = cnx.cursor()\n",
    "\n",
    "# Execution d'une requête\n",
    "curs.execute('SELECT * FROM neighborhood LIMIT 0,5')\n",
    "\n",
    "# fetchall() recupère tous les résultats de la requête. \n",
    "result = curs.fetchall()\n",
    "for row in result:\n",
    "    print(row)"
   ]
  },
  {
   "cell_type": "markdown",
   "metadata": {},
   "source": [
    "On remarquera que chaque ligne de résultat est sous forme de tuple.\n",
    "\n",
    "Voici le même code python, mais modifié pour obtenir les résultats sous forme **de dictionnaire** :"
   ]
  },
  {
   "cell_type": "code",
   "execution_count": 6,
   "metadata": {},
   "outputs": [
    {
     "name": "stdout",
     "output_type": "stream",
     "text": [
      "{'id': 0, 'name': 'Bachut - Transvaal'}\n",
      "{'id': 1, 'name': \"Bas des pentes / presqu'île\"}\n",
      "{'id': 2, 'name': 'Bellecour - Carnot'}\n",
      "{'id': 3, 'name': 'Bellecour - Cordeliers'}\n",
      "{'id': 4, 'name': 'Champvert - Gorge de Loup'}\n"
     ]
    }
   ],
   "source": [
    "# import du module\n",
    "import sqlite3\n",
    "\n",
    "# Définition d'une fonction qui transforme chaque résultat en dictionnaire\n",
    "def dict_factory(cursor, row):\n",
    "    d = {}\n",
    "    for idx, col in enumerate(cursor.description):\n",
    "        d[col[0]] = row[idx]\n",
    "    return d\n",
    "\n",
    "# Création de la connexion\n",
    "cnx = sqlite3.connect('airbnb.sqlite')\n",
    "\n",
    "# Définition de la \"row factory\" qui utilise la fonction définie ci-dessus.\n",
    "cnx.row_factory = dict_factory\n",
    "\n",
    "# Création d'un curseur\n",
    "curs = cnx.cursor()\n",
    "\n",
    "# Execution d'une requête\n",
    "curs.execute('SELECT * FROM neighborhood LIMIT 0,5')\n",
    "\n",
    "# fetchall() recupère tous les résultats de la requête. \n",
    "result = curs.fetchall()\n",
    "for row in result:\n",
    "    print(row)"
   ]
  },
  {
   "cell_type": "markdown",
   "metadata": {},
   "source": [
    "  \n",
    "  \n",
    " \n",
    "Pour plus d'informations :   \n",
    "**Documentation du module** : https://docs.python.org/3.7/library/sqlite3.html"
   ]
  },
  {
   "cell_type": "markdown",
   "metadata": {},
   "source": [
    "### 2.2 - Exercices\n",
    "\n",
    "\n",
    "Reprenez tous les exercices de la première partie, mais en utilisant la base de donnée."
   ]
  },
  {
   "cell_type": "markdown",
   "metadata": {},
   "source": [
    "----\n",
    "\n",
    "## Partie 3 - CSV et Pandas\n",
    "\n",
    "\n",
    "Lors de la formation à distance, vous apprendrez à utiliser un module particulièrement puissant : Pandas.  \n",
    "\n",
    "Pandas est l'outil de prédilection en Python dès lors qu'il s'agit de traiter des fichiers CSV volumineux.  \n",
    "\n",
    "Lorsque vous aurez appris à utiliser Pandas, je vous invite à refaire les exercices avec le fichier airbnb.csv.  \n",
    "\n",
    "Je vous recommande cette \"cheat sheet\" très complète : https://pandas.pydata.org/Pandas_Cheat_Sheet.pdf"
   ]
  },
  {
   "cell_type": "markdown",
   "metadata": {},
   "source": [
    "----\n",
    "## En conclusion\n",
    "\n",
    "à l'issue de ce document, vous aurez appris à utiliser Python pour traiter des données dans 3 formats différents, et en tirer des informations pour faciliter leur analyse.\n",
    "\n",
    "Dans la suite de votre formation, vous approfondirez ces techniques et découvrirez d'autres outils. Je vous invite à réutiliser ces jeux de données pour tester vos nouvelles compétences."
   ]
  }
 ],
 "metadata": {
  "kernelspec": {
   "display_name": "Python 3 (ipykernel)",
   "language": "python",
   "name": "python3"
  },
  "language_info": {
   "codemirror_mode": {
    "name": "ipython",
    "version": 3
   },
   "file_extension": ".py",
   "mimetype": "text/x-python",
   "name": "python",
   "nbconvert_exporter": "python",
   "pygments_lexer": "ipython3",
   "version": "3.9.12"
  }
 },
 "nbformat": 4,
 "nbformat_minor": 4
}
