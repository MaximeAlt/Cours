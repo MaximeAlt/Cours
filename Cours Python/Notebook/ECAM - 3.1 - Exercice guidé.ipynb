{
 "cells": [
  {
   "cell_type": "markdown",
   "metadata": {},
   "source": [
    "\n",
    "<section style=\"position:relative; width:100%;\">\n",
    "\n",
    "<div style=\"display:inline-block;\">\n",
    "<img src=\"images/ioapps_small.png\" style=\"width:200px;\" /> \n",
    "<p> Formateur :<br /> Pierre-Olivier Simonard <br />\n",
    "<a href=\"mailto:pierre.olivier.simonard@gmail.com\">pierre.olivier.simonard@gmail.com</a></p>\n",
    "</div>\n",
    "\n",
    "<div style=\"display:inline-block; float:right\">\n",
    "    <h3>ICAM </h3>\n",
    "    <p>Formation Data Science</p>\n",
    "    <p>Novembre 2022</p>\n",
    "    <img src=\"https://mirrors.creativecommons.org/presskit/buttons/88x31/png/by-nc-sa.eu.png\"  width=\"100px\" />\n",
    "</div>\n",
    "\n",
    "</section>\n",
    "\n",
    "\n",
    "<h1 style=\"text-align: center; width:100%\">Programmation Python</h1>\n",
    "<h2 style=\"text-align: center; width:100%\">Partie 3.1 : Opérateurs de comparaison, Conditionnelles et opérateurs logiques <br /> Exercice guidé </h2>\n",
    "\n",
    "<!--  \n",
    "Novembre 2022\n",
    "Pierre-Oliver Simonard - pierre.olivier.simonard@gmail.com\n",
    "-->\n",
    "\n",
    "<style>\n",
    "div.warn {    \n",
    "    background-color: #fcf2f2;\n",
    "    border-color: #dFb5b4;\n",
    "    border-left: 5px solid #dfb5b4;\n",
    "    padding: 0.5em;\n",
    "    }\n",
    "</style>"
   ]
  },
  {
   "cell_type": "markdown",
   "metadata": {},
   "source": [
    "### Exercice 1 : Valeur absolue\n",
    "\n",
    "Ecrivez un programme qui demande à l'utilisateur de saisir une valeur (entière ou flotante). \n",
    "Puis, à l'aide de if/else, affichez la valeur absolue de la valeur saisie."
   ]
  },
  {
   "cell_type": "code",
   "execution_count": 8,
   "metadata": {
    "tags": []
   },
   "outputs": [
    {
     "name": "stdin",
     "output_type": "stream",
     "text": [
      "valeur? -15.6\n"
     ]
    },
    {
     "name": "stdout",
     "output_type": "stream",
     "text": [
      "15.6\n"
     ]
    }
   ],
   "source": [
    "val= float(input (\"valeur?\"))\n",
    "if val < 0 :\n",
    "    val2 = val - val*2\n",
    "else :\n",
    "    val2 = val\n",
    "\n",
    "print(val2)\n",
    "\n"
   ]
  },
  {
   "cell_type": "markdown",
   "metadata": {},
   "source": [
    "### Exercice 2 : Maximum de 3 nombres\n",
    "\n",
    "Ecrivez un programme qui demande à l'utilisateur de saisir 3 nombres, et qui affiche le plus grand de ces trois nombres."
   ]
  },
  {
   "cell_type": "code",
   "execution_count": 37,
   "metadata": {},
   "outputs": [
    {
     "name": "stdin",
     "output_type": "stream",
     "text": [
      "val1 5\n",
      "val2 6\n",
      "val3 4\n"
     ]
    },
    {
     "name": "stdout",
     "output_type": "stream",
     "text": [
      "la valeur la plus elevé est : 6.0\n"
     ]
    }
   ],
   "source": [
    "val1 = float( input('val1'))\n",
    "val2 = float(input('val2'))\n",
    "val3 = float(input('val3'))\n",
    "\n",
    "if val > val2 and val1>val3:\n",
    "    print(\"la valeur la plus elevé est : \"+ str(val1))\n",
    "elif val2 > val1 and val2 > val3 :\n",
    "    print(\"la valeur la plus elevé est : \"+ str(val2))\n",
    "elif val3 > val1 and val3 > val2: \n",
    "    print(\"la valeur la plus elevé est : \"+ str(val3))\n",
    "else : \n",
    "    print(\"au moins 2 valeurs sont égaux\")"
   ]
  },
  {
   "cell_type": "markdown",
   "metadata": {},
   "source": [
    "### Exercice 3 : Calcul d'une franchise d'assurance.\n",
    "\n",
    "Quand une assurance effectue un remboursement, une franchise reste à payer par l'assuré.\n",
    "Cette franchise représente 10 % du montant du bien assuré, mais ne dépasse jamais 500€ et vaut toujours minimum 15 euros.\n",
    "\n",
    "Ecrire un programme qui demande à l'utilisateur de saisir le montant du bien qu'il a assuré, et qui calcule la franchise."
   ]
  },
  {
   "cell_type": "code",
   "execution_count": 45,
   "metadata": {},
   "outputs": [
    {
     "name": "stdin",
     "output_type": "stream",
     "text": [
      "montant du bien :  151\n"
     ]
    },
    {
     "name": "stdout",
     "output_type": "stream",
     "text": [
      "15.100000000000001\n"
     ]
    }
   ],
   "source": [
    "bien = float(input(\"montant du bien : \"))\n",
    "fanchise_max = 500\n",
    "franchise_min = 15\n",
    "taux=0.1\n",
    "franchise = bien*taux\n",
    "\n",
    "\n",
    "if franchise <franchise_min : \n",
    "    franchise= 15\n",
    "elif franchise>fanchise_max : \n",
    "    franchise = 500\n",
    "\n",
    "    \n",
    "print(franchise)"
   ]
  },
  {
   "cell_type": "markdown",
   "metadata": {
    "tags": []
   },
   "source": [
    "### Exercice 4 : Echelle de Richter\n",
    "\n",
    "L’échelle de Richter permet de décrire la magnitude des tremblements de terre :\n",
    "\n",
    "\n",
    "Magnitude|Description\n",
    "------|-------\n",
    "1 | Micro tremblement de terre, non ressenti\n",
    "2 | Très mineur. non ressenti mais détecté\n",
    "3 | Mineur. causant rarement des dommages\n",
    "4 | Léger. Secousses notables d’objets à l’intérieur des maisons\n",
    "5 | Modéré. Légers dommages aux édifices bien construits\n",
    "6 | Fort. Destructeur dans des zones allant jusqu’à 180 kilomètres à la ronde si elles sont peuplées\n",
    "7 | Majeur. Dommages modérés à sévères dans des zones plus vastes.\n",
    "8 | Important. Dommages sérieux dans des zones à des centaines de kilomètres à la ronde\n",
    "9 | Dévastateur. Dévaste des zones sur des milliers de kilomètres à la ronde\n",
    "\n",
    "Ecrivez un programme qui demande à l'utilisateur de saisir une valeur sur l'échelle de Richter, et qui affiche la description associée. Gérez également le cas où la valeur saisie est \"hors-échelle\".\n"
   ]
  },
  {
   "cell_type": "code",
   "execution_count": 48,
   "metadata": {},
   "outputs": [
    {
     "name": "stdin",
     "output_type": "stream",
     "text": [
      "magnitude? 5\n"
     ]
    },
    {
     "name": "stdout",
     "output_type": "stream",
     "text": [
      "Modéré. Légers dommages aux édifices bien construits\n"
     ]
    }
   ],
   "source": [
    "mag = int(input(\"magnitude?\"))\n",
    "\n",
    "if mag ==   1 : \n",
    "    print( \"Micro tremblement de terre, non ressenti\")\n",
    "elif mag == 2 : \n",
    "    print( \"Très mineur. non ressenti mais détecté\")\n",
    "elif mag == 3 : \n",
    "    print( \"Mineur. causant rarement des dommages\")\n",
    "elif mag == 4 : \n",
    "    print( \"Léger. Secousses notables d’objets à l’intérieur des maisons\")\n",
    "elif mag == 5 : \n",
    "    print( \"Modéré. Légers dommages aux édifices bien construits\")\n",
    "elif mag == 6 : \n",
    "    print( \"Fort. Destructeur dans des zones allant jusqu’à 180 kilomètres à la ronde si elles sont peuplées\")\n",
    "elif mag == 7 : \n",
    "    print(\" Majeur. Dommages modérés à sévères dans des zones plus vastes.\")\n",
    "elif mag == 8 : \n",
    "    print( \"Important. Dommages sérieux dans des zones à des centaines de kilomètres à la ronde\")\n",
    "elif mag == 9 : \n",
    "    print( \"Dévastateur. Dévaste des zones sur des milliers de kilomètres à la ronde\")\n",
    "else : print(\"hors echelle\")"
   ]
  },
  {
   "cell_type": "code",
   "execution_count": null,
   "metadata": {},
   "outputs": [],
   "source": []
  },
  {
   "cell_type": "markdown",
   "metadata": {
    "tags": []
   },
   "source": [
    "### Exercice 5 : Triangles\n",
    "\n",
    "Ecrivez un programme qui demande à l'utilisateur de saisie les 3 longueurs des cotés d'un triangle, et qui affiche ensuite si le triangle est équilatéral, isocèle, on quelconque."
   ]
  },
  {
   "cell_type": "code",
   "execution_count": null,
   "metadata": {},
   "outputs": [
    {
     "name": "stdin",
     "output_type": "stream",
     "text": [
      "longeur 1er coté 5\n",
      "longeur 2eme coté 4\n",
      "longeur 3eme coté 5\n"
     ]
    },
    {
     "name": "stdout",
     "output_type": "stream",
     "text": [
      "le triangle est isocèle\n"
     ]
    }
   ],
   "source": [
    "lon1 = float(input(\"longeur 1er coté\"))\n",
    "lon2 = float(input(\"longeur 2eme coté\"))\n",
    "lon3 = float(input(\"longeur 3eme coté\"))\n",
    "\n",
    "if lon1==lon2 or lon1==lon3 or lon2==lon3:\n",
    "    print(\"le triangle est isocèle\")\n",
    "elif lon1==lon2 and lon1==lon3 :\n",
    "    print(\"le triangle est équilatéral\")\n",
    "else :\n",
    "    print(\"le triangle est quelconque\")"
   ]
  },
  {
   "cell_type": "code",
   "execution_count": null,
   "metadata": {},
   "outputs": [],
   "source": []
  }
 ],
 "metadata": {
  "kernelspec": {
   "display_name": "Python 3 (ipykernel)",
   "language": "python",
   "name": "python3"
  },
  "language_info": {
   "codemirror_mode": {
    "name": "ipython",
    "version": 3
   },
   "file_extension": ".py",
   "mimetype": "text/x-python",
   "name": "python",
   "nbconvert_exporter": "python",
   "pygments_lexer": "ipython3",
   "version": "3.9.12"
  }
 },
 "nbformat": 4,
 "nbformat_minor": 4
}
