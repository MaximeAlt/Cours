{
 "cells": [
  {
   "cell_type": "markdown",
   "metadata": {},
   "source": [
    "\n",
    "<section style=\"position:relative; width:100%;\">\n",
    "\n",
    "<div style=\"display:inline-block;\">\n",
    "<img src=\"images/ioapps_small.png\" style=\"width:200px;\" /> \n",
    "<p> Formateur :<br /> Pierre-Olivier Simonard <br />\n",
    "<a href=\"mailto:pierre.olivier.simonard@gmail.com\">pierre.olivier.simonard@gmail.com</a></p>\n",
    "</div>\n",
    "\n",
    "<div style=\"display:inline-block; float:right\">\n",
    "    <h3>ICAM </h3>\n",
    "    <p>Formation Data Science</p>\n",
    "    <p>Novembre 2022</p>\n",
    "    <img src=\"https://mirrors.creativecommons.org/presskit/buttons/88x31/png/by-nc-sa.eu.png\"  width=\"100px\" />\n",
    "</div>\n",
    "\n",
    "</section>\n",
    "\n",
    "\n",
    "<h1 style=\"text-align: center; width:100%\">Programmation Python</h1>\n",
    "<h2 style=\"text-align: center; width:100%\">Partie 5.4 : Structures de données <br /> Dictionnaires <br /> Exercice guidé </h2>\n",
    "\n",
    "<!--  \n",
    "Novembre 2022\n",
    "Pierre-Oliver Simonard - pierre.olivier.simonard@gmail.com\n",
    "-->\n",
    "\n",
    "<style>\n",
    "div.warn {    \n",
    "    background-color: #fcf2f2;\n",
    "    border-color: #dFb5b4;\n",
    "    border-left: 5px solid #dfb5b4;\n",
    "    padding: 0.5em;\n",
    "    }\n",
    "</style>"
   ]
  },
  {
   "cell_type": "markdown",
   "metadata": {},
   "source": [
    "#### Exercice 1 : Liste de course\n",
    "\n",
    "Considérons les deux dictionnaires suivants :"
   ]
  },
  {
   "cell_type": "code",
   "execution_count": 2,
   "metadata": {},
   "outputs": [],
   "source": [
    "quantite = {\n",
    "    \"eau\": 1,\n",
    "    \"fruits\": 4,\n",
    "    \"legumes\": 5,\n",
    "    \"tofu\": 1,\n",
    "    \"chocolat\": 3\n",
    "}\n",
    "\n",
    "prix = {\n",
    "    \"eau\": 2.5,\n",
    "    \"fruits\": 4.4,\n",
    "    \"legumes\": 5.5,\n",
    "    \"tofu\": 20\n",
    "}"
   ]
  },
  {
   "cell_type": "markdown",
   "metadata": {},
   "source": [
    "`quantite` représente la quantité de chaque produit à acheter, et `prix` represénte le prix de chaque produit\n",
    "\n",
    "* Ecrire un programme qui construit une variable `courses`, contenant les produits en clés, et le prix total de chaque produit en valeur."
   ]
  },
  {
   "cell_type": "code",
   "execution_count": 167,
   "metadata": {},
   "outputs": [
    {
     "name": "stdout",
     "output_type": "stream",
     "text": [
      "{'eau': [1, 2.5], 'fruits': [4, 4.4], 'legumes': [5, 5.5], 'tofu': [1, 20]}\n"
     ]
    }
   ],
   "source": [
    "courses = {}\n",
    "\n",
    "for key in quantite:\n",
    "    if key in prix:\n",
    "        courses [key] = [quantite[key], prix[key]]  \n",
    "print(courses)\n"
   ]
  },
  {
   "cell_type": "code",
   "execution_count": 168,
   "metadata": {},
   "outputs": [
    {
     "name": "stdout",
     "output_type": "stream",
     "text": [
      "{'eau': 2.5, 'fruits': 17.6, 'legumes': 27.5, 'tofu': 20}\n"
     ]
    }
   ],
   "source": [
    "courses2={}\n",
    "\n",
    "for key in quantite :\n",
    "    if key in prix:\n",
    "        courses2[key] = quantite[key] * prix[key]\n",
    "        \n",
    "print(courses2)"
   ]
  },
  {
   "cell_type": "markdown",
   "metadata": {},
   "source": [
    "* à partir de courses, écrivez un programme qui calcul le prix total des courses."
   ]
  },
  {
   "cell_type": "code",
   "execution_count": 169,
   "metadata": {},
   "outputs": [
    {
     "name": "stdout",
     "output_type": "stream",
     "text": [
      "67.6\n"
     ]
    }
   ],
   "source": [
    "total= 0\n",
    "for key in courses:\n",
    "    total += courses[key][0] * courses[key][1]\n",
    "    \n",
    "print(total)"
   ]
  },
  {
   "cell_type": "code",
   "execution_count": 171,
   "metadata": {},
   "outputs": [
    {
     "name": "stdout",
     "output_type": "stream",
     "text": [
      "67.6\n"
     ]
    }
   ],
   "source": [
    "prix_total = 0\n",
    "for k in courses2 :\n",
    "    prix_total += courses2[k]\n",
    "    \n",
    "print(prix_total)"
   ]
  },
  {
   "cell_type": "markdown",
   "metadata": {},
   "source": [
    "----\n",
    "\n",
    "### Exercice 2 : Villes de France, la suite\n",
    "\n",
    "Nous allons à nouveau travailler sur le jeu de donnée représentant les 10 plus grandes villes de France, par leur population.  "
   ]
  },
  {
   "cell_type": "code",
   "execution_count": null,
   "metadata": {},
   "outputs": [],
   "source": [
    "villes = [\n",
    "    [1, \"Paris\",         2206488,  105.40],\n",
    "    [2, \"Marseille\",      861635,  240.62],\n",
    "    [3, \"Lyon\",           513275,  47.87 ],\n",
    "    [4, \"Toulouse\",       471941,  118.30],\n",
    "    [5, \"Nice\",           342522,  71.92],\n",
    "    [6, \"Nantes\",         303382,  65.19],\n",
    "    [7, \"Montpellier\",    277639,  56.88],\n",
    "    [8, \"Strasbourg\",     277270,  78.26],\n",
    "    [9, \"Bordeaux\",       249712,  49.36],\n",
    "    [10,\"Lille\",          232741,  34.51]\n",
    "]"
   ]
  },
  {
   "cell_type": "markdown",
   "metadata": {},
   "source": [
    "#### Question 1 \n",
    "\n",
    "Ecrivez un programme pour construire la liste `villes_dict`, qui représente les mêmes données mais sous forme d'une **liste de dictionnaires**.  \n",
    "Chaque dictionnaire représentera une ville, et devra contenir les clés suivants : ```\"rang\", \"nom\", \"population\", \"superficie\"```\n",
    "\n",
    "\n"
   ]
  },
  {
   "cell_type": "code",
   "execution_count": 75,
   "metadata": {},
   "outputs": [
    {
     "name": "stdout",
     "output_type": "stream",
     "text": [
      "{'rang': [0], 'nom': [1], 'population': [2], 'superficie': [3]}\n"
     ]
    }
   ],
   "source": [
    "##villes_dict= {}\n",
    "##\n",
    "##for v in villes:\n",
    "##    villes_dict [v[0]] = v[1], v[2],v[3]\n",
    "##    \n",
    "##print(villes_dict)"
   ]
  },
  {
   "cell_type": "code",
   "execution_count": 257,
   "metadata": {},
   "outputs": [
    {
     "name": "stdout",
     "output_type": "stream",
     "text": [
      "<class 'list'>\n",
      "{'rang': 1, 'nom': 'Paris', 'population': 2206488, 'superficie': 105.4}\n",
      "{'rang': 2, 'nom': 'Marseille', 'population': 861635, 'superficie': 240.62}\n",
      "{'rang': 3, 'nom': 'Lyon', 'population': 513275, 'superficie': 47.87}\n",
      "{'rang': 4, 'nom': 'Toulouse', 'population': 471941, 'superficie': 118.3}\n",
      "{'rang': 5, 'nom': 'Nice', 'population': 342522, 'superficie': 71.92}\n",
      "{'rang': 6, 'nom': 'Nantes', 'population': 303382, 'superficie': 65.19}\n",
      "{'rang': 7, 'nom': 'Montpellier', 'population': 277639, 'superficie': 56.88}\n",
      "{'rang': 8, 'nom': 'Strasbourg', 'population': 277270, 'superficie': 78.26}\n",
      "{'rang': 9, 'nom': 'Bordeaux', 'population': 249712, 'superficie': 49.36}\n",
      "{'rang': 10, 'nom': 'Lille', 'population': 232741, 'superficie': 34.51}\n"
     ]
    }
   ],
   "source": [
    "ville = []\n",
    "\n",
    "for rang, nom, population, superficie in villes:\n",
    "    villes_dict= {}   \n",
    "    \n",
    "    villes_dict [\"rang\"] = rang\n",
    "    villes_dict [\"nom\"] = nom\n",
    "    villes_dict [\"population\"] = population\n",
    "    villes_dict [\"superficie\"] = superficie\n",
    "    ville.append(villes_dict)\n",
    "print(type(ville))    \n",
    "for v in ville:\n",
    "    print(v)"
   ]
  },
  {
   "cell_type": "markdown",
   "metadata": {},
   "source": [
    "Résultat attendu : \n",
    "\n",
    "```python\n",
    "[    {'rang': 1, 'nom': 'Paris', 'population': 2206488, 'superficie': 105.4}, \n",
    "     {'rang': 2, 'nom': 'Marseille', 'population': 861635, 'superficie': 240.62}, \n",
    "     {'rang': 3, 'nom': 'Lyon', 'population': 513275, 'superficie': 47.87}, \n",
    "     {'rang': 4, 'nom': 'Toulouse', 'population': 471941, 'superficie': 118.3}, \n",
    "     {'rang': 5, 'nom': 'Nice', 'population': 342522, 'superficie': 71.92},\n",
    "     {'rang': 6, 'nom': 'Nantes', 'population': 303382, 'superficie': 65.19}, \n",
    "     {'rang': 7, 'nom': 'Montpellier', 'population': 277639, 'superficie': 56.88}, \n",
    "     {'rang': 8, 'nom': 'Strasbourg', 'population': 277270, 'superficie': 78.26}, \n",
    "     {'rang': 9, 'nom': 'Bordeaux', 'population': 249712, 'superficie': 49.36}, \n",
    "     {'rang': 10, 'nom': 'Lille', 'population': 232741, 'superficie': 34.51}\n",
    "    ]\n",
    "```"
   ]
  },
  {
   "cell_type": "markdown",
   "metadata": {},
   "source": [
    "#### Question 2 \n",
    "\n",
    "Ecrivez un programme qui modifie votre liste de dictionnaires, pour y renseigner la densité de population.\n"
   ]
  },
  {
   "cell_type": "code",
   "execution_count": 258,
   "metadata": {},
   "outputs": [
    {
     "name": "stdout",
     "output_type": "stream",
     "text": [
      "<class 'list'>\n",
      "{'rang': 1, 'nom': 'Paris', 'population': 2206488, 'superficie': 105.4, 'densite': 20934}\n",
      "{'rang': 2, 'nom': 'Marseille', 'population': 861635, 'superficie': 240.62, 'densite': 3580}\n",
      "{'rang': 3, 'nom': 'Lyon', 'population': 513275, 'superficie': 47.87, 'densite': 10722}\n",
      "{'rang': 4, 'nom': 'Toulouse', 'population': 471941, 'superficie': 118.3, 'densite': 3989}\n",
      "{'rang': 5, 'nom': 'Nice', 'population': 342522, 'superficie': 71.92, 'densite': 4762}\n",
      "{'rang': 6, 'nom': 'Nantes', 'population': 303382, 'superficie': 65.19, 'densite': 4653}\n",
      "{'rang': 7, 'nom': 'Montpellier', 'population': 277639, 'superficie': 56.88, 'densite': 4881}\n",
      "{'rang': 8, 'nom': 'Strasbourg', 'population': 277270, 'superficie': 78.26, 'densite': 3542}\n",
      "{'rang': 9, 'nom': 'Bordeaux', 'population': 249712, 'superficie': 49.36, 'densite': 5058}\n",
      "{'rang': 10, 'nom': 'Lille', 'population': 232741, 'superficie': 34.51, 'densite': 6744}\n"
     ]
    }
   ],
   "source": [
    "for v in ville : \n",
    "    densite = int(v[\"population\"] / v[\"superficie\"])\n",
    "    v[\"densite\"] = densite\n",
    "print(type(ville)) \n",
    "for v in ville :\n",
    "    print(v)"
   ]
  },
  {
   "cell_type": "markdown",
   "metadata": {},
   "source": [
    "#### Question 3\n",
    "\n",
    "Créez un dictionnaire de dictionnaire, qui associe à chaque nom de ville, un dictionnaire contenant nom, population, superficie, densité, rang ..."
   ]
  },
  {
   "cell_type": "code",
   "execution_count": 264,
   "metadata": {},
   "outputs": [
    {
     "name": "stdout",
     "output_type": "stream",
     "text": [
      "{'nom': 'Paris', 'data': ['Paris', 2206488, 105.4, 20934, 1]}\n",
      "{'nom': 'Marseille', 'data': ['Marseille', 861635, 240.62, 3580, 2]}\n",
      "{'nom': 'Lyon', 'data': ['Lyon', 513275, 47.87, 10722, 3]}\n",
      "{'nom': 'Toulouse', 'data': ['Toulouse', 471941, 118.3, 3989, 4]}\n",
      "{'nom': 'Nice', 'data': ['Nice', 342522, 71.92, 4762, 5]}\n",
      "{'nom': 'Nantes', 'data': ['Nantes', 303382, 65.19, 4653, 6]}\n",
      "{'nom': 'Montpellier', 'data': ['Montpellier', 277639, 56.88, 4881, 7]}\n",
      "{'nom': 'Strasbourg', 'data': ['Strasbourg', 277270, 78.26, 3542, 8]}\n",
      "{'nom': 'Bordeaux', 'data': ['Bordeaux', 249712, 49.36, 5058, 9]}\n",
      "{'nom': 'Lille', 'data': ['Lille', 232741, 34.51, 6744, 10]}\n"
     ]
    }
   ],
   "source": [
    "dict_v = {}\n",
    "#print(villes)\n",
    "for v in ville:\n",
    "    dict={}\n",
    "    dict[\"nom\"] = v[\"nom\"]\n",
    "    dict[\"data\"] = [v[\"nom\"], v[\"population\"], v[\"superficie\"], v[\"densite\"], v[\"rang\"]]\n",
    "    print(dict)"
   ]
  },
  {
   "cell_type": "markdown",
   "metadata": {},
   "source": [
    "#### Question 4 :\n",
    "\n",
    "Reprenons la liste des villes classées par densité décroissante, obtenues dans le chapitre précédent :\n",
    "\n"
   ]
  },
  {
   "cell_type": "code",
   "execution_count": 266,
   "metadata": {},
   "outputs": [],
   "source": [
    "liste_densite = [ ('Lille',      6744.16), \n",
    "                 ('Bordeaux',    5058.99), \n",
    "                 ('Strasbourg',  3542.93), \n",
    "                 ('Montpellier', 4881.13), \n",
    "                 ('Nantes',      4653.81), \n",
    "                 ('Nice',        4762.54), \n",
    "                 ('Toulouse',    3989.35), \n",
    "                 ('Lyon',       10722.26), \n",
    "                 ('Marseille',   3580.89), \n",
    "                 ('Paris',      20934.42) ]"
   ]
  },
  {
   "cell_type": "markdown",
   "metadata": {},
   "source": [
    "* à partir de liste_densite, ecrivez un programme qui construit une liste `villes_par_densite` et qui contient les noms des villes, dans l'ordre décroissant de densité."
   ]
  },
  {
   "cell_type": "code",
   "execution_count": 267,
   "metadata": {},
   "outputs": [
    {
     "name": "stdout",
     "output_type": "stream",
     "text": [
      "['Paris', 'Lyon', 'Lille', 'Bordeaux', 'Montpellier', 'Nice', 'Nantes', 'Toulouse', 'Marseille', 'Strasbourg']\n"
     ]
    }
   ],
   "source": [
    "villes_par_densite = []\n",
    "\n",
    "\n",
    "while len(liste_densite)>0:\n",
    "    \n",
    "    t_max = max(liste_densite, key = lambda v:v[1])\n",
    "    \n",
    "    \n",
    "    \n",
    "    villes_par_densite.append(t_max[0])\n",
    "    liste_densite.remove(t_max)\n",
    "    \n",
    "print(villes_par_densite)"
   ]
  },
  {
   "cell_type": "markdown",
   "metadata": {},
   "source": [
    "* Ecrivez un programme qui parcourt `ville_dict` et y renseigne une clé \"rang_densite\", en utilisant `villes_par_densite`"
   ]
  },
  {
   "cell_type": "code",
   "execution_count": 270,
   "metadata": {},
   "outputs": [
    {
     "name": "stdout",
     "output_type": "stream",
     "text": [
      "{'rang': 1, 'nom': 'Paris', 'population': 2206488, 'superficie': 105.4, 'densite': 20934}\n",
      "{'rang': 2, 'nom': 'Marseille', 'population': 861635, 'superficie': 240.62, 'densite': 3580}\n",
      "{'rang': 3, 'nom': 'Lyon', 'population': 513275, 'superficie': 47.87, 'densite': 10722}\n",
      "{'rang': 4, 'nom': 'Toulouse', 'population': 471941, 'superficie': 118.3, 'densite': 3989}\n",
      "{'rang': 5, 'nom': 'Nice', 'population': 342522, 'superficie': 71.92, 'densite': 4762}\n",
      "{'rang': 6, 'nom': 'Nantes', 'population': 303382, 'superficie': 65.19, 'densite': 4653}\n",
      "{'rang': 7, 'nom': 'Montpellier', 'population': 277639, 'superficie': 56.88, 'densite': 4881}\n",
      "{'rang': 8, 'nom': 'Strasbourg', 'population': 277270, 'superficie': 78.26, 'densite': 3542}\n",
      "{'rang': 9, 'nom': 'Bordeaux', 'population': 249712, 'superficie': 49.36, 'densite': 5058}\n",
      "{'rang': 10, 'nom': 'Lille', 'population': 232741, 'superficie': 34.51, 'densite': 6744}\n"
     ]
    }
   ],
   "source": [
    "for v in ville:\n",
    "    print(v)\n",
    "    "
   ]
  },
  {
   "cell_type": "code",
   "execution_count": 272,
   "metadata": {},
   "outputs": [
    {
     "name": "stdout",
     "output_type": "stream",
     "text": [
      "{'rang': 1, 'nom': 'Paris', 'population': 2206488, 'superficie': 105.4, 'densite': 20934, 'rang_densite': 1}\n",
      "{'rang': 2, 'nom': 'Marseille', 'population': 861635, 'superficie': 240.62, 'densite': 3580, 'rang_densite': 9}\n",
      "{'rang': 3, 'nom': 'Lyon', 'population': 513275, 'superficie': 47.87, 'densite': 10722, 'rang_densite': 2}\n",
      "{'rang': 4, 'nom': 'Toulouse', 'population': 471941, 'superficie': 118.3, 'densite': 3989, 'rang_densite': 8}\n",
      "{'rang': 5, 'nom': 'Nice', 'population': 342522, 'superficie': 71.92, 'densite': 4762, 'rang_densite': 6}\n",
      "{'rang': 6, 'nom': 'Nantes', 'population': 303382, 'superficie': 65.19, 'densite': 4653, 'rang_densite': 7}\n",
      "{'rang': 7, 'nom': 'Montpellier', 'population': 277639, 'superficie': 56.88, 'densite': 4881, 'rang_densite': 5}\n",
      "{'rang': 8, 'nom': 'Strasbourg', 'population': 277270, 'superficie': 78.26, 'densite': 3542, 'rang_densite': 10}\n",
      "{'rang': 9, 'nom': 'Bordeaux', 'population': 249712, 'superficie': 49.36, 'densite': 5058, 'rang_densite': 4}\n",
      "{'rang': 10, 'nom': 'Lille', 'population': 232741, 'superficie': 34.51, 'densite': 6744, 'rang_densite': 3}\n"
     ]
    }
   ],
   "source": [
    "for idx in range(len(villes_par_densite)):\n",
    "    vil = villes_par_densite[idx]\n",
    "    rang_densite = idx+1\n",
    "    for v in ville :\n",
    "        if v[\"nom\"] == vil:\n",
    "            v[\"rang_densite\"] = rang_densite\n",
    "\n",
    "for v in ville :\n",
    "    print(v)"
   ]
  }
 ],
 "metadata": {
  "kernelspec": {
   "display_name": "Python 3 (ipykernel)",
   "language": "python",
   "name": "python3"
  },
  "language_info": {
   "codemirror_mode": {
    "name": "ipython",
    "version": 3
   },
   "file_extension": ".py",
   "mimetype": "text/x-python",
   "name": "python",
   "nbconvert_exporter": "python",
   "pygments_lexer": "ipython3",
   "version": "3.9.12"
  }
 },
 "nbformat": 4,
 "nbformat_minor": 4
}
